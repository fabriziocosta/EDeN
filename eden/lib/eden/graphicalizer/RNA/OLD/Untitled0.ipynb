{
 "metadata": {
  "name": "",
  "signature": "sha256:1bb715902d5422fe0aac79edb102bb84bac4024cdc9e15ca04831bc33fda8098"
 },
 "nbformat": 3,
 "nbformat_minor": 0,
 "worksheets": [
  {
   "cells": [
    {
     "cell_type": "code",
     "collapsed": false,
     "input": [
      "import callrnashapes, createsupergraph, draw, readfasta"
     ],
     "language": "python",
     "metadata": {},
     "outputs": [],
     "prompt_number": 4
    },
    {
     "cell_type": "code",
     "collapsed": false,
     "input": [
      "seq='AAACGUUCAUCUCGUUUUACGGGCCGCAUUAAGAUUGAAGCCAAGGAACGGGGACUUCAG'\n",
      "optlist={}\n",
      "call_rna_shapes(optlist,seq,'a')"
     ],
     "language": "python",
     "metadata": {},
     "outputs": [
      {
       "ename": "NameError",
       "evalue": "name 'call_rna_shapes' is not defined",
       "output_type": "pyerr",
       "traceback": [
        "\u001b[0;31m---------------------------------------------------------------------------\u001b[0m\n\u001b[0;31mNameError\u001b[0m                                 Traceback (most recent call last)",
        "\u001b[0;32m<ipython-input-5-448c8b2947e2>\u001b[0m in \u001b[0;36m<module>\u001b[0;34m()\u001b[0m\n\u001b[1;32m      1\u001b[0m \u001b[0mseq\u001b[0m\u001b[0;34m=\u001b[0m\u001b[0;34m'AAACGUUCAUCUCGUUUUACGGGCCGCAUUAAGAUUGAAGCCAAGGAACGGGGACUUCAG'\u001b[0m\u001b[0;34m\u001b[0m\u001b[0m\n\u001b[1;32m      2\u001b[0m \u001b[0moptlist\u001b[0m\u001b[0;34m=\u001b[0m\u001b[0;34m{\u001b[0m\u001b[0;34m}\u001b[0m\u001b[0;34m\u001b[0m\u001b[0m\n\u001b[0;32m----> 3\u001b[0;31m \u001b[0mcall_rna_shapes\u001b[0m\u001b[0;34m(\u001b[0m\u001b[0moptlist\u001b[0m\u001b[0;34m,\u001b[0m\u001b[0mseq\u001b[0m\u001b[0;34m,\u001b[0m\u001b[0;34m'a'\u001b[0m\u001b[0;34m)\u001b[0m\u001b[0;34m\u001b[0m\u001b[0m\n\u001b[0m",
        "\u001b[0;31mNameError\u001b[0m: name 'call_rna_shapes' is not defined"
       ]
      }
     ],
     "prompt_number": 5
    }
   ],
   "metadata": {}
  }
 ]
}