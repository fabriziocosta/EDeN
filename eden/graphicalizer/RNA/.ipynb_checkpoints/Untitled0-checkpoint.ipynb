{
 "metadata": {
  "name": "",
  "signature": "sha256:ba80d69a4c4eb21221b45162096979c706fe22f4de23fb9e89fb00ef61a5f98b"
 },
 "nbformat": 3,
 "nbformat_minor": 0,
 "worksheets": []
}