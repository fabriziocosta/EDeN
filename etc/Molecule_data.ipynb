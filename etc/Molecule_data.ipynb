{
 "cells": [
  {
   "cell_type": "code",
   "execution_count": 1,
   "metadata": {
    "collapsed": true
   },
   "outputs": [],
   "source": [
    "import os\n",
    "import pandas as pd\n",
    "import pybel as pb\n",
    "import re"
   ]
  },
  {
   "cell_type": "markdown",
   "metadata": {},
   "source": [
    "Change working directory if necessary:"
   ]
  },
  {
   "cell_type": "code",
   "execution_count": 2,
   "metadata": {
    "collapsed": true
   },
   "outputs": [],
   "source": [
    "os.chdir('../results')"
   ]
  },
  {
   "cell_type": "code",
   "execution_count": 3,
   "metadata": {
    "collapsed": true
   },
   "outputs": [],
   "source": [
    "molecule_string = []\n",
    "casrn = []\n",
    "test_type = []\n",
    "dose = []\n",
    "dose_amount = []\n",
    "dose_units = []\n",
    "route = []\n",
    "organism = []\n",
    "source = []\n",
    "\n",
    "rootdir = '.'\n",
    "fnames = []"
   ]
  },
  {
   "cell_type": "markdown",
   "metadata": {},
   "source": [
    "The following expression traverses the current directory tree and accumulates the file names in fnames:"
   ]
  },
  {
   "cell_type": "code",
   "execution_count": 4,
   "metadata": {
    "collapsed": true
   },
   "outputs": [],
   "source": [
    "for dirpath, subdirlist, filelist in os.walk(rootdir):\n",
    "    # Remove the _cas directory, as the files there do not appear to contain valid information\n",
    "    # .DS_Store appears only on systems running OSX\n",
    "    if '_cas' in subdirlist:\n",
    "        subdirlist.remove('_cas')\n",
    "    fnames.append( [os.path.join(dirpath, name) for name in filelist if (name != '.DS_Store')] )\n"
   ]
  },
  {
   "cell_type": "markdown",
   "metadata": {},
   "source": [
    "Read each file in the list as a pybel molecule object and extract the relevant information from it (this takes a while for the whole data bank, ~5min)"
   ]
  },
  {
   "cell_type": "code",
   "execution_count": 7,
   "metadata": {
    "collapsed": false
   },
   "outputs": [],
   "source": [
    "for first_level in fnames:\n",
    "    if len(first_level):\n",
    "        print \"Processing directory \" + first_level[0].split('/')[1]\n",
    "    for f in first_level:\n",
    "        try:\n",
    "            current_mol = pb.readfile('sdf', f).next()\n",
    "        except StopIteration: # Some files are empty, in that case just skip and continue\n",
    "            print f, \" --- file empty ---\"\n",
    "            continue\n",
    "        molecule_string.append(str(current_mol).strip())\n",
    "        try:\n",
    "            tox_data = current_mol.data['chemid_tox_info'].split('\\n')[1].split()\n",
    "        except KeyError:\n",
    "            print f, \" --- no toxicology information ---\"\n",
    "            continue\n",
    "        casrn.append(current_mol.data['casrn'])\n",
    "        test_type.append(tox_data[1])\n",
    "        \n",
    "        dose_components = re.match(r\"([0-9.]+)([a-z/]+)\", tox_data[2], re.I)\n",
    "        if dose_components:\n",
    "            dose_amount.append(dose_components.groups()[0])\n",
    "            dose_units.append(dose_components.groups()[1])\n",
    "        else:\n",
    "            dose_amount.append('NA')\n",
    "            dose_units.append('NA')\n",
    "        \n",
    "        route.append(tox_data[3])\n",
    "        organism.append(tox_data[4])"
   ]
  },
  {
   "cell_type": "markdown",
   "metadata": {},
   "source": [
    "Convert the lists with the information to pandas objects and construct a data frame with them"
   ]
  },
  {
   "cell_type": "code",
   "execution_count": 8,
   "metadata": {
    "collapsed": true
   },
   "outputs": [],
   "source": [
    "d = {'molecule_string':pd.Series(molecule_string),\n",
    "     'casrn':pd.Series(casrn),\n",
    "     'test_type':pd.Series(test_type),\n",
    "     'dose_amount':pd.Series(dose_amount),\n",
    "     'dose_units':pd.Series(dose_units),\n",
    "     'route':pd.Series(route),\n",
    "     'organism':pd.Series(organism)}\n",
    "df = pd.DataFrame(d)"
   ]
  },
  {
   "cell_type": "markdown",
   "metadata": {},
   "source": [
    "Finally write the data frame to disk (change the parameters if necessary)"
   ]
  },
  {
   "cell_type": "code",
   "execution_count": 9,
   "metadata": {
    "collapsed": true
   },
   "outputs": [],
   "source": [
    "df.to_csv('../molecule_data.txt', sep='|', index=False)"
   ]
  },
  {
   "cell_type": "code",
   "execution_count": null,
   "metadata": {
    "collapsed": true
   },
   "outputs": [],
   "source": []
  }
 ],
 "metadata": {
  "kernelspec": {
   "display_name": "Python 2",
   "language": "python",
   "name": "python2"
  },
  "language_info": {
   "codemirror_mode": {
    "name": "ipython",
    "version": 2
   },
   "file_extension": ".py",
   "mimetype": "text/x-python",
   "name": "python",
   "nbconvert_exporter": "python",
   "pygments_lexer": "ipython2",
   "version": "2.7.9"
  }
 },
 "nbformat": 4,
 "nbformat_minor": 0
}
