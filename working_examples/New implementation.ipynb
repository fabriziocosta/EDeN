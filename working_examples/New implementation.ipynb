{
 "cells": [
  {
   "cell_type": "code",
   "execution_count": 12,
   "metadata": {
    "collapsed": false
   },
   "outputs": [],
   "source": [
    "from eden.converter.molecule import obabel\n",
    "import networkx as nx\n",
    "import pybel\n",
    "import requests\n",
    "import os.path"
   ]
  },
  {
   "cell_type": "code",
   "execution_count": 13,
   "metadata": {
    "collapsed": true
   },
   "outputs": [],
   "source": [
    "AID=825\n",
    "#DATA_DIR = '/Volumes/seagate/thesis/examples/data'\n",
    "DATA_DIR = '/Users/jl/uni-freiburg/thesis/EDeN/examples/3Dmodel/data'\n",
    "active_fname=DATA_DIR + '/AID%s_active.smi'%AID\n",
    "inactive_fname=DATA_DIR + '/AID%s_inactive.smi'%AID"
   ]
  },
  {
   "cell_type": "code",
   "execution_count": 14,
   "metadata": {
    "collapsed": true
   },
   "outputs": [],
   "source": [
    "def make_iterable(filename):\n",
    "    with open(filename) as f:\n",
    "        for line in f:\n",
    "            yield line.strip()"
   ]
  },
  {
   "cell_type": "code",
   "execution_count": 15,
   "metadata": {
    "collapsed": false
   },
   "outputs": [],
   "source": [
    "import datetime, time\n",
    "from numpy.random import randint\n",
    "from numpy.random import uniform\n",
    "train_test_split = .5\n",
    "n_iter = 5\n",
    "\n",
    "cache = {}\n",
    "# this will be passed as an argument to the model later on\n",
    "def pre_processor(data, model_type=\"default\", **kwargs):\n",
    "\n",
    "    # model_type = kwargs.get('mode', 'default')\n",
    "    \n",
    "    print \"Type of object entering preprocessor: \" + str(type(data))\n",
    "    \n",
    "    if model_type == \"default\":\n",
    "        iterable = obabel.obabel_to_eden(data, **kwargs)\n",
    "    elif model_type == \"3d\":\n",
    "        iterable = obabel.obabel_to_eden3d(data, cache, **kwargs)\n",
    "    print \"Type of object returned by preprocessor: \" + str(type(iterable))\n",
    "    print \"*\"*30\n",
    "    for i in iterable:\n",
    "        print \"Type of element: \"\n",
    "    return iterable\n",
    "\n",
    "from eden.graph import Vectorizer\n",
    "vectorizer = Vectorizer()\n",
    "\n",
    "from sklearn.linear_model import SGDClassifier\n",
    "estimator = SGDClassifier(class_weight='auto', shuffle=True)\n"
   ]
  },
  {
   "cell_type": "code",
   "execution_count": 16,
   "metadata": {
    "collapsed": false
   },
   "outputs": [
    {
     "name": "stdout",
     "output_type": "stream",
     "text": [
      "# positives: 48  # negatives: 50 (0.0 sec 0:00:00.000669)\n"
     ]
    }
   ],
   "source": [
    "########\n",
    "# Create iterable from files\n",
    "########\n",
    "\n",
    "iterable_pos=make_iterable(active_fname) #this is a SMILES file\n",
    "iterable_neg=make_iterable(inactive_fname) #this is a SMILES file\n",
    "model_fname=DATA_DIR + '/AID%s.model3d'%AID\n",
    "\n",
    "from itertools import tee\n",
    "iterable_pos, iterable_pos_ = tee(iterable_pos)\n",
    "iterable_neg, iterable_neg_ = tee(iterable_neg)\n",
    "\n",
    "import time\n",
    "start = time.time()\n",
    "print('# positives: %d  # negatives: %d (%.1f sec %s)'%(sum(1 for x in iterable_pos_), sum(1 for x in iterable_neg_), time.time() - start, str(datetime.timedelta(seconds=(time.time() - start)))))\n",
    "\n",
    "iterable_pos, iterable_pos_ = tee(iterable_pos)\n",
    "iterable_neg, iterable_neg_ = tee(iterable_neg)\n",
    "\n",
    "### At this point iterable_pos contains the SMILES string objects from the input file\n",
    "#for i in iterable_pos:\n",
    "#    print i\n",
    "\n",
    "### In particular, the vectorizer.fit cannot be used\n",
    "#vectorizer.fit(iterable_pos_)"
   ]
  },
  {
   "cell_type": "code",
   "execution_count": 17,
   "metadata": {
    "collapsed": false
   },
   "outputs": [],
   "source": [
    "#split train/test\n",
    "from eden.util import random_bipartition_iter\n",
    "iterable_pos_train, iterable_pos_test = random_bipartition_iter(iterable_pos, relative_size=train_test_split)\n",
    "iterable_neg_train, iterable_neg_test = random_bipartition_iter(iterable_neg, relative_size=train_test_split)\n",
    "\n",
    "#make predictive model\n",
    "from eden.model import ActiveLearningBinaryClassificationModel\n",
    "model = ActiveLearningBinaryClassificationModel( pre_processor, estimator=estimator, vectorizer=vectorizer )\n",
    "\n",
    "#optimize hyperparameters and fit model\n",
    "\n",
    "pre_processor_parameters={'k':randint(1, 10,size=n_iter),\n",
    "                         'model_type':['default'],\n",
    "                         'threshold':randint(1, 10, size=n_iter)}\n",
    "\n",
    "#print \"pre processor parameters: \" + str(pre_processor_parameters)\n",
    "vectorizer_parameters={'complexity':[2,3,4],\n",
    "                       'discretization_size':randint(3, 100,size=n_iter),\n",
    "                       'discretization_dimension':randint(3, 100,size=n_iter)}\n",
    "\n",
    "estimator_parameters={'n_iter':randint(5, 100, size=n_iter),\n",
    "                      'penalty':['l1','l2','elasticnet'],\n",
    "                      'l1_ratio':uniform(0.1,0.9, size=n_iter),\n",
    "                      'loss':['hinge', 'log', 'modified_huber', 'squared_hinge', 'perceptron'],\n",
    "                      'power_t':uniform(0.1, size=n_iter),\n",
    "                      'alpha': [10**x for x in range(-8,-2)],\n",
    "                      'eta0': [10**x for x in range(-4,-1)],\n",
    "                      'learning_rate': [\"invscaling\", \"constant\", \"optimal\"]}\n",
    "\n",
    "#print \"*\"*40\n",
    "#print \"Type of iterable_pos_train: \", str(type(iterable_pos_train))\n",
    "#for i in iterable_pos_train:\n",
    "#    print str(type(i))\n",
    "\n",
    "### The elements of iterable_pos_train are still networkx graph objects"
   ]
  },
  {
   "cell_type": "code",
   "execution_count": 18,
   "metadata": {
    "collapsed": false
   },
   "outputs": [
    {
     "name": "stdout",
     "output_type": "stream",
     "text": [
      "Type of object entering preprocessor: <type 'itertools.tee'>\n",
      "Type of object returned by preprocessor: <type 'generator'>\n",
      "******************************\n",
      "\n",
      "Failed iteration: 1/5 (at 0.0 sec; 0:00:00.000942)\n",
      "Inappropriate argument type.\n",
      "coercing to Unicode: need string or buffer, itertools.tee found\n",
      "Type of object entering preprocessor: <type 'itertools.tee'>\n",
      "Type of object returned by preprocessor: <type 'generator'>\n",
      "******************************\n",
      "\n",
      "Failed iteration: 2/5 (at 0.0 sec; 0:00:00.001836)\n",
      "Inappropriate argument type.\n",
      "coercing to Unicode: need string or buffer, itertools.tee found\n",
      "Type of object entering preprocessor: <type 'itertools.tee'>\n",
      "Type of object returned by preprocessor: <type 'generator'>\n",
      "******************************\n",
      "\n",
      "Failed iteration: 3/5 (at 0.0 sec; 0:00:00.002696)\n",
      "Inappropriate argument type.\n",
      "coercing to Unicode: need string or buffer, itertools.tee found\n",
      "Type of object entering preprocessor: <type 'itertools.tee'>\n",
      "Type of object returned by preprocessor: <type 'generator'>\n",
      "******************************\n",
      "\n",
      "Failed iteration: 4/5 (at 0.0 sec; 0:00:00.003546)\n",
      "Inappropriate argument type.\n",
      "coercing to Unicode: need string or buffer, itertools.tee found\n",
      "Type of object entering preprocessor: <type 'itertools.tee'>\n",
      "Type of object returned by preprocessor: <type 'generator'>\n",
      "******************************\n",
      "\n",
      "Failed iteration: 5/5 (at 0.0 sec; 0:00:00.004380)\n",
      "Inappropriate argument type.\n",
      "coercing to Unicode: need string or buffer, itertools.tee found\n",
      "Classifier:\n",
      "None\n",
      "--------------------------------------------------------------------------------\n"
     ]
    },
    {
     "ename": "AttributeError",
     "evalue": "'NoneType' object has no attribute 'set_params'",
     "output_type": "error",
     "traceback": [
      "\u001b[0;31m---------------------------------------------------------------------------\u001b[0m",
      "\u001b[0;31mAttributeError\u001b[0m                            Traceback (most recent call last)",
      "\u001b[0;32m<ipython-input-18-fd95fe8b294e>\u001b[0m in \u001b[0;36m<module>\u001b[0;34m()\u001b[0m\n\u001b[1;32m     11\u001b[0m \u001b[0;34m\u001b[0m\u001b[0m\n\u001b[1;32m     12\u001b[0m \u001b[0;31m#estimate predictive performance\u001b[0m\u001b[0;34m\u001b[0m\u001b[0;34m\u001b[0m\u001b[0m\n\u001b[0;32m---> 13\u001b[0;31m \u001b[0mmodel\u001b[0m\u001b[0;34m.\u001b[0m\u001b[0mestimate\u001b[0m\u001b[0;34m(\u001b[0m \u001b[0miterable_pos_test\u001b[0m\u001b[0;34m,\u001b[0m \u001b[0miterable_neg_test\u001b[0m \u001b[0;34m)\u001b[0m\u001b[0;34m\u001b[0m\u001b[0m\n\u001b[0m",
      "\u001b[0;32m/Users/jl/anaconda/lib/python2.7/site-packages/eden/model.pyc\u001b[0m in \u001b[0;36mestimate\u001b[0;34m(self, iterable_pos, iterable_neg, n_jobs)\u001b[0m\n\u001b[1;32m    121\u001b[0m         \u001b[0;32mprint\u001b[0m \u001b[0mself\u001b[0m\u001b[0;34m.\u001b[0m\u001b[0mestimator\u001b[0m\u001b[0;34m\u001b[0m\u001b[0m\n\u001b[1;32m    122\u001b[0m         \u001b[0;32mprint\u001b[0m \u001b[0;34m'-'\u001b[0m \u001b[0;34m*\u001b[0m \u001b[0;36m80\u001b[0m\u001b[0;34m\u001b[0m\u001b[0m\n\u001b[0;32m--> 123\u001b[0;31m         \u001b[0mX\u001b[0m\u001b[0;34m,\u001b[0m \u001b[0my\u001b[0m \u001b[0;34m=\u001b[0m \u001b[0mself\u001b[0m\u001b[0;34m.\u001b[0m\u001b[0m_data_matrices\u001b[0m\u001b[0;34m(\u001b[0m\u001b[0miterable_pos\u001b[0m\u001b[0;34m,\u001b[0m \u001b[0miterable_neg\u001b[0m\u001b[0;34m,\u001b[0m \u001b[0mn_jobs\u001b[0m\u001b[0;34m=\u001b[0m\u001b[0mn_jobs\u001b[0m\u001b[0;34m)\u001b[0m\u001b[0;34m\u001b[0m\u001b[0m\n\u001b[0m\u001b[1;32m    124\u001b[0m         \u001b[0;32mprint\u001b[0m \u001b[0;34m'Instances: %d ; Features: %d with an avg of %d features per instance'\u001b[0m \u001b[0;34m%\u001b[0m \u001b[0;34m(\u001b[0m\u001b[0mX\u001b[0m\u001b[0;34m.\u001b[0m\u001b[0mshape\u001b[0m\u001b[0;34m[\u001b[0m\u001b[0;36m0\u001b[0m\u001b[0;34m]\u001b[0m\u001b[0;34m,\u001b[0m \u001b[0mX\u001b[0m\u001b[0;34m.\u001b[0m\u001b[0mshape\u001b[0m\u001b[0;34m[\u001b[0m\u001b[0;36m1\u001b[0m\u001b[0;34m]\u001b[0m\u001b[0;34m,\u001b[0m  \u001b[0mX\u001b[0m\u001b[0;34m.\u001b[0m\u001b[0mgetnnz\u001b[0m\u001b[0;34m(\u001b[0m\u001b[0;34m)\u001b[0m \u001b[0;34m/\u001b[0m \u001b[0mX\u001b[0m\u001b[0;34m.\u001b[0m\u001b[0mshape\u001b[0m\u001b[0;34m[\u001b[0m\u001b[0;36m0\u001b[0m\u001b[0;34m]\u001b[0m\u001b[0;34m)\u001b[0m\u001b[0;34m\u001b[0m\u001b[0m\n\u001b[1;32m    125\u001b[0m         \u001b[0;32mprint\u001b[0m \u001b[0;34m'-'\u001b[0m \u001b[0;34m*\u001b[0m \u001b[0;36m80\u001b[0m\u001b[0;34m\u001b[0m\u001b[0m\n",
      "\u001b[0;32m/Users/jl/anaconda/lib/python2.7/site-packages/eden/model.pyc\u001b[0m in \u001b[0;36m_data_matrices\u001b[0;34m(self, iterable_pos, iterable_neg, fit_vectorizer, n_jobs)\u001b[0m\n\u001b[1;32m     67\u001b[0m     \u001b[0;32mdef\u001b[0m \u001b[0m_data_matrices\u001b[0m\u001b[0;34m(\u001b[0m\u001b[0mself\u001b[0m\u001b[0;34m,\u001b[0m \u001b[0miterable_pos\u001b[0m\u001b[0;34m,\u001b[0m \u001b[0miterable_neg\u001b[0m\u001b[0;34m,\u001b[0m \u001b[0mfit_vectorizer\u001b[0m\u001b[0;34m=\u001b[0m\u001b[0mFalse\u001b[0m\u001b[0;34m,\u001b[0m \u001b[0mn_jobs\u001b[0m\u001b[0;34m=\u001b[0m\u001b[0;36m1\u001b[0m\u001b[0;34m)\u001b[0m\u001b[0;34m:\u001b[0m\u001b[0;34m\u001b[0m\u001b[0m\n\u001b[1;32m     68\u001b[0m         \u001b[0;32massert\u001b[0m\u001b[0;34m(\u001b[0m\u001b[0mis_iterable\u001b[0m\u001b[0;34m(\u001b[0m\u001b[0miterable_pos\u001b[0m\u001b[0;34m)\u001b[0m \u001b[0;32mand\u001b[0m \u001b[0mis_iterable\u001b[0m\u001b[0;34m(\u001b[0m\u001b[0miterable_neg\u001b[0m\u001b[0;34m)\u001b[0m\u001b[0;34m)\u001b[0m\u001b[0;34m,\u001b[0m \u001b[0;34m'Not iterable'\u001b[0m\u001b[0;34m\u001b[0m\u001b[0m\n\u001b[0;32m---> 69\u001b[0;31m         \u001b[0mself\u001b[0m\u001b[0;34m.\u001b[0m\u001b[0mvectorizer\u001b[0m\u001b[0;34m.\u001b[0m\u001b[0mset_params\u001b[0m\u001b[0;34m(\u001b[0m\u001b[0;34m**\u001b[0m\u001b[0mself\u001b[0m\u001b[0;34m.\u001b[0m\u001b[0mvectorizer_args\u001b[0m\u001b[0;34m)\u001b[0m\u001b[0;34m\u001b[0m\u001b[0m\n\u001b[0m\u001b[1;32m     70\u001b[0m         \u001b[0miterator_pos\u001b[0m \u001b[0;34m=\u001b[0m \u001b[0mself\u001b[0m\u001b[0;34m.\u001b[0m\u001b[0mpre_processor\u001b[0m\u001b[0;34m(\u001b[0m\u001b[0miterable_pos\u001b[0m\u001b[0;34m,\u001b[0m \u001b[0;34m**\u001b[0m\u001b[0mself\u001b[0m\u001b[0;34m.\u001b[0m\u001b[0mpre_processor_args\u001b[0m\u001b[0;34m)\u001b[0m\u001b[0;34m\u001b[0m\u001b[0m\n\u001b[1;32m     71\u001b[0m         \u001b[0;32mif\u001b[0m \u001b[0mfit_vectorizer\u001b[0m\u001b[0;34m:\u001b[0m\u001b[0;34m\u001b[0m\u001b[0m\n",
      "\u001b[0;31mAttributeError\u001b[0m: 'NoneType' object has no attribute 'set_params'"
     ]
    }
   ],
   "source": [
    "model.optimize(iterable_pos_train, iterable_neg_train,\n",
    "               model_name=model_fname,\n",
    "               fit_vectorizer=True,\n",
    "               n_active_learning_iterations=0,\n",
    "               size_positive=-1,\n",
    "               size_negative=500,\n",
    "               n_iter=n_iter, cv=3, n_jobs=1, verbose=1,\n",
    "               pre_processor_parameters=pre_processor_parameters,\n",
    "               vectorizer_parameters=vectorizer_parameters,\n",
    "               estimator_parameters=estimator_parameters)\n",
    "\n",
    "#estimate predictive performance\n",
    "model.estimate( iterable_pos_test, iterable_neg_test )"
   ]
  },
  {
   "cell_type": "code",
   "execution_count": null,
   "metadata": {
    "collapsed": true
   },
   "outputs": [],
   "source": []
  }
 ],
 "metadata": {
  "kernelspec": {
   "display_name": "Python 2",
   "language": "python",
   "name": "python2"
  },
  "language_info": {
   "codemirror_mode": {
    "name": "ipython",
    "version": 2
   },
   "file_extension": ".py",
   "mimetype": "text/x-python",
   "name": "python",
   "nbconvert_exporter": "python",
   "pygments_lexer": "ipython2",
   "version": "2.7.9"
  }
 },
 "nbformat": 4,
 "nbformat_minor": 0
}
