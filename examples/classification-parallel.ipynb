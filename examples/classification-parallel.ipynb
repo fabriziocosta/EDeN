{
 "cells": [
  {
   "cell_type": "markdown",
   "metadata": {},
   "source": [
    "# Classification"
   ]
  },
  {
   "cell_type": "markdown",
   "metadata": {},
   "source": [
    "Install the library \n",
    "\n",
    "    pip install git+https://github.com/fabriziocosta/EDeN.git --user"
   ]
  },
  {
   "cell_type": "code",
   "execution_count": 1,
   "metadata": {
    "collapsed": true
   },
   "outputs": [],
   "source": [
    "from eden.util import configure_logging\n",
    "import logging\n",
    "configure_logging(logging.getLogger(),verbosity=1)"
   ]
  },
  {
   "cell_type": "code",
   "execution_count": 2,
   "metadata": {
    "collapsed": true
   },
   "outputs": [],
   "source": [
    "from eden.graph import Vectorizer\n",
    "vectorizer = Vectorizer(4, triangular_decomposition=True)"
   ]
  },
  {
   "cell_type": "code",
   "execution_count": 3,
   "metadata": {
    "collapsed": false,
    "scrolled": true
   },
   "outputs": [],
   "source": [
    "def experiment_run(n_iter_search=None, dataset_names=None):\n",
    "    from time import time\n",
    "    train_test_split=.7\n",
    "    results=[]\n",
    "    for i,dataset in enumerate(dataset_names):\n",
    "        start=time()\n",
    "        print\n",
    "        print '-'*80\n",
    "        print 'Working with dataset: %s [%d/%d]' % (dataset,i+1,len(dataset_names)) \n",
    "        pos_dataset_fname = 'NCI60/' + dataset + '_orig_pos.gspan'\n",
    "        neg_dataset_fname = 'NCI60/' + dataset + '_orig_neg.gspan'\n",
    "\n",
    "        from eden.converter.graph.gspan import gspan_to_eden\n",
    "        iterable_pos = gspan_to_eden(pos_dataset_fname)\n",
    "        iterable_neg = gspan_to_eden(neg_dataset_fname)\n",
    "\n",
    "        #split train/test\n",
    "        from eden.util import random_bipartition_iter\n",
    "        iterable_pos_train, iterable_pos_test = random_bipartition_iter(iterable_pos, relative_size=train_test_split)\n",
    "        iterable_neg_train, iterable_neg_test = random_bipartition_iter(iterable_neg, relative_size=train_test_split)\n",
    "\n",
    "        from eden.util import fit\n",
    "        estimator = fit(iterable_pos_train, \n",
    "                        iterable_neg_train, \n",
    "                        vectorizer, \n",
    "                        fit_flag=False, \n",
    "                        n_jobs=-1, \n",
    "                        cv=10, \n",
    "                        n_iter_search=n_iter_search, \n",
    "                        random_state=1, \n",
    "                        block_size=100)\n",
    "\n",
    "        from eden.util import estimate\n",
    "        apr, roc = estimate(iterable_pos_test,\n",
    "                            iterable_neg_test,  \n",
    "                            estimator, \n",
    "                            vectorizer, \n",
    "                            block_size=100, \n",
    "                            n_jobs=-1)\n",
    "        delta_time=(time()-start)\n",
    "        print 'Time elapsed: %.1f sec'%(delta_time)\n",
    "        results.append((dataset,apr, roc,delta_time))\n",
    "    return results"
   ]
  },
  {
   "cell_type": "markdown",
   "metadata": {},
   "source": [
    "### default estimator configuration"
   ]
  },
  {
   "cell_type": "code",
   "execution_count": 5,
   "metadata": {
    "collapsed": true
   },
   "outputs": [],
   "source": [
    "dataset_names = !cat NCI60/names\n",
    "dataset_names = dataset_names[0:2]"
   ]
  },
  {
   "cell_type": "code",
   "execution_count": 6,
   "metadata": {
    "collapsed": false,
    "scrolled": false
   },
   "outputs": [
    {
     "name": "stdout",
     "output_type": "stream",
     "text": [
      "\n",
      "--------------------------------------------------------------------------------\n",
      "Working with dataset: HCT_15_t [1/2]\n",
      "Test set\n",
      "Instances: 1089 ; Features: 1048577 with an avg of 473 features per instance\n",
      "--------------------------------------------------------------------------------\n",
      "Test Estimate\n",
      "             precision    recall  f1-score   support\n",
      "\n",
      "         -1       0.72      0.70      0.71       510\n",
      "          1       0.74      0.76      0.75       579\n",
      "\n",
      "avg / total       0.73      0.73      0.73      1089\n",
      "\n",
      "APR: 0.787\n",
      "ROC: 0.786\n",
      "Cross-validated estimate\n",
      "            accuracy: 0.681 +- 0.018\n",
      "           precision: 0.707 +- 0.015\n",
      "              recall: 0.688 +- 0.072\n",
      "                  f1: 0.695 +- 0.032\n",
      "   average_precision: 0.748 +- 0.033\n",
      "             roc_auc: 0.732 +- 0.029\n",
      "Time elapsed: 27.9 sec\n",
      "\n",
      "--------------------------------------------------------------------------------\n",
      "Working with dataset: HL_60_TB_t [2/2]\n",
      "Test set\n",
      "Instances: 988 ; Features: 1048577 with an avg of 492 features per instance\n",
      "--------------------------------------------------------------------------------\n",
      "Test Estimate\n",
      "             precision    recall  f1-score   support\n",
      "\n",
      "         -1       0.60      0.64      0.62       353\n",
      "          1       0.79      0.76      0.78       635\n",
      "\n",
      "avg / total       0.72      0.72      0.72       988\n",
      "\n",
      "APR: 0.846\n",
      "ROC: 0.770\n",
      "Cross-validated estimate\n",
      "            accuracy: 0.691 +- 0.018\n",
      "           precision: 0.766 +- 0.043\n",
      "              recall: 0.756 +- 0.046\n",
      "                  f1: 0.759 +- 0.011\n",
      "   average_precision: 0.800 +- 0.043\n",
      "             roc_auc: 0.719 +- 0.039\n",
      "Time elapsed: 26.8 sec\n",
      "CPU times: user 27.6 s, sys: 4.92 s, total: 32.5 s\n",
      "Wall time: 54.7 s\n"
     ]
    }
   ],
   "source": [
    "%%time\n",
    "results_deafault = experiment_run(n_iter_search=1, dataset_names=dataset_names)"
   ]
  },
  {
   "cell_type": "markdown",
   "metadata": {},
   "source": [
    "### hyper parameters optimization"
   ]
  },
  {
   "cell_type": "code",
   "execution_count": 8,
   "metadata": {
    "collapsed": false,
    "scrolled": true
   },
   "outputs": [
    {
     "name": "stdout",
     "output_type": "stream",
     "text": [
      "\n",
      "--------------------------------------------------------------------------------\n",
      "Working with dataset: HCT_15_t [1/2]\n",
      "Test set\n",
      "Instances: 1089 ; Features: 1048577 with an avg of 473 features per instance\n",
      "--------------------------------------------------------------------------------\n",
      "Test Estimate\n",
      "             precision    recall  f1-score   support\n",
      "\n",
      "         -1       0.70      0.66      0.68       510\n",
      "          1       0.72      0.75      0.74       579\n",
      "\n",
      "avg / total       0.71      0.71      0.71      1089\n",
      "\n",
      "APR: 0.773\n",
      "ROC: 0.767\n",
      "Cross-validated estimate\n",
      "            accuracy: 0.685 +- 0.018\n",
      "           precision: 0.715 +- 0.025\n",
      "              recall: 0.682 +- 0.053\n",
      "                  f1: 0.696 +- 0.024\n",
      "   average_precision: 0.748 +- 0.020\n",
      "             roc_auc: 0.736 +- 0.026\n",
      "Time elapsed: 249.1 sec\n",
      "\n",
      "--------------------------------------------------------------------------------\n",
      "Working with dataset: HL_60_TB_t [2/2]\n",
      "Test set\n",
      "Instances: 988 ; Features: 1048577 with an avg of 492 features per instance\n",
      "--------------------------------------------------------------------------------\n",
      "Test Estimate\n",
      "             precision    recall  f1-score   support\n",
      "\n",
      "         -1       0.62      0.59      0.60       353\n",
      "          1       0.78      0.80      0.79       635\n",
      "\n",
      "avg / total       0.72      0.72      0.72       988\n",
      "\n",
      "APR: 0.844\n",
      "ROC: 0.768\n",
      "Cross-validated estimate\n",
      "            accuracy: 0.679 +- 0.013\n",
      "           precision: 0.732 +- 0.030\n",
      "              recall: 0.797 +- 0.046\n",
      "                  f1: 0.761 +- 0.010\n",
      "   average_precision: 0.802 +- 0.046\n",
      "             roc_auc: 0.718 +- 0.039\n",
      "Time elapsed: 160.6 sec\n",
      "CPU times: user 48.7 s, sys: 27.1 s, total: 1min 15s\n",
      "Wall time: 6min 49s\n"
     ]
    }
   ],
   "source": [
    "%%time\n",
    "results_opt = experiment_run(n_iter_search=10, dataset_names=dataset_names)"
   ]
  },
  {
   "cell_type": "code",
   "execution_count": 9,
   "metadata": {
    "collapsed": false
   },
   "outputs": [
    {
     "ename": "NameError",
     "evalue": "name 'datset' is not defined",
     "output_type": "error",
     "traceback": [
      "\u001b[0;31m---------------------------------------------------------------------------\u001b[0m",
      "\u001b[0;31mNameError\u001b[0m                                 Traceback (most recent call last)",
      "\u001b[0;32m<ipython-input-9-f9f3386f9866>\u001b[0m in \u001b[0;36m<module>\u001b[0;34m()\u001b[0m\n\u001b[1;32m      1\u001b[0m \u001b[0;32mfor\u001b[0m \u001b[0mdataset\u001b[0m\u001b[0;34m,\u001b[0m \u001b[0mapr\u001b[0m\u001b[0;34m,\u001b[0m \u001b[0mroc\u001b[0m\u001b[0;34m,\u001b[0m \u001b[0mdelta_time\u001b[0m \u001b[0;32min\u001b[0m \u001b[0mresults_deafault\u001b[0m\u001b[0;34m:\u001b[0m\u001b[0;34m\u001b[0m\u001b[0m\n\u001b[0;32m----> 2\u001b[0;31m     \u001b[0;32mprint\u001b[0m \u001b[0mdatset\u001b[0m\u001b[0;34m\u001b[0m\u001b[0m\n\u001b[0m",
      "\u001b[0;31mNameError\u001b[0m: name 'datset' is not defined"
     ]
    }
   ],
   "source": [
    "for dataset, apr, roc, delta_time in results_deafault:\n",
    "    print datset"
   ]
  },
  {
   "cell_type": "code",
   "execution_count": null,
   "metadata": {
    "collapsed": false
   },
   "outputs": [],
   "source": [
    "%matplotlib inline\n",
    "import pylab as plt\n",
    "d_dat=[roc for dataset, apr, roc, delta_time in results_deafault]\n",
    "o_dat=[roc for dataset, apr, roc, delta_time in results_opt]\n",
    "my_xticks = [dataset for dataset, apr, roc, delta_time in results_opt]\n",
    "x = range(len(results_deafault))\n",
    "\n",
    "plt.figure(figsize=(12,6))\n",
    "plt.title(\"Comparison predictive performance w/o hyper parameter optimization\")\n",
    "plt.xlabel(\"Dataset\")\n",
    "plt.ylabel(\"ROC\")\n",
    "plt.grid()\n",
    "plt.plot(x,d_dat,label='default')\n",
    "plt.xticks(x, my_xticks,rotation=45)\n",
    "plt.plot(x,o_dat,label='optimised')\n",
    "plt.legend(loc='upper center', shadow=True)\n",
    "plt.show()"
   ]
  },
  {
   "cell_type": "markdown",
   "metadata": {},
   "source": [
    "."
   ]
  }
 ],
 "metadata": {
  "kernelspec": {
   "display_name": "Python 2",
   "language": "python",
   "name": "python2"
  },
  "language_info": {
   "codemirror_mode": {
    "name": "ipython",
    "version": 2
   },
   "file_extension": ".py",
   "mimetype": "text/x-python",
   "name": "python",
   "nbconvert_exporter": "python",
   "pygments_lexer": "ipython2",
   "version": "2.7.10"
  }
 },
 "nbformat": 4,
 "nbformat_minor": 0
}
