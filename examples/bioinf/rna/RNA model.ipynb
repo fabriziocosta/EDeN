{
 "cells": [
  {
   "cell_type": "code",
   "execution_count": 9,
   "metadata": {
    "collapsed": true
   },
   "outputs": [],
   "source": [
    "from eden.util import configure_logging\n",
    "import logging\n",
    "configure_logging(logging.getLogger(),verbosity=2)"
   ]
  },
  {
   "cell_type": "code",
   "execution_count": 10,
   "metadata": {
    "collapsed": false
   },
   "outputs": [],
   "source": [
    "rfam_id = 'RF02275' #Hammerhead_HH9\n",
    "rfam_id = 'RF00871' #microRNA mir-689\n",
    "rfam_id = 'RF00005' #tRNA\n",
    "\n",
    "def rfam_uri(family_id):\n",
    "    return 'http://rfam.xfam.org/family/%s/alignment?acc=%s&format=fastau&download=0'%(family_id,family_id)\n",
    "def rfam_uri(family_id):\n",
    "    return '%s.fa'%(family_id)"
   ]
  },
  {
   "cell_type": "code",
   "execution_count": 11,
   "metadata": {
    "collapsed": false
   },
   "outputs": [
    {
     "name": "stdout",
     "output_type": "stream",
     "text": [
      "CPU times: user 414 ms, sys: 189 ms, total: 603 ms\n",
      "Wall time: 5.2 s\n"
     ]
    }
   ],
   "source": [
    "%%time\n",
    "from eden.converter.fasta import fasta_to_sequence\n",
    "pos_seqs = fasta_to_sequence(rfam_uri(rfam_id))\n",
    "from eden.converter.rna.rnafold import rnafold_to_eden\n",
    "pre_processor_args={'max_num':3,'shape_type':5,'energy_range':20}\n",
    "from eden.util import mp_pre_process\n",
    "pos_graphs = mp_pre_process(pos_seqs, pre_processor=rnafold_to_eden, pre_processor_args=pre_processor_args, n_blocks=5, n_jobs=4)"
   ]
  },
  {
   "cell_type": "code",
   "execution_count": 12,
   "metadata": {
    "collapsed": false
   },
   "outputs": [
    {
     "name": "stdout",
     "output_type": "stream",
     "text": [
      "CPU times: user 724 ms, sys: 259 ms, total: 983 ms\n",
      "Wall time: 10.2 s\n"
     ]
    }
   ],
   "source": [
    "%%time\n",
    "from eden.converter.fasta import fasta_to_sequence\n",
    "from eden.modifier.seq import seq_to_seq, shuffle_modifier\n",
    "neg_seqs = seq_to_seq(fasta_to_sequence(rfam_uri(rfam_id)), modifier=shuffle_modifier, times=2)\n",
    "from eden.converter.rna.rnafold import rnafold_to_eden\n",
    "from eden.util import mp_pre_process\n",
    "neg_graphs = mp_pre_process(neg_seqs, pre_processor=rnafold_to_eden, pre_processor_args=pre_processor_args, n_blocks=5, n_jobs=4)"
   ]
  },
  {
   "cell_type": "code",
   "execution_count": 13,
   "metadata": {
    "collapsed": false
   },
   "outputs": [],
   "source": [
    "train_test_split=.7\n",
    "#split train/test\n",
    "from eden.util import random_bipartition_iter\n",
    "iterable_pos_train, iterable_pos_test = random_bipartition_iter(pos_graphs, relative_size=train_test_split)\n",
    "iterable_neg_train, iterable_neg_test = random_bipartition_iter(neg_graphs, relative_size=train_test_split)"
   ]
  },
  {
   "cell_type": "code",
   "execution_count": 14,
   "metadata": {
    "collapsed": false
   },
   "outputs": [
    {
     "name": "stdout",
     "output_type": "stream",
     "text": [
      "Positive data: Instances: 667 ; Features: 1048577 with an avg of 1247 features per instance\n",
      "Negative data: Instances: 1335 ; Features: 1048577 with an avg of 1214 features per instance\n",
      "Elapsed time: 52.5 secs\n",
      "CPU times: user 15.8 s, sys: 2.31 s, total: 18.1 s\n",
      "Wall time: 52.5 s\n"
     ]
    }
   ],
   "source": [
    "%%time\n",
    "from eden.graph import Vectorizer\n",
    "vectorizer=Vectorizer(complexity=3)\n",
    "from eden.util import fit\n",
    "estimator=fit(iterable_pos_train, iterable_neg_train, vectorizer, n_jobs=4, cv=10, n_iter_search=1, random_state=1)"
   ]
  },
  {
   "cell_type": "code",
   "execution_count": 15,
   "metadata": {
    "collapsed": false
   },
   "outputs": [
    {
     "name": "stdout",
     "output_type": "stream",
     "text": [
      "Test set\n",
      "Instances: 860 ; Features: 1048577 with an avg of 1228 features per instance\n",
      "--------------------------------------------------------------------------------\n",
      "Test Estimate\n",
      "             precision    recall  f1-score   support\n",
      "\n",
      "         -1       0.98      0.98      0.98       573\n",
      "          1       0.95      0.95      0.95       287\n",
      "\n",
      "avg / total       0.97      0.97      0.97       860\n",
      "\n",
      "APR: 0.991\n",
      "ROC: 0.994\n",
      "CPU times: user 6.71 s, sys: 1.29 s, total: 8 s\n",
      "Wall time: 22.8 s\n"
     ]
    }
   ],
   "source": [
    "%%time\n",
    "from eden.util import estimate\n",
    "estimate(iterable_pos_test, iterable_neg_test, estimator, vectorizer)"
   ]
  }
 ],
 "metadata": {
  "kernelspec": {
   "display_name": "Python 2",
   "language": "python",
   "name": "python2"
  },
  "language_info": {
   "codemirror_mode": {
    "name": "ipython",
    "version": 2
   },
   "file_extension": ".py",
   "mimetype": "text/x-python",
   "name": "python",
   "nbconvert_exporter": "python",
   "pygments_lexer": "ipython2",
   "version": "2.7.6"
  }
 },
 "nbformat": 4,
 "nbformat_minor": 0
}
