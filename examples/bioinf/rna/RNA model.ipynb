{
 "cells": [
  {
   "cell_type": "code",
   "execution_count": 1,
   "metadata": {
    "collapsed": true
   },
   "outputs": [],
   "source": [
    "from eden.util import configure_logging\n",
    "import logging\n",
    "configure_logging(logging.getLogger(),verbosity=2)"
   ]
  },
  {
   "cell_type": "code",
   "execution_count": 2,
   "metadata": {
    "collapsed": false
   },
   "outputs": [],
   "source": [
    "rfam_id = 'RF02275' #Hammerhead_HH9\n",
    "rfam_id = 'RF00871' #microRNA mir-689\n",
    "rfam_id = 'RF00005' #tRNA\n",
    "\n",
    "def rfam_uri(family_id):\n",
    "    return '%s.fa'%(family_id)\n",
    "def rfam_uri(family_id):\n",
    "    return 'http://rfam.xfam.org/family/%s/alignment?acc=%s&format=fastau&download=0'%(family_id,family_id)"
   ]
  },
  {
   "cell_type": "code",
   "execution_count": 3,
   "metadata": {
    "collapsed": false
   },
   "outputs": [
    {
     "name": "stdout",
     "output_type": "stream",
     "text": [
      "Starting new HTTP connection (1): rfam.xfam.org\n",
      "\"GET /family/RF00005/alignment?acc=RF00005&format=fastau&download=0 HTTP/1.1\" 200 90476\n",
      "CPU times: user 324 ms, sys: 101 ms, total: 425 ms\n",
      "Wall time: 5.84 s\n"
     ]
    }
   ],
   "source": [
    "%%time\n",
    "from eden.converter.fasta import fasta_to_sequence\n",
    "pos_seqs = fasta_to_sequence(rfam_uri(rfam_id))\n",
    "from eden.converter.rna.rnafold import rnafold_to_eden\n",
    "pre_processor_args={'max_num':3,'shape_type':5,'energy_range':20}\n",
    "from eden.util import mp_pre_process\n",
    "pos_graphs = mp_pre_process(pos_seqs, pre_processor=rnafold_to_eden, pre_processor_args=pre_processor_args, n_blocks=5, n_jobs=4)"
   ]
  },
  {
   "cell_type": "code",
   "execution_count": 4,
   "metadata": {
    "collapsed": false
   },
   "outputs": [
    {
     "name": "stdout",
     "output_type": "stream",
     "text": [
      "Starting new HTTP connection (1): rfam.xfam.org\n",
      "\"GET /family/RF00005/alignment?acc=RF00005&format=fastau&download=0 HTTP/1.1\" 200 90476\n",
      "CPU times: user 812 ms, sys: 180 ms, total: 992 ms\n",
      "Wall time: 13 s\n"
     ]
    }
   ],
   "source": [
    "%%time\n",
    "from eden.converter.fasta import fasta_to_sequence\n",
    "from eden.modifier.seq import seq_to_seq, shuffle_modifier\n",
    "neg_seqs = seq_to_seq(fasta_to_sequence(rfam_uri(rfam_id)), modifier=shuffle_modifier, times=2)\n",
    "from eden.converter.rna.rnafold import rnafold_to_eden\n",
    "from eden.util import mp_pre_process\n",
    "neg_graphs = mp_pre_process(neg_seqs, pre_processor=rnafold_to_eden, pre_processor_args=pre_processor_args, n_blocks=5, n_jobs=4)"
   ]
  },
  {
   "cell_type": "code",
   "execution_count": 5,
   "metadata": {
    "collapsed": false
   },
   "outputs": [],
   "source": [
    "train_test_split=.7\n",
    "#split train/test\n",
    "from eden.util import random_bipartition_iter\n",
    "iterable_pos_train, iterable_pos_test = random_bipartition_iter(pos_graphs, relative_size=train_test_split)\n",
    "iterable_neg_train, iterable_neg_test = random_bipartition_iter(neg_graphs, relative_size=train_test_split)"
   ]
  },
  {
   "cell_type": "code",
   "execution_count": 6,
   "metadata": {
    "collapsed": false
   },
   "outputs": [
    {
     "name": "stdout",
     "output_type": "stream",
     "text": [
      "Positive data: Instances: 667 ; Features: 1048577 with an avg of 1246 features per instance\n",
      "Negative data: Instances: 1335 ; Features: 1048577 with an avg of 1214 features per instance\n",
      "Elapsed time: 38.0 secs\n",
      "CPU times: user 20.1 s, sys: 1.95 s, total: 22.1 s\n",
      "Wall time: 38.1 s\n"
     ]
    }
   ],
   "source": [
    "%%time\n",
    "from eden.graph import Vectorizer\n",
    "vectorizer=Vectorizer(complexity=3)\n",
    "from eden.util import fit\n",
    "estimator=fit(iterable_pos_train, iterable_neg_train, vectorizer, n_jobs=4, cv=10, n_iter_search=1, random_state=1)"
   ]
  },
  {
   "cell_type": "code",
   "execution_count": 7,
   "metadata": {
    "collapsed": false
   },
   "outputs": [
    {
     "name": "stdout",
     "output_type": "stream",
     "text": [
      "Test set\n",
      "Instances: 860 ; Features: 1048577 with an avg of 1227 features per instance\n",
      "--------------------------------------------------------------------------------\n",
      "Test Estimate\n",
      "             precision    recall  f1-score   support\n",
      "\n",
      "         -1       0.98      0.97      0.98       573\n",
      "          1       0.95      0.96      0.96       287\n",
      "\n",
      "avg / total       0.97      0.97      0.97       860\n",
      "\n",
      "APR: 0.988\n",
      "ROC: 0.992\n",
      "CPU times: user 7 s, sys: 984 ms, total: 7.98 s\n",
      "Wall time: 12.6 s\n"
     ]
    }
   ],
   "source": [
    "%%time\n",
    "from eden.util import estimate\n",
    "estimate(iterable_pos_test, iterable_neg_test, estimator, vectorizer)"
   ]
  },
  {
   "cell_type": "code",
   "execution_count": 8,
   "metadata": {
    "collapsed": false
   },
   "outputs": [
    {
     "name": "stdout",
     "output_type": "stream",
     "text": [
      "http://rfam.xfam.org/family/RF00005/alignment?acc=RF00005&format=fastau&download=0\n"
     ]
    }
   ],
   "source": [
    "rfam_id = 'RF00005' #tRNA\n",
    "print rfam_uri(rfam_id)"
   ]
  }
 ],
 "metadata": {
  "kernelspec": {
   "display_name": "Python 2",
   "language": "python",
   "name": "python2"
  },
  "language_info": {
   "codemirror_mode": {
    "name": "ipython",
    "version": 2
   },
   "file_extension": ".py",
   "mimetype": "text/x-python",
   "name": "python",
   "nbconvert_exporter": "python",
   "pygments_lexer": "ipython2",
   "version": "2.7.10"
  }
 },
 "nbformat": 4,
 "nbformat_minor": 0
}
