{
 "metadata": {
  "name": "",
  "signature": "sha256:8202e1516cd0bf0f52a96485cf4f3185150870dc1e850c634f81917055fd55ef"
 },
 "nbformat": 3,
 "nbformat_minor": 0,
 "worksheets": [
  {
   "cells": [
    {
     "cell_type": "code",
     "collapsed": false,
     "input": [
      "%reload_ext autoreload"
     ],
     "language": "python",
     "metadata": {},
     "outputs": [],
     "prompt_number": 1
    },
    {
     "cell_type": "code",
     "collapsed": false,
     "input": [
      "%autoreload 2"
     ],
     "language": "python",
     "metadata": {},
     "outputs": [],
     "prompt_number": 2
    },
    {
     "cell_type": "code",
     "collapsed": false,
     "input": [
      "def train_ncRNA_model(fname=None, model_fname=None, n_iter=40, verbose=False):\n",
      "    #parameters\n",
      "    times=2\n",
      "    size=200\n",
      "    active_set_size=400\n",
      "    threshold=1\n",
      "    n_active_learning_iterations=3\n",
      "    train_test_split=0.7\n",
      "    \n",
      "    \n",
      "    def rfam_uri(family_id):\n",
      "        return 'http://rfam.xfam.org/family/%s/alignment?acc=%s&format=fastau&download=0'%(family_id,family_id)\n",
      "    \n",
      "    def pre_processor( data, **args):\n",
      "        #from eden.converter.rna.rnashapes import rnashapes_to_eden\n",
      "        #graphs = rnashapes_to_eden( data, **args )\n",
      "        from eden.converter.rna.rnafold import rnafold_to_eden\n",
      "        graphs = rnafold_to_eden( data, **args )\n",
      "        return graphs\n",
      "\n",
      "    \n",
      "    from eden.graph import Vectorizer\n",
      "    vectorizer = Vectorizer()\n",
      "\n",
      "    from sklearn.linear_model import SGDClassifier\n",
      "    estimator = SGDClassifier(class_weight='auto', shuffle=True)\n",
      "    \n",
      "\n",
      "    #create iterable from files\n",
      "    from eden.converter.fasta import fasta_to_sequence\n",
      "    seqs = fasta_to_sequence( rfam_uri( rfam_id ) )\n",
      "    from itertools import tee\n",
      "    seqs,seqs_=tee(seqs)\n",
      "    iterable_pos = seqs\n",
      "    from eden.modifier.seq import seq_to_seq, shuffle_modifier\n",
      "    iterable_neg = seq_to_seq( seqs_, modifier=shuffle_modifier, times=times, order=2 )\n",
      "\n",
      "    #consier only first 'size' elements\n",
      "    from itertools import islice\n",
      "    iterable_pos = islice(iterable_pos,size)\n",
      "    iterable_neg = islice(iterable_neg,size*times)\n",
      "\n",
      "    #split train/test\n",
      "    from eden.util import random_bipartition_iter\n",
      "    iterable_pos_train, iterable_pos_test = random_bipartition_iter(iterable_pos, relative_size=train_test_split)\n",
      "    iterable_neg_train, iterable_neg_test = random_bipartition_iter(iterable_neg, relative_size=train_test_split)\n",
      "    \n",
      "    #make predictive model\n",
      "    from eden.model import ActiveLearningBinaryClassificationModel\n",
      "    model = ActiveLearningBinaryClassificationModel( pre_processor, estimator=estimator, vectorizer=vectorizer )\n",
      "\n",
      "    #optimize hyperparameters and fit model\n",
      "    from numpy.random import randint\n",
      "    from numpy.random import uniform\n",
      "#    pre_processor_parameters={'max_num':[1,2,3], \n",
      "#                              'shape_type':[3,4,5], \n",
      "#                              'energy_range':randint(10, 40, size=n_iter)}\n",
      "    pre_processor_parameters={} \n",
      "\n",
      "    vectorizer_parameters={'complexity':[1,2]}\n",
      "\n",
      "    estimator_parameters={'n_iter':randint(5, 100, size=n_iter),\n",
      "                          'penalty':['l1','l2','elasticnet'],\n",
      "                          'l1_ratio':uniform(0.1,0.9, size=n_iter), \n",
      "                          'loss':['hinge', 'log', 'modified_huber', 'squared_hinge', 'perceptron'],\n",
      "                          'power_t':uniform(0.1, size=n_iter),\n",
      "                          'alpha': [10**x for x in range(-8,0)],\n",
      "                          'eta0': [10**x for x in range(-4,-1)],\n",
      "                          'learning_rate': [\"invscaling\", \"constant\", \"optimal\"]}\n",
      "\n",
      "    model.optimize(iterable_pos_train, iterable_neg_train, \n",
      "                   n_active_learning_iterations=n_active_learning_iterations,\n",
      "                   size_positive=-1,\n",
      "                   size_negative=active_set_size,\n",
      "                   n_iter=n_iter, cv=3, n_jobs=1, verbose=verbose,\n",
      "                   pre_processor_parameters=pre_processor_parameters, \n",
      "                   vectorizer_parameters=vectorizer_parameters, \n",
      "                   estimator_parameters=estimator_parameters)\n",
      "\n",
      "    #save model\n",
      "    model.save(model_fname)\n",
      "    print 'Saved model in %s'%model_fname\n",
      "    \n",
      "    #estimate predictive performance\n",
      "    model.estimate( iterable_pos_test, iterable_neg_test, cv=5 )\n",
      "    \n",
      "    \n",
      "    \n",
      "    \n",
      "def test_ncRNA_model(fname=None, model_fname=None):\n",
      "    from eden.model import ActiveLearningBinaryClassificationModel\n",
      "\n",
      "    model = ActiveLearningBinaryClassificationModel()\n",
      "    model.load(model_fname)\n",
      "\n",
      "    def rfam_uri(family_id):\n",
      "        return 'http://rfam.xfam.org/family/%s/alignment?acc=%s&format=fastau&download=0'%(family_id,family_id)\n",
      "\n",
      "    from eden.converter.fasta import fasta_to_sequence\n",
      "    seqs = fasta_to_sequence( rfam_uri( rfam_id ) )\n",
      "    from itertools import tee\n",
      "    seqs,seqs_=tee(seqs)\n",
      "    \n",
      "    predictions= model.decision_function( seqs_ )\n",
      "    \n",
      "    from itertools import izip\n",
      "    seqs,seqs_=tee(seqs)\n",
      "    results = [(p,s) for s,p in izip(seqs_,predictions)]\n",
      "    \n",
      "    return results"
     ],
     "language": "python",
     "metadata": {},
     "outputs": [],
     "prompt_number": 16
    },
    {
     "cell_type": "code",
     "collapsed": false,
     "input": [
      "def rfam_url(family_id):\n",
      "    return 'http://rfam.xfam.org/family/%s/alignment?acc=%s&format=fastau&download=0'%(family_id,family_id)"
     ],
     "language": "python",
     "metadata": {},
     "outputs": [],
     "prompt_number": 4
    },
    {
     "cell_type": "code",
     "collapsed": false,
     "input": [
      "import requests\n",
      "import numpy\n",
      "\n",
      "def rfam_size(rfam_id):\n",
      "    uri = rfam_url( rfam_id )\n",
      "    from eden.modifier.fasta import fasta_to_fasta, one_line_modifier\n",
      "    iterable = fasta_to_fasta( uri , modifier = one_line_modifier, header_only = True)\n",
      "    size = sum(1 for x in iterable)\n",
      "    return size\n",
      "\n",
      "def rfam_stats(rfam_id):\n",
      "    uri = rfam_url( rfam_id )\n",
      "    from eden.modifier.fasta import fasta_to_fasta, one_line_modifier\n",
      "    iterable = fasta_to_fasta( uri , modifier = one_line_modifier, sequence_only = True)\n",
      "    len_seqs = [len(seq) for seq in iterable]\n",
      "    median = numpy.percentile(len_seqs, 50)\n",
      "    lower_quartile = numpy.percentile(len_seqs, 25)\n",
      "    upper_quartile = numpy.percentile(len_seqs, 75)\n",
      "    return lower_quartile, median, upper_quartile "
     ],
     "language": "python",
     "metadata": {},
     "outputs": [],
     "prompt_number": 5
    },
    {
     "cell_type": "code",
     "collapsed": false,
     "input": [
      "%%time\n",
      "#identify non available rfam families\n",
      "\n",
      "blacklist = []\n",
      "\n",
      "size_limit = 1000\n",
      "num = 2600\n",
      "rfam_ids = ['RF%0.5d'%i for i in range(1,num)]\n",
      "print 'Determining non valid Rfam family accession or ID...'\n",
      "counter = 0\n",
      "for rfam_id in rfam_ids:\n",
      "    try:\n",
      "        size = rfam_size( rfam_id )\n",
      "    except:\n",
      "        counter += 1\n",
      "        blacklist.append(rfam_id)\n",
      "        print counter, rfam_id\n",
      "    else:\n",
      "        if size > size_limit:\n",
      "            counter += 1\n",
      "            blacklist.append(rfam_id)\n",
      "            print counter, rfam_id, '>>'\n",
      "    finally:\n",
      "        pass\n",
      "    \n",
      "arfam_ids = [rfam_id for rfam_id in rfam_ids if rfam_id not in blacklist]\n",
      "print 'Tried %d families, found %d non valid Rfam family accession or ID' % (num, len(blacklist))"
     ],
     "language": "python",
     "metadata": {},
     "outputs": [
      {
       "output_type": "stream",
       "stream": "stdout",
       "text": [
        "Determining non valid Rfam family accession or ID...\n",
        "Tried 2600 families, found 0 non valid Rfam family accession or ID"
       ]
      },
      {
       "output_type": "stream",
       "stream": "stdout",
       "text": [
        "\n",
        "CPU times: user 8.27 s, sys: 2.39 s, total: 10.7 s\n",
        "Wall time: 6min 30s\n"
       ]
      }
     ],
     "prompt_number": 6
    },
    {
     "cell_type": "code",
     "collapsed": false,
     "input": [
      "%%time\n",
      "#select families with num instances within specified limits\n",
      "size_upper_limit = 300\n",
      "size_lower_limit = 150\n",
      "selected_rfam_ids = [rfam_id for rfam_id in arfam_ids if rfam_size( rfam_id ) >= size_lower_limit and rfam_size( rfam_id ) <= size_upper_limit]\n",
      "print 'Rfam families stisfying the num seqs limits > %d and < %d are: %d' % (size_lower_limit, size_upper_limit, len(selected_rfam_ids) )"
     ],
     "language": "python",
     "metadata": {},
     "outputs": [
      {
       "output_type": "stream",
       "stream": "stdout",
       "text": [
        "Rfam families stisfying the num seqs limits > 150 and < 300 are: 22\n",
        "CPU times: user 7.7 s, sys: 2.2 s, total: 9.9 s\n",
        "Wall time: 7min 39s\n"
       ]
      }
     ],
     "prompt_number": 7
    },
    {
     "cell_type": "code",
     "collapsed": false,
     "input": [
      "%%time\n",
      "#print stats\n",
      "rfam_legths = {}\n",
      "print 'Rfam statistics:'\n",
      "for i,rfam_id in enumerate(selected_rfam_ids):\n",
      "    size = rfam_size( rfam_id )\n",
      "    lower_quartile, median, upper_quartile = rfam_stats( rfam_id )\n",
      "    print \"%0.5d rfam: %s num seqs: %0.4d length stats: Q1: %0.4d Q2: %0.4d Q3: %0.4d\" % ( i+1, rfam_id, size, lower_quartile, median, upper_quartile )\n",
      "    rfam_legths[rfam_id] = median"
     ],
     "language": "python",
     "metadata": {},
     "outputs": [
      {
       "output_type": "stream",
       "stream": "stdout",
       "text": [
        "Rfam statistics:\n",
        "00001 rfam: RF00004 num seqs: 0208 length stats: Q1: 0191 Q2: 0193 Q3: 0195"
       ]
      },
      {
       "output_type": "stream",
       "stream": "stdout",
       "text": [
        "\n",
        "00002 rfam: RF00015 num seqs: 0170 length stats: Q1: 0135 Q2: 0141 Q3: 0146"
       ]
      },
      {
       "output_type": "stream",
       "stream": "stdout",
       "text": [
        "\n",
        "00003 rfam: RF00020 num seqs: 0180 length stats: Q1: 0115 Q2: 0116 Q3: 0119"
       ]
      },
      {
       "output_type": "stream",
       "stream": "stdout",
       "text": [
        "\n",
        "00004 rfam: RF00026 num seqs: 0188 length stats: Q1: 0103 Q2: 0107 Q3: 0108"
       ]
      },
      {
       "output_type": "stream",
       "stream": "stdout",
       "text": [
        "\n",
        "00005 rfam: RF00169 num seqs: 0261 length stats: Q1: 0081 Q2: 0094 Q3: 0098"
       ]
      },
      {
       "output_type": "stream",
       "stream": "stdout",
       "text": [
        "\n",
        "00006 rfam: RF00380 num seqs: 0157 length stats: Q1: 0165 Q2: 0168 Q3: 0172"
       ]
      },
      {
       "output_type": "stream",
       "stream": "stdout",
       "text": [
        "\n",
        "00007 rfam: RF00386 num seqs: 0160 length stats: Q1: 0090 Q2: 0090 Q3: 0091"
       ]
      },
      {
       "output_type": "stream",
       "stream": "stdout",
       "text": [
        "\n",
        "00008 rfam: RF01051 num seqs: 0155 length stats: Q1: 0085 Q2: 0087 Q3: 0089"
       ]
      },
      {
       "output_type": "stream",
       "stream": "stdout",
       "text": [
        "\n",
        "00009 rfam: RF01055 num seqs: 0160 length stats: Q1: 0135 Q2: 0142 Q3: 0147"
       ]
      },
      {
       "output_type": "stream",
       "stream": "stdout",
       "text": [
        "\n",
        "00010 rfam: RF01234 num seqs: 0160 length stats: Q1: 0136 Q2: 0138 Q3: 0138"
       ]
      },
      {
       "output_type": "stream",
       "stream": "stdout",
       "text": [
        "\n",
        "00011 rfam: RF01699 num seqs: 0194 length stats: Q1: 0167 Q2: 0168 Q3: 0172"
       ]
      },
      {
       "output_type": "stream",
       "stream": "stdout",
       "text": [
        "\n",
        "00012 rfam: RF01701 num seqs: 0265 length stats: Q1: 0066 Q2: 0068 Q3: 0069"
       ]
      },
      {
       "output_type": "stream",
       "stream": "stdout",
       "text": [
        "\n",
        "00013 rfam: RF01705 num seqs: 0201 length stats: Q1: 0076 Q2: 0080 Q3: 0082"
       ]
      },
      {
       "output_type": "stream",
       "stream": "stdout",
       "text": [
        "\n",
        "00014 rfam: RF01731 num seqs: 0210 length stats: Q1: 0164 Q2: 0167 Q3: 0169"
       ]
      },
      {
       "output_type": "stream",
       "stream": "stdout",
       "text": [
        "\n",
        "00015 rfam: RF01734 num seqs: 0287 length stats: Q1: 0063 Q2: 0067 Q3: 0074"
       ]
      },
      {
       "output_type": "stream",
       "stream": "stdout",
       "text": [
        "\n",
        "00016 rfam: RF01745 num seqs: 0189 length stats: Q1: 0186 Q2: 0188 Q3: 0193"
       ]
      },
      {
       "output_type": "stream",
       "stream": "stdout",
       "text": [
        "\n",
        "00017 rfam: RF01750 num seqs: 0182 length stats: Q1: 0084 Q2: 0086 Q3: 0101"
       ]
      },
      {
       "output_type": "stream",
       "stream": "stdout",
       "text": [
        "\n",
        "00018 rfam: RF01942 num seqs: 0171 length stats: Q1: 0118 Q2: 0119 Q3: 0121"
       ]
      },
      {
       "output_type": "stream",
       "stream": "stdout",
       "text": [
        "\n",
        "00019 rfam: RF01998 num seqs: 0237 length stats: Q1: 0079 Q2: 0084 Q3: 0089"
       ]
      },
      {
       "output_type": "stream",
       "stream": "stdout",
       "text": [
        "\n",
        "00020 rfam: RF02005 num seqs: 0174 length stats: Q1: 0220 Q2: 0223 Q3: 0229"
       ]
      },
      {
       "output_type": "stream",
       "stream": "stdout",
       "text": [
        "\n",
        "00021 rfam: RF02012 num seqs: 0244 length stats: Q1: 0139 Q2: 0148 Q3: 0150"
       ]
      },
      {
       "output_type": "stream",
       "stream": "stdout",
       "text": [
        "\n",
        "00022 rfam: RF02034 num seqs: 0219 length stats: Q1: 0189 Q2: 0191 Q3: 0192"
       ]
      },
      {
       "output_type": "stream",
       "stream": "stdout",
       "text": [
        "\n",
        "CPU times: user 212 ms, sys: 54.5 ms, total: 267 ms\n",
        "Wall time: 9.98 s\n"
       ]
      }
     ],
     "prompt_number": 8
    },
    {
     "cell_type": "code",
     "collapsed": false,
     "input": [
      "%%time\n",
      "for rfam_id in selected_rfam_ids:\n",
      "    print rfam_id\n",
      "    model_fname=rfam_id+'.model'\n",
      "    train_ncRNA_model(fname=rfam_id, model_fname=model_fname, n_iter=10, verbose=False)\n",
      "    results = test_ncRNA_model(fname=rfam_id, model_fname=model_fname)"
     ],
     "language": "python",
     "metadata": {},
     "outputs": [
      {
       "output_type": "stream",
       "stream": "stdout",
       "text": [
        "RF00004\n",
        "Saved model in RF00004.model"
       ]
      },
      {
       "output_type": "stream",
       "stream": "stdout",
       "text": [
        "\n",
        "Classifier:"
       ]
      },
      {
       "output_type": "stream",
       "stream": "stdout",
       "text": [
        "\n",
        "SGDClassifier(alpha=0.0001, class_weight='auto', epsilon=0.1, eta0=0.0001,\n",
        "       fit_intercept=True, l1_ratio=0.10158070470654268,\n",
        "       learning_rate='constant', loss='squared_hinge', n_iter=87, n_jobs=1,\n",
        "       penalty='l2', power_t=0.48091437952204807, random_state=None,\n",
        "       shuffle=True, verbose=0, warm_start=False)\n",
        "--------------------------------------------------------------------------------\n",
        "Predictive performance:\n",
        "            accuracy: 0.856 +- 0.087"
       ]
      },
      {
       "output_type": "stream",
       "stream": "stdout",
       "text": [
        "\n",
        "           precision: 0.738 +- 0.120"
       ]
      },
      {
       "output_type": "stream",
       "stream": "stdout",
       "text": [
        "\n",
        "              recall: 0.917 +- 0.129"
       ]
      },
      {
       "output_type": "stream",
       "stream": "stdout",
       "text": [
        "\n",
        "                  f1: 0.812 +- 0.109"
       ]
      },
      {
       "output_type": "stream",
       "stream": "stdout",
       "text": [
        "\n",
        "   average_precision: 0.967 +- 0.046"
       ]
      },
      {
       "output_type": "stream",
       "stream": "stdout",
       "text": [
        "\n",
        "             roc_auc: 0.978 +- 0.031"
       ]
      },
      {
       "output_type": "stream",
       "stream": "stdout",
       "text": [
        "\n",
        "--------------------------------------------------------------------------------\n",
        "RF00015"
       ]
      },
      {
       "output_type": "stream",
       "stream": "stdout",
       "text": [
        "\n",
        "Saved model in RF00015.model"
       ]
      },
      {
       "output_type": "stream",
       "stream": "stdout",
       "text": [
        "\n",
        "Classifier:"
       ]
      },
      {
       "output_type": "stream",
       "stream": "stdout",
       "text": [
        "\n",
        "SGDClassifier(alpha=0.01, class_weight='auto', epsilon=0.1, eta0=0.001,\n",
        "       fit_intercept=True, l1_ratio=0.64640302916124981,\n",
        "       learning_rate='invscaling', loss='log', n_iter=23, n_jobs=1,\n",
        "       penalty='l2', power_t=0.91995260126272083, random_state=None,\n",
        "       shuffle=True, verbose=0, warm_start=False)\n",
        "--------------------------------------------------------------------------------\n",
        "Predictive performance:\n",
        "            accuracy: 0.638 +- 0.258"
       ]
      },
      {
       "output_type": "stream",
       "stream": "stdout",
       "text": [
        "\n",
        "           precision: 0.269 +- 0.389"
       ]
      },
      {
       "output_type": "stream",
       "stream": "stdout",
       "text": [
        "\n",
        "              recall: 0.600 +- 0.490"
       ]
      },
      {
       "output_type": "stream",
       "stream": "stdout",
       "text": [
        "\n",
        "                  f1: 0.225 +- 0.278"
       ]
      },
      {
       "output_type": "stream",
       "stream": "stdout",
       "text": [
        "\n",
        "   average_precision: 0.918 +- 0.043"
       ]
      },
      {
       "output_type": "stream",
       "stream": "stdout",
       "text": [
        "\n",
        "             roc_auc: 0.957 +- 0.041"
       ]
      },
      {
       "output_type": "stream",
       "stream": "stdout",
       "text": [
        "\n",
        "--------------------------------------------------------------------------------\n",
        "RF00020"
       ]
      },
      {
       "output_type": "stream",
       "stream": "stdout",
       "text": [
        "\n",
        "Saved model in RF00020.model"
       ]
      },
      {
       "output_type": "stream",
       "stream": "stdout",
       "text": [
        "\n",
        "Classifier:"
       ]
      },
      {
       "output_type": "stream",
       "stream": "stdout",
       "text": [
        "\n",
        "SGDClassifier(alpha=0.01, class_weight='auto', epsilon=0.1, eta0=0.01,\n",
        "       fit_intercept=True, l1_ratio=0.63227765595103635,\n",
        "       learning_rate='invscaling', loss='squared_hinge', n_iter=36,\n",
        "       n_jobs=1, penalty='l2', power_t=0.43674388179763302,\n",
        "       random_state=None, shuffle=True, verbose=0, warm_start=False)\n",
        "--------------------------------------------------------------------------------\n",
        "Predictive performance:\n",
        "            accuracy: 0.964 +- 0.023"
       ]
      },
      {
       "output_type": "stream",
       "stream": "stdout",
       "text": [
        "\n",
        "           precision: 0.922 +- 0.069"
       ]
      },
      {
       "output_type": "stream",
       "stream": "stdout",
       "text": [
        "\n",
        "              recall: 0.982 +- 0.036"
       ]
      },
      {
       "output_type": "stream",
       "stream": "stdout",
       "text": [
        "\n",
        "                  f1: 0.948 +- 0.031"
       ]
      },
      {
       "output_type": "stream",
       "stream": "stdout",
       "text": [
        "\n",
        "   average_precision: 0.998 +- 0.003"
       ]
      },
      {
       "output_type": "stream",
       "stream": "stdout",
       "text": [
        "\n",
        "             roc_auc: 0.999 +- 0.002"
       ]
      },
      {
       "output_type": "stream",
       "stream": "stdout",
       "text": [
        "\n",
        "--------------------------------------------------------------------------------\n",
        "RF00026"
       ]
      },
      {
       "output_type": "stream",
       "stream": "stdout",
       "text": [
        "\n",
        "Saved model in RF00026.model"
       ]
      },
      {
       "output_type": "stream",
       "stream": "stdout",
       "text": [
        "\n",
        "Classifier:"
       ]
      },
      {
       "output_type": "stream",
       "stream": "stdout",
       "text": [
        "\n",
        "SGDClassifier(alpha=0.01, class_weight='auto', epsilon=0.1, eta0=0.01,\n",
        "       fit_intercept=True, l1_ratio=0.13475884399289795,\n",
        "       learning_rate='constant', loss='perceptron', n_iter=39, n_jobs=1,\n",
        "       penalty='l2', power_t=0.20114541710393255, random_state=None,\n",
        "       shuffle=True, verbose=0, warm_start=False)\n",
        "--------------------------------------------------------------------------------\n",
        "Predictive performance:\n",
        "            accuracy: 0.927 +- 0.091"
       ]
      },
      {
       "output_type": "stream",
       "stream": "stdout",
       "text": [
        "\n",
        "           precision: 0.967 +- 0.067"
       ]
      },
      {
       "output_type": "stream",
       "stream": "stdout",
       "text": [
        "\n",
        "              recall: 0.782 +- 0.273"
       ]
      },
      {
       "output_type": "stream",
       "stream": "stdout",
       "text": [
        "\n",
        "                  f1: 0.903 +- 0.107"
       ]
      },
      {
       "output_type": "stream",
       "stream": "stdout",
       "text": [
        "\n",
        "   average_precision: 0.996 +- 0.006"
       ]
      },
      {
       "output_type": "stream",
       "stream": "stdout",
       "text": [
        "\n",
        "             roc_auc: 0.998 +- 0.003"
       ]
      },
      {
       "output_type": "stream",
       "stream": "stdout",
       "text": [
        "\n",
        "--------------------------------------------------------------------------------\n",
        "RF00169"
       ]
      },
      {
       "output_type": "stream",
       "stream": "stdout",
       "text": [
        "\n",
        "Saved model in RF00169.model"
       ]
      },
      {
       "output_type": "stream",
       "stream": "stdout",
       "text": [
        "\n",
        "Classifier:"
       ]
      },
      {
       "output_type": "stream",
       "stream": "stdout",
       "text": [
        "\n",
        "SGDClassifier(alpha=0.0001, class_weight='auto', epsilon=0.1, eta0=0.01,\n",
        "       fit_intercept=True, l1_ratio=0.54444744563017045,\n",
        "       learning_rate='constant', loss='perceptron', n_iter=69, n_jobs=1,\n",
        "       penalty='elasticnet', power_t=0.74764244335882957,\n",
        "       random_state=None, shuffle=True, verbose=0, warm_start=False)\n",
        "--------------------------------------------------------------------------------\n",
        "Predictive performance:\n",
        "            accuracy: 0.872 +- 0.054"
       ]
      },
      {
       "output_type": "stream",
       "stream": "stdout",
       "text": [
        "\n",
        "           precision: 0.906 +- 0.052"
       ]
      },
      {
       "output_type": "stream",
       "stream": "stdout",
       "text": [
        "\n",
        "              recall: 0.717 +- 0.155"
       ]
      },
      {
       "output_type": "stream",
       "stream": "stdout",
       "text": [
        "\n",
        "                  f1: 0.776 +- 0.088"
       ]
      },
      {
       "output_type": "stream",
       "stream": "stdout",
       "text": [
        "\n",
        "   average_precision: 0.883 +- 0.086"
       ]
      },
      {
       "output_type": "stream",
       "stream": "stdout",
       "text": [
        "\n",
        "             roc_auc: 0.918 +- 0.048"
       ]
      },
      {
       "output_type": "stream",
       "stream": "stdout",
       "text": [
        "\n",
        "--------------------------------------------------------------------------------\n",
        "RF00380"
       ]
      },
      {
       "output_type": "stream",
       "stream": "stdout",
       "text": [
        "\n",
        "Saved model in RF00380.model"
       ]
      },
      {
       "output_type": "stream",
       "stream": "stdout",
       "text": [
        "\n",
        "Classifier:"
       ]
      },
      {
       "output_type": "stream",
       "stream": "stdout",
       "text": [
        "\n",
        "SGDClassifier(alpha=0.1, class_weight='auto', epsilon=0.1, eta0=0.0001,\n",
        "       fit_intercept=True, l1_ratio=0.64265903304770333,\n",
        "       learning_rate='optimal', loss='perceptron', n_iter=43, n_jobs=1,\n",
        "       penalty='l2', power_t=0.98982760378145185, random_state=None,\n",
        "       shuffle=True, verbose=0, warm_start=False)\n",
        "--------------------------------------------------------------------------------\n",
        "Predictive performance:\n",
        "            accuracy: 0.951 +- 0.042"
       ]
      },
      {
       "output_type": "stream",
       "stream": "stdout",
       "text": [
        "\n",
        "           precision: 1.000 +- 0.000"
       ]
      },
      {
       "output_type": "stream",
       "stream": "stdout",
       "text": [
        "\n",
        "              recall: 0.873 +- 0.155"
       ]
      },
      {
       "output_type": "stream",
       "stream": "stdout",
       "text": [
        "\n",
        "                  f1: 0.942 +- 0.056"
       ]
      },
      {
       "output_type": "stream",
       "stream": "stdout",
       "text": [
        "\n",
        "   average_precision: 0.998 +- 0.005"
       ]
      },
      {
       "output_type": "stream",
       "stream": "stdout",
       "text": [
        "\n",
        "             roc_auc: 1.000 +- 0.000"
       ]
      },
      {
       "output_type": "stream",
       "stream": "stdout",
       "text": [
        "\n",
        "--------------------------------------------------------------------------------\n",
        "RF00386"
       ]
      },
      {
       "output_type": "stream",
       "stream": "stdout",
       "text": [
        "\n",
        "Saved model in RF00386.model"
       ]
      },
      {
       "output_type": "stream",
       "stream": "stdout",
       "text": [
        "\n",
        "Classifier:"
       ]
      },
      {
       "output_type": "stream",
       "stream": "stdout",
       "text": [
        "\n",
        "SGDClassifier(alpha=1e-05, class_weight='auto', epsilon=0.1, eta0=0.01,\n",
        "       fit_intercept=True, l1_ratio=0.37602958317424173,\n",
        "       learning_rate='constant', loss='perceptron', n_iter=52, n_jobs=1,\n",
        "       penalty='l2', power_t=0.18949858556654495, random_state=None,\n",
        "       shuffle=True, verbose=0, warm_start=False)\n",
        "--------------------------------------------------------------------------------\n",
        "Predictive performance:\n",
        "            accuracy: 0.993 +- 0.014"
       ]
      },
      {
       "output_type": "stream",
       "stream": "stdout",
       "text": [
        "\n",
        "           precision: 1.000 +- 0.000"
       ]
      },
      {
       "output_type": "stream",
       "stream": "stdout",
       "text": [
        "\n",
        "              recall: 0.978 +- 0.044"
       ]
      },
      {
       "output_type": "stream",
       "stream": "stdout",
       "text": [
        "\n",
        "                  f1: 0.978 +- 0.027"
       ]
      },
      {
       "output_type": "stream",
       "stream": "stdout",
       "text": [
        "\n",
        "   average_precision: 1.000 +- 0.000"
       ]
      },
      {
       "output_type": "stream",
       "stream": "stdout",
       "text": [
        "\n",
        "             roc_auc: 0.999 +- 0.002"
       ]
      },
      {
       "output_type": "stream",
       "stream": "stdout",
       "text": [
        "\n",
        "--------------------------------------------------------------------------------\n",
        "RF01051"
       ]
      },
      {
       "output_type": "stream",
       "stream": "stdout",
       "text": [
        "\n",
        "Saved model in RF01051.model"
       ]
      },
      {
       "output_type": "stream",
       "stream": "stdout",
       "text": [
        "\n",
        "Classifier:"
       ]
      },
      {
       "output_type": "stream",
       "stream": "stdout",
       "text": [
        "\n",
        "SGDClassifier(alpha=0.01, class_weight='auto', epsilon=0.1, eta0=0.0001,\n",
        "       fit_intercept=True, l1_ratio=0.80173625561833473,\n",
        "       learning_rate='optimal', loss='modified_huber', n_iter=8, n_jobs=1,\n",
        "       penalty='l2', power_t=0.23465038101144742, random_state=None,\n",
        "       shuffle=True, verbose=0, warm_start=False)\n",
        "--------------------------------------------------------------------------------\n",
        "Predictive performance:\n",
        "            accuracy: 0.971 +- 0.043"
       ]
      },
      {
       "output_type": "stream",
       "stream": "stdout",
       "text": [
        "\n",
        "           precision: 1.000 +- 0.000"
       ]
      },
      {
       "output_type": "stream",
       "stream": "stdout",
       "text": [
        "\n",
        "              recall: 0.933 +- 0.089"
       ]
      },
      {
       "output_type": "stream",
       "stream": "stdout",
       "text": [
        "\n",
        "                  f1: 0.886 +- 0.143"
       ]
      },
      {
       "output_type": "stream",
       "stream": "stdout",
       "text": [
        "\n",
        "   average_precision: 1.000 +- 0.000"
       ]
      },
      {
       "output_type": "stream",
       "stream": "stdout",
       "text": [
        "\n",
        "             roc_auc: 1.000 +- 0.000"
       ]
      },
      {
       "output_type": "stream",
       "stream": "stdout",
       "text": [
        "\n",
        "--------------------------------------------------------------------------------\n",
        "RF01055"
       ]
      },
      {
       "output_type": "stream",
       "stream": "stdout",
       "text": [
        "\n",
        "Saved model in RF01055.model"
       ]
      },
      {
       "output_type": "stream",
       "stream": "stdout",
       "text": [
        "\n",
        "Classifier:"
       ]
      },
      {
       "output_type": "stream",
       "stream": "stdout",
       "text": [
        "\n",
        "SGDClassifier(alpha=0.0001, class_weight='auto', epsilon=0.1, eta0=0.0001,\n",
        "       fit_intercept=True, l1_ratio=0.64391470405668427,\n",
        "       learning_rate='optimal', loss='perceptron', n_iter=9, n_jobs=1,\n",
        "       penalty='elasticnet', power_t=0.33670895830666792,\n",
        "       random_state=None, shuffle=True, verbose=0, warm_start=False)\n",
        "--------------------------------------------------------------------------------\n",
        "Predictive performance:\n",
        "            accuracy: 0.958 +- 0.053"
       ]
      },
      {
       "output_type": "stream",
       "stream": "stdout",
       "text": [
        "\n",
        "           precision: 0.982 +- 0.036"
       ]
      },
      {
       "output_type": "stream",
       "stream": "stdout",
       "text": [
        "\n",
        "              recall: 0.918 +- 0.076"
       ]
      },
      {
       "output_type": "stream",
       "stream": "stdout",
       "text": [
        "\n",
        "                  f1: 0.915 +- 0.053"
       ]
      },
      {
       "output_type": "stream",
       "stream": "stdout",
       "text": [
        "\n",
        "   average_precision: 1.000 +- 0.000"
       ]
      },
      {
       "output_type": "stream",
       "stream": "stdout",
       "text": [
        "\n",
        "             roc_auc: 0.992 +- 0.006"
       ]
      },
      {
       "output_type": "stream",
       "stream": "stdout",
       "text": [
        "\n",
        "--------------------------------------------------------------------------------\n",
        "RF01234"
       ]
      },
      {
       "output_type": "stream",
       "stream": "stdout",
       "text": [
        "\n",
        "Saved model in RF01234.model"
       ]
      },
      {
       "output_type": "stream",
       "stream": "stdout",
       "text": [
        "\n",
        "Classifier:"
       ]
      },
      {
       "output_type": "stream",
       "stream": "stdout",
       "text": [
        "\n",
        "SGDClassifier(alpha=0.001, class_weight='auto', epsilon=0.1, eta0=0.01,\n",
        "       fit_intercept=True, l1_ratio=0.64261133610654331,\n",
        "       learning_rate='invscaling', loss='perceptron', n_iter=14, n_jobs=1,\n",
        "       penalty='l2', power_t=0.16616271616774891, random_state=None,\n",
        "       shuffle=True, verbose=0, warm_start=False)\n",
        "--------------------------------------------------------------------------------\n",
        "Predictive performance:\n",
        "            accuracy: 1.000 +- 0.000"
       ]
      },
      {
       "output_type": "stream",
       "stream": "stdout",
       "text": [
        "\n",
        "           precision: 1.000 +- 0.000"
       ]
      },
      {
       "output_type": "stream",
       "stream": "stdout",
       "text": [
        "\n",
        "              recall: 1.000 +- 0.000"
       ]
      },
      {
       "output_type": "stream",
       "stream": "stdout",
       "text": [
        "\n",
        "                  f1: 1.000 +- 0.000"
       ]
      },
      {
       "output_type": "stream",
       "stream": "stdout",
       "text": [
        "\n",
        "   average_precision: 1.000 +- 0.000"
       ]
      },
      {
       "output_type": "stream",
       "stream": "stdout",
       "text": [
        "\n",
        "             roc_auc: 1.000 +- 0.000"
       ]
      },
      {
       "output_type": "stream",
       "stream": "stdout",
       "text": [
        "\n",
        "--------------------------------------------------------------------------------\n",
        "RF01699"
       ]
      },
      {
       "output_type": "stream",
       "stream": "stdout",
       "text": [
        "\n",
        "Saved model in RF01699.model"
       ]
      },
      {
       "output_type": "stream",
       "stream": "stdout",
       "text": [
        "\n",
        "Classifier:"
       ]
      },
      {
       "output_type": "stream",
       "stream": "stdout",
       "text": [
        "\n",
        "SGDClassifier(alpha=1e-07, class_weight='auto', epsilon=0.1, eta0=0.0001,\n",
        "       fit_intercept=True, l1_ratio=0.45235173381275839,\n",
        "       learning_rate='constant', loss='log', n_iter=50, n_jobs=1,\n",
        "       penalty='elasticnet', power_t=0.49561474770449854,\n",
        "       random_state=None, shuffle=True, verbose=0, warm_start=False)\n",
        "--------------------------------------------------------------------------------\n",
        "Predictive performance:\n",
        "            accuracy: 0.779 +- 0.117"
       ]
      },
      {
       "output_type": "stream",
       "stream": "stdout",
       "text": [
        "\n",
        "           precision: 0.629 +- 0.111"
       ]
      },
      {
       "output_type": "stream",
       "stream": "stdout",
       "text": [
        "\n",
        "              recall: 0.983 +- 0.033"
       ]
      },
      {
       "output_type": "stream",
       "stream": "stdout",
       "text": [
        "\n",
        "                  f1: 0.760 +- 0.089"
       ]
      },
      {
       "output_type": "stream",
       "stream": "stdout",
       "text": [
        "\n",
        "   average_precision: 0.994 +- 0.011"
       ]
      },
      {
       "output_type": "stream",
       "stream": "stdout",
       "text": [
        "\n",
        "             roc_auc: 0.996 +- 0.009"
       ]
      },
      {
       "output_type": "stream",
       "stream": "stdout",
       "text": [
        "\n",
        "--------------------------------------------------------------------------------\n",
        "RF01701"
       ]
      },
      {
       "output_type": "stream",
       "stream": "stdout",
       "text": [
        "\n",
        "Saved model in RF01701.model"
       ]
      },
      {
       "output_type": "stream",
       "stream": "stdout",
       "text": [
        "\n",
        "Classifier:"
       ]
      },
      {
       "output_type": "stream",
       "stream": "stdout",
       "text": [
        "\n",
        "SGDClassifier(alpha=1e-08, class_weight='auto', epsilon=0.1, eta0=0.001,\n",
        "       fit_intercept=True, l1_ratio=0.55998861689157009,\n",
        "       learning_rate='invscaling', loss='perceptron', n_iter=99, n_jobs=1,\n",
        "       penalty='l1', power_t=0.30156293415887159, random_state=None,\n",
        "       shuffle=True, verbose=0, warm_start=False)\n",
        "--------------------------------------------------------------------------------\n",
        "Predictive performance:\n",
        "            accuracy: 0.944 +- 0.043"
       ]
      },
      {
       "output_type": "stream",
       "stream": "stdout",
       "text": [
        "\n",
        "           precision: 0.969 +- 0.062"
       ]
      },
      {
       "output_type": "stream",
       "stream": "stdout",
       "text": [
        "\n",
        "              recall: 0.900 +- 0.097"
       ]
      },
      {
       "output_type": "stream",
       "stream": "stdout",
       "text": [
        "\n",
        "                  f1: 0.929 +- 0.041"
       ]
      },
      {
       "output_type": "stream",
       "stream": "stdout",
       "text": [
        "\n",
        "   average_precision: 0.992 +- 0.011"
       ]
      },
      {
       "output_type": "stream",
       "stream": "stdout",
       "text": [
        "\n",
        "             roc_auc: 0.993 +- 0.009"
       ]
      },
      {
       "output_type": "stream",
       "stream": "stdout",
       "text": [
        "\n",
        "--------------------------------------------------------------------------------\n",
        "RF01705"
       ]
      },
      {
       "output_type": "stream",
       "stream": "stdout",
       "text": [
        "\n",
        "Saved model in RF01705.model"
       ]
      },
      {
       "output_type": "stream",
       "stream": "stdout",
       "text": [
        "\n",
        "Classifier:"
       ]
      },
      {
       "output_type": "stream",
       "stream": "stdout",
       "text": [
        "\n",
        "SGDClassifier(alpha=0.0001, class_weight='auto', epsilon=0.1, eta0=0.01,\n",
        "       fit_intercept=True, l1_ratio=0.65407415607929464,\n",
        "       learning_rate='constant', loss='modified_huber', n_iter=69,\n",
        "       n_jobs=1, penalty='l2', power_t=0.28178398019804851,\n",
        "       random_state=None, shuffle=True, verbose=0, warm_start=False)\n",
        "--------------------------------------------------------------------------------\n",
        "Predictive performance:\n",
        "            accuracy: 0.989 +- 0.014"
       ]
      },
      {
       "output_type": "stream",
       "stream": "stdout",
       "text": [
        "\n",
        "           precision: 1.000 +- 0.000"
       ]
      },
      {
       "output_type": "stream",
       "stream": "stdout",
       "text": [
        "\n",
        "              recall: 0.967 +- 0.041"
       ]
      },
      {
       "output_type": "stream",
       "stream": "stdout",
       "text": [
        "\n",
        "                  f1: 0.983 +- 0.021"
       ]
      },
      {
       "output_type": "stream",
       "stream": "stdout",
       "text": [
        "\n",
        "   average_precision: 0.999 +- 0.003"
       ]
      },
      {
       "output_type": "stream",
       "stream": "stdout",
       "text": [
        "\n",
        "             roc_auc: 0.999 +- 0.001"
       ]
      },
      {
       "output_type": "stream",
       "stream": "stdout",
       "text": [
        "\n",
        "--------------------------------------------------------------------------------\n",
        "RF01731"
       ]
      },
      {
       "output_type": "stream",
       "stream": "stdout",
       "text": [
        "\n",
        "Saved model in RF01731.model"
       ]
      },
      {
       "output_type": "stream",
       "stream": "stdout",
       "text": [
        "\n",
        "Classifier:"
       ]
      },
      {
       "output_type": "stream",
       "stream": "stdout",
       "text": [
        "\n",
        "SGDClassifier(alpha=0.001, class_weight='auto', epsilon=0.1, eta0=0.001,\n",
        "       fit_intercept=True, l1_ratio=0.77395618830631885,\n",
        "       learning_rate='constant', loss='squared_hinge', n_iter=97, n_jobs=1,\n",
        "       penalty='elasticnet', power_t=0.24447368124995239,\n",
        "       random_state=None, shuffle=True, verbose=0, warm_start=False)\n",
        "--------------------------------------------------------------------------------\n",
        "Predictive performance:\n",
        "            accuracy: 0.956 +- 0.065"
       ]
      },
      {
       "output_type": "stream",
       "stream": "stdout",
       "text": [
        "\n",
        "           precision: 0.983 +- 0.033"
       ]
      },
      {
       "output_type": "stream",
       "stream": "stdout",
       "text": [
        "\n",
        "              recall: 0.883 +- 0.194"
       ]
      },
      {
       "output_type": "stream",
       "stream": "stdout",
       "text": [
        "\n",
        "                  f1: 0.917 +- 0.129"
       ]
      },
      {
       "output_type": "stream",
       "stream": "stdout",
       "text": [
        "\n",
        "   average_precision: 0.997 +- 0.006"
       ]
      },
      {
       "output_type": "stream",
       "stream": "stdout",
       "text": [
        "\n",
        "             roc_auc: 0.999 +- 0.003"
       ]
      },
      {
       "output_type": "stream",
       "stream": "stdout",
       "text": [
        "\n",
        "--------------------------------------------------------------------------------\n",
        "RF01734"
       ]
      },
      {
       "output_type": "stream",
       "stream": "stdout",
       "text": [
        "\n",
        "Saved model in RF01734.model"
       ]
      },
      {
       "output_type": "stream",
       "stream": "stdout",
       "text": [
        "\n",
        "Classifier:"
       ]
      },
      {
       "output_type": "stream",
       "stream": "stdout",
       "text": [
        "\n",
        "SGDClassifier(alpha=0.001, class_weight='auto', epsilon=0.1, eta0=0.001,\n",
        "       fit_intercept=True, l1_ratio=0.35770528087577169,\n",
        "       learning_rate='invscaling', loss='squared_hinge', n_iter=91,\n",
        "       n_jobs=1, penalty='l2', power_t=0.26619060893857599,\n",
        "       random_state=None, shuffle=True, verbose=0, warm_start=False)\n",
        "--------------------------------------------------------------------------------\n",
        "Predictive performance:\n",
        "            accuracy: 0.722 +- 0.056"
       ]
      },
      {
       "output_type": "stream",
       "stream": "stdout",
       "text": [
        "\n",
        "           precision: 0.560 +- 0.064"
       ]
      },
      {
       "output_type": "stream",
       "stream": "stdout",
       "text": [
        "\n",
        "              recall: 0.933 +- 0.062"
       ]
      },
      {
       "output_type": "stream",
       "stream": "stdout",
       "text": [
        "\n",
        "                  f1: 0.688 +- 0.040"
       ]
      },
      {
       "output_type": "stream",
       "stream": "stdout",
       "text": [
        "\n",
        "   average_precision: 0.855 +- 0.074"
       ]
      },
      {
       "output_type": "stream",
       "stream": "stdout",
       "text": [
        "\n",
        "             roc_auc: 0.901 +- 0.064"
       ]
      },
      {
       "output_type": "stream",
       "stream": "stdout",
       "text": [
        "\n",
        "--------------------------------------------------------------------------------\n",
        "RF01745"
       ]
      },
      {
       "output_type": "stream",
       "stream": "stdout",
       "text": [
        "\n",
        "Saved model in RF01745.model"
       ]
      },
      {
       "output_type": "stream",
       "stream": "stdout",
       "text": [
        "\n",
        "Classifier:"
       ]
      },
      {
       "output_type": "stream",
       "stream": "stdout",
       "text": [
        "\n",
        "SGDClassifier(alpha=0.0001, class_weight='auto', epsilon=0.1, eta0=0.0001,\n",
        "       fit_intercept=True, l1_ratio=0.37211447829516431,\n",
        "       learning_rate='constant', loss='squared_hinge', n_iter=90, n_jobs=1,\n",
        "       penalty='l2', power_t=0.68342934202312244, random_state=None,\n",
        "       shuffle=True, verbose=0, warm_start=False)\n",
        "--------------------------------------------------------------------------------\n",
        "Predictive performance:\n",
        "            accuracy: 0.953 +- 0.023"
       ]
      },
      {
       "output_type": "stream",
       "stream": "stdout",
       "text": [
        "\n",
        "           precision: 1.000 +- 0.000"
       ]
      },
      {
       "output_type": "stream",
       "stream": "stdout",
       "text": [
        "\n",
        "              recall: 0.861 +- 0.066"
       ]
      },
      {
       "output_type": "stream",
       "stream": "stdout",
       "text": [
        "\n",
        "                  f1: 0.924 +- 0.039"
       ]
      },
      {
       "output_type": "stream",
       "stream": "stdout",
       "text": [
        "\n",
        "   average_precision: 0.967 +- 0.035"
       ]
      },
      {
       "output_type": "stream",
       "stream": "stdout",
       "text": [
        "\n",
        "             roc_auc: 0.974 +- 0.028"
       ]
      },
      {
       "output_type": "stream",
       "stream": "stdout",
       "text": [
        "\n",
        "--------------------------------------------------------------------------------\n",
        "RF01750"
       ]
      },
      {
       "output_type": "stream",
       "stream": "stdout",
       "text": [
        "\n",
        "Saved model in RF01750.model"
       ]
      },
      {
       "output_type": "stream",
       "stream": "stdout",
       "text": [
        "\n",
        "Classifier:"
       ]
      },
      {
       "output_type": "stream",
       "stream": "stdout",
       "text": [
        "\n",
        "SGDClassifier(alpha=1e-08, class_weight='auto', epsilon=0.1, eta0=0.01,\n",
        "       fit_intercept=True, l1_ratio=0.12942585708270446,\n",
        "       learning_rate='invscaling', loss='perceptron', n_iter=24, n_jobs=1,\n",
        "       penalty='l2', power_t=0.26601266866057927, random_state=None,\n",
        "       shuffle=True, verbose=0, warm_start=False)\n",
        "--------------------------------------------------------------------------------\n",
        "Predictive performance:\n",
        "            accuracy: 0.909 +- 0.047"
       ]
      },
      {
       "output_type": "stream",
       "stream": "stdout",
       "text": [
        "\n",
        "           precision: 1.000 +- 0.000"
       ]
      },
      {
       "output_type": "stream",
       "stream": "stdout",
       "text": [
        "\n",
        "              recall: 0.818 +- 0.057"
       ]
      },
      {
       "output_type": "stream",
       "stream": "stdout",
       "text": [
        "\n",
        "                  f1: 0.918 +- 0.053"
       ]
      },
      {
       "output_type": "stream",
       "stream": "stdout",
       "text": [
        "\n",
        "   average_precision: 0.965 +- 0.032"
       ]
      },
      {
       "output_type": "stream",
       "stream": "stdout",
       "text": [
        "\n",
        "             roc_auc: 0.974 +- 0.021"
       ]
      },
      {
       "output_type": "stream",
       "stream": "stdout",
       "text": [
        "\n",
        "--------------------------------------------------------------------------------\n",
        "RF01942"
       ]
      },
      {
       "output_type": "stream",
       "stream": "stdout",
       "text": [
        "\n",
        "Saved model in RF01942.model"
       ]
      },
      {
       "output_type": "stream",
       "stream": "stdout",
       "text": [
        "\n",
        "Classifier:"
       ]
      },
      {
       "output_type": "stream",
       "stream": "stdout",
       "text": [
        "\n",
        "SGDClassifier(alpha=0.1, class_weight='auto', epsilon=0.1, eta0=0.001,\n",
        "       fit_intercept=True, l1_ratio=0.82324455289727794,\n",
        "       learning_rate='constant', loss='log', n_iter=12, n_jobs=1,\n",
        "       penalty='l2', power_t=0.23732531046483163, random_state=None,\n",
        "       shuffle=True, verbose=0, warm_start=False)\n",
        "--------------------------------------------------------------------------------\n",
        "Predictive performance:\n",
        "            accuracy: 0.815 +- 0.073"
       ]
      },
      {
       "output_type": "stream",
       "stream": "stdout",
       "text": [
        "\n",
        "           precision: 0.659 +- 0.101"
       ]
      },
      {
       "output_type": "stream",
       "stream": "stdout",
       "text": [
        "\n",
        "              recall: 1.000 +- 0.000"
       ]
      },
      {
       "output_type": "stream",
       "stream": "stdout",
       "text": [
        "\n",
        "                  f1: 0.790 +- 0.071"
       ]
      },
      {
       "output_type": "stream",
       "stream": "stdout",
       "text": [
        "\n",
        "   average_precision: 1.000 +- 0.000"
       ]
      },
      {
       "output_type": "stream",
       "stream": "stdout",
       "text": [
        "\n",
        "             roc_auc: 1.000 +- 0.000"
       ]
      },
      {
       "output_type": "stream",
       "stream": "stdout",
       "text": [
        "\n",
        "--------------------------------------------------------------------------------\n",
        "RF01998"
       ]
      },
      {
       "output_type": "stream",
       "stream": "stdout",
       "text": [
        "\n",
        "Saved model in RF01998.model"
       ]
      },
      {
       "output_type": "stream",
       "stream": "stdout",
       "text": [
        "\n",
        "Classifier:"
       ]
      },
      {
       "output_type": "stream",
       "stream": "stdout",
       "text": [
        "\n",
        "SGDClassifier(alpha=1e-05, class_weight='auto', epsilon=0.1, eta0=0.001,\n",
        "       fit_intercept=True, l1_ratio=0.65980206038345846,\n",
        "       learning_rate='constant', loss='squared_hinge', n_iter=98, n_jobs=1,\n",
        "       penalty='elasticnet', power_t=0.91790557640332981,\n",
        "       random_state=None, shuffle=True, verbose=0, warm_start=False)\n",
        "--------------------------------------------------------------------------------\n",
        "Predictive performance:\n",
        "            accuracy: 0.944 +- 0.039"
       ]
      },
      {
       "output_type": "stream",
       "stream": "stdout",
       "text": [
        "\n",
        "           precision: 0.950 +- 0.067"
       ]
      },
      {
       "output_type": "stream",
       "stream": "stdout",
       "text": [
        "\n",
        "              recall: 0.883 +- 0.085"
       ]
      },
      {
       "output_type": "stream",
       "stream": "stdout",
       "text": [
        "\n",
        "                  f1: 0.913 +- 0.062"
       ]
      },
      {
       "output_type": "stream",
       "stream": "stdout",
       "text": [
        "\n",
        "   average_precision: 0.962 +- 0.032"
       ]
      },
      {
       "output_type": "stream",
       "stream": "stdout",
       "text": [
        "\n",
        "             roc_auc: 0.974 +- 0.024"
       ]
      },
      {
       "output_type": "stream",
       "stream": "stdout",
       "text": [
        "\n",
        "--------------------------------------------------------------------------------\n",
        "RF02005"
       ]
      },
      {
       "output_type": "stream",
       "stream": "stdout",
       "text": [
        "\n",
        "Saved model in RF02005.model"
       ]
      },
      {
       "output_type": "stream",
       "stream": "stdout",
       "text": [
        "\n",
        "Classifier:"
       ]
      },
      {
       "output_type": "stream",
       "stream": "stdout",
       "text": [
        "\n",
        "SGDClassifier(alpha=1e-05, class_weight='auto', epsilon=0.1, eta0=0.01,\n",
        "       fit_intercept=True, l1_ratio=0.33523353554900681,\n",
        "       learning_rate='constant', loss='squared_hinge', n_iter=64, n_jobs=1,\n",
        "       penalty='l1', power_t=0.39476574010678822, random_state=None,\n",
        "       shuffle=True, verbose=0, warm_start=False)\n",
        "--------------------------------------------------------------------------------\n",
        "Predictive performance:\n",
        "            accuracy: 0.861 +- 0.053"
       ]
      },
      {
       "output_type": "stream",
       "stream": "stdout",
       "text": [
        "\n",
        "           precision: 0.783 +- 0.128"
       ]
      },
      {
       "output_type": "stream",
       "stream": "stdout",
       "text": [
        "\n",
        "              recall: 0.851 +- 0.094"
       ]
      },
      {
       "output_type": "stream",
       "stream": "stdout",
       "text": [
        "\n",
        "                  f1: 0.814 +- 0.068"
       ]
      },
      {
       "output_type": "stream",
       "stream": "stdout",
       "text": [
        "\n",
        "   average_precision: 0.910 +- 0.065"
       ]
      },
      {
       "output_type": "stream",
       "stream": "stdout",
       "text": [
        "\n",
        "             roc_auc: 0.936 +- 0.055"
       ]
      },
      {
       "output_type": "stream",
       "stream": "stdout",
       "text": [
        "\n",
        "--------------------------------------------------------------------------------\n",
        "RF02012"
       ]
      },
      {
       "output_type": "stream",
       "stream": "stdout",
       "text": [
        "\n",
        "Saved model in RF02012.model"
       ]
      },
      {
       "output_type": "stream",
       "stream": "stdout",
       "text": [
        "\n",
        "Classifier:"
       ]
      },
      {
       "output_type": "stream",
       "stream": "stdout",
       "text": [
        "\n",
        "SGDClassifier(alpha=0.0001, class_weight='auto', epsilon=0.1, eta0=0.0001,\n",
        "       fit_intercept=True, l1_ratio=0.73412284676305983,\n",
        "       learning_rate='constant', loss='squared_hinge', n_iter=69, n_jobs=1,\n",
        "       penalty='l2', power_t=0.73243001023244714, random_state=None,\n",
        "       shuffle=True, verbose=0, warm_start=False)\n",
        "--------------------------------------------------------------------------------\n",
        "Predictive performance:\n",
        "            accuracy: 0.694 +- 0.077"
       ]
      },
      {
       "output_type": "stream",
       "stream": "stdout",
       "text": [
        "\n",
        "           precision: 0.522 +- 0.058"
       ]
      },
      {
       "output_type": "stream",
       "stream": "stdout",
       "text": [
        "\n",
        "              recall: 0.933 +- 0.062"
       ]
      },
      {
       "output_type": "stream",
       "stream": "stdout",
       "text": [
        "\n",
        "                  f1: 0.672 +- 0.060"
       ]
      },
      {
       "output_type": "stream",
       "stream": "stdout",
       "text": [
        "\n",
        "   average_precision: 0.944 +- 0.034"
       ]
      },
      {
       "output_type": "stream",
       "stream": "stdout",
       "text": [
        "\n",
        "             roc_auc: 0.948 +- 0.039"
       ]
      },
      {
       "output_type": "stream",
       "stream": "stdout",
       "text": [
        "\n",
        "--------------------------------------------------------------------------------\n",
        "RF02034"
       ]
      },
      {
       "output_type": "stream",
       "stream": "stdout",
       "text": [
        "\n",
        "Saved model in RF02034.model"
       ]
      },
      {
       "output_type": "stream",
       "stream": "stdout",
       "text": [
        "\n",
        "Classifier:"
       ]
      },
      {
       "output_type": "stream",
       "stream": "stdout",
       "text": [
        "\n",
        "SGDClassifier(alpha=0.0001, class_weight='auto', epsilon=0.1, eta0=0.01,\n",
        "       fit_intercept=True, l1_ratio=0.73947453315103839,\n",
        "       learning_rate='constant', loss='modified_huber', n_iter=77,\n",
        "       n_jobs=1, penalty='l2', power_t=0.57060176400075679,\n",
        "       random_state=None, shuffle=True, verbose=0, warm_start=False)\n",
        "--------------------------------------------------------------------------------\n",
        "Predictive performance:\n",
        "            accuracy: 0.994 +- 0.011"
       ]
      },
      {
       "output_type": "stream",
       "stream": "stdout",
       "text": [
        "\n",
        "           precision: 1.000 +- 0.000"
       ]
      },
      {
       "output_type": "stream",
       "stream": "stdout",
       "text": [
        "\n",
        "              recall: 0.983 +- 0.033"
       ]
      },
      {
       "output_type": "stream",
       "stream": "stdout",
       "text": [
        "\n",
        "                  f1: 0.991 +- 0.017"
       ]
      },
      {
       "output_type": "stream",
       "stream": "stdout",
       "text": [
        "\n",
        "   average_precision: 1.000 +- 0.000"
       ]
      },
      {
       "output_type": "stream",
       "stream": "stdout",
       "text": [
        "\n",
        "             roc_auc: 1.000 +- 0.000"
       ]
      },
      {
       "output_type": "stream",
       "stream": "stdout",
       "text": [
        "\n",
        "--------------------------------------------------------------------------------\n",
        "CPU times: user 2h 57min 31s, sys: 23min 42s, total: 3h 21min 14s"
       ]
      },
      {
       "output_type": "stream",
       "stream": "stdout",
       "text": [
        "\n",
        "Wall time: 5h 16min 1s\n"
       ]
      }
     ],
     "prompt_number": 18
    }
   ],
   "metadata": {}
  }
 ]
}