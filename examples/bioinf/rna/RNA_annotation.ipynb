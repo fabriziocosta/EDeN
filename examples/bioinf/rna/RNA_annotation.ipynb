{
 "cells": [
  {
   "cell_type": "markdown",
   "metadata": {},
   "source": [
    "#RNA family characterization\n",
    "\n",
    "Application scenario: we want to characterize RNA family, identifying regions with their structural contexts that are characteristic of the family"
   ]
  },
  {
   "cell_type": "code",
   "execution_count": 10,
   "metadata": {
    "collapsed": false
   },
   "outputs": [],
   "source": [
    "%matplotlib inline\n",
    "from eden.util import configure_logging\n",
    "import logging\n",
    "configure_logging(logging.getLogger(),verbosity=2)"
   ]
  },
  {
   "cell_type": "markdown",
   "metadata": {},
   "source": [
    "given the RFAM id of a family we retrieve it from the RFAM online database\n",
    "composing the correspondent URL"
   ]
  },
  {
   "cell_type": "code",
   "execution_count": 11,
   "metadata": {
    "collapsed": false
   },
   "outputs": [],
   "source": [
    "def rfam_uri(family_id):\n",
    "    return '%s.fa'%(family_id)\n",
    "\n",
    "def rfam_uri(family_id):\n",
    "    return 'http://rfam.xfam.org/family/%s/alignment?acc=%s&format=fastau&download=0'%(family_id,family_id)"
   ]
  },
  {
   "cell_type": "code",
   "execution_count": 12,
   "metadata": {
    "collapsed": false
   },
   "outputs": [],
   "source": [
    "rfam_id = 'RF00162' #SAM riboswitch (S box leader)\n",
    "rfam_id = 'RF01725' #SAM-I/IV variant riboswitch\n",
    "rfam_id = 'RF00005' #tRNA\n",
    "rfam_id = 'RF02276' #hammerhead"
   ]
  },
  {
   "cell_type": "markdown",
   "metadata": {},
   "source": [
    "prepare a function that composes all desired pre-processing steps over the original data"
   ]
  },
  {
   "cell_type": "code",
   "execution_count": 13,
   "metadata": {
    "collapsed": false
   },
   "outputs": [],
   "source": [
    "def pre_process( data ):\n",
    "    from eden.converter.rna.rnafold import rnafold_to_eden\n",
    "    graphs = rnafold_to_eden( data )\n",
    "    return graphs"
   ]
  },
  {
   "cell_type": "markdown",
   "metadata": {},
   "source": [
    "employ the vectorizer to transform the graph instances into sparse vectors and collect all the vectors in a data matrix "
   ]
  },
  {
   "cell_type": "markdown",
   "metadata": {},
   "source": [
    "repeat the procedure on a different RNA family that will be used as negative class (...or randomly shuffle the sequences to create the negative examples)"
   ]
  },
  {
   "cell_type": "markdown",
   "metadata": {},
   "source": [
    "concatenate the two data matrices into one matrix and create a target vector that identifies with +1 and -1 the instances comping form the orginal and the shuffled data"
   ]
  },
  {
   "cell_type": "markdown",
   "metadata": {},
   "source": [
    "Fit a predictor"
   ]
  },
  {
   "cell_type": "code",
   "execution_count": 19,
   "metadata": {
    "collapsed": false
   },
   "outputs": [],
   "source": [
    "def model(uri, pre_process, size=None):\n",
    "\n",
    "    from eden.graph import Vectorizer\n",
    "    vectorizer = Vectorizer( complexity=2 )\n",
    "\n",
    "    from eden.converter.fasta import fasta_to_sequence\n",
    "    seqs = fasta_to_sequence(uri)\n",
    "    \n",
    "    from itertools import tee, islice\n",
    "    if size is not None:\n",
    "        seqs = islice(seqs,size)\n",
    "    seqs, seqs_ = tee(seqs)\n",
    "    \n",
    "    pos_graphs = pre_process( seqs )\n",
    "    \n",
    "    from eden.modifier.seq import seq_to_seq, shuffle_modifier\n",
    "    seqs_neg = seq_to_seq( seqs_, modifier=shuffle_modifier, times=4, order=2 )\n",
    "    neg_graphs = pre_process( seqs_neg )\n",
    "\n",
    "    from eden.util import fit\n",
    "    estimator = fit(pos_graphs, neg_graphs, vectorizer, n_jobs=-1, cv=10, n_iter_search=20)\n",
    "    \n",
    "    return estimator, vectorizer"
   ]
  },
  {
   "cell_type": "code",
   "execution_count": 20,
   "metadata": {
    "collapsed": false
   },
   "outputs": [
    {
     "name": "stdout",
     "output_type": "stream",
     "text": [
      "Starting new HTTP connection (1): rfam.xfam.org\n",
      "\"GET /family/RF02276/alignment?acc=RF02276&format=fastau&download=0 HTTP/1.1\" 200 2354\n",
      "Positive data: Instances: 24 ; Features: 1048577 with an avg of 495 features per instance\n",
      "Negative data: Instances: 96 ; Features: 1048577 with an avg of 507 features per instance\n",
      "\n",
      "Classifier:\n",
      "SGDClassifier(alpha=0.000667904512373, average=True, class_weight='auto',\n",
      "       epsilon=0.1, eta0=0.323506221251, fit_intercept=True, l1_ratio=0.15,\n",
      "       learning_rate='invscaling', loss='hinge', n_iter=94, n_jobs=-1,\n",
      "       penalty='l2', power_t=0.29196876111, random_state=None,\n",
      "       shuffle=True, verbose=0, warm_start=False)\n",
      "\n",
      "Predictive performance:\n",
      "            accuracy: 0.983 +- 0.035\n",
      "           precision: 1.000 +- 0.000\n",
      "              recall: 0.900 +- 0.200\n",
      "                  f1: 0.933 +- 0.133\n",
      "   average_precision: 0.979 +- 0.063\n",
      "             roc_auc: 0.994 +- 0.017\n",
      "Elapsed time: 25.3 secs\n",
      "CPU times: user 2.9 s, sys: 1.53 s, total: 4.43 s\n",
      "Wall time: 25.3 s\n"
     ]
    }
   ],
   "source": [
    "%%time\n",
    "estimator, vectorizer = model(rfam_uri( rfam_id ), pre_process, size=50)"
   ]
  },
  {
   "cell_type": "markdown",
   "metadata": {},
   "source": [
    "Setup the Annotator\n",
    "\n",
    "the Annotator takes in input a vecotrizer and a predictor\n",
    "\n",
    "annotate with colors the discriminative importance of different regions of the structural graphs"
   ]
  },
  {
   "cell_type": "code",
   "execution_count": 27,
   "metadata": {
    "collapsed": false,
    "scrolled": false
   },
   "outputs": [
    {
     "name": "stdout",
     "output_type": "stream",
     "text": [
      "Starting new HTTP connection (1): rfam.xfam.org\n",
      "\"GET /family/RF02276/alignment?acc=RF02276&format=fastau&download=0 HTTP/1.1\" 200 2354\n",
      "0\n"
     ]
    }
   ],
   "source": [
    "from eden.util.display import draw_graph\n",
    "import itertools\n",
    "from eden.converter.fasta import fasta_to_sequence\n",
    "seqs = fasta_to_sequence(rfam_uri( rfam_id ))\n",
    "\n",
    "graphs = itertools.islice(pre_process(seqs),7,8)\n",
    "graphs = vectorizer.annotate( graphs, estimator = estimator )\n",
    "\n",
    "#parameters for visualization\n",
    "opts={'size':9, 'node_border':False, 'node_size':200, 'font_size':9, 'vertex_alpha':0.6, 'title_key':'id'}\n",
    "for i, graph in enumerate(graphs):\n",
    "    print i\n",
    "    #draw_graph(graph, vertex_color='importance', colormap='YlOrRd', **opts)\n",
    "    draw_graph(graph, vertex_color='importance', colormap='YlOrRd', file_name='rna_%d.pdf'%(i), **opts)"
   ]
  },
  {
   "cell_type": "code",
   "execution_count": null,
   "metadata": {
    "collapsed": true
   },
   "outputs": [],
   "source": []
  }
 ],
 "metadata": {
  "kernelspec": {
   "display_name": "Python 2",
   "language": "python",
   "name": "python2"
  },
  "language_info": {
   "codemirror_mode": {
    "name": "ipython",
    "version": 2
   },
   "file_extension": ".py",
   "mimetype": "text/x-python",
   "name": "python",
   "nbconvert_exporter": "python",
   "pygments_lexer": "ipython2",
   "version": "2.7.6"
  }
 },
 "nbformat": 4,
 "nbformat_minor": 0
}
