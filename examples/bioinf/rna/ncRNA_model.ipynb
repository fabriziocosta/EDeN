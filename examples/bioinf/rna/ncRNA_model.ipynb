{
 "cells": [
  {
   "cell_type": "code",
   "execution_count": 5,
   "metadata": {
    "collapsed": false
   },
   "outputs": [],
   "source": [
    "def train_ncRNA_model(fname=None, model_fname=None, n_iter=40):\n",
    "    #parameters\n",
    "    times=5\n",
    "    size=100\n",
    "    active_set_size=1000\n",
    "    threshold=1\n",
    "    n_active_learning_iterations=4\n",
    "    train_test_split=0.7\n",
    "    n_jobs=8\n",
    "    \n",
    "    def rfam_uri(family_id):\n",
    "        return 'http://rfam.xfam.org/family/%s/alignment?acc=%s&format=fastau&download=0'%(family_id,family_id)\n",
    "    def rfam_uri(family_id):\n",
    "        return '%s.fa'%(family_id)\n",
    "    \n",
    "    def pre_processor( data, **args):\n",
    "        from eden.converter.rna.rnashapes import rnashapes_to_eden\n",
    "        graphs = rnashapes_to_eden( data, **args )\n",
    "        return graphs\n",
    "\n",
    "    \n",
    "    from eden.graph import Vectorizer\n",
    "    vectorizer = Vectorizer()\n",
    "\n",
    "    from sklearn.linear_model import SGDClassifier\n",
    "    estimator = SGDClassifier(class_weight='auto', shuffle=True)\n",
    "    \n",
    "\n",
    "    #create iterable from files\n",
    "    from eden.converter.fasta import fasta_to_sequence\n",
    "    seqs = fasta_to_sequence( rfam_uri( rfam_id ) )\n",
    "    from itertools import tee\n",
    "    seqs,seqs_=tee(seqs)\n",
    "    iterable_pos = seqs\n",
    "    from eden.modifier.seq import seq_to_seq, shuffle_modifier\n",
    "    iterable_neg = seq_to_seq( seqs_, modifier=shuffle_modifier, times=times, order=2 )\n",
    "\n",
    "    #consier only first 'size' elements\n",
    "    from itertools import islice\n",
    "    iterable_pos = islice(iterable_pos,size)\n",
    "    iterable_neg = islice(iterable_neg,size*times)\n",
    "\n",
    "    #split train/test\n",
    "    from eden.util import random_bipartition_iter\n",
    "    iterable_pos_train, iterable_pos_test = random_bipartition_iter(iterable_pos, relative_size=train_test_split)\n",
    "    iterable_neg_train, iterable_neg_test = random_bipartition_iter(iterable_neg, relative_size=train_test_split)\n",
    "    \n",
    "    #make predictive model\n",
    "    from eden.model import ActiveLearningBinaryClassificationModel\n",
    "    model = ActiveLearningBinaryClassificationModel(pre_processor=pre_processor, \n",
    "                                                    estimator=estimator, \n",
    "                                                    vectorizer=vectorizer, \n",
    "                                                    n_jobs=n_jobs)\n",
    "    \n",
    "    #optimize hyperparameters and fit model\n",
    "    from numpy.random import randint\n",
    "    from numpy.random import uniform\n",
    "    pre_processor_parameters={'max_num':[1,2,3], \n",
    "                              'shape_type':[4,5], \n",
    "                              'energy_range':randint(10, 40, size=n_iter)}\n",
    "\n",
    "    vectorizer_parameters={'complexity':[1,2,3]}\n",
    "\n",
    "    estimator_parameters={'n_iter':randint(5, 100, size=n_iter),\n",
    "                          'penalty':['l1','l2','elasticnet'],\n",
    "                          'l1_ratio':uniform(0.1,0.9, size=n_iter), \n",
    "                          'loss':['hinge', 'log', 'modified_huber', 'squared_hinge', 'perceptron'],\n",
    "                          'power_t':uniform(0.1, size=n_iter),\n",
    "                          'alpha': [10**x for x in range(-8,0)],\n",
    "                          'eta0': [10**x for x in range(-4,-1)],\n",
    "                          'learning_rate': [\"invscaling\", \"constant\", \"optimal\"],\n",
    "                          'n_jobs':[n_jobs]}\n",
    "\n",
    "    model.optimize(iterable_pos_train, iterable_neg_train, \n",
    "                   model_name=model_fname,\n",
    "                   n_active_learning_iterations=n_active_learning_iterations,\n",
    "                   size_positive=-1,\n",
    "                   size_negative=active_set_size,\n",
    "                   n_iter=n_iter, cv=3,\n",
    "                   pre_processor_parameters=pre_processor_parameters, \n",
    "                   vectorizer_parameters=vectorizer_parameters, \n",
    "                   estimator_parameters=estimator_parameters)\n",
    "\n",
    "    #estimate predictive performance\n",
    "    model.estimate( iterable_pos_test, iterable_neg_test )\n",
    "    \n",
    "    \n",
    "    \n",
    "def test_ncRNA_model(fname=None, model_fname=None):\n",
    "    from eden.model import ActiveLearningBinaryClassificationModel\n",
    "\n",
    "    model = ActiveLearningBinaryClassificationModel()\n",
    "    model.load(model_fname)\n",
    "\n",
    "    def rfam_uri(family_id):\n",
    "        return 'http://rfam.xfam.org/family/%s/alignment?acc=%s&format=fastau&download=0'%(family_id,family_id)\n",
    "\n",
    "    from eden.converter.fasta import fasta_to_sequence\n",
    "    seqs = fasta_to_sequence( rfam_uri( rfam_id ) )\n",
    "    from itertools import tee\n",
    "    seqs,seqs_=tee(seqs)\n",
    "    \n",
    "    predictions= model.decision_function( seqs_ )\n",
    "    \n",
    "    from itertools import izip\n",
    "    seqs,seqs_=tee(seqs)\n",
    "    results = [(p,s) for s,p in izip(seqs_,predictions)]\n",
    "    \n",
    "    return results"
   ]
  },
  {
   "cell_type": "code",
   "execution_count": 6,
   "metadata": {
    "collapsed": true
   },
   "outputs": [],
   "source": [
    "from eden.util import configure_logging\n",
    "import logging\n",
    "configure_logging(logging.getLogger(),verbosity=2)"
   ]
  },
  {
   "cell_type": "code",
   "execution_count": 9,
   "metadata": {
    "collapsed": false
   },
   "outputs": [],
   "source": [
    "rfam_id = 'RF02275' #Hammerhead_HH9\n",
    "rfam_id = 'RF00871' #microRNA mir-689\n",
    "rfam_id = 'RF00005' #tRNA\n",
    "rfam_id = 'RF00015'\n",
    "rfam_id = 'RF02012' "
   ]
  },
  {
   "cell_type": "code",
   "execution_count": null,
   "metadata": {
    "collapsed": false
   },
   "outputs": [
    {
     "name": "stdout",
     "output_type": "stream",
     "text": [
      "\n",
      "\n",
      "\tParameters range:\n",
      "\n",
      "Pre_processor:\n",
      "energy_range: [17 31 30 11 18 15 24 23 14 38 38 17 16 39 30 29 17 20 24 34]\n",
      "   max_num: [1, 2, 3]\n",
      "shape_type: [4, 5]\n",
      "\n",
      "Vectorizer:\n",
      "complexity: [1, 2, 3]\n",
      "\n",
      "Estimator:\n",
      "     alpha: [1e-08, 1e-07, 1e-06, 1e-05, 0.0001, 0.001, 0.01, 0.1]\n",
      "      eta0: [0.0001, 0.001, 0.01]\n",
      "  l1_ratio: [ 0.55479056  0.54846589  0.4183884   0.84191675  0.47383129  0.77894029\n",
      "  0.1080427   0.10025468  0.16571205  0.18084457  0.16653707  0.39051119\n",
      "  0.3585703   0.19014433  0.27040643  0.46347171  0.47561892  0.66528359\n",
      "  0.81003079  0.24769965]\n",
      "learning_rate: ['invscaling', 'constant', 'optimal']\n",
      "      loss: ['hinge', 'log', 'modified_huber', 'squared_hinge', 'perceptron']\n",
      "    n_iter: [47 56 89 49 13 26  7 38 62 42  8 26 65 48 51 36 99 59 59 77]\n",
      "    n_jobs: [8]\n",
      "   penalty: ['l1', 'l2', 'elasticnet']\n",
      "   power_t: [ 0.24776542  0.7119703   0.43620599  0.18734926  0.38273151  0.95381857\n",
      "  0.28777298  0.20703581  0.36668539  0.86857882  0.18618436  0.7409542\n",
      "  0.1170323   0.66031346  0.37049363  0.97561023  0.61180249  0.47549698\n",
      "  0.1970917   0.3403358 ]\n"
     ]
    }
   ],
   "source": [
    "rfam_id = 'RF00005' #tRNA\n",
    "model_fname=rfam_id+'.model'\n",
    "train_ncRNA_model(fname=rfam_id, model_fname=model_fname, n_iter=20)\n",
    "results = test_ncRNA_model(fname=rfam_id, model_fname=model_fname)"
   ]
  },
  {
   "cell_type": "code",
   "execution_count": null,
   "metadata": {
    "collapsed": false
   },
   "outputs": [],
   "source": [
    "from ipy_table import make_table, apply_theme,  set_global_style\n",
    "mat=[('ID','Conf')]\n",
    "for item in sorted(results, reverse=True):\n",
    "    (confidence,(header,seq))=item\n",
    "    mat.append((header+' '+seq,confidence))\n",
    "make_table(mat)\n",
    "apply_theme('basic')\n",
    "set_global_style(float_format = '%0.3e')"
   ]
  }
 ],
 "metadata": {
  "kernelspec": {
   "display_name": "Python 2",
   "language": "python",
   "name": "python2"
  },
  "language_info": {
   "codemirror_mode": {
    "name": "ipython",
    "version": 2
   },
   "file_extension": ".py",
   "mimetype": "text/x-python",
   "name": "python",
   "nbconvert_exporter": "python",
   "pygments_lexer": "ipython2",
   "version": "2.7.6"
  }
 },
 "nbformat": 4,
 "nbformat_minor": 0
}
