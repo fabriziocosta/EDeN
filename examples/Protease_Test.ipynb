{
 "metadata": {
  "name": "",
  "signature": "sha256:cad9fbdd1011150b1e90ba337c95df0a062f446cb23bcc844184c7b11e69bbe5"
 },
 "nbformat": 3,
 "nbformat_minor": 0,
 "worksheets": [
  {
   "cells": [
    {
     "cell_type": "code",
     "collapsed": false,
     "input": [
      "def test_protease_model(fname=None, model_fname=None):\n",
      "    from eden.model import ActiveLearningBinaryClassificationModel\n",
      "\n",
      "    model = ActiveLearningBinaryClassificationModel()\n",
      "    model.load(model_fname)\n",
      "\n",
      "    from eden.converter.fasta import fasta_to_sequence\n",
      "    seqs = fasta_to_sequence( fname )\n",
      "    from itertools import tee\n",
      "    seqs,seqs_=tee(seqs)\n",
      "    predictions= model.decision_function( seqs_ )\n",
      "    from itertools import izip\n",
      "    return izip(predictions,seqs)"
     ],
     "language": "python",
     "metadata": {},
     "outputs": [],
     "prompt_number": 1
    },
    {
     "cell_type": "code",
     "collapsed": false,
     "input": [
      "dirname='proteasis'\n",
      "file_names = !ls $dirname\n",
      "names = [name.split('.')[0] for name in file_names]\n",
      "for i,name in enumerate(names):\n",
      "    print i+1, name"
     ],
     "language": "python",
     "metadata": {},
     "outputs": [
      {
       "output_type": "stream",
       "stream": "stdout",
       "text": [
        "1 CAPN1\n",
        "2 CAPN2\n",
        "3 CASP1\n",
        "4 CASP3\n",
        "5 CASP7\n",
        "6 CMA1\n",
        "7 CTSB\n",
        "8 CTSD\n",
        "9 CTSE\n",
        "10 CTSG\n",
        "11 CTSK\n",
        "12 CTSL1\n",
        "13 CTSS\n",
        "14 ELANE\n",
        "15 F2\n",
        "16 FURIN\n",
        "17 GZMA\n",
        "18 GZMB\n",
        "19 GZMM\n",
        "20 HPN\n",
        "21 HTRA2\n",
        "22 KLK4\n",
        "23 MEP1A\n",
        "24 MEP1B\n",
        "25 MME\n",
        "26 MMP12\n",
        "27 MMP13\n",
        "28 MMP14\n",
        "29 MMP2\n",
        "30 MMP3\n",
        "31 MMP7\n",
        "32 MMP8\n",
        "33 MMP9\n",
        "34 PCSK2\n",
        "35 PCSK4\n",
        "36 PCSK5\n",
        "37 PCSK6\n",
        "38 PCSK7\n",
        "39 PGA3\n",
        "40 PLG\n",
        "41 ST14\n",
        "42 TMPRSS11E\n",
        "43 TMPRSS6\n",
        "44 TMPRSS7\n"
       ]
      }
     ],
     "prompt_number": 9
    },
    {
     "cell_type": "code",
     "collapsed": false,
     "input": [
      "%%time\n",
      "\n",
      "#Test \n",
      "n_models=len(names)\n",
      "n_models=38\n",
      "\n",
      "dataset_sizes={}\n",
      "for name in names:\n",
      "    fname=dirname+'/'+name+'.fasta'\n",
      "    from eden.converter.fasta import fasta_to_sequence\n",
      "    seqs = fasta_to_sequence( fname )\n",
      "    dataset_sizes[name] = sum(1 for x in seqs)\n",
      "\n",
      "f=open('resultfile', 'w')\n",
      "result_matrix={}\n",
      "for train_name in names[:n_models]:\n",
      "    for test_name in names[:n_models]:\n",
      "        model_fname=train_name+'.model'\n",
      "        test_fname=dirname+'/'+test_name+'.fasta'\n",
      "        iterable = test_protease_model(fname=test_fname, model_fname=model_fname)\n",
      "        n_positives = sum( 1 for prediction, seq in iterable if prediction > 0)\n",
      "        ratio = float(n_positives)/dataset_sizes[test_name]\n",
      "        result_matrix[(train_name,test_name)]=(ratio,n_positives)\n",
      "        print ('trained on %s (%d instances) and tested on %s (%d instances) predicts %d positives (%.2f)'%\n",
      "        (train_name,dataset_sizes[train_name],test_name,dataset_sizes[test_name],n_positives,ratio))\n",
      "        print >>f, 'trained on %s (%d instances) and tested on %s (%d instances) predicts %d positives (%.2f)'%(train_name,dataset_sizes[train_name],test_name,dataset_sizes[test_name],n_positives,ratio)"
     ],
     "language": "python",
     "metadata": {},
     "outputs": [
      {
       "output_type": "stream",
       "stream": "stdout",
       "text": [
        "trained on CAPN1 (182 instances) and tested on CAPN1 (182 instances) predicts 182 positives (1.00)\n",
        "trained on CAPN1 (182 instances) and tested on CAPN2 (300 instances) predicts 56 positives (0.19)"
       ]
      },
      {
       "output_type": "stream",
       "stream": "stdout",
       "text": [
        "\n",
        "trained on CAPN1 (182 instances) and tested on CASP1 (336 instances) predicts 0 positives (0.00)"
       ]
      },
      {
       "output_type": "stream",
       "stream": "stdout",
       "text": [
        "\n",
        "trained on CAPN1 (182 instances) and tested on CASP3 (1104 instances) predicts 0 positives (0.00)"
       ]
      },
      {
       "output_type": "stream",
       "stream": "stdout",
       "text": [
        "\n",
        "trained on CAPN1 (182 instances) and tested on CASP7 (296 instances) predicts 0 positives (0.00)"
       ]
      },
      {
       "output_type": "stream",
       "stream": "stdout",
       "text": [
        "\n",
        "trained on CAPN1 (182 instances) and tested on CMA1 (94 instances) predicts 2 positives (0.02)"
       ]
      },
      {
       "output_type": "stream",
       "stream": "stdout",
       "text": [
        "\n",
        "trained on CAPN1 (182 instances) and tested on CTSB (1158 instances) predicts 14 positives (0.01)"
       ]
      },
      {
       "output_type": "stream",
       "stream": "stdout",
       "text": [
        "\n",
        "trained on CAPN1 (182 instances) and tested on CTSD (1494 instances) predicts 0 positives (0.00)"
       ]
      },
      {
       "output_type": "stream",
       "stream": "stdout",
       "text": [
        "\n",
        "trained on CAPN1 (182 instances) and tested on CTSE (2696 instances) predicts 6 positives (0.00)"
       ]
      },
      {
       "output_type": "stream",
       "stream": "stdout",
       "text": [
        "\n",
        "trained on CAPN1 (182 instances) and tested on CTSG (484 instances) predicts 4 positives (0.01)"
       ]
      },
      {
       "output_type": "stream",
       "stream": "stdout",
       "text": [
        "\n",
        "trained on CAPN1 (182 instances) and tested on CTSK (228 instances) predicts 0 positives (0.00)"
       ]
      },
      {
       "output_type": "stream",
       "stream": "stdout",
       "text": [
        "\n",
        "trained on CAPN1 (182 instances) and tested on CTSL1 (2106 instances) predicts 20 positives (0.01)"
       ]
      },
      {
       "output_type": "stream",
       "stream": "stdout",
       "text": [
        "\n",
        "trained on CAPN1 (182 instances) and tested on CTSS (1462 instances) predicts 12 positives (0.01)"
       ]
      },
      {
       "output_type": "stream",
       "stream": "stdout",
       "text": [
        "\n",
        "trained on CAPN1 (182 instances) and tested on ELANE (724 instances) predicts 0 positives (0.00)"
       ]
      },
      {
       "output_type": "stream",
       "stream": "stdout",
       "text": [
        "\n",
        "trained on CAPN1 (182 instances) and tested on F2 (264 instances) predicts 0 positives (0.00)"
       ]
      },
      {
       "output_type": "stream",
       "stream": "stdout",
       "text": [
        "\n",
        "trained on CAPN1 (182 instances) and tested on FURIN (356 instances) predicts 0 positives (0.00)"
       ]
      },
      {
       "output_type": "stream",
       "stream": "stdout",
       "text": [
        "\n",
        "trained on CAPN1 (182 instances) and tested on GZMA (578 instances) predicts 0 positives (0.00)"
       ]
      },
      {
       "output_type": "stream",
       "stream": "stdout",
       "text": [
        "\n",
        "trained on CAPN1 (182 instances) and tested on GZMB (3206 instances) predicts 12 positives (0.00)"
       ]
      },
      {
       "output_type": "stream",
       "stream": "stdout",
       "text": [
        "\n",
        "trained on CAPN1 (182 instances) and tested on GZMM (1458 instances) predicts 6 positives (0.00)"
       ]
      },
      {
       "output_type": "stream",
       "stream": "stdout",
       "text": [
        "\n",
        "trained on CAPN1 (182 instances) and tested on HPN (192 instances) predicts 0 positives (0.00)"
       ]
      },
      {
       "output_type": "stream",
       "stream": "stdout",
       "text": [
        "\n",
        "trained on CAPN1 (182 instances) and tested on HTRA2 (136 instances) predicts 0 positives (0.00)"
       ]
      },
      {
       "output_type": "stream",
       "stream": "stdout",
       "text": [
        "\n",
        "trained on CAPN1 (182 instances) and tested on KLK4 (204 instances) predicts 0 positives (0.00)"
       ]
      },
      {
       "output_type": "stream",
       "stream": "stdout",
       "text": [
        "\n",
        "trained on CAPN1 (182 instances) and tested on MEP1A (1524 instances) predicts 14 positives (0.01)"
       ]
      },
      {
       "output_type": "stream",
       "stream": "stdout",
       "text": [
        "\n",
        "trained on CAPN1 (182 instances) and tested on MEP1B (1790 instances) predicts 2 positives (0.00)"
       ]
      },
      {
       "output_type": "stream",
       "stream": "stdout",
       "text": [
        "\n",
        "trained on CAPN1 (182 instances) and tested on MME (184 instances) predicts 6 positives (0.03)"
       ]
      },
      {
       "output_type": "stream",
       "stream": "stdout",
       "text": [
        "\n",
        "trained on CAPN1 (182 instances) and tested on MMP12 (364 instances) predicts 2 positives (0.01)"
       ]
      },
      {
       "output_type": "stream",
       "stream": "stdout",
       "text": [
        "\n",
        "trained on CAPN1 (182 instances) and tested on MMP13 (194 instances) predicts 0 positives (0.00)"
       ]
      },
      {
       "output_type": "stream",
       "stream": "stdout",
       "text": [
        "\n",
        "trained on CAPN1 (182 instances) and tested on MMP14 (246 instances) predicts 2 positives (0.01)"
       ]
      },
      {
       "output_type": "stream",
       "stream": "stdout",
       "text": [
        "\n",
        "trained on CAPN1 (182 instances) and tested on MMP2 (5072 instances) predicts 4 positives (0.00)"
       ]
      },
      {
       "output_type": "stream",
       "stream": "stdout",
       "text": [
        "\n",
        "trained on CAPN1 (182 instances) and tested on MMP3 (328 instances) predicts 2 positives (0.01)"
       ]
      },
      {
       "output_type": "stream",
       "stream": "stdout",
       "text": [
        "\n",
        "trained on CAPN1 (182 instances) and tested on MMP7 (378 instances) predicts 0 positives (0.00)"
       ]
      },
      {
       "output_type": "stream",
       "stream": "stdout",
       "text": [
        "\n",
        "trained on CAPN1 (182 instances) and tested on MMP8 (200 instances) predicts 0 positives (0.00)"
       ]
      },
      {
       "output_type": "stream",
       "stream": "stdout",
       "text": [
        "\n",
        "trained on CAPN1 (182 instances) and tested on MMP9 (672 instances) predicts 8 positives (0.01)"
       ]
      },
      {
       "output_type": "stream",
       "stream": "stdout",
       "text": [
        "\n",
        "trained on CAPN1 (182 instances) and tested on PCSK2 (352 instances) predicts 0 positives (0.00)"
       ]
      },
      {
       "output_type": "stream",
       "stream": "stdout",
       "text": [
        "\n",
        "trained on CAPN1 (182 instances) and tested on PCSK4 (188 instances) predicts 0 positives (0.00)"
       ]
      },
      {
       "output_type": "stream",
       "stream": "stdout",
       "text": [
        "\n",
        "trained on CAPN1 (182 instances) and tested on PCSK5 (226 instances) predicts 0 positives (0.00)"
       ]
      },
      {
       "output_type": "stream",
       "stream": "stdout",
       "text": [
        "\n",
        "trained on CAPN1 (182 instances) and tested on PCSK6 (194 instances) predicts 0 positives (0.00)"
       ]
      },
      {
       "output_type": "stream",
       "stream": "stdout",
       "text": [
        "\n",
        "trained on CAPN1 (182 instances) and tested on PCSK7 (202 instances) predicts 0 positives (0.00)"
       ]
      },
      {
       "output_type": "stream",
       "stream": "stdout",
       "text": [
        "\n",
        "trained on CAPN2 (300 instances) and tested on CAPN1 (182 instances) predicts 88 positives (0.48)"
       ]
      },
      {
       "output_type": "stream",
       "stream": "stdout",
       "text": [
        "\n",
        "trained on CAPN2 (300 instances) and tested on CAPN2 (300 instances) predicts 298 positives (0.99)"
       ]
      },
      {
       "output_type": "stream",
       "stream": "stdout",
       "text": [
        "\n",
        "trained on CAPN2 (300 instances) and tested on CASP1 (336 instances) predicts 28 positives (0.08)"
       ]
      },
      {
       "output_type": "stream",
       "stream": "stdout",
       "text": [
        "\n",
        "trained on CAPN2 (300 instances) and tested on CASP3 (1104 instances) predicts 70 positives (0.06)"
       ]
      },
      {
       "output_type": "stream",
       "stream": "stdout",
       "text": [
        "\n",
        "trained on CAPN2 (300 instances) and tested on CASP7 (296 instances) predicts 30 positives (0.10)"
       ]
      },
      {
       "output_type": "stream",
       "stream": "stdout",
       "text": [
        "\n",
        "trained on CAPN2 (300 instances) and tested on CMA1 (94 instances) predicts 10 positives (0.11)"
       ]
      },
      {
       "output_type": "stream",
       "stream": "stdout",
       "text": [
        "\n",
        "trained on CAPN2 (300 instances) and tested on CTSB (1158 instances) predicts 94 positives (0.08)"
       ]
      },
      {
       "output_type": "stream",
       "stream": "stdout",
       "text": [
        "\n",
        "trained on CAPN2 (300 instances) and tested on CTSD (1494 instances) predicts 44 positives (0.03)"
       ]
      },
      {
       "output_type": "stream",
       "stream": "stdout",
       "text": [
        "\n",
        "trained on CAPN2 (300 instances) and tested on CTSE (2696 instances) predicts 36 positives (0.01)"
       ]
      },
      {
       "output_type": "stream",
       "stream": "stdout",
       "text": [
        "\n",
        "trained on CAPN2 (300 instances) and tested on CTSG (484 instances) predicts 36 positives (0.07)"
       ]
      },
      {
       "output_type": "stream",
       "stream": "stdout",
       "text": [
        "\n",
        "trained on CAPN2 (300 instances) and tested on CTSK (228 instances) predicts 36 positives (0.16)"
       ]
      },
      {
       "output_type": "stream",
       "stream": "stdout",
       "text": [
        "\n",
        "trained on CAPN2 (300 instances) and tested on CTSL1 (2106 instances) predicts 438 positives (0.21)"
       ]
      },
      {
       "output_type": "stream",
       "stream": "stdout",
       "text": [
        "\n",
        "trained on CAPN2 (300 instances) and tested on CTSS (1462 instances) predicts 342 positives (0.23)"
       ]
      },
      {
       "output_type": "stream",
       "stream": "stdout",
       "text": [
        "\n",
        "trained on CAPN2 (300 instances) and tested on ELANE (724 instances) predicts 48 positives (0.07)"
       ]
      },
      {
       "output_type": "stream",
       "stream": "stdout",
       "text": [
        "\n",
        "trained on CAPN2 (300 instances) and tested on F2 (264 instances) predicts 40 positives (0.15)"
       ]
      },
      {
       "output_type": "stream",
       "stream": "stdout",
       "text": [
        "\n",
        "trained on CAPN2 (300 instances) and tested on FURIN (356 instances) predicts 14 positives (0.04)"
       ]
      },
      {
       "output_type": "stream",
       "stream": "stdout",
       "text": [
        "\n",
        "trained on CAPN2 (300 instances) and tested on GZMA (578 instances) predicts 54 positives (0.09)"
       ]
      },
      {
       "output_type": "stream",
       "stream": "stdout",
       "text": [
        "\n",
        "trained on CAPN2 (300 instances) and tested on GZMB (3206 instances) predicts 114 positives (0.04)"
       ]
      },
      {
       "output_type": "stream",
       "stream": "stdout",
       "text": [
        "\n",
        "trained on CAPN2 (300 instances) and tested on GZMM (1458 instances) predicts 74 positives (0.05)"
       ]
      },
      {
       "output_type": "stream",
       "stream": "stdout",
       "text": [
        "\n",
        "trained on CAPN2 (300 instances) and tested on HPN (192 instances) predicts 8 positives (0.04)"
       ]
      },
      {
       "output_type": "stream",
       "stream": "stdout",
       "text": [
        "\n",
        "trained on CAPN2 (300 instances) and tested on HTRA2 (136 instances) predicts 14 positives (0.10)"
       ]
      },
      {
       "output_type": "stream",
       "stream": "stdout",
       "text": [
        "\n",
        "trained on CAPN2 (300 instances) and tested on KLK4 (204 instances) predicts 16 positives (0.08)"
       ]
      },
      {
       "output_type": "stream",
       "stream": "stdout",
       "text": [
        "\n",
        "trained on CAPN2 (300 instances) and tested on MEP1A (1524 instances) predicts 132 positives (0.09)"
       ]
      },
      {
       "output_type": "stream",
       "stream": "stdout",
       "text": [
        "\n",
        "trained on CAPN2 (300 instances) and tested on MEP1B (1790 instances) predicts 100 positives (0.06)"
       ]
      },
      {
       "output_type": "stream",
       "stream": "stdout",
       "text": [
        "\n",
        "trained on CAPN2 (300 instances) and tested on MME (184 instances) predicts 6 positives (0.03)"
       ]
      },
      {
       "output_type": "stream",
       "stream": "stdout",
       "text": [
        "\n",
        "trained on CAPN2 (300 instances) and tested on MMP12 (364 instances) predicts 26 positives (0.07)"
       ]
      },
      {
       "output_type": "stream",
       "stream": "stdout",
       "text": [
        "\n",
        "trained on CAPN2 (300 instances) and tested on MMP13 (194 instances) predicts 12 positives (0.06)"
       ]
      },
      {
       "output_type": "stream",
       "stream": "stdout",
       "text": [
        "\n",
        "trained on CAPN2 (300 instances) and tested on MMP14 (246 instances) predicts 18 positives (0.07)"
       ]
      },
      {
       "output_type": "stream",
       "stream": "stdout",
       "text": [
        "\n",
        "trained on CAPN2 (300 instances) and tested on MMP2 (5072 instances) predicts 130 positives (0.03)"
       ]
      },
      {
       "output_type": "stream",
       "stream": "stdout",
       "text": [
        "\n",
        "trained on CAPN2 (300 instances) and tested on MMP3 (328 instances) predicts 14 positives (0.04)"
       ]
      },
      {
       "output_type": "stream",
       "stream": "stdout",
       "text": [
        "\n",
        "trained on CAPN2 (300 instances) and tested on MMP7 (378 instances) predicts 18 positives (0.05)"
       ]
      },
      {
       "output_type": "stream",
       "stream": "stdout",
       "text": [
        "\n",
        "trained on CAPN2 (300 instances) and tested on MMP8 (200 instances) predicts 12 positives (0.06)"
       ]
      },
      {
       "output_type": "stream",
       "stream": "stdout",
       "text": [
        "\n",
        "trained on CAPN2 (300 instances) and tested on MMP9 (672 instances) predicts 36 positives (0.05)"
       ]
      },
      {
       "output_type": "stream",
       "stream": "stdout",
       "text": [
        "\n",
        "trained on CAPN2 (300 instances) and tested on PCSK2 (352 instances) predicts 16 positives (0.05)"
       ]
      },
      {
       "output_type": "stream",
       "stream": "stdout",
       "text": [
        "\n",
        "trained on CAPN2 (300 instances) and tested on PCSK4 (188 instances) predicts 4 positives (0.02)"
       ]
      },
      {
       "output_type": "stream",
       "stream": "stdout",
       "text": [
        "\n",
        "trained on CAPN2 (300 instances) and tested on PCSK5 (226 instances) predicts 6 positives (0.03)"
       ]
      },
      {
       "output_type": "stream",
       "stream": "stdout",
       "text": [
        "\n",
        "trained on CAPN2 (300 instances) and tested on PCSK6 (194 instances) predicts 2 positives (0.01)"
       ]
      },
      {
       "output_type": "stream",
       "stream": "stdout",
       "text": [
        "\n",
        "trained on CAPN2 (300 instances) and tested on PCSK7 (202 instances) predicts 6 positives (0.03)"
       ]
      },
      {
       "output_type": "stream",
       "stream": "stdout",
       "text": [
        "\n",
        "trained on CASP1 (336 instances) and tested on CAPN1 (182 instances) predicts 0 positives (0.00)"
       ]
      },
      {
       "output_type": "stream",
       "stream": "stdout",
       "text": [
        "\n",
        "trained on CASP1 (336 instances) and tested on CAPN2 (300 instances) predicts 10 positives (0.03)"
       ]
      },
      {
       "output_type": "stream",
       "stream": "stdout",
       "text": [
        "\n",
        "trained on CASP1 (336 instances) and tested on CASP1 (336 instances) predicts 336 positives (1.00)"
       ]
      },
      {
       "output_type": "stream",
       "stream": "stdout",
       "text": [
        "\n",
        "trained on CASP1 (336 instances) and tested on CASP3 (1104 instances) predicts 640 positives (0.58)"
       ]
      },
      {
       "output_type": "stream",
       "stream": "stdout",
       "text": [
        "\n",
        "trained on CASP1 (336 instances) and tested on CASP7 (296 instances) predicts 198 positives (0.67)"
       ]
      },
      {
       "output_type": "stream",
       "stream": "stdout",
       "text": [
        "\n",
        "trained on CASP1 (336 instances) and tested on CMA1 (94 instances) predicts 0 positives (0.00)"
       ]
      },
      {
       "output_type": "stream",
       "stream": "stdout",
       "text": [
        "\n",
        "trained on CASP1 (336 instances) and tested on CTSB (1158 instances) predicts 10 positives (0.01)"
       ]
      },
      {
       "output_type": "stream",
       "stream": "stdout",
       "text": [
        "\n",
        "trained on CASP1 (336 instances) and tested on CTSD (1494 instances) predicts 40 positives (0.03)"
       ]
      },
      {
       "output_type": "stream",
       "stream": "stdout",
       "text": [
        "\n",
        "trained on CASP1 (336 instances) and tested on CTSE (2696 instances) predicts 20 positives (0.01)"
       ]
      },
      {
       "output_type": "stream",
       "stream": "stdout",
       "text": [
        "\n",
        "trained on CASP1 (336 instances) and tested on CTSG (484 instances) predicts 4 positives (0.01)"
       ]
      },
      {
       "output_type": "stream",
       "stream": "stdout",
       "text": [
        "\n",
        "trained on CASP1 (336 instances) and tested on CTSK (228 instances) predicts 4 positives (0.02)"
       ]
      },
      {
       "output_type": "stream",
       "stream": "stdout",
       "text": [
        "\n",
        "trained on CASP1 (336 instances) and tested on CTSL1 (2106 instances) predicts 36 positives (0.02)"
       ]
      },
      {
       "output_type": "stream",
       "stream": "stdout",
       "text": [
        "\n",
        "trained on CASP1 (336 instances) and tested on CTSS (1462 instances) predicts 46 positives (0.03)"
       ]
      },
      {
       "output_type": "stream",
       "stream": "stdout",
       "text": [
        "\n",
        "trained on CASP1 (336 instances) and tested on ELANE (724 instances) predicts 8 positives (0.01)"
       ]
      },
      {
       "output_type": "stream",
       "stream": "stdout",
       "text": [
        "\n",
        "trained on CASP1 (336 instances) and tested on F2 (264 instances) predicts 2 positives (0.01)"
       ]
      },
      {
       "output_type": "stream",
       "stream": "stdout",
       "text": [
        "\n",
        "trained on CASP1 (336 instances) and tested on FURIN (356 instances) predicts 0 positives (0.00)"
       ]
      },
      {
       "output_type": "stream",
       "stream": "stdout",
       "text": [
        "\n",
        "trained on CASP1 (336 instances) and tested on GZMA (578 instances) predicts 0 positives (0.00)"
       ]
      },
      {
       "output_type": "stream",
       "stream": "stdout",
       "text": [
        "\n",
        "trained on CASP1 (336 instances) and tested on GZMB (3206 instances) predicts 670 positives (0.21)"
       ]
      },
      {
       "output_type": "stream",
       "stream": "stdout",
       "text": [
        "\n",
        "trained on CASP1 (336 instances) and tested on GZMM (1458 instances) predicts 12 positives (0.01)"
       ]
      },
      {
       "output_type": "stream",
       "stream": "stdout",
       "text": [
        "\n",
        "trained on CASP1 (336 instances) and tested on HPN (192 instances) predicts 0 positives (0.00)"
       ]
      },
      {
       "output_type": "stream",
       "stream": "stdout",
       "text": [
        "\n",
        "trained on CASP1 (336 instances) and tested on HTRA2 (136 instances) predicts 0 positives (0.00)"
       ]
      },
      {
       "output_type": "stream",
       "stream": "stdout",
       "text": [
        "\n",
        "trained on CASP1 (336 instances) and tested on KLK4 (204 instances) predicts 0 positives (0.00)"
       ]
      },
      {
       "output_type": "stream",
       "stream": "stdout",
       "text": [
        "\n",
        "trained on CASP1 (336 instances) and tested on MEP1A (1524 instances) predicts 102 positives (0.07)"
       ]
      },
      {
       "output_type": "stream",
       "stream": "stdout",
       "text": [
        "\n",
        "trained on CASP1 (336 instances) and tested on MEP1B (1790 instances) predicts 166 positives (0.09)"
       ]
      },
      {
       "output_type": "stream",
       "stream": "stdout",
       "text": [
        "\n",
        "trained on CASP1 (336 instances) and tested on MME (184 instances) predicts 2 positives (0.01)"
       ]
      },
      {
       "output_type": "stream",
       "stream": "stdout",
       "text": [
        "\n",
        "trained on CASP1 (336 instances) and tested on MMP12 (364 instances) predicts 0 positives (0.00)"
       ]
      },
      {
       "output_type": "stream",
       "stream": "stdout",
       "text": [
        "\n",
        "trained on CASP1 (336 instances) and tested on MMP13 (194 instances) predicts 0 positives (0.00)"
       ]
      },
      {
       "output_type": "stream",
       "stream": "stdout",
       "text": [
        "\n",
        "trained on CASP1 (336 instances) and tested on MMP14 (246 instances) predicts 8 positives (0.03)"
       ]
      },
      {
       "output_type": "stream",
       "stream": "stdout",
       "text": [
        "\n",
        "trained on CASP1 (336 instances) and tested on MMP2 (5072 instances) predicts 30 positives (0.01)"
       ]
      },
      {
       "output_type": "stream",
       "stream": "stdout",
       "text": [
        "\n",
        "trained on CASP1 (336 instances) and tested on MMP3 (328 instances) predicts 0 positives (0.00)"
       ]
      },
      {
       "output_type": "stream",
       "stream": "stdout",
       "text": [
        "\n",
        "trained on CASP1 (336 instances) and tested on MMP7 (378 instances) predicts 130 positives (0.34)"
       ]
      },
      {
       "output_type": "stream",
       "stream": "stdout",
       "text": [
        "\n",
        "trained on CASP1 (336 instances) and tested on MMP8 (200 instances) predicts 0 positives (0.00)"
       ]
      },
      {
       "output_type": "stream",
       "stream": "stdout",
       "text": [
        "\n",
        "trained on CASP1 (336 instances) and tested on MMP9 (672 instances) predicts 4 positives (0.01)"
       ]
      },
      {
       "output_type": "stream",
       "stream": "stdout",
       "text": [
        "\n",
        "trained on CASP1 (336 instances) and tested on PCSK2 (352 instances) predicts 0 positives (0.00)"
       ]
      },
      {
       "output_type": "stream",
       "stream": "stdout",
       "text": [
        "\n",
        "trained on CASP1 (336 instances) and tested on PCSK4 (188 instances) predicts 0 positives (0.00)"
       ]
      },
      {
       "output_type": "stream",
       "stream": "stdout",
       "text": [
        "\n",
        "trained on CASP1 (336 instances) and tested on PCSK5 (226 instances) predicts 0 positives (0.00)"
       ]
      },
      {
       "output_type": "stream",
       "stream": "stdout",
       "text": [
        "\n",
        "trained on CASP1 (336 instances) and tested on PCSK6 (194 instances) predicts 0 positives (0.00)"
       ]
      },
      {
       "output_type": "stream",
       "stream": "stdout",
       "text": [
        "\n",
        "trained on CASP1 (336 instances) and tested on PCSK7 (202 instances) predicts 0 positives (0.00)"
       ]
      },
      {
       "output_type": "stream",
       "stream": "stdout",
       "text": [
        "\n",
        "trained on CASP3 (1104 instances) and tested on CAPN1 (182 instances) predicts 0 positives (0.00)"
       ]
      },
      {
       "output_type": "stream",
       "stream": "stdout",
       "text": [
        "\n",
        "trained on CASP3 (1104 instances) and tested on CAPN2 (300 instances) predicts 2 positives (0.01)"
       ]
      },
      {
       "output_type": "stream",
       "stream": "stdout",
       "text": [
        "\n",
        "trained on CASP3 (1104 instances) and tested on CASP1 (336 instances) predicts 92 positives (0.27)"
       ]
      },
      {
       "output_type": "stream",
       "stream": "stdout",
       "text": [
        "\n",
        "trained on CASP3 (1104 instances) and tested on CASP3 (1104 instances) predicts 1102 positives (1.00)"
       ]
      },
      {
       "output_type": "stream",
       "stream": "stdout",
       "text": [
        "\n",
        "trained on CASP3 (1104 instances) and tested on CASP7 (296 instances) predicts 266 positives (0.90)"
       ]
      },
      {
       "output_type": "stream",
       "stream": "stdout",
       "text": [
        "\n",
        "trained on CASP3 (1104 instances) and tested on CMA1 (94 instances) predicts 0 positives (0.00)"
       ]
      },
      {
       "output_type": "stream",
       "stream": "stdout",
       "text": [
        "\n",
        "trained on CASP3 (1104 instances) and tested on CTSB (1158 instances) predicts 0 positives (0.00)"
       ]
      },
      {
       "output_type": "stream",
       "stream": "stdout",
       "text": [
        "\n",
        "trained on CASP3 (1104 instances) and tested on CTSD (1494 instances) predicts 2 positives (0.00)"
       ]
      },
      {
       "output_type": "stream",
       "stream": "stdout",
       "text": [
        "\n",
        "trained on CASP3 (1104 instances) and tested on CTSE (2696 instances) predicts 4 positives (0.00)"
       ]
      },
      {
       "output_type": "stream",
       "stream": "stdout",
       "text": [
        "\n",
        "trained on CASP3 (1104 instances) and tested on CTSG (484 instances) predicts 2 positives (0.00)"
       ]
      },
      {
       "output_type": "stream",
       "stream": "stdout",
       "text": [
        "\n",
        "trained on CASP3 (1104 instances) and tested on CTSK (228 instances) predicts 2 positives (0.01)"
       ]
      },
      {
       "output_type": "stream",
       "stream": "stdout",
       "text": [
        "\n",
        "trained on CASP3 (1104 instances) and tested on CTSL1 (2106 instances) predicts 4 positives (0.00)"
       ]
      },
      {
       "output_type": "stream",
       "stream": "stdout",
       "text": [
        "\n",
        "trained on CASP3 (1104 instances) and tested on CTSS (1462 instances) predicts 4 positives (0.00)"
       ]
      },
      {
       "output_type": "stream",
       "stream": "stdout",
       "text": [
        "\n",
        "trained on CASP3 (1104 instances) and tested on ELANE (724 instances) predicts 0 positives (0.00)"
       ]
      },
      {
       "output_type": "stream",
       "stream": "stdout",
       "text": [
        "\n",
        "trained on CASP3 (1104 instances) and tested on F2 (264 instances) predicts 0 positives (0.00)"
       ]
      },
      {
       "output_type": "stream",
       "stream": "stdout",
       "text": [
        "\n",
        "trained on CASP3 (1104 instances) and tested on FURIN (356 instances) predicts 0 positives (0.00)"
       ]
      },
      {
       "output_type": "stream",
       "stream": "stdout",
       "text": [
        "\n",
        "trained on CASP3 (1104 instances) and tested on GZMA (578 instances) predicts 0 positives (0.00)"
       ]
      },
      {
       "output_type": "stream",
       "stream": "stdout",
       "text": [
        "\n",
        "trained on CASP3 (1104 instances) and tested on GZMB (3206 instances) predicts 114 positives (0.04)"
       ]
      },
      {
       "output_type": "stream",
       "stream": "stdout",
       "text": [
        "\n",
        "trained on CASP3 (1104 instances) and tested on GZMM (1458 instances) predicts 2 positives (0.00)"
       ]
      },
      {
       "output_type": "stream",
       "stream": "stdout",
       "text": [
        "\n",
        "trained on CASP3 (1104 instances) and tested on HPN (192 instances) predicts 0 positives (0.00)"
       ]
      },
      {
       "output_type": "stream",
       "stream": "stdout",
       "text": [
        "\n",
        "trained on CASP3 (1104 instances) and tested on HTRA2 (136 instances) predicts 0 positives (0.00)"
       ]
      },
      {
       "output_type": "stream",
       "stream": "stdout",
       "text": [
        "\n",
        "trained on CASP3 (1104 instances) and tested on KLK4 (204 instances) predicts 0 positives (0.00)"
       ]
      },
      {
       "output_type": "stream",
       "stream": "stdout",
       "text": [
        "\n",
        "trained on CASP3 (1104 instances) and tested on MEP1A (1524 instances) predicts 12 positives (0.01)"
       ]
      },
      {
       "output_type": "stream",
       "stream": "stdout",
       "text": [
        "\n",
        "trained on CASP3 (1104 instances) and tested on MEP1B (1790 instances) predicts 10 positives (0.01)"
       ]
      },
      {
       "output_type": "stream",
       "stream": "stdout",
       "text": [
        "\n",
        "trained on CASP3 (1104 instances) and tested on MME (184 instances) predicts 2 positives (0.01)"
       ]
      },
      {
       "output_type": "stream",
       "stream": "stdout",
       "text": [
        "\n",
        "trained on CASP3 (1104 instances) and tested on MMP12 (364 instances) predicts 0 positives (0.00)"
       ]
      },
      {
       "output_type": "stream",
       "stream": "stdout",
       "text": [
        "\n",
        "trained on CASP3 (1104 instances) and tested on MMP13 (194 instances) predicts 0 positives (0.00)"
       ]
      },
      {
       "output_type": "stream",
       "stream": "stdout",
       "text": [
        "\n",
        "trained on CASP3 (1104 instances) and tested on MMP14 (246 instances) predicts 0 positives (0.00)"
       ]
      },
      {
       "output_type": "stream",
       "stream": "stdout",
       "text": [
        "\n",
        "trained on CASP3 (1104 instances) and tested on MMP2 (5072 instances) predicts 6 positives (0.00)"
       ]
      },
      {
       "output_type": "stream",
       "stream": "stdout",
       "text": [
        "\n",
        "trained on CASP3 (1104 instances) and tested on MMP3 (328 instances) predicts 0 positives (0.00)"
       ]
      },
      {
       "output_type": "stream",
       "stream": "stdout",
       "text": [
        "\n",
        "trained on CASP3 (1104 instances) and tested on MMP7 (378 instances) predicts 78 positives (0.21)"
       ]
      },
      {
       "output_type": "stream",
       "stream": "stdout",
       "text": [
        "\n",
        "trained on CASP3 (1104 instances) and tested on MMP8 (200 instances) predicts 0 positives (0.00)"
       ]
      },
      {
       "output_type": "stream",
       "stream": "stdout",
       "text": [
        "\n",
        "trained on CASP3 (1104 instances) and tested on MMP9 (672 instances) predicts 0 positives (0.00)"
       ]
      },
      {
       "output_type": "stream",
       "stream": "stdout",
       "text": [
        "\n",
        "trained on CASP3 (1104 instances) and tested on PCSK2 (352 instances) predicts 0 positives (0.00)"
       ]
      },
      {
       "output_type": "stream",
       "stream": "stdout",
       "text": [
        "\n",
        "trained on CASP3 (1104 instances) and tested on PCSK4 (188 instances) predicts 0 positives (0.00)"
       ]
      },
      {
       "output_type": "stream",
       "stream": "stdout",
       "text": [
        "\n",
        "trained on CASP3 (1104 instances) and tested on PCSK5 (226 instances) predicts 0 positives (0.00)"
       ]
      },
      {
       "output_type": "stream",
       "stream": "stdout",
       "text": [
        "\n",
        "trained on CASP3 (1104 instances) and tested on PCSK6 (194 instances) predicts 0 positives (0.00)"
       ]
      },
      {
       "output_type": "stream",
       "stream": "stdout",
       "text": [
        "\n",
        "trained on CASP3 (1104 instances) and tested on PCSK7 (202 instances) predicts 0 positives (0.00)"
       ]
      },
      {
       "output_type": "stream",
       "stream": "stdout",
       "text": [
        "\n",
        "trained on CASP7 (296 instances) and tested on CAPN1 (182 instances) predicts 26 positives (0.14)"
       ]
      },
      {
       "output_type": "stream",
       "stream": "stdout",
       "text": [
        "\n",
        "trained on CASP7 (296 instances) and tested on CAPN2 (300 instances) predicts 52 positives (0.17)"
       ]
      },
      {
       "output_type": "stream",
       "stream": "stdout",
       "text": [
        "\n",
        "trained on CASP7 (296 instances) and tested on CASP1 (336 instances) predicts 180 positives (0.54)"
       ]
      },
      {
       "output_type": "stream",
       "stream": "stdout",
       "text": [
        "\n",
        "trained on CASP7 (296 instances) and tested on CASP3 (1104 instances) predicts 920 positives (0.83)"
       ]
      },
      {
       "output_type": "stream",
       "stream": "stdout",
       "text": [
        "\n",
        "trained on CASP7 (296 instances) and tested on CASP7 (296 instances) predicts 296 positives (1.00)"
       ]
      },
      {
       "output_type": "stream",
       "stream": "stdout",
       "text": [
        "\n",
        "trained on CASP7 (296 instances) and tested on CMA1 (94 instances) predicts 16 positives (0.17)"
       ]
      },
      {
       "output_type": "stream",
       "stream": "stdout",
       "text": [
        "\n",
        "trained on CASP7 (296 instances) and tested on CTSB (1158 instances) predicts 154 positives (0.13)"
       ]
      },
      {
       "output_type": "stream",
       "stream": "stdout",
       "text": [
        "\n",
        "trained on CASP7 (296 instances) and tested on CTSD (1494 instances) predicts 138 positives (0.09)"
       ]
      },
      {
       "output_type": "stream",
       "stream": "stdout",
       "text": [
        "\n",
        "trained on CASP7 (296 instances) and tested on CTSE (2696 instances) predicts 216 positives (0.08)"
       ]
      },
      {
       "output_type": "stream",
       "stream": "stdout",
       "text": [
        "\n",
        "trained on CASP7 (296 instances) and tested on CTSG (484 instances) predicts 46 positives (0.10)"
       ]
      },
      {
       "output_type": "stream",
       "stream": "stdout",
       "text": [
        "\n",
        "trained on CASP7 (296 instances) and tested on CTSK (228 instances) predicts 18 positives (0.08)"
       ]
      },
      {
       "output_type": "stream",
       "stream": "stdout",
       "text": [
        "\n",
        "trained on CASP7 (296 instances) and tested on CTSL1 (2106 instances) predicts 354 positives (0.17)"
       ]
      },
      {
       "output_type": "stream",
       "stream": "stdout",
       "text": [
        "\n",
        "trained on CASP7 (296 instances) and tested on CTSS (1462 instances) predicts 268 positives (0.18)"
       ]
      },
      {
       "output_type": "stream",
       "stream": "stdout",
       "text": [
        "\n",
        "trained on CASP7 (296 instances) and tested on ELANE (724 instances) predicts 90 positives (0.12)"
       ]
      },
      {
       "output_type": "stream",
       "stream": "stdout",
       "text": [
        "\n",
        "trained on CASP7 (296 instances) and tested on F2 (264 instances) predicts 38 positives (0.14)"
       ]
      },
      {
       "output_type": "stream",
       "stream": "stdout",
       "text": [
        "\n",
        "trained on CASP7 (296 instances) and tested on FURIN (356 instances) predicts 34 positives (0.10)"
       ]
      },
      {
       "output_type": "stream",
       "stream": "stdout",
       "text": [
        "\n",
        "trained on CASP7 (296 instances) and tested on GZMA (578 instances) predicts 56 positives (0.10)"
       ]
      },
      {
       "output_type": "stream",
       "stream": "stdout",
       "text": [
        "\n",
        "trained on CASP7 (296 instances) and tested on GZMB (3206 instances) predicts 762 positives (0.24)"
       ]
      },
      {
       "output_type": "stream",
       "stream": "stdout",
       "text": [
        "\n",
        "trained on CASP7 (296 instances) and tested on GZMM (1458 instances) predicts 154 positives (0.11)"
       ]
      },
      {
       "output_type": "stream",
       "stream": "stdout",
       "text": [
        "\n",
        "trained on CASP7 (296 instances) and tested on HPN (192 instances) predicts 36 positives (0.19)"
       ]
      },
      {
       "output_type": "stream",
       "stream": "stdout",
       "text": [
        "\n",
        "trained on CASP7 (296 instances) and tested on HTRA2 (136 instances) predicts 4 positives (0.03)"
       ]
      },
      {
       "output_type": "stream",
       "stream": "stdout",
       "text": [
        "\n",
        "trained on CASP7 (296 instances) and tested on KLK4 (204 instances) predicts 30 positives (0.15)"
       ]
      },
      {
       "output_type": "stream",
       "stream": "stdout",
       "text": [
        "\n",
        "trained on CASP7 (296 instances) and tested on MEP1A (1524 instances) predicts 274 positives (0.18)"
       ]
      },
      {
       "output_type": "stream",
       "stream": "stdout",
       "text": [
        "\n",
        "trained on CASP7 (296 instances) and tested on MEP1B (1790 instances) predicts 302 positives (0.17)"
       ]
      },
      {
       "output_type": "stream",
       "stream": "stdout",
       "text": [
        "\n",
        "trained on CASP7 (296 instances) and tested on MME (184 instances) predicts 26 positives (0.14)"
       ]
      },
      {
       "output_type": "stream",
       "stream": "stdout",
       "text": [
        "\n",
        "trained on CASP7 (296 instances) and tested on MMP12 (364 instances) predicts 32 positives (0.09)"
       ]
      },
      {
       "output_type": "stream",
       "stream": "stdout",
       "text": [
        "\n",
        "trained on CASP7 (296 instances) and tested on MMP13 (194 instances) predicts 16 positives (0.08)"
       ]
      },
      {
       "output_type": "stream",
       "stream": "stdout",
       "text": [
        "\n",
        "trained on CASP7 (296 instances) and tested on MMP14 (246 instances) predicts 44 positives (0.18)"
       ]
      },
      {
       "output_type": "stream",
       "stream": "stdout",
       "text": [
        "\n",
        "trained on CASP7 (296 instances) and tested on MMP2 (5072 instances) predicts 456 positives (0.09)"
       ]
      },
      {
       "output_type": "stream",
       "stream": "stdout",
       "text": [
        "\n",
        "trained on CASP7 (296 instances) and tested on MMP3 (328 instances) predicts 20 positives (0.06)"
       ]
      },
      {
       "output_type": "stream",
       "stream": "stdout",
       "text": [
        "\n",
        "trained on CASP7 (296 instances) and tested on MMP7 (378 instances) predicts 148 positives (0.39)"
       ]
      },
      {
       "output_type": "stream",
       "stream": "stdout",
       "text": [
        "\n",
        "trained on CASP7 (296 instances) and tested on MMP8 (200 instances) predicts 20 positives (0.10)"
       ]
      },
      {
       "output_type": "stream",
       "stream": "stdout",
       "text": [
        "\n",
        "trained on CASP7 (296 instances) and tested on MMP9 (672 instances) predicts 48 positives (0.07)"
       ]
      },
      {
       "output_type": "stream",
       "stream": "stdout",
       "text": [
        "\n",
        "trained on CASP7 (296 instances) and tested on PCSK2 (352 instances) predicts 32 positives (0.09)"
       ]
      },
      {
       "output_type": "stream",
       "stream": "stdout",
       "text": [
        "\n",
        "trained on CASP7 (296 instances) and tested on PCSK4 (188 instances) predicts 16 positives (0.09)"
       ]
      },
      {
       "output_type": "stream",
       "stream": "stdout",
       "text": [
        "\n",
        "trained on CASP7 (296 instances) and tested on PCSK5 (226 instances) predicts 18 positives (0.08)"
       ]
      },
      {
       "output_type": "stream",
       "stream": "stdout",
       "text": [
        "\n",
        "trained on CASP7 (296 instances) and tested on PCSK6 (194 instances) predicts 16 positives (0.08)"
       ]
      },
      {
       "output_type": "stream",
       "stream": "stdout",
       "text": [
        "\n",
        "trained on CASP7 (296 instances) and tested on PCSK7 (202 instances) predicts 16 positives (0.08)"
       ]
      },
      {
       "output_type": "stream",
       "stream": "stdout",
       "text": [
        "\n",
        "trained on CMA1 (94 instances) and tested on CAPN1 (182 instances) predicts 0 positives (0.00)"
       ]
      },
      {
       "output_type": "stream",
       "stream": "stdout",
       "text": [
        "\n",
        "trained on CMA1 (94 instances) and tested on CAPN2 (300 instances) predicts 0 positives (0.00)"
       ]
      },
      {
       "output_type": "stream",
       "stream": "stdout",
       "text": [
        "\n",
        "trained on CMA1 (94 instances) and tested on CASP1 (336 instances) predicts 0 positives (0.00)"
       ]
      },
      {
       "output_type": "stream",
       "stream": "stdout",
       "text": [
        "\n",
        "trained on CMA1 (94 instances) and tested on CASP3 (1104 instances) predicts 0 positives (0.00)"
       ]
      },
      {
       "output_type": "stream",
       "stream": "stdout",
       "text": [
        "\n",
        "trained on CMA1 (94 instances) and tested on CASP7 (296 instances) predicts 0 positives (0.00)"
       ]
      },
      {
       "output_type": "stream",
       "stream": "stdout",
       "text": [
        "\n",
        "trained on CMA1 (94 instances) and tested on CMA1 (94 instances) predicts 94 positives (1.00)"
       ]
      },
      {
       "output_type": "stream",
       "stream": "stdout",
       "text": [
        "\n",
        "trained on CMA1 (94 instances) and tested on CTSB (1158 instances) predicts 4 positives (0.00)"
       ]
      },
      {
       "output_type": "stream",
       "stream": "stdout",
       "text": [
        "\n",
        "trained on CMA1 (94 instances) and tested on CTSD (1494 instances) predicts 4 positives (0.00)"
       ]
      },
      {
       "output_type": "stream",
       "stream": "stdout",
       "text": [
        "\n",
        "trained on CMA1 (94 instances) and tested on CTSE (2696 instances) predicts 2 positives (0.00)"
       ]
      },
      {
       "output_type": "stream",
       "stream": "stdout",
       "text": [
        "\n",
        "trained on CMA1 (94 instances) and tested on CTSG (484 instances) predicts 10 positives (0.02)"
       ]
      },
      {
       "output_type": "stream",
       "stream": "stdout",
       "text": [
        "\n",
        "trained on CMA1 (94 instances) and tested on CTSK (228 instances) predicts 0 positives (0.00)"
       ]
      },
      {
       "output_type": "stream",
       "stream": "stdout",
       "text": [
        "\n",
        "trained on CMA1 (94 instances) and tested on CTSL1 (2106 instances) predicts 0 positives (0.00)"
       ]
      },
      {
       "output_type": "stream",
       "stream": "stdout",
       "text": [
        "\n",
        "trained on CMA1 (94 instances) and tested on CTSS (1462 instances) predicts 0 positives (0.00)"
       ]
      },
      {
       "output_type": "stream",
       "stream": "stdout",
       "text": [
        "\n",
        "trained on CMA1 (94 instances) and tested on ELANE (724 instances) predicts 4 positives (0.01)"
       ]
      },
      {
       "output_type": "stream",
       "stream": "stdout",
       "text": [
        "\n",
        "trained on CMA1 (94 instances) and tested on F2 (264 instances) predicts 0 positives (0.00)"
       ]
      },
      {
       "output_type": "stream",
       "stream": "stdout",
       "text": [
        "\n",
        "trained on CMA1 (94 instances) and tested on FURIN (356 instances) predicts 0 positives (0.00)"
       ]
      },
      {
       "output_type": "stream",
       "stream": "stdout",
       "text": [
        "\n",
        "trained on CMA1 (94 instances) and tested on GZMA (578 instances) predicts 0 positives (0.00)"
       ]
      },
      {
       "output_type": "stream",
       "stream": "stdout",
       "text": [
        "\n",
        "trained on CMA1 (94 instances) and tested on GZMB (3206 instances) predicts 0 positives (0.00)"
       ]
      },
      {
       "output_type": "stream",
       "stream": "stdout",
       "text": [
        "\n",
        "trained on CMA1 (94 instances) and tested on GZMM (1458 instances) predicts 0 positives (0.00)"
       ]
      },
      {
       "output_type": "stream",
       "stream": "stdout",
       "text": [
        "\n",
        "trained on CMA1 (94 instances) and tested on HPN (192 instances) predicts 0 positives (0.00)"
       ]
      },
      {
       "output_type": "stream",
       "stream": "stdout",
       "text": [
        "\n",
        "trained on CMA1 (94 instances) and tested on HTRA2 (136 instances) predicts 0 positives (0.00)"
       ]
      },
      {
       "output_type": "stream",
       "stream": "stdout",
       "text": [
        "\n",
        "trained on CMA1 (94 instances) and tested on KLK4 (204 instances) predicts 0 positives (0.00)"
       ]
      },
      {
       "output_type": "stream",
       "stream": "stdout",
       "text": [
        "\n",
        "trained on CMA1 (94 instances) and tested on MEP1A (1524 instances) predicts 4 positives (0.00)"
       ]
      },
      {
       "output_type": "stream",
       "stream": "stdout",
       "text": [
        "\n",
        "trained on CMA1 (94 instances) and tested on MEP1B (1790 instances) predicts 0 positives (0.00)"
       ]
      },
      {
       "output_type": "stream",
       "stream": "stdout",
       "text": [
        "\n",
        "trained on CMA1 (94 instances) and tested on MME (184 instances) predicts 6 positives (0.03)"
       ]
      },
      {
       "output_type": "stream",
       "stream": "stdout",
       "text": [
        "\n",
        "trained on CMA1 (94 instances) and tested on MMP12 (364 instances) predicts 2 positives (0.01)"
       ]
      },
      {
       "output_type": "stream",
       "stream": "stdout",
       "text": [
        "\n",
        "trained on CMA1 (94 instances) and tested on MMP13 (194 instances) predicts 0 positives (0.00)"
       ]
      },
      {
       "output_type": "stream",
       "stream": "stdout",
       "text": [
        "\n",
        "trained on CMA1 (94 instances) and tested on MMP14 (246 instances) predicts 0 positives (0.00)"
       ]
      },
      {
       "output_type": "stream",
       "stream": "stdout",
       "text": [
        "\n",
        "trained on CMA1 (94 instances) and tested on MMP2 (5072 instances) predicts 0 positives (0.00)"
       ]
      },
      {
       "output_type": "stream",
       "stream": "stdout",
       "text": [
        "\n",
        "trained on CMA1 (94 instances) and tested on MMP3 (328 instances) predicts 2 positives (0.01)"
       ]
      },
      {
       "output_type": "stream",
       "stream": "stdout",
       "text": [
        "\n",
        "trained on CMA1 (94 instances) and tested on MMP7 (378 instances) predicts 0 positives (0.00)"
       ]
      },
      {
       "output_type": "stream",
       "stream": "stdout",
       "text": [
        "\n",
        "trained on CMA1 (94 instances) and tested on MMP8 (200 instances) predicts 4 positives (0.02)"
       ]
      },
      {
       "output_type": "stream",
       "stream": "stdout",
       "text": [
        "\n",
        "trained on CMA1 (94 instances) and tested on MMP9 (672 instances) predicts 0 positives (0.00)"
       ]
      },
      {
       "output_type": "stream",
       "stream": "stdout",
       "text": [
        "\n",
        "trained on CMA1 (94 instances) and tested on PCSK2 (352 instances) predicts 0 positives (0.00)"
       ]
      },
      {
       "output_type": "stream",
       "stream": "stdout",
       "text": [
        "\n",
        "trained on CMA1 (94 instances) and tested on PCSK4 (188 instances) predicts 0 positives (0.00)"
       ]
      },
      {
       "output_type": "stream",
       "stream": "stdout",
       "text": [
        "\n",
        "trained on CMA1 (94 instances) and tested on PCSK5 (226 instances) predicts 0 positives (0.00)"
       ]
      },
      {
       "output_type": "stream",
       "stream": "stdout",
       "text": [
        "\n",
        "trained on CMA1 (94 instances) and tested on PCSK6 (194 instances) predicts 0 positives (0.00)"
       ]
      },
      {
       "output_type": "stream",
       "stream": "stdout",
       "text": [
        "\n",
        "trained on CMA1 (94 instances) and tested on PCSK7 (202 instances) predicts 0 positives (0.00)"
       ]
      },
      {
       "output_type": "stream",
       "stream": "stdout",
       "text": [
        "\n",
        "trained on CTSB (1158 instances) and tested on CAPN1 (182 instances) predicts 10 positives (0.05)"
       ]
      },
      {
       "output_type": "stream",
       "stream": "stdout",
       "text": [
        "\n",
        "trained on CTSB (1158 instances) and tested on CAPN2 (300 instances) predicts 6 positives (0.02)"
       ]
      },
      {
       "output_type": "stream",
       "stream": "stdout",
       "text": [
        "\n",
        "trained on CTSB (1158 instances) and tested on CASP1 (336 instances) predicts 4 positives (0.01)"
       ]
      },
      {
       "output_type": "stream",
       "stream": "stdout",
       "text": [
        "\n",
        "trained on CTSB (1158 instances) and tested on CASP3 (1104 instances) predicts 4 positives (0.00)"
       ]
      },
      {
       "output_type": "stream",
       "stream": "stdout",
       "text": [
        "\n",
        "trained on CTSB (1158 instances) and tested on CASP7 (296 instances) predicts 0 positives (0.00)"
       ]
      },
      {
       "output_type": "stream",
       "stream": "stdout",
       "text": [
        "\n",
        "trained on CTSB (1158 instances) and tested on CMA1 (94 instances) predicts 4 positives (0.04)"
       ]
      },
      {
       "output_type": "stream",
       "stream": "stdout",
       "text": [
        "\n",
        "trained on CTSB (1158 instances) and tested on CTSB (1158 instances) predicts 1158 positives (1.00)"
       ]
      },
      {
       "output_type": "stream",
       "stream": "stdout",
       "text": [
        "\n",
        "trained on CTSB (1158 instances) and tested on CTSD (1494 instances) predicts 26 positives (0.02)"
       ]
      },
      {
       "output_type": "stream",
       "stream": "stdout",
       "text": [
        "\n",
        "trained on CTSB (1158 instances) and tested on CTSE (2696 instances) predicts 66 positives (0.02)"
       ]
      },
      {
       "output_type": "stream",
       "stream": "stdout",
       "text": [
        "\n",
        "trained on CTSB (1158 instances) and tested on CTSG (484 instances) predicts 20 positives (0.04)"
       ]
      },
      {
       "output_type": "stream",
       "stream": "stdout",
       "text": [
        "\n",
        "trained on CTSB (1158 instances) and tested on CTSK (228 instances) predicts 12 positives (0.05)"
       ]
      },
      {
       "output_type": "stream",
       "stream": "stdout",
       "text": [
        "\n",
        "trained on CTSB (1158 instances) and tested on CTSL1 (2106 instances) predicts 228 positives (0.11)"
       ]
      },
      {
       "output_type": "stream",
       "stream": "stdout",
       "text": [
        "\n",
        "trained on CTSB (1158 instances) and tested on CTSS (1462 instances) predicts 166 positives (0.11)"
       ]
      },
      {
       "output_type": "stream",
       "stream": "stdout",
       "text": [
        "\n",
        "trained on CTSB (1158 instances) and tested on ELANE (724 instances) predicts 14 positives (0.02)"
       ]
      },
      {
       "output_type": "stream",
       "stream": "stdout",
       "text": [
        "\n",
        "trained on CTSB (1158 instances) and tested on F2 (264 instances) predicts 0 positives (0.00)"
       ]
      },
      {
       "output_type": "stream",
       "stream": "stdout",
       "text": [
        "\n",
        "trained on CTSB (1158 instances) and tested on FURIN (356 instances) predicts 6 positives (0.02)"
       ]
      },
      {
       "output_type": "stream",
       "stream": "stdout",
       "text": [
        "\n",
        "trained on CTSB (1158 instances) and tested on GZMA (578 instances) predicts 2 positives (0.00)"
       ]
      },
      {
       "output_type": "stream",
       "stream": "stdout",
       "text": [
        "\n",
        "trained on CTSB (1158 instances) and tested on GZMB (3206 instances) predicts 6 positives (0.00)"
       ]
      },
      {
       "output_type": "stream",
       "stream": "stdout",
       "text": [
        "\n",
        "trained on CTSB (1158 instances) and tested on GZMM (1458 instances) predicts 32 positives (0.02)"
       ]
      },
      {
       "output_type": "stream",
       "stream": "stdout",
       "text": [
        "\n",
        "trained on CTSB (1158 instances) and tested on HPN (192 instances) predicts 4 positives (0.02)"
       ]
      },
      {
       "output_type": "stream",
       "stream": "stdout",
       "text": [
        "\n",
        "trained on CTSB (1158 instances) and tested on HTRA2 (136 instances) predicts 0 positives (0.00)"
       ]
      },
      {
       "output_type": "stream",
       "stream": "stdout",
       "text": [
        "\n",
        "trained on CTSB (1158 instances) and tested on KLK4 (204 instances) predicts 12 positives (0.06)"
       ]
      },
      {
       "output_type": "stream",
       "stream": "stdout",
       "text": [
        "\n",
        "trained on CTSB (1158 instances) and tested on MEP1A (1524 instances) predicts 58 positives (0.04)"
       ]
      },
      {
       "output_type": "stream",
       "stream": "stdout",
       "text": [
        "\n",
        "trained on CTSB (1158 instances) and tested on MEP1B (1790 instances) predicts 40 positives (0.02)"
       ]
      },
      {
       "output_type": "stream",
       "stream": "stdout",
       "text": [
        "\n",
        "trained on CTSB (1158 instances) and tested on MME (184 instances) predicts 20 positives (0.11)"
       ]
      },
      {
       "output_type": "stream",
       "stream": "stdout",
       "text": [
        "\n",
        "trained on CTSB (1158 instances) and tested on MMP12 (364 instances) predicts 8 positives (0.02)"
       ]
      },
      {
       "output_type": "stream",
       "stream": "stdout",
       "text": [
        "\n",
        "trained on CTSB (1158 instances) and tested on MMP13 (194 instances) predicts 4 positives (0.02)"
       ]
      },
      {
       "output_type": "stream",
       "stream": "stdout",
       "text": [
        "\n",
        "trained on CTSB (1158 instances) and tested on MMP14 (246 instances) predicts 6 positives (0.02)"
       ]
      },
      {
       "output_type": "stream",
       "stream": "stdout",
       "text": [
        "\n",
        "trained on CTSB (1158 instances) and tested on MMP2 (5072 instances) predicts 206 positives (0.04)"
       ]
      },
      {
       "output_type": "stream",
       "stream": "stdout",
       "text": [
        "\n",
        "trained on CTSB (1158 instances) and tested on MMP3 (328 instances) predicts 8 positives (0.02)"
       ]
      },
      {
       "output_type": "stream",
       "stream": "stdout",
       "text": [
        "\n",
        "trained on CTSB (1158 instances) and tested on MMP7 (378 instances) predicts 0 positives (0.00)"
       ]
      },
      {
       "output_type": "stream",
       "stream": "stdout",
       "text": [
        "\n",
        "trained on CTSB (1158 instances) and tested on MMP8 (200 instances) predicts 8 positives (0.04)"
       ]
      },
      {
       "output_type": "stream",
       "stream": "stdout",
       "text": [
        "\n",
        "trained on CTSB (1158 instances) and tested on MMP9 (672 instances) predicts 26 positives (0.04)"
       ]
      },
      {
       "output_type": "stream",
       "stream": "stdout",
       "text": [
        "\n",
        "trained on CTSB (1158 instances) and tested on PCSK2 (352 instances) predicts 2 positives (0.01)"
       ]
      },
      {
       "output_type": "stream",
       "stream": "stdout",
       "text": [
        "\n",
        "trained on CTSB (1158 instances) and tested on PCSK4 (188 instances) predicts 2 positives (0.01)"
       ]
      },
      {
       "output_type": "stream",
       "stream": "stdout",
       "text": [
        "\n",
        "trained on CTSB (1158 instances) and tested on PCSK5 (226 instances) predicts 4 positives (0.02)"
       ]
      },
      {
       "output_type": "stream",
       "stream": "stdout",
       "text": [
        "\n",
        "trained on CTSB (1158 instances) and tested on PCSK6 (194 instances) predicts 4 positives (0.02)"
       ]
      },
      {
       "output_type": "stream",
       "stream": "stdout",
       "text": [
        "\n",
        "trained on CTSB (1158 instances) and tested on PCSK7 (202 instances) predicts 2 positives (0.01)"
       ]
      },
      {
       "output_type": "stream",
       "stream": "stdout",
       "text": [
        "\n",
        "trained on CTSD (1494 instances) and tested on CAPN1 (182 instances) predicts 6 positives (0.03)"
       ]
      },
      {
       "output_type": "stream",
       "stream": "stdout",
       "text": [
        "\n",
        "trained on CTSD (1494 instances) and tested on CAPN2 (300 instances) predicts 6 positives (0.02)"
       ]
      },
      {
       "output_type": "stream",
       "stream": "stdout",
       "text": [
        "\n",
        "trained on CTSD (1494 instances) and tested on CASP1 (336 instances) predicts 6 positives (0.02)"
       ]
      },
      {
       "output_type": "stream",
       "stream": "stdout",
       "text": [
        "\n",
        "trained on CTSD (1494 instances) and tested on CASP3 (1104 instances) predicts 6 positives (0.01)"
       ]
      },
      {
       "output_type": "stream",
       "stream": "stdout",
       "text": [
        "\n",
        "trained on CTSD (1494 instances) and tested on CASP7 (296 instances) predicts 0 positives (0.00)"
       ]
      },
      {
       "output_type": "stream",
       "stream": "stdout",
       "text": [
        "\n",
        "trained on CTSD (1494 instances) and tested on CMA1 (94 instances) predicts 12 positives (0.13)"
       ]
      },
      {
       "output_type": "stream",
       "stream": "stdout",
       "text": [
        "\n",
        "trained on CTSD (1494 instances) and tested on CTSB (1158 instances) predicts 60 positives (0.05)"
       ]
      },
      {
       "output_type": "stream",
       "stream": "stdout",
       "text": [
        "\n",
        "trained on CTSD (1494 instances) and tested on CTSD (1494 instances) predicts 1494 positives (1.00)"
       ]
      },
      {
       "output_type": "stream",
       "stream": "stdout",
       "text": [
        "\n",
        "trained on CTSD (1494 instances) and tested on CTSE (2696 instances) predicts 980 positives (0.36)"
       ]
      },
      {
       "output_type": "stream",
       "stream": "stdout",
       "text": [
        "\n",
        "trained on CTSD (1494 instances) and tested on CTSG (484 instances) predicts 48 positives (0.10)"
       ]
      },
      {
       "output_type": "stream",
       "stream": "stdout",
       "text": [
        "\n",
        "trained on CTSD (1494 instances) and tested on CTSK (228 instances) predicts 0 positives (0.00)"
       ]
      },
      {
       "output_type": "stream",
       "stream": "stdout",
       "text": [
        "\n",
        "trained on CTSD (1494 instances) and tested on CTSL1 (2106 instances) predicts 46 positives (0.02)"
       ]
      },
      {
       "output_type": "stream",
       "stream": "stdout",
       "text": [
        "\n",
        "trained on CTSD (1494 instances) and tested on CTSS (1462 instances) predicts 34 positives (0.02)"
       ]
      },
      {
       "output_type": "stream",
       "stream": "stdout",
       "text": [
        "\n",
        "trained on CTSD (1494 instances) and tested on ELANE (724 instances) predicts 12 positives (0.02)"
       ]
      },
      {
       "output_type": "stream",
       "stream": "stdout",
       "text": [
        "\n",
        "trained on CTSD (1494 instances) and tested on F2 (264 instances) predicts 0 positives (0.00)"
       ]
      },
      {
       "output_type": "stream",
       "stream": "stdout",
       "text": [
        "\n",
        "trained on CTSD (1494 instances) and tested on FURIN (356 instances) predicts 8 positives (0.02)"
       ]
      },
      {
       "output_type": "stream",
       "stream": "stdout",
       "text": [
        "\n",
        "trained on CTSD (1494 instances) and tested on GZMA (578 instances) predicts 4 positives (0.01)"
       ]
      },
      {
       "output_type": "stream",
       "stream": "stdout",
       "text": [
        "\n",
        "trained on CTSD (1494 instances) and tested on GZMB (3206 instances) predicts 40 positives (0.01)"
       ]
      },
      {
       "output_type": "stream",
       "stream": "stdout",
       "text": [
        "\n",
        "trained on CTSD (1494 instances) and tested on GZMM (1458 instances) predicts 110 positives (0.08)"
       ]
      },
      {
       "output_type": "stream",
       "stream": "stdout",
       "text": [
        "\n",
        "trained on CTSD (1494 instances) and tested on HPN (192 instances) predicts 0 positives (0.00)"
       ]
      },
      {
       "output_type": "stream",
       "stream": "stdout",
       "text": [
        "\n",
        "trained on CTSD (1494 instances) and tested on HTRA2 (136 instances) predicts 4 positives (0.03)"
       ]
      },
      {
       "output_type": "stream",
       "stream": "stdout",
       "text": [
        "\n",
        "trained on CTSD (1494 instances) and tested on KLK4 (204 instances) predicts 4 positives (0.02)"
       ]
      },
      {
       "output_type": "stream",
       "stream": "stdout",
       "text": [
        "\n",
        "trained on CTSD (1494 instances) and tested on MEP1A (1524 instances) predicts 46 positives (0.03)"
       ]
      },
      {
       "output_type": "stream",
       "stream": "stdout",
       "text": [
        "\n",
        "trained on CTSD (1494 instances) and tested on MEP1B (1790 instances) predicts 38 positives (0.02)"
       ]
      },
      {
       "output_type": "stream",
       "stream": "stdout",
       "text": [
        "\n",
        "trained on CTSD (1494 instances) and tested on MME (184 instances) predicts 26 positives (0.14)"
       ]
      },
      {
       "output_type": "stream",
       "stream": "stdout",
       "text": [
        "\n",
        "trained on CTSD (1494 instances) and tested on MMP12 (364 instances) predicts 14 positives (0.04)"
       ]
      },
      {
       "output_type": "stream",
       "stream": "stdout",
       "text": [
        "\n",
        "trained on CTSD (1494 instances) and tested on MMP13 (194 instances) predicts 10 positives (0.05)"
       ]
      },
      {
       "output_type": "stream",
       "stream": "stdout",
       "text": [
        "\n",
        "trained on CTSD (1494 instances) and tested on MMP14 (246 instances) predicts 16 positives (0.07)"
       ]
      },
      {
       "output_type": "stream",
       "stream": "stdout",
       "text": [
        "\n",
        "trained on CTSD (1494 instances) and tested on MMP2 (5072 instances) predicts 266 positives (0.05)"
       ]
      },
      {
       "output_type": "stream",
       "stream": "stdout",
       "text": [
        "\n",
        "trained on CTSD (1494 instances) and tested on MMP3 (328 instances) predicts 16 positives (0.05)"
       ]
      },
      {
       "output_type": "stream",
       "stream": "stdout",
       "text": [
        "\n",
        "trained on CTSD (1494 instances) and tested on MMP7 (378 instances) predicts 6 positives (0.02)"
       ]
      },
      {
       "output_type": "stream",
       "stream": "stdout",
       "text": [
        "\n",
        "trained on CTSD (1494 instances) and tested on MMP8 (200 instances) predicts 14 positives (0.07)"
       ]
      },
      {
       "output_type": "stream",
       "stream": "stdout",
       "text": [
        "\n",
        "trained on CTSD (1494 instances) and tested on MMP9 (672 instances) predicts 22 positives (0.03)"
       ]
      },
      {
       "output_type": "stream",
       "stream": "stdout",
       "text": [
        "\n",
        "trained on CTSD (1494 instances) and tested on PCSK2 (352 instances) predicts 6 positives (0.02)"
       ]
      },
      {
       "output_type": "stream",
       "stream": "stdout",
       "text": [
        "\n",
        "trained on CTSD (1494 instances) and tested on PCSK4 (188 instances) predicts 4 positives (0.02)"
       ]
      },
      {
       "output_type": "stream",
       "stream": "stdout",
       "text": [
        "\n",
        "trained on CTSD (1494 instances) and tested on PCSK5 (226 instances) predicts 4 positives (0.02)"
       ]
      },
      {
       "output_type": "stream",
       "stream": "stdout",
       "text": [
        "\n",
        "trained on CTSD (1494 instances) and tested on PCSK6 (194 instances) predicts 4 positives (0.02)"
       ]
      },
      {
       "output_type": "stream",
       "stream": "stdout",
       "text": [
        "\n",
        "trained on CTSD (1494 instances) and tested on PCSK7 (202 instances) predicts 4 positives (0.02)"
       ]
      },
      {
       "output_type": "stream",
       "stream": "stdout",
       "text": [
        "\n",
        "trained on CTSE (2696 instances) and tested on CAPN1 (182 instances) predicts 6 positives (0.03)"
       ]
      },
      {
       "output_type": "stream",
       "stream": "stdout",
       "text": [
        "\n",
        "trained on CTSE (2696 instances) and tested on CAPN2 (300 instances) predicts 2 positives (0.01)"
       ]
      },
      {
       "output_type": "stream",
       "stream": "stdout",
       "text": [
        "\n",
        "trained on CTSE (2696 instances) and tested on CASP1 (336 instances) predicts 6 positives (0.02)"
       ]
      },
      {
       "output_type": "stream",
       "stream": "stdout",
       "text": [
        "\n",
        "trained on CTSE (2696 instances) and tested on CASP3 (1104 instances) predicts 4 positives (0.00)"
       ]
      },
      {
       "output_type": "stream",
       "stream": "stdout",
       "text": [
        "\n",
        "trained on CTSE (2696 instances) and tested on CASP7 (296 instances) predicts 2 positives (0.01)"
       ]
      },
      {
       "output_type": "stream",
       "stream": "stdout",
       "text": [
        "\n",
        "trained on CTSE (2696 instances) and tested on CMA1 (94 instances) predicts 10 positives (0.11)"
       ]
      },
      {
       "output_type": "stream",
       "stream": "stdout",
       "text": [
        "\n",
        "trained on CTSE (2696 instances) and tested on CTSB (1158 instances) predicts 48 positives (0.04)"
       ]
      }
     ]
    },
    {
     "cell_type": "code",
     "collapsed": false,
     "input": [
      "%matplotlib inline\n",
      "import matplotlib.pyplot as plt\n",
      "import networkx as nx\n",
      "\n",
      "#make a graph between proteasis and place an edge if one model predicts as positive more than th% of the other dataset\n",
      "th=0.15\n",
      "G=nx.Graph()\n",
      "for tr,ts in result_matrix:\n",
      "    G.add_node(tr)\n",
      "for tr,ts in result_matrix:\n",
      "    if tr != ts:\n",
      "        ratio,n_positives = result_matrix[(tr,ts)]\n",
      "        if ratio > th:\n",
      "            G.add_edge(tr,ts, weight=ratio, num=n_positives)\n",
      "#remove hyperconnected nodes\n",
      "G.remove_node('CTSK')\n",
      "\n",
      "#display the relations\n",
      "size=15\n",
      "plt.figure(figsize=(size,size)) \n",
      "pos=nx.graphviz_layout(G)\n",
      "nx.draw_networkx_nodes(G,pos,node_color='white',node_size=1500, linewidths=0, alpha=0.75)\n",
      "nx.draw_networkx_labels(G,pos,font_size=9)\n",
      "edge_widths=[10*d['weight'] for u,v,d in G.edges(data=True)]\n",
      "nx.draw_networkx_edges(G,pos, width=edge_widths, edge_color='gray')\n",
      "edge_labels=dict([((u,v,),d['num'])for u,v,d in G.edges(data=True)])\n",
      "nx.draw_networkx_edge_labels(G,pos,font_size=9,edge_labels=edge_labels)\n",
      "plt.axis('off')\n",
      "plt.show()"
     ],
     "language": "python",
     "metadata": {},
     "outputs": []
    }
   ],
   "metadata": {}
  }
 ]
}