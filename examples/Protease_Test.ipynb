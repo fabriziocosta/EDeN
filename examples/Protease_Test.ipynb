{
 "metadata": {
  "name": "",
  "signature": "sha256:091f169922cab284717f86a6561115346062f512db9a229ab99d6ab8441cf302"
 },
 "nbformat": 3,
 "nbformat_minor": 0,
 "worksheets": [
  {
   "cells": [
    {
     "cell_type": "code",
     "collapsed": false,
     "input": [
      "def test_protease_model(fname=None, model_fname=None):\n",
      "    from eden.model import ActiveLearningBinaryClassificationModel\n",
      "\n",
      "    model = ActiveLearningBinaryClassificationModel()\n",
      "    model.load(model_fname)\n",
      "\n",
      "    from eden.converter.fasta import fasta_to_sequence\n",
      "    seqs = fasta_to_sequence( fname )\n",
      "    from itertools import tee\n",
      "    seqs,seqs_=tee(seqs)\n",
      "    predictions= model.decision_function( seqs_ )\n",
      "    from itertools import izip\n",
      "    return izip(predictions,seqs)"
     ],
     "language": "python",
     "metadata": {},
     "outputs": [],
     "prompt_number": 1
    },
    {
     "cell_type": "code",
     "collapsed": false,
     "input": [
      "dirname='proteasis'\n",
      "file_names = !ls $dirname\n",
      "names = [name.split('.')[0] for name in file_names]\n",
      "for i,name in enumerate(names):\n",
      "    print i+1, name"
     ],
     "language": "python",
     "metadata": {},
     "outputs": [
      {
       "output_type": "stream",
       "stream": "stdout",
       "text": [
        "1 CAPN1\n",
        "2 CAPN2\n",
        "3 CASP1\n",
        "4 CASP3\n",
        "5 CASP7\n",
        "6 CMA1\n",
        "7 CTSB\n",
        "8 CTSD\n",
        "9 CTSE\n",
        "10 CTSG\n",
        "11 CTSK\n",
        "12 CTSL1\n",
        "13 CTSS\n",
        "14 ELANE\n",
        "15 F2\n",
        "16 FURIN\n",
        "17 GZMA\n",
        "18 GZMB\n",
        "19 GZMM\n",
        "20 HPN\n",
        "21 HTRA2\n",
        "22 KLK4\n",
        "23 MEP1A\n",
        "24 MEP1B\n",
        "25 MME\n",
        "26 MMP12\n",
        "27 MMP13\n",
        "28 MMP14\n",
        "29 MMP2\n",
        "30 MMP3\n",
        "31 MMP7\n",
        "32 MMP8\n",
        "33 MMP9\n",
        "34 PCSK2\n",
        "35 PCSK4\n",
        "36 PCSK5\n",
        "37 PCSK6\n",
        "38 PCSK7\n",
        "39 PGA3\n",
        "40 PLG\n",
        "41 ST14\n",
        "42 TMPRSS11E\n",
        "43 TMPRSS6\n",
        "44 TMPRSS7\n"
       ]
      }
     ],
     "prompt_number": 9
    },
    {
     "cell_type": "code",
     "collapsed": false,
     "input": [
      "%%time\n",
      "\n",
      "#Test \n",
      "n_models=len(names)\n",
      "n_models=18\n",
      "\n",
      "dataset_sizes={}\n",
      "for name in names:\n",
      "    fname=dirname+'/'+name+'.fasta'\n",
      "    from eden.converter.fasta import fasta_to_sequence\n",
      "    seqs = fasta_to_sequence( fname )\n",
      "    dataset_sizes[name] = sum(1 for x in seqs)\n",
      "\n",
      "f=open('resultfile', 'w')\n",
      "result_matrix={}\n",
      "for train_name in names[:n_models]:\n",
      "    for test_name in names[:n_models]:\n",
      "        model_fname=train_name+'.model'\n",
      "        test_fname=dirname+'/'+test_name+'.fasta'\n",
      "        iterable = test_protease_model(fname=test_fname, model_fname=model_fname)\n",
      "        n_positives = sum( 1 for prediction, seq in iterable if prediction > 0)\n",
      "        ratio = float(n_positives)/dataset_sizes[test_name]\n",
      "        result_matrix[(train_name,test_name)]=ratio\n",
      "        print ('trained on %s (%d instances) and tested on %s (%d instances) predicts %d positives (%.2f)'%\n",
      "        (train_name,dataset_sizes[train_name],test_name,dataset_sizes[test_name],n_positives,ratio))\n",
      "        print >>f, 'trained on %s (%d instances) and tested on %s (%d instances) predicts %d positives (%.2f)'%(train_name,dataset_sizes[train_name],test_name,dataset_sizes[test_name],n_positives,ratio)"
     ],
     "language": "python",
     "metadata": {},
     "outputs": [
      {
       "output_type": "stream",
       "stream": "stdout",
       "text": [
        "trained on CAPN1 (182 instances) and tested on CAPN1 (182 instances) predicts 182 positives (1.00)\n",
        "trained on CAPN1 (182 instances) and tested on CAPN2 (300 instances) predicts 56 positives (0.19)"
       ]
      },
      {
       "output_type": "stream",
       "stream": "stdout",
       "text": [
        "\n",
        "trained on CAPN1 (182 instances) and tested on CASP1 (336 instances) predicts 0 positives (0.00)"
       ]
      },
      {
       "output_type": "stream",
       "stream": "stdout",
       "text": [
        "\n",
        "trained on CAPN1 (182 instances) and tested on CASP3 (1104 instances) predicts 0 positives (0.00)"
       ]
      },
      {
       "output_type": "stream",
       "stream": "stdout",
       "text": [
        "\n",
        "trained on CAPN1 (182 instances) and tested on CASP7 (296 instances) predicts 0 positives (0.00)"
       ]
      },
      {
       "output_type": "stream",
       "stream": "stdout",
       "text": [
        "\n",
        "trained on CAPN1 (182 instances) and tested on CMA1 (94 instances) predicts 2 positives (0.02)"
       ]
      },
      {
       "output_type": "stream",
       "stream": "stdout",
       "text": [
        "\n",
        "trained on CAPN1 (182 instances) and tested on CTSB (1158 instances) predicts 14 positives (0.01)"
       ]
      },
      {
       "output_type": "stream",
       "stream": "stdout",
       "text": [
        "\n",
        "trained on CAPN1 (182 instances) and tested on CTSD (1494 instances) predicts 0 positives (0.00)"
       ]
      },
      {
       "output_type": "stream",
       "stream": "stdout",
       "text": [
        "\n",
        "trained on CAPN1 (182 instances) and tested on CTSE (2696 instances) predicts 6 positives (0.00)"
       ]
      },
      {
       "output_type": "stream",
       "stream": "stdout",
       "text": [
        "\n",
        "trained on CAPN1 (182 instances) and tested on CTSG (484 instances) predicts 4 positives (0.01)"
       ]
      },
      {
       "output_type": "stream",
       "stream": "stdout",
       "text": [
        "\n",
        "trained on CAPN1 (182 instances) and tested on CTSK (228 instances) predicts 0 positives (0.00)"
       ]
      },
      {
       "output_type": "stream",
       "stream": "stdout",
       "text": [
        "\n",
        "trained on CAPN1 (182 instances) and tested on CTSL1 (2106 instances) predicts 20 positives (0.01)"
       ]
      },
      {
       "output_type": "stream",
       "stream": "stdout",
       "text": [
        "\n",
        "trained on CAPN1 (182 instances) and tested on CTSS (1462 instances) predicts 12 positives (0.01)"
       ]
      },
      {
       "output_type": "stream",
       "stream": "stdout",
       "text": [
        "\n",
        "trained on CAPN1 (182 instances) and tested on ELANE (724 instances) predicts 0 positives (0.00)"
       ]
      },
      {
       "output_type": "stream",
       "stream": "stdout",
       "text": [
        "\n",
        "trained on CAPN1 (182 instances) and tested on F2 (264 instances) predicts 0 positives (0.00)"
       ]
      },
      {
       "output_type": "stream",
       "stream": "stdout",
       "text": [
        "\n",
        "trained on CAPN1 (182 instances) and tested on FURIN (356 instances) predicts 0 positives (0.00)"
       ]
      },
      {
       "output_type": "stream",
       "stream": "stdout",
       "text": [
        "\n",
        "trained on CAPN1 (182 instances) and tested on GZMA (578 instances) predicts 0 positives (0.00)"
       ]
      },
      {
       "output_type": "stream",
       "stream": "stdout",
       "text": [
        "\n",
        "trained on CAPN1 (182 instances) and tested on GZMB (3206 instances) predicts 12 positives (0.00)"
       ]
      },
      {
       "output_type": "stream",
       "stream": "stdout",
       "text": [
        "\n",
        "trained on CAPN2 (300 instances) and tested on CAPN1 (182 instances) predicts 88 positives (0.48)"
       ]
      },
      {
       "output_type": "stream",
       "stream": "stdout",
       "text": [
        "\n",
        "trained on CAPN2 (300 instances) and tested on CAPN2 (300 instances) predicts 298 positives (0.99)"
       ]
      },
      {
       "output_type": "stream",
       "stream": "stdout",
       "text": [
        "\n",
        "trained on CAPN2 (300 instances) and tested on CASP1 (336 instances) predicts 28 positives (0.08)"
       ]
      },
      {
       "output_type": "stream",
       "stream": "stdout",
       "text": [
        "\n",
        "trained on CAPN2 (300 instances) and tested on CASP3 (1104 instances) predicts 70 positives (0.06)"
       ]
      },
      {
       "output_type": "stream",
       "stream": "stdout",
       "text": [
        "\n",
        "trained on CAPN2 (300 instances) and tested on CASP7 (296 instances) predicts 30 positives (0.10)"
       ]
      },
      {
       "output_type": "stream",
       "stream": "stdout",
       "text": [
        "\n",
        "trained on CAPN2 (300 instances) and tested on CMA1 (94 instances) predicts 10 positives (0.11)"
       ]
      },
      {
       "output_type": "stream",
       "stream": "stdout",
       "text": [
        "\n",
        "trained on CAPN2 (300 instances) and tested on CTSB (1158 instances) predicts 94 positives (0.08)"
       ]
      },
      {
       "output_type": "stream",
       "stream": "stdout",
       "text": [
        "\n",
        "trained on CAPN2 (300 instances) and tested on CTSD (1494 instances) predicts 44 positives (0.03)"
       ]
      },
      {
       "output_type": "stream",
       "stream": "stdout",
       "text": [
        "\n",
        "trained on CAPN2 (300 instances) and tested on CTSE (2696 instances) predicts 36 positives (0.01)"
       ]
      },
      {
       "output_type": "stream",
       "stream": "stdout",
       "text": [
        "\n",
        "trained on CAPN2 (300 instances) and tested on CTSG (484 instances) predicts 36 positives (0.07)"
       ]
      },
      {
       "output_type": "stream",
       "stream": "stdout",
       "text": [
        "\n",
        "trained on CAPN2 (300 instances) and tested on CTSK (228 instances) predicts 36 positives (0.16)"
       ]
      },
      {
       "output_type": "stream",
       "stream": "stdout",
       "text": [
        "\n",
        "trained on CAPN2 (300 instances) and tested on CTSL1 (2106 instances) predicts 438 positives (0.21)"
       ]
      },
      {
       "output_type": "stream",
       "stream": "stdout",
       "text": [
        "\n",
        "trained on CAPN2 (300 instances) and tested on CTSS (1462 instances) predicts 342 positives (0.23)"
       ]
      },
      {
       "output_type": "stream",
       "stream": "stdout",
       "text": [
        "\n",
        "trained on CAPN2 (300 instances) and tested on ELANE (724 instances) predicts 48 positives (0.07)"
       ]
      },
      {
       "output_type": "stream",
       "stream": "stdout",
       "text": [
        "\n",
        "trained on CAPN2 (300 instances) and tested on F2 (264 instances) predicts 40 positives (0.15)"
       ]
      },
      {
       "output_type": "stream",
       "stream": "stdout",
       "text": [
        "\n",
        "trained on CAPN2 (300 instances) and tested on FURIN (356 instances) predicts 14 positives (0.04)"
       ]
      },
      {
       "output_type": "stream",
       "stream": "stdout",
       "text": [
        "\n",
        "trained on CAPN2 (300 instances) and tested on GZMA (578 instances) predicts 54 positives (0.09)"
       ]
      },
      {
       "output_type": "stream",
       "stream": "stdout",
       "text": [
        "\n",
        "trained on CAPN2 (300 instances) and tested on GZMB (3206 instances) predicts 114 positives (0.04)"
       ]
      },
      {
       "output_type": "stream",
       "stream": "stdout",
       "text": [
        "\n",
        "trained on CASP1 (336 instances) and tested on CAPN1 (182 instances) predicts 0 positives (0.00)"
       ]
      },
      {
       "output_type": "stream",
       "stream": "stdout",
       "text": [
        "\n",
        "trained on CASP1 (336 instances) and tested on CAPN2 (300 instances) predicts 10 positives (0.03)"
       ]
      },
      {
       "output_type": "stream",
       "stream": "stdout",
       "text": [
        "\n",
        "trained on CASP1 (336 instances) and tested on CASP1 (336 instances) predicts 336 positives (1.00)"
       ]
      },
      {
       "output_type": "stream",
       "stream": "stdout",
       "text": [
        "\n",
        "trained on CASP1 (336 instances) and tested on CASP3 (1104 instances) predicts 640 positives (0.58)"
       ]
      },
      {
       "output_type": "stream",
       "stream": "stdout",
       "text": [
        "\n",
        "trained on CASP1 (336 instances) and tested on CASP7 (296 instances) predicts 198 positives (0.67)"
       ]
      },
      {
       "output_type": "stream",
       "stream": "stdout",
       "text": [
        "\n",
        "trained on CASP1 (336 instances) and tested on CMA1 (94 instances) predicts 0 positives (0.00)"
       ]
      },
      {
       "output_type": "stream",
       "stream": "stdout",
       "text": [
        "\n",
        "trained on CASP1 (336 instances) and tested on CTSB (1158 instances) predicts 10 positives (0.01)"
       ]
      },
      {
       "output_type": "stream",
       "stream": "stdout",
       "text": [
        "\n",
        "trained on CASP1 (336 instances) and tested on CTSD (1494 instances) predicts 40 positives (0.03)"
       ]
      },
      {
       "output_type": "stream",
       "stream": "stdout",
       "text": [
        "\n",
        "trained on CASP1 (336 instances) and tested on CTSE (2696 instances) predicts 20 positives (0.01)"
       ]
      },
      {
       "output_type": "stream",
       "stream": "stdout",
       "text": [
        "\n",
        "trained on CASP1 (336 instances) and tested on CTSG (484 instances) predicts 4 positives (0.01)"
       ]
      },
      {
       "output_type": "stream",
       "stream": "stdout",
       "text": [
        "\n",
        "trained on CASP1 (336 instances) and tested on CTSK (228 instances) predicts 4 positives (0.02)"
       ]
      },
      {
       "output_type": "stream",
       "stream": "stdout",
       "text": [
        "\n",
        "trained on CASP1 (336 instances) and tested on CTSL1 (2106 instances) predicts 36 positives (0.02)"
       ]
      },
      {
       "output_type": "stream",
       "stream": "stdout",
       "text": [
        "\n",
        "trained on CASP1 (336 instances) and tested on CTSS (1462 instances) predicts 46 positives (0.03)"
       ]
      },
      {
       "output_type": "stream",
       "stream": "stdout",
       "text": [
        "\n",
        "trained on CASP1 (336 instances) and tested on ELANE (724 instances) predicts 8 positives (0.01)"
       ]
      },
      {
       "output_type": "stream",
       "stream": "stdout",
       "text": [
        "\n",
        "trained on CASP1 (336 instances) and tested on F2 (264 instances) predicts 2 positives (0.01)"
       ]
      },
      {
       "output_type": "stream",
       "stream": "stdout",
       "text": [
        "\n",
        "trained on CASP1 (336 instances) and tested on FURIN (356 instances) predicts 0 positives (0.00)"
       ]
      },
      {
       "output_type": "stream",
       "stream": "stdout",
       "text": [
        "\n",
        "trained on CASP1 (336 instances) and tested on GZMA (578 instances) predicts 0 positives (0.00)"
       ]
      },
      {
       "output_type": "stream",
       "stream": "stdout",
       "text": [
        "\n",
        "trained on CASP1 (336 instances) and tested on GZMB (3206 instances) predicts 670 positives (0.21)"
       ]
      },
      {
       "output_type": "stream",
       "stream": "stdout",
       "text": [
        "\n",
        "trained on CASP3 (1104 instances) and tested on CAPN1 (182 instances) predicts 0 positives (0.00)"
       ]
      },
      {
       "output_type": "stream",
       "stream": "stdout",
       "text": [
        "\n",
        "trained on CASP3 (1104 instances) and tested on CAPN2 (300 instances) predicts 2 positives (0.01)"
       ]
      },
      {
       "output_type": "stream",
       "stream": "stdout",
       "text": [
        "\n",
        "trained on CASP3 (1104 instances) and tested on CASP1 (336 instances) predicts 92 positives (0.27)"
       ]
      },
      {
       "output_type": "stream",
       "stream": "stdout",
       "text": [
        "\n",
        "trained on CASP3 (1104 instances) and tested on CASP3 (1104 instances) predicts 1102 positives (1.00)"
       ]
      },
      {
       "output_type": "stream",
       "stream": "stdout",
       "text": [
        "\n",
        "trained on CASP3 (1104 instances) and tested on CASP7 (296 instances) predicts 266 positives (0.90)"
       ]
      },
      {
       "output_type": "stream",
       "stream": "stdout",
       "text": [
        "\n",
        "trained on CASP3 (1104 instances) and tested on CMA1 (94 instances) predicts 0 positives (0.00)"
       ]
      },
      {
       "output_type": "stream",
       "stream": "stdout",
       "text": [
        "\n",
        "trained on CASP3 (1104 instances) and tested on CTSB (1158 instances) predicts 0 positives (0.00)"
       ]
      },
      {
       "output_type": "stream",
       "stream": "stdout",
       "text": [
        "\n",
        "trained on CASP3 (1104 instances) and tested on CTSD (1494 instances) predicts 2 positives (0.00)"
       ]
      },
      {
       "output_type": "stream",
       "stream": "stdout",
       "text": [
        "\n",
        "trained on CASP3 (1104 instances) and tested on CTSE (2696 instances) predicts 4 positives (0.00)"
       ]
      },
      {
       "output_type": "stream",
       "stream": "stdout",
       "text": [
        "\n",
        "trained on CASP3 (1104 instances) and tested on CTSG (484 instances) predicts 2 positives (0.00)"
       ]
      },
      {
       "output_type": "stream",
       "stream": "stdout",
       "text": [
        "\n",
        "trained on CASP3 (1104 instances) and tested on CTSK (228 instances) predicts 2 positives (0.01)"
       ]
      },
      {
       "output_type": "stream",
       "stream": "stdout",
       "text": [
        "\n",
        "trained on CASP3 (1104 instances) and tested on CTSL1 (2106 instances) predicts 4 positives (0.00)"
       ]
      },
      {
       "output_type": "stream",
       "stream": "stdout",
       "text": [
        "\n",
        "trained on CASP3 (1104 instances) and tested on CTSS (1462 instances) predicts 4 positives (0.00)"
       ]
      },
      {
       "output_type": "stream",
       "stream": "stdout",
       "text": [
        "\n",
        "trained on CASP3 (1104 instances) and tested on ELANE (724 instances) predicts 0 positives (0.00)"
       ]
      },
      {
       "output_type": "stream",
       "stream": "stdout",
       "text": [
        "\n",
        "trained on CASP3 (1104 instances) and tested on F2 (264 instances) predicts 0 positives (0.00)"
       ]
      },
      {
       "output_type": "stream",
       "stream": "stdout",
       "text": [
        "\n",
        "trained on CASP3 (1104 instances) and tested on FURIN (356 instances) predicts 0 positives (0.00)"
       ]
      },
      {
       "output_type": "stream",
       "stream": "stdout",
       "text": [
        "\n",
        "trained on CASP3 (1104 instances) and tested on GZMA (578 instances) predicts 0 positives (0.00)"
       ]
      },
      {
       "output_type": "stream",
       "stream": "stdout",
       "text": [
        "\n",
        "trained on CASP3 (1104 instances) and tested on GZMB (3206 instances) predicts 114 positives (0.04)"
       ]
      },
      {
       "output_type": "stream",
       "stream": "stdout",
       "text": [
        "\n",
        "trained on CASP7 (296 instances) and tested on CAPN1 (182 instances) predicts 26 positives (0.14)"
       ]
      },
      {
       "output_type": "stream",
       "stream": "stdout",
       "text": [
        "\n",
        "trained on CASP7 (296 instances) and tested on CAPN2 (300 instances) predicts 52 positives (0.17)"
       ]
      },
      {
       "output_type": "stream",
       "stream": "stdout",
       "text": [
        "\n",
        "trained on CASP7 (296 instances) and tested on CASP1 (336 instances) predicts 180 positives (0.54)"
       ]
      },
      {
       "output_type": "stream",
       "stream": "stdout",
       "text": [
        "\n",
        "trained on CASP7 (296 instances) and tested on CASP3 (1104 instances) predicts 920 positives (0.83)"
       ]
      },
      {
       "output_type": "stream",
       "stream": "stdout",
       "text": [
        "\n",
        "trained on CASP7 (296 instances) and tested on CASP7 (296 instances) predicts 296 positives (1.00)"
       ]
      },
      {
       "output_type": "stream",
       "stream": "stdout",
       "text": [
        "\n",
        "trained on CASP7 (296 instances) and tested on CMA1 (94 instances) predicts 16 positives (0.17)"
       ]
      },
      {
       "output_type": "stream",
       "stream": "stdout",
       "text": [
        "\n",
        "trained on CASP7 (296 instances) and tested on CTSB (1158 instances) predicts 154 positives (0.13)"
       ]
      },
      {
       "output_type": "stream",
       "stream": "stdout",
       "text": [
        "\n",
        "trained on CASP7 (296 instances) and tested on CTSD (1494 instances) predicts 138 positives (0.09)"
       ]
      },
      {
       "output_type": "stream",
       "stream": "stdout",
       "text": [
        "\n",
        "trained on CASP7 (296 instances) and tested on CTSE (2696 instances) predicts 216 positives (0.08)"
       ]
      },
      {
       "output_type": "stream",
       "stream": "stdout",
       "text": [
        "\n",
        "trained on CASP7 (296 instances) and tested on CTSG (484 instances) predicts 46 positives (0.10)"
       ]
      },
      {
       "output_type": "stream",
       "stream": "stdout",
       "text": [
        "\n",
        "trained on CASP7 (296 instances) and tested on CTSK (228 instances) predicts 18 positives (0.08)"
       ]
      },
      {
       "output_type": "stream",
       "stream": "stdout",
       "text": [
        "\n",
        "trained on CASP7 (296 instances) and tested on CTSL1 (2106 instances) predicts 354 positives (0.17)"
       ]
      },
      {
       "output_type": "stream",
       "stream": "stdout",
       "text": [
        "\n",
        "trained on CASP7 (296 instances) and tested on CTSS (1462 instances) predicts 268 positives (0.18)"
       ]
      },
      {
       "output_type": "stream",
       "stream": "stdout",
       "text": [
        "\n",
        "trained on CASP7 (296 instances) and tested on ELANE (724 instances) predicts 90 positives (0.12)"
       ]
      },
      {
       "output_type": "stream",
       "stream": "stdout",
       "text": [
        "\n",
        "trained on CASP7 (296 instances) and tested on F2 (264 instances) predicts 38 positives (0.14)"
       ]
      },
      {
       "output_type": "stream",
       "stream": "stdout",
       "text": [
        "\n",
        "trained on CASP7 (296 instances) and tested on FURIN (356 instances) predicts 34 positives (0.10)"
       ]
      },
      {
       "output_type": "stream",
       "stream": "stdout",
       "text": [
        "\n",
        "trained on CASP7 (296 instances) and tested on GZMA (578 instances) predicts 56 positives (0.10)"
       ]
      },
      {
       "output_type": "stream",
       "stream": "stdout",
       "text": [
        "\n",
        "trained on CASP7 (296 instances) and tested on GZMB (3206 instances) predicts 762 positives (0.24)"
       ]
      },
      {
       "output_type": "stream",
       "stream": "stdout",
       "text": [
        "\n",
        "trained on CMA1 (94 instances) and tested on CAPN1 (182 instances) predicts 0 positives (0.00)"
       ]
      },
      {
       "output_type": "stream",
       "stream": "stdout",
       "text": [
        "\n",
        "trained on CMA1 (94 instances) and tested on CAPN2 (300 instances) predicts 0 positives (0.00)"
       ]
      },
      {
       "output_type": "stream",
       "stream": "stdout",
       "text": [
        "\n",
        "trained on CMA1 (94 instances) and tested on CASP1 (336 instances) predicts 0 positives (0.00)"
       ]
      },
      {
       "output_type": "stream",
       "stream": "stdout",
       "text": [
        "\n",
        "trained on CMA1 (94 instances) and tested on CASP3 (1104 instances) predicts 0 positives (0.00)"
       ]
      },
      {
       "output_type": "stream",
       "stream": "stdout",
       "text": [
        "\n",
        "trained on CMA1 (94 instances) and tested on CASP7 (296 instances) predicts 0 positives (0.00)"
       ]
      },
      {
       "output_type": "stream",
       "stream": "stdout",
       "text": [
        "\n",
        "trained on CMA1 (94 instances) and tested on CMA1 (94 instances) predicts 94 positives (1.00)"
       ]
      },
      {
       "output_type": "stream",
       "stream": "stdout",
       "text": [
        "\n",
        "trained on CMA1 (94 instances) and tested on CTSB (1158 instances) predicts 4 positives (0.00)"
       ]
      },
      {
       "output_type": "stream",
       "stream": "stdout",
       "text": [
        "\n",
        "trained on CMA1 (94 instances) and tested on CTSD (1494 instances) predicts 4 positives (0.00)"
       ]
      },
      {
       "output_type": "stream",
       "stream": "stdout",
       "text": [
        "\n",
        "trained on CMA1 (94 instances) and tested on CTSE (2696 instances) predicts 2 positives (0.00)"
       ]
      },
      {
       "output_type": "stream",
       "stream": "stdout",
       "text": [
        "\n",
        "trained on CMA1 (94 instances) and tested on CTSG (484 instances) predicts 10 positives (0.02)"
       ]
      },
      {
       "output_type": "stream",
       "stream": "stdout",
       "text": [
        "\n",
        "trained on CMA1 (94 instances) and tested on CTSK (228 instances) predicts 0 positives (0.00)"
       ]
      },
      {
       "output_type": "stream",
       "stream": "stdout",
       "text": [
        "\n",
        "trained on CMA1 (94 instances) and tested on CTSL1 (2106 instances) predicts 0 positives (0.00)"
       ]
      },
      {
       "output_type": "stream",
       "stream": "stdout",
       "text": [
        "\n",
        "trained on CMA1 (94 instances) and tested on CTSS (1462 instances) predicts 0 positives (0.00)"
       ]
      },
      {
       "output_type": "stream",
       "stream": "stdout",
       "text": [
        "\n",
        "trained on CMA1 (94 instances) and tested on ELANE (724 instances) predicts 4 positives (0.01)"
       ]
      },
      {
       "output_type": "stream",
       "stream": "stdout",
       "text": [
        "\n",
        "trained on CMA1 (94 instances) and tested on F2 (264 instances) predicts 0 positives (0.00)"
       ]
      },
      {
       "output_type": "stream",
       "stream": "stdout",
       "text": [
        "\n",
        "trained on CMA1 (94 instances) and tested on FURIN (356 instances) predicts 0 positives (0.00)"
       ]
      },
      {
       "output_type": "stream",
       "stream": "stdout",
       "text": [
        "\n",
        "trained on CMA1 (94 instances) and tested on GZMA (578 instances) predicts 0 positives (0.00)"
       ]
      },
      {
       "output_type": "stream",
       "stream": "stdout",
       "text": [
        "\n",
        "trained on CMA1 (94 instances) and tested on GZMB (3206 instances) predicts 0 positives (0.00)"
       ]
      },
      {
       "output_type": "stream",
       "stream": "stdout",
       "text": [
        "\n",
        "trained on CTSB (1158 instances) and tested on CAPN1 (182 instances) predicts 10 positives (0.05)"
       ]
      },
      {
       "output_type": "stream",
       "stream": "stdout",
       "text": [
        "\n",
        "trained on CTSB (1158 instances) and tested on CAPN2 (300 instances) predicts 6 positives (0.02)"
       ]
      },
      {
       "output_type": "stream",
       "stream": "stdout",
       "text": [
        "\n",
        "trained on CTSB (1158 instances) and tested on CASP1 (336 instances) predicts 4 positives (0.01)"
       ]
      },
      {
       "output_type": "stream",
       "stream": "stdout",
       "text": [
        "\n",
        "trained on CTSB (1158 instances) and tested on CASP3 (1104 instances) predicts 4 positives (0.00)"
       ]
      },
      {
       "output_type": "stream",
       "stream": "stdout",
       "text": [
        "\n",
        "trained on CTSB (1158 instances) and tested on CASP7 (296 instances) predicts 0 positives (0.00)"
       ]
      },
      {
       "output_type": "stream",
       "stream": "stdout",
       "text": [
        "\n",
        "trained on CTSB (1158 instances) and tested on CMA1 (94 instances) predicts 4 positives (0.04)"
       ]
      },
      {
       "output_type": "stream",
       "stream": "stdout",
       "text": [
        "\n",
        "trained on CTSB (1158 instances) and tested on CTSB (1158 instances) predicts 1158 positives (1.00)"
       ]
      },
      {
       "output_type": "stream",
       "stream": "stdout",
       "text": [
        "\n",
        "trained on CTSB (1158 instances) and tested on CTSD (1494 instances) predicts 26 positives (0.02)"
       ]
      },
      {
       "output_type": "stream",
       "stream": "stdout",
       "text": [
        "\n",
        "trained on CTSB (1158 instances) and tested on CTSE (2696 instances) predicts 66 positives (0.02)"
       ]
      },
      {
       "output_type": "stream",
       "stream": "stdout",
       "text": [
        "\n",
        "trained on CTSB (1158 instances) and tested on CTSG (484 instances) predicts 20 positives (0.04)"
       ]
      },
      {
       "output_type": "stream",
       "stream": "stdout",
       "text": [
        "\n",
        "trained on CTSB (1158 instances) and tested on CTSK (228 instances) predicts 12 positives (0.05)"
       ]
      },
      {
       "output_type": "stream",
       "stream": "stdout",
       "text": [
        "\n",
        "trained on CTSB (1158 instances) and tested on CTSL1 (2106 instances) predicts 228 positives (0.11)"
       ]
      },
      {
       "output_type": "stream",
       "stream": "stdout",
       "text": [
        "\n",
        "trained on CTSB (1158 instances) and tested on CTSS (1462 instances) predicts 166 positives (0.11)"
       ]
      },
      {
       "output_type": "stream",
       "stream": "stdout",
       "text": [
        "\n",
        "trained on CTSB (1158 instances) and tested on ELANE (724 instances) predicts 14 positives (0.02)"
       ]
      },
      {
       "output_type": "stream",
       "stream": "stdout",
       "text": [
        "\n",
        "trained on CTSB (1158 instances) and tested on F2 (264 instances) predicts 0 positives (0.00)"
       ]
      },
      {
       "output_type": "stream",
       "stream": "stdout",
       "text": [
        "\n",
        "trained on CTSB (1158 instances) and tested on FURIN (356 instances) predicts 6 positives (0.02)"
       ]
      },
      {
       "output_type": "stream",
       "stream": "stdout",
       "text": [
        "\n",
        "trained on CTSB (1158 instances) and tested on GZMA (578 instances) predicts 2 positives (0.00)"
       ]
      },
      {
       "output_type": "stream",
       "stream": "stdout",
       "text": [
        "\n",
        "trained on CTSB (1158 instances) and tested on GZMB (3206 instances) predicts 6 positives (0.00)"
       ]
      },
      {
       "output_type": "stream",
       "stream": "stdout",
       "text": [
        "\n",
        "trained on CTSD (1494 instances) and tested on CAPN1 (182 instances) predicts 6 positives (0.03)"
       ]
      },
      {
       "output_type": "stream",
       "stream": "stdout",
       "text": [
        "\n",
        "trained on CTSD (1494 instances) and tested on CAPN2 (300 instances) predicts 6 positives (0.02)"
       ]
      },
      {
       "output_type": "stream",
       "stream": "stdout",
       "text": [
        "\n",
        "trained on CTSD (1494 instances) and tested on CASP1 (336 instances) predicts 6 positives (0.02)"
       ]
      },
      {
       "output_type": "stream",
       "stream": "stdout",
       "text": [
        "\n",
        "trained on CTSD (1494 instances) and tested on CASP3 (1104 instances) predicts 6 positives (0.01)"
       ]
      },
      {
       "output_type": "stream",
       "stream": "stdout",
       "text": [
        "\n",
        "trained on CTSD (1494 instances) and tested on CASP7 (296 instances) predicts 0 positives (0.00)"
       ]
      },
      {
       "output_type": "stream",
       "stream": "stdout",
       "text": [
        "\n",
        "trained on CTSD (1494 instances) and tested on CMA1 (94 instances) predicts 12 positives (0.13)"
       ]
      },
      {
       "output_type": "stream",
       "stream": "stdout",
       "text": [
        "\n",
        "trained on CTSD (1494 instances) and tested on CTSB (1158 instances) predicts 60 positives (0.05)"
       ]
      },
      {
       "output_type": "stream",
       "stream": "stdout",
       "text": [
        "\n",
        "trained on CTSD (1494 instances) and tested on CTSD (1494 instances) predicts 1494 positives (1.00)"
       ]
      },
      {
       "output_type": "stream",
       "stream": "stdout",
       "text": [
        "\n",
        "trained on CTSD (1494 instances) and tested on CTSE (2696 instances) predicts 980 positives (0.36)"
       ]
      },
      {
       "output_type": "stream",
       "stream": "stdout",
       "text": [
        "\n",
        "trained on CTSD (1494 instances) and tested on CTSG (484 instances) predicts 48 positives (0.10)"
       ]
      },
      {
       "output_type": "stream",
       "stream": "stdout",
       "text": [
        "\n",
        "trained on CTSD (1494 instances) and tested on CTSK (228 instances) predicts 0 positives (0.00)"
       ]
      },
      {
       "output_type": "stream",
       "stream": "stdout",
       "text": [
        "\n",
        "trained on CTSD (1494 instances) and tested on CTSL1 (2106 instances) predicts 46 positives (0.02)"
       ]
      },
      {
       "output_type": "stream",
       "stream": "stdout",
       "text": [
        "\n",
        "trained on CTSD (1494 instances) and tested on CTSS (1462 instances) predicts 34 positives (0.02)"
       ]
      },
      {
       "output_type": "stream",
       "stream": "stdout",
       "text": [
        "\n",
        "trained on CTSD (1494 instances) and tested on ELANE (724 instances) predicts 12 positives (0.02)"
       ]
      },
      {
       "output_type": "stream",
       "stream": "stdout",
       "text": [
        "\n",
        "trained on CTSD (1494 instances) and tested on F2 (264 instances) predicts 0 positives (0.00)"
       ]
      },
      {
       "output_type": "stream",
       "stream": "stdout",
       "text": [
        "\n",
        "trained on CTSD (1494 instances) and tested on FURIN (356 instances) predicts 8 positives (0.02)"
       ]
      },
      {
       "output_type": "stream",
       "stream": "stdout",
       "text": [
        "\n",
        "trained on CTSD (1494 instances) and tested on GZMA (578 instances) predicts 4 positives (0.01)"
       ]
      },
      {
       "output_type": "stream",
       "stream": "stdout",
       "text": [
        "\n",
        "trained on CTSD (1494 instances) and tested on GZMB (3206 instances) predicts 40 positives (0.01)"
       ]
      },
      {
       "output_type": "stream",
       "stream": "stdout",
       "text": [
        "\n",
        "trained on CTSE (2696 instances) and tested on CAPN1 (182 instances) predicts 6 positives (0.03)"
       ]
      },
      {
       "output_type": "stream",
       "stream": "stdout",
       "text": [
        "\n",
        "trained on CTSE (2696 instances) and tested on CAPN2 (300 instances) predicts 2 positives (0.01)"
       ]
      },
      {
       "output_type": "stream",
       "stream": "stdout",
       "text": [
        "\n",
        "trained on CTSE (2696 instances) and tested on CASP1 (336 instances) predicts 6 positives (0.02)"
       ]
      },
      {
       "output_type": "stream",
       "stream": "stdout",
       "text": [
        "\n",
        "trained on CTSE (2696 instances) and tested on CASP3 (1104 instances) predicts 4 positives (0.00)"
       ]
      },
      {
       "output_type": "stream",
       "stream": "stdout",
       "text": [
        "\n",
        "trained on CTSE (2696 instances) and tested on CASP7 (296 instances) predicts 2 positives (0.01)"
       ]
      },
      {
       "output_type": "stream",
       "stream": "stdout",
       "text": [
        "\n",
        "trained on CTSE (2696 instances) and tested on CMA1 (94 instances) predicts 10 positives (0.11)"
       ]
      },
      {
       "output_type": "stream",
       "stream": "stdout",
       "text": [
        "\n",
        "trained on CTSE (2696 instances) and tested on CTSB (1158 instances) predicts 48 positives (0.04)"
       ]
      },
      {
       "output_type": "stream",
       "stream": "stdout",
       "text": [
        "\n",
        "trained on CTSE (2696 instances) and tested on CTSD (1494 instances) predicts 804 positives (0.54)"
       ]
      },
      {
       "output_type": "stream",
       "stream": "stdout",
       "text": [
        "\n",
        "trained on CTSE (2696 instances) and tested on CTSE (2696 instances) predicts 2650 positives (0.98)"
       ]
      },
      {
       "output_type": "stream",
       "stream": "stdout",
       "text": [
        "\n",
        "trained on CTSE (2696 instances) and tested on CTSG (484 instances) predicts 66 positives (0.14)"
       ]
      },
      {
       "output_type": "stream",
       "stream": "stdout",
       "text": [
        "\n",
        "trained on CTSE (2696 instances) and tested on CTSK (228 instances) predicts 0 positives (0.00)"
       ]
      },
      {
       "output_type": "stream",
       "stream": "stdout",
       "text": [
        "\n",
        "trained on CTSE (2696 instances) and tested on CTSL1 (2106 instances) predicts 34 positives (0.02)"
       ]
      },
      {
       "output_type": "stream",
       "stream": "stdout",
       "text": [
        "\n",
        "trained on CTSE (2696 instances) and tested on CTSS (1462 instances) predicts 18 positives (0.01)"
       ]
      },
      {
       "output_type": "stream",
       "stream": "stdout",
       "text": [
        "\n",
        "trained on CTSE (2696 instances) and tested on ELANE (724 instances) predicts 14 positives (0.02)"
       ]
      },
      {
       "output_type": "stream",
       "stream": "stdout",
       "text": [
        "\n",
        "trained on CTSE (2696 instances) and tested on F2 (264 instances) predicts 0 positives (0.00)"
       ]
      },
      {
       "output_type": "stream",
       "stream": "stdout",
       "text": [
        "\n",
        "trained on CTSE (2696 instances) and tested on FURIN (356 instances) predicts 6 positives (0.02)"
       ]
      },
      {
       "output_type": "stream",
       "stream": "stdout",
       "text": [
        "\n",
        "trained on CTSE (2696 instances) and tested on GZMA (578 instances) predicts 4 positives (0.01)"
       ]
      },
      {
       "output_type": "stream",
       "stream": "stdout",
       "text": [
        "\n",
        "trained on CTSE (2696 instances) and tested on GZMB (3206 instances) predicts 34 positives (0.01)"
       ]
      },
      {
       "output_type": "stream",
       "stream": "stdout",
       "text": [
        "\n",
        "trained on CTSG (484 instances) and tested on CAPN1 (182 instances) predicts 6 positives (0.03)"
       ]
      },
      {
       "output_type": "stream",
       "stream": "stdout",
       "text": [
        "\n",
        "trained on CTSG (484 instances) and tested on CAPN2 (300 instances) predicts 2 positives (0.01)"
       ]
      },
      {
       "output_type": "stream",
       "stream": "stdout",
       "text": [
        "\n",
        "trained on CTSG (484 instances) and tested on CASP1 (336 instances) predicts 0 positives (0.00)"
       ]
      },
      {
       "output_type": "stream",
       "stream": "stdout",
       "text": [
        "\n",
        "trained on CTSG (484 instances) and tested on CASP3 (1104 instances) predicts 2 positives (0.00)"
       ]
      },
      {
       "output_type": "stream",
       "stream": "stdout",
       "text": [
        "\n",
        "trained on CTSG (484 instances) and tested on CASP7 (296 instances) predicts 2 positives (0.01)"
       ]
      },
      {
       "output_type": "stream",
       "stream": "stdout",
       "text": [
        "\n",
        "trained on CTSG (484 instances) and tested on CMA1 (94 instances) predicts 14 positives (0.15)"
       ]
      },
      {
       "output_type": "stream",
       "stream": "stdout",
       "text": [
        "\n",
        "trained on CTSG (484 instances) and tested on CTSB (1158 instances) predicts 16 positives (0.01)"
       ]
      },
      {
       "output_type": "stream",
       "stream": "stdout",
       "text": [
        "\n",
        "trained on CTSG (484 instances) and tested on CTSD (1494 instances) predicts 44 positives (0.03)"
       ]
      },
      {
       "output_type": "stream",
       "stream": "stdout",
       "text": [
        "\n",
        "trained on CTSG (484 instances) and tested on CTSE (2696 instances) predicts 68 positives (0.03)"
       ]
      },
      {
       "output_type": "stream",
       "stream": "stdout",
       "text": [
        "\n",
        "trained on CTSG (484 instances) and tested on CTSG (484 instances) predicts 484 positives (1.00)"
       ]
      },
      {
       "output_type": "stream",
       "stream": "stdout",
       "text": [
        "\n",
        "trained on CTSG (484 instances) and tested on CTSK (228 instances) predicts 4 positives (0.02)"
       ]
      },
      {
       "output_type": "stream",
       "stream": "stdout",
       "text": [
        "\n",
        "trained on CTSG (484 instances) and tested on CTSL1 (2106 instances) predicts 20 positives (0.01)"
       ]
      },
      {
       "output_type": "stream",
       "stream": "stdout",
       "text": [
        "\n",
        "trained on CTSG (484 instances) and tested on CTSS (1462 instances) predicts 20 positives (0.01)"
       ]
      },
      {
       "output_type": "stream",
       "stream": "stdout",
       "text": [
        "\n",
        "trained on CTSG (484 instances) and tested on ELANE (724 instances) predicts 50 positives (0.07)"
       ]
      },
      {
       "output_type": "stream",
       "stream": "stdout",
       "text": [
        "\n",
        "trained on CTSG (484 instances) and tested on F2 (264 instances) predicts 4 positives (0.02)"
       ]
      },
      {
       "output_type": "stream",
       "stream": "stdout",
       "text": [
        "\n",
        "trained on CTSG (484 instances) and tested on FURIN (356 instances) predicts 0 positives (0.00)"
       ]
      },
      {
       "output_type": "stream",
       "stream": "stdout",
       "text": [
        "\n",
        "trained on CTSG (484 instances) and tested on GZMA (578 instances) predicts 2 positives (0.00)"
       ]
      },
      {
       "output_type": "stream",
       "stream": "stdout",
       "text": [
        "\n",
        "trained on CTSG (484 instances) and tested on GZMB (3206 instances) predicts 10 positives (0.00)"
       ]
      },
      {
       "output_type": "stream",
       "stream": "stdout",
       "text": [
        "\n",
        "trained on CTSK (228 instances) and tested on CAPN1 (182 instances) predicts 108 positives (0.59)"
       ]
      },
      {
       "output_type": "stream",
       "stream": "stdout",
       "text": [
        "\n",
        "trained on CTSK (228 instances) and tested on CAPN2 (300 instances) predicts 168 positives (0.56)"
       ]
      },
      {
       "output_type": "stream",
       "stream": "stdout",
       "text": [
        "\n",
        "trained on CTSK (228 instances) and tested on CASP1 (336 instances) predicts 122 positives (0.36)"
       ]
      },
      {
       "output_type": "stream",
       "stream": "stdout",
       "text": [
        "\n",
        "trained on CTSK (228 instances) and tested on CASP3 (1104 instances) predicts 392 positives (0.36)"
       ]
      },
      {
       "output_type": "stream",
       "stream": "stdout",
       "text": [
        "\n",
        "trained on CTSK (228 instances) and tested on CASP7 (296 instances) predicts 116 positives (0.39)"
       ]
      },
      {
       "output_type": "stream",
       "stream": "stdout",
       "text": [
        "\n",
        "trained on CTSK (228 instances) and tested on CMA1 (94 instances) predicts 38 positives (0.40)"
       ]
      },
      {
       "output_type": "stream",
       "stream": "stdout",
       "text": [
        "\n",
        "trained on CTSK (228 instances) and tested on CTSB (1158 instances) predicts 576 positives (0.50)"
       ]
      },
      {
       "output_type": "stream",
       "stream": "stdout",
       "text": [
        "\n",
        "trained on CTSK (228 instances) and tested on CTSD (1494 instances) predicts 302 positives (0.20)"
       ]
      },
      {
       "output_type": "stream",
       "stream": "stdout",
       "text": [
        "\n",
        "trained on CTSK (228 instances) and tested on CTSE (2696 instances) predicts 514 positives (0.19)"
       ]
      },
      {
       "output_type": "stream",
       "stream": "stdout",
       "text": [
        "\n",
        "trained on CTSK (228 instances) and tested on CTSG (484 instances) predicts 138 positives (0.29)"
       ]
      },
      {
       "output_type": "stream",
       "stream": "stdout",
       "text": [
        "\n",
        "trained on CTSK (228 instances) and tested on CTSK (228 instances) predicts 228 positives (1.00)"
       ]
      },
      {
       "output_type": "stream",
       "stream": "stdout",
       "text": [
        "\n",
        "trained on CTSK (228 instances) and tested on CTSL1 (2106 instances) predicts 1568 positives (0.74)"
       ]
      },
      {
       "output_type": "stream",
       "stream": "stdout",
       "text": [
        "\n",
        "trained on CTSK (228 instances) and tested on CTSS (1462 instances) predicts 1098 positives (0.75)"
       ]
      },
      {
       "output_type": "stream",
       "stream": "stdout",
       "text": [
        "\n",
        "trained on CTSK (228 instances) and tested on ELANE (724 instances) predicts 286 positives (0.40)"
       ]
      },
      {
       "output_type": "stream",
       "stream": "stdout",
       "text": [
        "\n",
        "trained on CTSK (228 instances) and tested on F2 (264 instances) predicts 154 positives (0.58)"
       ]
      },
      {
       "output_type": "stream",
       "stream": "stdout",
       "text": [
        "\n",
        "trained on CTSK (228 instances) and tested on FURIN (356 instances) predicts 224 positives (0.63)"
       ]
      },
      {
       "output_type": "stream",
       "stream": "stdout",
       "text": [
        "\n",
        "trained on CTSK (228 instances) and tested on GZMA (578 instances) predicts 202 positives (0.35)"
       ]
      },
      {
       "output_type": "stream",
       "stream": "stdout",
       "text": [
        "\n",
        "trained on CTSK (228 instances) and tested on GZMB (3206 instances) predicts 840 positives (0.26)"
       ]
      },
      {
       "output_type": "stream",
       "stream": "stdout",
       "text": [
        "\n",
        "trained on CTSL1 (2106 instances) and tested on CAPN1 (182 instances) predicts 28 positives (0.15)"
       ]
      },
      {
       "output_type": "stream",
       "stream": "stdout",
       "text": [
        "\n",
        "trained on CTSL1 (2106 instances) and tested on CAPN2 (300 instances) predicts 40 positives (0.13)"
       ]
      },
      {
       "output_type": "stream",
       "stream": "stdout",
       "text": [
        "\n",
        "trained on CTSL1 (2106 instances) and tested on CASP1 (336 instances) predicts 16 positives (0.05)"
       ]
      },
      {
       "output_type": "stream",
       "stream": "stdout",
       "text": [
        "\n",
        "trained on CTSL1 (2106 instances) and tested on CASP3 (1104 instances) predicts 62 positives (0.06)"
       ]
      },
      {
       "output_type": "stream",
       "stream": "stdout",
       "text": [
        "\n",
        "trained on CTSL1 (2106 instances) and tested on CASP7 (296 instances) predicts 18 positives (0.06)"
       ]
      },
      {
       "output_type": "stream",
       "stream": "stdout",
       "text": [
        "\n",
        "trained on CTSL1 (2106 instances) and tested on CMA1 (94 instances) predicts 4 positives (0.04)"
       ]
      },
      {
       "output_type": "stream",
       "stream": "stdout",
       "text": [
        "\n",
        "trained on CTSL1 (2106 instances) and tested on CTSB (1158 instances) predicts 264 positives (0.23)"
       ]
      },
      {
       "output_type": "stream",
       "stream": "stdout",
       "text": [
        "\n",
        "trained on CTSL1 (2106 instances) and tested on CTSD (1494 instances) predicts 66 positives (0.04)"
       ]
      },
      {
       "output_type": "stream",
       "stream": "stdout",
       "text": [
        "\n",
        "trained on CTSL1 (2106 instances) and tested on CTSE (2696 instances) predicts 84 positives (0.03)"
       ]
      },
      {
       "output_type": "stream",
       "stream": "stdout",
       "text": [
        "\n",
        "trained on CTSL1 (2106 instances) and tested on CTSG (484 instances) predicts 40 positives (0.08)"
       ]
      },
      {
       "output_type": "stream",
       "stream": "stdout",
       "text": [
        "\n",
        "trained on CTSL1 (2106 instances) and tested on CTSK (228 instances) predicts 80 positives (0.35)"
       ]
      },
      {
       "output_type": "stream",
       "stream": "stdout",
       "text": [
        "\n",
        "trained on CTSL1 (2106 instances) and tested on CTSL1 (2106 instances) predicts 2106 positives (1.00)"
       ]
      },
      {
       "output_type": "stream",
       "stream": "stdout",
       "text": [
        "\n",
        "trained on CTSL1 (2106 instances) and tested on CTSS (1462 instances) predicts 830 positives (0.57)"
       ]
      },
      {
       "output_type": "stream",
       "stream": "stdout",
       "text": [
        "\n",
        "trained on CTSL1 (2106 instances) and tested on ELANE (724 instances) predicts 54 positives (0.07)"
       ]
      },
      {
       "output_type": "stream",
       "stream": "stdout",
       "text": [
        "\n",
        "trained on CTSL1 (2106 instances) and tested on F2 (264 instances) predicts 24 positives (0.09)"
       ]
      },
      {
       "output_type": "stream",
       "stream": "stdout",
       "text": [
        "\n",
        "trained on CTSL1 (2106 instances) and tested on FURIN (356 instances) predicts 32 positives (0.09)"
       ]
      },
      {
       "output_type": "stream",
       "stream": "stdout",
       "text": [
        "\n",
        "trained on CTSL1 (2106 instances) and tested on GZMA (578 instances) predicts 22 positives (0.04)"
       ]
      },
      {
       "output_type": "stream",
       "stream": "stdout",
       "text": [
        "\n",
        "trained on CTSL1 (2106 instances) and tested on GZMB (3206 instances) predicts 46 positives (0.01)"
       ]
      },
      {
       "output_type": "stream",
       "stream": "stdout",
       "text": [
        "\n",
        "trained on CTSS (1462 instances) and tested on CAPN1 (182 instances) predicts 12 positives (0.07)"
       ]
      },
      {
       "output_type": "stream",
       "stream": "stdout",
       "text": [
        "\n",
        "trained on CTSS (1462 instances) and tested on CAPN2 (300 instances) predicts 40 positives (0.13)"
       ]
      },
      {
       "output_type": "stream",
       "stream": "stdout",
       "text": [
        "\n",
        "trained on CTSS (1462 instances) and tested on CASP1 (336 instances) predicts 16 positives (0.05)"
       ]
      },
      {
       "output_type": "stream",
       "stream": "stdout",
       "text": [
        "\n",
        "trained on CTSS (1462 instances) and tested on CASP3 (1104 instances) predicts 44 positives (0.04)"
       ]
      },
      {
       "output_type": "stream",
       "stream": "stdout",
       "text": [
        "\n",
        "trained on CTSS (1462 instances) and tested on CASP7 (296 instances) predicts 14 positives (0.05)"
       ]
      },
      {
       "output_type": "stream",
       "stream": "stdout",
       "text": [
        "\n",
        "trained on CTSS (1462 instances) and tested on CMA1 (94 instances) predicts 0 positives (0.00)"
       ]
      },
      {
       "output_type": "stream",
       "stream": "stdout",
       "text": [
        "\n",
        "trained on CTSS (1462 instances) and tested on CTSB (1158 instances) predicts 236 positives (0.20)"
       ]
      },
      {
       "output_type": "stream",
       "stream": "stdout",
       "text": [
        "\n",
        "trained on CTSS (1462 instances) and tested on CTSD (1494 instances) predicts 32 positives (0.02)"
       ]
      },
      {
       "output_type": "stream",
       "stream": "stdout",
       "text": [
        "\n",
        "trained on CTSS (1462 instances) and tested on CTSE (2696 instances) predicts 42 positives (0.02)"
       ]
      },
      {
       "output_type": "stream",
       "stream": "stdout",
       "text": [
        "\n",
        "trained on CTSS (1462 instances) and tested on CTSG (484 instances) predicts 36 positives (0.07)"
       ]
      },
      {
       "output_type": "stream",
       "stream": "stdout",
       "text": [
        "\n",
        "trained on CTSS (1462 instances) and tested on CTSK (228 instances) predicts 56 positives (0.25)"
       ]
      },
      {
       "output_type": "stream",
       "stream": "stdout",
       "text": [
        "\n",
        "trained on CTSS (1462 instances) and tested on CTSL1 (2106 instances) predicts 898 positives (0.43)"
       ]
      },
      {
       "output_type": "stream",
       "stream": "stdout",
       "text": [
        "\n",
        "trained on CTSS (1462 instances) and tested on CTSS (1462 instances) predicts 1440 positives (0.98)"
       ]
      },
      {
       "output_type": "stream",
       "stream": "stdout",
       "text": [
        "\n",
        "trained on CTSS (1462 instances) and tested on ELANE (724 instances) predicts 34 positives (0.05)"
       ]
      },
      {
       "output_type": "stream",
       "stream": "stdout",
       "text": [
        "\n",
        "trained on CTSS (1462 instances) and tested on F2 (264 instances) predicts 2 positives (0.01)"
       ]
      },
      {
       "output_type": "stream",
       "stream": "stdout",
       "text": [
        "\n",
        "trained on CTSS (1462 instances) and tested on FURIN (356 instances) predicts 0 positives (0.00)"
       ]
      },
      {
       "output_type": "stream",
       "stream": "stdout",
       "text": [
        "\n",
        "trained on CTSS (1462 instances) and tested on GZMA (578 instances) predicts 4 positives (0.01)"
       ]
      },
      {
       "output_type": "stream",
       "stream": "stdout",
       "text": [
        "\n",
        "trained on CTSS (1462 instances) and tested on GZMB (3206 instances) predicts 30 positives (0.01)"
       ]
      },
      {
       "output_type": "stream",
       "stream": "stdout",
       "text": [
        "\n",
        "trained on ELANE (724 instances) and tested on CAPN1 (182 instances) predicts 0 positives (0.00)"
       ]
      },
      {
       "output_type": "stream",
       "stream": "stdout",
       "text": [
        "\n",
        "trained on ELANE (724 instances) and tested on CAPN2 (300 instances) predicts 2 positives (0.01)"
       ]
      },
      {
       "output_type": "stream",
       "stream": "stdout",
       "text": [
        "\n",
        "trained on ELANE (724 instances) and tested on CASP1 (336 instances) predicts 0 positives (0.00)"
       ]
      },
      {
       "output_type": "stream",
       "stream": "stdout",
       "text": [
        "\n",
        "trained on ELANE (724 instances) and tested on CASP3 (1104 instances) predicts 0 positives (0.00)"
       ]
      },
      {
       "output_type": "stream",
       "stream": "stdout",
       "text": [
        "\n",
        "trained on ELANE (724 instances) and tested on CASP7 (296 instances) predicts 0 positives (0.00)"
       ]
      },
      {
       "output_type": "stream",
       "stream": "stdout",
       "text": [
        "\n",
        "trained on ELANE (724 instances) and tested on CMA1 (94 instances) predicts 4 positives (0.04)"
       ]
      },
      {
       "output_type": "stream",
       "stream": "stdout",
       "text": [
        "\n",
        "trained on ELANE (724 instances) and tested on CTSB (1158 instances) predicts 12 positives (0.01)"
       ]
      },
      {
       "output_type": "stream",
       "stream": "stdout",
       "text": [
        "\n",
        "trained on ELANE (724 instances) and tested on CTSD (1494 instances) predicts 8 positives (0.01)"
       ]
      },
      {
       "output_type": "stream",
       "stream": "stdout",
       "text": [
        "\n",
        "trained on ELANE (724 instances) and tested on CTSE (2696 instances) predicts 10 positives (0.00)"
       ]
      },
      {
       "output_type": "stream",
       "stream": "stdout",
       "text": [
        "\n",
        "trained on ELANE (724 instances) and tested on CTSG (484 instances) predicts 50 positives (0.10)"
       ]
      },
      {
       "output_type": "stream",
       "stream": "stdout",
       "text": [
        "\n",
        "trained on ELANE (724 instances) and tested on CTSK (228 instances) predicts 4 positives (0.02)"
       ]
      },
      {
       "output_type": "stream",
       "stream": "stdout",
       "text": [
        "\n",
        "trained on ELANE (724 instances) and tested on CTSL1 (2106 instances) predicts 26 positives (0.01)"
       ]
      },
      {
       "output_type": "stream",
       "stream": "stdout",
       "text": [
        "\n",
        "trained on ELANE (724 instances) and tested on CTSS (1462 instances) predicts 24 positives (0.02)"
       ]
      },
      {
       "output_type": "stream",
       "stream": "stdout",
       "text": [
        "\n",
        "trained on ELANE (724 instances) and tested on ELANE (724 instances) predicts 724 positives (1.00)"
       ]
      },
      {
       "output_type": "stream",
       "stream": "stdout",
       "text": [
        "\n",
        "trained on ELANE (724 instances) and tested on F2 (264 instances) predicts 4 positives (0.02)"
       ]
      },
      {
       "output_type": "stream",
       "stream": "stdout",
       "text": [
        "\n",
        "trained on ELANE (724 instances) and tested on FURIN (356 instances) predicts 0 positives (0.00)"
       ]
      },
      {
       "output_type": "stream",
       "stream": "stdout",
       "text": [
        "\n",
        "trained on ELANE (724 instances) and tested on GZMA (578 instances) predicts 4 positives (0.01)"
       ]
      },
      {
       "output_type": "stream",
       "stream": "stdout",
       "text": [
        "\n",
        "trained on ELANE (724 instances) and tested on GZMB (3206 instances) predicts 6 positives (0.00)"
       ]
      },
      {
       "output_type": "stream",
       "stream": "stdout",
       "text": [
        "\n",
        "trained on F2 (264 instances) and tested on CAPN1 (182 instances) predicts 0 positives (0.00)"
       ]
      },
      {
       "output_type": "stream",
       "stream": "stdout",
       "text": [
        "\n",
        "trained on F2 (264 instances) and tested on CAPN2 (300 instances) predicts 0 positives (0.00)"
       ]
      },
      {
       "output_type": "stream",
       "stream": "stdout",
       "text": [
        "\n",
        "trained on F2 (264 instances) and tested on CASP1 (336 instances) predicts 0 positives (0.00)"
       ]
      },
      {
       "output_type": "stream",
       "stream": "stdout",
       "text": [
        "\n",
        "trained on F2 (264 instances) and tested on CASP3 (1104 instances) predicts 0 positives (0.00)"
       ]
      },
      {
       "output_type": "stream",
       "stream": "stdout",
       "text": [
        "\n",
        "trained on F2 (264 instances) and tested on CASP7 (296 instances) predicts 0 positives (0.00)"
       ]
      },
      {
       "output_type": "stream",
       "stream": "stdout",
       "text": [
        "\n",
        "trained on F2 (264 instances) and tested on CMA1 (94 instances) predicts 0 positives (0.00)"
       ]
      },
      {
       "output_type": "stream",
       "stream": "stdout",
       "text": [
        "\n",
        "trained on F2 (264 instances) and tested on CTSB (1158 instances) predicts 0 positives (0.00)"
       ]
      },
      {
       "output_type": "stream",
       "stream": "stdout",
       "text": [
        "\n",
        "trained on F2 (264 instances) and tested on CTSD (1494 instances) predicts 0 positives (0.00)"
       ]
      },
      {
       "output_type": "stream",
       "stream": "stdout",
       "text": [
        "\n",
        "trained on F2 (264 instances) and tested on CTSE (2696 instances) predicts 0 positives (0.00)"
       ]
      },
      {
       "output_type": "stream",
       "stream": "stdout",
       "text": [
        "\n",
        "trained on F2 (264 instances) and tested on CTSG (484 instances) predicts 4 positives (0.01)"
       ]
      },
      {
       "output_type": "stream",
       "stream": "stdout",
       "text": [
        "\n",
        "trained on F2 (264 instances) and tested on CTSK (228 instances) predicts 0 positives (0.00)"
       ]
      },
      {
       "output_type": "stream",
       "stream": "stdout",
       "text": [
        "\n",
        "trained on F2 (264 instances) and tested on CTSL1 (2106 instances) predicts 8 positives (0.00)"
       ]
      },
      {
       "output_type": "stream",
       "stream": "stdout",
       "text": [
        "\n",
        "trained on F2 (264 instances) and tested on CTSS (1462 instances) predicts 0 positives (0.00)"
       ]
      },
      {
       "output_type": "stream",
       "stream": "stdout",
       "text": [
        "\n",
        "trained on F2 (264 instances) and tested on ELANE (724 instances) predicts 2 positives (0.00)"
       ]
      },
      {
       "output_type": "stream",
       "stream": "stdout",
       "text": [
        "\n",
        "trained on F2 (264 instances) and tested on F2 (264 instances) predicts 264 positives (1.00)"
       ]
      },
      {
       "output_type": "stream",
       "stream": "stdout",
       "text": [
        "\n",
        "trained on F2 (264 instances) and tested on FURIN (356 instances) predicts 0 positives (0.00)"
       ]
      },
      {
       "output_type": "stream",
       "stream": "stdout",
       "text": [
        "\n",
        "trained on F2 (264 instances) and tested on GZMA (578 instances) predicts 14 positives (0.02)"
       ]
      },
      {
       "output_type": "stream",
       "stream": "stdout",
       "text": [
        "\n",
        "trained on F2 (264 instances) and tested on GZMB (3206 instances) predicts 2 positives (0.00)"
       ]
      },
      {
       "output_type": "stream",
       "stream": "stdout",
       "text": [
        "\n",
        "trained on FURIN (356 instances) and tested on CAPN1 (182 instances) predicts 0 positives (0.00)"
       ]
      },
      {
       "output_type": "stream",
       "stream": "stdout",
       "text": [
        "\n",
        "trained on FURIN (356 instances) and tested on CAPN2 (300 instances) predicts 0 positives (0.00)"
       ]
      },
      {
       "output_type": "stream",
       "stream": "stdout",
       "text": [
        "\n",
        "trained on FURIN (356 instances) and tested on CASP1 (336 instances) predicts 0 positives (0.00)"
       ]
      },
      {
       "output_type": "stream",
       "stream": "stdout",
       "text": [
        "\n",
        "trained on FURIN (356 instances) and tested on CASP3 (1104 instances) predicts 0 positives (0.00)"
       ]
      },
      {
       "output_type": "stream",
       "stream": "stdout",
       "text": [
        "\n",
        "trained on FURIN (356 instances) and tested on CASP7 (296 instances) predicts 0 positives (0.00)"
       ]
      },
      {
       "output_type": "stream",
       "stream": "stdout",
       "text": [
        "\n",
        "trained on FURIN (356 instances) and tested on CMA1 (94 instances) predicts 0 positives (0.00)"
       ]
      },
      {
       "output_type": "stream",
       "stream": "stdout",
       "text": [
        "\n",
        "trained on FURIN (356 instances) and tested on CTSB (1158 instances) predicts 0 positives (0.00)"
       ]
      },
      {
       "output_type": "stream",
       "stream": "stdout",
       "text": [
        "\n",
        "trained on FURIN (356 instances) and tested on CTSD (1494 instances) predicts 2 positives (0.00)"
       ]
      },
      {
       "output_type": "stream",
       "stream": "stdout",
       "text": [
        "\n",
        "trained on FURIN (356 instances) and tested on CTSE (2696 instances) predicts 4 positives (0.00)"
       ]
      },
      {
       "output_type": "stream",
       "stream": "stdout",
       "text": [
        "\n",
        "trained on FURIN (356 instances) and tested on CTSG (484 instances) predicts 0 positives (0.00)"
       ]
      },
      {
       "output_type": "stream",
       "stream": "stdout",
       "text": [
        "\n",
        "trained on FURIN (356 instances) and tested on CTSK (228 instances) predicts 0 positives (0.00)"
       ]
      },
      {
       "output_type": "stream",
       "stream": "stdout",
       "text": [
        "\n",
        "trained on FURIN (356 instances) and tested on CTSL1 (2106 instances) predicts 0 positives (0.00)"
       ]
      },
      {
       "output_type": "stream",
       "stream": "stdout",
       "text": [
        "\n",
        "trained on FURIN (356 instances) and tested on CTSS (1462 instances) predicts 0 positives (0.00)"
       ]
      },
      {
       "output_type": "stream",
       "stream": "stdout",
       "text": [
        "\n",
        "trained on FURIN (356 instances) and tested on ELANE (724 instances) predicts 0 positives (0.00)"
       ]
      },
      {
       "output_type": "stream",
       "stream": "stdout",
       "text": [
        "\n",
        "trained on FURIN (356 instances) and tested on F2 (264 instances) predicts 4 positives (0.02)"
       ]
      },
      {
       "output_type": "stream",
       "stream": "stdout",
       "text": [
        "\n",
        "trained on FURIN (356 instances) and tested on FURIN (356 instances) predicts 356 positives (1.00)"
       ]
      },
      {
       "output_type": "stream",
       "stream": "stdout",
       "text": [
        "\n",
        "trained on FURIN (356 instances) and tested on GZMA (578 instances) predicts 16 positives (0.03)"
       ]
      },
      {
       "output_type": "stream",
       "stream": "stdout",
       "text": [
        "\n",
        "trained on FURIN (356 instances) and tested on GZMB (3206 instances) predicts 8 positives (0.00)"
       ]
      },
      {
       "output_type": "stream",
       "stream": "stdout",
       "text": [
        "\n",
        "trained on GZMA (578 instances) and tested on CAPN1 (182 instances) predicts 4 positives (0.02)"
       ]
      },
      {
       "output_type": "stream",
       "stream": "stdout",
       "text": [
        "\n",
        "trained on GZMA (578 instances) and tested on CAPN2 (300 instances) predicts 6 positives (0.02)"
       ]
      },
      {
       "output_type": "stream",
       "stream": "stdout",
       "text": [
        "\n",
        "trained on GZMA (578 instances) and tested on CASP1 (336 instances) predicts 0 positives (0.00)"
       ]
      },
      {
       "output_type": "stream",
       "stream": "stdout",
       "text": [
        "\n",
        "trained on GZMA (578 instances) and tested on CASP3 (1104 instances) predicts 0 positives (0.00)"
       ]
      },
      {
       "output_type": "stream",
       "stream": "stdout",
       "text": [
        "\n",
        "trained on GZMA (578 instances) and tested on CASP7 (296 instances) predicts 0 positives (0.00)"
       ]
      },
      {
       "output_type": "stream",
       "stream": "stdout",
       "text": [
        "\n",
        "trained on GZMA (578 instances) and tested on CMA1 (94 instances) predicts 0 positives (0.00)"
       ]
      },
      {
       "output_type": "stream",
       "stream": "stdout",
       "text": [
        "\n",
        "trained on GZMA (578 instances) and tested on CTSB (1158 instances) predicts 2 positives (0.00)"
       ]
      },
      {
       "output_type": "stream",
       "stream": "stdout",
       "text": [
        "\n",
        "trained on GZMA (578 instances) and tested on CTSD (1494 instances) predicts 4 positives (0.00)"
       ]
      },
      {
       "output_type": "stream",
       "stream": "stdout",
       "text": [
        "\n",
        "trained on GZMA (578 instances) and tested on CTSE (2696 instances) predicts 4 positives (0.00)"
       ]
      },
      {
       "output_type": "stream",
       "stream": "stdout",
       "text": [
        "\n",
        "trained on GZMA (578 instances) and tested on CTSG (484 instances) predicts 2 positives (0.00)"
       ]
      },
      {
       "output_type": "stream",
       "stream": "stdout",
       "text": [
        "\n",
        "trained on GZMA (578 instances) and tested on CTSK (228 instances) predicts 0 positives (0.00)"
       ]
      },
      {
       "output_type": "stream",
       "stream": "stdout",
       "text": [
        "\n",
        "trained on GZMA (578 instances) and tested on CTSL1 (2106 instances) predicts 10 positives (0.00)"
       ]
      },
      {
       "output_type": "stream",
       "stream": "stdout",
       "text": [
        "\n",
        "trained on GZMA (578 instances) and tested on CTSS (1462 instances) predicts 2 positives (0.00)"
       ]
      },
      {
       "output_type": "stream",
       "stream": "stdout",
       "text": [
        "\n",
        "trained on GZMA (578 instances) and tested on ELANE (724 instances) predicts 2 positives (0.00)"
       ]
      },
      {
       "output_type": "stream",
       "stream": "stdout",
       "text": [
        "\n",
        "trained on GZMA (578 instances) and tested on F2 (264 instances) predicts 46 positives (0.17)"
       ]
      },
      {
       "output_type": "stream",
       "stream": "stdout",
       "text": [
        "\n",
        "trained on GZMA (578 instances) and tested on FURIN (356 instances) predicts 86 positives (0.24)"
       ]
      },
      {
       "output_type": "stream",
       "stream": "stdout",
       "text": [
        "\n",
        "trained on GZMA (578 instances) and tested on GZMA (578 instances) predicts 576 positives (1.00)"
       ]
      },
      {
       "output_type": "stream",
       "stream": "stdout",
       "text": [
        "\n",
        "trained on GZMA (578 instances) and tested on GZMB (3206 instances) predicts 12 positives (0.00)"
       ]
      },
      {
       "output_type": "stream",
       "stream": "stdout",
       "text": [
        "\n",
        "trained on GZMB (3206 instances) and tested on CAPN1 (182 instances) predicts 18 positives (0.10)"
       ]
      },
      {
       "output_type": "stream",
       "stream": "stdout",
       "text": [
        "\n",
        "trained on GZMB (3206 instances) and tested on CAPN2 (300 instances) predicts 50 positives (0.17)"
       ]
      },
      {
       "output_type": "stream",
       "stream": "stdout",
       "text": [
        "\n",
        "trained on GZMB (3206 instances) and tested on CASP1 (336 instances) predicts 194 positives (0.58)"
       ]
      },
      {
       "output_type": "stream",
       "stream": "stdout",
       "text": [
        "\n",
        "trained on GZMB (3206 instances) and tested on CASP3 (1104 instances) predicts 470 positives (0.43)"
       ]
      },
      {
       "output_type": "stream",
       "stream": "stdout",
       "text": [
        "\n",
        "trained on GZMB (3206 instances) and tested on CASP7 (296 instances) predicts 114 positives (0.39)"
       ]
      },
      {
       "output_type": "stream",
       "stream": "stdout",
       "text": [
        "\n",
        "trained on GZMB (3206 instances) and tested on CMA1 (94 instances) predicts 20 positives (0.21)"
       ]
      },
      {
       "output_type": "stream",
       "stream": "stdout",
       "text": [
        "\n",
        "trained on GZMB (3206 instances) and tested on CTSB (1158 instances) predicts 86 positives (0.07)"
       ]
      },
      {
       "output_type": "stream",
       "stream": "stdout",
       "text": [
        "\n",
        "trained on GZMB (3206 instances) and tested on CTSD (1494 instances) predicts 134 positives (0.09)"
       ]
      },
      {
       "output_type": "stream",
       "stream": "stdout",
       "text": [
        "\n",
        "trained on GZMB (3206 instances) and tested on CTSE (2696 instances) predicts 140 positives (0.05)"
       ]
      },
      {
       "output_type": "stream",
       "stream": "stdout",
       "text": [
        "\n",
        "trained on GZMB (3206 instances) and tested on CTSG (484 instances) predicts 58 positives (0.12)"
       ]
      },
      {
       "output_type": "stream",
       "stream": "stdout",
       "text": [
        "\n",
        "trained on GZMB (3206 instances) and tested on CTSK (228 instances) predicts 46 positives (0.20)"
       ]
      },
      {
       "output_type": "stream",
       "stream": "stdout",
       "text": [
        "\n",
        "trained on GZMB (3206 instances) and tested on CTSL1 (2106 instances) predicts 236 positives (0.11)"
       ]
      },
      {
       "output_type": "stream",
       "stream": "stdout",
       "text": [
        "\n",
        "trained on GZMB (3206 instances) and tested on CTSS (1462 instances) predicts 176 positives (0.12)"
       ]
      },
      {
       "output_type": "stream",
       "stream": "stdout",
       "text": [
        "\n",
        "trained on GZMB (3206 instances) and tested on ELANE (724 instances) predicts 104 positives (0.14)"
       ]
      },
      {
       "output_type": "stream",
       "stream": "stdout",
       "text": [
        "\n",
        "trained on GZMB (3206 instances) and tested on F2 (264 instances) predicts 92 positives (0.35)"
       ]
      },
      {
       "output_type": "stream",
       "stream": "stdout",
       "text": [
        "\n",
        "trained on GZMB (3206 instances) and tested on FURIN (356 instances) predicts 132 positives (0.37)"
       ]
      },
      {
       "output_type": "stream",
       "stream": "stdout",
       "text": [
        "\n",
        "trained on GZMB (3206 instances) and tested on GZMA (578 instances) predicts 192 positives (0.33)"
       ]
      },
      {
       "output_type": "stream",
       "stream": "stdout",
       "text": [
        "\n",
        "trained on GZMB (3206 instances) and tested on GZMB (3206 instances) predicts 3206 positives (1.00)"
       ]
      },
      {
       "output_type": "stream",
       "stream": "stdout",
       "text": [
        "\n",
        "CPU times: user 30min 13s, sys: 10.6 s, total: 30min 23s\n",
        "Wall time: 31min 17s\n"
       ]
      }
     ],
     "prompt_number": 29
    },
    {
     "cell_type": "code",
     "collapsed": false,
     "input": [
      "%matplotlib inline\n",
      "import matplotlib.pyplot as plt\n",
      "import networkx as nx\n",
      "plt.figure(figsize=(10,10)) \n",
      "th=0.2\n",
      "G=nx.Graph()\n",
      "for tr,ts in result_matrix:\n",
      "    G.add_node(tr)\n",
      "for tr,ts in result_matrix:\n",
      "    if tr != ts:\n",
      "        val = result_matrix[(tr,ts)]\n",
      "        if val > th:\n",
      "            print tr,ts,val\n",
      "            G.add_edge(tr,ts, weight=val)\n",
      "nx.draw_graphviz(G,node_color='white',node_size=1500, linewidths=0, alpha=0.7)"
     ],
     "language": "python",
     "metadata": {},
     "outputs": [
      {
       "output_type": "stream",
       "stream": "stdout",
       "text": [
        "CASP1 CASP7 0.668918918919\n",
        "GZMB CASP3 0.425724637681\n",
        "CTSK CAPN2 0.56\n",
        "CTSE CTSD 0.538152610442\n",
        "CTSD CTSE 0.36350148368\n",
        "CTSK CTSB 0.497409326425\n",
        "CTSK CTSD 0.202141900937\n",
        "CAPN2 CTSL1 0.207977207977\n",
        "CASP1 GZMB 0.208983156581\n",
        "GZMA FURIN 0.241573033708\n",
        "CTSK ELANE 0.395027624309\n",
        "GZMB CASP1 0.577380952381\n",
        "CTSK GZMB 0.262008733624\n",
        "GZMB CASP7 0.385135135135\n",
        "CTSK F2 0.583333333333\n",
        "CTSL1 CTSK 0.350877192982\n",
        "CTSS CTSB 0.203799654577\n",
        "CTSK GZMA 0.349480968858\n",
        "CASP3 CASP7 0.898648648649\n",
        "CASP7 CASP3 0.833333333333\n",
        "CTSL1 CTSB 0.227979274611\n",
        "CTSK CASP1 0.363095238095\n",
        "CTSS CTSK 0.245614035088\n",
        "CAPN2 CTSS 0.233926128591\n",
        "CTSK CTSG 0.285123966942\n",
        "CTSS CTSL1 0.426400759734\n",
        "GZMB GZMA 0.332179930796\n",
        "CTSK CAPN1 0.593406593407\n",
        "CASP3 CASP1 0.27380952381\n",
        "CTSK CASP7 0.391891891892\n",
        "GZMB CTSK 0.201754385965\n",
        "CASP7 GZMB 0.237679351216\n",
        "CTSL1 CTSS 0.567715458276\n",
        "GZMB CMA1 0.212765957447\n",
        "CAPN2 CAPN1 0.483516483516\n",
        "CTSK FURIN 0.629213483146\n",
        "CTSK CTSL1 0.744539411206\n",
        "CASP1 CASP3 0.579710144928\n",
        "GZMB F2 0.348484848485\n",
        "CASP7 CASP1 0.535714285714\n",
        "CTSK CTSS 0.751025991792\n",
        "CTSK CASP3 0.355072463768\n",
        "GZMB FURIN 0.370786516854\n",
        "CTSK CMA1 0.404255319149\n"
       ]
      },
      {
       "metadata": {},
       "output_type": "display_data",
       "png": "[encoded data removed]",
       "text": [
        "<matplotlib.figure.Figure at 0x1c162d0>"
       ]
      }
     ],
     "prompt_number": 41
    },
    {
     "cell_type": "code",
     "collapsed": false,
     "input": [],
     "language": "python",
     "metadata": {},
     "outputs": []
    }
   ],
   "metadata": {}
  }
 ]
}