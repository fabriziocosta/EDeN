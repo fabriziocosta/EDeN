{
 "metadata": {
  "name": "",
  "signature": "sha256:df74c3650d8744e6ab3cee204c8d052be5729df641f470c5ba108b98d3f36f2a"
 },
 "nbformat": 3,
 "nbformat_minor": 0,
 "worksheets": [
  {
   "cells": [
    {
     "cell_type": "code",
     "collapsed": false,
     "input": [
      "%matplotlib inline"
     ],
     "language": "python",
     "metadata": {},
     "outputs": [],
     "prompt_number": 1
    },
    {
     "cell_type": "code",
     "collapsed": false,
     "input": [
      "import requests\n",
      "\n",
      "def get_compounds(fname, size, listkey):\n",
      "    PROLOG='https://pubchem.ncbi.nlm.nih.gov/rest/pug/'\n",
      "    with open(fname,'w') as file_handle:\n",
      "        stepsize=50\n",
      "        index_start=0\n",
      "        for chunk, index_end in enumerate(range(0,size+stepsize,stepsize)):\n",
      "            if index_end is not 0 :\n",
      "                print 'Chunk %s) Processing compounds %s to %s (of a total of %s)' % (chunk, index_start, index_end-1, size)\n",
      "                RESTQ = PROLOG + 'compound/listkey/' + str(listkey) + '/SDF?&listkey_start=' + str(index_start) + '&listkey_count=' + str(stepsize)\n",
      "                reply=requests.get(RESTQ)\n",
      "                file_handle.write(reply.text)\n",
      "            index_start = index_end\n",
      "        print 'compounds available in file: ', fname\n",
      "\n",
      "\n",
      "def get_assay(assay_id):\n",
      "    PROLOG='https://pubchem.ncbi.nlm.nih.gov/rest/pug/'\n",
      "    AID=str(assay_id)\n",
      "    #active\n",
      "    RESTQ = PROLOG + 'assay/aid/' + AID + '/cids/JSON?cids_type=active&list_return=listkey'\n",
      "    reply=requests.get(RESTQ)\n",
      "    #extract the listkey\n",
      "    active_listkey = reply.json()['IdentifierList']['ListKey']\n",
      "    active_size = reply.json()['IdentifierList']['Size'] \n",
      "    active_fname = 'AID'+AID+'_active.sdf'\n",
      "    get_compounds(fname=active_fname, size=active_size, listkey=active_listkey)\n",
      "\n",
      "    #inactive\n",
      "    RESTQ = PROLOG + 'assay/aid/' + AID + '/cids/JSON?cids_type=inactive&list_return=listkey'\n",
      "    reply=requests.get(RESTQ)\n",
      "    #extract the listkey\n",
      "    inactive_listkey = reply.json()['IdentifierList']['ListKey']\n",
      "    inactive_size = reply.json()['IdentifierList']['Size']\n",
      "    inactive_fname = 'AID'+AID+'_inactive.sdf'\n",
      "    get_compounds(fname=inactive_fname, size=inactive_size, listkey=inactive_listkey)\n",
      "\n",
      "    return (active_fname,inactive_fname)"
     ],
     "language": "python",
     "metadata": {},
     "outputs": [],
     "prompt_number": 2
    },
    {
     "cell_type": "code",
     "collapsed": false,
     "input": [
      "import datetime, time\n",
      "def train_obabel_model(pos_fname, neg_fname, model_fname=None, n_iter=40, active_set_size=1000, n_active_learning_iterations=3, threshold=1, train_test_split=0.7, verbose=False):\n",
      "    def pre_processor( data, **args):\n",
      "        return data\n",
      "    \n",
      "    from eden.graph import Vectorizer\n",
      "    vectorizer = Vectorizer()\n",
      "\n",
      "    from sklearn.linear_model import SGDClassifier\n",
      "    estimator = SGDClassifier(class_weight='auto', shuffle=True)\n",
      "\n",
      "    #create iterable from files\n",
      "    from eden.converter.molecule import obabel\n",
      "    iterable_pos=obabel.obabel_to_eden(pos_fname)\n",
      "    iterable_neg=obabel.obabel_to_eden(neg_fname)\n",
      "    \n",
      "    from itertools import tee\n",
      "    iterable_pos, iterable_pos_ = tee(iterable_pos)\n",
      "    iterable_neg, iterable_neg_ = tee(iterable_neg)\n",
      "    \n",
      "    import time\n",
      "    start = time.time()\n",
      "    print('# positives: %d  # negatives: %d (%.1f sec %s)'%(sum(1 for x in iterable_pos_), sum(1 for x in iterable_neg_), time.time() - start, str(datetime.timedelta(seconds=(time.time() - start)))))\n",
      "    \n",
      "    #split train/test\n",
      "    from eden.util import random_bipartition_iter\n",
      "    iterable_pos_train, iterable_pos_test = random_bipartition_iter(iterable_pos, relative_size=train_test_split)\n",
      "    iterable_neg_train, iterable_neg_test = random_bipartition_iter(iterable_neg, relative_size=train_test_split)\n",
      "\n",
      "\n",
      "\n",
      "    #make predictive model\n",
      "    from eden.model import ActiveLearningBinaryClassificationModel\n",
      "    model = ActiveLearningBinaryClassificationModel( pre_processor, estimator=estimator, vectorizer=vectorizer )\n",
      "\n",
      "    #optimize hyperparameters and fit model\n",
      "    from numpy.random import randint\n",
      "    from numpy.random import uniform\n",
      "\n",
      "    pre_processor_parameters={} \n",
      "\n",
      "    vectorizer_parameters={'complexity':[4]}\n",
      "\n",
      "    estimator_parameters={'n_iter':randint(5, 100, size=n_iter),\n",
      "                          'penalty':['l1','l2','elasticnet'],\n",
      "                          'l1_ratio':uniform(0.1,0.9, size=n_iter), \n",
      "                          'loss':['hinge', 'log', 'modified_huber', 'squared_hinge', 'perceptron'],\n",
      "                          'power_t':uniform(0.1, size=n_iter),\n",
      "                          'alpha': [10**x for x in range(-8,-2)],\n",
      "                          'eta0': [10**x for x in range(-4,-1)],\n",
      "                          'learning_rate': [\"invscaling\", \"constant\", \"optimal\"]}\n",
      "\n",
      "    model.optimize(iterable_pos_train, iterable_neg_train, \n",
      "                   model_name=model_fname,\n",
      "                   n_active_learning_iterations=n_active_learning_iterations,\n",
      "                   size_positive=-1,\n",
      "                   size_negative=active_set_size,\n",
      "                   n_iter=n_iter, cv=3, n_jobs=1, verbose=verbose,\n",
      "                   pre_processor_parameters=pre_processor_parameters, \n",
      "                   vectorizer_parameters=vectorizer_parameters, \n",
      "                   estimator_parameters=estimator_parameters)\n",
      "  \n",
      "    #estimate predictive performance\n",
      "    model.estimate( iterable_pos_test, iterable_neg_test, cv=5 )\n",
      "    return model\n",
      "    \n",
      "    \n",
      "def test_obabel_model(fname, model_fname=None):\n",
      "    from eden.model import ActiveLearningBinaryClassificationModel\n",
      "\n",
      "    model = ActiveLearningBinaryClassificationModel()\n",
      "    model.load(model_fname)\n",
      "\n",
      "    #create iterable from files\n",
      "    from eden.converter.molecule import obabel\n",
      "    iterable=obabel.obabel_to_eden(fname)\n",
      "    \n",
      "    predictions= model.decision_function( iterable )\n",
      "        \n",
      "    return predictions"
     ],
     "language": "python",
     "metadata": {},
     "outputs": [],
     "prompt_number": 10
    },
    {
     "cell_type": "code",
     "collapsed": false,
     "input": [
      "AID=488918\n",
      "AID=738\n",
      "AID=743150\n",
      "AID=2401"
     ],
     "language": "python",
     "metadata": {},
     "outputs": [],
     "prompt_number": 11
    },
    {
     "cell_type": "code",
     "collapsed": false,
     "input": [
      "%%time\n",
      "\n",
      "READ_FROM_FILE=False\n",
      "READ_FROM_FILE=True\n",
      "\n",
      "if READ_FROM_FILE:\n",
      "    active_fname='AID%s_active.sdf'%AID\n",
      "    inactive_fname='AID%s_inactive.sdf'%AID\n",
      "else:\n",
      "    active_fname, inactive_fname = get_assay(AID)"
     ],
     "language": "python",
     "metadata": {},
     "outputs": [
      {
       "output_type": "stream",
       "stream": "stdout",
       "text": [
        "CPU times: user 25 \u00b5s, sys: 2 \u00b5s, total: 27 \u00b5s\n",
        "Wall time: 41 \u00b5s\n"
       ]
      }
     ],
     "prompt_number": 12
    },
    {
     "cell_type": "code",
     "collapsed": false,
     "input": [
      "%%time\n",
      "model_fname='AID%s.model'%AID\n",
      "model = train_obabel_model(active_fname, inactive_fname, model_fname=model_fname, n_iter=40, active_set_size=500, n_active_learning_iterations=4, threshold=1, train_test_split=0.8, verbose=True)"
     ],
     "language": "python",
     "metadata": {},
     "outputs": [
      {
       "output_type": "stream",
       "stream": "stdout",
       "text": [
        "# positives: 530  # negatives: 1705 (3.5 sec 0:00:03.488309)\n",
        "\n"
       ]
      },
      {
       "output_type": "stream",
       "stream": "stdout",
       "text": [
        "Iteration: 1/40 (at 173.1 sec; 0:02:53.120205)\n",
        "Best score (roc_auc): 0.642977 (0.694137 +- 0.051161)\n",
        "Instances: 891 ; Features: 1048577 with an avg of 562 features per instance\n",
        "class: 1 count:424 (0.48)\tclass: -1 count:467 (0.52)\t\n",
        "\n"
       ]
      },
      {
       "output_type": "stream",
       "stream": "stdout",
       "text": [
        "Iteration: 2/40 (at 316.8 sec; 0:05:16.788548)\n",
        "Best score (roc_auc): 0.860223 (0.876141 +- 0.015918)\n",
        "Instances: 463 ; Features: 1048577 with an avg of 596 features per instance\n",
        "class: 1 count:424 (0.92)\tclass: -1 count:39 (0.08)\t\n",
        "\n",
        "Failed iteration: 13/40 (at 2049.4 sec; 0:34:09.356907)"
       ]
      },
      {
       "output_type": "stream",
       "stream": "stdout",
       "text": [
        "\n",
        "\n",
        "Failed iteration: 18/40 (at 2810.3 sec; 0:46:50.267397)"
       ]
      },
      {
       "output_type": "stream",
       "stream": "stdout",
       "text": [
        "\n",
        "\n",
        "Failed iteration: 29/40 (at 4585.4 sec; 1:16:25.388053)"
       ]
      },
      {
       "output_type": "stream",
       "stream": "stdout",
       "text": [
        "\n",
        "\n",
        "Failed iteration: 38/40 (at 5923.2 sec; 1:38:43.242099)"
       ]
      },
      {
       "output_type": "stream",
       "stream": "stdout",
       "text": [
        "\n",
        "Classifier:"
       ]
      },
      {
       "output_type": "stream",
       "stream": "stdout",
       "text": [
        "\n",
        "SGDClassifier(alpha=1e-08, class_weight='auto', epsilon=0.1, eta0=0.001,\n",
        "       fit_intercept=True, l1_ratio=0.29424902131778707,\n",
        "       learning_rate='optimal', loss='perceptron', n_iter=93, n_jobs=1,\n",
        "       penalty='elasticnet', power_t=0.86409583293381897,\n",
        "       random_state=None, shuffle=True, verbose=0, warm_start=False)\n",
        "--------------------------------------------------------------------------------\n",
        "Predictive performance:\n",
        "            accuracy: 0.772 +- 0.050"
       ]
      },
      {
       "output_type": "stream",
       "stream": "stdout",
       "text": [
        "\n",
        "           precision: 0.580 +- 0.108"
       ]
      },
      {
       "output_type": "stream",
       "stream": "stdout",
       "text": [
        "\n",
        "              recall: 0.546 +- 0.092"
       ]
      },
      {
       "output_type": "stream",
       "stream": "stdout",
       "text": [
        "\n",
        "                  f1: 0.541 +- 0.087"
       ]
      },
      {
       "output_type": "stream",
       "stream": "stdout",
       "text": [
        "\n",
        "   average_precision: 0.507 +- 0.104"
       ]
      },
      {
       "output_type": "stream",
       "stream": "stdout",
       "text": [
        "\n",
        "             roc_auc: 0.746 +- 0.046"
       ]
      },
      {
       "output_type": "stream",
       "stream": "stdout",
       "text": [
        "\n",
        "--------------------------------------------------------------------------------\n",
        "CPU times: user 1h 41min 33s, sys: 4min 18s, total: 1h 45min 51s\n",
        "Wall time: 1h 45min 41s\n"
       ]
      }
     ],
     "prompt_number": 14
    },
    {
     "cell_type": "code",
     "collapsed": false,
     "input": [
      "%%time\n",
      "model_fname='AID%s.model'%AID\n",
      "model = train_obabel_model(active_fname, inactive_fname, model_fname=model_fname, n_iter=40, active_set_size=4000, n_active_learning_iterations=4, threshold=1, train_test_split=0.8, verbose=True)"
     ],
     "language": "python",
     "metadata": {},
     "outputs": [
      {
       "output_type": "stream",
       "stream": "stdout",
       "text": [
        "# positives: 530  # negatives: 1705 (3.1 sec 0:00:03.061117)\n",
        "\n"
       ]
      },
      {
       "output_type": "stream",
       "stream": "stdout",
       "text": [
        "Iteration: 1/40 (at 69.8 sec; 0:01:09.836131)\n",
        "Best score (roc_auc): 0.549100 (0.636915 +- 0.087815)\n",
        "Instances: 727 ; Features: 1048577 with an avg of 159 features per instance\n",
        "class: 1 count:424 (0.58)\tclass: -1 count:303 (0.42)\t\n",
        "\n"
       ]
      },
      {
       "output_type": "stream",
       "stream": "stdout",
       "text": [
        "Iteration: 2/40 (at 130.1 sec; 0:02:10.127961)\n",
        "Best score (roc_auc): 0.909429 (0.920191 +- 0.010761)\n",
        "Instances: 912 ; Features: 1048577 with an avg of 163 features per instance\n",
        "class: 1 count:424 (0.46)\tclass: -1 count:488 (0.54)\t\n",
        "\n"
       ]
      },
      {
       "output_type": "stream",
       "stream": "stdout",
       "text": [
        "Iteration: 5/40 (at 378.9 sec; 0:06:18.873059)\n",
        "Best score (roc_auc): 0.912735 (0.921475 +- 0.008741)\n",
        "Instances: 842 ; Features: 1048577 with an avg of 165 features per instance\n",
        "class: 1 count:424 (0.50)\tclass: -1 count:418 (0.50)\t\n",
        "\n",
        "Failed iteration: 10/40 (at 775.6 sec; 0:12:55.561536)"
       ]
      },
      {
       "output_type": "stream",
       "stream": "stdout",
       "text": [
        "\n",
        "\n",
        "Failed iteration: 14/40 (at 1065.2 sec; 0:17:45.213813)"
       ]
      },
      {
       "output_type": "stream",
       "stream": "stdout",
       "text": [
        "\n",
        "\n",
        "Failed iteration: 22/40 (at 1753.8 sec; 0:29:13.819093)"
       ]
      },
      {
       "output_type": "stream",
       "stream": "stdout",
       "text": [
        "\n",
        "\n",
        "Failed iteration: 28/40 (at 2230.8 sec; 0:37:10.823859)"
       ]
      },
      {
       "output_type": "stream",
       "stream": "stdout",
       "text": [
        "\n",
        "\n",
        "Failed iteration: 29/40 (at 2261.1 sec; 0:37:41.092243)"
       ]
      },
      {
       "output_type": "stream",
       "stream": "stdout",
       "text": [
        "\n",
        "\n",
        "Failed iteration: 38/40 (at 2996.4 sec; 0:49:56.420732)"
       ]
      },
      {
       "output_type": "stream",
       "stream": "stdout",
       "text": [
        "\n",
        "Classifier:"
       ]
      },
      {
       "output_type": "stream",
       "stream": "stdout",
       "text": [
        "\n",
        "SGDClassifier(alpha=1e-05, class_weight='auto', epsilon=0.1, eta0=0.0001,\n",
        "       fit_intercept=True, l1_ratio=0.83981511725452918,\n",
        "       learning_rate='optimal', loss='hinge', n_iter=86, n_jobs=1,\n",
        "       penalty='l2', power_t=0.30895707706947434, random_state=None,\n",
        "       shuffle=True, verbose=0, warm_start=False)\n",
        "--------------------------------------------------------------------------------\n",
        "Predictive performance:\n",
        "            accuracy: 0.783 +- 0.082"
       ]
      },
      {
       "output_type": "stream",
       "stream": "stdout",
       "text": [
        "\n",
        "           precision: 0.645 +- 0.184"
       ]
      },
      {
       "output_type": "stream",
       "stream": "stdout",
       "text": [
        "\n",
        "              recall: 0.337 +- 0.135"
       ]
      },
      {
       "output_type": "stream",
       "stream": "stdout",
       "text": [
        "\n",
        "                  f1: 0.437 +- 0.186"
       ]
      },
      {
       "output_type": "stream",
       "stream": "stdout",
       "text": [
        "\n",
        "   average_precision: 0.526 +- 0.199"
       ]
      },
      {
       "output_type": "stream",
       "stream": "stdout",
       "text": [
        "\n",
        "             roc_auc: 0.727 +- 0.115"
       ]
      },
      {
       "output_type": "stream",
       "stream": "stdout",
       "text": [
        "\n",
        "--------------------------------------------------------------------------------\n",
        "CPU times: user 50min 58s, sys: 3min 5s, total: 54min 3s\n",
        "Wall time: 53min 46s\n"
       ]
      },
      {
       "output_type": "stream",
       "stream": "stderr",
       "text": [
        "/System/Library/Frameworks/Python.framework/Versions/2.7/Extras/lib/python/numpy/core/_methods.py:55: RuntimeWarning: Mean of empty slice.\n",
        "  warnings.warn(\"Mean of empty slice.\", RuntimeWarning)\n",
        "/System/Library/Frameworks/Python.framework/Versions/2.7/Extras/lib/python/numpy/core/_methods.py:67: RuntimeWarning: invalid value encountered in double_scalars\n",
        "  ret = ret.dtype.type(ret / rcount)\n"
       ]
      }
     ],
     "prompt_number": 9
    },
    {
     "cell_type": "code",
     "collapsed": false,
     "input": [
      "from eden.converter.molecule import obabel\n",
      "graphs=obabel.obabel_to_eden(active_fname,file_type = 'sdf')\n",
      "from itertools import islice\n",
      "graphs = islice(graphs, 3)\n",
      "from eden.util.display import draw_graph\n",
      "for graph in graphs:  draw_graph(graph, size=12, node_size=400, node_border=1, vertex_label='hlabel')"
     ],
     "language": "python",
     "metadata": {},
     "outputs": []
    },
    {
     "cell_type": "markdown",
     "metadata": {},
     "source": [
      "#Old"
     ]
    },
    {
     "cell_type": "code",
     "collapsed": false,
     "input": [
      "from eden.graph import Vectorizer\n",
      "vectorizer=Vectorizer(complexity=2)\n",
      "from eden.converter.molecule import obabel\n",
      "print 'Working on positive instances in %s and negative instances in %s' % (active_fname, inactive_fname)\n",
      "active_graphs=obabel.obabel_to_eden(active_fname)\n",
      "inactive_graphs=obabel.obabel_to_eden(inactive_fname)"
     ],
     "language": "python",
     "metadata": {},
     "outputs": []
    },
    {
     "cell_type": "code",
     "collapsed": false,
     "input": [
      "#%%time\n",
      "active_X=vectorizer.transform(active_graphs, n_jobs=1)\n",
      "inactive_X=vectorizer.transform(inactive_graphs, n_jobs=1)\n",
      "from scipy.sparse import vstack\n",
      "import numpy as np\n",
      "X=vstack( [active_X,inactive_X] )\n",
      "yp=[1]*active_X.shape[0]\n",
      "yn=[-1]*inactive_X.shape[0]\n",
      "y=np.array(yp+yn)"
     ],
     "language": "python",
     "metadata": {},
     "outputs": []
    },
    {
     "cell_type": "code",
     "collapsed": false,
     "input": [
      "%%time\n",
      "from sklearn.linear_model import SGDClassifier\n",
      "from sklearn import cross_validation\n",
      "\n",
      "#induce a predictive model\n",
      "predictor = SGDClassifier(class_weight = 'auto', shuffle = True)\n",
      "scores = cross_validation.cross_val_score(predictor, X, y,cv=10, scoring='roc_auc')\n",
      "print('AUC ROC: %.4f +- %.4f' % (np.mean(scores),np.std(scores)))"
     ],
     "language": "python",
     "metadata": {},
     "outputs": []
    },
    {
     "cell_type": "code",
     "collapsed": false,
     "input": [],
     "language": "python",
     "metadata": {},
     "outputs": []
    }
   ],
   "metadata": {}
  }
 ]
}