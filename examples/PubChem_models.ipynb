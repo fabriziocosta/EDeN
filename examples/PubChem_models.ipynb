{
 "metadata": {
  "name": "",
  "signature": "sha256:c2589587aca7df78804eb18fc9e72f9f37d056e38c36c8a4dd20f78b60ad43d7"
 },
 "nbformat": 3,
 "nbformat_minor": 0,
 "worksheets": [
  {
   "cells": [
    {
     "cell_type": "code",
     "collapsed": false,
     "input": [
      "%matplotlib inline"
     ],
     "language": "python",
     "metadata": {},
     "outputs": [],
     "prompt_number": 36
    },
    {
     "cell_type": "code",
     "collapsed": false,
     "input": [
      "import requests\n",
      "\n",
      "def get_compounds(fname, size, listkey):\n",
      "    PROLOG='https://pubchem.ncbi.nlm.nih.gov/rest/pug/'\n",
      "    with open(fname,'w') as file_handle:\n",
      "        stepsize=50\n",
      "        index_start=0\n",
      "        for chunk, index_end in enumerate(range(0,size+stepsize,stepsize)):\n",
      "            if index_end is not 0 :\n",
      "                print 'Chunk %s) Processing compounds %s to %s (of a total of %s)' % (chunk, index_start, index_end-1, size)\n",
      "                RESTQ = PROLOG + 'compound/listkey/' + str(listkey) + '/SDF?&listkey_start=' + str(index_start) + '&listkey_count=' + str(stepsize)\n",
      "                reply=requests.get(RESTQ)\n",
      "                file_handle.write(reply.text)\n",
      "            index_start = index_end\n",
      "        print 'compounds available in file: ', fname\n",
      "\n",
      "\n",
      "def get_assay(assay_id):\n",
      "    PROLOG='https://pubchem.ncbi.nlm.nih.gov/rest/pug/'\n",
      "    AID=str(assay_id)\n",
      "    #active\n",
      "    RESTQ = PROLOG + 'assay/aid/' + AID + '/cids/JSON?cids_type=active&list_return=listkey'\n",
      "    reply=requests.get(RESTQ)\n",
      "    #extract the listkey\n",
      "    active_listkey = reply.json()['IdentifierList']['ListKey']\n",
      "    active_size = reply.json()['IdentifierList']['Size'] \n",
      "    active_fname = 'AID'+AID+'_active.sdf'\n",
      "    get_compounds(fname=active_fname, size=active_size, listkey=active_listkey)\n",
      "\n",
      "    #inactive\n",
      "    RESTQ = PROLOG + 'assay/aid/' + AID + '/cids/JSON?cids_type=inactive&list_return=listkey'\n",
      "    reply=requests.get(RESTQ)\n",
      "    #extract the listkey\n",
      "    inactive_listkey = reply.json()['IdentifierList']['ListKey']\n",
      "    inactive_size = reply.json()['IdentifierList']['Size']\n",
      "    inactive_fname = 'AID'+AID+'_inactive.sdf'\n",
      "    get_compounds(fname=inactive_fname, size=inactive_size, listkey=inactive_listkey)\n",
      "\n",
      "    return (active_fname,inactive_fname)"
     ],
     "language": "python",
     "metadata": {},
     "outputs": [],
     "prompt_number": 37
    },
    {
     "cell_type": "code",
     "collapsed": false,
     "input": [
      "def train_obabel_model(pos_fname, neg_fname, model_fname=None, n_iter=40, active_set_size=1000, n_active_learning_iterations=3, threshold=1, train_test_split=0.7, verbose=False):\n",
      "    def pre_processor( data, **args):\n",
      "        return data\n",
      "    \n",
      "    from eden.graph import Vectorizer\n",
      "    vectorizer = Vectorizer()\n",
      "\n",
      "    from sklearn.linear_model import SGDClassifier\n",
      "    estimator = SGDClassifier(class_weight='auto', shuffle=True)\n",
      "\n",
      "    #create iterable from files\n",
      "    from eden.converter.molecule import obabel\n",
      "    iterable_pos=obabel.obabel_to_eden(pos_fname)\n",
      "    iterable_neg=obabel.obabel_to_eden(neg_fname)\n",
      "    \n",
      "    from itertools import tee\n",
      "    iterable_pos, iterable_pos_ = tee(iterable_pos)\n",
      "    iterable_neg, iterable_neg_ = tee(iterable_neg)\n",
      "    \n",
      "    import time\n",
      "    start = time.time()\n",
      "    print('# positives: %d  # negatives: %d (%.1f sec %s)'%(sum(1 for x in iterable_pos_), sum(1 for x in iterable_neg_), time.time() - start, str(datetime.timedelta(seconds=(time.time() - start)))))\n",
      "    \n",
      "    #split train/test\n",
      "    from eden.util import random_bipartition_iter\n",
      "    iterable_pos_train, iterable_pos_test = random_bipartition_iter(iterable_pos, relative_size=train_test_split)\n",
      "    iterable_neg_train, iterable_neg_test = random_bipartition_iter(iterable_neg, relative_size=train_test_split)\n",
      "\n",
      "\n",
      "\n",
      "    #make predictive model\n",
      "    from eden.model import ActiveLearningBinaryClassificationModel\n",
      "    model = ActiveLearningBinaryClassificationModel( pre_processor, estimator=estimator, vectorizer=vectorizer )\n",
      "\n",
      "    #optimize hyperparameters and fit model\n",
      "    from numpy.random import randint\n",
      "    from numpy.random import uniform\n",
      "\n",
      "    pre_processor_parameters={} \n",
      "\n",
      "    vectorizer_parameters={'complexity':[2]}\n",
      "\n",
      "    estimator_parameters={'n_iter':randint(5, 100, size=n_iter),\n",
      "                          'penalty':['l1','l2','elasticnet'],\n",
      "                          'l1_ratio':uniform(0.1,0.9, size=n_iter), \n",
      "                          'loss':['hinge', 'log', 'modified_huber', 'squared_hinge', 'perceptron'],\n",
      "                          'power_t':uniform(0.1, size=n_iter),\n",
      "                          'alpha': [10**x for x in range(-8,-2)],\n",
      "                          'eta0': [10**x for x in range(-4,-1)],\n",
      "                          'learning_rate': [\"invscaling\", \"constant\", \"optimal\"]}\n",
      "\n",
      "    model.optimize(iterable_pos_train, iterable_neg_train, \n",
      "                   model_name=model_fname,\n",
      "                   n_active_learning_iterations=n_active_learning_iterations,\n",
      "                   size_positive=-1,\n",
      "                   size_negative=active_set_size,\n",
      "                   n_iter=n_iter, cv=3, n_jobs=1, verbose=verbose,\n",
      "                   pre_processor_parameters=pre_processor_parameters, \n",
      "                   vectorizer_parameters=vectorizer_parameters, \n",
      "                   estimator_parameters=estimator_parameters)\n",
      "  \n",
      "    #estimate predictive performance\n",
      "    model.estimate( iterable_pos_test, iterable_neg_test, cv=5 )\n",
      "    return model\n",
      "    \n",
      "    \n",
      "def test_obabel_model(fname, model_fname=None):\n",
      "    from eden.model import ActiveLearningBinaryClassificationModel\n",
      "\n",
      "    model = ActiveLearningBinaryClassificationModel()\n",
      "    model.load(model_fname)\n",
      "\n",
      "    #create iterable from files\n",
      "    from eden.converter.molecule import obabel\n",
      "    iterable=obabel.obabel_to_eden(fname)\n",
      "    \n",
      "    predictions= model.decision_function( iterable )\n",
      "        \n",
      "    return predictions"
     ],
     "language": "python",
     "metadata": {},
     "outputs": [],
     "prompt_number": 38
    },
    {
     "cell_type": "code",
     "collapsed": false,
     "input": [
      "AID=743150\n",
      "AID=488918\n",
      "AID=738"
     ],
     "language": "python",
     "metadata": {},
     "outputs": [],
     "prompt_number": 39
    },
    {
     "cell_type": "code",
     "collapsed": false,
     "input": [
      "%%time\n",
      "\n",
      "READ_FROM_FILE=False\n",
      "READ_FROM_FILE=True\n",
      "\n",
      "if READ_FROM_FILE:\n",
      "    active_fname='AID%s_active.sdf'%AID\n",
      "    inactive_fname='AID%s_inactive.sdf'%AID\n",
      "else:\n",
      "    active_fname, inactive_fname = get_assay(AID)"
     ],
     "language": "python",
     "metadata": {},
     "outputs": [
      {
       "output_type": "stream",
       "stream": "stdout",
       "text": [
        "CPU times: user 8 \u00b5s, sys: 6 \u00b5s, total: 14 \u00b5s\n",
        "Wall time: 11.2 \u00b5s\n"
       ]
      }
     ]
    },
    {
     "cell_type": "code",
     "collapsed": false,
     "input": [
      "%%time\n",
      "model_fname='AID%s.model'%AID\n",
      "model = train_obabel_model(active_fname, inactive_fname, model_fname=model_fname, n_iter=40, active_set_size=4000, n_active_learning_iterations=4, threshold=1, train_test_split=0.8, verbose=True)"
     ],
     "language": "python",
     "metadata": {},
     "outputs": [
      {
       "output_type": "stream",
       "stream": "stdout",
       "text": [
        "# positives: 4851\n",
        "# negatives: 92668"
       ]
      },
      {
       "output_type": "stream",
       "stream": "stdout",
       "text": [
        "\n",
        "Parameters range:"
       ]
      },
      {
       "output_type": "stream",
       "stream": "stdout",
       "text": [
        "\n",
        "Pre_processor:\n",
        "{}\n",
        "Vectorizer:\n",
        "{'complexity': [2]}\n",
        "Estimator:\n",
        "{'alpha': [1e-08, 1e-07, 1e-06, 1e-05, 0.0001, 0.001],\n",
        " 'eta0': [0.0001, 0.001, 0.01],\n",
        " 'l1_ratio': array([ 0.11620815,  0.37574818,  0.52892725,  0.65813188,  0.33714926,\n",
        "        0.1318306 ,  0.79386026,  0.84560392,  0.47046535,  0.51392484,\n",
        "        0.76918968,  0.16347336,  0.40259785,  0.41468868,  0.69579809,\n",
        "        0.52864306,  0.33336678,  0.89325704,  0.5859696 ,  0.59480654,\n",
        "        0.44374538,  0.21783493,  0.3115671 ,  0.66286847,  0.64772708,\n",
        "        0.82985073,  0.69235545,  0.78255891,  0.75687388,  0.83933423,\n",
        "        0.65821247,  0.44134887,  0.55065935,  0.54284092,  0.42274116,\n",
        "        0.41783741,  0.70481022,  0.7359143 ,  0.13651535,  0.31113833]),\n",
        " 'learning_rate': ['invscaling', 'constant', 'optimal'],\n",
        " 'loss': ['hinge', 'log', 'modified_huber', 'squared_hinge', 'perceptron'],\n",
        " 'n_iter': array([17, 59, 32,  8, 26, 19, 61, 72, 35, 27, 68, 92, 30, 96, 55, 56, 67,\n",
        "       85, 38, 11, 78,  8, 29, 81, 68, 50, 60,  9, 26, 94, 88, 91, 77, 55,\n",
        "        5, 97, 46, 90, 16, 83]),\n",
        " 'penalty': ['l1', 'l2', 'elasticnet'],\n",
        " 'power_t': array([ 0.22458678,  0.40462565,  0.84539712,  0.36529826,  0.41207746,\n",
        "        0.29346546,  0.39416067,  0.45650402,  0.48784143,  0.35760946,\n",
        "        0.80106765,  0.1879851 ,  0.65573405,  0.55551805,  0.26684926,\n",
        "        0.36570478,  0.99801437,  0.57384058,  0.39919527,  0.8718377 ,\n",
        "        0.66444551,  0.21058905,  0.23896714,  0.30049087,  0.1251821 ,\n",
        "        0.34437097,  0.34869454,  0.65673013,  0.66159486,  0.23223923,\n",
        "        0.34453729,  0.40815519,  0.57775241,  0.30814805,  0.3096526 ,\n",
        "        0.81700664,  0.59646856,  0.40200231,  0.7043139 ,  0.51474775])}\n",
        "\n"
       ]
      },
      {
       "output_type": "stream",
       "stream": "stdout",
       "text": [
        "Iteration: 1/40 (at 2796.5 sec; 0:46:36.483733)\n",
        "Best score (roc_auc): 0.683680 (0.691538 +- 0.007857)\n",
        "Current parameters:\n",
        "Pre_processor:\n",
        "{}\n",
        "Vectorizer:\n",
        "{'complexity': 2}\n",
        "Estimator:\n",
        "{'alpha': 0.0001,\n",
        " 'eta0': 0.001,\n",
        " 'l1_ratio': 0.69235544942198435,\n",
        " 'learning_rate': 'optimal',\n",
        " 'loss': 'modified_huber',\n",
        " 'n_iter': 55,\n",
        " 'penalty': 'l1',\n",
        " 'power_t': 0.80106764592320334}\n",
        "Instances: 7880 ; Features: 1048577 with an avg of 167 features per instance\n",
        "class: 1 count:3880 (0.49)\tclass: -1 count:4000 (0.51)\t\n",
        "Saved current best model in model\n",
        "Failed iteration: 3/40 (at 5720.0 sec; 1:35:19.952988)"
       ]
      }
     ]
    },
    {
     "cell_type": "code",
     "collapsed": false,
     "input": [
      "from eden.converter.molecule import obabel\n",
      "graphs=obabel.obabel_to_eden(active_fname,file_type = 'sdf')\n",
      "from itertools import islice\n",
      "graphs = islice(graphs, 3)\n",
      "from eden.util.display import draw_graph\n",
      "for graph in graphs:  draw_graph(graph, size=12, node_size=400, node_border=1, vertex_label='hlabel')"
     ],
     "language": "python",
     "metadata": {},
     "outputs": []
    },
    {
     "cell_type": "markdown",
     "metadata": {},
     "source": [
      "#Old"
     ]
    },
    {
     "cell_type": "code",
     "collapsed": false,
     "input": [
      "from eden.graph import Vectorizer\n",
      "vectorizer=Vectorizer(complexity=2)\n",
      "from eden.converter.molecule import obabel\n",
      "print 'Working on positive instances in %s and negative instances in %s' % (active_fname, inactive_fname)\n",
      "active_graphs=obabel.obabel_to_eden(active_fname)\n",
      "inactive_graphs=obabel.obabel_to_eden(inactive_fname)"
     ],
     "language": "python",
     "metadata": {},
     "outputs": []
    },
    {
     "cell_type": "code",
     "collapsed": false,
     "input": [
      "#%%time\n",
      "active_X=vectorizer.transform(active_graphs, n_jobs=1)\n",
      "inactive_X=vectorizer.transform(inactive_graphs, n_jobs=1)\n",
      "from scipy.sparse import vstack\n",
      "import numpy as np\n",
      "X=vstack( [active_X,inactive_X] )\n",
      "yp=[1]*active_X.shape[0]\n",
      "yn=[-1]*inactive_X.shape[0]\n",
      "y=np.array(yp+yn)"
     ],
     "language": "python",
     "metadata": {},
     "outputs": []
    },
    {
     "cell_type": "code",
     "collapsed": false,
     "input": [
      "%%time\n",
      "from sklearn.linear_model import SGDClassifier\n",
      "from sklearn import cross_validation\n",
      "\n",
      "#induce a predictive model\n",
      "predictor = SGDClassifier(class_weight = 'auto', shuffle = True)\n",
      "scores = cross_validation.cross_val_score(predictor, X, y,cv=10, scoring='roc_auc')\n",
      "print('AUC ROC: %.4f +- %.4f' % (np.mean(scores),np.std(scores)))"
     ],
     "language": "python",
     "metadata": {},
     "outputs": []
    },
    {
     "cell_type": "code",
     "collapsed": false,
     "input": [],
     "language": "python",
     "metadata": {},
     "outputs": []
    }
   ],
   "metadata": {}
  }
 ]
}