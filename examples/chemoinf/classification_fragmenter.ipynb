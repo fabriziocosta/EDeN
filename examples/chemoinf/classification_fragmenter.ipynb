{
 "metadata": {
  "name": "",
  "signature": "sha256:41b0a5dcfcc6b777cc9c0ef25e6034d96c62c249b18badb31283285287790c6c"
 },
 "nbformat": 3,
 "nbformat_minor": 0,
 "worksheets": [
  {
   "cells": [
    {
     "cell_type": "code",
     "collapsed": false,
     "input": [
      "import numpy as np\n",
      "from scipy import stats\n",
      "from scipy.sparse import vstack"
     ],
     "language": "python",
     "metadata": {},
     "outputs": [],
     "prompt_number": 34
    },
    {
     "cell_type": "code",
     "collapsed": false,
     "input": [
      "def describe(X):\n",
      "    print 'Instances: %d ; Features: %d (with an avg of %d features per instance)' % (X.shape[0], X.shape[1],  X.getnnz()/X.shape[0])"
     ],
     "language": "python",
     "metadata": {},
     "outputs": [],
     "prompt_number": 35
    },
    {
     "cell_type": "code",
     "collapsed": false,
     "input": [
      "from eden.graph import Vectorizer\n",
      "vectorizer = Vectorizer( r = 3, d = 3 )"
     ],
     "language": "python",
     "metadata": {},
     "outputs": [],
     "prompt_number": 36
    },
    {
     "cell_type": "code",
     "collapsed": false,
     "input": [
      "trainp='http://www.bioinf.uni-freiburg.de/~costa/bursi_fragmenter/train_pos.gspan'\n",
      "trainn='http://www.bioinf.uni-freiburg.de/~costa/bursi_fragmenter/train_neg.gspan'\n",
      "testp='http://www.bioinf.uni-freiburg.de/~costa/bursi_fragmenter/test_pos.gspan'\n",
      "testn='http://www.bioinf.uni-freiburg.de/~costa/bursi_fragmenter/test_neg.gspan'"
     ],
     "language": "python",
     "metadata": {},
     "outputs": [],
     "prompt_number": 37
    },
    {
     "cell_type": "code",
     "collapsed": false,
     "input": [
      "from eden.converter.graph.gspan import gspan_to_eden"
     ],
     "language": "python",
     "metadata": {},
     "outputs": [],
     "prompt_number": 38
    },
    {
     "cell_type": "code",
     "collapsed": false,
     "input": [
      "%%time\n",
      "graphs = gspan_to_eden( trainp )\n",
      "Xtrp = vectorizer.transform( graphs )\n",
      "describe(Xtrp)"
     ],
     "language": "python",
     "metadata": {},
     "outputs": [
      {
       "output_type": "stream",
       "stream": "stdout",
       "text": [
        "Instances: 1400 ; Features: 1048577 (with an avg of 198 features per instance)\n",
        "CPU times: user 5.8 s, sys: 679 ms, total: 6.48 s\n",
        "Wall time: 7.51 s\n"
       ]
      }
     ],
     "prompt_number": 39
    },
    {
     "cell_type": "code",
     "collapsed": false,
     "input": [
      "%%time\n",
      "graphs = gspan_to_eden( trainn )\n",
      "Xtrn = vectorizer.transform( graphs )\n",
      "describe(Xtrn)"
     ],
     "language": "python",
     "metadata": {},
     "outputs": [
      {
       "output_type": "stream",
       "stream": "stdout",
       "text": [
        "Instances: 1388 ; Features: 1048577 (with an avg of 186 features per instance)\n",
        "CPU times: user 5.38 s, sys: 635 ms, total: 6.02 s\n",
        "Wall time: 6.78 s\n"
       ]
      }
     ],
     "prompt_number": 40
    },
    {
     "cell_type": "code",
     "collapsed": false,
     "input": [
      "yp =  [1] * Xtrp.shape[0]\n",
      "yn = [-1] * Xtrn.shape[0]\n",
      "ytr = np.array(yp + yn)\n",
      "Xtr = vstack( [Xtrp,Xtrn] , format = \"csr\")\n",
      "describe(Xtr)"
     ],
     "language": "python",
     "metadata": {},
     "outputs": [
      {
       "output_type": "stream",
       "stream": "stdout",
       "text": [
        "Instances: 2788 ; Features: 1048577 (with an avg of 192 features per instance)\n"
       ]
      }
     ],
     "prompt_number": 41
    },
    {
     "cell_type": "code",
     "collapsed": false,
     "input": [
      "%%time\n",
      "graphs = gspan_to_eden( testp )\n",
      "Xtsp = vectorizer.transform( graphs )\n",
      "describe(Xtsp)"
     ],
     "language": "python",
     "metadata": {},
     "outputs": [
      {
       "output_type": "stream",
       "stream": "stdout",
       "text": [
        "Instances: 783 ; Features: 1048577 (with an avg of 199 features per instance)\n",
        "CPU times: user 3.29 s, sys: 354 ms, total: 3.64 s\n",
        "Wall time: 4.06 s\n"
       ]
      }
     ],
     "prompt_number": 42
    },
    {
     "cell_type": "code",
     "collapsed": false,
     "input": [
      "%%time\n",
      "graphs = gspan_to_eden( testn )\n",
      "Xtsn = vectorizer.transform( graphs )\n",
      "describe(Xtsn)"
     ],
     "language": "python",
     "metadata": {},
     "outputs": [
      {
       "output_type": "stream",
       "stream": "stdout",
       "text": [
        "Instances: 535 ; Features: 1048577 (with an avg of 185 features per instance)\n",
        "CPU times: user 2.12 s, sys: 322 ms, total: 2.44 s\n",
        "Wall time: 2.73 s\n"
       ]
      }
     ],
     "prompt_number": 43
    },
    {
     "cell_type": "code",
     "collapsed": false,
     "input": [
      "yp =  [1] * Xtsp.shape[0]\n",
      "yn = [-1] * Xtsn.shape[0]\n",
      "yts = np.array(yp + yn)\n",
      "Xts = vstack( [Xtsp,Xtsn] , format = \"csr\")\n",
      "describe(Xts)"
     ],
     "language": "python",
     "metadata": {},
     "outputs": [
      {
       "output_type": "stream",
       "stream": "stdout",
       "text": [
        "Instances: 1318 ; Features: 1048577 (with an avg of 193 features per instance)\n"
       ]
      }
     ],
     "prompt_number": 44
    },
    {
     "cell_type": "code",
     "collapsed": false,
     "input": [
      "%%time\n",
      "#induce a predictive model\n",
      "from sklearn.linear_model import SGDClassifier\n",
      "estimator = SGDClassifier(class_weight='auto', shuffle = True)\n",
      "estimator.fit(Xtr,ytr)"
     ],
     "language": "python",
     "metadata": {},
     "outputs": [
      {
       "output_type": "stream",
       "stream": "stdout",
       "text": [
        "CPU times: user 34 ms, sys: 3.85 ms, total: 37.9 ms\n",
        "Wall time: 37.6 ms\n"
       ]
      }
     ],
     "prompt_number": 45
    },
    {
     "cell_type": "code",
     "collapsed": false,
     "input": [
      "predictions=estimator.predict(Xts)\n",
      "from sklearn.metrics import accuracy_score\n",
      "print 'Acc:',accuracy_score(yts, predictions)\n",
      "\n",
      "predictions=estimator.decision_function(Xts)\n",
      "from sklearn.metrics import roc_auc_score, average_precision_score\n",
      "print 'ROC:', roc_auc_score(yts, predictions)\n",
      "print 'APR:', average_precision_score(yts, predictions)"
     ],
     "language": "python",
     "metadata": {},
     "outputs": [
      {
       "output_type": "stream",
       "stream": "stdout",
       "text": [
        "Acc: 0.855842185129\n",
        "ROC: 0.91554409711\n",
        "APR: 0.935910002138\n"
       ]
      }
     ],
     "prompt_number": 48
    },
    {
     "cell_type": "code",
     "collapsed": false,
     "input": [],
     "language": "python",
     "metadata": {},
     "outputs": [],
     "prompt_number": 46
    }
   ],
   "metadata": {}
  }
 ]
}