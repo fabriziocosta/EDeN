{
 "cells": [
  {
   "cell_type": "code",
   "execution_count": 1,
   "metadata": {
    "collapsed": false
   },
   "outputs": [],
   "source": [
    "%matplotlib inline\n",
    "%load_ext autoreload\n",
    "%autoreload 2\n"
   ]
  },
  {
   "cell_type": "code",
   "execution_count": 2,
   "metadata": {
    "collapsed": false
   },
   "outputs": [],
   "source": [
    "from eden.converter.molecule import obabel\n",
    "import networkx as nx\n",
    "import pybel\n",
    "import requests\n",
    "import os.path\n",
    "from itertools import tee\n",
    "from numpy.random import randint\n",
    "from numpy.random import uniform\n",
    "from eden.graph import Vectorizer\n",
    "from sklearn.linear_model import SGDClassifier\n",
    "import datetime, time\n",
    "from eden.util import random_bipartition_iter\n",
    "from eden.model import ActiveLearningBinaryClassificationModel\n",
    "\n",
    "from eden.util import configure_logging\n",
    "import logging\n",
    "configure_logging(logging.getLogger(),verbosity=2)"
   ]
  },
  {
   "cell_type": "code",
   "execution_count": 3,
   "metadata": {
    "collapsed": false
   },
   "outputs": [],
   "source": [
    "def make_iterable(filename, file_format):\n",
    "    if file_format == 'sdf':\n",
    "        with open(filename) as f:\n",
    "            s = ''\n",
    "            for line in f:\n",
    "                if line.strip() != '$$$$':\n",
    "                    s = s + line\n",
    "                else:\n",
    "                    return_value = s + line\n",
    "                    s = ''\n",
    "                    yield return_value\n",
    "    elif file_format == 'smi':\n",
    "        with open(filename) as f:\n",
    "            for line in f:\n",
    "                yield line"
   ]
  },
  {
   "cell_type": "markdown",
   "metadata": {},
   "source": [
    "This is where the data sets are defined:"
   ]
  },
  {
   "cell_type": "code",
   "execution_count": 20,
   "metadata": {
    "collapsed": false
   },
   "outputs": [],
   "source": [
    "AID = 602325\n",
    "#AID=2401\n",
    "DATA_DIR = '/home/liconj/proj/thesis/EDeN/examples/model_comparison/data'\n",
    "active_fname=DATA_DIR + '/AID%s_active.sdf'%AID\n",
    "inactive_fname=DATA_DIR + '/AID%s_inactive.sdf'%AID"
   ]
  },
  {
   "cell_type": "code",
   "execution_count": 21,
   "metadata": {
    "collapsed": false
   },
   "outputs": [],
   "source": [
    "########\n",
    "# Create iterables from files\n",
    "########\n",
    "\n",
    "iterable_pos = make_iterable('AID720577_active.sdf', 'sdf')\n",
    "iterable_pos, iterable_pos_ = tee(iterable_pos)\n",
    "\n",
    "iterable_pos, iterable_pos_ = tee(iterable_pos)\n",
    "\n",
    "# Split train/test\n",
    "iterable_pos_train, iterable_pos_test = random_bipartition_iter(iterable_pos, relative_size=0.8)"
   ]
  },
  {
   "cell_type": "code",
   "execution_count": 22,
   "metadata": {
    "collapsed": false
   },
   "outputs": [],
   "source": [
    "graphs = obabel.obabel_to_eden3d(iterable_pos_train)"
   ]
  },
  {
   "cell_type": "code",
   "execution_count": 23,
   "metadata": {
    "collapsed": false
   },
   "outputs": [],
   "source": [
    "graph = graphs.next()"
   ]
  },
  {
   "cell_type": "code",
   "execution_count": 24,
   "metadata": {
    "collapsed": false
   },
   "outputs": [
    {
     "data": {
      "text/plain": [
       "<networkx.classes.graph.Graph at 0x47bf050>"
      ]
     },
     "execution_count": 24,
     "metadata": {},
     "output_type": "execute_result"
    }
   ],
   "source": [
    "graph"
   ]
  },
  {
   "cell_type": "code",
   "execution_count": 17,
   "metadata": {
    "collapsed": false
   },
   "outputs": [
    {
     "name": "stdout",
     "output_type": "stream",
     "text": [
      "[Br-].[n+]1(CCCCCCCCCCCCCCCC)ccccc1\t8816\n",
      "\n",
      "[Br-].[n+]1(c(c2c(c3c1cc(N)cc3)ccc(N)c2)c1ccccc1)CC\t14710\n",
      "\n",
      "[Cl-].O.[n+]1(CCCCCCCCCCCCCCCC)ccccc1\t22324\n",
      "\n",
      "O(c1c2c(nccc2)c(NCCCCCCN)cc1OC)C\t224618\n",
      "\n",
      "ClC1=C(N2CCN(CC2)C)C(=O)c2c(C1=O)cccc2\t237102\n",
      "\n",
      "ClC1=C(N)C(=O)c2c(ccc(S(=O)(=O)N)c2)C1=O\t240739\n",
      "\n",
      "S(C1=C(C(=O)c2c(C1=O)cccc2)C)Cc1ccccc1\t248894\n",
      "\n",
      "BrC1=C(N)C(=O)c2c(nccc2)C1=O\t266923\n",
      "\n",
      "Brc1cc2[nH]c(=O)c3c(c2cc1N)cccc3\t271216\n",
      "\n",
      "O=C1N(Cc2ccccc2)C(=O)c2c(C1)cccc2\t272514\n",
      "\n",
      "O=C1c2c(nccc2)C(=CC1=O)N\t279596\n",
      "\n",
      "O(C1=C(N)C(=O)c2nc(ccc2C1=O)C)C\t280616\n",
      "\n",
      "O(c1cc2c(cc1OC)ccnc2C(=O)c1c([N+](=O)[O-])cc(OC)c(OC)c1)C\t286873\n",
      "\n",
      "O1C(OCC1)c1ncc(c2c1cccc2N)C\t323009\n",
      "\n",
      "O=C1NC(=O)c2c(C1)cccc2\t349435\n",
      "\n",
      "Clc1c(N2CCN(CC2)CCO)c(O)c2c(c1O)C(=O)C=CC2=O.Cl\t377971\n",
      "\n",
      "Brc1c(N2CCN(CC2)CCOCCO)c(O)c2c(c1O)C(=O)C=CC2=O.Cl\t378196\n",
      "\n",
      "OC(C(NC1=CC(=O)c2c(nccc2)C1=O)C)c1ccccc1\t386231\n",
      "\n",
      "S(=O)(=O)([O-])C(F)(F)F.Oc1cc2c(n3[n+](c(cc3c2=Cc2ccc(N(C)C)cc2)c2ccccc2)C)cc1\t392758\n",
      "\n",
      "S(=O)(=O)([O-])C(F)(F)F.[O-][N+](=O)c1ccc(C=c2c3n([n+](c(c3)c3ccccc3)C)c3c2cccc3)cc1\t392760\n",
      "\n",
      "S(=O)(=O)([O-])C(F)(F)F.n12[n+](c(cc1c(=Cc1ccccc1)c1c2cccc1)c1ccccc1)C\t392762\n",
      "\n",
      "S(=O)(=O)([O-])C(F)(F)F.O(c1cc(C=c2c3n([n+](c(c3)c3ccccc3)C)c3c2cccc3)cc(OC)c1OC)C\t395171\n",
      "\n",
      "S(=O)(=O)([O-])C(F)(F)F.O(C(=O)c1[n+](n2c(c(=Cc3ccc(N(C)C)cc3)c3c2cccc3)c1)C)CC\t395179\n",
      "\n",
      "O(C(=O)c1c2c(n(c1C)Cc1ccccc1)C(=O)C(=O)c1c2cccc1)CC\t406008\n",
      "\n",
      "O=C1N(CCc2ccccc2)C(=O)c2c(C1)cccc2\t713096\n",
      "\n",
      "s1nc2cc(NC(=S)Nc3ccc(OC)cc3)ccc2n1\t753169\n",
      "\n",
      "o1nc2c3c(C(=O)c4c(c13)cccc4)c(OC)cc2\t774975\n",
      "\n",
      "BrC1=C(N)C(=O)c2c(C1=O)cccc2\t934233\n",
      "\n",
      "O1CCN(C2=C(n3nnc4c3cccc4)C(=O)c3c(C2=O)cccc3)CC1\t1405137\n",
      "\n",
      "O=C1N(Cc2ccc(OC)cc2)C(=O)c2c(C1)cccc2\t1475552\n",
      "\n",
      "O=C(Nc1n(CCCC)c2nc3c(nc2c1C#N)cccc3)c1ccccc1\t1910302\n",
      "\n",
      "Clc1ccc(S(=O)(=O)Nc2n(c3nc4c(nc3c2)cccc4)Cc2ccccc2)cc1\t2044030\n",
      "\n",
      "S(=O)(=O)(Nc1c2c(c(O)c(Sc3[nH]ncn3)c1)cccc2)c1ccccc1\t2133777\n",
      "\n",
      "O=C1N(Cc2ccccc2)C(=O)/C(=C/OCC)/c2c1cccc2\t2339359\n",
      "\n",
      "Clc1ccc(NC(=S)Nc2c3c(ccc2)cncc3)cc1\t2407446\n",
      "\n",
      "S=C(Nc1c2c(ccc1)cncc2)Nc1ccc(cc1)C(=O)C\t2545001\n",
      "\n",
      "O=C1c2c(nnc(c2)c2c(cccc2)C)c2c1cccc2\t2769183\n",
      "\n",
      "[Br-].n1(CCCCCCCCCCCCCCCC)c[n+](cc1)C\t2846928\n",
      "\n",
      "Brc1c(C(=O)c2nccc3c2cc(OC)c(OC)c3)cc(OC)c(OC)c1\t2974206\n",
      "\n",
      "S1(=O)(=O)CC(N(C2=C(NC(=O)c3ccccc3)C(=O)c3c(C2=O)cccc3)C)CC1\t3342467\n",
      "\n",
      "O(C1=CC(=O)c2c3c(ncnc3N)ccc2C1=O)C\t3711067\n",
      "\n",
      "S(c1c(O)c2c(c(O)c1)cccc2)/C(=C/C(=O)OCC)/C\t5358773\n",
      "\n",
      "O(C(=O)c1[nH]c(c(N)/c(=C/2\\C(=O)C(=C(OC)C=C2)OC)/c1C)c1nc2c(cc1)C(=O)C(=C(N)C2=O)OC)C\t5359866\n",
      "\n",
      "O=c1n(c(=O)nc2n(nc(nc12)/C=C/c1ccccc1)CC)C\t5756371\n",
      "\n",
      "S(=O)(=O)(/N=C\\1/c2c(C(=O)C(=C1)Nc1cc(ccc1)C(=O)O)cccc2)c1ccc(cc1)C\t5824722\n",
      "\n",
      "S(=O)(=O)(/N=C\\1/c2c(C(=O)C(=C1)Nc1cc(ccc1)C(=O)O)cccc2)c1c(cc(cc1)C)C\t5824726\n",
      "\n",
      "S(=O)(=O)(/N=C/1\\c2c(C(=O)C(=C1)Nc1ccc(cc1)C(=O)O)cccc2)c1ccccc1\t5998602\n",
      "\n",
      "S(=O)(=O)(/N=C\\1/c2c(C(=O)C(=C1)Nc1c(cccc1)C)cccc2)c1ccc(cc1)C(=O)O\t6023693\n",
      "\n",
      "S(=O)(=O)(/N=C\\1/c2c(C(=O)C(=C1)Nc1c(F)cccc1)cccc2)c1ccc(cc1)C(=O)O\t6023694\n",
      "\n",
      "S(=O)(=O)(/N=C/1\\c2c(C(=O)C(=C1)Nc1ccc(cc1)C)cccc2)c1sccc1\t6032979\n",
      "\n",
      "Cl.O(c1cc(NCCCC(N)C)c2ncccc2c1)C\t6603104\n",
      "\n",
      "O(/C=C/1\\c2c(C(=O)N(C1=O)C)cc(OC)cc2)CC\t8143087\n",
      "\n",
      "O=C(N/N=C/1\\C/C(=N\\NC(=O)c2ccncc2)/c2c1cccc2)c1ccncc1\t9701594\n",
      "\n",
      "S(=O)(=O)(/N=C\\1/c2c(C(=O)C(=C1)Nc1c(cccc1)C)cccc2)c1sccc1\t11834470\n",
      "\n",
      "Cl.[Cl-].[n+]1(c2c(cc3c1cc(N)cc3)ccc(N)c2)C\t15558347\n",
      "\n",
      "[I-].[n+]1(CCCCCCCCCCCCCCCC)c2c(ccc1)cccc2\t15945189\n",
      "\n",
      "[Br-].O.[n+]1(CCCCCCCCCCCCCCCC)ccccc1\t16211806\n",
      "\n",
      "O([C@@H]1O[C@@H]([C@@H](O)[C@H](O)[C@H]1O)CO)c1c2c([C@@H]([C@@H]3c4c(C(=O)c5c3cc(cc5O)C(=O)O)c(OC3O[C@@H]([C@@H](O)[C@H](O)[C@H]3O)CO)ccc4)c3c(C2=O)c(O)cc(c3)C(=O)O)ccc1\t16218404\n",
      "\n",
      "Brc1cc2c(c(=O)[nH]c(Nc3ccccc3)c2)cc1\t16727376\n",
      "\n",
      "Brc1cc2c(c(=O)[nH]c(Nc3c(OC)cccc3)c2)cc1\t16727377\n",
      "\n",
      "S(=O)(=O)(/N=C\\1/c2c(C(=O)C(=C1)Nc1ccc(O)cc1)cccc2)c1ccc(OC)cc1\t22829045\n",
      "\n",
      "Clc1ccc(OCc2n(c3c([n+]2C)cccc3)CC(=O)OCCCCCCCCCC)cc1.[Cl-]\t24747653\n",
      "\n",
      "ClC1=C(N(c2ccc(cc2)C(=O)O)C(=O)C)C(=O)c2c(C1=O)cccc2\t24761366\n",
      "\n",
      "Clc1cc2nc3c(n(C(CCCN(CC)CC)C)c2cc1)nc(=O)[nH]c3=O.S(=O)(=O)(O)O\t44602155\n",
      "\n"
     ]
    }
   ],
   "source": [
    "for x in test:\n",
    "    mol = pybel.readstring(\"sdf\", x)\n",
    "    print mol"
   ]
  },
  {
   "cell_type": "code",
   "execution_count": 27,
   "metadata": {
    "collapsed": false
   },
   "outputs": [
    {
     "name": "stdout",
     "output_type": "stream",
     "text": [
      "Clc1cc2nc3c(n(C(CCCN(CC)CC)C)c2cc1)nc(=O)[nH]c3=O.S(=O)(=O)(O)O\t44602155\n",
      "\n"
     ]
    }
   ],
   "source": [
    "print mol"
   ]
  },
  {
   "cell_type": "code",
   "execution_count": 29,
   "metadata": {
    "collapsed": false
   },
   "outputs": [],
   "source": [
    "mols = obabel.generate_conformers(mol.write(\"sdf\"), 0)"
   ]
  },
  {
   "cell_type": "code",
   "execution_count": 30,
   "metadata": {
    "collapsed": false
   },
   "outputs": [
    {
     "data": {
      "text/plain": [
       "[<pybel.Molecule at 0x47bf210>]"
      ]
     },
     "execution_count": 30,
     "metadata": {},
     "output_type": "execute_result"
    }
   ],
   "source": [
    "mols"
   ]
  },
  {
   "cell_type": "code",
   "execution_count": 68,
   "metadata": {
    "collapsed": false
   },
   "outputs": [
    {
     "ename": "StopIteration",
     "evalue": "",
     "output_type": "error",
     "traceback": [
      "\u001b[1;31m---------------------------------------------------------------------------\u001b[0m",
      "\u001b[1;31mStopIteration\u001b[0m                             Traceback (most recent call last)",
      "\u001b[1;32m<ipython-input-68-d18cfdbd7ec9>\u001b[0m in \u001b[0;36m<module>\u001b[1;34m()\u001b[0m\n\u001b[1;32m----> 1\u001b[1;33m \u001b[0mgraph\u001b[0m \u001b[1;33m=\u001b[0m \u001b[0mgraphs\u001b[0m\u001b[1;33m.\u001b[0m\u001b[0mnext\u001b[0m\u001b[1;33m(\u001b[0m\u001b[1;33m)\u001b[0m\u001b[1;33m\u001b[0m\u001b[0m\n\u001b[0m",
      "\u001b[1;31mStopIteration\u001b[0m: "
     ]
    }
   ],
   "source": []
  }
 ],
 "metadata": {
  "kernelspec": {
   "display_name": "Python 2",
   "language": "python",
   "name": "python2"
  },
  "language_info": {
   "codemirror_mode": {
    "name": "ipython",
    "version": 2
   },
   "file_extension": ".py",
   "mimetype": "text/x-python",
   "name": "python",
   "nbconvert_exporter": "python",
   "pygments_lexer": "ipython2",
   "version": "2.7.5"
  }
 },
 "nbformat": 4,
 "nbformat_minor": 0
}
