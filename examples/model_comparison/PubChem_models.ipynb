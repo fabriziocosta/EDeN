{
 "cells": [
  {
   "cell_type": "code",
   "execution_count": 1,
   "metadata": {
    "collapsed": true
   },
   "outputs": [],
   "source": [
    "%load_ext autoreload\n",
    "%autoreload 2"
   ]
  },
  {
   "cell_type": "code",
   "execution_count": 17,
   "metadata": {
    "collapsed": true
   },
   "outputs": [],
   "source": [
    "from eden.converter.molecule import obabel"
   ]
  },
  {
   "cell_type": "code",
   "execution_count": 50,
   "metadata": {
    "collapsed": false
   },
   "outputs": [],
   "source": [
    "import datetime, time\n",
    "def train_obabel_model(pos_fname, neg_fname, model_fname=None, n_iter=40, active_set_size=1000, n_active_learning_iterations=3, threshold=1, train_test_split=0.7, verbose=False):\n",
    "    \n",
    "    \n",
    "    def pre_processor( data, **args):\n",
    "        return data\n",
    "    \n",
    "    from eden.graph import Vectorizer\n",
    "    vectorizer = Vectorizer()\n",
    "\n",
    "    from sklearn.linear_model import SGDClassifier\n",
    "    estimator = SGDClassifier(average=True, class_weight='auto', shuffle=True)\n",
    "\n",
    "    #create iterable from files\n",
    "    from eden.converter.molecule import obabel\n",
    "    iterable_pos=obabel.obabel_to_eden(pos_fname)\n",
    "    iterable_neg=obabel.obabel_to_eden(neg_fname)\n",
    "    \n",
    "    from itertools import tee\n",
    "    iterable_pos, iterable_pos_ = tee(iterable_pos)\n",
    "    iterable_neg, iterable_neg_ = tee(iterable_neg)\n",
    "    \n",
    "    import time\n",
    "    start = time.time()\n",
    "    print('# positives: %d  # negatives: %d (%.1f sec %s)'%(sum(1 for x in iterable_pos_), sum(1 for x in iterable_neg_), time.time() - start, str(datetime.timedelta(seconds=(time.time() - start)))))\n",
    "    \n",
    "    #split train/test\n",
    "    from eden.util import random_bipartition_iter\n",
    "    iterable_pos_train, iterable_pos_test = random_bipartition_iter(iterable_pos, relative_size=train_test_split)\n",
    "    iterable_neg_train, iterable_neg_test = random_bipartition_iter(iterable_neg, relative_size=train_test_split)\n",
    "\n",
    "\n",
    "\n",
    "    #make predictive model\n",
    "    from eden.model import ActiveLearningBinaryClassificationModel\n",
    "    # model = ActiveLearningBinaryClassificationModel( pre_processor, estimator=estimator, vectorizer=vectorizer )\n",
    "    model = ActiveLearningBinaryClassificationModel(pre_processor,\n",
    "                                                estimator=estimator,\n",
    "                                                vectorizer=vectorizer,\n",
    "                                                n_jobs = 1,\n",
    "                                                n_blocks = 1,\n",
    "                                                fit_vectorizer=True)\n",
    " \n",
    "    #optimize hyperparameters and fit model\n",
    "    from numpy.random import randint\n",
    "    from numpy.random import uniform\n",
    "\n",
    "    pre_processor_parameters={'model_type':'default'} \n",
    "    \n",
    "    # The training time for this model is much smaller, so we can use various iterations of the\n",
    "    # vectorizer\n",
    "    vectorizer_parameters={'complexity':[2,3,4,5,6]}\n",
    "\n",
    "    estimator_parameters={'n_iter':randint(5, 100, size=n_iter),\n",
    "                          'penalty':['l1','l2','elasticnet'],\n",
    "                          'l1_ratio':uniform(0.1,0.9, size=n_iter), \n",
    "                          'loss':['hinge', 'log', 'modified_huber', 'squared_hinge', 'perceptron'],\n",
    "                          'power_t':uniform(0.1, size=n_iter),\n",
    "                          'alpha': [10**x for x in range(-8,-2)],\n",
    "                          'eta0': [10**x for x in range(-4,-1)],\n",
    "                          'learning_rate': [\"invscaling\", \"constant\", \"optimal\"]}\n",
    "\n",
    "    model.optimize(iterable_pos_train, iterable_neg_train, \n",
    "                   model_name=model_fname,\n",
    "                   n_active_learning_iterations=n_active_learning_iterations,\n",
    "                   size_positive=-1,\n",
    "                   size_negative=active_set_size,\n",
    "                   n_iter=n_iter, cv=3,\n",
    "                   pre_processor_parameters=pre_processor_parameters, \n",
    "                   vectorizer_parameters=vectorizer_parameters, \n",
    "                   estimator_parameters=estimator_parameters)\n",
    "    \n",
    "    #estimate predictive performance\n",
    "    model.estimate( iterable_pos_test, iterable_neg_test)\n",
    "    return model\n",
    "    \n",
    "    \n",
    "def test_obabel_model(fname, model_fname=None):\n",
    "    from eden.model import ActiveLearningBinaryClassificationModel\n",
    "\n",
    "    model = ActiveLearningBinaryClassificationModel()\n",
    "    model.load(model_fname)\n",
    "\n",
    "    #create iterable from files\n",
    "    from eden.converter.molecule import obabel\n",
    "    iterable=obabel.obabel_to_eden(fname)\n",
    "    \n",
    "    predictions= model.decision_function( iterable )\n",
    "        \n",
    "    return predictions"
   ]
  },
  {
   "cell_type": "code",
   "execution_count": 41,
   "metadata": {
    "collapsed": false
   },
   "outputs": [],
   "source": [
    "#AID=1905\n",
    "AID=2801"
   ]
  },
  {
   "cell_type": "code",
   "execution_count": 42,
   "metadata": {
    "collapsed": false
   },
   "outputs": [
    {
     "name": "stdout",
     "output_type": "stream",
     "text": [
      "CPU times: user 0 ns, sys: 0 ns, total: 0 ns\n",
      "Wall time: 19.8 µs\n"
     ]
    }
   ],
   "source": [
    "%%time\n",
    "\n",
    "#READ_FROM_FILE=False\n",
    "READ_FROM_FILE=True\n",
    "\n",
    "if READ_FROM_FILE:\n",
    "    active_fname='data/AID%s_active.sdf'%AID\n",
    "    inactive_fname='data/AID%s_inactive.sdf'%AID\n",
    "else:\n",
    "    active_fname, inactive_fname = get_assay(AID)"
   ]
  },
  {
   "cell_type": "code",
   "execution_count": 51,
   "metadata": {
    "collapsed": true
   },
   "outputs": [],
   "source": [
    "from eden.converter.molecule import obabel"
   ]
  },
  {
   "cell_type": "code",
   "execution_count": 52,
   "metadata": {
    "collapsed": false
   },
   "outputs": [
    {
     "name": "stdout",
     "output_type": "stream",
     "text": [
      "# positives: 8  # negatives: 32 (0.1 sec 0:00:00.117676)\n",
      "pre_processor in mp_pre_process is of type <type 'function'>\n",
      "pre_processor in mp_pre_process is of type <type 'function'>\n",
      "pre_processor in mp_pre_process is of type <type 'NoneType'>\n"
     ]
    },
    {
     "ename": "TypeError",
     "evalue": "'NoneType' object is not callable",
     "output_type": "error",
     "traceback": [
      "\u001b[1;31m---------------------------------------------------------------------------\u001b[0m",
      "\u001b[1;31mTypeError\u001b[0m                                 Traceback (most recent call last)",
      "\u001b[1;32m<ipython-input-52-32fe68a346f7>\u001b[0m in \u001b[0;36m<module>\u001b[1;34m()\u001b[0m\n\u001b[0;32m      8\u001b[0m                            \u001b[0mthreshold\u001b[0m\u001b[1;33m=\u001b[0m\u001b[1;36m1\u001b[0m\u001b[1;33m,\u001b[0m\u001b[1;33m\u001b[0m\u001b[0m\n\u001b[0;32m      9\u001b[0m                            \u001b[0mtrain_test_split\u001b[0m\u001b[1;33m=\u001b[0m\u001b[1;36m0.8\u001b[0m\u001b[1;33m,\u001b[0m\u001b[1;33m\u001b[0m\u001b[0m\n\u001b[1;32m---> 10\u001b[1;33m                            verbose=1)\n\u001b[0m",
      "\u001b[1;32m<ipython-input-50-eb353dae1f88>\u001b[0m in \u001b[0;36mtrain_obabel_model\u001b[1;34m(pos_fname, neg_fname, model_fname, n_iter, active_set_size, n_active_learning_iterations, threshold, train_test_split, verbose)\u001b[0m\n\u001b[0;32m     72\u001b[0m \u001b[1;33m\u001b[0m\u001b[0m\n\u001b[0;32m     73\u001b[0m     \u001b[1;31m#estimate predictive performance\u001b[0m\u001b[1;33m\u001b[0m\u001b[1;33m\u001b[0m\u001b[0m\n\u001b[1;32m---> 74\u001b[1;33m     \u001b[0mmodel\u001b[0m\u001b[1;33m.\u001b[0m\u001b[0mestimate\u001b[0m\u001b[1;33m(\u001b[0m \u001b[0miterable_pos_test\u001b[0m\u001b[1;33m,\u001b[0m \u001b[0miterable_neg_test\u001b[0m\u001b[1;33m)\u001b[0m\u001b[1;33m\u001b[0m\u001b[0m\n\u001b[0m\u001b[0;32m     75\u001b[0m     \u001b[1;32mreturn\u001b[0m \u001b[0mmodel\u001b[0m\u001b[1;33m\u001b[0m\u001b[0m\n\u001b[0;32m     76\u001b[0m \u001b[1;33m\u001b[0m\u001b[0m\n",
      "\u001b[1;32m/home/liconj/proj/thesis/EDeN/eden/model.py\u001b[0m in \u001b[0;36mestimate\u001b[1;34m(self, iterable_pos, iterable_neg)\u001b[0m\n\u001b[0;32m    130\u001b[0m \u001b[1;33m\u001b[0m\u001b[0m\n\u001b[0;32m    131\u001b[0m     \u001b[1;32mdef\u001b[0m \u001b[0mestimate\u001b[0m\u001b[1;33m(\u001b[0m\u001b[0mself\u001b[0m\u001b[1;33m,\u001b[0m \u001b[0miterable_pos\u001b[0m\u001b[1;33m,\u001b[0m \u001b[0miterable_neg\u001b[0m\u001b[1;33m)\u001b[0m\u001b[1;33m:\u001b[0m\u001b[1;33m\u001b[0m\u001b[0m\n\u001b[1;32m--> 132\u001b[1;33m         \u001b[0mX\u001b[0m\u001b[1;33m,\u001b[0m \u001b[0my\u001b[0m \u001b[1;33m=\u001b[0m \u001b[0mself\u001b[0m\u001b[1;33m.\u001b[0m\u001b[0m_data_matrices\u001b[0m\u001b[1;33m(\u001b[0m\u001b[0miterable_pos\u001b[0m\u001b[1;33m,\u001b[0m \u001b[0miterable_neg\u001b[0m\u001b[1;33m,\u001b[0m \u001b[0mfit_vectorizer\u001b[0m\u001b[1;33m=\u001b[0m\u001b[0mFalse\u001b[0m\u001b[1;33m)\u001b[0m\u001b[1;33m\u001b[0m\u001b[0m\n\u001b[0m\u001b[0;32m    133\u001b[0m         \u001b[0mmargins\u001b[0m \u001b[1;33m=\u001b[0m \u001b[0mself\u001b[0m\u001b[1;33m.\u001b[0m\u001b[0mestimator\u001b[0m\u001b[1;33m.\u001b[0m\u001b[0mdecision_function\u001b[0m\u001b[1;33m(\u001b[0m\u001b[0mX\u001b[0m\u001b[1;33m)\u001b[0m\u001b[1;33m\u001b[0m\u001b[0m\n\u001b[0;32m    134\u001b[0m         \u001b[0mpredictions\u001b[0m \u001b[1;33m=\u001b[0m \u001b[0mself\u001b[0m\u001b[1;33m.\u001b[0m\u001b[0mestimator\u001b[0m\u001b[1;33m.\u001b[0m\u001b[0mpredict\u001b[0m\u001b[1;33m(\u001b[0m\u001b[0mX\u001b[0m\u001b[1;33m)\u001b[0m\u001b[1;33m\u001b[0m\u001b[0m\n",
      "\u001b[1;32m/home/liconj/proj/thesis/EDeN/eden/model.py\u001b[0m in \u001b[0;36m_data_matrices\u001b[1;34m(self, iterable_pos, iterable_neg, fit_vectorizer)\u001b[0m\n\u001b[0;32m     85\u001b[0m \u001b[1;33m\u001b[0m\u001b[0m\n\u001b[0;32m     86\u001b[0m     \u001b[1;32mdef\u001b[0m \u001b[0m_data_matrices\u001b[0m\u001b[1;33m(\u001b[0m\u001b[0mself\u001b[0m\u001b[1;33m,\u001b[0m \u001b[0miterable_pos\u001b[0m\u001b[1;33m,\u001b[0m \u001b[0miterable_neg\u001b[0m\u001b[1;33m,\u001b[0m \u001b[0mfit_vectorizer\u001b[0m\u001b[1;33m=\u001b[0m\u001b[0mFalse\u001b[0m\u001b[1;33m)\u001b[0m\u001b[1;33m:\u001b[0m\u001b[1;33m\u001b[0m\u001b[0m\n\u001b[1;32m---> 87\u001b[1;33m         \u001b[0mXpos\u001b[0m \u001b[1;33m=\u001b[0m \u001b[0mself\u001b[0m\u001b[1;33m.\u001b[0m\u001b[0m_data_matrix\u001b[0m\u001b[1;33m(\u001b[0m\u001b[0miterable_pos\u001b[0m\u001b[1;33m,\u001b[0m \u001b[0mfit_vectorizer\u001b[0m\u001b[1;33m=\u001b[0m\u001b[0mfit_vectorizer\u001b[0m\u001b[1;33m)\u001b[0m\u001b[1;33m\u001b[0m\u001b[0m\n\u001b[0m\u001b[0;32m     88\u001b[0m         \u001b[0mXneg\u001b[0m \u001b[1;33m=\u001b[0m \u001b[0mself\u001b[0m\u001b[1;33m.\u001b[0m\u001b[0m_data_matrix\u001b[0m\u001b[1;33m(\u001b[0m\u001b[0miterable_neg\u001b[0m\u001b[1;33m,\u001b[0m \u001b[0mfit_vectorizer\u001b[0m\u001b[1;33m=\u001b[0m\u001b[0mFalse\u001b[0m\u001b[1;33m)\u001b[0m\u001b[1;33m\u001b[0m\u001b[0m\n\u001b[0;32m     89\u001b[0m         \u001b[1;32mreturn\u001b[0m \u001b[0mself\u001b[0m\u001b[1;33m.\u001b[0m\u001b[0m_assemble_data_matrix\u001b[0m\u001b[1;33m(\u001b[0m\u001b[0mXpos\u001b[0m\u001b[1;33m,\u001b[0m \u001b[0mXneg\u001b[0m\u001b[1;33m)\u001b[0m\u001b[1;33m\u001b[0m\u001b[0m\n",
      "\u001b[1;32m/home/liconj/proj/thesis/EDeN/eden/model.py\u001b[0m in \u001b[0;36m_data_matrix\u001b[1;34m(self, iterable, fit_vectorizer)\u001b[0m\n\u001b[0;32m     76\u001b[0m                                 \u001b[0mn_blocks\u001b[0m\u001b[1;33m=\u001b[0m\u001b[0mself\u001b[0m\u001b[1;33m.\u001b[0m\u001b[0mpre_processor_n_blocks\u001b[0m\u001b[1;33m,\u001b[0m\u001b[1;33m\u001b[0m\u001b[0m\n\u001b[0;32m     77\u001b[0m                                 \u001b[0mblock_size\u001b[0m\u001b[1;33m=\u001b[0m\u001b[0mself\u001b[0m\u001b[1;33m.\u001b[0m\u001b[0mpre_processor_block_size\u001b[0m\u001b[1;33m,\u001b[0m\u001b[1;33m\u001b[0m\u001b[0m\n\u001b[1;32m---> 78\u001b[1;33m                                 n_jobs=self.pre_processor_n_jobs)\n\u001b[0m\u001b[0;32m     79\u001b[0m         \u001b[0mgraphs\u001b[0m\u001b[1;33m,\u001b[0m \u001b[0mgraphs_\u001b[0m \u001b[1;33m=\u001b[0m \u001b[0mtee\u001b[0m\u001b[1;33m(\u001b[0m\u001b[0mgraphs\u001b[0m\u001b[1;33m)\u001b[0m\u001b[1;33m\u001b[0m\u001b[0m\n\u001b[0;32m     80\u001b[0m         \u001b[0mself\u001b[0m\u001b[1;33m.\u001b[0m\u001b[0mvectorizer\u001b[0m\u001b[1;33m.\u001b[0m\u001b[0mset_params\u001b[0m\u001b[1;33m(\u001b[0m\u001b[1;33m**\u001b[0m\u001b[0mself\u001b[0m\u001b[1;33m.\u001b[0m\u001b[0mvectorizer_args\u001b[0m\u001b[1;33m)\u001b[0m\u001b[1;33m\u001b[0m\u001b[0m\n",
      "\u001b[1;32m/home/liconj/proj/thesis/EDeN/eden/util/__init__.py\u001b[0m in \u001b[0;36mmp_pre_process\u001b[1;34m(iterable, pre_processor, pre_processor_args, n_blocks, block_size, n_jobs)\u001b[0m\n\u001b[0;32m    130\u001b[0m     \u001b[1;32mprint\u001b[0m \u001b[1;34m\"pre_processor in mp_pre_process is of type \"\u001b[0m \u001b[1;33m+\u001b[0m \u001b[0mstr\u001b[0m\u001b[1;33m(\u001b[0m\u001b[0mtype\u001b[0m\u001b[1;33m(\u001b[0m\u001b[0mpre_processor\u001b[0m\u001b[1;33m)\u001b[0m\u001b[1;33m)\u001b[0m\u001b[1;33m\u001b[0m\u001b[0m\n\u001b[0;32m    131\u001b[0m     \u001b[1;32mif\u001b[0m \u001b[0mn_jobs\u001b[0m \u001b[1;33m==\u001b[0m \u001b[1;36m1\u001b[0m\u001b[1;33m:\u001b[0m\u001b[1;33m\u001b[0m\u001b[0m\n\u001b[1;32m--> 132\u001b[1;33m         \u001b[1;32mreturn\u001b[0m \u001b[0mpre_processor\u001b[0m\u001b[1;33m(\u001b[0m\u001b[0miterable\u001b[0m\u001b[1;33m,\u001b[0m \u001b[1;33m**\u001b[0m\u001b[0mpre_processor_args\u001b[0m\u001b[1;33m)\u001b[0m\u001b[1;33m\u001b[0m\u001b[0m\n\u001b[0m\u001b[0;32m    133\u001b[0m     \u001b[1;32melse\u001b[0m\u001b[1;33m:\u001b[0m\u001b[1;33m\u001b[0m\u001b[0m\n\u001b[0;32m    134\u001b[0m         \u001b[1;32mreturn\u001b[0m \u001b[0mmultiprocess_pre_process\u001b[0m\u001b[1;33m(\u001b[0m\u001b[0miterable\u001b[0m\u001b[1;33m,\u001b[0m \u001b[0mpre_processor\u001b[0m\u001b[1;33m=\u001b[0m\u001b[0mpre_processor\u001b[0m\u001b[1;33m,\u001b[0m \u001b[0mpre_processor_args\u001b[0m\u001b[1;33m=\u001b[0m\u001b[0mpre_processor_args\u001b[0m\u001b[1;33m,\u001b[0m \u001b[0mn_blocks\u001b[0m\u001b[1;33m=\u001b[0m\u001b[0mn_blocks\u001b[0m\u001b[1;33m,\u001b[0m \u001b[0mblock_size\u001b[0m\u001b[1;33m=\u001b[0m\u001b[0mblock_size\u001b[0m\u001b[1;33m,\u001b[0m \u001b[0mn_jobs\u001b[0m\u001b[1;33m=\u001b[0m\u001b[0mn_jobs\u001b[0m\u001b[1;33m)\u001b[0m\u001b[1;33m\u001b[0m\u001b[0m\n",
      "\u001b[1;31mTypeError\u001b[0m: 'NoneType' object is not callable"
     ]
    }
   ],
   "source": [
    "#%%time\n",
    "\n",
    "model_fname='AID%s.model'%AID\n",
    "fitted_model = train_obabel_model(active_fname, inactive_fname, model_fname=model_fname, \n",
    "                           n_iter=1, \n",
    "                           active_set_size=500, \n",
    "                           n_active_learning_iterations=4, \n",
    "                           threshold=1, \n",
    "                           train_test_split=0.8, \n",
    "                           verbose=1)"
   ]
  },
  {
   "cell_type": "code",
   "execution_count": null,
   "metadata": {
    "collapsed": false
   },
   "outputs": [],
   "source": [
    "print fitted_model.get_parameters()"
   ]
  },
  {
   "cell_type": "code",
   "execution_count": null,
   "metadata": {
    "collapsed": false
   },
   "outputs": [],
   "source": [
    "from eden.converter.molecule import obabel\n",
    "graphs=obabel.obabel_to_eden(active_fname,file_type = 'sdf')\n",
    "from itertools import islice\n",
    "graphs = islice(graphs, 3)\n",
    "from eden.util.display import draw_graph\n",
    "for graph in graphs:  draw_graph(graph, size=12, node_size=400, node_border=1, vertex_label='hlabel')"
   ]
  },
  {
   "cell_type": "markdown",
   "metadata": {},
   "source": [
    "#Old"
   ]
  },
  {
   "cell_type": "code",
   "execution_count": 5,
   "metadata": {
    "collapsed": false
   },
   "outputs": [
    {
     "name": "stdout",
     "output_type": "stream",
     "text": [
      "Working on positive instances in AID2401_active.sdf and negative instances in AID2401_inactive.sdf\n"
     ]
    }
   ],
   "source": [
    "from eden.graph import Vectorizer\n",
    "vectorizer=Vectorizer(complexity=5, nbits=14)\n",
    "from eden.converter.molecule import obabel\n",
    "print 'Working on positive instances in %s and negative instances in %s' % (active_fname, inactive_fname)\n",
    "active_graphs=obabel.obabel_to_eden(active_fname)\n",
    "inactive_graphs=obabel.obabel_to_eden(inactive_fname)"
   ]
  },
  {
   "cell_type": "code",
   "execution_count": 6,
   "metadata": {
    "collapsed": false
   },
   "outputs": [
    {
     "name": "stdout",
     "output_type": "stream",
     "text": [
      "Classifier:\n",
      "SGDClassifier(alpha=0.000244367424549, average=True, class_weight='auto',\n",
      "       epsilon=0.1, eta0=0.391312945136, fit_intercept=True, l1_ratio=0.15,\n",
      "       learning_rate='constant', loss='hinge', n_iter=29, n_jobs=-1,\n",
      "       penalty='l2', power_t=0.163214708985, random_state=None,\n",
      "       shuffle=True, verbose=0, warm_start=False)\n",
      "--------------------------------------------------------------------------------\n",
      "Predictive performance:\n",
      "            accuracy: 0.844 +- 0.051\n",
      "           precision: 0.726 +- 0.133\n",
      "              recall: 0.591 +- 0.119\n",
      "                  f1: 0.642 +- 0.102\n",
      "   average_precision: 0.722 +- 0.143\n",
      "             roc_auc: 0.867 +- 0.072\n",
      "--------------------------------------------------------------------------------\n"
     ]
    },
    {
     "data": {
      "text/plain": [
       "SGDClassifier(alpha=0.000244367424549, average=True, class_weight='auto',\n",
       "       epsilon=0.1, eta0=0.391312945136, fit_intercept=True, l1_ratio=0.15,\n",
       "       learning_rate='constant', loss='hinge', n_iter=29, n_jobs=-1,\n",
       "       penalty='l2', power_t=0.163214708985, random_state=None,\n",
       "       shuffle=True, verbose=0, warm_start=False)"
      ]
     },
     "execution_count": 6,
     "metadata": {},
     "output_type": "execute_result"
    }
   ],
   "source": [
    "from eden.util import fit\n",
    "fit(active_graphs,inactive_graphs, vectorizer)"
   ]
  },
  {
   "cell_type": "code",
   "execution_count": 8,
   "metadata": {
    "collapsed": false
   },
   "outputs": [
    {
     "name": "stdout",
     "output_type": "stream",
     "text": [
      "CPU times: user 8.13 s, sys: 875 ms, total: 9 s\n",
      "Wall time: 26.6 s\n"
     ]
    }
   ],
   "source": [
    "%%time\n",
    "from eden import vectorize\n",
    "active_X = vectorize(active_graphs,vectorizer)\n",
    "inactive_X = vectorize(inactive_graphs,vectorizer)\n",
    "from scipy.sparse import vstack\n",
    "import numpy as np\n",
    "X=vstack( [active_X,inactive_X] )\n",
    "yp=[1]*active_X.shape[0]\n",
    "yn=[-1]*inactive_X.shape[0]\n",
    "y=np.array(yp+yn)"
   ]
  },
  {
   "cell_type": "code",
   "execution_count": 9,
   "metadata": {
    "collapsed": false
   },
   "outputs": [
    {
     "name": "stdout",
     "output_type": "stream",
     "text": [
      "AUC ROC: 0.8647 +- 0.0742\n",
      "CPU times: user 719 ms, sys: 148 ms, total: 867 ms\n",
      "Wall time: 866 ms\n"
     ]
    }
   ],
   "source": [
    "%%time\n",
    "from sklearn.linear_model import SGDClassifier\n",
    "from sklearn import cross_validation\n",
    "\n",
    "#induce a predictive model\n",
    "predictor = SGDClassifier(class_weight = 'auto', shuffle = True, average=True)\n",
    "scores = cross_validation.cross_val_score(predictor, X, y,cv=10, scoring='roc_auc')\n",
    "print('AUC ROC: %.4f +- %.4f' % (np.mean(scores),np.std(scores)))"
   ]
  },
  {
   "cell_type": "code",
   "execution_count": 10,
   "metadata": {
    "collapsed": false
   },
   "outputs": [
    {
     "name": "stdout",
     "output_type": "stream",
     "text": [
      "0.534820064485\n",
      "CPU times: user 15.9 s, sys: 443 ms, total: 16.3 s\n",
      "Wall time: 13.3 s\n"
     ]
    }
   ],
   "source": [
    "%%time\n",
    "from sklearn.decomposition import TruncatedSVD\n",
    "svd = TruncatedSVD(n_components=500, random_state=42)\n",
    "Xd=svd.fit_transform(X) \n",
    "print(svd.explained_variance_ratio_.sum()) "
   ]
  },
  {
   "cell_type": "code",
   "execution_count": 11,
   "metadata": {
    "collapsed": false
   },
   "outputs": [
    {
     "name": "stdout",
     "output_type": "stream",
     "text": [
      "AUC ROC: 0.8606 +- 0.0690\n",
      "CPU times: user 202 ms, sys: 24.2 ms, total: 226 ms\n",
      "Wall time: 226 ms\n"
     ]
    }
   ],
   "source": [
    "%%time\n",
    "from sklearn.linear_model import SGDClassifier\n",
    "from sklearn import cross_validation\n",
    "\n",
    "#induce a predictive model\n",
    "predictor = SGDClassifier(class_weight = 'auto', shuffle = True, average=True)\n",
    "scores = cross_validation.cross_val_score(predictor, Xd, y,cv=10, scoring='roc_auc')\n",
    "print('AUC ROC: %.4f +- %.4f' % (np.mean(scores),np.std(scores)))"
   ]
  },
  {
   "cell_type": "code",
   "execution_count": null,
   "metadata": {
    "collapsed": false
   },
   "outputs": [],
   "source": []
  }
 ],
 "metadata": {
  "kernelspec": {
   "display_name": "Python 2",
   "language": "python",
   "name": "python2"
  },
  "language_info": {
   "codemirror_mode": {
    "name": "ipython",
    "version": 2
   },
   "file_extension": ".py",
   "mimetype": "text/x-python",
   "name": "python",
   "nbconvert_exporter": "python",
   "pygments_lexer": "ipython2",
   "version": "2.7.5"
  }
 },
 "nbformat": 4,
 "nbformat_minor": 0
}
