{
 "cells": [
  {
   "cell_type": "code",
   "execution_count": 1,
   "metadata": {
    "collapsed": false
   },
   "outputs": [],
   "source": [
    "%matplotlib inline\n",
    "%load_ext autoreload\n",
    "%autoreload 2"
   ]
  },
  {
   "cell_type": "code",
   "execution_count": 2,
   "metadata": {
    "collapsed": false
   },
   "outputs": [],
   "source": [
    "from eden.converter.molecule import obabel\n",
    "import networkx as nx\n",
    "import pybel\n",
    "import requests\n",
    "import os.path\n",
    "from itertools import tee\n",
    "from numpy.random import randint\n",
    "from numpy.random import uniform\n",
    "from eden.graph import Vectorizer\n",
    "from sklearn.linear_model import SGDClassifier\n",
    "import datetime, time\n",
    "from eden.util import random_bipartition_iter\n",
    "from eden.model import ActiveLearningBinaryClassificationModel"
   ]
  },
  {
   "cell_type": "markdown",
   "metadata": {},
   "source": [
    "This is where the data sets are defined:"
   ]
  },
  {
   "cell_type": "code",
   "execution_count": 3,
   "metadata": {
    "collapsed": false
   },
   "outputs": [],
   "source": [
    "AID=1905\n",
    "#AID=2401\n",
    "DATA_DIR = '/home/liconj/proj/thesis/EDeN/working_examples/data'\n",
    "active_fname=DATA_DIR + '/AID%s_active.sdf'%AID\n",
    "inactive_fname=DATA_DIR + '/AID%s_inactive.sdf'%AID"
   ]
  },
  {
   "cell_type": "code",
   "execution_count": 4,
   "metadata": {
    "collapsed": false
   },
   "outputs": [
    {
     "data": {
      "text/plain": [
       "'/home/liconj/proj/thesis/EDeN/working_examples/data/AID1905_active.sdf'"
      ]
     },
     "execution_count": 4,
     "metadata": {},
     "output_type": "execute_result"
    }
   ],
   "source": [
    "active_fname"
   ]
  },
  {
   "cell_type": "code",
   "execution_count": 5,
   "metadata": {
    "collapsed": true
   },
   "outputs": [],
   "source": [
    "def make_iterable(filename, file_format):\n",
    "    if file_format == 'sdf':\n",
    "        with open(filename) as f:\n",
    "            s = ''\n",
    "            for line in f:\n",
    "                if line.strip() != '$$$$':\n",
    "                    s = s + line\n",
    "                else:\n",
    "                    return_value = s + line\n",
    "                    s = ''\n",
    "                    yield return_value\n",
    "    elif file_format == 'smi':\n",
    "        with open(filename) as f:\n",
    "            for line in f:\n",
    "                yield line"
   ]
  },
  {
   "cell_type": "markdown",
   "metadata": {},
   "source": [
    "Functions for training and testing the model"
   ]
  },
  {
   "cell_type": "code",
   "execution_count": 7,
   "metadata": {
    "collapsed": false
   },
   "outputs": [],
   "source": [
    "model_fname = DATA_DIR + '/AID%s.model3d'%AID\n",
    "model_type = \"3d\"\n",
    "n_conf = 10\n",
    "n_iter = 10\n",
    "active_set_size = 5\n",
    "n_active_learning_iterations = 0\n",
    "threshold = 1\n",
    "train_test_split = 0.8\n",
    "verbosity = 1\n",
    "\n",
    "\n",
    "pre_processor_parameters={'k':randint(1, 10,size=n_iter),\n",
    "                          'threshold':randint(3, 10, size=n_iter),\n",
    "                          'model_type':[model_type],\n",
    "                          'n_conf':[n_conf]}\n",
    "\n",
    "def pre_processor(data, model_type=\"3d\", **kwargs):\n",
    "    # model_type = kwargs.get('mode', 'default')\n",
    "    if model_type == \"default\":\n",
    "        iterable = obabel.obabel_to_eden(data, **kwargs)\n",
    "    elif model_type == \"3d\":\n",
    "        iterable = obabel.obabel_to_eden3d(data, **kwargs)\n",
    "    return iterable\n",
    "\n",
    "\n",
    "\n",
    "vectorizer = Vectorizer()\n",
    "estimator = SGDClassifier(class_weight='auto', shuffle=True)\n",
    "\n",
    "# Make predictive model\n",
    "model = ActiveLearningBinaryClassificationModel(pre_processor,\n",
    "                                                estimator=estimator,\n",
    "                                                vectorizer=vectorizer,\n",
    "                                                n_jobs=2,\n",
    "                                                n_blocks = 10,\n",
    "                                                fit_vectorizer=True)"
   ]
  },
  {
   "cell_type": "code",
   "execution_count": 8,
   "metadata": {
    "collapsed": false
   },
   "outputs": [
    {
     "name": "stdout",
     "output_type": "stream",
     "text": [
      "# positives: 340  # negatives: 269 (0.1 sec 0:00:00.093296)\n"
     ]
    }
   ],
   "source": [
    "########\n",
    "# Create iterables from files\n",
    "########\n",
    "\n",
    "iterable_pos = make_iterable(active_fname, 'sdf')\n",
    "iterable_neg = make_iterable(inactive_fname, 'sdf')\n",
    "iterable_pos, iterable_pos_ = tee(iterable_pos)\n",
    "iterable_neg, iterable_neg_ = tee(iterable_neg)\n",
    "\n",
    "start = time.time()\n",
    "print('# positives: %d  # negatives: %d (%.1f sec %s)'%(sum(1 for x in iterable_pos_), sum(1 for x in iterable_neg_), time.time() - start, str(datetime.timedelta(seconds=(time.time() - start)))))\n",
    "\n",
    "\n",
    "iterable_pos, iterable_pos_ = tee(iterable_pos)\n",
    "iterable_neg, iterable_neg_ = tee(iterable_neg)\n",
    "\n",
    "# Split train/test\n",
    "iterable_pos_train, iterable_pos_test = random_bipartition_iter(iterable_pos, relative_size=train_test_split)\n",
    "iterable_neg_train, iterable_neg_test = random_bipartition_iter(iterable_neg, relative_size=train_test_split)"
   ]
  },
  {
   "cell_type": "code",
   "execution_count": 9,
   "metadata": {
    "collapsed": false
   },
   "outputs": [
    {
     "name": "stdout",
     "output_type": "stream",
     "text": [
      "\n",
      "Iteration: 1/10 (at 1925.1 sec; 0:32:05.107496)\n",
      "Best score (roc_auc): 0.616003 (0.677436 +- 0.061433)\n",
      "Instances: 4588 ; Features: 1048577 with an avg of 202 features per instance\n",
      "class: 1 count:2529 (0.55)\tclass: -1 count:2059 (0.45)\t\n",
      "CPU times: user 31min 41s, sys: 49.6 s, total: 32min 31s\n",
      "Wall time: 1h 5min 8s\n"
     ]
    }
   ],
   "source": [
    "%%time\n",
    "# Optimize hyperparameters and fit model\n",
    "vectorizer_parameters={'complexity':[2,3,4],\n",
    "                       'discretization_size':randint(2, 3,size=n_iter),\n",
    "                       'discretization_dimension':randint(2, 3,size=n_iter)}\n",
    "\n",
    "estimator_parameters={'n_iter':randint(5, 100, size=n_iter),\n",
    "                      'penalty':['l1','l2','elasticnet'],\n",
    "                      'l1_ratio':uniform(0.1,0.9, size=n_iter),\n",
    "                      'loss':['hinge', 'log', 'modified_huber', 'squared_hinge', 'perceptron'],\n",
    "                      'power_t':uniform(0.1, size=n_iter),\n",
    "                      'alpha': [10**x for x in range(-8,-2)],\n",
    "                      'eta0': [10**x for x in range(-4,-1)],\n",
    "                      'learning_rate': [\"invscaling\", \"constant\", \"optimal\"]}\n",
    "\n",
    "model.optimize(iterable_pos_train, iterable_neg_train,\n",
    "               model_name=model_fname,\n",
    "               n_active_learning_iterations=n_active_learning_iterations,\n",
    "               size_positive=-1,\n",
    "               size_negative=active_set_size,\n",
    "               n_iter=n_iter, cv=3, verbosity=verbosity,\n",
    "               pre_processor_parameters=pre_processor_parameters,\n",
    "               vectorizer_parameters=vectorizer_parameters,\n",
    "               estimator_parameters=estimator_parameters)"
   ]
  },
  {
   "cell_type": "code",
   "execution_count": null,
   "metadata": {
    "collapsed": false
   },
   "outputs": [],
   "source": [
    "%%time\n",
    "# Estimate predictive performance\n",
    "model.estimate( iterable_pos_test, iterable_neg_test )"
   ]
  },
  {
   "cell_type": "code",
   "execution_count": 16,
   "metadata": {
    "collapsed": false
   },
   "outputs": [],
   "source": [
    "def test_obabel_model(fname, model_type = \"default\", model_fname=None):\n",
    "    from eden.model import ActiveLearningBinaryClassificationModel\n",
    "\n",
    "    model = ActiveLearningBinaryClassificationModel()\n",
    "    model.load(model_fname)\n",
    "\n",
    "    #create iterable from files\n",
    "    from eden.converter.molecule import obabel\n",
    "    if model_type == \"default\":\n",
    "        iterable=obabel.obabel_to_eden(fname)\n",
    "    elif model_type == \"3d\":\n",
    "        iterable=obabel.obabel_to_eden3d(fname)\n",
    "\n",
    "    predictions= model.decision_function( iterable )\n",
    "\n",
    "    return predictions"
   ]
  }
 ],
 "metadata": {
  "kernelspec": {
   "display_name": "Python 2",
   "language": "python",
   "name": "python2"
  },
  "language_info": {
   "codemirror_mode": {
    "name": "ipython",
    "version": 2
   },
   "file_extension": ".py",
   "mimetype": "text/x-python",
   "name": "python",
   "nbconvert_exporter": "python",
   "pygments_lexer": "ipython2",
   "version": "2.7.5"
  }
 },
 "nbformat": 4,
 "nbformat_minor": 0
}
