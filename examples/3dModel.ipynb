{
 "cells": [
  {
   "cell_type": "code",
   "execution_count": 39,
   "metadata": {
    "collapsed": false
   },
   "outputs": [
    {
     "name": "stdout",
     "output_type": "stream",
     "text": [
      "The autoreload extension is already loaded. To reload it, use:\n",
      "  %reload_ext autoreload\n"
     ]
    }
   ],
   "source": [
    "%matplotlib inline\n",
    "%load_ext autoreload\n",
    "%autoreload 2"
   ]
  },
  {
   "cell_type": "code",
   "execution_count": 40,
   "metadata": {
    "collapsed": false
   },
   "outputs": [],
   "source": [
    "from eden.converter.molecule import obabel\n",
    "import networkx as nx\n",
    "import pybel\n",
    "import requests\n",
    "import os.path"
   ]
  },
  {
   "cell_type": "raw",
   "metadata": {},
   "source": [
    "Get the data from PubChem server:"
   ]
  },
  {
   "cell_type": "code",
   "execution_count": 41,
   "metadata": {
    "collapsed": false
   },
   "outputs": [
    {
     "name": "stdout",
     "output_type": "stream",
     "text": [
      "CPU times: user 13 µs, sys: 2 µs, total: 15 µs\n",
      "Wall time: 21 µs\n"
     ]
    }
   ],
   "source": [
    "%%time\n",
    "AID=825\n",
    "#AID=2401\n",
    "#DATA_DIR = '/Volumes/seagate/thesis/examples/data'\n",
    "DATA_DIR = '/Users/jl/uni-freiburg/thesis/EDeN/examples/3Dmodel/data'\n",
    "active_fname=DATA_DIR + '/AID%s_active.smi'%AID\n",
    "inactive_fname=DATA_DIR + '/AID%s_inactive.smi'%AID"
   ]
  },
  {
   "cell_type": "code",
   "execution_count": 42,
   "metadata": {
    "collapsed": false
   },
   "outputs": [
    {
     "data": {
      "text/plain": [
       "'/Users/jl/uni-freiburg/thesis/EDeN/examples/3Dmodel/data/AID825_active.smi'"
      ]
     },
     "execution_count": 42,
     "metadata": {},
     "output_type": "execute_result"
    }
   ],
   "source": [
    "active_fname"
   ]
  },
  {
   "cell_type": "code",
   "execution_count": 43,
   "metadata": {
    "collapsed": true
   },
   "outputs": [],
   "source": [
    "def make_iterable(filename):\n",
    "    with open(filename) as f:\n",
    "        for line in f:\n",
    "            yield line.strip()"
   ]
  },
  {
   "cell_type": "markdown",
   "metadata": {},
   "source": [
    "Functions for training and testing the model"
   ]
  },
  {
   "cell_type": "code",
   "execution_count": 44,
   "metadata": {
    "collapsed": false
   },
   "outputs": [],
   "source": [
    "import datetime, time\n",
    "def train_obabel_model(iterable_pos, iterable_neg, data_dir,\n",
    "                       model_type = \"default\",\n",
    "                       model_fname=None, n_iter=40, active_set_size=1000, \n",
    "                       n_active_learning_iterations=3, threshold=1, train_test_split=0.7, \n",
    "                       verbose=False):\n",
    "    \n",
    "    from numpy.random import randint\n",
    "    from numpy.random import uniform\n",
    "    \n",
    "    \n",
    "    #### Create the obabel converter that is to be used inside the preprocessor (???) ######\n",
    "    converter = obabel.OBabelConverter()\n",
    "    \n",
    "    # this will be passed as an argument to the model later on\n",
    "    def pre_processor(data, model_type=\"default\", converter=None, **kwargs):\n",
    "\n",
    "        #### Use the model_type variable from outside (?) ####\n",
    "        # model_type = kwargs.get('mode', 'default')\n",
    "\n",
    "        if model_type == \"default\":\n",
    "            iterable = converter.obabel_to_eden(data, **kwargs)\n",
    "        elif model_type == \"3d\":\n",
    "            iterable = converter.obabel_to_eden3d(data, **kwargs)\n",
    "        return iterable\n",
    "    \n",
    "    from eden.graph import Vectorizer\n",
    "    vectorizer = Vectorizer()\n",
    "\n",
    "    from sklearn.linear_model import SGDClassifier\n",
    "    estimator = SGDClassifier(class_weight='auto', shuffle=True)\n",
    "\n",
    "    #######3\n",
    "    #create iterable from files\n",
    "    ########\n",
    "    \n",
    "    from itertools import tee\n",
    "    iterable_pos, iterable_pos_ = tee(iterable_pos)\n",
    "    iterable_neg, iterable_neg_ = tee(iterable_neg)\n",
    "    \n",
    "    import time\n",
    "    start = time.time()\n",
    "    print('# positives: %d  # negatives: %d (%.1f sec %s)'%(sum(1 for x in iterable_pos_), sum(1 for x in iterable_neg_), time.time() - start, str(datetime.timedelta(seconds=(time.time() - start)))))\n",
    "    \n",
    "    iterable_pos, iterable_pos_ = tee(iterable_pos)\n",
    "    iterable_neg, iterable_neg_ = tee(iterable_neg)\n",
    "    \n",
    "    #split train/test\n",
    "    from eden.util import random_bipartition_iter\n",
    "    iterable_pos_train, iterable_pos_test = random_bipartition_iter(iterable_pos, relative_size=train_test_split)\n",
    "    iterable_neg_train, iterable_neg_test = random_bipartition_iter(iterable_neg, relative_size=train_test_split)\n",
    "\n",
    "\n",
    "\n",
    "    #make predictive model\n",
    "    from eden.model import ActiveLearningBinaryClassificationModel\n",
    "    model = ActiveLearningBinaryClassificationModel( pre_processor, estimator=estimator, vectorizer=vectorizer )\n",
    "\n",
    "    #optimize hyperparameters and fit model\n",
    "\n",
    "    pre_processor_parameters={'k':randint(1, 10,size=n_iter),\n",
    "                             'converter':[converter],\n",
    "                             'model_type':['default']} \n",
    "    \n",
    "    #print \"pre processor parameters: \" + str(pre_processor_parameters)\n",
    "    vectorizer_parameters={'complexity':[2,3,4],  \n",
    "                           'discretization_size':randint(3, 100,size=n_iter),                     \n",
    "                           'discretization_dimension':randint(3, 100,size=n_iter)}\n",
    "    \n",
    "    estimator_parameters={'n_iter':randint(5, 100, size=n_iter),\n",
    "                          'penalty':['l1','l2','elasticnet'],\n",
    "                          'l1_ratio':uniform(0.1,0.9, size=n_iter), \n",
    "                          'loss':['hinge', 'log', 'modified_huber', 'squared_hinge', 'perceptron'],\n",
    "                          'power_t':uniform(0.1, size=n_iter),\n",
    "                          'alpha': [10**x for x in range(-8,-2)],\n",
    "                          'eta0': [10**x for x in range(-4,-1)],\n",
    "                          'learning_rate': [\"invscaling\", \"constant\", \"optimal\"]}\n",
    "\n",
    "    print \"calling optimizer..\"\n",
    "    model.optimize(iterable_pos_train, iterable_neg_train, \n",
    "                   model_name=model_fname,\n",
    "                   fit_vectorizer=True,\n",
    "                   n_active_learning_iterations=n_active_learning_iterations,\n",
    "                   size_positive=-1,\n",
    "                   size_negative=active_set_size,\n",
    "                   n_iter=n_iter, cv=3, n_jobs=1, verbose=verbose,\n",
    "                   pre_processor_parameters=pre_processor_parameters, \n",
    "                   vectorizer_parameters=vectorizer_parameters, \n",
    "                   estimator_parameters=estimator_parameters)\n",
    "  \n",
    "    #estimate predictive performance\n",
    "    #model.estimate( iterable_pos_test, iterable_neg_test, cv=5 )\n",
    "    # Had to change this call, estimate has no cv parameter\n",
    "    model.estimate( iterable_pos_test, iterable_neg_test )\n",
    "    \n",
    "    return model\n",
    "\n",
    "def test_obabel_model(fname, model_type = \"default\", model_fname=None):\n",
    "    from eden.model import ActiveLearningBinaryClassificationModel\n",
    "\n",
    "    model = ActiveLearningBinaryClassificationModel()\n",
    "    model.load(model_fname)\n",
    "\n",
    "    #create iterable from files\n",
    "    from eden.converter.molecule import obabel\n",
    "    if model_type == \"default\":\n",
    "        iterable=obabel.obabel_to_eden(fname)\n",
    "    elif model_type == \"3d\":\n",
    "        iterable=obabel.obabel_to_eden3d(fname)\n",
    "    \n",
    "    predictions= model.decision_function( iterable )\n",
    "        \n",
    "    return predictions"
   ]
  },
  {
   "cell_type": "markdown",
   "metadata": {},
   "source": [
    "Train the models"
   ]
  },
  {
   "cell_type": "markdown",
   "metadata": {},
   "source": [
    "**3D model**\n",
    "---"
   ]
  },
  {
   "cell_type": "code",
   "execution_count": 45,
   "metadata": {
    "collapsed": false,
    "scrolled": true
   },
   "outputs": [
    {
     "name": "stdout",
     "output_type": "stream",
     "text": [
      "# positives: 5  # negatives: 5 (0.0 sec 0:00:00.000305)\n",
      "calling optimizer..\n",
      "--------------------------------------------------------------------------------\n",
      "Parameters range:\n",
      "Pre_processor:\n",
      "{'converter': [<eden.converter.molecule.obabel.OBabelConverter object at 0x10b0bd9d0>],\n",
      " 'k': array([7, 2, 6, 2, 3]),\n",
      " 'model_type': ['default']}\n",
      "Vectorizer:\n",
      "{'complexity': [2, 3, 4],\n",
      " 'discretization_dimension': array([89, 46, 66, 19, 73]),\n",
      " 'discretization_size': array([68, 64, 27, 55, 76])}\n",
      "Estimator:\n",
      "{'alpha': [1e-08, 1e-07, 1e-06, 1e-05, 0.0001, 0.001],\n",
      " 'eta0': [0.0001, 0.001, 0.01],\n",
      " 'l1_ratio': array([ 0.4833102 ,  0.23601488,  0.6898897 ,  0.73678389,  0.18946831]),\n",
      " 'learning_rate': ['invscaling', 'constant', 'optimal'],\n",
      " 'loss': ['hinge', 'log', 'modified_huber', 'squared_hinge', 'perceptron'],\n",
      " 'n_iter': array([40, 16, 78, 94, 69]),\n",
      " 'penalty': ['l1', 'l2', 'elasticnet'],\n",
      " 'power_t': array([ 0.45764911,  0.59500274,  0.47449233,  0.25741428,  0.63303516])}\n",
      "--------------------------------------------------------------------------------\n",
      "\n",
      "Failed iteration: 1/5 (at 0.0 sec; 0:00:00.000602)\n",
      "Inappropriate argument type.\n",
      "coercing to Unicode: need string or buffer, itertools.tee found\n",
      "Failed with the following setting:\n",
      "--------------------------------------------------------------------------------\n",
      "Current parameters:\n",
      "Pre_processor:\n",
      "{'converter': <eden.converter.molecule.obabel.OBabelConverter object at 0x10b0bd9d0>,\n",
      " 'k': 7,\n",
      " 'model_type': 'default'}\n",
      "Vectorizer:\n",
      "{'complexity': 3, 'discretization_dimension': 89, 'discretization_size': 55}\n",
      "Estimator:\n",
      "{'alpha': 0.0001,\n",
      " 'eta0': 0.001,\n",
      " 'l1_ratio': 0.73678388761495561,\n",
      " 'learning_rate': 'optimal',\n",
      " 'loss': 'modified_huber',\n",
      " 'n_iter': 69,\n",
      " 'penalty': 'l1',\n",
      " 'power_t': 0.59500273694331696}\n",
      "--------------------------------------------------------------------------------\n",
      "...continuing\n",
      "\n",
      "Failed iteration: 2/5 (at 0.0 sec; 0:00:00.002680)\n",
      "Inappropriate argument type.\n",
      "coercing to Unicode: need string or buffer, itertools.tee found\n",
      "Failed with the following setting:\n",
      "--------------------------------------------------------------------------------\n",
      "Current parameters:\n",
      "Pre_processor:\n",
      "{'converter': <eden.converter.molecule.obabel.OBabelConverter object at 0x10b0bd9d0>,\n",
      " 'k': 2,\n",
      " 'model_type': 'default'}\n",
      "Vectorizer:\n",
      "{'complexity': 3, 'discretization_dimension': 46, 'discretization_size': 68}\n",
      "Estimator:\n",
      "{'alpha': 1e-07,\n",
      " 'eta0': 0.01,\n",
      " 'l1_ratio': 0.48331020006972358,\n",
      " 'learning_rate': 'constant',\n",
      " 'loss': 'hinge',\n",
      " 'n_iter': 94,\n",
      " 'penalty': 'l2',\n",
      " 'power_t': 0.63303516315126551}\n",
      "--------------------------------------------------------------------------------\n",
      "...continuing\n",
      "--------------------------------------------------------------------------------\n",
      "Parameters range:\n",
      "Pre_processor:\n",
      "{'converter': [<eden.converter.molecule.obabel.OBabelConverter object at 0x10b0bd9d0>],\n",
      " 'k': array([7, 2, 6, 2, 3]),\n",
      " 'model_type': ['default']}\n",
      "Vectorizer:\n",
      "{'complexity': [2, 3, 4],\n",
      " 'discretization_dimension': array([89, 46, 66, 19, 73]),\n",
      " 'discretization_size': array([68, 64, 27, 55, 76])}\n",
      "Estimator:\n",
      "{'alpha': [1e-08, 1e-07, 1e-06, 1e-05, 0.0001, 0.001],\n",
      " 'eta0': [0.0001, 0.001, 0.01],\n",
      " 'l1_ratio': array([ 0.4833102 ,  0.23601488,  0.6898897 ,  0.73678389,  0.18946831]),\n",
      " 'learning_rate': ['invscaling', 'constant', 'optimal'],\n",
      " 'loss': ['hinge', 'log', 'modified_huber', 'squared_hinge', 'perceptron'],\n",
      " 'n_iter': array([40, 16, 78, 94, 69]),\n",
      " 'penalty': ['l1', 'l2', 'elasticnet'],\n",
      " 'power_t': array([ 0.45764911,  0.59500274,  0.47449233,  0.25741428,  0.63303516])}\n",
      "--------------------------------------------------------------------------------\n",
      "\n",
      "Failed iteration: 3/5 (at 0.0 sec; 0:00:00.018418)\n",
      "Inappropriate argument type.\n",
      "coercing to Unicode: need string or buffer, itertools.tee found\n",
      "Failed with the following setting:\n",
      "--------------------------------------------------------------------------------\n",
      "Current parameters:\n",
      "Pre_processor:\n",
      "{'converter': <eden.converter.molecule.obabel.OBabelConverter object at 0x10b0bd9d0>,\n",
      " 'k': 6,\n",
      " 'model_type': 'default'}\n",
      "Vectorizer:\n",
      "{'complexity': 2, 'discretization_dimension': 73, 'discretization_size': 76}\n",
      "Estimator:\n",
      "{'alpha': 1e-07,\n",
      " 'eta0': 0.0001,\n",
      " 'l1_ratio': 0.23601487625133713,\n",
      " 'learning_rate': 'invscaling',\n",
      " 'loss': 'modified_huber',\n",
      " 'n_iter': 78,\n",
      " 'penalty': 'l2',\n",
      " 'power_t': 0.59500273694331696}\n",
      "--------------------------------------------------------------------------------\n",
      "...continuing\n",
      "\n",
      "Failed iteration: 4/5 (at 0.0 sec; 0:00:00.021388)\n",
      "Inappropriate argument type.\n",
      "coercing to Unicode: need string or buffer, itertools.tee found\n",
      "Failed with the following setting:\n",
      "--------------------------------------------------------------------------------\n",
      "Current parameters:\n",
      "Pre_processor:\n",
      "{'converter': <eden.converter.molecule.obabel.OBabelConverter object at 0x10b0bd9d0>,\n",
      " 'k': 6,\n",
      " 'model_type': 'default'}\n",
      "Vectorizer:\n",
      "{'complexity': 4, 'discretization_dimension': 66, 'discretization_size': 27}\n",
      "Estimator:\n",
      "{'alpha': 0.0001,\n",
      " 'eta0': 0.01,\n",
      " 'l1_ratio': 0.18946831075646156,\n",
      " 'learning_rate': 'optimal',\n",
      " 'loss': 'modified_huber',\n",
      " 'n_iter': 16,\n",
      " 'penalty': 'l1',\n",
      " 'power_t': 0.25741427861071059}\n",
      "--------------------------------------------------------------------------------\n",
      "...continuing\n",
      "\n",
      "Failed iteration: 5/5 (at 0.0 sec; 0:00:00.023901)\n",
      "Inappropriate argument type.\n",
      "coercing to Unicode: need string or buffer, itertools.tee found\n",
      "Failed with the following setting:\n",
      "--------------------------------------------------------------------------------\n",
      "Current parameters:\n",
      "Pre_processor:\n",
      "{'converter': <eden.converter.molecule.obabel.OBabelConverter object at 0x10b0bd9d0>,\n",
      " 'k': 6,\n",
      " 'model_type': 'default'}\n",
      "Vectorizer:\n",
      "{'complexity': 4, 'discretization_dimension': 46, 'discretization_size': 27}\n",
      "Estimator:\n",
      "{'alpha': 0.0001,\n",
      " 'eta0': 0.0001,\n",
      " 'l1_ratio': 0.73678388761495561,\n",
      " 'learning_rate': 'optimal',\n",
      " 'loss': 'modified_huber',\n",
      " 'n_iter': 16,\n",
      " 'penalty': 'l1',\n",
      " 'power_t': 0.47449232932339003}\n",
      "--------------------------------------------------------------------------------\n",
      "...continuing\n",
      "Classifier:\n",
      "None\n",
      "--------------------------------------------------------------------------------\n"
     ]
    },
    {
     "ename": "AttributeError",
     "evalue": "'NoneType' object has no attribute 'set_params'",
     "output_type": "error",
     "traceback": [
      "\u001b[0;31m---------------------------------------------------------------------------\u001b[0m",
      "\u001b[0;31mAttributeError\u001b[0m                            Traceback (most recent call last)",
      "\u001b[0;32m<ipython-input-45-0bf73742eaff>\u001b[0m in \u001b[0;36m<module>\u001b[0;34m()\u001b[0m\n\u001b[1;32m     12\u001b[0m                            \u001b[0mthreshold\u001b[0m\u001b[0;34m=\u001b[0m\u001b[0;36m1\u001b[0m\u001b[0;34m,\u001b[0m\u001b[0;34m\u001b[0m\u001b[0m\n\u001b[1;32m     13\u001b[0m                            \u001b[0mtrain_test_split\u001b[0m\u001b[0;34m=\u001b[0m\u001b[0;36m0.5\u001b[0m\u001b[0;34m,\u001b[0m\u001b[0;34m\u001b[0m\u001b[0m\n\u001b[0;32m---> 14\u001b[0;31m                            verbose=2)\n\u001b[0m",
      "\u001b[0;32m<ipython-input-44-7e30f5830d38>\u001b[0m in \u001b[0;36mtrain_obabel_model\u001b[0;34m(iterable_pos, iterable_neg, data_dir, model_type, model_fname, n_iter, active_set_size, n_active_learning_iterations, threshold, train_test_split, verbose)\u001b[0m\n\u001b[1;32m     92\u001b[0m     \u001b[0;31m#model.estimate( iterable_pos_test, iterable_neg_test, cv=5 )\u001b[0m\u001b[0;34m\u001b[0m\u001b[0;34m\u001b[0m\u001b[0m\n\u001b[1;32m     93\u001b[0m     \u001b[0;31m# Had to change this call, estimate has no cv parameter\u001b[0m\u001b[0;34m\u001b[0m\u001b[0;34m\u001b[0m\u001b[0m\n\u001b[0;32m---> 94\u001b[0;31m     \u001b[0mmodel\u001b[0m\u001b[0;34m.\u001b[0m\u001b[0mestimate\u001b[0m\u001b[0;34m(\u001b[0m \u001b[0miterable_pos_test\u001b[0m\u001b[0;34m,\u001b[0m \u001b[0miterable_neg_test\u001b[0m \u001b[0;34m)\u001b[0m\u001b[0;34m\u001b[0m\u001b[0m\n\u001b[0m\u001b[1;32m     95\u001b[0m \u001b[0;34m\u001b[0m\u001b[0m\n\u001b[1;32m     96\u001b[0m     \u001b[0;32mreturn\u001b[0m \u001b[0mmodel\u001b[0m\u001b[0;34m\u001b[0m\u001b[0m\n",
      "\u001b[0;32m/Users/jl/anaconda/lib/python2.7/site-packages/eden/model.pyc\u001b[0m in \u001b[0;36mestimate\u001b[0;34m(self, iterable_pos, iterable_neg, n_jobs)\u001b[0m\n\u001b[1;32m    121\u001b[0m         \u001b[0;32mprint\u001b[0m \u001b[0mself\u001b[0m\u001b[0;34m.\u001b[0m\u001b[0mestimator\u001b[0m\u001b[0;34m\u001b[0m\u001b[0m\n\u001b[1;32m    122\u001b[0m         \u001b[0;32mprint\u001b[0m \u001b[0;34m'-'\u001b[0m \u001b[0;34m*\u001b[0m \u001b[0;36m80\u001b[0m\u001b[0;34m\u001b[0m\u001b[0m\n\u001b[0;32m--> 123\u001b[0;31m         \u001b[0mX\u001b[0m\u001b[0;34m,\u001b[0m \u001b[0my\u001b[0m \u001b[0;34m=\u001b[0m \u001b[0mself\u001b[0m\u001b[0;34m.\u001b[0m\u001b[0m_data_matrices\u001b[0m\u001b[0;34m(\u001b[0m\u001b[0miterable_pos\u001b[0m\u001b[0;34m,\u001b[0m \u001b[0miterable_neg\u001b[0m\u001b[0;34m,\u001b[0m \u001b[0mn_jobs\u001b[0m\u001b[0;34m=\u001b[0m\u001b[0mn_jobs\u001b[0m\u001b[0;34m)\u001b[0m\u001b[0;34m\u001b[0m\u001b[0m\n\u001b[0m\u001b[1;32m    124\u001b[0m         \u001b[0;32mprint\u001b[0m \u001b[0;34m'Instances: %d ; Features: %d with an avg of %d features per instance'\u001b[0m \u001b[0;34m%\u001b[0m \u001b[0;34m(\u001b[0m\u001b[0mX\u001b[0m\u001b[0;34m.\u001b[0m\u001b[0mshape\u001b[0m\u001b[0;34m[\u001b[0m\u001b[0;36m0\u001b[0m\u001b[0;34m]\u001b[0m\u001b[0;34m,\u001b[0m \u001b[0mX\u001b[0m\u001b[0;34m.\u001b[0m\u001b[0mshape\u001b[0m\u001b[0;34m[\u001b[0m\u001b[0;36m1\u001b[0m\u001b[0;34m]\u001b[0m\u001b[0;34m,\u001b[0m  \u001b[0mX\u001b[0m\u001b[0;34m.\u001b[0m\u001b[0mgetnnz\u001b[0m\u001b[0;34m(\u001b[0m\u001b[0;34m)\u001b[0m \u001b[0;34m/\u001b[0m \u001b[0mX\u001b[0m\u001b[0;34m.\u001b[0m\u001b[0mshape\u001b[0m\u001b[0;34m[\u001b[0m\u001b[0;36m0\u001b[0m\u001b[0;34m]\u001b[0m\u001b[0;34m)\u001b[0m\u001b[0;34m\u001b[0m\u001b[0m\n\u001b[1;32m    125\u001b[0m         \u001b[0;32mprint\u001b[0m \u001b[0;34m'-'\u001b[0m \u001b[0;34m*\u001b[0m \u001b[0;36m80\u001b[0m\u001b[0;34m\u001b[0m\u001b[0m\n",
      "\u001b[0;32m/Users/jl/anaconda/lib/python2.7/site-packages/eden/model.pyc\u001b[0m in \u001b[0;36m_data_matrices\u001b[0;34m(self, iterable_pos, iterable_neg, fit_vectorizer, n_jobs)\u001b[0m\n\u001b[1;32m     67\u001b[0m     \u001b[0;32mdef\u001b[0m \u001b[0m_data_matrices\u001b[0m\u001b[0;34m(\u001b[0m\u001b[0mself\u001b[0m\u001b[0;34m,\u001b[0m \u001b[0miterable_pos\u001b[0m\u001b[0;34m,\u001b[0m \u001b[0miterable_neg\u001b[0m\u001b[0;34m,\u001b[0m \u001b[0mfit_vectorizer\u001b[0m\u001b[0;34m=\u001b[0m\u001b[0mFalse\u001b[0m\u001b[0;34m,\u001b[0m \u001b[0mn_jobs\u001b[0m\u001b[0;34m=\u001b[0m\u001b[0;36m1\u001b[0m\u001b[0;34m)\u001b[0m\u001b[0;34m:\u001b[0m\u001b[0;34m\u001b[0m\u001b[0m\n\u001b[1;32m     68\u001b[0m         \u001b[0;32massert\u001b[0m\u001b[0;34m(\u001b[0m\u001b[0mis_iterable\u001b[0m\u001b[0;34m(\u001b[0m\u001b[0miterable_pos\u001b[0m\u001b[0;34m)\u001b[0m \u001b[0;32mand\u001b[0m \u001b[0mis_iterable\u001b[0m\u001b[0;34m(\u001b[0m\u001b[0miterable_neg\u001b[0m\u001b[0;34m)\u001b[0m\u001b[0;34m)\u001b[0m\u001b[0;34m,\u001b[0m \u001b[0;34m'Not iterable'\u001b[0m\u001b[0;34m\u001b[0m\u001b[0m\n\u001b[0;32m---> 69\u001b[0;31m         \u001b[0mself\u001b[0m\u001b[0;34m.\u001b[0m\u001b[0mvectorizer\u001b[0m\u001b[0;34m.\u001b[0m\u001b[0mset_params\u001b[0m\u001b[0;34m(\u001b[0m\u001b[0;34m**\u001b[0m\u001b[0mself\u001b[0m\u001b[0;34m.\u001b[0m\u001b[0mvectorizer_args\u001b[0m\u001b[0;34m)\u001b[0m\u001b[0;34m\u001b[0m\u001b[0m\n\u001b[0m\u001b[1;32m     70\u001b[0m         \u001b[0miterator_pos\u001b[0m \u001b[0;34m=\u001b[0m \u001b[0mself\u001b[0m\u001b[0;34m.\u001b[0m\u001b[0mpre_processor\u001b[0m\u001b[0;34m(\u001b[0m\u001b[0miterable_pos\u001b[0m\u001b[0;34m,\u001b[0m \u001b[0;34m**\u001b[0m\u001b[0mself\u001b[0m\u001b[0;34m.\u001b[0m\u001b[0mpre_processor_args\u001b[0m\u001b[0;34m)\u001b[0m\u001b[0;34m\u001b[0m\u001b[0m\n\u001b[1;32m     71\u001b[0m         \u001b[0;32mif\u001b[0m \u001b[0mfit_vectorizer\u001b[0m\u001b[0;34m:\u001b[0m\u001b[0;34m\u001b[0m\u001b[0m\n",
      "\u001b[0;31mAttributeError\u001b[0m: 'NoneType' object has no attribute 'set_params'"
     ]
    }
   ],
   "source": [
    "#%%time\n",
    "pos_iterator=make_iterable(active_fname) #this is a SMILES file\n",
    "neg_iterator=make_iterable(inactive_fname) #this is a SMILES file \n",
    "model_fname=DATA_DIR + '/AID%s.model3d'%AID\n",
    "model = train_obabel_model(pos_iterator, neg_iterator,\n",
    "                           data_dir=DATA_DIR,\n",
    "                           model_type = \"3d\",\n",
    "                           model_fname=model_fname,\n",
    "                           n_iter=5, \n",
    "                           active_set_size=500, \n",
    "                           n_active_learning_iterations=0, \n",
    "                           threshold=1, \n",
    "                           train_test_split=0.5, \n",
    "                           verbose=2)\n"
   ]
  },
  {
   "cell_type": "markdown",
   "metadata": {},
   "source": [
    "**Original model**\n",
    "---"
   ]
  },
  {
   "cell_type": "code",
   "execution_count": null,
   "metadata": {
    "collapsed": false
   },
   "outputs": [],
   "source": [
    "%%time\n",
    "model_fname='AID%s.modeld'%AID\n",
    "model = train_obabel_model(active_fname, inactive_fname,\n",
    "                           model_type = \"default\",\n",
    "                           model_fname=model_fname,\n",
    "                           n_iter=40, \n",
    "                           active_set_size=500, \n",
    "                           n_active_learning_iterations=0, \n",
    "                           threshold=1, \n",
    "                           train_test_split=0.8, \n",
    "                           verbose=1)\n",
    "\n"
   ]
  },
  {
   "cell_type": "markdown",
   "metadata": {
    "collapsed": false
   },
   "source": [
    "Test the models:"
   ]
  },
  {
   "cell_type": "code",
   "execution_count": null,
   "metadata": {
    "collapsed": true
   },
   "outputs": [],
   "source": [
    "%matplotli"
   ]
  },
  {
   "cell_type": "markdown",
   "metadata": {},
   "source": []
  },
  {
   "cell_type": "code",
   "execution_count": null,
   "metadata": {
    "collapsed": true
   },
   "outputs": [],
   "source": [
    "def pre_processor(data, model_type=\"default\", converter=None, **kwargs):\n",
    "\n",
    "        #### Use the model_type variable from outside (?) ####\n",
    "        # model_type = kwargs.get('mode', 'default')\n",
    "\n",
    "        if model_type == \"default\":\n",
    "            iterable = converter.obabel_to_eden(data, **kwargs)\n",
    "        elif model_type == \"3d\":\n",
    "            iterable = converter.obabel_to_eden3d(data, **kwargs)\n",
    "        return iterable\n",
    "\n"
   ]
  },
  {
   "cell_type": "code",
   "execution_count": null,
   "metadata": {
    "collapsed": false
   },
   "outputs": [],
   "source": [
    "iterable_pos=make_iterable(active_fname) #this is a SMILES file\n",
    "iterable_neg=make_iterable(inactive_fname) #this is a SMILES file \n",
    "from itertools import tee\n",
    "iterable_pos, iterable_pos_ = tee(iterable_pos)\n",
    "iterable_neg, iterable_neg_ = tee(iterable_neg)\n",
    "\n",
    "import time\n",
    "start = time.time()\n",
    "#print('# positives: %d  # negatives: %d (%.1f sec %s)'%(sum(1 for x in iterable_pos_), sum(1 for x in iterable_neg_), time.time() - start, str(datetime.timedelta(seconds=(time.time() - start)))))\n",
    "\n",
    "iterable_pos, iterable_pos_ = tee(iterable_pos)\n",
    "iterable_neg, iterable_neg_ = tee(iterable_neg)\n",
    "\n",
    "#split train/test\n",
    "from eden.util import random_bipartition_iter\n",
    "iterable_pos_train, iterable_pos_test = random_bipartition_iter(iterable_pos, relative_size=.5)\n",
    "iterable_neg_train, iterable_neg_test = random_bipartition_iter(iterable_neg, relative_size=.5)\n"
   ]
  },
  {
   "cell_type": "code",
   "execution_count": null,
   "metadata": {
    "collapsed": false
   },
   "outputs": [],
   "source": [
    "%matplotlib inline\n",
    "from eden.converter.molecule import obabel\n",
    "from eden.util.display import draw_graph\n",
    "from itertools import islice\n",
    "converter = obabel.OBabelConverter()\n",
    "iterable_pos = pre_processor(iterable_pos_train, converter=converter, k=3, model_type=\"3d\")\n",
    "for G in islice(iterable_pos, 3):\n",
    "    draw_graph(G, vertex_label=\"atom_type\")"
   ]
  },
  {
   "cell_type": "code",
   "execution_count": null,
   "metadata": {
    "collapsed": true
   },
   "outputs": [],
   "source": []
  }
 ],
 "metadata": {
  "kernelspec": {
   "display_name": "Python 2",
   "language": "python",
   "name": "python2"
  },
  "language_info": {
   "codemirror_mode": {
    "name": "ipython",
    "version": 2
   },
   "file_extension": ".py",
   "mimetype": "text/x-python",
   "name": "python",
   "nbconvert_exporter": "python",
   "pygments_lexer": "ipython2",
   "version": "2.7.9"
  }
 },
 "nbformat": 4,
 "nbformat_minor": 0
}
