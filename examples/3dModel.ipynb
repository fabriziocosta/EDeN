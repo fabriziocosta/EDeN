{
 "cells": [
  {
   "cell_type": "code",
   "execution_count": 1,
   "metadata": {
    "collapsed": false
   },
   "outputs": [],
   "source": [
    "%matplotlib inline\n",
    "%load_ext autoreload\n",
    "%autoreload 2"
   ]
  },
  {
   "cell_type": "code",
   "execution_count": 2,
   "metadata": {
    "collapsed": false
   },
   "outputs": [],
   "source": [
    "from eden.converter.molecule import obabel\n",
    "import networkx as nx\n",
    "import pybel\n",
    "import requests\n",
    "import os.path"
   ]
  },
  {
   "cell_type": "raw",
   "metadata": {},
   "source": [
    "Define functions to obtain data from server."
   ]
  },
  {
   "cell_type": "code",
   "execution_count": 3,
   "metadata": {
    "collapsed": false
   },
   "outputs": [],
   "source": [
    "def get_compounds(fname, size, listkey):\n",
    "    PROLOG='https://pubchem.ncbi.nlm.nih.gov/rest/pug/'\n",
    "    with open(fname,'w') as file_handle:\n",
    "        stepsize=50\n",
    "        index_start=0\n",
    "        for chunk, index_end in enumerate(range(0,size+stepsize,stepsize)):\n",
    "            if index_end is not 0 :\n",
    "                print 'Chunk %s) Processing compounds %s to %s (of a total of %s)' % (chunk, index_start, index_end-1, size)\n",
    "                RESTQ = PROLOG + 'compound/listkey/' + str(listkey) + '/SDF?&listkey_start=' + str(index_start) + '&listkey_count=' + str(stepsize)\n",
    "                reply=requests.get(RESTQ)\n",
    "                file_handle.write(reply.text)\n",
    "            index_start = index_end\n",
    "        print 'compounds available in file: ', fname\n",
    "\n",
    "\n",
    "def get_assay(assay_id):\n",
    "    PROLOG='https://pubchem.ncbi.nlm.nih.gov/rest/pug/'\n",
    "    AID=str(assay_id)\n",
    "    #active\n",
    "    RESTQ = PROLOG + 'assay/aid/' + AID + '/cids/JSON?cids_type=active&list_return=listkey'\n",
    "    reply=requests.get(RESTQ)\n",
    "    #extract the listkey\n",
    "    active_listkey = reply.json()['IdentifierList']['ListKey']\n",
    "    active_size = reply.json()['IdentifierList']['Size'] \n",
    "    active_fname = 'data/AID'+AID+'_active.sdf'\n",
    "    get_compounds(fname=active_fname, size=active_size, listkey=active_listkey)\n",
    "\n",
    "    #inactive\n",
    "    RESTQ = PROLOG + 'assay/aid/' + AID + '/cids/JSON?cids_type=inactive&list_return=listkey'\n",
    "    reply=requests.get(RESTQ)\n",
    "    #extract the listkey\n",
    "    inactive_listkey = reply.json()['IdentifierList']['ListKey']\n",
    "    inactive_size = reply.json()['IdentifierList']['Size']\n",
    "    inactive_fname = 'data/AID'+AID+'_inactive.sdf'\n",
    "    get_compounds(fname=inactive_fname, size=inactive_size, listkey=inactive_listkey)\n",
    "\n",
    "    return (active_fname,inactive_fname)"
   ]
  },
  {
   "cell_type": "raw",
   "metadata": {},
   "source": [
    "Get the data from PubChem server:"
   ]
  },
  {
   "cell_type": "code",
   "execution_count": 4,
   "metadata": {
    "collapsed": false
   },
   "outputs": [
    {
     "name": "stdout",
     "output_type": "stream",
     "text": [
      "CPU times: user 16 µs, sys: 6 µs, total: 22 µs\n",
      "Wall time: 28.1 µs\n"
     ]
    }
   ],
   "source": [
    "%%time\n",
    "\n",
    "AID=825\n",
    "READ_FROM_FILE=True\n",
    "DATA_DIR = 'data'\n",
    "if READ_FROM_FILE:\n",
    "    active_fname=DATA_DIR + '/AID%s_active.sdf'%AID\n",
    "    inactive_fname=DATA_DIR + '/AID%s_inactive.sdf'%AID\n",
    "else:\n",
    "    active_fname, inactive_fname = get_assay(AID)\n"
   ]
  },
  {
   "cell_type": "markdown",
   "metadata": {},
   "source": [
    "Generate conformers for data"
   ]
  },
  {
   "cell_type": "code",
   "execution_count": 5,
   "metadata": {
    "collapsed": false
   },
   "outputs": [
    {
     "name": "stdout",
     "output_type": "stream",
     "text": [
      "CPU times: user 163 µs, sys: 70 µs, total: 233 µs\n",
      "Wall time: 164 µs\n"
     ]
    }
   ],
   "source": [
    "%%time\n",
    "# Active compounds\n",
    "if not os.path.exists(DATA_DIR + '/conf_AID%s_active.sdf'%AID):\n",
    "    obabel.generate_conformers(active_fname, active_conf, 10, 'rmsd')\n",
    "# Inactive compounds\n",
    "if not os.path.exists(DATA_DIR + '/conf_AID%s_inactive.sdf'%AID):\n",
    "    obabel.generate_conformers(active_fname, inactive_conf, 10, 'rmsd')"
   ]
  },
  {
   "cell_type": "markdown",
   "metadata": {},
   "source": [
    "Functions for training and testing the model"
   ]
  },
  {
   "cell_type": "code",
   "execution_count": 8,
   "metadata": {
    "collapsed": false
   },
   "outputs": [],
   "source": [
    "import datetime, time\n",
    "def train_obabel_model(pos_fname, neg_fname, model_type = \"default\",\n",
    "                       model_fname=None, n_iter=40, active_set_size=1000, \n",
    "                       n_active_learning_iterations=3, threshold=1, train_test_split=0.7, \n",
    "                       verbose=False):\n",
    "    \n",
    "    from numpy.random import randint\n",
    "    from numpy.random import uniform\n",
    "    \n",
    "    # this will be passed as an argument to the model later on\n",
    "    def pre_processor( data, **args):\n",
    "        return data\n",
    "    \n",
    "    from eden.graph import Vectorizer\n",
    "    #vectorizer_parameters={'complexity':[1,2,3,4],\n",
    "    #                       'discretization_size':randint(3, 100,size=n_iter),\n",
    "    #                       'discretization_dimension':randint(3, 50, size=n_iter)}\n",
    "    vectorizer_parameters={'complexity':[1,2,3,4],\n",
    "                           'discretization_size':3,\n",
    "                           'discretization_dimension':3}\n",
    "    vectorizer = Vectorizer(**vectorizer_parameters)\n",
    "\n",
    "    from sklearn.linear_model import SGDClassifier\n",
    "    estimator = SGDClassifier(class_weight='auto', shuffle=True)\n",
    "\n",
    "    #create iterable from files\n",
    "    from eden.converter.molecule import obabel\n",
    "    if model_type == \"default\":\n",
    "        iterable_pos=obabel.obabel_to_eden(pos_fname)\n",
    "        iterable_neg=obabel.obabel_to_eden(neg_fname)\n",
    "    elif model_type == \"3d\":\n",
    "        iterable_pos=obabel.obabel_to_eden3d(pos_fname)\n",
    "        iterable_neg=obabel.obabel_to_eden3d(neg_fname)\n",
    "\n",
    "    \n",
    "    from itertools import tee\n",
    "    iterable_pos, iterable_pos_ = tee(iterable_pos)\n",
    "    iterable_neg, iterable_neg_ = tee(iterable_neg)\n",
    "    \n",
    "    import time\n",
    "    start = time.time()\n",
    "    print('# positives: %d  # negatives: %d (%.1f sec %s)'%(sum(1 for x in iterable_pos_), sum(1 for x in iterable_neg_), time.time() - start, str(datetime.timedelta(seconds=(time.time() - start)))))\n",
    "    \n",
    "    iterable_pos, iterable_pos_ = tee(iterable_pos)\n",
    "    iterable_neg, iterable_neg_ = tee(iterable_neg)\n",
    "    \n",
    "    vectorizer.fit(iterable_pos_)\n",
    "    #split train/test\n",
    "    from eden.util import random_bipartition_iter\n",
    "    iterable_pos_train, iterable_pos_test = random_bipartition_iter(iterable_pos, relative_size=train_test_split)\n",
    "    iterable_neg_train, iterable_neg_test = random_bipartition_iter(iterable_neg, relative_size=train_test_split)\n",
    "\n",
    "\n",
    "\n",
    "    #make predictive model\n",
    "    from eden.model import ActiveLearningBinaryClassificationModel\n",
    "    model = ActiveLearningBinaryClassificationModel( pre_processor, estimator=estimator, vectorizer=vectorizer )\n",
    "\n",
    "    #optimize hyperparameters and fit model\n",
    "\n",
    "    pre_processor_parameters={} \n",
    "\n",
    "    vectorizer_parameters={'complexity':[4]}\n",
    "    \n",
    "    estimator_parameters={'n_iter':randint(5, 100, size=n_iter),\n",
    "                          'penalty':['l1','l2','elasticnet'],\n",
    "                          'l1_ratio':uniform(0.1,0.9, size=n_iter), \n",
    "                          'loss':['hinge', 'log', 'modified_huber', 'squared_hinge', 'perceptron'],\n",
    "                          'power_t':uniform(0.1, size=n_iter),\n",
    "                          'alpha': [10**x for x in range(-8,-2)],\n",
    "                          'eta0': [10**x for x in range(-4,-1)],\n",
    "                          'learning_rate': [\"invscaling\", \"constant\", \"optimal\"]}\n",
    "\n",
    "    model.optimize(iterable_pos_train, iterable_neg_train, \n",
    "                   model_name=model_fname,\n",
    "                   fit_vectorizer=True,\n",
    "                   n_active_learning_iterations=n_active_learning_iterations,\n",
    "                   size_positive=-1,\n",
    "                   size_negative=active_set_size,\n",
    "                   n_iter=n_iter, cv=3, n_jobs=1, verbose=verbose,\n",
    "                   pre_processor_parameters=pre_processor_parameters, \n",
    "                   vectorizer_parameters=vectorizer_parameters, \n",
    "                   estimator_parameters=estimator_parameters)\n",
    "  \n",
    "    #estimate predictive performance\n",
    "    #model.estimate( iterable_pos_test, iterable_neg_test, cv=5 )\n",
    "    # Had to change this call, estimate has no cv parameter\n",
    "    model.estimate( iterable_pos_test, iterable_neg_test )\n",
    "    \n",
    "    return model\n",
    "\n",
    "def test_obabel_model(fname, model_type = \"default\", model_fname=None):\n",
    "    from eden.model import ActiveLearningBinaryClassificationModel\n",
    "\n",
    "    model = ActiveLearningBinaryClassificationModel()\n",
    "    model.load(model_fname)\n",
    "\n",
    "    #create iterable from files\n",
    "    from eden.converter.molecule import obabel\n",
    "    if model_type == \"default\":\n",
    "        iterable=obabel.obabel_to_eden(fname)\n",
    "    elif model_type == \"3d\":\n",
    "        iterable=obabel.obabel_to_eden3d(fname)\n",
    "    \n",
    "    predictions= model.decision_function( iterable )\n",
    "        \n",
    "    return predictions"
   ]
  },
  {
   "cell_type": "markdown",
   "metadata": {},
   "source": [
    "Train the model"
   ]
  },
  {
   "cell_type": "code",
   "execution_count": 11,
   "metadata": {
    "collapsed": false
   },
   "outputs": [
    {
     "name": "stdout",
     "output_type": "stream",
     "text": [
<<<<<<< Updated upstream
      "# positives: 48  # negatives: 50 (10.1 sec 0:00:10.068071)\n",
      "\n",
      "Iteration: 1/40 (at 28.3 sec; 0:00:28.291426)\n",
      "Best score (roc_auc): 0.588775 (0.642341 +- 0.053566)\n",
      "Instances: 78 ; Features: 1048577 with an avg of 1950 features per instance\n",
      "class: 1 count:38 (0.49)\tclass: -1 count:40 (0.51)\t\n",
      "\n",
      "Iteration: 3/40 (at 82.5 sec; 0:01:22.467440)\n",
      "Best score (roc_auc): 0.602408 (0.677585 +- 0.075177)\n",
      "Instances: 78 ; Features: 1048577 with an avg of 1950 features per instance\n",
      "class: 1 count:38 (0.49)\tclass: -1 count:40 (0.51)\t\n",
      "\n",
      "Iteration: 5/40 (at 136.5 sec; 0:02:16.456112)\n",
      "Best score (roc_auc): 0.612952 (0.670189 +- 0.057236)\n",
      "Instances: 78 ; Features: 1048577 with an avg of 1950 features per instance\n",
      "class: 1 count:38 (0.49)\tclass: -1 count:40 (0.51)\t\n",
      "\n",
      "Iteration: 9/40 (at 235.3 sec; 0:03:55.337412)\n",
      "Best score (roc_auc): 0.625615 (0.631211 +- 0.005596)\n",
      "Instances: 78 ; Features: 1048577 with an avg of 1950 features per instance\n",
      "class: 1 count:38 (0.49)\tclass: -1 count:40 (0.51)\t\n",
      "\n",
      "Iteration: 23/40 (at 600.1 sec; 0:10:00.059673)\n",
      "Best score (roc_auc): 0.626228 (0.696346 +- 0.070119)\n",
      "Instances: 78 ; Features: 1048577 with an avg of 1950 features per instance\n",
      "class: 1 count:38 (0.49)\tclass: -1 count:40 (0.51)\t\n",
      "\n",
      "Iteration: 39/40 (at 1001.2 sec; 0:16:41.160339)\n",
      "Best score (roc_auc): 0.633049 (0.659622 +- 0.026573)\n",
      "Instances: 78 ; Features: 1048577 with an avg of 1950 features per instance\n",
      "class: 1 count:38 (0.49)\tclass: -1 count:40 (0.51)\t\n",
      "Classifier:\n",
      "SGDClassifier(alpha=1e-08, class_weight='auto', epsilon=0.1, eta0=0.001,\n",
      "       fit_intercept=True, l1_ratio=0.70574843426834288,\n",
      "       learning_rate='optimal', loss='log', n_iter=98, n_jobs=1,\n",
      "       penalty='elasticnet', power_t=0.51503645736534631,\n",
      "       random_state=None, shuffle=True, verbose=0, warm_start=False)\n",
      "--------------------------------------------------------------------------------\n",
      "Instances: 20 ; Features: 1048577 with an avg of 1917 features per instance\n",
      "--------------------------------------------------------------------------------\n",
      "Test Estimate\n",
      "             precision    recall  f1-score   support\n",
      "\n",
      "         -1       0.50      0.40      0.44        10\n",
      "          1       0.50      0.60      0.55        10\n",
      "\n",
      "avg / total       0.50      0.50      0.49        20\n",
      "\n",
      "APR: 0.636\n",
      "ROC: 0.580\n",
      "--------------------------------------------------------------------------------\n",
      "CPU times: user 17min 11s, sys: 9.15 s, total: 17min 20s\n",
      "Wall time: 17min 25s\n"
     ]
    }
   ],
   "source": [
    "%%time\n",
    "model_fname='AID%s.model'%AID\n",
    "model = train_obabel_model(active_fname, inactive_fname,\n",
    "                           model_type = \"3d\",\n",
    "                           model_fname=model_fname,\n",
    "                           n_iter=40, \n",
    "                           active_set_size=500, \n",
    "                           n_active_learning_iterations=0, \n",
    "                           threshold=1, \n",
    "                           train_test_split=0.8, \n",
    "                           verbose=1)"
   ]
  },
  {
   "cell_type": "code",
   "execution_count": 12,
   "metadata": {
    "collapsed": false
   },
   "outputs": [],
   "source": [
    "iterable_pos=obabel.obabel_to_eden3d(active_fname, k = 10)\n",
    "iterable_neg=obabel.obabel_to_eden3d(inactive_fname, k = 10)"
   ]
  },
  {
   "cell_type": "code",
   "execution_count": 15,
   "metadata": {
    "collapsed": false
   },
   "outputs": [
    {
     "name": "stdout",
     "output_type": "stream",
     "text": [
      "            accuracy: 0.544 +- 0.191\n",
      "           precision: 0.466 +- 0.240\n",
      "              recall: 0.513 +- 0.343\n",
      "                  f1: 0.479 +- 0.290\n",
      "   average_precision: 0.655 +- 0.251\n",
      "             roc_auc: 0.572 +- 0.313\n",
      "CPU times: user 38.7 s, sys: 981 ms, total: 39.7 s\n",
      "Wall time: 41.2 s\n"
     ]
    }
   ],
   "source": [
    "%%time\n",
    "iterable_pos=obabel.obabel_to_eden3d(active_fname, k = 20)\n",
    "iterable_neg=obabel.obabel_to_eden3d(inactive_fname, k = 20)\n",
    "\n",
    "from eden.graph import Vectorizer\n",
    "vectorizer = Vectorizer(complexity=3, discretization_size = 5, discretization_dimension = 5)\n",
    "\n",
    "Xp = vectorizer.fit_transform(iterable_pos, n_jobs = 1)\n",
    "Xn = vectorizer.transform(iterable_neg, n_jobs = 1)\n",
    "\n",
    "import numpy as np\n",
    "from scipy.sparse import vstack\n",
    "\n",
    "yp = [1] * Xp.shape[0]\n",
    "yn = [-1] * Xn.shape[0]\n",
    "y = np.array(yp + yn)\n",
    "X = vstack([Xp, Xn], format=\"csr\")\n",
    "\n",
    "\n",
    "from sklearn import cross_validation\n",
    "from sklearn.linear_model import SGDClassifier\n",
    "estimator = SGDClassifier(class_weight='auto', shuffle=True)\n",
    "\n",
    "for scoring in ['accuracy', 'precision', 'recall', 'f1', 'average_precision', 'roc_auc']:\n",
    "    scores = cross_validation.cross_val_score(estimator, X, y, cv=5, scoring=scoring, n_jobs=-1)\n",
    "    print('%20s: %.3f +- %.3f' % (scoring, np.mean(scores), np.std(scores)))"
   ]
  },
  {
   "cell_type": "code",
   "execution_count": 13,
   "metadata": {
    "collapsed": false
   },
   "outputs": [
    {
     "name": "stdout",
     "output_type": "stream",
     "text": [
      "            accuracy: 0.552 +- 0.141\n",
      "           precision: 0.633 +- 0.319\n",
      "              recall: 0.333 +- 0.247\n",
      "                  f1: 0.387 +- 0.239\n",
      "   average_precision: 0.614 +- 0.162\n",
      "             roc_auc: 0.571 +- 0.177\n",
      "CPU times: user 3.07 s, sys: 345 ms, total: 3.42 s\n",
      "Wall time: 4.47 s\n"
     ]
    }
   ],
   "source": [
    "%%time\n",
    "iterable_pos=obabel.obabel_to_eden(active_fname)\n",
    "iterable_neg=obabel.obabel_to_eden(inactive_fname)\n",
    "from eden.graph import Vectorizer\n",
    "\n",
    "vectorizer = Vectorizer(complexity=3)\n",
    "Xp = vectorizer.transform(iterable_pos, n_jobs = 1)\n",
    "Xn = vectorizer.transform(iterable_neg, n_jobs = 1)\n",
    "\n",
    "import numpy as np\n",
    "from scipy.sparse import vstack\n",
    "\n",
    "yp = [1] * Xp.shape[0]\n",
    "yn = [-1] * Xn.shape[0]\n",
    "y = np.array(yp + yn)\n",
    "X = vstack([Xp, Xn], format=\"csr\")\n",
    "\n",
    "\n",
    "from sklearn import cross_validation\n",
    "from sklearn.linear_model import SGDClassifier\n",
    "estimator = SGDClassifier(class_weight='auto', shuffle=True)\n",
    "\n",
    "for scoring in ['accuracy', 'precision', 'recall', 'f1', 'average_precision', 'roc_auc']:\n",
    "    scores = cross_validation.cross_val_score(estimator, X, y, cv=5, scoring=scoring, n_jobs=-1)\n",
    "    print('%20s: %.3f +- %.3f' % (scoring, np.mean(scores), np.std(scores)))"
   ]
  },
  {
   "cell_type": "code",
   "execution_count": 14,
   "metadata": {
    "collapsed": false
   },
   "outputs": [],
   "source": [
    "%matplotlib inline\n",
    "from eden.util.display import draw_graph\n",
    "from itertools import islice\n",
    "\n",
    "for G in islice(iterable_pos, 3):\n",
    "    draw_graph(G, vertex_label=\"atom_type\")"
   ]
  },
  {
   "cell_type": "code",
   "execution_count": null,
   "metadata": {
    "collapsed": true
   },
   "outputs": [],
   "source": []
  }
 ],
 "metadata": {
  "kernelspec": {
   "display_name": "Python 2",
   "language": "python",
   "name": "python2"
  },
  "language_info": {
   "codemirror_mode": {
    "name": "ipython",
    "version": 2
   },
   "file_extension": ".py",
   "mimetype": "text/x-python",
   "name": "python",
   "nbconvert_exporter": "python",
   "pygments_lexer": "ipython2",
   "version": "2.7.9"
  }
 },
 "nbformat": 4,
 "nbformat_minor": 0
}
