{
 "cells": [
  {
   "cell_type": "code",
   "execution_count": 8,
   "metadata": {
    "collapsed": false
   },
   "outputs": [
    {
     "name": "stdout",
     "output_type": "stream",
     "text": [
      "The autoreload extension is already loaded. To reload it, use:\n",
      "  %reload_ext autoreload\n"
     ]
    }
   ],
   "source": [
    "%matplotlib inline\n",
    "%load_ext autoreload\n",
    "%autoreload 2"
   ]
  },
  {
   "cell_type": "code",
   "execution_count": 9,
   "metadata": {
    "collapsed": false
   },
   "outputs": [],
   "source": [
    "from eden.converter.molecule import obabel\n",
    "import networkx as nx\n",
    "import pybel\n",
    "import requests\n",
    "import os.path"
   ]
  },
  {
   "cell_type": "raw",
   "metadata": {},
   "source": [
    "Get the data from PubChem server:"
   ]
  },
  {
   "cell_type": "code",
   "execution_count": 10,
   "metadata": {
    "collapsed": false
   },
   "outputs": [
    {
     "name": "stdout",
     "output_type": "stream",
     "text": [
      "CPU times: user 8 µs, sys: 3 µs, total: 11 µs\n",
      "Wall time: 16.9 µs\n"
     ]
    }
   ],
   "source": [
    "%%time\n",
    "AID=1\n",
    "#AID=2401\n",
    "#DATA_DIR = '/Volumes/seagate/thesis/examples/data'\n",
    "DATA_DIR = '/Users/jl/uni-freiburg/thesis/EDeN/examples/3Dmodel/data'\n",
    "active_fname=DATA_DIR + '/AID%s_active.smi'%AID\n",
    "inactive_fname=DATA_DIR + '/AID%s_inactive.smi'%AID"
   ]
  },
  {
   "cell_type": "code",
   "execution_count": 4,
   "metadata": {
    "collapsed": false
   },
   "outputs": [
    {
     "data": {
      "text/plain": [
       "'/Users/jl/uni-freiburg/thesis/EDeN/examples/3Dmodel/data/AID1_active.smi'"
      ]
     },
     "execution_count": 4,
     "metadata": {},
     "output_type": "execute_result"
    }
   ],
   "source": [
    "active_fname"
   ]
  },
  {
   "cell_type": "code",
   "execution_count": 5,
   "metadata": {
    "collapsed": true
   },
   "outputs": [],
   "source": [
    "def make_iterable(filename):\n",
    "    with open(filename) as f:\n",
    "        for line in f:\n",
    "            yield line.strip()"
   ]
  },
  {
   "cell_type": "markdown",
   "metadata": {},
   "source": [
    "Functions for training and testing the model"
   ]
  },
  {
   "cell_type": "code",
   "execution_count": 11,
   "metadata": {
    "collapsed": false
   },
   "outputs": [],
   "source": [
    "import datetime, time\n",
    "def train_obabel_model(iterable_pos, iterable_neg, data_dir,\n",
    "                       model_type = \"default\",\n",
    "                       model_fname=None, n_iter=40, active_set_size=1000, \n",
    "                       n_active_learning_iterations=3, threshold=1, train_test_split=0.7, \n",
    "                       verbose=False):\n",
    "    \n",
    "    from numpy.random import randint\n",
    "    from numpy.random import uniform\n",
    "    \n",
    "    \n",
    "    global_cache = {}\n",
    "    \n",
    "    # this will be passed as an argument to the model later on\n",
    "    def pre_processor(data, model_type=\"default\", converter=None, **kwargs):\n",
    "\n",
    "        #### Use the model_type variable from outside (?) ####\n",
    "        # model_type = kwargs.get('mode', 'default')\n",
    "        if model_type == \"default\":\n",
    "            iterable = obabel.obabel_to_eden(data, **kwargs)\n",
    "        elif model_type == \"3d\":\n",
    "            iterable = obabel.obabel_to_eden3d(data, cache=global_cache, **kwargs)\n",
    "        return iterable\n",
    "    \n",
    "    from eden.graph import Vectorizer\n",
    "    vectorizer = Vectorizer()\n",
    "\n",
    "    from sklearn.linear_model import SGDClassifier\n",
    "    estimator = SGDClassifier(class_weight='auto', shuffle=True)\n",
    "\n",
    "    #######3\n",
    "    #create iterable from files\n",
    "    ########\n",
    "    \n",
    "    from itertools import tee\n",
    "    iterable_pos, iterable_pos_ = tee(iterable_pos)\n",
    "    iterable_neg, iterable_neg_ = tee(iterable_neg)\n",
    "    \n",
    "    import time\n",
    "    start = time.time()\n",
    "    print('# positives: %d  # negatives: %d (%.1f sec %s)'%(sum(1 for x in iterable_pos_), sum(1 for x in iterable_neg_), time.time() - start, str(datetime.timedelta(seconds=(time.time() - start)))))\n",
    "    \n",
    "    iterable_pos, iterable_pos_ = tee(iterable_pos)\n",
    "    iterable_neg, iterable_neg_ = tee(iterable_neg)\n",
    "    \n",
    "    #split train/test\n",
    "    from eden.util import random_bipartition_iter\n",
    "    iterable_pos_train, iterable_pos_test = random_bipartition_iter(iterable_pos, relative_size=train_test_split)\n",
    "    iterable_neg_train, iterable_neg_test = random_bipartition_iter(iterable_neg, relative_size=train_test_split)\n",
    "\n",
    "\n",
    "\n",
    "    #make predictive model\n",
    "    from eden.model import ActiveLearningBinaryClassificationModel\n",
    "    model = ActiveLearningBinaryClassificationModel(pre_processor,\n",
    "                                                    estimator=estimator,\n",
    "                                                    vectorizer=vectorizer,\n",
    "                                                    n_jobs=1, \n",
    "                                                    n_blocks = 2,\n",
    "                                                    fit_vectorizer=True)\n",
    "\n",
    "    #optimize hyperparameters and fit model\n",
    "\n",
    "    pre_processor_parameters={'k':randint(1, 10,size=n_iter),\n",
    "                             'threshold':randint(1, 10, size=n_iter),\n",
    "                             'model_type':[model_type]} \n",
    "    \n",
    "    #print \"pre processor parameters: \" + str(pre_processor_parameters)\n",
    "    vectorizer_parameters={'complexity':[2,3,4],  \n",
    "                           'discretization_size':randint(2, 3,size=n_iter),                     \n",
    "                           'discretization_dimension':randint(2, 3,size=n_iter)}\n",
    "    \n",
    "    estimator_parameters={'n_iter':randint(5, 100, size=n_iter),\n",
    "                          'penalty':['l1','l2','elasticnet'],\n",
    "                          'l1_ratio':uniform(0.1,0.9, size=n_iter), \n",
    "                          'loss':['hinge', 'log', 'modified_huber', 'squared_hinge', 'perceptron'],\n",
    "                          'power_t':uniform(0.1, size=n_iter),\n",
    "                          'alpha': [10**x for x in range(-8,-2)],\n",
    "                          'eta0': [10**x for x in range(-4,-1)],\n",
    "                          'learning_rate': [\"invscaling\", \"constant\", \"optimal\"]}\n",
    "\n",
    "    print \"calling optimizer..\"\n",
    "    model.optimize(iterable_pos_train, iterable_neg_train, \n",
    "                   model_name=model_fname,\n",
    "                   n_active_learning_iterations=n_active_learning_iterations,\n",
    "                   size_positive=-1,\n",
    "                   size_negative=active_set_size,\n",
    "                   n_iter=n_iter, cv=3, verbose=verbose,\n",
    "                   pre_processor_parameters=pre_processor_parameters, \n",
    "                   vectorizer_parameters=vectorizer_parameters, \n",
    "                   estimator_parameters=estimator_parameters)\n",
    "  \n",
    "    #estimate predictive performance\n",
    "    #model.estimate( iterable_pos_test, iterable_neg_test, cv=5 )\n",
    "    # Had to change this call, estimate has no cv parameter\n",
    "    model.estimate( iterable_pos_test, iterable_neg_test )\n",
    "    \n",
    "    return model\n",
    "\n",
    "def test_obabel_model(fname, model_type = \"default\", model_fname=None):\n",
    "    from eden.model import ActiveLearningBinaryClassificationModel\n",
    "\n",
    "    model = ActiveLearningBinaryClassificationModel()\n",
    "    model.load(model_fname)\n",
    "\n",
    "    #create iterable from files\n",
    "    from eden.converter.molecule import obabel\n",
    "    if model_type == \"default\":\n",
    "        iterable=obabel.obabel_to_eden(fname)\n",
    "    elif model_type == \"3d\":\n",
    "        iterable=obabel.obabel_to_eden3d(fname)\n",
    "    \n",
    "    predictions= model.decision_function( iterable )\n",
    "        \n",
    "    return predictions"
   ]
  },
  {
   "cell_type": "markdown",
   "metadata": {},
   "source": [
    "Train the models"
   ]
  },
  {
   "cell_type": "markdown",
   "metadata": {},
   "source": [
    "**3D model**\n",
    "---"
   ]
  },
  {
   "cell_type": "code",
   "execution_count": 12,
   "metadata": {
    "collapsed": false,
    "scrolled": true
   },
   "outputs": [
    {
     "name": "stdout",
     "output_type": "stream",
     "text": [
      "# positives: 11  # negatives: 6 (0.0 sec 0:00:00.000280)\n",
      "calling optimizer..\n",
      "\n",
      "Iteration: 1/5 (at 24.2 sec; 0:00:24.152125)\n",
      "Best score (roc_auc): 1.000000 (1.000000 +- 0.000000)\n",
      "Instances: 8 ; Features: 1048577 with an avg of 960 features per instance\n",
      "class: 1 count:5 (0.62)\tclass: -1 count:3 (0.38)\t\n",
      "Classifier:\n",
      "SGDClassifier(alpha=0.0001, average=False, class_weight='auto', epsilon=0.1,\n",
      "       eta0=0.001, fit_intercept=True, l1_ratio=0.27656098735590651,\n",
      "       learning_rate='optimal', loss='modified_huber', n_iter=62, n_jobs=1,\n",
      "       penalty='l1', power_t=0.62599586348393288, random_state=None,\n",
      "       shuffle=True, verbose=0, warm_start=False)\n",
      "--------------------------------------------------------------------------------\n",
      "Instances: 9 ; Features: 1048577 with an avg of 846 features per instance\n",
      "--------------------------------------------------------------------------------\n",
      "Test Estimate\n",
      "             precision    recall  f1-score   support\n",
      "\n",
      "         -1       1.00      0.33      0.50         3\n",
      "          1       0.75      1.00      0.86         6\n",
      "\n",
      "avg / total       0.83      0.78      0.74         9\n",
      "\n",
      "APR: 1.000\n",
      "ROC: 1.000\n",
      "--------------------------------------------------------------------------------\n"
     ]
    }
   ],
   "source": [
    "#%%time\n",
    "pos_iterator=make_iterable(active_fname) #this is a SMILES file\n",
    "neg_iterator=make_iterable(inactive_fname) #this is a SMILES file \n",
    "model_fname=DATA_DIR + '/AID%s.model3d'%AID\n",
    "model = train_obabel_model(pos_iterator, neg_iterator,\n",
    "                           data_dir=DATA_DIR,\n",
    "                           model_type = \"3d\",\n",
    "                           model_fname=model_fname,\n",
    "                           n_iter=5, \n",
    "                           active_set_size=5, \n",
    "                           n_active_learning_iterations=0, \n",
    "                           threshold=1, \n",
    "                           train_test_split=0.5, \n",
    "                           verbose=1)\n"
   ]
  },
  {
   "cell_type": "code",
   "execution_count": null,
   "metadata": {
    "collapsed": false,
    "scrolled": true
   },
   "outputs": [],
   "source": [
    "pos_iterator=make_iterable(active_fname) #this is a SMILES file\n",
    "neg_iterator=make_iterable(inactive_fname) #this is a SMILES file \n",
    "global_cache={}\n",
    "def pre_processor(data, model_type=\"default\", converter=None, **kwargs):\n",
    "\n",
    "        #### Use the model_type variable from outside (?) ####\n",
    "        # model_type = kwargs.get('mode', 'default')\n",
    "        from itertools import tee, islice\n",
    "        from eden.util.display import serialize_graph\n",
    "        data, data_ = tee(data)\n",
    "        for x in data_:\n",
    "            print x\n",
    "        if model_type == \"default\":\n",
    "            iterable = obabel.obabel_to_eden(data, **kwargs)\n",
    "        elif model_type == \"3d\":\n",
    "            iterable = obabel.obabel_to_eden3d(data, cache=global_cache, **kwargs)\n",
    "        iterable_, iterable = tee(iterable)\n",
    "\n",
    "        #for x in islice(iterable_, 1):\n",
    "            #print serialize_graph(x)\n",
    "        return iterable\n",
    "\n",
    "pos_graphs = pre_processor(pos_iterator, model_type=\"3d\")\n",
    "neg_graphs = pre_processor(neg_iterator, model_type=\"3d\")\n",
    "from eden.graph import Vectorizer\n",
    "vectorizer = Vectorizer(discretization_size = 2, discretization_dimension=2)\n",
    "from eden import vectorize\n",
    "X_pos = vectorizer.fit_transform(pos_graphs)\n",
    "X_neg = vectorizer.fit_transform(neg_graphs)\n",
    "print X_pos\n",
    "print X_neg"
   ]
  },
  {
   "cell_type": "markdown",
   "metadata": {
    "collapsed": false
   },
   "source": [
    "Test the models:"
   ]
  },
  {
   "cell_type": "code",
   "execution_count": null,
   "metadata": {
    "collapsed": true
   },
   "outputs": [],
   "source": [
    "# active_X, inactive_X are created as above (data matrices) with vectorize(...)\n",
    "active_X\n",
    "inactive_X\n",
    "from eden.util import fit\n",
    "fit(active_X, inactive_X, vectorizer)\n",
    "# do transform on both, fit only on positive\n",
    "### next meet wednesday 16.30"
   ]
  }
 ],
 "metadata": {
  "kernelspec": {
   "display_name": "Python 2",
   "language": "python",
   "name": "python2"
  },
  "language_info": {
   "codemirror_mode": {
    "name": "ipython",
    "version": 2
   },
   "file_extension": ".py",
   "mimetype": "text/x-python",
   "name": "python",
   "nbconvert_exporter": "python",
   "pygments_lexer": "ipython2",
   "version": "2.7.9"
  }
 },
 "nbformat": 4,
 "nbformat_minor": 0
}
