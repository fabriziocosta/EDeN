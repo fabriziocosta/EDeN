{
 "cells": [
  {
   "cell_type": "markdown",
   "metadata": {},
   "source": [
    "#Aim\n",
    "\n",
    "Given a large set of sequences or graphs with ordered vertices find small vertex ordered subsequences that are most discriminative for the set.\n",
    "\n",
    "Steps:\n",
    "- devise a negative set\n",
    "- learn a discriminative model\n",
    "- annotate importance on vertices\n",
    "- extract max subarrays \n",
    "- cluster them \n",
    " - use fast EDeN string kernel \n",
    " - custering algorithm\n",
    " \n",
    "Output: \n",
    "1. all sequence motives in each cluster\n",
    "2. all initial sequences with motif location (begin,end) and cluster id (build regex from all seqs in cluster and run a find iterator)"
   ]
  },
  {
   "cell_type": "code",
   "execution_count": 1,
   "metadata": {
    "collapsed": false
   },
   "outputs": [],
   "source": [
    "%load_ext autoreload\n",
    "%autoreload 2"
   ]
  },
  {
   "cell_type": "code",
   "execution_count": 2,
   "metadata": {
    "collapsed": false
   },
   "outputs": [],
   "source": [
    "#code for making artificial dataset\n",
    "import random\n",
    "def random_string(length,alphabet_list):\n",
    "    rand_str = ''.join(random.choice(alphabet_list) for i in range(length))\n",
    "    return rand_str\n",
    "\n",
    "def perturb(seed,alphabet_list,p=0.5):\n",
    "    seq=''\n",
    "    for c in seed:\n",
    "        if random.random() < p: c = random.choice(alphabet_list)\n",
    "        seq += c\n",
    "    return seq\n",
    "\n",
    "def make_artificial_dataset(alphabet='ACGU', motives=None, motif_length=6, sequence_length=100, n_sequences=1000, n_motives=2, p=0.2):\n",
    "    alphabet_list=[c for c in alphabet]\n",
    "    \n",
    "    if motives is None:\n",
    "        motives=[]\n",
    "        for i in range(n_motives):\n",
    "            motives.append(random_string(motif_length,alphabet_list))\n",
    "    else:\n",
    "        motif_length = len(motives[0])\n",
    "        n_motives = len(motives)\n",
    "        \n",
    "    flanking_length = (sequence_length - motif_length ) / 2\n",
    "    n_seq_per_motif = n_sequences / n_motives\n",
    "\n",
    "    counter=0\n",
    "    seqs=[]\n",
    "    for i in range(n_seq_per_motif):\n",
    "        for j in range(n_motives):\n",
    "            left_flanking = random_string(flanking_length,alphabet_list)\n",
    "            right_flanking = random_string(flanking_length,alphabet_list)\n",
    "            noisy_motif = perturb(motives[j],alphabet_list,p)\n",
    "            seq = left_flanking + noisy_motif + right_flanking\n",
    "            seqs.append(('>ID%d'%counter,seq))\n",
    "            counter += 1\n",
    "    return motives, seqs"
   ]
  },
  {
   "cell_type": "code",
   "execution_count": 3,
   "metadata": {
    "collapsed": false
   },
   "outputs": [
    {
     "name": "stdout",
     "output_type": "stream",
     "text": [
      "Help on class SequenceMotif in module eden.motif:\n",
      "\n",
      "class SequenceMotif(__builtin__.object)\n",
      " |  Methods defined here:\n",
      " |  \n",
      " |  __init__(self, min_subarray_size=7, max_subarray_size=10, min_motif_count=1, min_cluster_size=1, training_size=None, negative_ratio=2, shuffle_order=2, n_iter_search=1, complexity=4, nbits=20, clustering_algorithm=None, n_jobs=4, n_blocks=8, block_size=None, pre_processor_n_jobs=4, pre_processor_n_blocks=8, pre_processor_block_size=None, random_state=1)\n",
      " |  \n",
      " |  fit(self, seqs, neg_seqs=None)\n",
      " |      Builds a discriminative estimator.\n",
      " |      Identifies the maximal subarrays in the data.\n",
      " |      Clusters them with the clustering algorithm provided in the initialization phase.\n",
      " |      For each cluster builds a fast sequence search model (Aho Corasick data structure).\n",
      " |  \n",
      " |  fit_predict(self, seqs, return_list=False)\n",
      " |  \n",
      " |  fit_transform(self, seqs, return_match=False)\n",
      " |  \n",
      " |  load(self, obj)\n",
      " |  \n",
      " |  predict(self, seqs, return_list=False)\n",
      " |      Returns for each instance a list with the cluster ids that have a hit\n",
      " |      if  return_list=False then just return 1 if there is at least one hit from one cluster.\n",
      " |  \n",
      " |  save(self, model_name)\n",
      " |  \n",
      " |  transform(self, seqs, return_match=False)\n",
      " |      Transform an instance to a dense vector with features as cluster ID and entries 0/1 if a motif is found,\n",
      " |      if 'return_match' argument is True, then write a pair with (start position,end position)  in the entry instead of 0/1\n",
      " |  \n",
      " |  ----------------------------------------------------------------------\n",
      " |  Data descriptors defined here:\n",
      " |  \n",
      " |  __dict__\n",
      " |      dictionary for instance variables (if defined)\n",
      " |  \n",
      " |  __weakref__\n",
      " |      list of weak references to the object (if defined)\n",
      "\n"
     ]
    }
   ],
   "source": [
    "from eden.motif import SequenceMotif\n",
    "help(SequenceMotif)"
   ]
  },
  {
   "cell_type": "markdown",
   "metadata": {},
   "source": [
    "#Experimental Setup"
   ]
  },
  {
   "cell_type": "code",
   "execution_count": 4,
   "metadata": {
    "collapsed": false
   },
   "outputs": [
    {
     "name": "stdout",
     "output_type": "stream",
     "text": [
      "Motives and sample of their perturbed variants:\n",
      "\n",
      "AAAAAAAAAA AAAAUAAGAC UUAAAAGAAA AAAAAGAGAA GCUAUAAAAA UAAAAAAAAA AACAAAAAGG AAUAAAUAAA CUAAAAACGG AAAACCAGAA\n",
      "CCCCCCCCCC CCCCCCCAAG CAGCCCAUCG AGCACCCGCC CCCCCUACCC CGCCCCACCC CGCCGGCCCA CCCUACCCCU CCCCCCGCCU GCCCCCCCCC\n",
      "GGGGGGGGGG GGCGGCAGGG CGGUGGGCGG GAGGGGGGGG GGUGUAGGGG GGGCGGGGGG GUGUGGGGGG GGGAGGGGGG GGGGGGGAGU GGGGGGGCCG\n",
      "UUUUUUUUUU GUUUUUUUUU UCUUUUUUUC CUUUUGUUUC UUUUUUUUUU UCACUUAUUU UUAUGUUAUA UUUUUCUUUU UCUUUUUUAA UUGUUUUUUU\n"
     ]
    }
   ],
   "source": [
    "#setup parameters\n",
    "alphabet='ACGU'\n",
    "motives=['AAAAAAAAAA','CCCCCCCCCC','GGGGGGGGGG','UUUUUUUUUU']\n",
    "sequence_length=10000\n",
    "n_sequences=400\n",
    "p=0.3\n",
    "\n",
    "#make dataset\n",
    "motives, seqs = make_artificial_dataset(alphabet=alphabet,motives=motives,sequence_length=sequence_length,n_sequences=n_sequences,p=p)\n",
    "\n",
    "#display\n",
    "print 'Motives and sample of their perturbed variants:'\n",
    "alphabet_list=[c for c in alphabet]\n",
    "for motif in motives: \n",
    "    print\n",
    "    print motif,\n",
    "    for i in range(9):\n",
    "        print perturb(motif,alphabet_list,p=p),"
   ]
  },
  {
   "cell_type": "code",
   "execution_count": 5,
   "metadata": {
    "collapsed": false
   },
   "outputs": [],
   "source": [
    "#save to file\n",
    "fname='artificial_motif_search_dataset.fa'\n",
    "with open(fname,'w') as f:\n",
    "    for header,seq in seqs: \n",
    "        f.write(header+\"\\n\")\n",
    "        f.write(seq+\"\\n\")\n",
    "\n",
    "#save explicit negative sequences\n",
    "from eden.modifier.seq import seq_to_seq, shuffle_modifier\n",
    "neg_seqs = list(seq_to_seq(seqs, modifier=shuffle_modifier, times=2, order=2))\n",
    "fname='artificial_motif_search_dataset_negatives.fa'\n",
    "with open(fname,'w') as f:\n",
    "    for header,seq in neg_seqs: \n",
    "        f.write(header+\"\\n\")\n",
    "        f.write(seq+\"\\n\")"
   ]
  },
  {
   "cell_type": "code",
   "execution_count": null,
   "metadata": {
    "collapsed": false
   },
   "outputs": [],
   "source": [
    "from eden.util import configure_logging\n",
    "import logging\n",
    "configure_logging(logging.getLogger(),verbosity=2)"
   ]
  },
  {
   "cell_type": "code",
   "execution_count": null,
   "metadata": {
    "collapsed": false
   },
   "outputs": [],
   "source": [
    "%%time\n",
    "from sklearn.cluster import MiniBatchKMeans\n",
    "ca = MiniBatchKMeans(n_clusters=4)\n",
    "\n",
    "from eden.motif import SequenceMotif\n",
    "seqmot = SequenceMotif(complexity=2, nbits=14, clustering_algorithm=ca, min_motif_count=2, n_jobs=2)\n",
    "seqmot.fit(seqs, neg_seqs)\n",
    "seqmot.save('seqmot')"
   ]
  },
  {
   "cell_type": "code",
   "execution_count": null,
   "metadata": {
    "collapsed": false,
    "scrolled": false
   },
   "outputs": [],
   "source": [
    "for cluster_id in seqmot.motives_db:\n",
    "    print cluster_id\n",
    "    for count, motif in sorted(seqmot.motives_db[cluster_id], reverse=True):\n",
    "        print motif, count"
   ]
  },
  {
   "cell_type": "code",
   "execution_count": null,
   "metadata": {
    "collapsed": false
   },
   "outputs": [],
   "source": [
    "from eden.motif import SequenceMotif\n",
    "seqmot2 = SequenceMotif()\n",
    "seqmot2.load('seqmot')"
   ]
  },
  {
   "cell_type": "code",
   "execution_count": null,
   "metadata": {
    "collapsed": false
   },
   "outputs": [],
   "source": [
    "predictions=seqmot2.predict(seqs, return_list=False)\n",
    "for p in predictions: print p"
   ]
  },
  {
   "cell_type": "code",
   "execution_count": null,
   "metadata": {
    "collapsed": false
   },
   "outputs": [],
   "source": [
    "from eden.motif import SequenceMotif\n",
    "seqmot2 = SequenceMotif()\n",
    "seqmot2.load('seqmot')\n",
    "\n",
    "predictions=seqmot2.predict(seqs, return_list=True)\n",
    "for p in predictions: print p"
   ]
  },
  {
   "cell_type": "code",
   "execution_count": null,
   "metadata": {
    "collapsed": false
   },
   "outputs": [],
   "source": [
    "predictions=seqmot2.transform(seqs, return_match=False)\n",
    "for p in predictions: print p"
   ]
  },
  {
   "cell_type": "code",
   "execution_count": null,
   "metadata": {
    "collapsed": false
   },
   "outputs": [],
   "source": [
    "predictions=seqmot2.transform(seqs, return_match=True)\n",
    "for p in predictions: print p"
   ]
  },
  {
   "cell_type": "code",
   "execution_count": null,
   "metadata": {
    "collapsed": false,
    "scrolled": false
   },
   "outputs": [],
   "source": [
    "%%time\n",
    "from sklearn.cluster import Birch\n",
    "ca = Birch(threshold=0.1, n_clusters=4, branching_factor=50)\n",
    "\n",
    "from eden.motif import SequenceMotif\n",
    "seqmot = SequenceMotif(clustering_algorithm=ca, min_motif_count=2)\n",
    "seqmot.fit(seqs)\n",
    "\n",
    "for cluster_id in seqmot.motives_db:\n",
    "    print cluster_id\n",
    "    for count, motif in sorted(seqmot.motives_db[cluster_id], reverse=True):\n",
    "        print motif, count"
   ]
  },
  {
   "cell_type": "code",
   "execution_count": null,
   "metadata": {
    "collapsed": false
   },
   "outputs": [],
   "source": [
    "%%time\n",
    "from sklearn.cluster import DBSCAN\n",
    "ca = DBSCAN(eps=0.1, min_samples=3)\n",
    "\n",
    "from eden.motif import SequenceMotif\n",
    "seqmot = SequenceMotif(clustering_algorithm=ca, min_motif_count=2)\n",
    "seqmot.fit(seqs)\n",
    "\n",
    "for cluster_id in seqmot.motives_db:\n",
    "    print cluster_id\n",
    "    for count, motif in sorted(seqmot.motives_db[cluster_id], reverse=True):\n",
    "        print motif, count"
   ]
  }
 ],
 "metadata": {
  "kernelspec": {
   "display_name": "Python 2",
   "language": "python",
   "name": "python2"
  },
  "language_info": {
   "codemirror_mode": {
    "name": "ipython",
    "version": 2
   },
   "file_extension": ".py",
   "mimetype": "text/x-python",
   "name": "python",
   "nbconvert_exporter": "python",
   "pygments_lexer": "ipython2",
   "version": "2.7.10"
  }
 },
 "nbformat": 4,
 "nbformat_minor": 0
}
