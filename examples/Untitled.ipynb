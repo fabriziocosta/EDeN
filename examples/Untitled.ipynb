{
 "cells": [
  {
   "cell_type": "code",
   "execution_count": 14,
   "metadata": {
    "collapsed": false
   },
   "outputs": [
    {
     "name": "stdout",
     "output_type": "stream",
     "text": [
      "cache before function:  {'a': 1}\n",
      "cache after function:  {'a': 1, 'b': 3}\n",
      "******************************\n"
     ]
    }
   ],
   "source": [
    "cache = {'a':1}\n",
    "x = \"I'm outside\"\n",
    "\n",
    "def test():\n",
    "    cache['b'] = 3\n",
    "\n",
    "print \"cache before function: \", cache\n",
    "test()\n",
    "print \"cache after function: \", cache\n",
    "print \"*\"*30\n",
    "\n"
   ]
  },
  {
   "cell_type": "code",
   "execution_count": 12,
   "metadata": {
    "collapsed": false
   },
   "outputs": [
    {
     "name": "stdout",
     "output_type": "stream",
     "text": [
      "cache before function:  {'a': 1}\n",
      "I'm outside\n",
      "cache after function:  {'a': 1, 'z': 100, 'b': 3}\n"
     ]
    }
   ],
   "source": [
    "cache = {'a':1}\n",
    "\n",
    "def meta_test(cache_dict):\n",
    "    cache_dict['z'] = 100\n",
    "    test(cache_dict, x)\n",
    "\n",
    "print \"cache before function: \", cache\n",
    "meta_test(cache)\n",
    "print \"cache after function: \", cache"
   ]
  },
  {
   "cell_type": "code",
   "execution_count": null,
   "metadata": {
    "collapsed": true
   },
   "outputs": [],
   "source": []
  }
 ],
 "metadata": {
  "kernelspec": {
   "display_name": "Python 2",
   "language": "python",
   "name": "python2"
  },
  "language_info": {
   "codemirror_mode": {
    "name": "ipython",
    "version": 2
   },
   "file_extension": ".py",
   "mimetype": "text/x-python",
   "name": "python",
   "nbconvert_exporter": "python",
   "pygments_lexer": "ipython2",
   "version": "2.7.9"
  }
 },
 "nbformat": 4,
 "nbformat_minor": 0
}
