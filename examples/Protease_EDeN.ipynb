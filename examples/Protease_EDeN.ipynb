{
 "metadata": {
  "name": "",
  "signature": "sha256:5cebd3bc508322055b2fda751f6dbf722f95bd328f604d258d65a772c1b82903"
 },
 "nbformat": 3,
 "nbformat_minor": 0,
 "worksheets": [
  {
   "cells": [
    {
     "cell_type": "code",
     "collapsed": false,
     "input": [
      "def train_protease_model(fname=None, model_fname=None, neg_size_factor=5, n_iter=40, threshold=1, n_active_learning_iterations=4, verbose=0):\n",
      "    \n",
      "    def pre_processor( seqs, **args ):\n",
      "        #insert landmark in the cleavage site after pos 4, in our case this means always in the middle position\n",
      "        from eden.modifier.seq import seq_to_seq, mark_modifier \n",
      "        seqs = seq_to_seq( seqs, modifier = mark_modifier, position = 0.5, mark = '%' )\n",
      "        seqs = seq_to_seq( seqs, modifier = mark_modifier, position = 0.0, mark = '@' )\n",
      "        seqs = seq_to_seq( seqs, modifier = mark_modifier, position = 1.0, mark = '*' )\n",
      "        #convert to graph\n",
      "        from eden.converter.fasta import sequence_to_eden\n",
      "        graphs = sequence_to_eden( seqs )\n",
      "        return graphs\n",
      "\n",
      "    from eden.graph import Vectorizer\n",
      "    vectorizer = Vectorizer()\n",
      "\n",
      "    from sklearn.linear_model import SGDClassifier\n",
      "    estimator = SGDClassifier(class_weight='auto', shuffle=True)\n",
      "    \n",
      "    #create iterable from files\n",
      "    from eden.converter.fasta import fasta_to_sequence\n",
      "    seqs = fasta_to_sequence( fname )\n",
      "\n",
      "    from itertools import tee\n",
      "    seqs,seqs_,seqs__=tee(seqs,3)\n",
      "\n",
      "    #count positive instances\n",
      "    active_set_size=sum(1 for x in seqs__)\n",
      "    \n",
      "    iterable_pos_train = seqs\n",
      "    from eden.modifier.seq import seq_to_seq, shuffle_modifier\n",
      "    iterable_neg_train = seq_to_seq( seqs_, modifier=shuffle_modifier, times=neg_size_factor, order=2 )\n",
      "\n",
      "    #make predictive model\n",
      "    from eden.model import ActiveLearningBinaryClassificationModel\n",
      "    model = ActiveLearningBinaryClassificationModel( pre_processor, estimator=estimator, vectorizer=vectorizer )\n",
      "\n",
      "    #optimize hyperparameters and fit model\n",
      "    from numpy.random import randint\n",
      "    from numpy.random import uniform\n",
      "\n",
      "    pre_processor_parameters={}\n",
      "\n",
      "    vectorizer_parameters={'r':[2,3], 'd':[0,1,2,3,4,5]}\n",
      "\n",
      "    estimator_parameters={'n_iter':randint(5, 100, size=n_iter),\n",
      "                          'penalty':['l1','l2','elasticnet'],\n",
      "                          'l1_ratio':uniform(0.1,0.9, size=n_iter), \n",
      "                          'loss':['hinge', 'log', 'modified_huber', 'squared_hinge', 'perceptron'],\n",
      "                          'power_t':uniform(0.1, size=n_iter),\n",
      "                          'alpha': [10**x for x in range(-8,0)],\n",
      "                          'eta0': [10**x for x in range(-4,-1)],\n",
      "                          'learning_rate': [\"invscaling\", \"constant\", \"optimal\"]}\n",
      "\n",
      "    model.optimize(iterable_pos_train, iterable_neg_train,\n",
      "                   model_name=model_fname, \n",
      "                   n_active_learning_iterations=n_active_learning_iterations,\n",
      "                   size_positive=-1,\n",
      "                   size_negative=active_set_size,\n",
      "                   lower_bound_threshold_positive=-threshold,\n",
      "                   upper_bound_threshold_positive=threshold,\n",
      "                   lower_bound_threshold_negative=-threshold,\n",
      "                   upper_bound_threshold_negative=threshold,                                              \n",
      "                   n_iter=n_iter, cv=3, n_jobs=1, verbose=verbose,\n",
      "                   pre_processor_parameters=pre_processor_parameters, \n",
      "                   vectorizer_parameters=vectorizer_parameters, \n",
      "                   estimator_parameters=estimator_parameters)"
     ],
     "language": "python",
     "metadata": {},
     "outputs": [],
     "prompt_number": 5
    },
    {
     "cell_type": "code",
     "collapsed": false,
     "input": [
      "def test_protease_model(fname=None, model_fname=None):\n",
      "    from eden.model import ActiveLearningBinaryClassificationModel\n",
      "\n",
      "    model = ActiveLearningBinaryClassificationModel()\n",
      "    model.load(model_fname)\n",
      "\n",
      "    from eden.converter.fasta import fasta_to_sequence\n",
      "    seqs = fasta_to_sequence( fname )\n",
      "    from itertools import tee\n",
      "    seqs,seqs_=tee(seqs)\n",
      "    predictions= model.decision_function( seqs_ )\n",
      "    from itertools import izip\n",
      "    return izip(predictions,seqs)"
     ],
     "language": "python",
     "metadata": {},
     "outputs": [],
     "prompt_number": 6
    },
    {
     "cell_type": "markdown",
     "metadata": {},
     "source": [
      "#Models Training"
     ]
    },
    {
     "cell_type": "code",
     "collapsed": false,
     "input": [
      "dirname='proteasis'\n",
      "file_names = !ls $dirname\n",
      "names = [name.split('.')[0] for name in file_names]\n",
      "print(names)"
     ],
     "language": "python",
     "metadata": {},
     "outputs": [
      {
       "output_type": "stream",
       "stream": "stdout",
       "text": [
        "['CAPN1', 'CAPN2', 'CASP1', 'CASP3', 'CASP7', 'CMA1', 'CTSB', 'CTSD', 'CTSE', 'CTSG', 'CTSK', 'CTSL1', 'CTSS', 'ELANE', 'F2', 'FURIN', 'GZMA', 'GZMB', 'GZMM', 'HPN', 'HTRA2', 'KLK4', 'MEP1A', 'MEP1B', 'MME', 'MMP12', 'MMP13', 'MMP14', 'MMP2', 'MMP3', 'MMP7', 'MMP8', 'MMP9', 'PCSK2', 'PCSK4', 'PCSK5', 'PCSK6', 'PCSK7', 'PGA3', 'PLG', 'ST14', 'TMPRSS11E', 'TMPRSS6', 'TMPRSS7']\n"
       ]
      }
     ]
    },
    {
     "cell_type": "code",
     "collapsed": false,
     "input": [
      "import time\n",
      "import datetime\n",
      "\n",
      "for name in names:\n",
      "    start=time.time()\n",
      "    print '-'*80\n",
      "    print 'Processing: %s'%name\n",
      "    fname=dirname+'/'+name+'.fasta'\n",
      "    model_fname=name+'.model'\n",
      "    train_protease_model(fname=fname, model_fname=model_fname, \n",
      "                         neg_size_factor=10, \n",
      "                         n_iter=20, \n",
      "                         threshold=1, \n",
      "                         n_active_learning_iterations=4, \n",
      "                         verbose=1)\n",
      "    print 'Elapsed: %s'%(datetime.timedelta(time.time()-start))"
     ],
     "language": "python",
     "metadata": {},
     "outputs": [
      {
       "output_type": "stream",
       "stream": "stdout",
       "text": [
        "Processing: CAPN1\n",
        "\n"
       ]
      },
      {
       "output_type": "stream",
       "stream": "stdout",
       "text": [
        "Iteration: 1/20 (at 29.5 sec; 0:00:29.541526)\n",
        "Best score (roc_auc): 0.517753 (0.547321 +- 0.029568)\n",
        "Instances: 364 ; Features: 1048577 with an avg of 31 features per instance\n",
        "class: 1 count:182 (0.50)\tclass: -1 count:182 (0.50)\t\n",
        "\n"
       ]
      },
      {
       "output_type": "stream",
       "stream": "stdout",
       "text": [
        "Iteration: 2/20 (at 79.3 sec; 0:01:19.293283)\n",
        "Best score (roc_auc): 0.753619 (0.781697 +- 0.028078)\n",
        "Instances: 364 ; Features: 1048577 with an avg of 117 features per instance\n",
        "class: 1 count:182 (0.50)\tclass: -1 count:182 (0.50)\t\n",
        "\n"
       ]
      },
      {
       "output_type": "stream",
       "stream": "stdout",
       "text": [
        "Iteration: 3/20 (at 108.7 sec; 0:01:48.652656)\n",
        "Best score (roc_auc): 0.998997 (0.999450 +- 0.000454)\n",
        "Instances: 364 ; Features: 1048577 with an avg of 31 features per instance\n",
        "class: 1 count:182 (0.50)\tclass: -1 count:182 (0.50)\t\n",
        "Processing: CAPN2"
       ]
      },
      {
       "output_type": "stream",
       "stream": "stdout",
       "text": [
        "\n",
        "\n"
       ]
      },
      {
       "output_type": "stream",
       "stream": "stdout",
       "text": [
        "Iteration: 1/20 (at 47.9 sec; 0:00:47.858545)\n",
        "Best score (roc_auc): 0.538382 (0.551867 +- 0.013485)\n",
        "Instances: 600 ; Features: 1048577 with an avg of 31 features per instance\n",
        "class: 1 count:300 (0.50)\tclass: -1 count:300 (0.50)\t\n",
        "\n"
       ]
      },
      {
       "output_type": "stream",
       "stream": "stdout",
       "text": [
        "Iteration: 2/20 (at 100.4 sec; 0:01:40.414897)\n",
        "Best score (roc_auc): 0.946340 (0.956717 +- 0.010376)\n",
        "Instances: 600 ; Features: 1048577 with an avg of 42 features per instance\n",
        "class: 1 count:300 (0.50)\tclass: -1 count:300 (0.50)\t\n",
        "\n",
        "Failed iteration: 14/20 (at 1114.2 sec; 0:18:34.191691)"
       ]
      },
      {
       "output_type": "stream",
       "stream": "stdout",
       "text": [
        "\n",
        "\n"
       ]
      },
      {
       "output_type": "stream",
       "stream": "stdout",
       "text": [
        "Iteration: 17/20 (at 1365.0 sec; 0:22:45.034769)\n",
        "Best score (roc_auc): 0.964728 (0.969517 +- 0.004789)\n",
        "Instances: 600 ; Features: 1048577 with an avg of 131 features per instance\n",
        "class: 1 count:300 (0.50)\tclass: -1 count:300 (0.50)\t\n",
        "Processing: CASP1"
       ]
      },
      {
       "output_type": "stream",
       "stream": "stdout",
       "text": [
        "\n",
        "\n"
       ]
      },
      {
       "output_type": "stream",
       "stream": "stdout",
       "text": [
        "Iteration: 1/20 (at 52.9 sec; 0:00:52.938581)\n",
        "Best score (roc_auc): 0.802507 (0.819422 +- 0.016916)\n",
        "Instances: 672 ; Features: 1048577 with an avg of 31 features per instance\n",
        "class: 1 count:336 (0.50)\tclass: -1 count:336 (0.50)\t\n",
        "\n"
       ]
      }
     ]
    },
    {
     "cell_type": "code",
     "collapsed": false,
     "input": [
      "%%time\n",
      "\n",
      "#Test \n",
      "n_models=len(names)\n",
      "#n_models=4\n",
      "\n",
      "dataset_sizes={}\n",
      "for name in names:\n",
      "    fname=dirname+'/'+name+'.fasta'\n",
      "    from eden.converter.fasta import fasta_to_sequence\n",
      "    seqs = fasta_to_sequence( fname )\n",
      "    dataset_sizes[name] = sum(1 for x in seqs)\n",
      "    \n",
      "for test_name in names[:n_models]:\n",
      "    for train_name in names[:n_models]:\n",
      "        model_fname=train_name+'.model'\n",
      "        test_fname=dirname+'/'+test_name+'.fasta'\n",
      "        iterable = test_protease_model(fname=test_fname, model_fname=model_fname)\n",
      "        n_positives = sum( 1 for prediction, seq in iterable if prediction > 0)\n",
      "        print 'model trained on %s (%d instances) and tested on %s (%d instances) predicts %d positives'%(train_name, \n",
      "                                                                                                          dataset_sizes[train_name],\n",
      "                                                                                                          test_name, \n",
      "                                                                                                          dataset_sizes[test_name],\n",
      "                                                                                                          n_positives)"
     ],
     "language": "python",
     "metadata": {},
     "outputs": []
    }
   ],
   "metadata": {}
  }
 ]
}