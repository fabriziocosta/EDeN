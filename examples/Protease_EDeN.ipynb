{
 "metadata": {
  "name": "",
  "signature": "sha256:e2b31b5ffd4820743cff01139623fa278f76f49ac1d2cea2b2745912a6d9fb65"
 },
 "nbformat": 3,
 "nbformat_minor": 0,
 "worksheets": [
  {
   "cells": [
    {
     "cell_type": "code",
     "collapsed": false,
     "input": [
      "def train_protease_model(fname=None, model_fname=None, neg_size_factor=5, n_iter=40, threshold=1, n_active_learning_iterations=4, verbose=0):\n",
      "    \n",
      "    def pre_processor( seqs, **args ):\n",
      "        #insert landmark in the cleavage site after pos 4, in our case this means always in the middle position\n",
      "        from eden.modifier.seq import seq_to_seq, mark_modifier \n",
      "        seqs = seq_to_seq( seqs, modifier = mark_modifier, position = 0.5, mark = '%' )\n",
      "        seqs = seq_to_seq( seqs, modifier = mark_modifier, position = 0.0, mark = '@' )\n",
      "        seqs = seq_to_seq( seqs, modifier = mark_modifier, position = 1.0, mark = '*' )\n",
      "        #convert to graph\n",
      "        from eden.converter.fasta import sequence_to_eden\n",
      "        graphs = sequence_to_eden( seqs )\n",
      "        return graphs\n",
      "\n",
      "    from eden.graph import Vectorizer\n",
      "    vectorizer = Vectorizer()\n",
      "\n",
      "    from sklearn.linear_model import SGDClassifier\n",
      "    estimator = SGDClassifier(class_weight='auto', shuffle=True)\n",
      "    \n",
      "    #create iterable from files\n",
      "    from eden.converter.fasta import fasta_to_sequence\n",
      "    seqs = fasta_to_sequence( fname )\n",
      "\n",
      "    from itertools import tee\n",
      "    seqs,seqs_,seqs__=tee(seqs,3)\n",
      "\n",
      "    #count positive instances\n",
      "    active_set_size=sum(1 for x in seqs__)\n",
      "    \n",
      "    iterable_pos_train = seqs\n",
      "    from eden.modifier.seq import seq_to_seq, shuffle_modifier\n",
      "    iterable_neg_train = seq_to_seq( seqs_, modifier=shuffle_modifier, times=neg_size_factor, order=2 )\n",
      "\n",
      "    #make predictive model\n",
      "    from eden.model import ActiveLearningBinaryClassificationModel\n",
      "    model = ActiveLearningBinaryClassificationModel( pre_processor, estimator=estimator, vectorizer=vectorizer )\n",
      "\n",
      "    #optimize hyperparameters and fit model\n",
      "    from numpy.random import randint\n",
      "    from numpy.random import uniform\n",
      "\n",
      "    pre_processor_parameters={}\n",
      "\n",
      "    vectorizer_parameters={'r':[2,3], 'd':[0,1,2,3,4,5]}\n",
      "\n",
      "    estimator_parameters={'n_iter':randint(5, 100, size=n_iter),\n",
      "                          'penalty':['l1','l2','elasticnet'],\n",
      "                          'l1_ratio':uniform(0.1,0.9, size=n_iter), \n",
      "                          'loss':['hinge', 'log', 'modified_huber', 'squared_hinge', 'perceptron'],\n",
      "                          'power_t':uniform(0.1, size=n_iter),\n",
      "                          'alpha': [10**x for x in range(-8,0)],\n",
      "                          'eta0': [10**x for x in range(-4,-1)],\n",
      "                          'learning_rate': [\"invscaling\", \"constant\", \"optimal\"]}\n",
      "\n",
      "    model.optimize(iterable_pos_train, iterable_neg_train,\n",
      "                   model_name=model_fname, \n",
      "                   n_active_learning_iterations=n_active_learning_iterations,\n",
      "                   size_positive=-1,\n",
      "                   size_negative=active_set_size,\n",
      "                   lower_bound_threshold_positive=-threshold,\n",
      "                   upper_bound_threshold_positive=threshold,\n",
      "                   lower_bound_threshold_negative=-threshold,\n",
      "                   upper_bound_threshold_negative=threshold,                                              \n",
      "                   n_iter=n_iter, cv=3, n_jobs=1, verbose=verbose,\n",
      "                   pre_processor_parameters=pre_processor_parameters, \n",
      "                   vectorizer_parameters=vectorizer_parameters, \n",
      "                   estimator_parameters=estimator_parameters)"
     ],
     "language": "python",
     "metadata": {},
     "outputs": [],
     "prompt_number": 5
    },
    {
     "cell_type": "code",
     "collapsed": false,
     "input": [
      "def test_protease_model(fname=None, model_fname=None):\n",
      "    from eden.model import ActiveLearningBinaryClassificationModel\n",
      "\n",
      "    model = ActiveLearningBinaryClassificationModel()\n",
      "    model.load(model_fname)\n",
      "\n",
      "    from eden.converter.fasta import fasta_to_sequence\n",
      "    seqs = fasta_to_sequence( fname )\n",
      "    from itertools import tee\n",
      "    seqs,seqs_=tee(seqs)\n",
      "    predictions= model.decision_function( seqs_ )\n",
      "    from itertools import izip\n",
      "    return izip(predictions,seqs)"
     ],
     "language": "python",
     "metadata": {},
     "outputs": [],
     "prompt_number": 6
    },
    {
     "cell_type": "markdown",
     "metadata": {},
     "source": [
      "#Models Training"
     ]
    },
    {
     "cell_type": "code",
     "collapsed": false,
     "input": [
      "dirname='proteasis'\n",
      "file_names = !ls $dirname\n",
      "names = [name.split('.')[0] for name in file_names]\n",
      "print(names)"
     ],
     "language": "python",
     "metadata": {},
     "outputs": [
      {
       "output_type": "stream",
       "stream": "stdout",
       "text": [
        "['CAPN1', 'CAPN2', 'CASP1', 'CASP3', 'CASP7', 'CMA1', 'CTSB', 'CTSD', 'CTSE', 'CTSG', 'CTSK', 'CTSL1', 'CTSS', 'ELANE', 'F2', 'FURIN', 'GZMA', 'GZMB', 'GZMM', 'HPN', 'HTRA2', 'KLK4', 'MEP1A', 'MEP1B', 'MME', 'MMP12', 'MMP13', 'MMP14', 'MMP2', 'MMP3', 'MMP7', 'MMP8', 'MMP9', 'PCSK2', 'PCSK4', 'PCSK5', 'PCSK6', 'PCSK7', 'PGA3', 'PLG', 'ST14', 'TMPRSS11E', 'TMPRSS6', 'TMPRSS7']\n"
       ]
      }
     ],
     "prompt_number": 7
    },
    {
     "cell_type": "code",
     "collapsed": false,
     "input": [
      "import time\n",
      "import datetime\n",
      "\n",
      "for name in names:\n",
      "    start=time.time()\n",
      "    print '-'*80\n",
      "    print 'Processing: %s'%name\n",
      "    fname=dirname+'/'+name+'.fasta'\n",
      "    model_fname=name+'.model'\n",
      "    train_protease_model(fname=fname, model_fname=model_fname, \n",
      "                         neg_size_factor=10, \n",
      "                         n_iter=20, \n",
      "                         threshold=1, \n",
      "                         n_active_learning_iterations=4, \n",
      "                         verbose=1)\n",
      "    print 'Elapsed: %s'%(datetime.timedelta(time.time()-start))"
     ],
     "language": "python",
     "metadata": {},
     "outputs": [
      {
       "output_type": "stream",
       "stream": "stdout",
       "text": [
        "--------------------------------------------------------------------------------\n",
        "Processing: CAPN1\n",
        "\n"
       ]
      },
      {
       "output_type": "stream",
       "stream": "stdout",
       "text": [
        "Iteration: 1/20 (at 30.7 sec; 0:00:30.728387)\n",
        "Best score (roc_auc): 0.452176 (0.504414 +- 0.052238)\n",
        "Instances: 364 ; Features: 1048577 with an avg of 31 features per instance\n",
        "class: 1 count:182 (0.50)\tclass: -1 count:182 (0.50)\t\n",
        "\n"
       ]
      },
      {
       "output_type": "stream",
       "stream": "stdout",
       "text": [
        "Iteration: 2/20 (at 83.2 sec; 0:01:23.156884)\n",
        "Best score (roc_auc): 0.839112 (0.863491 +- 0.024378)\n",
        "Instances: 364 ; Features: 1048577 with an avg of 117 features per instance\n",
        "class: 1 count:182 (0.50)\tclass: -1 count:182 (0.50)\t\n",
        "\n"
       ]
      },
      {
       "output_type": "stream",
       "stream": "stdout",
       "text": [
        "Iteration: 3/20 (at 114.1 sec; 0:01:54.132332)\n",
        "Best score (roc_auc): 1.000000 (1.000000 +- 0.000000)\n",
        "Instances: 364 ; Features: 1048577 with an avg of 31 features per instance\n",
        "class: 1 count:182 (0.50)\tclass: -1 count:182 (0.50)\t\n",
        "\n",
        "Failed iteration: 15/20 (at 688.0 sec; 0:11:28.043673)"
       ]
      },
      {
       "output_type": "stream",
       "stream": "stdout",
       "text": [
        "\n",
        "Elapsed: 919 days, 0:21:35.205688"
       ]
      },
      {
       "output_type": "stream",
       "stream": "stdout",
       "text": [
        "\n",
        "--------------------------------------------------------------------------------\n",
        "Processing: CAPN2\n",
        "\n"
       ]
      },
      {
       "output_type": "stream",
       "stream": "stdout",
       "text": [
        "Iteration: 1/20 (at 49.6 sec; 0:00:49.610744)\n",
        "Best score (roc_auc): 0.548729 (0.571367 +- 0.022638)\n",
        "Instances: 600 ; Features: 1048577 with an avg of 31 features per instance\n",
        "class: 1 count:300 (0.50)\tclass: -1 count:300 (0.50)\t\n",
        "\n"
       ]
      },
      {
       "output_type": "stream",
       "stream": "stdout",
       "text": [
        "Iteration: 2/20 (at 104.7 sec; 0:01:44.672583)\n",
        "Best score (roc_auc): 0.968125 (0.978933 +- 0.010808)\n",
        "Instances: 600 ; Features: 1048577 with an avg of 42 features per instance\n",
        "class: 1 count:300 (0.50)\tclass: -1 count:300 (0.50)\t\n",
        "\n"
       ]
      },
      {
       "output_type": "stream",
       "stream": "stdout",
       "text": [
        "Iteration: 3/20 (at 211.1 sec; 0:03:31.082292)\n",
        "Best score (roc_auc): 0.980078 (0.981833 +- 0.001756)\n",
        "Instances: 600 ; Features: 1048577 with an avg of 176 features per instance\n",
        "class: 1 count:300 (0.50)\tclass: -1 count:300 (0.50)\t\n",
        "\n",
        "Failed iteration: 13/20 (at 990.5 sec; 0:16:30.458747)"
       ]
      },
      {
       "output_type": "stream",
       "stream": "stdout",
       "text": [
        "\n",
        "Elapsed: 1640 days, 6:36:59.190216"
       ]
      },
      {
       "output_type": "stream",
       "stream": "stdout",
       "text": [
        "\n",
        "--------------------------------------------------------------------------------\n",
        "Processing: CASP1\n",
        "\n"
       ]
      },
      {
       "output_type": "stream",
       "stream": "stdout",
       "text": [
        "Iteration: 1/20 (at 53.7 sec; 0:00:53.728508)\n",
        "Best score (roc_auc): 0.797167 (0.813629 +- 0.016463)\n",
        "Instances: 672 ; Features: 1048577 with an avg of 31 features per instance\n",
        "class: 1 count:336 (0.50)\tclass: -1 count:336 (0.50)\t\n",
        "\n"
       ]
      },
      {
       "output_type": "stream",
       "stream": "stdout",
       "text": [
        "Iteration: 2/20 (at 130.1 sec; 0:02:10.055594)\n",
        "Best score (roc_auc): 0.829653 (0.837691 +- 0.008039)\n",
        "Instances: 672 ; Features: 1048577 with an avg of 81 features per instance\n",
        "class: 1 count:336 (0.50)\tclass: -1 count:336 (0.50)\t\n",
        "\n"
       ]
      },
      {
       "output_type": "stream",
       "stream": "stdout",
       "text": [
        "Iteration: 3/20 (at 195.8 sec; 0:03:15.807293)\n",
        "Best score (roc_auc): 0.975376 (0.983976 +- 0.008601)\n",
        "Instances: 672 ; Features: 1048577 with an avg of 60 features per instance\n",
        "class: 1 count:336 (0.50)\tclass: -1 count:336 (0.50)\t\n",
        "\n",
        "Failed iteration: 6/20 (at 318.3 sec; 0:05:18.345766)"
       ]
      },
      {
       "output_type": "stream",
       "stream": "stdout",
       "text": [
        "\n",
        "\n"
       ]
      },
      {
       "output_type": "stream",
       "stream": "stdout",
       "text": [
        "Iteration: 10/20 (at 615.1 sec; 0:10:15.098512)\n",
        "Best score (roc_auc): 0.991848 (0.994699 +- 0.002850)\n",
        "Instances: 672 ; Features: 1048577 with an avg of 149 features per instance\n",
        "class: 1 count:336 (0.50)\tclass: -1 count:336 (0.50)\t\n",
        "Elapsed: 1580 days, 1:03:33.704681"
       ]
      },
      {
       "output_type": "stream",
       "stream": "stdout",
       "text": [
        "\n",
        "--------------------------------------------------------------------------------\n",
        "Processing: CASP3\n",
        "\n"
       ]
      },
      {
       "output_type": "stream",
       "stream": "stdout",
       "text": [
        "Iteration: 1/20 (at 173.1 sec; 0:02:53.096866)\n",
        "Best score (roc_auc): 0.867448 (0.877890 +- 0.010441)\n",
        "Instances: 2208 ; Features: 1048577 with an avg of 30 features per instance\n",
        "class: 1 count:1104 (0.50)\tclass: -1 count:1104 (0.50)\t\n",
        "\n"
       ]
      },
      {
       "output_type": "stream",
       "stream": "stdout",
       "text": [
        "Iteration: 2/20 (at 465.5 sec; 0:07:45.543443)\n",
        "Best score (roc_auc): 0.913705 (0.915707 +- 0.002002)\n",
        "Instances: 2208 ; Features: 1048577 with an avg of 110 features per instance\n",
        "class: 1 count:1104 (0.50)\tclass: -1 count:1104 (0.50)\t\n",
        "\n"
       ]
      },
      {
       "output_type": "stream",
       "stream": "stdout",
       "text": [
        "Iteration: 4/20 (at 826.2 sec; 0:13:46.175634)\n",
        "Best score (roc_auc): 0.919784 (0.930709 +- 0.010925)\n",
        "Instances: 2208 ; Features: 1048577 with an avg of 30 features per instance\n",
        "class: 1 count:1104 (0.50)\tclass: -1 count:1104 (0.50)\t\n",
        "\n"
       ]
      },
      {
       "output_type": "stream",
       "stream": "stdout",
       "text": [
        "Iteration: 6/20 (at 1262.3 sec; 0:21:02.254081)\n",
        "Best score (roc_auc): 0.942319 (0.957174 +- 0.014855)\n",
        "Instances: 2208 ; Features: 1048577 with an avg of 41 features per instance\n",
        "class: 1 count:1104 (0.50)\tclass: -1 count:1104 (0.50)\t\n",
        "\n",
        "Failed iteration: 10/20 (at 1852.9 sec; 0:30:52.921545)"
       ]
      },
      {
       "output_type": "stream",
       "stream": "stdout",
       "text": [
        "\n",
        "\n",
        "Failed iteration: 12/20 (at 2159.7 sec; 0:35:59.747177)"
       ]
      },
      {
       "output_type": "stream",
       "stream": "stdout",
       "text": [
        "\n",
        "\n"
       ]
      },
      {
       "output_type": "stream",
       "stream": "stdout",
       "text": [
        "Iteration: 15/20 (at 2923.7 sec; 0:48:43.695376)\n",
        "Best score (roc_auc): 0.989081 (0.991191 +- 0.002110)\n",
        "Instances: 1311 ; Features: 1048577 with an avg of 149 features per instance\n",
        "class: 1 count:1104 (0.84)\tclass: -1 count:207 (0.16)\t\n",
        "Elapsed: 4699 days, 8:20:32.988739"
       ]
      },
      {
       "output_type": "stream",
       "stream": "stdout",
       "text": [
        "\n",
        "--------------------------------------------------------------------------------\n",
        "Processing: CASP7\n",
        "\n"
       ]
      },
      {
       "output_type": "stream",
       "stream": "stdout",
       "text": [
        "Iteration: 1/20 (at 47.9 sec; 0:00:47.904903)\n",
        "Best score (roc_auc): 0.868509 (0.890335 +- 0.021826)\n",
        "Instances: 592 ; Features: 1048577 with an avg of 31 features per instance\n",
        "class: 1 count:296 (0.50)\tclass: -1 count:296 (0.50)\t\n",
        "\n"
       ]
      },
      {
       "output_type": "stream",
       "stream": "stdout",
       "text": [
        "Iteration: 3/20 (at 153.9 sec; 0:02:33.881207)\n",
        "Best score (roc_auc): 0.937187 (0.938121 +- 0.000933)\n",
        "Instances: 592 ; Features: 1048577 with an avg of 42 features per instance\n",
        "class: 1 count:296 (0.50)\tclass: -1 count:296 (0.50)\t\n",
        "\n"
       ]
      },
      {
       "output_type": "stream",
       "stream": "stdout",
       "text": [
        "Iteration: 8/20 (at 539.1 sec; 0:08:59.055101)\n",
        "Best score (roc_auc): 0.941987 (0.951861 +- 0.009874)\n",
        "Instances: 592 ; Features: 1048577 with an avg of 131 features per instance\n",
        "class: 1 count:296 (0.50)\tclass: -1 count:296 (0.50)\t\n",
        "\n",
        "Failed iteration: 10/20 (at 637.4 sec; 0:10:37.357987)"
       ]
      },
      {
       "output_type": "stream",
       "stream": "stdout",
       "text": [
        "\n",
        "\n"
       ]
      },
      {
       "output_type": "stream",
       "stream": "stdout",
       "text": [
        "Iteration: 11/20 (at 741.8 sec; 0:12:21.832327)\n",
        "Best score (roc_auc): 0.949549 (0.960685 +- 0.011136)\n",
        "Instances: 592 ; Features: 1048577 with an avg of 176 features per instance\n",
        "class: 1 count:296 (0.50)\tclass: -1 count:296 (0.50)\t\n",
        "\n"
       ]
      },
      {
       "output_type": "stream",
       "stream": "stdout",
       "text": [
        "Iteration: 13/20 (at 890.0 sec; 0:14:49.964870)\n",
        "Best score (roc_auc): 0.958578 (0.974211 +- 0.015634)\n",
        "Instances: 583 ; Features: 1048577 with an avg of 111 features per instance\n",
        "class: 1 count:296 (0.51)\tclass: -1 count:287 (0.49)\t\n",
        "\n",
        "Failed iteration: 16/20 (at 1053.3 sec; 0:17:33.254543)"
       ]
      },
      {
       "output_type": "stream",
       "stream": "stdout",
       "text": [
        "\n",
        "Elapsed: 1402 days, 1:36:44.262543"
       ]
      },
      {
       "output_type": "stream",
       "stream": "stdout",
       "text": [
        "\n",
        "--------------------------------------------------------------------------------\n",
        "Processing: CMA1\n",
        "\n"
       ]
      },
      {
       "output_type": "stream",
       "stream": "stdout",
       "text": [
        "Iteration: 1/20 (at 16.0 sec; 0:00:15.998772)\n",
        "Best score (roc_auc): 0.599865 (0.653604 +- 0.053740)\n",
        "Instances: 188 ; Features: 1048577 with an avg of 31 features per instance\n",
        "class: 1 count:94 (0.50)\tclass: -1 count:94 (0.50)\t\n",
        "\n"
       ]
      },
      {
       "output_type": "stream",
       "stream": "stdout",
       "text": [
        "Iteration: 2/20 (at 46.2 sec; 0:00:46.203222)\n",
        "Best score (roc_auc): 0.978831 (0.982780 +- 0.003948)\n",
        "Instances: 188 ; Features: 1048577 with an avg of 150 features per instance\n",
        "class: 1 count:94 (0.50)\tclass: -1 count:94 (0.50)\t\n",
        "\n"
       ]
      },
      {
       "output_type": "stream",
       "stream": "stdout",
       "text": [
        "Iteration: 5/20 (at 105.0 sec; 0:01:44.968561)\n",
        "Best score (roc_auc): 1.000000 (1.000000 +- 0.000000)\n",
        "Instances: 188 ; Features: 1048577 with an avg of 82 features per instance\n",
        "class: 1 count:94 (0.50)\tclass: -1 count:94 (0.50)\t\n",
        "Elapsed: 515 days, 9:03:11.100311"
       ]
      },
      {
       "output_type": "stream",
       "stream": "stdout",
       "text": [
        "\n",
        "--------------------------------------------------------------------------------\n",
        "Processing: CTSB\n",
        "\n"
       ]
      },
      {
       "output_type": "stream",
       "stream": "stdout",
       "text": [
        "Iteration: 1/20 (at 185.4 sec; 0:03:05.447790)\n",
        "Best score (roc_auc): 0.500635 (0.504252 +- 0.003616)\n",
        "Instances: 2316 ; Features: 1048577 with an avg of 30 features per instance\n",
        "class: 1 count:1158 (0.50)\tclass: -1 count:1158 (0.50)\t\n",
        "\n"
       ]
      },
      {
       "output_type": "stream",
       "stream": "stdout",
       "text": [
        "Iteration: 3/20 (at 801.5 sec; 0:13:21.527222)\n",
        "Best score (roc_auc): 0.663801 (0.684500 +- 0.020699)\n",
        "Instances: 2316 ; Features: 1048577 with an avg of 86 features per instance\n",
        "class: 1 count:1158 (0.50)\tclass: -1 count:1158 (0.50)\t\n",
        "\n"
       ]
      },
      {
       "output_type": "stream",
       "stream": "stdout",
       "text": [
        "Iteration: 4/20 (at 1160.7 sec; 0:19:20.660605)\n",
        "Best score (roc_auc): 0.943456 (0.947772 +- 0.004315)\n",
        "Instances: 2316 ; Features: 1048577 with an avg of 148 features per instance\n",
        "class: 1 count:1158 (0.50)\tclass: -1 count:1158 (0.50)\t\n",
        "\n"
       ]
      },
      {
       "output_type": "stream",
       "stream": "stdout",
       "text": [
        "Iteration: 11/20 (at 3339.3 sec; 0:55:39.269183)\n",
        "Best score (roc_auc): 0.982231 (0.984906 +- 0.002675)\n",
        "Instances: 2316 ; Features: 1048577 with an avg of 116 features per instance\n",
        "class: 1 count:1158 (0.50)\tclass: -1 count:1158 (0.50)\t\n",
        "\n",
        "Failed iteration: 12/20 (at 3344.2 sec; 0:55:44.236262)"
       ]
      },
      {
       "output_type": "stream",
       "stream": "stdout",
       "text": [
        "\n",
        "Elapsed: 5793 days, 10:40:52.752686"
       ]
      },
      {
       "output_type": "stream",
       "stream": "stdout",
       "text": [
        "\n",
        "--------------------------------------------------------------------------------\n",
        "Processing: CTSD\n",
        "\n"
       ]
      },
      {
       "output_type": "stream",
       "stream": "stdout",
       "text": [
        "Iteration: 1/20 (at 236.4 sec; 0:03:56.372032)\n",
        "Best score (roc_auc): 0.560427 (0.574674 +- 0.014247)\n",
        "Instances: 2988 ; Features: 1048577 with an avg of 31 features per instance\n",
        "class: 1 count:1494 (0.50)\tclass: -1 count:1494 (0.50)\t\n",
        "\n",
        "Failed iteration: 2/20 (at 244.7 sec; 0:04:04.681957)"
       ]
      },
      {
       "output_type": "stream",
       "stream": "stdout",
       "text": [
        "\n",
        "\n"
       ]
      },
      {
       "output_type": "stream",
       "stream": "stdout",
       "text": [
        "Iteration: 3/20 (at 649.4 sec; 0:10:49.424976)\n",
        "Best score (roc_auc): 0.733782 (0.752604 +- 0.018822)\n",
        "Instances: 2988 ; Features: 1048577 with an avg of 111 features per instance\n",
        "class: 1 count:1494 (0.50)\tclass: -1 count:1494 (0.50)\t\n",
        "\n",
        "Failed iteration: 4/20 (at 660.4 sec; 0:11:00.416538)"
       ]
      },
      {
       "output_type": "stream",
       "stream": "stdout",
       "text": [
        "\n",
        "\n"
       ]
      },
      {
       "output_type": "stream",
       "stream": "stdout",
       "text": [
        "Iteration: 5/20 (at 919.3 sec; 0:15:19.348227)\n",
        "Best score (roc_auc): 0.968302 (0.974861 +- 0.006559)\n",
        "Instances: 2988 ; Features: 1048577 with an avg of 42 features per instance\n",
        "class: 1 count:1494 (0.50)\tclass: -1 count:1494 (0.50)\t\n",
        "\n"
       ]
      },
      {
       "output_type": "stream",
       "stream": "stdout",
       "text": [
        "Iteration: 7/20 (at 1576.5 sec; 0:26:16.470436)\n",
        "Best score (roc_auc): 0.982437 (0.986034 +- 0.003597)\n",
        "Instances: 2988 ; Features: 1048577 with an avg of 111 features per instance\n",
        "class: 1 count:1494 (0.50)\tclass: -1 count:1494 (0.50)\t\n",
        "Elapsed: 7009 days, 21:35:13.350677"
       ]
      },
      {
       "output_type": "stream",
       "stream": "stdout",
       "text": [
        "\n",
        "--------------------------------------------------------------------------------\n",
        "Processing: CTSE\n",
        "\n"
       ]
      },
      {
       "output_type": "stream",
       "stream": "stdout",
       "text": [
        "Iteration: 1/20 (at 418.8 sec; 0:06:58.842727)\n",
        "Best score (roc_auc): 0.563591 (0.581273 +- 0.017682)\n",
        "Instances: 5392 ; Features: 1048577 with an avg of 31 features per instance\n",
        "class: 1 count:2696 (0.50)\tclass: -1 count:2696 (0.50)\t\n",
        "\n"
       ]
      },
      {
       "output_type": "stream",
       "stream": "stdout",
       "text": [
        "Iteration: 2/20 (at 1365.2 sec; 0:22:45.244428)\n",
        "Best score (roc_auc): 0.827040 (0.837689 +- 0.010649)\n",
        "Instances: 5392 ; Features: 1048577 with an avg of 177 features per instance\n",
        "class: 1 count:2696 (0.50)\tclass: -1 count:2696 (0.50)\t\n",
        "\n"
       ]
      },
      {
       "output_type": "stream",
       "stream": "stdout",
       "text": [
        "Iteration: 10/20 (at 6916.4 sec; 1:55:16.449402)\n",
        "Best score (roc_auc): 0.839331 (0.844694 +- 0.005364)\n",
        "Instances: 5392 ; Features: 1048577 with an avg of 42 features per instance\n",
        "class: 1 count:2696 (0.50)\tclass: -1 count:2696 (0.50)\t\n",
        "\n"
       ]
      },
      {
       "output_type": "stream",
       "stream": "stdout",
       "text": [
        "Iteration: 16/20 (at 11528.5 sec; 3:12:08.515517)\n",
        "Best score (roc_auc): 0.924483 (0.943028 +- 0.018545)\n",
        "Instances: 3192 ; Features: 1048577 with an avg of 177 features per instance\n",
        "class: 1 count:2696 (0.84)\tclass: -1 count:496 (0.16)\t\n",
        "\n"
       ]
      },
      {
       "output_type": "stream",
       "stream": "stdout",
       "text": [
        "Iteration: 20/20 (at 14486.8 sec; 4:01:26.814695)\n",
        "Best score (roc_auc): 0.927443 (0.934805 +- 0.007363)\n",
        "Instances: 3035 ; Features: 1048577 with an avg of 201 features per instance\n",
        "class: 1 count:2696 (0.89)\tclass: -1 count:339 (0.11)\t\n",
        "Elapsed: 14789 days, 0:08:45.922394"
       ]
      },
      {
       "output_type": "stream",
       "stream": "stdout",
       "text": [
        "\n",
        "--------------------------------------------------------------------------------\n",
        "Processing: CTSG\n",
        "\n"
       ]
      },
      {
       "output_type": "stream",
       "stream": "stdout",
       "text": [
        "Iteration: 1/20 (at 76.7 sec; 0:01:16.741971)\n",
        "Best score (roc_auc): 0.529517 (0.548908 +- 0.019391)\n",
        "Instances: 968 ; Features: 1048577 with an avg of 31 features per instance\n",
        "class: 1 count:484 (0.50)\tclass: -1 count:484 (0.50)\t\n",
        "\n"
       ]
      },
      {
       "output_type": "stream",
       "stream": "stdout",
       "text": [
        "Iteration: 2/20 (at 160.7 sec; 0:02:40.706782)\n",
        "Best score (roc_auc): 0.782075 (0.805551 +- 0.023476)\n",
        "Instances: 968 ; Features: 1048577 with an avg of 42 features per instance\n",
        "class: 1 count:484 (0.50)\tclass: -1 count:484 (0.50)\t\n",
        "\n"
       ]
      },
      {
       "output_type": "stream",
       "stream": "stdout",
       "text": [
        "Iteration: 5/20 (at 425.3 sec; 0:07:05.303680)\n",
        "Best score (roc_auc): 0.797317 (0.818250 +- 0.020933)\n",
        "Instances: 968 ; Features: 1048577 with an avg of 60 features per instance\n",
        "class: 1 count:484 (0.50)\tclass: -1 count:484 (0.50)\t\n",
        "\n"
       ]
      },
      {
       "output_type": "stream",
       "stream": "stdout",
       "text": [
        "Iteration: 6/20 (at 575.9 sec; 0:09:35.858792)\n",
        "Best score (roc_auc): 0.905941 (0.914826 +- 0.008885)\n",
        "Instances: 968 ; Features: 1048577 with an avg of 149 features per instance\n",
        "class: 1 count:484 (0.50)\tclass: -1 count:484 (0.50)\t\n",
        "\n"
       ]
      },
      {
       "output_type": "stream",
       "stream": "stdout",
       "text": [
        "Iteration: 13/20 (at 1598.9 sec; 0:26:38.888439)\n",
        "Best score (roc_auc): 0.929583 (0.940159 +- 0.010576)\n",
        "Instances: 968 ; Features: 1048577 with an avg of 81 features per instance\n",
        "class: 1 count:484 (0.50)\tclass: -1 count:484 (0.50)\t\n",
        "\n"
       ]
      },
      {
       "output_type": "stream",
       "stream": "stdout",
       "text": [
        "Iteration: 16/20 (at 1944.3 sec; 0:32:24.324930)\n",
        "Best score (roc_auc): 0.944744 (0.949267 +- 0.004523)\n",
        "Instances: 968 ; Features: 1048577 with an avg of 42 features per instance\n",
        "class: 1 count:484 (0.50)\tclass: -1 count:484 (0.50)\t\n",
        "\n"
       ]
      },
      {
       "output_type": "stream",
       "stream": "stdout",
       "text": [
        "Iteration: 18/20 (at 2224.7 sec; 0:37:04.678664)\n",
        "Best score (roc_auc): 0.983251 (0.986477 +- 0.003226)\n",
        "Instances: 968 ; Features: 1048577 with an avg of 111 features per instance\n",
        "class: 1 count:484 (0.50)\tclass: -1 count:484 (0.50)\t\n",
        "Elapsed: 2481 days, 21:27:20.657043"
       ]
      },
      {
       "output_type": "stream",
       "stream": "stdout",
       "text": [
        "\n",
        "--------------------------------------------------------------------------------\n",
        "Processing: CTSK\n",
        "\n"
       ]
      },
      {
       "output_type": "stream",
       "stream": "stdout",
       "text": [
        "Iteration: 1/20 (at 38.0 sec; 0:00:37.963174)\n",
        "Best score (roc_auc): 0.573807 (0.581689 +- 0.007881)\n",
        "Instances: 456 ; Features: 1048577 with an avg of 31 features per instance\n",
        "class: 1 count:228 (0.50)\tclass: -1 count:228 (0.50)\t\n",
        "\n"
       ]
      },
      {
       "output_type": "stream",
       "stream": "stdout",
       "text": [
        "Iteration: 2/20 (at 116.5 sec; 0:01:56.530759)\n",
        "Best score (roc_auc): 0.914664 (0.932825 +- 0.018162)\n",
        "Instances: 456 ; Features: 1048577 with an avg of 150 features per instance\n",
        "class: 1 count:228 (0.50)\tclass: -1 count:228 (0.50)\t\n",
        "\n"
       ]
      },
      {
       "output_type": "stream",
       "stream": "stdout",
       "text": [
        "Iteration: 3/20 (at 179.3 sec; 0:02:59.253948)\n",
        "Best score (roc_auc): 0.914935 (0.929276 +- 0.014341)\n",
        "Instances: 456 ; Features: 1048577 with an avg of 117 features per instance\n",
        "class: 1 count:228 (0.50)\tclass: -1 count:228 (0.50)\t\n",
        "\n"
       ]
      },
      {
       "output_type": "stream",
       "stream": "stdout",
       "text": [
        "Iteration: 5/20 (at 321.0 sec; 0:05:20.989448)\n",
        "Best score (roc_auc): 0.953549 (0.961709 +- 0.008160)\n",
        "Instances: 456 ; Features: 1048577 with an avg of 177 features per instance\n",
        "class: 1 count:228 (0.50)\tclass: -1 count:228 (0.50)\t\n",
        "\n"
       ]
      },
      {
       "output_type": "stream",
       "stream": "stdout",
       "text": [
        "Iteration: 15/20 (at 1061.8 sec; 0:17:41.807745)\n",
        "Best score (roc_auc): 0.961650 (0.969327 +- 0.007677)\n",
        "Instances: 456 ; Features: 1048577 with an avg of 201 features per instance\n",
        "class: 1 count:228 (0.50)\tclass: -1 count:228 (0.50)\t\n",
        "Elapsed: 1433 days, 13:01:08.561554"
       ]
      },
      {
       "output_type": "stream",
       "stream": "stdout",
       "text": [
        "\n",
        "--------------------------------------------------------------------------------\n",
        "Processing: CTSL1\n",
        "\n"
       ]
      },
      {
       "output_type": "stream",
       "stream": "stdout",
       "text": [
        "Iteration: 1/20 (at 328.0 sec; 0:05:27.959159)\n",
        "Best score (roc_auc): 0.515720 (0.533891 +- 0.018171)\n",
        "Instances: 4212 ; Features: 1048577 with an avg of 31 features per instance\n",
        "class: 1 count:2106 (0.50)\tclass: -1 count:2106 (0.50)\t\n",
        "\n"
       ]
      },
      {
       "output_type": "stream",
       "stream": "stdout",
       "text": [
        "Iteration: 2/20 (at 930.9 sec; 0:15:30.853010)\n",
        "Best score (roc_auc): 0.921051 (0.935227 +- 0.014176)\n",
        "Instances: 2309 ; Features: 1048577 with an avg of 132 features per instance\n",
        "class: 1 count:2106 (0.91)\tclass: -1 count:203 (0.09)\t\n",
        "\n"
       ]
      },
      {
       "output_type": "stream",
       "stream": "stdout",
       "text": [
        "Iteration: 13/20 (at 7397.6 sec; 2:03:17.619698)\n",
        "Best score (roc_auc): 0.937577 (0.947214 +- 0.009636)\n",
        "Instances: 3935 ; Features: 1048577 with an avg of 60 features per instance\n",
        "class: 1 count:2106 (0.54)\tclass: -1 count:1829 (0.46)\t\n",
        "\n"
       ]
      },
      {
       "output_type": "stream",
       "stream": "stdout",
       "text": [
        "Iteration: 18/20 (at 10330.9 sec; 2:52:10.856892)\n",
        "Best score (roc_auc): 0.959675 (0.971228 +- 0.011554)\n",
        "Instances: 3945 ; Features: 1048577 with an avg of 150 features per instance\n",
        "class: 1 count:2106 (0.53)\tclass: -1 count:1839 (0.47)\t\n",
        "Elapsed: 11484 days, 7:24:09.048615"
       ]
      },
      {
       "output_type": "stream",
       "stream": "stdout",
       "text": [
        "\n",
        "--------------------------------------------------------------------------------\n",
        "Processing: CTSS\n",
        "\n"
       ]
      },
      {
       "output_type": "stream",
       "stream": "stdout",
       "text": [
        "Iteration: 1/20 (at 229.0 sec; 0:03:48.989936)\n",
        "Best score (roc_auc): 0.500959 (0.515693 +- 0.014734)\n",
        "Instances: 2924 ; Features: 1048577 with an avg of 31 features per instance\n",
        "class: 1 count:1462 (0.50)\tclass: -1 count:1462 (0.50)\t\n",
        "\n"
       ]
      },
      {
       "output_type": "stream",
       "stream": "stdout",
       "text": [
        "Iteration: 2/20 (at 549.8 sec; 0:09:09.796886)\n",
        "Best score (roc_auc): 0.928674 (0.937780 +- 0.009106)\n",
        "Instances: 1878 ; Features: 1048577 with an avg of 87 features per instance\n",
        "class: 1 count:1462 (0.78)\tclass: -1 count:416 (0.22)\t\n",
        "\n"
       ]
      },
      {
       "output_type": "stream",
       "stream": "stdout",
       "text": [
        "Iteration: 5/20 (at 1736.8 sec; 0:28:56.790775)\n",
        "Best score (roc_auc): 0.936675 (0.938352 +- 0.001676)\n",
        "Instances: 2924 ; Features: 1048577 with an avg of 149 features per instance\n",
        "class: 1 count:1462 (0.50)\tclass: -1 count:1462 (0.50)\t\n",
        "\n"
       ]
      },
      {
       "output_type": "stream",
       "stream": "stdout",
       "text": [
        "Iteration: 6/20 (at 2128.8 sec; 0:35:28.761229)\n",
        "Best score (roc_auc): 0.937148 (0.946994 +- 0.009845)\n",
        "Instances: 2924 ; Features: 1048577 with an avg of 111 features per instance\n",
        "class: 1 count:1462 (0.50)\tclass: -1 count:1462 (0.50)\t\n",
        "Elapsed: 7530 days, 11:58:25.737305"
       ]
      },
      {
       "output_type": "stream",
       "stream": "stdout",
       "text": [
        "\n",
        "--------------------------------------------------------------------------------\n",
        "Processing: ELANE\n",
        "\n"
       ]
      },
      {
       "output_type": "stream",
       "stream": "stdout",
       "text": [
        "Iteration: 1/20 (at 115.6 sec; 0:01:55.571986)\n",
        "Best score (roc_auc): 0.550155 (0.552998 +- 0.002843)\n",
        "Instances: 1448 ; Features: 1048577 with an avg of 31 features per instance\n",
        "class: 1 count:724 (0.50)\tclass: -1 count:724 (0.50)\t\n",
        "\n"
       ]
      },
      {
       "output_type": "stream",
       "stream": "stdout",
       "text": [
        "Iteration: 2/20 (at 338.1 sec; 0:05:38.055126)\n",
        "Best score (roc_auc): 0.872911 (0.883113 +- 0.010203)\n",
        "Instances: 1448 ; Features: 1048577 with an avg of 132 features per instance\n",
        "class: 1 count:724 (0.50)\tclass: -1 count:724 (0.50)\t\n",
        "\n"
       ]
      },
      {
       "output_type": "stream",
       "stream": "stdout",
       "text": [
        "Iteration: 3/20 (at 481.2 sec; 0:08:01.211691)\n",
        "Best score (roc_auc): 0.915570 (0.919436 +- 0.003867)\n",
        "Instances: 1448 ; Features: 1048577 with an avg of 60 features per instance\n",
        "class: 1 count:724 (0.50)\tclass: -1 count:724 (0.50)\t\n",
        "\n"
       ]
      },
      {
       "output_type": "stream",
       "stream": "stdout",
       "text": [
        "Iteration: 4/20 (at 705.9 sec; 0:11:45.853472)\n",
        "Best score (roc_auc): 0.989199 (0.992966 +- 0.003767)\n",
        "Instances: 1448 ; Features: 1048577 with an avg of 149 features per instance\n",
        "class: 1 count:724 (0.50)\tclass: -1 count:724 (0.50)\t\n",
        "\n",
        "Failed iteration: 13/20 (at 2200.8 sec; 0:36:40.770983)"
       ]
      },
      {
       "output_type": "stream",
       "stream": "stdout",
       "text": [
        "\n",
        "\n",
        "Failed iteration: 17/20 (at 2747.6 sec; 0:45:47.648323)"
       ]
      },
      {
       "output_type": "stream",
       "stream": "stdout",
       "text": [
        "\n",
        "Elapsed: 3366 days, 15:21:08.859100"
       ]
      },
      {
       "output_type": "stream",
       "stream": "stdout",
       "text": [
        "\n",
        "--------------------------------------------------------------------------------\n",
        "Processing: F2\n",
        "\n"
       ]
      },
      {
       "output_type": "stream",
       "stream": "stdout",
       "text": [
        "Iteration: 1/20 (at 40.9 sec; 0:00:40.872936)\n",
        "Best score (roc_auc): 0.853952 (0.870028 +- 0.016076)\n",
        "Instances: 528 ; Features: 1048577 with an avg of 31 features per instance\n",
        "class: 1 count:264 (0.50)\tclass: -1 count:264 (0.50)\t\n",
        "\n"
       ]
      },
      {
       "output_type": "stream",
       "stream": "stdout",
       "text": [
        "Iteration: 2/20 (at 121.1 sec; 0:02:01.070779)\n",
        "Best score (roc_auc): 0.893944 (0.910511 +- 0.016568)\n",
        "Instances: 528 ; Features: 1048577 with an avg of 132 features per instance\n",
        "class: 1 count:264 (0.50)\tclass: -1 count:264 (0.50)\t\n",
        "\n"
       ]
      },
      {
       "output_type": "stream",
       "stream": "stdout",
       "text": [
        "Iteration: 4/20 (at 240.3 sec; 0:04:00.277076)\n",
        "Best score (roc_auc): 0.922664 (0.927492 +- 0.004829)\n",
        "Instances: 528 ; Features: 1048577 with an avg of 87 features per instance\n",
        "class: 1 count:264 (0.50)\tclass: -1 count:264 (0.50)\t\n",
        "\n"
       ]
      },
      {
       "output_type": "stream",
       "stream": "stdout",
       "text": [
        "Iteration: 10/20 (at 583.0 sec; 0:09:43.022479)\n",
        "Best score (roc_auc): 0.960727 (0.973106 +- 0.012379)\n",
        "Instances: 414 ; Features: 1048577 with an avg of 87 features per instance\n",
        "class: 1 count:264 (0.64)\tclass: -1 count:150 (0.36)\t\n",
        "\n"
       ]
      },
      {
       "output_type": "stream",
       "stream": "stdout",
       "text": [
        "Iteration: 20/20 (at 1182.1 sec; 0:19:42.143704)\n",
        "Best score (roc_auc): 0.972774 (0.976551 +- 0.003777)\n",
        "Instances: 390 ; Features: 1048577 with an avg of 42 features per instance\n",
        "class: 1 count:264 (0.68)\tclass: -1 count:126 (0.32)\t\n",
        "Elapsed: 1190 days, 11:17:23.350983"
       ]
      },
      {
       "output_type": "stream",
       "stream": "stdout",
       "text": [
        "\n",
        "--------------------------------------------------------------------------------\n",
        "Processing: FURIN\n",
        "\n"
       ]
      },
      {
       "output_type": "stream",
       "stream": "stdout",
       "text": [
        "Iteration: 1/20 (at 60.0 sec; 0:00:59.976925)\n",
        "Best score (roc_auc): 0.825373 (0.852920 +- 0.027546)\n",
        "Instances: 712 ; Features: 1048577 with an avg of 30 features per instance\n",
        "class: 1 count:356 (0.50)\tclass: -1 count:356 (0.50)\t\n",
        "\n"
       ]
      },
      {
       "output_type": "stream",
       "stream": "stdout",
       "text": [
        "Iteration: 2/20 (at 190.3 sec; 0:03:10.339625)\n",
        "Best score (roc_auc): 0.980961 (0.985593 +- 0.004632)\n",
        "Instances: 648 ; Features: 1048577 with an avg of 175 features per instance\n",
        "class: 1 count:356 (0.55)\tclass: -1 count:292 (0.45)\t\n",
        "\n"
       ]
      },
      {
       "output_type": "stream",
       "stream": "stdout",
       "text": [
        "Iteration: 4/20 (at 388.4 sec; 0:06:28.362781)\n",
        "Best score (roc_auc): 0.986142 (0.989312 +- 0.003171)\n",
        "Instances: 459 ; Features: 1048577 with an avg of 130 features per instance\n",
        "class: 1 count:356 (0.78)\tclass: -1 count:103 (0.22)\t\n",
        "\n",
        "Failed iteration: 7/20 (at 550.3 sec; 0:09:10.267672)"
       ]
      },
      {
       "output_type": "stream",
       "stream": "stdout",
       "text": [
        "\n",
        "Elapsed: 1775 days, 8:56:31.349030"
       ]
      },
      {
       "output_type": "stream",
       "stream": "stdout",
       "text": [
        "\n",
        "--------------------------------------------------------------------------------\n",
        "Processing: GZMA\n",
        "\n"
       ]
      },
      {
       "output_type": "stream",
       "stream": "stdout",
       "text": [
        "Iteration: 1/20 (at 90.5 sec; 0:01:30.451316)\n",
        "Best score (roc_auc): 0.655852 (0.665797 +- 0.009945)\n",
        "Instances: 1156 ; Features: 1048577 with an avg of 30 features per instance\n",
        "class: 1 count:578 (0.50)\tclass: -1 count:578 (0.50)\t\n",
        "\n"
       ]
      },
      {
       "output_type": "stream",
       "stream": "stdout",
       "text": [
        "Iteration: 2/20 (at 314.6 sec; 0:05:14.638165)\n",
        "Best score (roc_auc): 0.917935 (0.923522 +- 0.005587)\n",
        "Instances: 1156 ; Features: 1048577 with an avg of 200 features per instance\n",
        "class: 1 count:578 (0.50)\tclass: -1 count:578 (0.50)\t\n",
        "\n"
       ]
      },
      {
       "output_type": "stream",
       "stream": "stdout",
       "text": [
        "Iteration: 4/20 (at 693.6 sec; 0:11:33.636007)\n",
        "Best score (roc_auc): 0.930294 (0.940503 +- 0.010209)\n",
        "Instances: 1156 ; Features: 1048577 with an avg of 200 features per instance\n",
        "class: 1 count:578 (0.50)\tclass: -1 count:578 (0.50)\t\n",
        "\n"
       ]
      },
      {
       "output_type": "stream",
       "stream": "stdout",
       "text": [
        "Iteration: 7/20 (at 1132.6 sec; 0:18:52.600222)\n",
        "Best score (roc_auc): 0.971031 (0.981756 +- 0.010726)\n",
        "Instances: 688 ; Features: 1048577 with an avg of 110 features per instance\n",
        "class: 1 count:578 (0.84)\tclass: -1 count:110 (0.16)\t\n",
        "\n"
       ]
      },
      {
       "output_type": "stream",
       "stream": "stdout",
       "text": [
        "Iteration: 9/20 (at 1451.4 sec; 0:24:11.435790)\n",
        "Best score (roc_auc): 0.977884 (0.984007 +- 0.006123)\n",
        "Instances: 774 ; Features: 1048577 with an avg of 200 features per instance\n",
        "class: 1 count:578 (0.75)\tclass: -1 count:196 (0.25)\t\n",
        "Elapsed: 3310 days, 5:40:04.660034"
       ]
      },
      {
       "output_type": "stream",
       "stream": "stdout",
       "text": [
        "\n",
        "--------------------------------------------------------------------------------\n",
        "Processing: GZMB\n",
        "\n"
       ]
      },
      {
       "output_type": "stream",
       "stream": "stdout",
       "text": [
        "Iteration: 1/20 (at 531.8 sec; 0:08:51.752524)\n",
        "Best score (roc_auc): 0.664257 (0.698094 +- 0.033838)\n",
        "Instances: 6412 ; Features: 1048577 with an avg of 31 features per instance\n",
        "class: 1 count:3206 (0.50)\tclass: -1 count:3206 (0.50)\t\n",
        "\n"
       ]
      },
      {
       "output_type": "stream",
       "stream": "stdout",
       "text": [
        "Iteration: 3/20 (at 1858.5 sec; 0:30:58.495722)\n",
        "Best score (roc_auc): 0.923418 (0.925899 +- 0.002481)\n",
        "Instances: 6412 ; Features: 1048577 with an avg of 42 features per instance\n",
        "class: 1 count:3206 (0.50)\tclass: -1 count:3206 (0.50)\t\n",
        "\n"
       ]
      },
      {
       "output_type": "stream",
       "stream": "stdout",
       "text": [
        "Iteration: 4/20 (at 2763.2 sec; 0:46:03.210724)\n",
        "Best score (roc_auc): 0.925261 (0.932132 +- 0.006872)\n",
        "Instances: 6412 ; Features: 1048577 with an avg of 116 features per instance\n",
        "class: 1 count:3206 (0.50)\tclass: -1 count:3206 (0.50)\t\n",
        "\n"
       ]
      },
      {
       "output_type": "stream",
       "stream": "stdout",
       "text": [
        "Iteration: 6/20 (at 4223.7 sec; 1:10:23.657848)\n",
        "Best score (roc_auc): 0.943396 (0.946253 +- 0.002857)\n",
        "Instances: 4297 ; Features: 1048577 with an avg of 110 features per instance\n",
        "class: 1 count:3206 (0.75)\tclass: -1 count:1091 (0.25)\t\n",
        "\n"
       ]
      },
      {
       "output_type": "stream",
       "stream": "stdout",
       "text": [
        "Iteration: 11/20 (at 8129.2 sec; 2:15:29.187230)\n",
        "Best score (roc_auc): 0.963782 (0.964599 +- 0.000817)\n",
        "Instances: 4415 ; Features: 1048577 with an avg of 117 features per instance\n",
        "class: 1 count:3206 (0.73)\tclass: -1 count:1209 (0.27)\t\n",
        "Elapsed: 16639 days, 2:13:49.220581"
       ]
      },
      {
       "output_type": "stream",
       "stream": "stdout",
       "text": [
        "\n",
        "--------------------------------------------------------------------------------\n",
        "Processing: GZMM\n",
        "\n"
       ]
      },
      {
       "output_type": "stream",
       "stream": "stdout",
       "text": [
        "Iteration: 1/20 (at 242.6 sec; 0:04:02.637365)\n",
        "Best score (roc_auc): 0.653059 (0.698590 +- 0.045531)\n",
        "Instances: 2916 ; Features: 1048577 with an avg of 30 features per instance\n",
        "class: 1 count:1458 (0.50)\tclass: -1 count:1458 (0.50)\t\n",
        "\n"
       ]
      },
      {
       "output_type": "stream",
       "stream": "stdout",
       "text": [
        "Iteration: 2/20 (at 584.1 sec; 0:09:44.068954)\n",
        "Best score (roc_auc): 0.740722 (0.778856 +- 0.038134)\n",
        "Instances: 2916 ; Features: 1048577 with an avg of 81 features per instance\n",
        "class: 1 count:1458 (0.50)\tclass: -1 count:1458 (0.50)\t\n",
        "\n"
       ]
      },
      {
       "output_type": "stream",
       "stream": "stdout",
       "text": [
        "Iteration: 3/20 (at 992.1 sec; 0:16:32.061081)\n",
        "Best score (roc_auc): 0.802207 (0.821140 +- 0.018933)\n",
        "Instances: 2916 ; Features: 1048577 with an avg of 117 features per instance\n",
        "class: 1 count:1458 (0.50)\tclass: -1 count:1458 (0.50)\t\n",
        "\n"
       ]
      },
      {
       "output_type": "stream",
       "stream": "stdout",
       "text": [
        "Iteration: 4/20 (at 1446.3 sec; 0:24:06.326692)\n",
        "Best score (roc_auc): 0.831875 (0.849783 +- 0.017908)\n",
        "Instances: 2916 ; Features: 1048577 with an avg of 148 features per instance\n",
        "class: 1 count:1458 (0.50)\tclass: -1 count:1458 (0.50)\t\n",
        "\n"
       ]
      },
      {
       "output_type": "stream",
       "stream": "stdout",
       "text": [
        "Iteration: 6/20 (at 2039.1 sec; 0:33:59.103854)\n",
        "Best score (roc_auc): 0.918127 (0.928364 +- 0.010237)\n",
        "Instances: 2916 ; Features: 1048577 with an avg of 31 features per instance\n",
        "class: 1 count:1458 (0.50)\tclass: -1 count:1458 (0.50)\t\n",
        "\n"
       ]
      },
      {
       "output_type": "stream",
       "stream": "stdout",
       "text": [
        "Iteration: 17/20 (at 6304.6 sec; 1:45:04.598920)\n",
        "Best score (roc_auc): 0.950043 (0.962188 +- 0.012145)\n",
        "Instances: 1744 ; Features: 1048577 with an avg of 131 features per instance\n",
        "class: 1 count:1458 (0.84)\tclass: -1 count:286 (0.16)\t\n",
        "Elapsed: 7603 days, 10:50:19.873810"
       ]
      },
      {
       "output_type": "stream",
       "stream": "stdout",
       "text": [
        "\n",
        "--------------------------------------------------------------------------------\n",
        "Processing: HPN\n",
        "\n"
       ]
      },
      {
       "output_type": "stream",
       "stream": "stdout",
       "text": [
        "Iteration: 1/20 (at 32.6 sec; 0:00:32.621985)\n",
        "Best score (roc_auc): 0.810949 (0.834432 +- 0.023483)\n",
        "Instances: 384 ; Features: 1048577 with an avg of 31 features per instance\n",
        "class: 1 count:192 (0.50)\tclass: -1 count:192 (0.50)\t\n",
        "\n"
       ]
      },
      {
       "output_type": "stream",
       "stream": "stdout",
       "text": [
        "Iteration: 2/20 (at 97.0 sec; 0:01:37.044412)\n",
        "Best score (roc_auc): 0.959306 (0.971110 +- 0.011804)\n",
        "Instances: 384 ; Features: 1048577 with an avg of 149 features per instance\n",
        "class: 1 count:192 (0.50)\tclass: -1 count:192 (0.50)\t\n",
        "\n"
       ]
      },
      {
       "output_type": "stream",
       "stream": "stdout",
       "text": [
        "Iteration: 5/20 (at 272.8 sec; 0:04:32.831616)\n",
        "Best score (roc_auc): 0.961936 (0.969971 +- 0.008035)\n",
        "Instances: 384 ; Features: 1048577 with an avg of 149 features per instance\n",
        "class: 1 count:192 (0.50)\tclass: -1 count:192 (0.50)\t\n",
        "\n"
       ]
      },
      {
       "output_type": "stream",
       "stream": "stdout",
       "text": [
        "Iteration: 11/20 (at 585.9 sec; 0:09:45.894174)\n",
        "Best score (roc_auc): 0.987041 (0.990788 +- 0.003747)\n",
        "Instances: 260 ; Features: 1048577 with an avg of 81 features per instance\n",
        "class: 1 count:192 (0.74)\tclass: -1 count:68 (0.26)\t\n",
        "Elapsed: 1026 days, 23:30:11.789703"
       ]
      },
      {
       "output_type": "stream",
       "stream": "stdout",
       "text": [
        "\n",
        "--------------------------------------------------------------------------------\n",
        "Processing: HTRA2\n",
        "\n"
       ]
      },
      {
       "output_type": "stream",
       "stream": "stdout",
       "text": [
        "Iteration: 1/20 (at 21.5 sec; 0:00:21.507001)\n",
        "Best score (roc_auc): 0.569709 (0.612377 +- 0.042668)\n",
        "Instances: 272 ; Features: 1048577 with an avg of 31 features per instance\n",
        "class: 1 count:136 (0.50)\tclass: -1 count:136 (0.50)\t\n",
        "\n"
       ]
      },
      {
       "output_type": "stream",
       "stream": "stdout",
       "text": [
        "Iteration: 2/20 (at 42.8 sec; 0:00:42.770171)\n",
        "Best score (roc_auc): 0.863994 (0.898770 +- 0.034776)\n",
        "Instances: 272 ; Features: 1048577 with an avg of 31 features per instance\n",
        "class: 1 count:136 (0.50)\tclass: -1 count:136 (0.50)\t\n",
        "\n"
       ]
      },
      {
       "output_type": "stream",
       "stream": "stdout",
       "text": [
        "Iteration: 3/20 (at 91.9 sec; 0:01:31.873212)\n",
        "Best score (roc_auc): 0.917043 (0.939953 +- 0.022910)\n",
        "Instances: 272 ; Features: 1048577 with an avg of 177 features per instance\n",
        "class: 1 count:136 (0.50)\tclass: -1 count:136 (0.50)\t\n",
        "\n"
       ]
      },
      {
       "output_type": "stream",
       "stream": "stdout",
       "text": [
        "Iteration: 4/20 (at 134.1 sec; 0:02:14.120269)\n",
        "Best score (roc_auc): 0.929813 (0.950053 +- 0.020240)\n",
        "Instances: 272 ; Features: 1048577 with an avg of 132 features per instance\n",
        "class: 1 count:136 (0.50)\tclass: -1 count:136 (0.50)\t\n",
        "\n"
       ]
      },
      {
       "output_type": "stream",
       "stream": "stdout",
       "text": [
        "Iteration: 8/20 (at 255.1 sec; 0:04:15.140443)\n",
        "Best score (roc_auc): 0.953487 (0.964582 +- 0.011095)\n",
        "Instances: 272 ; Features: 1048577 with an avg of 149 features per instance\n",
        "class: 1 count:136 (0.50)\tclass: -1 count:136 (0.50)\t\n",
        "\n"
       ]
      },
      {
       "output_type": "stream",
       "stream": "stdout",
       "text": [
        "Iteration: 14/20 (at 482.2 sec; 0:08:02.163200)\n",
        "Best score (roc_auc): 0.984837 (0.990001 +- 0.005164)\n",
        "Instances: 272 ; Features: 1048577 with an avg of 132 features per instance\n",
        "class: 1 count:136 (0.50)\tclass: -1 count:136 (0.50)\t\n",
        "Elapsed: 681 days, 3:33:14.100952"
       ]
      },
      {
       "output_type": "stream",
       "stream": "stdout",
       "text": [
        "\n",
        "--------------------------------------------------------------------------------\n",
        "Processing: KLK4\n",
        "\n"
       ]
      },
      {
       "output_type": "stream",
       "stream": "stdout",
       "text": [
        "Iteration: 1/20 (at 33.3 sec; 0:00:33.276265)\n",
        "Best score (roc_auc): 0.771431 (0.787233 +- 0.015802)\n",
        "Instances: 408 ; Features: 1048577 with an avg of 31 features per instance\n",
        "class: 1 count:204 (0.50)\tclass: -1 count:204 (0.50)\t\n",
        "\n"
       ]
      },
      {
       "output_type": "stream",
       "stream": "stdout",
       "text": [
        "Iteration: 2/20 (at 95.3 sec; 0:01:35.288741)\n",
        "Best score (roc_auc): 0.982232 (0.984177 +- 0.001945)\n",
        "Instances: 408 ; Features: 1048577 with an avg of 131 features per instance\n",
        "class: 1 count:204 (0.50)\tclass: -1 count:204 (0.50)\t\n",
        "\n"
       ]
      },
      {
       "output_type": "stream",
       "stream": "stdout",
       "text": [
        "Iteration: 4/20 (at 226.4 sec; 0:03:46.431342)\n",
        "Best score (roc_auc): 0.988340 (0.993228 +- 0.004889)\n",
        "Instances: 271 ; Features: 1048577 with an avg of 177 features per instance\n",
        "class: 1 count:204 (0.75)\tclass: -1 count:67 (0.25)\t\n",
        "\n",
        "Failed iteration: 10/20 (at 487.2 sec; 0:08:07.194653)"
       ]
      },
      {
       "output_type": "stream",
       "stream": "stdout",
       "text": [
        "\n",
        "\n",
        "Failed iteration: 11/20 (at 489.5 sec; 0:08:09.541291)"
       ]
      },
      {
       "output_type": "stream",
       "stream": "stdout",
       "text": [
        "\n",
        "\n"
       ]
      },
      {
       "output_type": "stream",
       "stream": "stdout",
       "text": [
        "Iteration: 18/20 (at 819.3 sec; 0:13:39.271152)\n",
        "Best score (roc_auc): 1.000000 (1.000000 +- 0.000000)\n",
        "Instances: 408 ; Features: 1048577 with an avg of 87 features per instance\n",
        "class: 1 count:204 (0.50)\tclass: -1 count:204 (0.50)\t\n",
        "Elapsed: 942 days, 12:21:01.772919"
       ]
      },
      {
       "output_type": "stream",
       "stream": "stdout",
       "text": [
        "\n",
        "--------------------------------------------------------------------------------\n",
        "Processing: MEP1A\n",
        "\n"
       ]
      },
      {
       "output_type": "stream",
       "stream": "stdout",
       "text": [
        "Iteration: 1/20 (at 240.3 sec; 0:04:00.251192)\n",
        "Best score (roc_auc): 0.475012 (0.487476 +- 0.012464)\n",
        "Instances: 3048 ; Features: 1048577 with an avg of 31 features per instance\n",
        "class: 1 count:1524 (0.50)\tclass: -1 count:1524 (0.50)\t\n",
        "\n"
       ]
      },
      {
       "output_type": "stream",
       "stream": "stdout",
       "text": [
        "Iteration: 2/20 (at 827.2 sec; 0:13:47.229923)\n",
        "Best score (roc_auc): 0.760737 (0.776008 +- 0.015271)\n",
        "Instances: 3048 ; Features: 1048577 with an avg of 201 features per instance\n",
        "class: 1 count:1524 (0.50)\tclass: -1 count:1524 (0.50)\t\n",
        "\n"
       ]
      },
      {
       "output_type": "stream",
       "stream": "stdout",
       "text": [
        "Iteration: 4/20 (at 1705.7 sec; 0:28:25.675044)\n",
        "Best score (roc_auc): 0.935017 (0.937165 +- 0.002149)\n",
        "Instances: 3048 ; Features: 1048577 with an avg of 201 features per instance\n",
        "class: 1 count:1524 (0.50)\tclass: -1 count:1524 (0.50)\t\n",
        "\n"
       ]
      },
      {
       "output_type": "stream",
       "stream": "stdout",
       "text": [
        "Iteration: 13/20 (at 4883.8 sec; 1:21:23.841895)\n",
        "Best score (roc_auc): 0.972887 (0.974377 +- 0.001490)\n",
        "Instances: 3048 ; Features: 1048577 with an avg of 177 features per instance\n",
        "class: 1 count:1524 (0.50)\tclass: -1 count:1524 (0.50)\t\n",
        "Elapsed: 7736 days, 15:56:14.691010"
       ]
      },
      {
       "output_type": "stream",
       "stream": "stdout",
       "text": [
        "\n",
        "--------------------------------------------------------------------------------\n",
        "Processing: MEP1B\n",
        "\n"
       ]
      },
      {
       "output_type": "stream",
       "stream": "stdout",
       "text": [
        "Iteration: 1/20 (at 281.5 sec; 0:04:41.505694)\n",
        "Best score (roc_auc): 0.493903 (0.502156 +- 0.008253)\n",
        "Instances: 3580 ; Features: 1048577 with an avg of 31 features per instance\n",
        "class: 1 count:1790 (0.50)\tclass: -1 count:1790 (0.50)\t\n",
        "\n"
       ]
      },
      {
       "output_type": "stream",
       "stream": "stdout",
       "text": [
        "Iteration: 2/20 (at 913.6 sec; 0:15:13.616576)\n",
        "Best score (roc_auc): 0.749618 (0.759136 +- 0.009518)\n",
        "Instances: 3580 ; Features: 1048577 with an avg of 176 features per instance\n",
        "class: 1 count:1790 (0.50)\tclass: -1 count:1790 (0.50)\t\n",
        "\n"
       ]
      },
      {
       "output_type": "stream",
       "stream": "stdout",
       "text": [
        "Iteration: 3/20 (at 1310.2 sec; 0:21:50.218992)\n",
        "Best score (roc_auc): 0.932644 (0.938750 +- 0.006106)\n",
        "Instances: 3580 ; Features: 1048577 with an avg of 81 features per instance\n",
        "class: 1 count:1790 (0.50)\tclass: -1 count:1790 (0.50)\t\n",
        "\n"
       ]
      },
      {
       "output_type": "stream",
       "stream": "stdout",
       "text": [
        "Iteration: 4/20 (at 1838.1 sec; 0:30:38.097198)\n",
        "Best score (roc_auc): 0.951301 (0.956779 +- 0.005478)\n",
        "Instances: 2479 ; Features: 1048577 with an avg of 148 features per instance\n",
        "class: 1 count:1790 (0.72)\tclass: -1 count:689 (0.28)\t\n",
        "\n"
       ]
      },
      {
       "output_type": "stream",
       "stream": "stdout",
       "text": [
        "Iteration: 5/20 (at 2246.3 sec; 0:37:26.276667)\n",
        "Best score (roc_auc): 0.972304 (0.975092 +- 0.002787)\n",
        "Instances: 3580 ; Features: 1048577 with an avg of 87 features per instance\n",
        "class: 1 count:1790 (0.50)\tclass: -1 count:1790 (0.50)\t\n",
        "Elapsed: 9341 days, 6:02:16.676788"
       ]
      },
      {
       "output_type": "stream",
       "stream": "stdout",
       "text": [
        "\n",
        "--------------------------------------------------------------------------------\n",
        "Processing: MME\n",
        "\n"
       ]
      },
      {
       "output_type": "stream",
       "stream": "stdout",
       "text": [
        "Iteration: 1/20 (at 29.1 sec; 0:00:29.080414)\n",
        "Best score (roc_auc): 0.576902 (0.606331 +- 0.029430)\n",
        "Instances: 368 ; Features: 1048577 with an avg of 31 features per instance\n",
        "class: 1 count:184 (0.50)\tclass: -1 count:184 (0.50)\t\n",
        "\n"
       ]
      },
      {
       "output_type": "stream",
       "stream": "stdout",
       "text": [
        "Iteration: 2/20 (at 81.7 sec; 0:01:21.734877)\n",
        "Best score (roc_auc): 0.845451 (0.873079 +- 0.027628)\n",
        "Instances: 368 ; Features: 1048577 with an avg of 117 features per instance\n",
        "class: 1 count:184 (0.50)\tclass: -1 count:184 (0.50)\t\n",
        "\n"
       ]
      },
      {
       "output_type": "stream",
       "stream": "stdout",
       "text": [
        "Iteration: 5/20 (at 204.0 sec; 0:03:24.031802)\n",
        "Best score (roc_auc): 0.947096 (0.961113 +- 0.014017)\n",
        "Instances: 368 ; Features: 1048577 with an avg of 111 features per instance\n",
        "class: 1 count:184 (0.50)\tclass: -1 count:184 (0.50)\t\n",
        "\n"
       ]
      },
      {
       "output_type": "stream",
       "stream": "stdout",
       "text": [
        "Iteration: 12/20 (at 524.3 sec; 0:08:44.342460)\n",
        "Best score (roc_auc): 0.950586 (0.962490 +- 0.011903)\n",
        "Instances: 368 ; Features: 1048577 with an avg of 42 features per instance\n",
        "class: 1 count:184 (0.50)\tclass: -1 count:184 (0.50)\t\n",
        "\n",
        "Failed iteration: 14/20 (at 589.1 sec; 0:09:49.095748)"
       ]
      },
      {
       "output_type": "stream",
       "stream": "stdout",
       "text": [
        "\n",
        "\n",
        "Failed iteration: 20/20 (at 821.6 sec; 0:13:41.562820)"
       ]
      },
      {
       "output_type": "stream",
       "stream": "stdout",
       "text": [
        "\n",
        "Elapsed: 826 days, 6:40:55.918121"
       ]
      },
      {
       "output_type": "stream",
       "stream": "stdout",
       "text": [
        "\n",
        "--------------------------------------------------------------------------------\n",
        "Processing: MMP12\n",
        "\n"
       ]
      },
      {
       "output_type": "stream",
       "stream": "stdout",
       "text": [
        "Iteration: 1/20 (at 57.8 sec; 0:00:57.802544)\n",
        "Best score (roc_auc): 0.463342 (0.490688 +- 0.027346)\n",
        "Instances: 728 ; Features: 1048577 with an avg of 29 features per instance\n",
        "class: 1 count:364 (0.50)\tclass: -1 count:364 (0.50)\t\n",
        "\n"
       ]
      },
      {
       "output_type": "stream",
       "stream": "stdout",
       "text": [
        "Iteration: 2/20 (at 123.1 sec; 0:02:03.135166)\n",
        "Best score (roc_auc): 0.509726 (0.513502 +- 0.003776)\n",
        "Instances: 728 ; Features: 1048577 with an avg of 40 features per instance\n",
        "class: 1 count:364 (0.50)\tclass: -1 count:364 (0.50)\t\n",
        "\n",
        "Failed iteration: 3/20 (at 125.7 sec; 0:02:05.702886)"
       ]
      },
      {
       "output_type": "stream",
       "stream": "stdout",
       "text": [
        "\n",
        "\n"
       ]
      },
      {
       "output_type": "stream",
       "stream": "stdout",
       "text": [
        "Iteration: 5/20 (at 286.5 sec; 0:04:46.475577)\n",
        "Best score (roc_auc): 0.741756 (0.772200 +- 0.030444)\n",
        "Instances: 728 ; Features: 1048577 with an avg of 79 features per instance\n",
        "class: 1 count:364 (0.50)\tclass: -1 count:364 (0.50)\t\n",
        "\n"
       ]
      },
      {
       "output_type": "stream",
       "stream": "stdout",
       "text": [
        "Iteration: 8/20 (at 576.0 sec; 0:09:36.012120)\n",
        "Best score (roc_auc): 0.975759 (0.984613 +- 0.008854)\n",
        "Instances: 728 ; Features: 1048577 with an avg of 79 features per instance\n",
        "class: 1 count:364 (0.50)\tclass: -1 count:364 (0.50)\t\n",
        "\n",
        "Failed iteration: 19/20 (at 1406.4 sec; 0:23:26.372555)"
       ]
      },
      {
       "output_type": "stream",
       "stream": "stdout",
       "text": [
        "\n",
        "Elapsed: 1541 days, 13:34:15.576324"
       ]
      },
      {
       "output_type": "stream",
       "stream": "stdout",
       "text": [
        "\n",
        "--------------------------------------------------------------------------------\n",
        "Processing: MMP13\n",
        "\n"
       ]
      },
      {
       "output_type": "stream",
       "stream": "stdout",
       "text": [
        "Iteration: 1/20 (at 31.7 sec; 0:00:31.673731)\n",
        "Best score (roc_auc): 0.599182 (0.640271 +- 0.041089)\n",
        "Instances: 388 ; Features: 1048577 with an avg of 30 features per instance\n",
        "class: 1 count:194 (0.50)\tclass: -1 count:194 (0.50)\t\n",
        "\n"
       ]
      },
      {
       "output_type": "stream",
       "stream": "stdout",
       "text": [
        "Iteration: 2/20 (at 92.0 sec; 0:01:31.976036)\n",
        "Best score (roc_auc): 0.928983 (0.933312 +- 0.004328)\n",
        "Instances: 388 ; Features: 1048577 with an avg of 130 features per instance\n",
        "class: 1 count:194 (0.50)\tclass: -1 count:194 (0.50)\t\n",
        "\n"
       ]
      },
      {
       "output_type": "stream",
       "stream": "stdout",
       "text": [
        "Iteration: 7/20 (at 355.5 sec; 0:05:55.457846)\n",
        "Best score (roc_auc): 0.968284 (0.977476 +- 0.009192)\n",
        "Instances: 388 ; Features: 1048577 with an avg of 130 features per instance\n",
        "class: 1 count:194 (0.50)\tclass: -1 count:194 (0.50)\t\n",
        "\n"
       ]
      },
      {
       "output_type": "stream",
       "stream": "stdout",
       "text": [
        "Iteration: 10/20 (at 502.8 sec; 0:08:22.823620)\n",
        "Best score (roc_auc): 0.975621 (0.979293 +- 0.003672)\n",
        "Instances: 388 ; Features: 1048577 with an avg of 30 features per instance\n",
        "class: 1 count:194 (0.50)\tclass: -1 count:194 (0.50)\t\n",
        "\n",
        "Failed iteration: 12/20 (at 575.1 sec; 0:09:35.088892)"
       ]
      },
      {
       "output_type": "stream",
       "stream": "stdout",
       "text": [
        "\n",
        "Elapsed: 1015 days, 2:51:24.191895"
       ]
      },
      {
       "output_type": "stream",
       "stream": "stdout",
       "text": [
        "\n",
        "--------------------------------------------------------------------------------\n",
        "Processing: MMP14\n",
        "\n"
       ]
      },
      {
       "output_type": "stream",
       "stream": "stdout",
       "text": [
        "Iteration: 1/20 (at 40.2 sec; 0:00:40.213482)\n",
        "Best score (roc_auc): 0.577186 (0.587051 +- 0.009865)\n",
        "Instances: 492 ; Features: 1048577 with an avg of 31 features per instance\n",
        "class: 1 count:246 (0.50)\tclass: -1 count:246 (0.50)\t\n",
        "\n"
       ]
      },
      {
       "output_type": "stream",
       "stream": "stdout",
       "text": [
        "Iteration: 2/20 (at 128.8 sec; 0:02:08.826456)\n",
        "Best score (roc_auc): 0.957885 (0.964084 +- 0.006199)\n",
        "Instances: 492 ; Features: 1048577 with an avg of 177 features per instance\n",
        "class: 1 count:246 (0.50)\tclass: -1 count:246 (0.50)\t\n",
        "\n"
       ]
      },
      {
       "output_type": "stream",
       "stream": "stdout",
       "text": [
        "Iteration: 3/20 (at 215.6 sec; 0:03:35.578334)\n",
        "Best score (roc_auc): 0.969279 (0.976899 +- 0.007620)\n",
        "Instances: 492 ; Features: 1048577 with an avg of 177 features per instance\n",
        "class: 1 count:246 (0.50)\tclass: -1 count:246 (0.50)\t\n",
        "\n"
       ]
      },
      {
       "output_type": "stream",
       "stream": "stdout",
       "text": [
        "Iteration: 4/20 (at 253.8 sec; 0:04:13.802943)\n",
        "Best score (roc_auc): 0.971431 (0.975266 +- 0.003835)\n",
        "Instances: 472 ; Features: 1048577 with an avg of 31 features per instance\n",
        "class: 1 count:246 (0.52)\tclass: -1 count:226 (0.48)\t\n",
        "\n",
        "Failed iteration: 7/20 (at 432.9 sec; 0:07:12.879083)"
       ]
      },
      {
       "output_type": "stream",
       "stream": "stdout",
       "text": [
        "\n",
        "Elapsed: 1404 days, 12:39:41.286621"
       ]
      },
      {
       "output_type": "stream",
       "stream": "stdout",
       "text": [
        "\n",
        "--------------------------------------------------------------------------------\n",
        "Processing: MMP2\n",
        "\n"
       ]
      },
      {
       "output_type": "stream",
       "stream": "stdout",
       "text": [
        "Iteration: 1/20 (at 790.2 sec; 0:13:10.199437)\n",
        "Best score (roc_auc): 0.503619 (0.514049 +- 0.010430)\n",
        "Instances: 10144 ; Features: 1048577 with an avg of 31 features per instance\n",
        "class: 1 count:5072 (0.50)\tclass: -1 count:5072 (0.50)\t\n",
        "\n"
       ]
      },
      {
       "output_type": "stream",
       "stream": "stdout",
       "text": [
        "Iteration: 2/20 (at 2086.1 sec; 0:34:46.062096)\n",
        "Best score (roc_auc): 0.929615 (0.940716 +- 0.011101)\n",
        "Instances: 5942 ; Features: 1048577 with an avg of 111 features per instance\n",
        "class: 1 count:5072 (0.85)\tclass: -1 count:870 (0.15)\t\n",
        "\n"
       ]
      },
      {
       "output_type": "stream",
       "stream": "stdout",
       "text": [
        "Iteration: 7/20 (at 8994.9 sec; 2:29:54.923994)\n",
        "Best score (roc_auc): 0.935217 (0.940543 +- 0.005326)\n",
        "Instances: 6011 ; Features: 1048577 with an avg of 87 features per instance\n",
        "class: 1 count:5072 (0.84)\tclass: -1 count:939 (0.16)\t\n",
        "\n"
       ]
      },
      {
       "output_type": "stream",
       "stream": "stdout",
       "text": [
        "Iteration: 8/20 (at 10116.9 sec; 2:48:36.896211)\n",
        "Best score (roc_auc): 0.947739 (0.949998 +- 0.002259)\n",
        "Instances: 10144 ; Features: 1048577 with an avg of 81 features per instance\n",
        "class: 1 count:5072 (0.50)\tclass: -1 count:5072 (0.50)\t\n",
        "\n",
        "Failed iteration: 18/20 (at 22114.0 sec; 6:08:34.029714)"
       ]
      },
      {
       "output_type": "stream",
       "stream": "stdout",
       "text": [
        "\n",
        "Elapsed: 24896 days, 19:15:15.607452"
       ]
      },
      {
       "output_type": "stream",
       "stream": "stdout",
       "text": [
        "\n",
        "--------------------------------------------------------------------------------\n",
        "Processing: MMP3\n",
        "\n"
       ]
      },
      {
       "output_type": "stream",
       "stream": "stdout",
       "text": [
        "Iteration: 1/20 (at 53.0 sec; 0:00:53.002392)\n",
        "Best score (roc_auc): 0.460127 (0.503819 +- 0.043692)\n",
        "Instances: 656 ; Features: 1048577 with an avg of 31 features per instance\n",
        "class: 1 count:328 (0.50)\tclass: -1 count:328 (0.50)\t\n",
        "\n"
       ]
      },
      {
       "output_type": "stream",
       "stream": "stdout",
       "text": [
        "Iteration: 2/20 (at 154.3 sec; 0:02:34.342007)\n",
        "Best score (roc_auc): 0.848407 (0.858581 +- 0.010174)\n",
        "Instances: 656 ; Features: 1048577 with an avg of 131 features per instance\n",
        "class: 1 count:328 (0.50)\tclass: -1 count:328 (0.50)\t\n",
        "\n"
       ]
      },
      {
       "output_type": "stream",
       "stream": "stdout",
       "text": [
        "Iteration: 3/20 (at 261.9 sec; 0:04:21.880578)\n",
        "Best score (roc_auc): 0.958852 (0.968739 +- 0.009887)\n",
        "Instances: 486 ; Features: 1048577 with an avg of 149 features per instance\n",
        "class: 1 count:328 (0.67)\tclass: -1 count:158 (0.33)\t\n",
        "\n"
       ]
      },
      {
       "output_type": "stream",
       "stream": "stdout",
       "text": [
        "Iteration: 19/20 (at 1717.3 sec; 0:28:37.297323)\n",
        "Best score (roc_auc): 0.990380 (0.992405 +- 0.002025)\n",
        "Instances: 656 ; Features: 1048577 with an avg of 117 features per instance\n",
        "class: 1 count:328 (0.50)\tclass: -1 count:328 (0.50)\t\n",
        "Elapsed: 1835 days, 20:03:11.093445"
       ]
      },
      {
       "output_type": "stream",
       "stream": "stdout",
       "text": [
        "\n",
        "--------------------------------------------------------------------------------\n",
        "Processing: MMP7\n",
        "\n"
       ]
      },
      {
       "output_type": "stream",
       "stream": "stdout",
       "text": [
        "Iteration: 1/20 (at 60.6 sec; 0:01:00.640138)\n",
        "Best score (roc_auc): 0.650793 (0.724007 +- 0.073213)\n",
        "Instances: 756 ; Features: 1048577 with an avg of 30 features per instance\n",
        "class: 1 count:378 (0.50)\tclass: -1 count:378 (0.50)\t\n",
        "\n"
       ]
      },
      {
       "output_type": "stream",
       "stream": "stdout",
       "text": [
        "Iteration: 2/20 (at 164.1 sec; 0:02:44.117262)\n",
        "Best score (roc_auc): 0.855111 (0.893193 +- 0.038082)\n",
        "Instances: 756 ; Features: 1048577 with an avg of 110 features per instance\n",
        "class: 1 count:378 (0.50)\tclass: -1 count:378 (0.50)\t\n",
        "\n"
       ]
      },
      {
       "output_type": "stream",
       "stream": "stdout",
       "text": [
        "Iteration: 3/20 (at 311.8 sec; 0:05:11.803250)\n",
        "Best score (roc_auc): 0.899574 (0.929737 +- 0.030163)\n",
        "Instances: 756 ; Features: 1048577 with an avg of 199 features per instance\n",
        "class: 1 count:378 (0.50)\tclass: -1 count:378 (0.50)\t\n",
        "\n"
       ]
      },
      {
       "output_type": "stream",
       "stream": "stdout",
       "text": [
        "Iteration: 4/20 (at 462.6 sec; 0:07:42.586741)\n",
        "Best score (roc_auc): 0.974126 (0.982941 +- 0.008814)\n",
        "Instances: 756 ; Features: 1048577 with an avg of 199 features per instance\n",
        "class: 1 count:378 (0.50)\tclass: -1 count:378 (0.50)\t\n",
        "\n",
        "Failed iteration: 9/20 (at 865.3 sec; 0:14:25.296785)"
       ]
      },
      {
       "output_type": "stream",
       "stream": "stdout",
       "text": [
        "\n",
        "\n",
        "Failed iteration: 10/20 (at 868.1 sec; 0:14:28.053603)"
       ]
      },
      {
       "output_type": "stream",
       "stream": "stdout",
       "text": [
        "\n",
        "\n",
        "Failed iteration: 17/20 (at 1534.9 sec; 0:25:34.908869)"
       ]
      },
      {
       "output_type": "stream",
       "stream": "stdout",
       "text": [
        "\n",
        "Elapsed: 1874 days, 21:17:07.558136"
       ]
      },
      {
       "output_type": "stream",
       "stream": "stdout",
       "text": [
        "\n",
        "--------------------------------------------------------------------------------\n",
        "Processing: MMP8\n",
        "\n"
       ]
      },
      {
       "output_type": "stream",
       "stream": "stdout",
       "text": [
        "Iteration: 1/20 (at 31.4 sec; 0:00:31.413300)\n",
        "Best score (roc_auc): 0.569384 (0.618708 +- 0.049324)\n",
        "Instances: 400 ; Features: 1048577 with an avg of 30 features per instance\n",
        "class: 1 count:200 (0.50)\tclass: -1 count:200 (0.50)\t\n",
        "\n"
       ]
      },
      {
       "output_type": "stream",
       "stream": "stdout",
       "text": [
        "Iteration: 2/20 (at 94.6 sec; 0:01:34.644844)\n",
        "Best score (roc_auc): 0.816282 (0.844424 +- 0.028142)\n",
        "Instances: 400 ; Features: 1048577 with an avg of 148 features per instance\n",
        "class: 1 count:200 (0.50)\tclass: -1 count:200 (0.50)\t\n",
        "\n"
       ]
      },
      {
       "output_type": "stream",
       "stream": "stdout",
       "text": [
        "Iteration: 3/20 (at 166.5 sec; 0:02:46.498970)\n",
        "Best score (roc_auc): 0.926848 (0.946745 +- 0.019898)\n",
        "Instances: 400 ; Features: 1048577 with an avg of 176 features per instance\n",
        "class: 1 count:200 (0.50)\tclass: -1 count:200 (0.50)\t\n",
        "\n"
       ]
      },
      {
       "output_type": "stream",
       "stream": "stdout",
       "text": [
        "Iteration: 6/20 (at 316.2 sec; 0:05:16.186349)\n",
        "Best score (roc_auc): 0.984218 (0.991946 +- 0.007729)\n",
        "Instances: 400 ; Features: 1048577 with an avg of 176 features per instance\n",
        "class: 1 count:200 (0.50)\tclass: -1 count:200 (0.50)\t\n",
        "Elapsed: 1126 days, 14:34:54.824982"
       ]
      },
      {
       "output_type": "stream",
       "stream": "stdout",
       "text": [
        "\n",
        "--------------------------------------------------------------------------------\n",
        "Processing: MMP9\n",
        "\n"
       ]
      },
      {
       "output_type": "stream",
       "stream": "stdout",
       "text": [
        "Iteration: 1/20 (at 106.8 sec; 0:01:46.799080)\n",
        "Best score (roc_auc): 0.579354 (0.609325 +- 0.029971)\n",
        "Instances: 1344 ; Features: 1048577 with an avg of 30 features per instance\n",
        "class: 1 count:672 (0.50)\tclass: -1 count:672 (0.50)\t\n",
        "\n"
       ]
      },
      {
       "output_type": "stream",
       "stream": "stdout",
       "text": [
        "Iteration: 2/20 (at 287.2 sec; 0:04:47.211487)\n",
        "Best score (roc_auc): 0.952743 (0.960466 +- 0.007723)\n",
        "Instances: 1344 ; Features: 1048577 with an avg of 116 features per instance\n",
        "class: 1 count:672 (0.50)\tclass: -1 count:672 (0.50)\t\n",
        "\n",
        "Failed iteration: 7/20 (at 1086.6 sec; 0:18:06.552818)"
       ]
      },
      {
       "output_type": "stream",
       "stream": "stdout",
       "text": [
        "\n",
        "\n"
       ]
      },
      {
       "output_type": "stream",
       "stream": "stdout",
       "text": [
        "Iteration: 14/20 (at 2340.5 sec; 0:39:00.480363)\n",
        "Best score (roc_auc): 0.956196 (0.961707 +- 0.005510)\n",
        "Instances: 829 ; Features: 1048577 with an avg of 147 features per instance\n",
        "class: 1 count:672 (0.81)\tclass: -1 count:157 (0.19)\t\n",
        "\n"
       ]
      },
      {
       "output_type": "stream",
       "stream": "stdout",
       "text": [
        "Iteration: 17/20 (at 2921.4 sec; 0:48:41.420001)\n",
        "Best score (roc_auc): 0.965839 (0.971362 +- 0.005523)\n",
        "Instances: 931 ; Features: 1048577 with an avg of 147 features per instance\n",
        "class: 1 count:672 (0.72)\tclass: -1 count:259 (0.28)\t\n",
        "Elapsed: 3476 days, 17:53:12.276764"
       ]
      },
      {
       "output_type": "stream",
       "stream": "stdout",
       "text": [
        "\n",
        "--------------------------------------------------------------------------------\n",
        "Processing: PCSK2\n",
        "\n"
       ]
      },
      {
       "output_type": "stream",
       "stream": "stdout",
       "text": [
        "Iteration: 1/20 (at 60.4 sec; 0:01:00.381158)\n",
        "Best score (roc_auc): 0.829252 (0.852159 +- 0.022907)\n",
        "Instances: 704 ; Features: 1048577 with an avg of 31 features per instance\n",
        "class: 1 count:352 (0.50)\tclass: -1 count:352 (0.50)\t\n",
        "\n"
       ]
      },
      {
       "output_type": "stream",
       "stream": "stdout",
       "text": [
        "Iteration: 3/20 (at 215.3 sec; 0:03:35.333064)\n",
        "Best score (roc_auc): 0.918530 (0.926369 +- 0.007838)\n",
        "Instances: 704 ; Features: 1048577 with an avg of 81 features per instance\n",
        "class: 1 count:352 (0.50)\tclass: -1 count:352 (0.50)\t\n",
        "\n"
       ]
      },
      {
       "output_type": "stream",
       "stream": "stdout",
       "text": [
        "Iteration: 6/20 (at 498.6 sec; 0:08:18.584762)\n",
        "Best score (roc_auc): 0.960173 (0.966086 +- 0.005913)\n",
        "Instances: 704 ; Features: 1048577 with an avg of 41 features per instance\n",
        "class: 1 count:352 (0.50)\tclass: -1 count:352 (0.50)\t\n",
        "\n",
        "Failed iteration: 18/20 (at 1623.8 sec; 0:27:03.776350)"
       ]
      },
      {
       "output_type": "stream",
       "stream": "stdout",
       "text": [
        "\n",
        "Elapsed: 1823 days, 5:45:47.824860"
       ]
      },
      {
       "output_type": "stream",
       "stream": "stdout",
       "text": [
        "\n",
        "--------------------------------------------------------------------------------\n",
        "Processing: PCSK4\n",
        "\n"
       ]
      },
      {
       "output_type": "stream",
       "stream": "stdout",
       "text": [
        "Iteration: 1/20 (at 30.9 sec; 0:00:30.873236)\n",
        "Best score (roc_auc): 0.876627 (0.899770 +- 0.023143)\n",
        "Instances: 376 ; Features: 1048577 with an avg of 30 features per instance\n",
        "class: 1 count:188 (0.50)\tclass: -1 count:188 (0.50)\t\n",
        "\n"
       ]
      },
      {
       "output_type": "stream",
       "stream": "stdout",
       "text": [
        "Iteration: 2/20 (at 106.4 sec; 0:01:46.373406)\n",
        "Best score (roc_auc): 0.947304 (0.964040 +- 0.016737)\n",
        "Instances: 376 ; Features: 1048577 with an avg of 199 features per instance\n",
        "class: 1 count:188 (0.50)\tclass: -1 count:188 (0.50)\t\n",
        "\n"
       ]
      },
      {
       "output_type": "stream",
       "stream": "stdout",
       "text": [
        "Iteration: 4/20 (at 183.3 sec; 0:03:03.292030)\n",
        "Best score (roc_auc): 0.960403 (0.971861 +- 0.011458)\n",
        "Instances: 376 ; Features: 1048577 with an avg of 86 features per instance\n",
        "class: 1 count:188 (0.50)\tclass: -1 count:188 (0.50)\t\n",
        "\n"
       ]
      },
      {
       "output_type": "stream",
       "stream": "stdout",
       "text": [
        "Iteration: 6/20 (at 303.3 sec; 0:05:03.263176)\n",
        "Best score (roc_auc): 0.961271 (0.963609 +- 0.002338)\n",
        "Instances: 376 ; Features: 1048577 with an avg of 200 features per instance\n",
        "class: 1 count:188 (0.50)\tclass: -1 count:188 (0.50)\t\n",
        "\n"
       ]
      },
      {
       "output_type": "stream",
       "stream": "stdout",
       "text": [
        "Iteration: 8/20 (at 457.1 sec; 0:07:37.065934)\n",
        "Best score (roc_auc): 0.972738 (0.975664 +- 0.002927)\n",
        "Instances: 376 ; Features: 1048577 with an avg of 199 features per instance\n",
        "class: 1 count:188 (0.50)\tclass: -1 count:188 (0.50)\t\n",
        "\n"
       ]
      },
      {
       "output_type": "stream",
       "stream": "stdout",
       "text": [
        "Iteration: 10/20 (at 553.3 sec; 0:09:13.304887)\n",
        "Best score (roc_auc): 0.985056 (0.992797 +- 0.007741)\n",
        "Instances: 255 ; Features: 1048577 with an avg of 149 features per instance\n",
        "class: 1 count:188 (0.74)\tclass: -1 count:67 (0.26)\t\n",
        "\n"
       ]
      },
      {
       "output_type": "stream",
       "stream": "stdout",
       "text": [
        "Iteration: 15/20 (at 783.1 sec; 0:13:03.121907)\n",
        "Best score (roc_auc): 1.000000 (1.000000 +- 0.000000)\n",
        "Instances: 229 ; Features: 1048577 with an avg of 131 features per instance\n",
        "class: 1 count:188 (0.82)\tclass: -1 count:41 (0.18)\t\n",
        "Elapsed: 1033 days, 13:34:49.874268"
       ]
      },
      {
       "output_type": "stream",
       "stream": "stdout",
       "text": [
        "\n",
        "--------------------------------------------------------------------------------\n",
        "Processing: PCSK5\n",
        "\n"
       ]
      },
      {
       "output_type": "stream",
       "stream": "stdout",
       "text": [
        "Iteration: 1/20 (at 36.9 sec; 0:00:36.917480)\n",
        "Best score (roc_auc): 0.870410 (0.883612 +- 0.013202)\n",
        "Instances: 452 ; Features: 1048577 with an avg of 30 features per instance\n",
        "class: 1 count:226 (0.50)\tclass: -1 count:226 (0.50)\t\n",
        "\n"
       ]
      },
      {
       "output_type": "stream",
       "stream": "stdout",
       "text": [
        "Iteration: 3/20 (at 202.2 sec; 0:03:22.178040)\n",
        "Best score (roc_auc): 0.919139 (0.940956 +- 0.021817)\n",
        "Instances: 452 ; Features: 1048577 with an avg of 199 features per instance\n",
        "class: 1 count:226 (0.50)\tclass: -1 count:226 (0.50)\t\n",
        "\n"
       ]
      },
      {
       "output_type": "stream",
       "stream": "stdout",
       "text": [
        "Iteration: 4/20 (at 294.6 sec; 0:04:54.599838)\n",
        "Best score (roc_auc): 0.967259 (0.968387 +- 0.001128)\n",
        "Instances: 452 ; Features: 1048577 with an avg of 200 features per instance\n",
        "class: 1 count:226 (0.50)\tclass: -1 count:226 (0.50)\t\n",
        "Elapsed: 1303 days, 4:15:29.676819"
       ]
      },
      {
       "output_type": "stream",
       "stream": "stdout",
       "text": [
        "\n",
        "--------------------------------------------------------------------------------\n",
        "Processing: PCSK6\n",
        "\n"
       ]
      },
      {
       "output_type": "stream",
       "stream": "stdout",
       "text": [
        "Iteration: 1/20 (at 29.6 sec; 0:00:29.588016)\n",
        "Best score (roc_auc): 0.890394 (0.905262 +- 0.014867)\n",
        "Instances: 388 ; Features: 1048577 with an avg of 30 features per instance\n",
        "class: 1 count:194 (0.50)\tclass: -1 count:194 (0.50)\t\n",
        "\n"
       ]
      },
      {
       "output_type": "stream",
       "stream": "stdout",
       "text": [
        "Iteration: 2/20 (at 82.6 sec; 0:01:22.552179)\n",
        "Best score (roc_auc): 0.903714 (0.928585 +- 0.024871)\n",
        "Instances: 388 ; Features: 1048577 with an avg of 110 features per instance\n",
        "class: 1 count:194 (0.50)\tclass: -1 count:194 (0.50)\t\n",
        "\n"
       ]
      },
      {
       "output_type": "stream",
       "stream": "stdout",
       "text": [
        "Iteration: 4/20 (at 195.8 sec; 0:03:15.813968)\n",
        "Best score (roc_auc): 0.919989 (0.942880 +- 0.022891)\n",
        "Instances: 388 ; Features: 1048577 with an avg of 81 features per instance\n",
        "class: 1 count:194 (0.50)\tclass: -1 count:194 (0.50)\t\n",
        "\n"
       ]
      },
      {
       "output_type": "stream",
       "stream": "stdout",
       "text": [
        "Iteration: 5/20 (at 254.9 sec; 0:04:14.938820)\n",
        "Best score (roc_auc): 0.993762 (0.996844 +- 0.003082)\n",
        "Instances: 388 ; Features: 1048577 with an avg of 131 features per instance\n",
        "class: 1 count:194 (0.50)\tclass: -1 count:194 (0.50)\t\n",
        "\n"
       ]
      },
      {
       "output_type": "stream",
       "stream": "stdout",
       "text": [
        "Iteration: 17/20 (at 835.8 sec; 0:13:55.779887)\n",
        "Best score (roc_auc): 0.995809 (0.998264 +- 0.002455)\n",
        "Instances: 214 ; Features: 1048577 with an avg of 110 features per instance\n",
        "class: 1 count:194 (0.91)\tclass: -1 count:20 (0.09)\t\n",
        "Elapsed: 995 days, 23:10:37.708282"
       ]
      },
      {
       "output_type": "stream",
       "stream": "stdout",
       "text": [
        "\n",
        "--------------------------------------------------------------------------------\n",
        "Processing: PCSK7\n",
        "\n"
       ]
      },
      {
       "output_type": "stream",
       "stream": "stdout",
       "text": [
        "Iteration: 1/20 (at 34.0 sec; 0:00:34.031038)\n",
        "Best score (roc_auc): 0.899936 (0.908026 +- 0.008090)\n",
        "Instances: 404 ; Features: 1048577 with an avg of 30 features per instance\n",
        "class: 1 count:202 (0.50)\tclass: -1 count:202 (0.50)\t\n",
        "\n"
       ]
      },
      {
       "output_type": "stream",
       "stream": "stdout",
       "text": [
        "Iteration: 3/20 (at 171.4 sec; 0:02:51.417962)\n",
        "Best score (roc_auc): 0.906549 (0.923724 +- 0.017175)\n",
        "Instances: 404 ; Features: 1048577 with an avg of 131 features per instance\n",
        "class: 1 count:202 (0.50)\tclass: -1 count:202 (0.50)\t\n",
        "\n"
       ]
      },
      {
       "output_type": "stream",
       "stream": "stdout",
       "text": [
        "Iteration: 5/20 (at 263.1 sec; 0:04:23.123005)\n",
        "Best score (roc_auc): 0.973152 (0.982734 +- 0.009583)\n",
        "Instances: 404 ; Features: 1048577 with an avg of 116 features per instance\n",
        "class: 1 count:202 (0.50)\tclass: -1 count:202 (0.50)\t\n",
        "\n"
       ]
      },
      {
       "output_type": "stream",
       "stream": "stdout",
       "text": [
        "Iteration: 13/20 (at 706.5 sec; 0:11:46.541354)\n",
        "Best score (roc_auc): 0.991891 (0.995408 +- 0.003517)\n",
        "Instances: 404 ; Features: 1048577 with an avg of 86 features per instance\n",
        "class: 1 count:202 (0.50)\tclass: -1 count:202 (0.50)\t\n",
        "\n"
       ]
      },
      {
       "output_type": "stream",
       "stream": "stdout",
       "text": [
        "Iteration: 15/20 (at 814.9 sec; 0:13:34.930845)\n",
        "Best score (roc_auc): 1.000000 (1.000000 +- 0.000000)\n",
        "Instances: 404 ; Features: 1048577 with an avg of 148 features per instance\n",
        "class: 1 count:202 (0.50)\tclass: -1 count:202 (0.50)\t\n",
        "\n",
        "Failed iteration: 16/20 (at 817.6 sec; 0:13:37.640590)"
       ]
      },
      {
       "output_type": "stream",
       "stream": "stdout",
       "text": [
        "\n",
        "Elapsed: 1042 days, 18:49:58.608398"
       ]
      },
      {
       "output_type": "stream",
       "stream": "stdout",
       "text": [
        "\n",
        "--------------------------------------------------------------------------------\n",
        "Processing: PGA3\n",
        "\n"
       ]
      },
      {
       "output_type": "stream",
       "stream": "stdout",
       "text": [
        "Iteration: 1/20 (at 121.5 sec; 0:02:01.534385)\n",
        "Best score (roc_auc): 0.500000 (0.500000 +- 0.000000)\n",
        "Instances: 1448 ; Features: 1048577 with an avg of 31 features per instance\n",
        "class: 1 count:724 (0.50)\tclass: -1 count:724 (0.50)\t\n",
        "\n"
       ]
      },
      {
       "output_type": "stream",
       "stream": "stdout",
       "text": [
        "Iteration: 2/20 (at 351.0 sec; 0:05:50.984103)\n",
        "Best score (roc_auc): 0.771482 (0.780092 +- 0.008610)\n",
        "Instances: 1448 ; Features: 1048577 with an avg of 132 features per instance\n",
        "class: 1 count:724 (0.50)\tclass: -1 count:724 (0.50)\t\n",
        "\n"
       ]
      },
      {
       "output_type": "stream",
       "stream": "stdout",
       "text": [
        "Iteration: 3/20 (at 497.3 sec; 0:08:17.302714)\n",
        "Best score (roc_auc): 0.930059 (0.933046 +- 0.002987)\n",
        "Instances: 1448 ; Features: 1048577 with an avg of 61 features per instance\n",
        "class: 1 count:724 (0.50)\tclass: -1 count:724 (0.50)\t\n",
        "\n"
       ]
      },
      {
       "output_type": "stream",
       "stream": "stdout",
       "text": [
        "Iteration: 4/20 (at 731.3 sec; 0:12:11.297679)\n",
        "Best score (roc_auc): 0.990634 (0.992627 +- 0.001994)\n",
        "Instances: 1448 ; Features: 1048577 with an avg of 149 features per instance\n",
        "class: 1 count:724 (0.50)\tclass: -1 count:724 (0.50)\t\n",
        "\n",
        "Failed iteration: 7/20 (at 1086.3 sec; 0:18:06.349612)"
       ]
      },
      {
       "output_type": "stream",
       "stream": "stdout",
       "text": [
        "\n",
        "\n",
        "Failed iteration: 10/20 (at 1388.6 sec; 0:23:08.577915)"
       ]
      },
      {
       "output_type": "stream",
       "stream": "stdout",
       "text": [
        "\n",
        "Elapsed: 3494 days, 7:24:40.668640"
       ]
      },
      {
       "output_type": "stream",
       "stream": "stdout",
       "text": [
        "\n",
        "--------------------------------------------------------------------------------\n",
        "Processing: PLG\n",
        "\n"
       ]
      },
      {
       "output_type": "stream",
       "stream": "stdout",
       "text": [
        "Iteration: 1/20 (at 39.5 sec; 0:00:39.526303)\n",
        "Best score (roc_auc): 0.651614 (0.681017 +- 0.029403)\n",
        "Instances: 460 ; Features: 1048577 with an avg of 31 features per instance\n",
        "class: 1 count:230 (0.50)\tclass: -1 count:230 (0.50)\t\n",
        "\n"
       ]
      },
      {
       "output_type": "stream",
       "stream": "stdout",
       "text": [
        "Iteration: 2/20 (at 122.3 sec; 0:02:02.256864)\n",
        "Best score (roc_auc): 0.909161 (0.917460 +- 0.008298)\n",
        "Instances: 460 ; Features: 1048577 with an avg of 149 features per instance\n",
        "class: 1 count:230 (0.50)\tclass: -1 count:230 (0.50)\t\n",
        "\n"
       ]
      },
      {
       "output_type": "stream",
       "stream": "stdout",
       "text": [
        "Iteration: 4/20 (at 213.7 sec; 0:03:33.720637)\n",
        "Best score (roc_auc): 0.927298 (0.946215 +- 0.018917)\n",
        "Instances: 460 ; Features: 1048577 with an avg of 60 features per instance\n",
        "class: 1 count:230 (0.50)\tclass: -1 count:230 (0.50)\t\n",
        "\n",
        "Failed iteration: 12/20 (at 666.8 sec; 0:11:06.844558)"
       ]
      },
      {
       "output_type": "stream",
       "stream": "stdout",
       "text": [
        "\n",
        "\n"
       ]
      },
      {
       "output_type": "stream",
       "stream": "stdout",
       "text": [
        "Iteration: 13/20 (at 720.7 sec; 0:12:00.741526)\n",
        "Best score (roc_auc): 0.959054 (0.966293 +- 0.007239)\n",
        "Instances: 317 ; Features: 1048577 with an avg of 81 features per instance\n",
        "class: 1 count:230 (0.73)\tclass: -1 count:87 (0.27)\t\n",
        "\n"
       ]
      },
      {
       "output_type": "stream",
       "stream": "stdout",
       "text": [
        "Iteration: 15/20 (at 896.9 sec; 0:14:56.930387)\n",
        "Best score (roc_auc): 0.979247 (0.988451 +- 0.009205)\n",
        "Instances: 409 ; Features: 1048577 with an avg of 200 features per instance\n",
        "class: 1 count:230 (0.56)\tclass: -1 count:179 (0.44)\t\n",
        "\n",
        "Failed iteration: 18/20 (at 1038.3 sec; 0:17:18.348146)"
       ]
      },
      {
       "output_type": "stream",
       "stream": "stdout",
       "text": [
        "\n",
        "Elapsed: 1184 days, 9:22:38.981323"
       ]
      },
      {
       "output_type": "stream",
       "stream": "stdout",
       "text": [
        "\n",
        "--------------------------------------------------------------------------------\n",
        "Processing: ST14\n",
        "\n"
       ]
      },
      {
       "output_type": "stream",
       "stream": "stdout",
       "text": [
        "Iteration: 1/20 (at 30.0 sec; 0:00:29.975907)\n",
        "Best score (roc_auc): 0.788003 (0.825426 +- 0.037423)\n",
        "Instances: 356 ; Features: 1048577 with an avg of 31 features per instance\n",
        "class: 1 count:178 (0.50)\tclass: -1 count:178 (0.50)\t\n",
        "\n"
       ]
      },
      {
       "output_type": "stream",
       "stream": "stdout",
       "text": [
        "Iteration: 2/20 (at 83.6 sec; 0:01:23.607576)\n",
        "Best score (roc_auc): 0.924655 (0.942706 +- 0.018051)\n",
        "Instances: 356 ; Features: 1048577 with an avg of 117 features per instance\n",
        "class: 1 count:178 (0.50)\tclass: -1 count:178 (0.50)\t\n",
        "\n"
       ]
      },
      {
       "output_type": "stream",
       "stream": "stdout",
       "text": [
        "Iteration: 5/20 (at 207.3 sec; 0:03:27.322727)\n",
        "Best score (roc_auc): 0.982137 (0.990711 +- 0.008574)\n",
        "Instances: 356 ; Features: 1048577 with an avg of 117 features per instance\n",
        "class: 1 count:178 (0.50)\tclass: -1 count:178 (0.50)\t\n",
        "\n",
        "Failed iteration: 13/20 (at 539.8 sec; 0:08:59.756027)"
       ]
      },
      {
       "output_type": "stream",
       "stream": "stdout",
       "text": [
        "\n",
        "\n"
       ]
      },
      {
       "output_type": "stream",
       "stream": "stdout",
       "text": [
        "Iteration: 16/20 (at 679.2 sec; 0:11:19.234390)\n",
        "Best score (roc_auc): 0.994683 (0.997798 +- 0.003115)\n",
        "Instances: 356 ; Features: 1048577 with an avg of 201 features per instance\n",
        "class: 1 count:178 (0.50)\tclass: -1 count:178 (0.50)\t\n",
        "Elapsed: 934 days, 18:59:27.274475"
       ]
      },
      {
       "output_type": "stream",
       "stream": "stdout",
       "text": [
        "\n",
        "--------------------------------------------------------------------------------\n",
        "Processing: TMPRSS11E\n",
        "\n"
       ]
      },
      {
       "output_type": "stream",
       "stream": "stdout",
       "text": [
        "Iteration: 1/20 (at 31.9 sec; 0:00:31.852758)\n",
        "Best score (roc_auc): 0.779475 (0.792186 +- 0.012711)\n",
        "Instances: 364 ; Features: 1048577 with an avg of 31 features per instance\n",
        "class: 1 count:182 (0.50)\tclass: -1 count:182 (0.50)\t\n",
        "\n"
       ]
      },
      {
       "output_type": "stream",
       "stream": "stdout",
       "text": [
        "Iteration: 2/20 (at 74.2 sec; 0:01:14.174852)\n",
        "Best score (roc_auc): 0.846225 (0.924460 +- 0.078235)\n",
        "Instances: 205 ; Features: 1048577 with an avg of 87 features per instance\n",
        "class: 1 count:182 (0.89)\tclass: -1 count:23 (0.11)\t\n",
        "\n"
       ]
      },
      {
       "output_type": "stream",
       "stream": "stdout",
       "text": [
        "Iteration: 3/20 (at 140.8 sec; 0:02:20.768754)\n",
        "Best score (roc_auc): 0.948114 (0.958500 +- 0.010386)\n",
        "Instances: 364 ; Features: 1048577 with an avg of 177 features per instance\n",
        "class: 1 count:182 (0.50)\tclass: -1 count:182 (0.50)\t\n",
        "\n"
       ]
      },
      {
       "output_type": "stream",
       "stream": "stdout",
       "text": [
        "Iteration: 10/20 (at 524.9 sec; 0:08:44.858438)\n",
        "Best score (roc_auc): 0.949634 (0.951565 +- 0.001931)\n",
        "Instances: 364 ; Features: 1048577 with an avg of 61 features per instance\n",
        "class: 1 count:182 (0.50)\tclass: -1 count:182 (0.50)\t\n",
        "\n"
       ]
      },
      {
       "output_type": "stream",
       "stream": "stdout",
       "text": [
        "Iteration: 11/20 (at 590.7 sec; 0:09:50.741194)\n",
        "Best score (roc_auc): 0.972766 (0.977615 +- 0.004849)\n",
        "Instances: 364 ; Features: 1048577 with an avg of 150 features per instance\n",
        "class: 1 count:182 (0.50)\tclass: -1 count:182 (0.50)\t\n",
        "\n"
       ]
      },
      {
       "output_type": "stream",
       "stream": "stdout",
       "text": [
        "Iteration: 19/20 (at 1030.9 sec; 0:17:10.900153)\n",
        "Best score (roc_auc): 1.000000 (1.000000 +- 0.000000)\n",
        "Instances: 246 ; Features: 1048577 with an avg of 177 features per instance\n",
        "class: 1 count:182 (0.74)\tclass: -1 count:64 (0.26)\t\n",
        "Elapsed: 1124 days, 4:43:03.641052"
       ]
      },
      {
       "output_type": "stream",
       "stream": "stdout",
       "text": [
        "\n",
        "--------------------------------------------------------------------------------\n",
        "Processing: TMPRSS6\n",
        "\n"
       ]
      },
      {
       "output_type": "stream",
       "stream": "stdout",
       "text": [
        "Iteration: 1/20 (at 54.8 sec; 0:00:54.831369)\n",
        "Best score (roc_auc): 0.808857 (0.830164 +- 0.021307)\n",
        "Instances: 608 ; Features: 1048577 with an avg of 31 features per instance\n",
        "class: 1 count:304 (0.50)\tclass: -1 count:304 (0.50)\t\n",
        "\n"
       ]
      },
      {
       "output_type": "stream",
       "stream": "stdout",
       "text": [
        "Iteration: 2/20 (at 126.8 sec; 0:02:06.756613)\n",
        "Best score (roc_auc): 0.953762 (0.958255 +- 0.004493)\n",
        "Instances: 608 ; Features: 1048577 with an avg of 82 features per instance\n",
        "class: 1 count:304 (0.50)\tclass: -1 count:304 (0.50)\t\n",
        "\n"
       ]
      },
      {
       "output_type": "stream",
       "stream": "stdout",
       "text": [
        "Iteration: 17/20 (at 1316.0 sec; 0:21:55.992996)\n",
        "Best score (roc_auc): 0.974904 (0.982862 +- 0.007958)\n",
        "Instances: 473 ; Features: 1048577 with an avg of 82 features per instance\n",
        "class: 1 count:304 (0.64)\tclass: -1 count:169 (0.36)\t\n",
        "\n",
        "Failed iteration: 18/20 (at 1318.9 sec; 0:21:58.930659)"
       ]
      },
      {
       "output_type": "stream",
       "stream": "stdout",
       "text": [
        "\n",
        "\n"
       ]
      },
      {
       "output_type": "stream",
       "stream": "stdout",
       "text": [
        "Iteration: 20/20 (at 1459.3 sec; 0:24:19.337557)\n",
        "Best score (roc_auc): 0.999369 (0.999739 +- 0.000370)\n",
        "Instances: 608 ; Features: 1048577 with an avg of 61 features per instance\n",
        "class: 1 count:304 (0.50)\tclass: -1 count:304 (0.50)\t\n",
        "Elapsed: 1469 days, 0:02:33.444672"
       ]
      },
      {
       "output_type": "stream",
       "stream": "stdout",
       "text": [
        "\n",
        "--------------------------------------------------------------------------------\n",
        "Processing: TMPRSS7\n",
        "\n"
       ]
      },
      {
       "output_type": "stream",
       "stream": "stdout",
       "text": [
        "Iteration: 1/20 (at 35.3 sec; 0:00:35.348089)\n",
        "Best score (roc_auc): 0.735101 (0.759066 +- 0.023965)\n",
        "Instances: 432 ; Features: 1048577 with an avg of 31 features per instance\n",
        "class: 1 count:216 (0.50)\tclass: -1 count:216 (0.50)\t\n",
        "\n"
       ]
      },
      {
       "output_type": "stream",
       "stream": "stdout",
       "text": [
        "Iteration: 2/20 (at 86.7 sec; 0:01:26.692031)\n",
        "Best score (roc_auc): 0.813404 (0.847737 +- 0.034332)\n",
        "Instances: 432 ; Features: 1048577 with an avg of 87 features per instance\n",
        "class: 1 count:216 (0.50)\tclass: -1 count:216 (0.50)\t\n",
        "\n"
       ]
      },
      {
       "output_type": "stream",
       "stream": "stdout",
       "text": [
        "Iteration: 3/20 (at 136.4 sec; 0:02:16.389530)\n",
        "Best score (roc_auc): 0.865047 (0.906700 +- 0.041653)\n",
        "Instances: 432 ; Features: 1048577 with an avg of 87 features per instance\n",
        "class: 1 count:216 (0.50)\tclass: -1 count:216 (0.50)\t\n",
        "\n",
        "Failed iteration: 4/20 (at 138.5 sec; 0:02:18.459971)"
       ]
      },
      {
       "output_type": "stream",
       "stream": "stdout",
       "text": [
        "\n",
        "\n"
       ]
      },
      {
       "output_type": "stream",
       "stream": "stdout",
       "text": [
        "Iteration: 6/20 (at 237.6 sec; 0:03:57.608900)\n",
        "Best score (roc_auc): 0.869404 (0.897087 +- 0.027683)\n",
        "Instances: 432 ; Features: 1048577 with an avg of 87 features per instance\n",
        "class: 1 count:216 (0.50)\tclass: -1 count:216 (0.50)\t\n",
        "\n"
       ]
      },
      {
       "output_type": "stream",
       "stream": "stdout",
       "text": [
        "Iteration: 9/20 (at 400.4 sec; 0:06:40.419285)\n",
        "Best score (roc_auc): 0.940389 (0.949621 +- 0.009232)\n",
        "Instances: 432 ; Features: 1048577 with an avg of 176 features per instance\n",
        "class: 1 count:216 (0.50)\tclass: -1 count:216 (0.50)\t\n",
        "\n",
        "Failed iteration: 10/20 (at 429.2 sec; 0:07:09.216673)"
       ]
      },
      {
       "output_type": "stream",
       "stream": "stdout",
       "text": [
        "\n",
        "\n"
       ]
      },
      {
       "output_type": "stream",
       "stream": "stdout",
       "text": [
        "Iteration: 13/20 (at 607.3 sec; 0:10:07.299687)\n",
        "Best score (roc_auc): 0.973471 (0.981031 +- 0.007561)\n",
        "Instances: 432 ; Features: 1048577 with an avg of 111 features per instance\n",
        "class: 1 count:216 (0.50)\tclass: -1 count:216 (0.50)\t\n",
        "Elapsed: 1089 days, 6:52:50.180511"
       ]
      },
      {
       "output_type": "stream",
       "stream": "stdout",
       "text": [
        "\n"
       ]
      }
     ],
     "prompt_number": 9
    }
   ],
   "metadata": {}
  }
 ]
}