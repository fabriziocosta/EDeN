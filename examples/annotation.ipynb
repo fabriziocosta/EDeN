{
 "metadata": {
  "name": "",
  "signature": "sha256:6296c764444f7dd5e3bf531cf70ca352e216d896bec4be68e3fb28b3b3a69b59"
 },
 "nbformat": 3,
 "nbformat_minor": 0,
 "worksheets": [
  {
   "cells": [
    {
     "cell_type": "heading",
     "level": 1,
     "metadata": {},
     "source": [
      "Annotation"
     ]
    },
    {
     "cell_type": "markdown",
     "metadata": {},
     "source": [
      "Consider a binary classification problem. We will fit a predictor and use it to assign a weight score to each node in each instance; this operation is termed \"annotation\". We will display few annotated graphs as an example. We will see that building a predictor on the annotated instances can increase the predictive performance."
     ]
    },
    {
     "cell_type": "markdown",
     "metadata": {},
     "source": [
      "load data and convert it to graphs"
     ]
    },
    {
     "cell_type": "code",
     "collapsed": false,
     "input": [
      "pos = 'bursi.pos.gspan'\n",
      "neg = 'bursi.neg.gspan'\n",
      "\n",
      "from eden.converter.graph.gspan import gspan_to_eden\n",
      "iterable_pos = gspan_to_eden( pos )\n",
      "iterable_neg = gspan_to_eden( neg )\n",
      "\n",
      "#split train/test\n",
      "train_test_split=0.9\n",
      "from eden.util import random_bipartition_iter\n",
      "iterable_pos_train, iterable_pos_test = random_bipartition_iter(iterable_pos, relative_size=train_test_split)\n",
      "iterable_neg_train, iterable_neg_test = random_bipartition_iter(iterable_neg, relative_size=train_test_split)"
     ],
     "language": "python",
     "metadata": {},
     "outputs": [],
     "prompt_number": 1
    },
    {
     "cell_type": "markdown",
     "metadata": {},
     "source": [
      "setup the vectorizer"
     ]
    },
    {
     "cell_type": "code",
     "collapsed": false,
     "input": [
      "from eden.graph import Vectorizer\n",
      "vectorizer = Vectorizer( complexity=2 )"
     ],
     "language": "python",
     "metadata": {},
     "outputs": [],
     "prompt_number": 2
    },
    {
     "cell_type": "code",
     "collapsed": false,
     "input": [
      "%%time\n",
      "from itertools import tee\n",
      "iterable_pos_train,iterable_pos_train_=tee(iterable_pos_train)\n",
      "iterable_neg_train,iterable_neg_train_=tee(iterable_neg_train)\n",
      "iterable_pos_test,iterable_pos_test_=tee(iterable_pos_test)\n",
      "iterable_neg_test,iterable_neg_test_=tee(iterable_neg_test)\n",
      "\n",
      "from eden.util import fit,estimate\n",
      "estimator = fit(iterable_pos_train_, iterable_neg_train_, vectorizer)\n",
      "estimate(iterable_pos_test_, iterable_neg_test_, estimator, vectorizer)"
     ],
     "language": "python",
     "metadata": {},
     "outputs": [
      {
       "output_type": "stream",
       "stream": "stdout",
       "text": [
        "Classifier:\n",
        "SGDClassifier(alpha=0.000140329688106, average=True, class_weight='auto',\n",
        "       epsilon=0.1, eta0=0.215403631665, fit_intercept=True, l1_ratio=0.15,\n",
        "       learning_rate='constant', loss='hinge', n_iter=71, n_jobs=-1,\n",
        "       penalty='l2', power_t=0.891819403792, random_state=None,\n",
        "       shuffle=True, verbose=0, warm_start=False)\n",
        "--------------------------------------------------------------------------------\n",
        "Predictive performance:\n"
       ]
      },
      {
       "output_type": "stream",
       "stream": "stdout",
       "text": [
        "            accuracy: 0.834 +- 0.023\n"
       ]
      },
      {
       "output_type": "stream",
       "stream": "stdout",
       "text": [
        "           precision: 0.864 +- 0.026\n"
       ]
      },
      {
       "output_type": "stream",
       "stream": "stdout",
       "text": [
        "              recall: 0.833 +- 0.038\n"
       ]
      },
      {
       "output_type": "stream",
       "stream": "stdout",
       "text": [
        "                  f1: 0.847 +- 0.023\n"
       ]
      },
      {
       "output_type": "stream",
       "stream": "stdout",
       "text": [
        "   average_precision: 0.912 +- 0.017\n"
       ]
      },
      {
       "output_type": "stream",
       "stream": "stdout",
       "text": [
        "             roc_auc: 0.902 +- 0.014\n",
        "--------------------------------------------------------------------------------\n"
       ]
      },
      {
       "output_type": "stream",
       "stream": "stdout",
       "text": [
        "Test set\n",
        "Instances: 434 ; Features: 1048577 with an avg of 79 features per instance\n",
        "--------------------------------------------------------------------------------\n",
        "Test Estimate\n",
        "             precision    recall  f1-score   support\n",
        "\n",
        "         -1       0.83      0.85      0.84       194\n",
        "          1       0.88      0.86      0.87       240\n",
        "\n",
        "avg / total       0.86      0.85      0.85       434\n",
        "\n",
        "APR: 0.938\n",
        "ROC: 0.921\n",
        "CPU times: user 11.8 s, sys: 4.57 s, total: 16.3 s\n",
        "Wall time: 1min 3s\n"
       ]
      }
     ],
     "prompt_number": 3
    },
    {
     "cell_type": "markdown",
     "metadata": {},
     "source": [
      "annotate instances and list all resulting graphs"
     ]
    },
    {
     "cell_type": "markdown",
     "metadata": {},
     "source": [
      "display one graph as an example. Color the vertices using the annotated 'importance' attribute."
     ]
    },
    {
     "cell_type": "code",
     "collapsed": false,
     "input": [
      "%matplotlib inline\n",
      "from itertools import tee\n",
      "iterable_pos_train,iterable_pos_train_=tee(iterable_pos_train)\n",
      "\n",
      "graphs = vectorizer.annotate( iterable_pos_train_, estimator=estimator )\n",
      "\n",
      "from eden.modifier.graph.vertex_attributes import colorize_binary\n",
      "graphs = colorize_binary(graph_list = graphs, output_attribute = 'color_value', input_attribute='importance', level=0)\n",
      "\n",
      "import itertools \n",
      "graphs = itertools.islice( graphs, 3 )\n",
      "\n",
      "from eden.util.display import draw_graph\n",
      "for graph in graphs: draw_graph( graph, vertex_color='color_value' )"
     ],
     "language": "python",
     "metadata": {},
     "outputs": [
      {
       "output_type": "stream",
       "stream": "stderr",
       "text": [
        "/Library/Python/2.7/site-packages/pygraphviz/agraph.py:1281: RuntimeWarning: Fontconfig warning: ignoring UTF-8: not a valid region tag\n",
        "\n",
        "  warnings.warn(\"\".join(errors),RuntimeWarning)\n"
       ]
      },
      {
       "metadata": {},
       "output_type": "display_data",
       "png": "[encoded data removed]",
       "text": [
        "<matplotlib.figure.Figure at 0x106f94c90>"
       ]
      },
      {
       "metadata": {},
       "output_type": "display_data",
       "png": "[encoded data removed]",
       "text": [
        "<matplotlib.figure.Figure at 0x10b6e8150>"
       ]
      },
      {
       "metadata": {},
       "output_type": "display_data",
       "png": "[encoded data removed]",
       "text": [
        "<matplotlib.figure.Figure at 0x10b722a50>"
       ]
      }
     ],
     "prompt_number": 4
    },
    {
     "cell_type": "markdown",
     "metadata": {},
     "source": [
      "Create a data matrix this time using the annotated graphs. Note that now graphs are weighted. "
     ]
    },
    {
     "cell_type": "markdown",
     "metadata": {},
     "source": [
      "Evaluate the predictive performance on the weighted graphs."
     ]
    },
    {
     "cell_type": "code",
     "collapsed": false,
     "input": [
      "%%time\n",
      "num_iterations=10\n",
      "for i in range(num_iterations):\n",
      "    print 'Iteration %d'%i\n",
      "    \n",
      "    from itertools import tee\n",
      "    iterable_pos_train_=vectorizer.annotate( iterable_pos_train, estimator=estimator )\n",
      "    iterable_neg_train_=vectorizer.annotate( iterable_neg_train, estimator=estimator )\n",
      "    iterable_pos_test_=vectorizer.annotate( iterable_pos_test, estimator=estimator )\n",
      "    iterable_neg_test_=vectorizer.annotate( iterable_neg_test, estimator=estimator )\n",
      "    \n",
      "    iterable_pos_train,iterable_pos_train_=tee(iterable_pos_train_)\n",
      "    iterable_neg_train,iterable_neg_train_=tee(iterable_neg_train_)\n",
      "    iterable_pos_test,iterable_pos_test_=tee(iterable_pos_test_)\n",
      "    iterable_neg_test,iterable_neg_test_=tee(iterable_neg_test_)\n",
      "\n",
      "    from eden.util import fit,estimate\n",
      "    estimator = fit(iterable_pos_train_, iterable_neg_train_, vectorizer)\n",
      "    estimate(iterable_pos_test_, iterable_neg_test_, estimator, vectorizer)"
     ],
     "language": "python",
     "metadata": {},
     "outputs": [
      {
       "output_type": "stream",
       "stream": "stdout",
       "text": [
        "Iteration 0\n"
       ]
      },
      {
       "output_type": "stream",
       "stream": "stdout",
       "text": [
        "Classifier:\n",
        "SGDClassifier(alpha=0.000272021537819, average=True, class_weight='auto',\n",
        "       epsilon=0.1, eta0=0.9589880174, fit_intercept=True, l1_ratio=0.15,\n",
        "       learning_rate='constant', loss='hinge', n_iter=70, n_jobs=-1,\n",
        "       penalty='l2', power_t=1.05169668252, random_state=None,\n",
        "       shuffle=True, verbose=0, warm_start=False)\n",
        "--------------------------------------------------------------------------------\n",
        "Predictive performance:\n"
       ]
      },
      {
       "output_type": "stream",
       "stream": "stdout",
       "text": [
        "            accuracy: 0.855 +- 0.020\n"
       ]
      },
      {
       "output_type": "stream",
       "stream": "stdout",
       "text": [
        "           precision: 0.895 +- 0.020\n"
       ]
      },
      {
       "output_type": "stream",
       "stream": "stdout",
       "text": [
        "              recall: 0.836 +- 0.036\n"
       ]
      },
      {
       "output_type": "stream",
       "stream": "stdout",
       "text": [
        "                  f1: 0.864 +- 0.020\n"
       ]
      },
      {
       "output_type": "stream",
       "stream": "stdout",
       "text": [
        "   average_precision: 0.928 +- 0.013\n"
       ]
      },
      {
       "output_type": "stream",
       "stream": "stdout",
       "text": [
        "             roc_auc: 0.917 +- 0.012\n",
        "--------------------------------------------------------------------------------\n"
       ]
      },
      {
       "output_type": "stream",
       "stream": "stdout",
       "text": [
        "Test set\n",
        "Instances: 434 ; Features: 1048577 with an avg of 79 features per instance\n",
        "--------------------------------------------------------------------------------\n",
        "Test Estimate\n",
        "             precision    recall  f1-score   support\n",
        "\n",
        "         -1       0.82      0.87      0.84       194\n",
        "          1       0.89      0.84      0.86       240\n",
        "\n",
        "avg / total       0.85      0.85      0.85       434\n",
        "\n",
        "APR: 0.937\n",
        "ROC: 0.916\n",
        "Iteration 1\n"
       ]
      },
      {
       "output_type": "stream",
       "stream": "stdout",
       "text": [
        "Classifier:\n",
        "SGDClassifier(alpha=0.000157113819279, average=True, class_weight='auto',\n",
        "       epsilon=0.1, eta0=1.0001275037, fit_intercept=True, l1_ratio=0.15,\n",
        "       learning_rate='optimal', loss='hinge', n_iter=59, n_jobs=-1,\n",
        "       penalty='l2', power_t=1.0915849858, random_state=None, shuffle=True,\n",
        "       verbose=0, warm_start=False)\n",
        "--------------------------------------------------------------------------------\n",
        "Predictive performance:\n"
       ]
      },
      {
       "output_type": "stream",
       "stream": "stdout",
       "text": [
        "            accuracy: 0.852 +- 0.021\n"
       ]
      },
      {
       "output_type": "stream",
       "stream": "stdout",
       "text": [
        "           precision: 0.876 +- 0.021\n"
       ]
      },
      {
       "output_type": "stream",
       "stream": "stdout",
       "text": [
        "              recall: 0.853 +- 0.034\n"
       ]
      },
      {
       "output_type": "stream",
       "stream": "stdout",
       "text": [
        "                  f1: 0.864 +- 0.021\n"
       ]
      },
      {
       "output_type": "stream",
       "stream": "stdout",
       "text": [
        "   average_precision: 0.922 +- 0.014\n"
       ]
      },
      {
       "output_type": "stream",
       "stream": "stdout",
       "text": [
        "             roc_auc: 0.912 +- 0.011\n",
        "--------------------------------------------------------------------------------\n"
       ]
      },
      {
       "output_type": "stream",
       "stream": "stdout",
       "text": [
        "Test set\n",
        "Instances: 434 ; Features: 1048577 with an avg of 79 features per instance\n",
        "--------------------------------------------------------------------------------\n",
        "Test Estimate\n",
        "             precision    recall  f1-score   support\n",
        "\n",
        "         -1       0.83      0.85      0.84       194\n",
        "          1       0.88      0.86      0.87       240\n",
        "\n",
        "avg / total       0.86      0.86      0.86       434\n",
        "\n",
        "APR: 0.940\n",
        "ROC: 0.919\n",
        "Iteration 2\n"
       ]
      },
      {
       "output_type": "stream",
       "stream": "stdout",
       "text": [
        "Classifier:\n",
        "SGDClassifier(alpha=0.000522249839007, average=True, class_weight='auto',\n",
        "       epsilon=0.1, eta0=0.535471273167, fit_intercept=True, l1_ratio=0.15,\n",
        "       learning_rate='constant', loss='hinge', n_iter=11, n_jobs=-1,\n",
        "       penalty='l2', power_t=0.770212965556, random_state=None,\n",
        "       shuffle=True, verbose=0, warm_start=False)\n",
        "--------------------------------------------------------------------------------\n",
        "Predictive performance:\n"
       ]
      },
      {
       "output_type": "stream",
       "stream": "stdout",
       "text": [
        "            accuracy: 0.850 +- 0.023\n"
       ]
      },
      {
       "output_type": "stream",
       "stream": "stdout",
       "text": [
        "           precision: 0.887 +- 0.023\n"
       ]
      },
      {
       "output_type": "stream",
       "stream": "stdout",
       "text": [
        "              recall: 0.837 +- 0.028\n"
       ]
      },
      {
       "output_type": "stream",
       "stream": "stdout",
       "text": [
        "                  f1: 0.861 +- 0.021\n"
       ]
      },
      {
       "output_type": "stream",
       "stream": "stdout",
       "text": [
        "   average_precision: 0.924 +- 0.012\n"
       ]
      },
      {
       "output_type": "stream",
       "stream": "stdout",
       "text": [
        "             roc_auc: 0.917 +- 0.010\n",
        "--------------------------------------------------------------------------------\n"
       ]
      },
      {
       "output_type": "stream",
       "stream": "stdout",
       "text": [
        "Test set\n",
        "Instances: 434 ; Features: 1048577 with an avg of 79 features per instance\n",
        "--------------------------------------------------------------------------------\n",
        "Test Estimate\n",
        "             precision    recall  f1-score   support\n",
        "\n",
        "         -1       0.81      0.84      0.83       194\n",
        "          1       0.87      0.85      0.86       240\n",
        "\n",
        "avg / total       0.84      0.84      0.84       434\n",
        "\n",
        "APR: 0.927\n",
        "ROC: 0.907\n",
        "Iteration 3\n"
       ]
      },
      {
       "output_type": "stream",
       "stream": "stdout",
       "text": [
        "Classifier:\n",
        "SGDClassifier(alpha=3.15405835028e-05, average=True, class_weight='auto',\n",
        "       epsilon=0.1, eta0=0.506849103489, fit_intercept=True, l1_ratio=0.15,\n",
        "       learning_rate='constant', loss='hinge', n_iter=54, n_jobs=-1,\n",
        "       penalty='l2', power_t=0.740383159639, random_state=None,\n",
        "       shuffle=True, verbose=0, warm_start=False)\n",
        "--------------------------------------------------------------------------------\n",
        "Predictive performance:\n"
       ]
      },
      {
       "output_type": "stream",
       "stream": "stdout",
       "text": [
        "            accuracy: 0.848 +- 0.023\n"
       ]
      },
      {
       "output_type": "stream",
       "stream": "stdout",
       "text": [
        "           precision: 0.868 +- 0.017\n"
       ]
      },
      {
       "output_type": "stream",
       "stream": "stdout",
       "text": [
        "              recall: 0.857 +- 0.038\n"
       ]
      },
      {
       "output_type": "stream",
       "stream": "stdout",
       "text": [
        "                  f1: 0.862 +- 0.023\n"
       ]
      },
      {
       "output_type": "stream",
       "stream": "stdout",
       "text": [
        "   average_precision: 0.922 +- 0.014\n"
       ]
      },
      {
       "output_type": "stream",
       "stream": "stdout",
       "text": [
        "             roc_auc: 0.912 +- 0.013\n",
        "--------------------------------------------------------------------------------\n"
       ]
      },
      {
       "output_type": "stream",
       "stream": "stdout",
       "text": [
        "Test set\n",
        "Instances: 434 ; Features: 1048577 with an avg of 79 features per instance\n",
        "--------------------------------------------------------------------------------\n",
        "Test Estimate\n",
        "             precision    recall  f1-score   support\n",
        "\n",
        "         -1       0.85      0.85      0.85       194\n",
        "          1       0.88      0.88      0.88       240\n",
        "\n",
        "avg / total       0.87      0.87      0.87       434\n",
        "\n",
        "APR: 0.949\n",
        "ROC: 0.930\n",
        "Iteration 4\n"
       ]
      },
      {
       "output_type": "stream",
       "stream": "stdout",
       "text": [
        "Classifier:\n",
        "SGDClassifier(alpha=0.00026361384533, average=True, class_weight='auto',\n",
        "       epsilon=0.1, eta0=0.348399464199, fit_intercept=True, l1_ratio=0.15,\n",
        "       learning_rate='constant', loss='hinge', n_iter=29, n_jobs=-1,\n",
        "       penalty='l2', power_t=0.441165705892, random_state=None,\n",
        "       shuffle=True, verbose=0, warm_start=False)\n",
        "--------------------------------------------------------------------------------\n",
        "Predictive performance:\n"
       ]
      },
      {
       "output_type": "stream",
       "stream": "stdout",
       "text": [
        "            accuracy: 0.904 +- 0.016\n"
       ]
      },
      {
       "output_type": "stream",
       "stream": "stdout",
       "text": [
        "           precision: 0.917 +- 0.017\n"
       ]
      },
      {
       "output_type": "stream",
       "stream": "stdout",
       "text": [
        "              recall: 0.909 +- 0.026\n"
       ]
      },
      {
       "output_type": "stream",
       "stream": "stdout",
       "text": [
        "                  f1: 0.912 +- 0.015\n"
       ]
      },
      {
       "output_type": "stream",
       "stream": "stdout",
       "text": [
        "   average_precision: 0.959 +- 0.011\n"
       ]
      },
      {
       "output_type": "stream",
       "stream": "stdout",
       "text": [
        "             roc_auc: 0.955 +- 0.008\n",
        "--------------------------------------------------------------------------------\n"
       ]
      },
      {
       "output_type": "stream",
       "stream": "stdout",
       "text": [
        "Test set\n",
        "Instances: 434 ; Features: 1048577 with an avg of 79 features per instance\n",
        "--------------------------------------------------------------------------------\n",
        "Test Estimate\n",
        "             precision    recall  f1-score   support\n",
        "\n",
        "         -1       0.83      0.84      0.83       194\n",
        "          1       0.87      0.86      0.86       240\n",
        "\n",
        "avg / total       0.85      0.85      0.85       434\n",
        "\n",
        "APR: 0.931\n",
        "ROC: 0.913\n",
        "Iteration 5\n"
       ]
      },
      {
       "output_type": "stream",
       "stream": "stdout",
       "text": [
        "Classifier:\n",
        "SGDClassifier(alpha=0.000244558809043, average=True, class_weight='auto',\n",
        "       epsilon=0.1, eta0=0.524251655345, fit_intercept=True, l1_ratio=0.15,\n",
        "       learning_rate='optimal', loss='hinge', n_iter=26, n_jobs=-1,\n",
        "       penalty='l2', power_t=0.324296918458, random_state=None,\n",
        "       shuffle=True, verbose=0, warm_start=False)\n",
        "--------------------------------------------------------------------------------\n",
        "Predictive performance:\n"
       ]
      },
      {
       "output_type": "stream",
       "stream": "stdout",
       "text": [
        "            accuracy: 0.834 +- 0.025\n"
       ]
      },
      {
       "output_type": "stream",
       "stream": "stdout",
       "text": [
        "           precision: 0.865 +- 0.020\n"
       ]
      },
      {
       "output_type": "stream",
       "stream": "stdout",
       "text": [
        "              recall: 0.830 +- 0.040\n"
       ]
      },
      {
       "output_type": "stream",
       "stream": "stdout",
       "text": [
        "                  f1: 0.847 +- 0.025\n"
       ]
      },
      {
       "output_type": "stream",
       "stream": "stdout",
       "text": [
        "   average_precision: 0.915 +- 0.014\n"
       ]
      },
      {
       "output_type": "stream",
       "stream": "stdout",
       "text": [
        "             roc_auc: 0.904 +- 0.012\n",
        "--------------------------------------------------------------------------------\n"
       ]
      },
      {
       "output_type": "stream",
       "stream": "stdout",
       "text": [
        "Test set\n",
        "Instances: 434 ; Features: 1048577 with an avg of 79 features per instance\n",
        "--------------------------------------------------------------------------------\n",
        "Test Estimate\n",
        "             precision    recall  f1-score   support\n",
        "\n",
        "         -1       0.82      0.85      0.84       194\n",
        "          1       0.88      0.85      0.86       240\n",
        "\n",
        "avg / total       0.85      0.85      0.85       434\n",
        "\n",
        "APR: 0.935\n",
        "ROC: 0.916\n",
        "Iteration 6\n"
       ]
      },
      {
       "output_type": "stream",
       "stream": "stdout",
       "text": [
        "Classifier:\n",
        "SGDClassifier(alpha=6.56046346573e-05, average=True, class_weight='auto',\n",
        "       epsilon=0.1, eta0=0.144362294766, fit_intercept=True, l1_ratio=0.15,\n",
        "       learning_rate='invscaling', loss='hinge', n_iter=63, n_jobs=-1,\n",
        "       penalty='l2', power_t=0.150692707776, random_state=None,\n",
        "       shuffle=True, verbose=0, warm_start=False)\n",
        "--------------------------------------------------------------------------------\n",
        "Predictive performance:\n"
       ]
      },
      {
       "output_type": "stream",
       "stream": "stdout",
       "text": [
        "            accuracy: 0.855 +- 0.022\n"
       ]
      },
      {
       "output_type": "stream",
       "stream": "stdout",
       "text": [
        "           precision: 0.891 +- 0.019\n"
       ]
      },
      {
       "output_type": "stream",
       "stream": "stdout",
       "text": [
        "              recall: 0.842 +- 0.036\n"
       ]
      },
      {
       "output_type": "stream",
       "stream": "stdout",
       "text": [
        "                  f1: 0.865 +- 0.022\n"
       ]
      },
      {
       "output_type": "stream",
       "stream": "stdout",
       "text": [
        "   average_precision: 0.927 +- 0.013\n"
       ]
      },
      {
       "output_type": "stream",
       "stream": "stdout",
       "text": [
        "             roc_auc: 0.919 +- 0.010\n",
        "--------------------------------------------------------------------------------\n"
       ]
      },
      {
       "output_type": "stream",
       "stream": "stdout",
       "text": [
        "Test set\n",
        "Instances: 434 ; Features: 1048577 with an avg of 79 features per instance\n",
        "--------------------------------------------------------------------------------\n",
        "Test Estimate\n",
        "             precision    recall  f1-score   support\n",
        "\n",
        "         -1       0.81      0.85      0.83       194\n",
        "          1       0.87      0.84      0.86       240\n",
        "\n",
        "avg / total       0.84      0.84      0.84       434\n",
        "\n",
        "APR: 0.935\n",
        "ROC: 0.913\n",
        "Iteration 7\n"
       ]
      },
      {
       "output_type": "stream",
       "stream": "stdout",
       "text": [
        "Classifier:\n",
        "SGDClassifier(alpha=3.45723274457e-05, average=True, class_weight='auto',\n",
        "       epsilon=0.1, eta0=0.78262050627, fit_intercept=True, l1_ratio=0.15,\n",
        "       learning_rate='constant', loss='hinge', n_iter=72, n_jobs=-1,\n",
        "       penalty='l2', power_t=0.59620149072, random_state=None,\n",
        "       shuffle=True, verbose=0, warm_start=False)\n",
        "--------------------------------------------------------------------------------\n",
        "Predictive performance:\n"
       ]
      },
      {
       "output_type": "stream",
       "stream": "stdout",
       "text": [
        "            accuracy: 0.852 +- 0.024\n"
       ]
      },
      {
       "output_type": "stream",
       "stream": "stdout",
       "text": [
        "           precision: 0.871 +- 0.014\n"
       ]
      },
      {
       "output_type": "stream",
       "stream": "stdout",
       "text": [
        "              recall: 0.859 +- 0.041\n"
       ]
      },
      {
       "output_type": "stream",
       "stream": "stdout",
       "text": [
        "                  f1: 0.865 +- 0.024\n"
       ]
      },
      {
       "output_type": "stream",
       "stream": "stdout",
       "text": [
        "   average_precision: 0.926 +- 0.014\n"
       ]
      },
      {
       "output_type": "stream",
       "stream": "stdout",
       "text": [
        "             roc_auc: 0.917 +- 0.012\n",
        "--------------------------------------------------------------------------------\n"
       ]
      },
      {
       "output_type": "stream",
       "stream": "stdout",
       "text": [
        "Test set\n",
        "Instances: 434 ; Features: 1048577 with an avg of 79 features per instance\n",
        "--------------------------------------------------------------------------------\n",
        "Test Estimate\n",
        "             precision    recall  f1-score   support\n",
        "\n",
        "         -1       0.85      0.84      0.84       194\n",
        "          1       0.87      0.88      0.87       240\n",
        "\n",
        "avg / total       0.86      0.86      0.86       434\n",
        "\n",
        "APR: 0.947\n",
        "ROC: 0.927\n",
        "Iteration 8\n"
       ]
      },
      {
       "output_type": "stream",
       "stream": "stdout",
       "text": [
        "Classifier:\n",
        "SGDClassifier(alpha=2.25505236587e-06, average=True, class_weight='auto',\n",
        "       epsilon=0.1, eta0=0.761342567738, fit_intercept=True, l1_ratio=0.15,\n",
        "       learning_rate='constant', loss='hinge', n_iter=36, n_jobs=-1,\n",
        "       penalty='l2', power_t=0.664472596518, random_state=None,\n",
        "       shuffle=True, verbose=0, warm_start=False)\n",
        "--------------------------------------------------------------------------------\n",
        "Predictive performance:\n"
       ]
      },
      {
       "output_type": "stream",
       "stream": "stdout",
       "text": [
        "            accuracy: 0.900 +- 0.017\n"
       ]
      },
      {
       "output_type": "stream",
       "stream": "stdout",
       "text": [
        "           precision: 0.909 +- 0.022\n"
       ]
      },
      {
       "output_type": "stream",
       "stream": "stdout",
       "text": [
        "              recall: 0.911 +- 0.033\n"
       ]
      },
      {
       "output_type": "stream",
       "stream": "stdout",
       "text": [
        "                  f1: 0.909 +- 0.016\n"
       ]
      },
      {
       "output_type": "stream",
       "stream": "stdout",
       "text": [
        "   average_precision: 0.962 +- 0.007\n"
       ]
      },
      {
       "output_type": "stream",
       "stream": "stdout",
       "text": [
        "             roc_auc: 0.957 +- 0.007\n",
        "--------------------------------------------------------------------------------\n"
       ]
      },
      {
       "output_type": "stream",
       "stream": "stdout",
       "text": [
        "Test set\n",
        "Instances: 434 ; Features: 1048577 with an avg of 79 features per instance\n",
        "--------------------------------------------------------------------------------\n",
        "Test Estimate\n",
        "             precision    recall  f1-score   support\n",
        "\n",
        "         -1       0.84      0.81      0.83       194\n",
        "          1       0.85      0.88      0.87       240\n",
        "\n",
        "avg / total       0.85      0.85      0.85       434\n",
        "\n",
        "APR: 0.935\n",
        "ROC: 0.919\n",
        "Iteration 9\n"
       ]
      },
      {
       "output_type": "stream",
       "stream": "stdout",
       "text": [
        "Classifier:\n",
        "SGDClassifier(alpha=0.000512391173269, average=True, class_weight='auto',\n",
        "       epsilon=0.1, eta0=0.922917352519, fit_intercept=True, l1_ratio=0.15,\n",
        "       learning_rate='constant', loss='hinge', n_iter=47, n_jobs=-1,\n",
        "       penalty='l2', power_t=0.977109358529, random_state=None,\n",
        "       shuffle=True, verbose=0, warm_start=False)\n",
        "--------------------------------------------------------------------------------\n",
        "Predictive performance:\n"
       ]
      },
      {
       "output_type": "stream",
       "stream": "stdout",
       "text": [
        "            accuracy: 0.823 +- 0.020\n"
       ]
      },
      {
       "output_type": "stream",
       "stream": "stdout",
       "text": [
        "           precision: 0.855 +- 0.020\n"
       ]
      },
      {
       "output_type": "stream",
       "stream": "stdout",
       "text": [
        "              recall: 0.819 +- 0.024\n"
       ]
      },
      {
       "output_type": "stream",
       "stream": "stdout",
       "text": [
        "                  f1: 0.836 +- 0.019\n"
       ]
      },
      {
       "output_type": "stream",
       "stream": "stdout",
       "text": [
        "   average_precision: 0.912 +- 0.012\n"
       ]
      },
      {
       "output_type": "stream",
       "stream": "stdout",
       "text": [
        "             roc_auc: 0.900 +- 0.012\n",
        "--------------------------------------------------------------------------------\n"
       ]
      },
      {
       "output_type": "stream",
       "stream": "stdout",
       "text": [
        "Test set\n",
        "Instances: 434 ; Features: 1048577 with an avg of 79 features per instance\n",
        "--------------------------------------------------------------------------------\n",
        "Test Estimate\n",
        "             precision    recall  f1-score   support\n",
        "\n",
        "         -1       0.80      0.81      0.81       194\n",
        "          1       0.85      0.84      0.84       240\n",
        "\n",
        "avg / total       0.83      0.83      0.83       434\n",
        "\n",
        "APR: 0.921\n",
        "ROC: 0.902\n",
        "CPU times: user 14min 55s, sys: 2min 2s, total: 16min 58s\n",
        "Wall time: 23min 52s\n"
       ]
      }
     ],
     "prompt_number": 5
    }
   ],
   "metadata": {}
  }
 ]
}