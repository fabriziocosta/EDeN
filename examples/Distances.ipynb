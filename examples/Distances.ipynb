{
 "cells": [
  {
   "cell_type": "code",
   "execution_count": 8,
   "metadata": {
    "collapsed": true
   },
   "outputs": [],
   "source": [
    "import openbabel as ob\n",
    "import pybel\n",
    "import json\n",
    "import networkx as nx\n",
    "import scipy.spatial.distance\n",
    "import numpy as np"
   ]
  },
  {
   "cell_type": "code",
   "execution_count": 36,
   "metadata": {
    "collapsed": true
   },
   "outputs": [],
   "source": [
    "data = list(pybel.readfile('sdf', 'data/bostrom.sdf'))"
   ]
  },
  {
   "cell_type": "code",
   "execution_count": 40,
   "metadata": {
    "collapsed": false
   },
   "outputs": [],
   "source": [
    "mol = data[-1]\n",
    "coords = []\n",
    "for atom in mol:\n",
    "    coords.append(atom.coords)\n",
    "coords = np.asarray(coords)\n",
    "distances = scipy.spatial.distance.squareform(scipy.spatial.distance.pdist(coords))\n",
    "atom_types = [1,2,8,6,10,26,7,14,12,16]"
   ]
  },
  {
   "cell_type": "code",
   "execution_count": 58,
   "metadata": {
    "collapsed": false
   },
   "outputs": [],
   "source": [
    "current_idx = 1\n",
    "nearest_atoms = []\n",
    "sorted_indices = np.argsort(distances[current_idx-1, ])\n",
    "k = 5"
   ]
  },
  {
   "cell_type": "code",
   "execution_count": 59,
   "metadata": {
    "collapsed": false
   },
   "outputs": [],
   "source": [
    "for atomic_no in atom_types:\n",
    "    atom_idx = [atom.idx for atom in mol if atom.atomicnum == atomic_no]\n",
    "\n",
    "    # Don't remove current atom from list:\n",
    "    atom_idx = [atom.idx for atom in mol if atom.atomicnum == atomic_no]\n",
    "    # Indices cannot be compared directly with idx\n",
    "    if len(atom_idx) >= k:\n",
    "        nearest_atoms.append([id for id in sorted_indices if id+1 in atom_idx][:k])\n",
    "    else:\n",
    "        nearest_atoms.append([id for id in sorted_indices if id+1 in atom_idx] + [None]*(k-len(atom_idx)))"
   ]
  },
  {
   "cell_type": "code",
   "execution_count": 60,
   "metadata": {
    "collapsed": false
   },
   "outputs": [
    {
     "data": {
      "text/plain": [
       "[[None, None, None, None, None],\n",
       " [None, None, None, None, None],\n",
       " [36, 35, 4, 24, None],\n",
       " [25, 2, 26, 34, 3],\n",
       " [None, None, None, None, None],\n",
       " [None, None, None, None, None],\n",
       " [1, 5, 18, 14, 13],\n",
       " [None, None, None, None, None],\n",
       " [None, None, None, None, None],\n",
       " [0, None, None, None, None]]"
      ]
     },
     "execution_count": 60,
     "metadata": {},
     "output_type": "execute_result"
    }
   ],
   "source": [
    "nearest_atoms"
   ]
  },
  {
   "cell_type": "code",
   "execution_count": 61,
   "metadata": {
    "collapsed": false
   },
   "outputs": [
    {
     "data": {
      "text/plain": [
       "[None,\n",
       " None,\n",
       " None,\n",
       " None,\n",
       " None,\n",
       " None,\n",
       " None,\n",
       " None,\n",
       " None,\n",
       " None,\n",
       " 36,\n",
       " 35,\n",
       " 4,\n",
       " 24,\n",
       " None,\n",
       " 25,\n",
       " 2,\n",
       " 26,\n",
       " 34,\n",
       " 3,\n",
       " None,\n",
       " None,\n",
       " None,\n",
       " None,\n",
       " None,\n",
       " None,\n",
       " None,\n",
       " None,\n",
       " None,\n",
       " None,\n",
       " 1,\n",
       " 5,\n",
       " 18,\n",
       " 14,\n",
       " 13,\n",
       " None,\n",
       " None,\n",
       " None,\n",
       " None,\n",
       " None,\n",
       " None,\n",
       " None,\n",
       " None,\n",
       " None,\n",
       " None,\n",
       " 0,\n",
       " None,\n",
       " None,\n",
       " None,\n",
       " None]"
      ]
     },
     "execution_count": 61,
     "metadata": {},
     "output_type": "execute_result"
    }
   ],
   "source": [
    "nearest_atoms = [x for sublist in nearest_atoms for x in sublist]\n",
    "nearest_atoms"
   ]
  },
  {
   "cell_type": "code",
   "execution_count": 62,
   "metadata": {
    "collapsed": true
   },
   "outputs": [],
   "source": [
    "nearest_atoms = [distances[current_idx-1, i] if not i is None else 0 for i in nearest_atoms]"
   ]
  },
  {
   "cell_type": "code",
   "execution_count": 63,
   "metadata": {
    "collapsed": false
   },
   "outputs": [
    {
     "data": {
      "text/plain": [
       "[0,\n",
       " 0,\n",
       " 0,\n",
       " 0,\n",
       " 0,\n",
       " 0,\n",
       " 0,\n",
       " 0,\n",
       " 0,\n",
       " 0,\n",
       " 1.5261025522552538,\n",
       " 1.534172415343203,\n",
       " 3.8115008854780572,\n",
       " 7.7668659058850782,\n",
       " 0,\n",
       " 1.7937315852713305,\n",
       " 2.5979834487540536,\n",
       " 2.7102119843289012,\n",
       " 2.7937088251999329,\n",
       " 3.6353233693854534,\n",
       " 0,\n",
       " 0,\n",
       " 0,\n",
       " 0,\n",
       " 0,\n",
       " 0,\n",
       " 0,\n",
       " 0,\n",
       " 0,\n",
       " 0,\n",
       " 1.6593462568132098,\n",
       " 4.7855186761729405,\n",
       " 6.7413526090837292,\n",
       " 7.8217651460523951,\n",
       " 9.2941241652992783,\n",
       " 0,\n",
       " 0,\n",
       " 0,\n",
       " 0,\n",
       " 0,\n",
       " 0,\n",
       " 0,\n",
       " 0,\n",
       " 0,\n",
       " 0,\n",
       " 0.0,\n",
       " 0,\n",
       " 0,\n",
       " 0,\n",
       " 0]"
      ]
     },
     "execution_count": 63,
     "metadata": {},
     "output_type": "execute_result"
    }
   ],
   "source": [
    "nearest_atoms"
   ]
  },
  {
   "cell_type": "code",
   "execution_count": 64,
   "metadata": {
    "collapsed": true
   },
   "outputs": [],
   "source": [
    "threshold = 5\n",
    "nearest_atoms = [x if x <= threshold else 0 for x in nearest_atoms]"
   ]
  },
  {
   "cell_type": "code",
   "execution_count": 65,
   "metadata": {
    "collapsed": false
   },
   "outputs": [
    {
     "data": {
      "text/plain": [
       "[0,\n",
       " 0,\n",
       " 0,\n",
       " 0,\n",
       " 0,\n",
       " 0,\n",
       " 0,\n",
       " 0,\n",
       " 0,\n",
       " 0,\n",
       " 1.5261025522552538,\n",
       " 1.534172415343203,\n",
       " 3.8115008854780572,\n",
       " 0,\n",
       " 0,\n",
       " 1.7937315852713305,\n",
       " 2.5979834487540536,\n",
       " 2.7102119843289012,\n",
       " 2.7937088251999329,\n",
       " 3.6353233693854534,\n",
       " 0,\n",
       " 0,\n",
       " 0,\n",
       " 0,\n",
       " 0,\n",
       " 0,\n",
       " 0,\n",
       " 0,\n",
       " 0,\n",
       " 0,\n",
       " 1.6593462568132098,\n",
       " 4.7855186761729405,\n",
       " 0,\n",
       " 0,\n",
       " 0,\n",
       " 0,\n",
       " 0,\n",
       " 0,\n",
       " 0,\n",
       " 0,\n",
       " 0,\n",
       " 0,\n",
       " 0,\n",
       " 0,\n",
       " 0,\n",
       " 0.0,\n",
       " 0,\n",
       " 0,\n",
       " 0,\n",
       " 0]"
      ]
     },
     "execution_count": 65,
     "metadata": {},
     "output_type": "execute_result"
    }
   ],
   "source": [
    "nearest_atoms"
   ]
  },
  {
   "cell_type": "code",
   "execution_count": null,
   "metadata": {
    "collapsed": true
   },
   "outputs": [],
   "source": []
  }
 ],
 "metadata": {
  "kernelspec": {
   "display_name": "Python 2",
   "language": "python",
   "name": "python2"
  },
  "language_info": {
   "codemirror_mode": {
    "name": "ipython",
    "version": 2
   },
   "file_extension": ".py",
   "mimetype": "text/x-python",
   "name": "python",
   "nbconvert_exporter": "python",
   "pygments_lexer": "ipython2",
   "version": "2.7.9"
  }
 },
 "nbformat": 4,
 "nbformat_minor": 0
}
