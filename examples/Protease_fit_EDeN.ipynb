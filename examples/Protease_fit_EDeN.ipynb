{
 "metadata": {
  "name": "",
  "signature": "sha256:8d4cb115d814e54def4e0cf6badd21377d4cee27d0c27c30bc925cc662495af9"
 },
 "nbformat": 3,
 "nbformat_minor": 0,
 "worksheets": [
  {
   "cells": [
    {
     "cell_type": "code",
     "collapsed": false,
     "input": [
      "def train_protease_model(fname=None, model_fname=None, neg_size_factor=5, n_iter=40, threshold=1, n_active_learning_iterations=4, verbose=0):\n",
      "    \n",
      "    def pre_processor( seqs, **args ):\n",
      "        from urllib import urlretrieve\n",
      "        urlretrieve (\"http://www.bioinf.uni-freiburg.de/~costa/BLOSUM62_5D_encoding_dict.p\", \"BLOSUM62_5D_encoding_dict.p\")\n",
      "        import pickle\n",
      "        aa_encoding_dict5D = pickle.load( open( \"BLOSUM62_5D_encoding_dict.p\", \"rb\" ) )\n",
      "\n",
      "        #add encoding for landmarks\n",
      "        landmark_encodings = {'%':[10,0,0,0,0], '#':[0,10,0,0,0], '$':[0,0,10,0,0]}\n",
      "        aa_encoding_dict5D.update(landmark_encodings)\n",
      "\n",
      "        #insert landmark in the cleavage site after pos 4, in our case this means always in the middle position\n",
      "        from eden.modifier.seq import seq_to_seq, mark_modifier \n",
      "        seqs = seq_to_seq( seqs, modifier = mark_modifier, position = 0.5, mark = '%' )\n",
      "        seqs = seq_to_seq( seqs, modifier = mark_modifier, position = 0.0, mark = '@' )\n",
      "        seqs = seq_to_seq( seqs, modifier = mark_modifier, position = 1.0, mark = '*' )\n",
      "        \n",
      "        #convert to graph\n",
      "        from eden.converter.fasta import sequence_to_eden\n",
      "        graphs = sequence_to_eden( seqs )\n",
      "        \n",
      "        #relabel aa with vector encoding\n",
      "        from eden.modifier.graph.vertex_attributes import translate \n",
      "        graphs = translate(graphs, label_map = aa_encoding_dict5D, default = [0,0,0,0,0])\n",
      "        return graphs\n",
      "\n",
      "    from eden.graph import Vectorizer\n",
      "    vectorizer = Vectorizer(discretization_size = 5, discretization_dimension = 10)\n",
      "\n",
      "    from sklearn.linear_model import SGDClassifier\n",
      "    estimator = SGDClassifier(class_weight='auto', shuffle=True)\n",
      "    \n",
      "    #create iterable from files\n",
      "    from eden.converter.fasta import fasta_to_sequence\n",
      "    seqs = fasta_to_sequence( fname )\n",
      "\n",
      "    from itertools import tee\n",
      "    seqs,seqs_,seqs__=tee(seqs,3)\n",
      "\n",
      "    #count positive instances\n",
      "    active_set_size=sum(1 for x in seqs__)\n",
      "    \n",
      "    iterable_pos_train = seqs\n",
      "    from eden.modifier.seq import seq_to_seq, shuffle_modifier\n",
      "    iterable_neg_train = seq_to_seq( seqs_, modifier=shuffle_modifier, times=neg_size_factor, order=2 )\n",
      "\n",
      "    #make predictive model\n",
      "    from eden.model import ActiveLearningBinaryClassificationModel\n",
      "    model = ActiveLearningBinaryClassificationModel( pre_processor, estimator=estimator, vectorizer=vectorizer, fit_vectorizer=True )\n",
      "\n",
      "    #optimize hyperparameters and fit model\n",
      "    from numpy.random import randint\n",
      "    from numpy.random import uniform\n",
      "\n",
      "    pre_processor_parameters={}\n",
      "\n",
      "    vectorizer_parameters={'r':[2,3], 'd':[0,1,2,3,4,5]}\n",
      "\n",
      "    estimator_parameters={'n_iter':randint(5, 100, size=n_iter),\n",
      "                          'penalty':['l1','l2','elasticnet'],\n",
      "                          'l1_ratio':uniform(0.1,0.9, size=n_iter), \n",
      "                          'loss':['hinge', 'log', 'modified_huber', 'squared_hinge', 'perceptron'],\n",
      "                          'power_t':uniform(0.1, size=n_iter),\n",
      "                          'alpha': [10**x for x in range(-8,0)],\n",
      "                          'eta0': [10**x for x in range(-4,-1)],\n",
      "                          'learning_rate': [\"invscaling\", \"constant\", \"optimal\"]}\n",
      "\n",
      "    model.optimize(iterable_pos_train, iterable_neg_train,\n",
      "                   model_name=model_fname,  \n",
      "                   n_active_learning_iterations=n_active_learning_iterations,\n",
      "                   size_positive=-1,\n",
      "                   size_negative=active_set_size,\n",
      "                   lower_bound_threshold_positive=-threshold,\n",
      "                   upper_bound_threshold_positive=threshold,\n",
      "                   lower_bound_threshold_negative=-threshold,\n",
      "                   upper_bound_threshold_negative=threshold,                                              \n",
      "                   n_iter=n_iter, cv=3, verbose=verbose,\n",
      "                   pre_processor_parameters=pre_processor_parameters, \n",
      "                   vectorizer_parameters=vectorizer_parameters, \n",
      "                   estimator_parameters=estimator_parameters)"
     ],
     "language": "python",
     "metadata": {},
     "outputs": [],
     "prompt_number": 5
    },
    {
     "cell_type": "code",
     "collapsed": false,
     "input": [
      "def test_protease_model(fname=None, model_fname=None):\n",
      "    from eden.model import ActiveLearningBinaryClassificationModel\n",
      "\n",
      "    model = ActiveLearningBinaryClassificationModel()\n",
      "    model.load(model_fname)\n",
      "    model.print_model_parameter_configuration()\n",
      "\n",
      "    from eden.converter.fasta import fasta_to_sequence\n",
      "    seqs = fasta_to_sequence( fname )\n",
      "    from itertools import tee\n",
      "    seqs,seqs_=tee(seqs)\n",
      "    predictions= model.decision_function( seqs_ )\n",
      "    from itertools import izip\n",
      "    return izip(predictions,seqs)"
     ],
     "language": "python",
     "metadata": {},
     "outputs": [],
     "prompt_number": 6
    },
    {
     "cell_type": "markdown",
     "metadata": {},
     "source": [
      "#Models Training"
     ]
    },
    {
     "cell_type": "code",
     "collapsed": false,
     "input": [
      "dirname='proteasis'\n",
      "file_names = !ls $dirname\n",
      "names = [name.split('.')[0] for name in file_names]\n",
      "print(names)"
     ],
     "language": "python",
     "metadata": {},
     "outputs": [
      {
       "output_type": "stream",
       "stream": "stdout",
       "text": [
        "['CAPN1', 'CAPN2', 'CASP1', 'CASP3', 'CASP7', 'CMA1', 'CTSB', 'CTSD', 'CTSE', 'CTSG', 'CTSK', 'CTSL1', 'CTSS', 'ELANE', 'F2', 'FURIN', 'GZMA', 'GZMB', 'GZMM', 'HPN', 'HTRA2', 'KLK4', 'MEP1A', 'MEP1B', 'MME', 'MMP12', 'MMP13', 'MMP14', 'MMP2', 'MMP3', 'MMP7', 'MMP8', 'MMP9', 'PCSK2', 'PCSK4', 'PCSK5', 'PCSK6', 'PCSK7', 'PGA3', 'PLG', 'ST14', 'TMPRSS11E', 'TMPRSS6', 'TMPRSS7']\n"
       ]
      }
     ],
     "prompt_number": 7
    },
    {
     "cell_type": "code",
     "collapsed": false,
     "input": [
      "import time\n",
      "import datetime\n",
      "\n",
      "for name in names[:1]:\n",
      "    start=time.time()\n",
      "    print '-'*80\n",
      "    print 'Processing: %s'%name\n",
      "    fname=dirname+'/'+name+'.fasta'\n",
      "    model_fname=name+'.model'\n",
      "    train_protease_model(fname=fname, model_fname=model_fname, \n",
      "                         neg_size_factor=1, \n",
      "                         n_iter=5, \n",
      "                         threshold=1, \n",
      "                         n_active_learning_iterations=0, \n",
      "                         verbose=2)\n",
      "    print 'Elapsed: %s'%(datetime.timedelta(time.time()-start))"
     ],
     "language": "python",
     "metadata": {},
     "outputs": [
      {
       "output_type": "stream",
       "stream": "stdout",
       "text": [
        "--------------------------------------------------------------------------------\n",
        "Processing: CAPN1\n",
        "--------------------------------------------------------------------------------\n",
        "Parameters range:\n",
        "Pre_processor:\n",
        "{}\n",
        "Vectorizer:\n",
        "{'d': [0, 1, 2, 3, 4, 5], 'r': [2, 3]}\n",
        "Estimator:\n",
        "{'alpha': [1e-08, 1e-07, 1e-06, 1e-05, 0.0001, 0.001, 0.01, 0.1],\n",
        " 'eta0': [0.0001, 0.001, 0.01],\n",
        " 'l1_ratio': array([ 0.74056503,  0.55934529,  0.21937482,  0.46603134,  0.21170111]),\n",
        " 'learning_rate': ['invscaling', 'constant', 'optimal'],\n",
        " 'loss': ['hinge', 'log', 'modified_huber', 'squared_hinge', 'perceptron'],\n",
        " 'n_iter': array([28, 10, 51, 24, 30]),\n",
        " 'penalty': ['l1', 'l2', 'elasticnet'],\n",
        " 'power_t': array([ 0.65301815,  0.40140991,  0.28453497,  0.98938573,  0.46080015])}\n",
        "--------------------------------------------------------------------------------\n"
       ]
      },
      {
       "output_type": "stream",
       "stream": "stderr",
       "text": [
        "/System/Library/Frameworks/Python.framework/Versions/2.7/Extras/lib/python/numpy/core/_methods.py:55: RuntimeWarning: Mean of empty slice.\n",
        "  warnings.warn(\"Mean of empty slice.\", RuntimeWarning)\n",
        "/System/Library/Frameworks/Python.framework/Versions/2.7/Extras/lib/python/numpy/core/_methods.py:67: RuntimeWarning: invalid value encountered in double_scalars\n",
        "  ret = ret.dtype.type(ret / rcount)\n"
       ]
      },
      {
       "output_type": "stream",
       "stream": "stderr",
       "text": [
        "/Library/Python/2.7/site-packages/sklearn/cluster/k_means_.py:862: RuntimeWarning: Got data type int64, converted to float to avoid overflows\n",
        "  X = self._check_test_data(X)\n",
        "/Library/Python/2.7/site-packages/sklearn/cluster/k_means_.py:862: RuntimeWarning: Got data type int64, converted to float to avoid overflows\n",
        "  X = self._check_test_data(X)\n",
        "/Library/Python/2.7/site-packages/sklearn/cluster/k_means_.py:862: RuntimeWarning: Got data type int64, converted to float to avoid overflows\n",
        "  X = self._check_test_data(X)\n",
        "/Library/Python/2.7/site-packages/sklearn/cluster/k_means_.py:862: RuntimeWarning: Got data type int64, converted to float to avoid overflows\n",
        "  X = self._check_test_data(X)\n",
        "/Library/Python/2.7/site-packages/sklearn/cluster/k_means_.py:862: RuntimeWarning: Got data type int64, converted to float to avoid overflows\n",
        "  X = self._check_test_data(X)\n",
        "/Library/Python/2.7/site-packages/sklearn/cluster/k_means_.py:862: RuntimeWarning: Got data type int64, converted to float to avoid overflows\n",
        "  X = self._check_test_data(X)\n"
       ]
      },
      {
       "output_type": "stream",
       "stream": "stderr",
       "text": [
        "/Library/Python/2.7/site-packages/sklearn/cluster/k_means_.py:862: RuntimeWarning: Got data type int64, converted to float to avoid overflows\n",
        "  X = self._check_test_data(X)\n",
        "/Library/Python/2.7/site-packages/sklearn/cluster/k_means_.py:862: RuntimeWarning: Got data type int64, converted to float to avoid overflows\n",
        "  X = self._check_test_data(X)\n",
        "/Library/Python/2.7/site-packages/sklearn/cluster/k_means_.py:862: RuntimeWarning: Got data type int64, converted to float to avoid overflows\n",
        "  X = self._check_test_data(X)\n",
        "/Library/Python/2.7/site-packages/sklearn/cluster/k_means_.py:862: RuntimeWarning: Got data type int64, converted to float to avoid overflows\n",
        "  X = self._check_test_data(X)\n",
        "/Library/Python/2.7/site-packages/sklearn/cluster/k_means_.py:862: RuntimeWarning: Got data type int64, converted to float to avoid overflows\n",
        "  X = self._check_test_data(X)\n",
        "/Library/Python/2.7/site-packages/sklearn/cluster/k_means_.py:862: RuntimeWarning: Got data type int64, converted to float to avoid overflows\n",
        "  X = self._check_test_data(X)\n"
       ]
      },
      {
       "output_type": "stream",
       "stream": "stdout",
       "text": [
        "\n",
        "Iteration: 1/5 (at 4.9 sec; 0:00:04.859736)\n",
        "Best score (roc_auc): 0.535542 (0.553577 +- 0.018035)\n",
        "Instances: 364 ; Features: 1048577 with an avg of 165 features per instance\n",
        "class: 1 count:182 (0.50)\tclass: -1 count:182 (0.50)\t\n",
        "--------------------------------------------------------------------------------\n",
        "Current parameters:\n",
        "Pre_processor:\n",
        "{}\n",
        "Vectorizer:\n",
        "{'d': 0, 'r': 2}\n",
        "Estimator:\n",
        "{'alpha': 0.01,\n",
        " 'eta0': 0.001,\n",
        " 'l1_ratio': 0.46603134120681411,\n",
        " 'learning_rate': 'optimal',\n",
        " 'loss': 'modified_huber',\n",
        " 'n_iter': 30,\n",
        " 'penalty': 'l1',\n",
        " 'power_t': 0.40140991410905269}\n",
        "--------------------------------------------------------------------------------\n",
        "Saved current best model in CAPN1.model\n"
       ]
      },
      {
       "output_type": "stream",
       "stream": "stderr",
       "text": [
        "/Library/Python/2.7/site-packages/sklearn/cluster/k_means_.py:862: RuntimeWarning: Got data type int64, converted to float to avoid overflows\n",
        "  X = self._check_test_data(X)\n",
        "/Library/Python/2.7/site-packages/sklearn/cluster/k_means_.py:862: RuntimeWarning: Got data type int64, converted to float to avoid overflows\n",
        "  X = self._check_test_data(X)\n",
        "/Library/Python/2.7/site-packages/sklearn/cluster/k_means_.py:862: RuntimeWarning: Got data type int64, converted to float to avoid overflows\n",
        "  X = self._check_test_data(X)\n",
        "/Library/Python/2.7/site-packages/sklearn/cluster/k_means_.py:862: RuntimeWarning: Got data type int64, converted to float to avoid overflows\n",
        "  X = self._check_test_data(X)\n",
        "/Library/Python/2.7/site-packages/sklearn/cluster/k_means_.py:862: RuntimeWarning: Got data type int64, converted to float to avoid overflows\n",
        "  X = self._check_test_data(X)\n",
        "/Library/Python/2.7/site-packages/sklearn/cluster/k_means_.py:862: RuntimeWarning: Got data type int64, converted to float to avoid overflows\n",
        "  X = self._check_test_data(X)\n"
       ]
      },
      {
       "output_type": "stream",
       "stream": "stderr",
       "text": [
        "/Library/Python/2.7/site-packages/sklearn/cluster/k_means_.py:862: RuntimeWarning: Got data type int64, converted to float to avoid overflows\n",
        "  X = self._check_test_data(X)\n",
        "/Library/Python/2.7/site-packages/sklearn/cluster/k_means_.py:862: RuntimeWarning: Got data type int64, converted to float to avoid overflows\n",
        "  X = self._check_test_data(X)\n",
        "/Library/Python/2.7/site-packages/sklearn/cluster/k_means_.py:862: RuntimeWarning: Got data type int64, converted to float to avoid overflows\n",
        "  X = self._check_test_data(X)\n",
        "/Library/Python/2.7/site-packages/sklearn/cluster/k_means_.py:862: RuntimeWarning: Got data type int64, converted to float to avoid overflows\n",
        "  X = self._check_test_data(X)\n",
        "/Library/Python/2.7/site-packages/sklearn/cluster/k_means_.py:862: RuntimeWarning: Got data type int64, converted to float to avoid overflows\n",
        "  X = self._check_test_data(X)\n",
        "/Library/Python/2.7/site-packages/sklearn/cluster/k_means_.py:862: RuntimeWarning: Got data type int64, converted to float to avoid overflows\n",
        "  X = self._check_test_data(X)\n"
       ]
      },
      {
       "output_type": "stream",
       "stream": "stdout",
       "text": [
        "\n",
        "Iteration: 2/5 (at 14.2 sec; 0:00:14.166698)\n",
        "Best score (roc_auc): 0.727223 (0.777573 +- 0.050350)\n",
        "Instances: 364 ; Features: 1048577 with an avg of 1310 features per instance\n",
        "class: 1 count:182 (0.50)\tclass: -1 count:182 (0.50)\t\n",
        "--------------------------------------------------------------------------------\n",
        "Current parameters:\n",
        "Pre_processor:\n",
        "{}\n",
        "Vectorizer:\n",
        "{'d': 4, 'r': 3}\n",
        "Estimator:\n",
        "{'alpha': 0.0001,\n",
        " 'eta0': 0.01,\n",
        " 'l1_ratio': 0.21937482348193776,\n",
        " 'learning_rate': 'invscaling',\n",
        " 'loss': 'modified_huber',\n",
        " 'n_iter': 30,\n",
        " 'penalty': 'elasticnet',\n",
        " 'power_t': 0.65301815130483698}\n",
        "--------------------------------------------------------------------------------\n",
        "Saved current best model in CAPN1.model\n",
        "--------------------------------------------------------------------------------\n",
        "Parameters range:\n",
        "Pre_processor:\n",
        "{}\n",
        "Vectorizer:\n",
        "{'d': [4], 'r': [3]}\n",
        "Estimator:\n",
        "{'alpha': [0.0001],\n",
        " 'eta0': [0.01],\n",
        " 'l1_ratio': [0.21937482348193776],\n",
        " 'learning_rate': ['invscaling'],\n",
        " 'loss': ['modified_huber'],\n",
        " 'n_iter': [30],\n",
        " 'penalty': ['elasticnet'],\n",
        " 'power_t': [0.65301815130483698]}\n",
        "--------------------------------------------------------------------------------\n"
       ]
      },
      {
       "output_type": "stream",
       "stream": "stderr",
       "text": [
        "/Library/Python/2.7/site-packages/sklearn/cluster/k_means_.py:862: RuntimeWarning: Got data type int64, converted to float to avoid overflows\n",
        "  X = self._check_test_data(X)\n",
        "/Library/Python/2.7/site-packages/sklearn/cluster/k_means_.py:862: RuntimeWarning: Got data type int64, converted to float to avoid overflows\n",
        "  X = self._check_test_data(X)\n",
        "/Library/Python/2.7/site-packages/sklearn/cluster/k_means_.py:862: RuntimeWarning: Got data type int64, converted to float to avoid overflows\n",
        "  X = self._check_test_data(X)\n",
        "/Library/Python/2.7/site-packages/sklearn/cluster/k_means_.py:862: RuntimeWarning: Got data type int64, converted to float to avoid overflows\n",
        "  X = self._check_test_data(X)\n",
        "/Library/Python/2.7/site-packages/sklearn/cluster/k_means_.py:862: RuntimeWarning: Got data type int64, converted to float to avoid overflows\n",
        "  X = self._check_test_data(X)\n",
        "/Library/Python/2.7/site-packages/sklearn/cluster/k_means_.py:862: RuntimeWarning: Got data type int64, converted to float to avoid overflows\n",
        "  X = self._check_test_data(X)\n"
       ]
      },
      {
       "output_type": "stream",
       "stream": "stderr",
       "text": [
        "/Library/Python/2.7/site-packages/sklearn/cluster/k_means_.py:862: RuntimeWarning: Got data type int64, converted to float to avoid overflows\n",
        "  X = self._check_test_data(X)\n",
        "/Library/Python/2.7/site-packages/sklearn/cluster/k_means_.py:862: RuntimeWarning: Got data type int64, converted to float to avoid overflows\n",
        "  X = self._check_test_data(X)\n",
        "/Library/Python/2.7/site-packages/sklearn/cluster/k_means_.py:862: RuntimeWarning: Got data type int64, converted to float to avoid overflows\n",
        "  X = self._check_test_data(X)\n",
        "/Library/Python/2.7/site-packages/sklearn/cluster/k_means_.py:862: RuntimeWarning: Got data type int64, converted to float to avoid overflows\n",
        "  X = self._check_test_data(X)\n",
        "/Library/Python/2.7/site-packages/sklearn/cluster/k_means_.py:862: RuntimeWarning: Got data type int64, converted to float to avoid overflows\n",
        "  X = self._check_test_data(X)\n",
        "/Library/Python/2.7/site-packages/sklearn/cluster/k_means_.py:862: RuntimeWarning: Got data type int64, converted to float to avoid overflows\n",
        "  X = self._check_test_data(X)\n"
       ]
      },
      {
       "output_type": "stream",
       "stream": "stdout",
       "text": [
        "\n",
        "Iteration: 3/5 (at 22.9 sec; 0:00:22.941977)\n",
        "Best score (roc_auc): 0.756292 (0.797308 +- 0.041016)\n",
        "Instances: 364 ; Features: 1048577 with an avg of 1310 features per instance\n",
        "class: 1 count:182 (0.50)\tclass: -1 count:182 (0.50)\t\n",
        "--------------------------------------------------------------------------------\n",
        "Current parameters:\n",
        "Pre_processor:\n",
        "{}\n",
        "Vectorizer:\n",
        "{'d': 4, 'r': 3}\n",
        "Estimator:\n",
        "{'alpha': 0.0001,\n",
        " 'eta0': 0.01,\n",
        " 'l1_ratio': 0.21937482348193776,\n",
        " 'learning_rate': 'invscaling',\n",
        " 'loss': 'modified_huber',\n",
        " 'n_iter': 30,\n",
        " 'penalty': 'elasticnet',\n",
        " 'power_t': 0.65301815130483698}\n",
        "--------------------------------------------------------------------------------\n",
        "Saved current best model in CAPN1.model\n"
       ]
      },
      {
       "output_type": "stream",
       "stream": "stderr",
       "text": [
        "/Library/Python/2.7/site-packages/sklearn/cluster/k_means_.py:862: RuntimeWarning: Got data type int64, converted to float to avoid overflows\n",
        "  X = self._check_test_data(X)\n",
        "/Library/Python/2.7/site-packages/sklearn/cluster/k_means_.py:862: RuntimeWarning: Got data type int64, converted to float to avoid overflows\n",
        "  X = self._check_test_data(X)\n",
        "/Library/Python/2.7/site-packages/sklearn/cluster/k_means_.py:862: RuntimeWarning: Got data type int64, converted to float to avoid overflows\n",
        "  X = self._check_test_data(X)\n",
        "/Library/Python/2.7/site-packages/sklearn/cluster/k_means_.py:862: RuntimeWarning: Got data type int64, converted to float to avoid overflows\n",
        "  X = self._check_test_data(X)\n",
        "/Library/Python/2.7/site-packages/sklearn/cluster/k_means_.py:862: RuntimeWarning: Got data type int64, converted to float to avoid overflows\n",
        "  X = self._check_test_data(X)\n",
        "/Library/Python/2.7/site-packages/sklearn/cluster/k_means_.py:862: RuntimeWarning: Got data type int64, converted to float to avoid overflows\n",
        "  X = self._check_test_data(X)\n"
       ]
      },
      {
       "output_type": "stream",
       "stream": "stderr",
       "text": [
        "/Library/Python/2.7/site-packages/sklearn/cluster/k_means_.py:862: RuntimeWarning: Got data type int64, converted to float to avoid overflows\n",
        "  X = self._check_test_data(X)\n",
        "/Library/Python/2.7/site-packages/sklearn/cluster/k_means_.py:862: RuntimeWarning: Got data type int64, converted to float to avoid overflows\n",
        "  X = self._check_test_data(X)\n",
        "/Library/Python/2.7/site-packages/sklearn/cluster/k_means_.py:862: RuntimeWarning: Got data type int64, converted to float to avoid overflows\n",
        "  X = self._check_test_data(X)\n",
        "/Library/Python/2.7/site-packages/sklearn/cluster/k_means_.py:862: RuntimeWarning: Got data type int64, converted to float to avoid overflows\n",
        "  X = self._check_test_data(X)\n",
        "/Library/Python/2.7/site-packages/sklearn/cluster/k_means_.py:862: RuntimeWarning: Got data type int64, converted to float to avoid overflows\n",
        "  X = self._check_test_data(X)\n",
        "/Library/Python/2.7/site-packages/sklearn/cluster/k_means_.py:862: RuntimeWarning: Got data type int64, converted to float to avoid overflows\n",
        "  X = self._check_test_data(X)\n"
       ]
      },
      {
       "output_type": "stream",
       "stream": "stderr",
       "text": [
        "/Library/Python/2.7/site-packages/sklearn/cluster/k_means_.py:862: RuntimeWarning: Got data type int64, converted to float to avoid overflows\n",
        "  X = self._check_test_data(X)\n",
        "/Library/Python/2.7/site-packages/sklearn/cluster/k_means_.py:862: RuntimeWarning: Got data type int64, converted to float to avoid overflows\n",
        "  X = self._check_test_data(X)\n",
        "/Library/Python/2.7/site-packages/sklearn/cluster/k_means_.py:862: RuntimeWarning: Got data type int64, converted to float to avoid overflows\n",
        "  X = self._check_test_data(X)\n",
        "/Library/Python/2.7/site-packages/sklearn/cluster/k_means_.py:862: RuntimeWarning: Got data type int64, converted to float to avoid overflows\n",
        "  X = self._check_test_data(X)\n",
        "/Library/Python/2.7/site-packages/sklearn/cluster/k_means_.py:862: RuntimeWarning: Got data type int64, converted to float to avoid overflows\n",
        "  X = self._check_test_data(X)\n",
        "/Library/Python/2.7/site-packages/sklearn/cluster/k_means_.py:862: RuntimeWarning: Got data type int64, converted to float to avoid overflows\n",
        "  X = self._check_test_data(X)\n"
       ]
      },
      {
       "output_type": "stream",
       "stream": "stderr",
       "text": [
        "/Library/Python/2.7/site-packages/sklearn/cluster/k_means_.py:862: RuntimeWarning: Got data type int64, converted to float to avoid overflows\n",
        "  X = self._check_test_data(X)\n",
        "/Library/Python/2.7/site-packages/sklearn/cluster/k_means_.py:862: RuntimeWarning: Got data type int64, converted to float to avoid overflows\n",
        "  X = self._check_test_data(X)\n",
        "/Library/Python/2.7/site-packages/sklearn/cluster/k_means_.py:862: RuntimeWarning: Got data type int64, converted to float to avoid overflows\n",
        "  X = self._check_test_data(X)\n",
        "/Library/Python/2.7/site-packages/sklearn/cluster/k_means_.py:862: RuntimeWarning: Got data type int64, converted to float to avoid overflows\n",
        "  X = self._check_test_data(X)\n",
        "/Library/Python/2.7/site-packages/sklearn/cluster/k_means_.py:862: RuntimeWarning: Got data type int64, converted to float to avoid overflows\n",
        "  X = self._check_test_data(X)\n",
        "/Library/Python/2.7/site-packages/sklearn/cluster/k_means_.py:862: RuntimeWarning: Got data type int64, converted to float to avoid overflows\n",
        "  X = self._check_test_data(X)\n"
       ]
      },
      {
       "output_type": "stream",
       "stream": "stdout",
       "text": [
        "Elapsed: 40 days, 1:58:08.344574\n"
       ]
      }
     ],
     "prompt_number": 8
    },
    {
     "cell_type": "code",
     "collapsed": false,
     "input": [
      "%%time\n",
      "for name in names[:1]:\n",
      "    print '-'*80\n",
      "    print 'Processing: %s'%name\n",
      "    fname=dirname+'/'+name+'.fasta'\n",
      "    model_fname=name+'.model'\n",
      "    test_protease_model(fname=fname, model_fname=model_fname)"
     ],
     "language": "python",
     "metadata": {},
     "outputs": [
      {
       "output_type": "stream",
       "stream": "stdout",
       "text": [
        "--------------------------------------------------------------------------------\n",
        "Processing: CAPN1\n",
        "--------------------------------------------------------------------------------\n",
        "Current parameters:\n",
        "Pre_processor:\n",
        "{}\n",
        "Vectorizer:\n",
        "{'d': 4, 'r': 3}\n",
        "Estimator:\n",
        "{'alpha': 0.0001,\n",
        " 'eta0': 0.01,\n",
        " 'l1_ratio': 0.21937482348193776,\n",
        " 'learning_rate': 'invscaling',\n",
        " 'loss': 'modified_huber',\n",
        " 'n_iter': 30,\n",
        " 'penalty': 'elasticnet',\n",
        " 'power_t': 0.65301815130483698}\n",
        "--------------------------------------------------------------------------------\n"
       ]
      },
      {
       "output_type": "stream",
       "stream": "stdout",
       "text": [
        "CPU times: user 395 ms, sys: 127 ms, total: 522 ms\n",
        "Wall time: 3.98 s\n"
       ]
      },
      {
       "output_type": "stream",
       "stream": "stderr",
       "text": [
        "/Library/Python/2.7/site-packages/sklearn/cluster/k_means_.py:862: RuntimeWarning: Got data type int64, converted to float to avoid overflows\n",
        "  X = self._check_test_data(X)\n",
        "/Library/Python/2.7/site-packages/sklearn/cluster/k_means_.py:862: RuntimeWarning: Got data type int64, converted to float to avoid overflows\n",
        "  X = self._check_test_data(X)\n",
        "/Library/Python/2.7/site-packages/sklearn/cluster/k_means_.py:862: RuntimeWarning: Got data type int64, converted to float to avoid overflows\n",
        "  X = self._check_test_data(X)\n",
        "/Library/Python/2.7/site-packages/sklearn/cluster/k_means_.py:862: RuntimeWarning: Got data type int64, converted to float to avoid overflows\n",
        "  X = self._check_test_data(X)\n",
        "/Library/Python/2.7/site-packages/sklearn/cluster/k_means_.py:862: RuntimeWarning: Got data type int64, converted to float to avoid overflows\n",
        "  X = self._check_test_data(X)\n",
        "/Library/Python/2.7/site-packages/sklearn/cluster/k_means_.py:862: RuntimeWarning: Got data type int64, converted to float to avoid overflows\n",
        "  X = self._check_test_data(X)\n"
       ]
      }
     ],
     "prompt_number": 9
    }
   ],
   "metadata": {}
  }
 ]
}