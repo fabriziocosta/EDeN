{
 "cells": [
  {
   "cell_type": "code",
   "execution_count": 1,
   "metadata": {
    "collapsed": false
   },
   "outputs": [],
   "source": [
    "%matplotlib inline\n",
    "%load_ext autoreload\n",
    "%autoreload 2"
   ]
  },
  {
   "cell_type": "code",
   "execution_count": 2,
   "metadata": {
    "collapsed": false
   },
   "outputs": [],
   "source": [
    "from eden.converter.molecule import obabel\n",
    "import networkx as nx\n",
    "import pybel\n",
    "import requests\n",
    "import os.path"
   ]
  },
  {
   "cell_type": "raw",
   "metadata": {},
   "source": [
    "Get the data from PubChem server:"
   ]
  },
  {
   "cell_type": "code",
   "execution_count": 3,
   "metadata": {
    "collapsed": false
   },
   "outputs": [
    {
     "name": "stdout",
     "output_type": "stream",
     "text": [
      "CPU times: user 6 µs, sys: 1e+03 ns, total: 7 µs\n",
      "Wall time: 11 µs\n"
     ]
    }
   ],
   "source": [
    "%%time\n",
    "AID=825\n",
    "#AID=2401\n",
    "#DATA_DIR = '/Volumes/seagate/thesis/examples/data'\n",
    "DATA_DIR = '/Users/jl/uni-freiburg/thesis/EDeN/examples/data/'\n",
    "active_fname=DATA_DIR + '/AID%s_active.smiles'%AID\n",
    "inactive_fname=DATA_DIR + '/AID%s_inactive.smiles'%AID"
   ]
  },
  {
   "cell_type": "markdown",
   "metadata": {},
   "source": [
    "Generate conformers for data"
   ]
  },
  {
   "cell_type": "code",
   "execution_count": 4,
   "metadata": {
    "collapsed": false
   },
   "outputs": [
    {
     "data": {
      "text/plain": [
       "'/Users/jl/uni-freiburg/thesis/EDeN/examples/data//AID825_active.smiles'"
      ]
     },
     "execution_count": 4,
     "metadata": {},
     "output_type": "execute_result"
    }
   ],
   "source": [
    "active_fname"
   ]
  },
  {
   "cell_type": "code",
   "execution_count": 14,
   "metadata": {
    "collapsed": false
   },
   "outputs": [
    {
     "name": "stdout",
     "output_type": "stream",
     "text": [
      "CPU times: user 5 µs, sys: 1 µs, total: 6 µs\n",
      "Wall time: 11.9 µs\n"
     ]
    }
   ],
   "source": [
    "%%time\n",
    "if 0:\n",
    "    # Active compounds\n",
    "    if not os.path.exists(DATA_DIR + '/conf_AID%s_active.sdf'%AID):\n",
    "        active_conf = DATA_DIR + '/conf_AID%s_active.sdf'%AID\n",
    "        obabel.generate_conformers(active_fname, active_conf, 10, 'rmsd')\n",
    "    # Inactive compounds\n",
    "    if not os.path.exists(DATA_DIR + '/conf_AID%s_inactive.sdf'%AID):\n",
    "        inactive_conf = DATA_DIR + '/conf_AID%s_inactive.sdf'%AID\n",
    "        obabel.generate_conformers(inactive_fname, inactive_conf, 10, 'rmsd')"
   ]
  },
  {
   "cell_type": "code",
   "execution_count": 15,
   "metadata": {
    "collapsed": true
   },
   "outputs": [],
   "source": [
    "def make_iterable(filename):\n",
    "    with open(filename) as f:\n",
    "        for line in f:\n",
    "            yield line"
   ]
  },
  {
   "cell_type": "markdown",
   "metadata": {},
   "source": [
    "Functions for training and testing the model"
   ]
  },
  {
   "cell_type": "code",
   "execution_count": 107,
   "metadata": {
    "collapsed": false
   },
   "outputs": [],
   "source": [
    "import datetime, time\n",
    "def train_obabel_model(iterable_pos, iterable_neg, data_dir,\n",
    "                       model_type = \"default\",\n",
    "                       model_fname=None, n_iter=40, active_set_size=1000, \n",
    "                       n_active_learning_iterations=3, threshold=1, train_test_split=0.7, \n",
    "                       verbose=False):\n",
    "    \n",
    "    from numpy.random import randint\n",
    "    from numpy.random import uniform\n",
    "    #print \"data dir inside train function: \" + data_dir\n",
    "    # this will be passed as an argument to the model later on\n",
    "    def pre_processor(data, **kwargs):\n",
    "        \n",
    "        # model_type = kwargs.get('mode', 'default')\n",
    "        \n",
    "        if model_type == \"default\":\n",
    "            iterable = obabel.obabel_to_eden(data, **kwargs)\n",
    "        elif model_type == \"3d\":\n",
    "            iterable = obabel.obabel_to_eden3d(data, **kwargs)\n",
    "        return iterable\n",
    "    \n",
    "    from eden.graph import Vectorizer\n",
    "    vectorizer = Vectorizer()\n",
    "\n",
    "    from sklearn.linear_model import SGDClassifier\n",
    "    estimator = SGDClassifier(class_weight='auto', shuffle=True)\n",
    "\n",
    "    #######3\n",
    "    #create iterable from files\n",
    "    ########\n",
    "    \n",
    "    from itertools import tee\n",
    "    iterable_pos, iterable_pos_ = tee(iterable_pos)\n",
    "    iterable_neg, iterable_neg_ = tee(iterable_neg)\n",
    "    \n",
    "    import time\n",
    "    start = time.time()\n",
    "    print('# positives: %d  # negatives: %d (%.1f sec %s)'%(sum(1 for x in iterable_pos_), sum(1 for x in iterable_neg_), time.time() - start, str(datetime.timedelta(seconds=(time.time() - start)))))\n",
    "    \n",
    "    iterable_pos, iterable_pos_ = tee(iterable_pos)\n",
    "    iterable_neg, iterable_neg_ = tee(iterable_neg)\n",
    "    \n",
    "    #split train/test\n",
    "    from eden.util import random_bipartition_iter\n",
    "    iterable_pos_train, iterable_pos_test = random_bipartition_iter(iterable_pos, relative_size=train_test_split)\n",
    "    iterable_neg_train, iterable_neg_test = random_bipartition_iter(iterable_neg, relative_size=train_test_split)\n",
    "\n",
    "\n",
    "\n",
    "    #make predictive model\n",
    "    from eden.model import ActiveLearningBinaryClassificationModel\n",
    "    model = ActiveLearningBinaryClassificationModel( pre_processor, estimator=estimator, vectorizer=vectorizer )\n",
    "\n",
    "    #optimize hyperparameters and fit model\n",
    "\n",
    "    pre_processor_parameters={'mode':['3d'],\n",
    "                              'knn':randint(1, 10,size=n_iter)} \n",
    "    \n",
    "    #print \"pre processor parameters: \" + str(pre_processor_parameters)\n",
    "    vectorizer_parameters={'complexity':[2,3,4],  \n",
    "                           'discretization_size':randint(3, 100,size=n_iter),                     \n",
    "                           'discretization_dimension':randint(3, 100,size=n_iter)}\n",
    "    \n",
    "    estimator_parameters={'n_iter':randint(5, 100, size=n_iter),\n",
    "                          'penalty':['l1','l2','elasticnet'],\n",
    "                          'l1_ratio':uniform(0.1,0.9, size=n_iter), \n",
    "                          'loss':['hinge', 'log', 'modified_huber', 'squared_hinge', 'perceptron'],\n",
    "                          'power_t':uniform(0.1, size=n_iter),\n",
    "                          'alpha': [10**x for x in range(-8,-2)],\n",
    "                          'eta0': [10**x for x in range(-4,-1)],\n",
    "                          'learning_rate': [\"invscaling\", \"constant\", \"optimal\"]}\n",
    "\n",
    "    print \"calling optimizer..\"\n",
    "    model.optimize(iterable_pos_train, iterable_neg_train, \n",
    "                   model_name=model_fname,\n",
    "                   fit_vectorizer=True,\n",
    "                   n_active_learning_iterations=n_active_learning_iterations,\n",
    "                   size_positive=-1,\n",
    "                   size_negative=active_set_size,\n",
    "                   n_iter=n_iter, cv=3, n_jobs=1, verbose=verbose,\n",
    "                   pre_processor_parameters=pre_processor_parameters, \n",
    "                   vectorizer_parameters=vectorizer_parameters, \n",
    "                   estimator_parameters=estimator_parameters)\n",
    "  \n",
    "    #estimate predictive performance\n",
    "    #model.estimate( iterable_pos_test, iterable_neg_test, cv=5 )\n",
    "    # Had to change this call, estimate has no cv parameter\n",
    "    model.estimate( iterable_pos_test, iterable_neg_test )\n",
    "    \n",
    "    return model\n",
    "\n",
    "def test_obabel_model(fname, model_type = \"default\", model_fname=None):\n",
    "    from eden.model import ActiveLearningBinaryClassificationModel\n",
    "\n",
    "    model = ActiveLearningBinaryClassificationModel()\n",
    "    model.load(model_fname)\n",
    "\n",
    "    #create iterable from files\n",
    "    from eden.converter.molecule import obabel\n",
    "    if model_type == \"default\":\n",
    "        iterable=obabel.obabel_to_eden(fname)\n",
    "    elif model_type == \"3d\":\n",
    "        iterable=obabel.obabel_to_eden3d(fname)\n",
    "    \n",
    "    predictions= model.decision_function( iterable )\n",
    "        \n",
    "    return predictions"
   ]
  },
  {
   "cell_type": "markdown",
   "metadata": {},
   "source": [
    "Train the models"
   ]
  },
  {
   "cell_type": "markdown",
   "metadata": {},
   "source": [
    "**3D model**\n",
    "---"
   ]
  },
  {
   "cell_type": "code",
   "execution_count": 108,
   "metadata": {
    "collapsed": false,
    "scrolled": false
   },
   "outputs": [
    {
     "name": "stdout",
     "output_type": "stream",
     "text": [
      "# positives: 10  # negatives: 10 (0.0 sec 0:00:00.018436)\n",
      "calling optimizer..\n",
      "calling pre processor with iterable_pos\n",
      "pre processor data: <itertools.tee object at 0x10a4825a8>\n",
      "FILE FOUND\n"
     ]
    },
    {
     "ename": "KeyboardInterrupt",
     "evalue": "",
     "output_type": "error",
     "traceback": [
      "\u001b[0;31m---------------------------------------------------------------------------\u001b[0m",
      "\u001b[0;31mKeyboardInterrupt\u001b[0m                         Traceback (most recent call last)",
      "\u001b[0;32m<ipython-input-108-2859f0c469c9>\u001b[0m in \u001b[0;36m<module>\u001b[0;34m()\u001b[0m\n\u001b[1;32m     12\u001b[0m                            \u001b[0mthreshold\u001b[0m\u001b[0;34m=\u001b[0m\u001b[0;36m1\u001b[0m\u001b[0;34m,\u001b[0m\u001b[0;34m\u001b[0m\u001b[0m\n\u001b[1;32m     13\u001b[0m                            \u001b[0mtrain_test_split\u001b[0m\u001b[0;34m=\u001b[0m\u001b[0;36m0.5\u001b[0m\u001b[0;34m,\u001b[0m\u001b[0;34m\u001b[0m\u001b[0m\n\u001b[0;32m---> 14\u001b[0;31m                            verbose=1)\n\u001b[0m",
      "\u001b[0;32m<ipython-input-107-d285c392c439>\u001b[0m in \u001b[0;36mtrain_obabel_model\u001b[0;34m(iterable_pos, iterable_neg, data_dir, model_type, model_fname, n_iter, active_set_size, n_active_learning_iterations, threshold, train_test_split, verbose)\u001b[0m\n\u001b[1;32m    102\u001b[0m                    \u001b[0mpre_processor_parameters\u001b[0m\u001b[0;34m=\u001b[0m\u001b[0mpre_processor_parameters\u001b[0m\u001b[0;34m,\u001b[0m\u001b[0;34m\u001b[0m\u001b[0m\n\u001b[1;32m    103\u001b[0m                    \u001b[0mvectorizer_parameters\u001b[0m\u001b[0;34m=\u001b[0m\u001b[0mvectorizer_parameters\u001b[0m\u001b[0;34m,\u001b[0m\u001b[0;34m\u001b[0m\u001b[0m\n\u001b[0;32m--> 104\u001b[0;31m                    estimator_parameters=estimator_parameters)\n\u001b[0m\u001b[1;32m    105\u001b[0m \u001b[0;34m\u001b[0m\u001b[0m\n\u001b[1;32m    106\u001b[0m     \u001b[0;31m#estimate predictive performance\u001b[0m\u001b[0;34m\u001b[0m\u001b[0;34m\u001b[0m\u001b[0m\n",
      "\u001b[0;32m/Users/jl/anaconda/lib/python2.7/site-packages/eden/model.pyc\u001b[0m in \u001b[0;36moptimize\u001b[0;34m(self, iterable_pos, iterable_neg, model_name, n_active_learning_iterations, size_positive, size_negative, lower_bound_threshold_positive, upper_bound_threshold_positive, lower_bound_threshold_negative, upper_bound_threshold_negative, n_iter, max_total_time, fit_vectorizer, pre_processor_parameters, vectorizer_parameters, estimator_parameters, verbose, n_jobs, cv, scoring, score_func)\u001b[0m\n\u001b[1;32m    230\u001b[0m                     \u001b[0miterable_neg\u001b[0m\u001b[0;34m,\u001b[0m \u001b[0miterable_neg_\u001b[0m \u001b[0;34m=\u001b[0m \u001b[0mtee\u001b[0m\u001b[0;34m(\u001b[0m\u001b[0miterable_neg\u001b[0m\u001b[0;34m)\u001b[0m\u001b[0;34m\u001b[0m\u001b[0m\n\u001b[1;32m    231\u001b[0m                     \u001b[0;32mif\u001b[0m \u001b[0mn_active_learning_iterations\u001b[0m \u001b[0;34m==\u001b[0m \u001b[0;36m0\u001b[0m\u001b[0;34m:\u001b[0m  \u001b[0;31m# if no active learning mode, just produce data matrix\u001b[0m\u001b[0;34m\u001b[0m\u001b[0m\n\u001b[0;32m--> 232\u001b[0;31m                         \u001b[0mX\u001b[0m\u001b[0;34m,\u001b[0m \u001b[0my\u001b[0m \u001b[0;34m=\u001b[0m \u001b[0mself\u001b[0m\u001b[0;34m.\u001b[0m\u001b[0m_data_matrices\u001b[0m\u001b[0;34m(\u001b[0m\u001b[0miterable_pos_\u001b[0m\u001b[0;34m,\u001b[0m \u001b[0miterable_neg_\u001b[0m\u001b[0;34m,\u001b[0m \u001b[0mfit_vectorizer\u001b[0m\u001b[0;34m=\u001b[0m\u001b[0mfit_vectorizer\u001b[0m\u001b[0;34m,\u001b[0m \u001b[0mn_jobs\u001b[0m\u001b[0;34m=\u001b[0m\u001b[0mn_jobs\u001b[0m\u001b[0;34m)\u001b[0m\u001b[0;34m\u001b[0m\u001b[0m\n\u001b[0m\u001b[1;32m    233\u001b[0m                     \u001b[0;32melse\u001b[0m\u001b[0;34m:\u001b[0m  \u001b[0;31m# otherwise use the active learning strategy\u001b[0m\u001b[0;34m\u001b[0m\u001b[0m\n\u001b[1;32m    234\u001b[0m                         X, y = self._active_learning_data_matrices(iterable_pos_, iterable_neg_,\n",
      "\u001b[0;32m/Users/jl/anaconda/lib/python2.7/site-packages/eden/model.pyc\u001b[0m in \u001b[0;36m_data_matrices\u001b[0;34m(self, iterable_pos, iterable_neg, fit_vectorizer, n_jobs)\u001b[0m\n\u001b[1;32m     69\u001b[0m         \u001b[0mself\u001b[0m\u001b[0;34m.\u001b[0m\u001b[0mvectorizer\u001b[0m\u001b[0;34m.\u001b[0m\u001b[0mset_params\u001b[0m\u001b[0;34m(\u001b[0m\u001b[0;34m**\u001b[0m\u001b[0mself\u001b[0m\u001b[0;34m.\u001b[0m\u001b[0mvectorizer_args\u001b[0m\u001b[0;34m)\u001b[0m\u001b[0;34m\u001b[0m\u001b[0m\n\u001b[1;32m     70\u001b[0m         \u001b[0;32mprint\u001b[0m \u001b[0;34m\"calling pre processor with iterable_pos\"\u001b[0m\u001b[0;34m\u001b[0m\u001b[0m\n\u001b[0;32m---> 71\u001b[0;31m         \u001b[0miterator_pos\u001b[0m \u001b[0;34m=\u001b[0m \u001b[0mself\u001b[0m\u001b[0;34m.\u001b[0m\u001b[0mpre_processor\u001b[0m\u001b[0;34m(\u001b[0m\u001b[0miterable_pos\u001b[0m\u001b[0;34m,\u001b[0m \u001b[0;34m**\u001b[0m\u001b[0mself\u001b[0m\u001b[0;34m.\u001b[0m\u001b[0mpre_processor_args\u001b[0m\u001b[0;34m)\u001b[0m\u001b[0;34m\u001b[0m\u001b[0m\n\u001b[0m\u001b[1;32m     72\u001b[0m         \u001b[0;32mif\u001b[0m \u001b[0mfit_vectorizer\u001b[0m\u001b[0;34m:\u001b[0m\u001b[0;34m\u001b[0m\u001b[0m\n\u001b[1;32m     73\u001b[0m             \u001b[0mXpos\u001b[0m \u001b[0;34m=\u001b[0m \u001b[0mself\u001b[0m\u001b[0;34m.\u001b[0m\u001b[0mvectorizer\u001b[0m\u001b[0;34m.\u001b[0m\u001b[0mfit_transform\u001b[0m\u001b[0;34m(\u001b[0m\u001b[0miterator_pos\u001b[0m\u001b[0;34m,\u001b[0m \u001b[0mn_jobs\u001b[0m\u001b[0;34m=\u001b[0m\u001b[0mn_jobs\u001b[0m\u001b[0;34m)\u001b[0m\u001b[0;34m\u001b[0m\u001b[0m\n",
      "\u001b[0;32m<ipython-input-107-d285c392c439>\u001b[0m in \u001b[0;36mpre_processor\u001b[0;34m(data, **kwargs)\u001b[0m\n\u001b[1;32m     30\u001b[0m             \u001b[0mcommand_string\u001b[0m \u001b[0;34m=\u001b[0m \u001b[0;34m'obabel -:\"'\u001b[0m \u001b[0;34m+\u001b[0m \u001b[0mx\u001b[0m\u001b[0;34m.\u001b[0m\u001b[0msplit\u001b[0m\u001b[0;34m(\u001b[0m\u001b[0;34m)\u001b[0m\u001b[0;34m[\u001b[0m\u001b[0;36m1\u001b[0m\u001b[0;34m]\u001b[0m \u001b[0;34m+\u001b[0m \u001b[0;34m'\" -osdf --gen3d >> '\u001b[0m \u001b[0;34m+\u001b[0m \u001b[0moutput_file\u001b[0m\u001b[0;34m\u001b[0m\u001b[0m\n\u001b[1;32m     31\u001b[0m             \u001b[0margs\u001b[0m \u001b[0;34m=\u001b[0m \u001b[0mshlex\u001b[0m\u001b[0;34m.\u001b[0m\u001b[0msplit\u001b[0m\u001b[0;34m(\u001b[0m\u001b[0mcommand_string\u001b[0m\u001b[0;34m)\u001b[0m\u001b[0;34m\u001b[0m\u001b[0m\n\u001b[0;32m---> 32\u001b[0;31m             \u001b[0mp\u001b[0m \u001b[0;34m=\u001b[0m \u001b[0msubprocess\u001b[0m\u001b[0;34m.\u001b[0m\u001b[0mcall\u001b[0m\u001b[0;34m(\u001b[0m\u001b[0margs\u001b[0m\u001b[0;34m)\u001b[0m\u001b[0;34m\u001b[0m\u001b[0m\n\u001b[0m\u001b[1;32m     33\u001b[0m \u001b[0;34m\u001b[0m\u001b[0m\n\u001b[1;32m     34\u001b[0m         \u001b[0;32mprint\u001b[0m \u001b[0;34m\"3d data created, constructing iterable\"\u001b[0m\u001b[0;34m\u001b[0m\u001b[0m\n",
      "\u001b[0;32m/Users/jl/anaconda/lib/python2.7/subprocess.pyc\u001b[0m in \u001b[0;36mcall\u001b[0;34m(*popenargs, **kwargs)\u001b[0m\n\u001b[1;32m    520\u001b[0m     \u001b[0mretcode\u001b[0m \u001b[0;34m=\u001b[0m \u001b[0mcall\u001b[0m\u001b[0;34m(\u001b[0m\u001b[0;34m[\u001b[0m\u001b[0;34m\"ls\"\u001b[0m\u001b[0;34m,\u001b[0m \u001b[0;34m\"-l\"\u001b[0m\u001b[0;34m]\u001b[0m\u001b[0;34m)\u001b[0m\u001b[0;34m\u001b[0m\u001b[0m\n\u001b[1;32m    521\u001b[0m     \"\"\"\n\u001b[0;32m--> 522\u001b[0;31m     \u001b[0;32mreturn\u001b[0m \u001b[0mPopen\u001b[0m\u001b[0;34m(\u001b[0m\u001b[0;34m*\u001b[0m\u001b[0mpopenargs\u001b[0m\u001b[0;34m,\u001b[0m \u001b[0;34m**\u001b[0m\u001b[0mkwargs\u001b[0m\u001b[0;34m)\u001b[0m\u001b[0;34m.\u001b[0m\u001b[0mwait\u001b[0m\u001b[0;34m(\u001b[0m\u001b[0;34m)\u001b[0m\u001b[0;34m\u001b[0m\u001b[0m\n\u001b[0m\u001b[1;32m    523\u001b[0m \u001b[0;34m\u001b[0m\u001b[0m\n\u001b[1;32m    524\u001b[0m \u001b[0;34m\u001b[0m\u001b[0m\n",
      "\u001b[0;32m/Users/jl/anaconda/lib/python2.7/subprocess.pyc\u001b[0m in \u001b[0;36mwait\u001b[0;34m(self)\u001b[0m\n\u001b[1;32m   1382\u001b[0m             \u001b[0;32mwhile\u001b[0m \u001b[0mself\u001b[0m\u001b[0;34m.\u001b[0m\u001b[0mreturncode\u001b[0m \u001b[0;32mis\u001b[0m \u001b[0mNone\u001b[0m\u001b[0;34m:\u001b[0m\u001b[0;34m\u001b[0m\u001b[0m\n\u001b[1;32m   1383\u001b[0m                 \u001b[0;32mtry\u001b[0m\u001b[0;34m:\u001b[0m\u001b[0;34m\u001b[0m\u001b[0m\n\u001b[0;32m-> 1384\u001b[0;31m                     \u001b[0mpid\u001b[0m\u001b[0;34m,\u001b[0m \u001b[0msts\u001b[0m \u001b[0;34m=\u001b[0m \u001b[0m_eintr_retry_call\u001b[0m\u001b[0;34m(\u001b[0m\u001b[0mos\u001b[0m\u001b[0;34m.\u001b[0m\u001b[0mwaitpid\u001b[0m\u001b[0;34m,\u001b[0m \u001b[0mself\u001b[0m\u001b[0;34m.\u001b[0m\u001b[0mpid\u001b[0m\u001b[0;34m,\u001b[0m \u001b[0;36m0\u001b[0m\u001b[0;34m)\u001b[0m\u001b[0;34m\u001b[0m\u001b[0m\n\u001b[0m\u001b[1;32m   1385\u001b[0m                 \u001b[0;32mexcept\u001b[0m \u001b[0mOSError\u001b[0m \u001b[0;32mas\u001b[0m \u001b[0me\u001b[0m\u001b[0;34m:\u001b[0m\u001b[0;34m\u001b[0m\u001b[0m\n\u001b[1;32m   1386\u001b[0m                     \u001b[0;32mif\u001b[0m \u001b[0me\u001b[0m\u001b[0;34m.\u001b[0m\u001b[0merrno\u001b[0m \u001b[0;34m!=\u001b[0m \u001b[0merrno\u001b[0m\u001b[0;34m.\u001b[0m\u001b[0mECHILD\u001b[0m\u001b[0;34m:\u001b[0m\u001b[0;34m\u001b[0m\u001b[0m\n",
      "\u001b[0;32m/Users/jl/anaconda/lib/python2.7/subprocess.pyc\u001b[0m in \u001b[0;36m_eintr_retry_call\u001b[0;34m(func, *args)\u001b[0m\n\u001b[1;32m    474\u001b[0m     \u001b[0;32mwhile\u001b[0m \u001b[0mTrue\u001b[0m\u001b[0;34m:\u001b[0m\u001b[0;34m\u001b[0m\u001b[0m\n\u001b[1;32m    475\u001b[0m         \u001b[0;32mtry\u001b[0m\u001b[0;34m:\u001b[0m\u001b[0;34m\u001b[0m\u001b[0m\n\u001b[0;32m--> 476\u001b[0;31m             \u001b[0;32mreturn\u001b[0m \u001b[0mfunc\u001b[0m\u001b[0;34m(\u001b[0m\u001b[0;34m*\u001b[0m\u001b[0margs\u001b[0m\u001b[0;34m)\u001b[0m\u001b[0;34m\u001b[0m\u001b[0m\n\u001b[0m\u001b[1;32m    477\u001b[0m         \u001b[0;32mexcept\u001b[0m \u001b[0;34m(\u001b[0m\u001b[0mOSError\u001b[0m\u001b[0;34m,\u001b[0m \u001b[0mIOError\u001b[0m\u001b[0;34m)\u001b[0m \u001b[0;32mas\u001b[0m \u001b[0me\u001b[0m\u001b[0;34m:\u001b[0m\u001b[0;34m\u001b[0m\u001b[0m\n\u001b[1;32m    478\u001b[0m             \u001b[0;32mif\u001b[0m \u001b[0me\u001b[0m\u001b[0;34m.\u001b[0m\u001b[0merrno\u001b[0m \u001b[0;34m==\u001b[0m \u001b[0merrno\u001b[0m\u001b[0;34m.\u001b[0m\u001b[0mEINTR\u001b[0m\u001b[0;34m:\u001b[0m\u001b[0;34m\u001b[0m\u001b[0m\n",
      "\u001b[0;31mKeyboardInterrupt\u001b[0m: "
     ]
    }
   ],
   "source": [
    "#%%time\n",
    "pos_iterator=make_iterable(active_fname) #this is a SMILES file\n",
    "neg_iterator=make_iterable(inactive_fname) #this is a SMILES file \n",
    "model_fname=DATA_DIR + '/AID%s.model3d'%AID\n",
    "model = train_obabel_model(pos_iterator, neg_iterator,\n",
    "                           data_dir=DATA_DIR,\n",
    "                           model_type = \"3d\",\n",
    "                           model_fname=model_fname,\n",
    "                           n_iter=5, \n",
    "                           active_set_size=500, \n",
    "                           n_active_learning_iterations=0, \n",
    "                           threshold=1, \n",
    "                           train_test_split=0.5, \n",
    "                           verbose=1)\n"
   ]
  },
  {
   "cell_type": "markdown",
   "metadata": {},
   "source": [
    "**Original model**\n",
    "---"
   ]
  },
  {
   "cell_type": "code",
   "execution_count": null,
   "metadata": {
    "collapsed": false
   },
   "outputs": [],
   "source": [
    "%%time\n",
    "model_fname='AID%s.modeld'%AID\n",
    "model = train_obabel_model(active_fname, inactive_fname,\n",
    "                           model_type = \"default\",\n",
    "                           model_fname=model_fname,\n",
    "                           n_iter=40, \n",
    "                           active_set_size=500, \n",
    "                           n_active_learning_iterations=0, \n",
    "                           threshold=1, \n",
    "                           train_test_split=0.8, \n",
    "                           verbose=1)\n",
    "\n"
   ]
  },
  {
   "cell_type": "markdown",
   "metadata": {
    "collapsed": false
   },
   "source": [
    "Test the models:"
   ]
  },
  {
   "cell_type": "code",
   "execution_count": null,
   "metadata": {
    "collapsed": false
   },
   "outputs": [],
   "source": [
    "%matplotlib inline\n",
    "from eden.util.display import draw_graph\n",
    "from itertools import islice\n",
    "\n",
    "for G in islice(iterable_pos, 3):\n",
    "    draw_graph(G, vertex_label=\"atom_type\")"
   ]
  },
  {
   "cell_type": "code",
   "execution_count": null,
   "metadata": {
    "collapsed": true
   },
   "outputs": [],
   "source": []
  }
 ],
 "metadata": {
  "kernelspec": {
   "display_name": "Python 2",
   "language": "python",
   "name": "python2"
  },
  "language_info": {
   "codemirror_mode": {
    "name": "ipython",
    "version": 2
   },
   "file_extension": ".py",
   "mimetype": "text/x-python",
   "name": "python",
   "nbconvert_exporter": "python",
   "pygments_lexer": "ipython2",
   "version": "2.7.9"
  }
 },
 "nbformat": 4,
 "nbformat_minor": 0
}
