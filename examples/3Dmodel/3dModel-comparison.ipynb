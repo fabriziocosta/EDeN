{
 "cells": [
  {
   "cell_type": "code",
   "execution_count": 30,
   "metadata": {
    "collapsed": false
   },
   "outputs": [
    {
     "name": "stdout",
     "output_type": "stream",
     "text": [
      "The autoreload extension is already loaded. To reload it, use:\n",
      "  %reload_ext autoreload\n"
     ]
    }
   ],
   "source": [
    "%matplotlib inline\n",
    "%load_ext autoreload\n",
    "%autoreload 2"
   ]
  },
  {
   "cell_type": "code",
   "execution_count": 31,
   "metadata": {
    "collapsed": false
   },
   "outputs": [],
   "source": [
    "from eden.converter.molecule import obabel\n",
    "import networkx as nx\n",
    "import pybel\n",
    "import requests\n",
    "import os.path"
   ]
  },
  {
   "cell_type": "code",
   "execution_count": 32,
   "metadata": {
    "collapsed": false
   },
   "outputs": [
    {
     "name": "stdout",
     "output_type": "stream",
     "text": [
      "CPU times: user 14 µs, sys: 1 µs, total: 15 µs\n",
      "Wall time: 21.9 µs\n"
     ]
    }
   ],
   "source": [
    "%%time\n",
    "\n",
    "AID=825\n",
    "READ_FROM_FILE=True\n",
    "DATA_DIR = 'data'\n",
    "if READ_FROM_FILE:\n",
    "    active_fname=DATA_DIR + '/AID%s_active.sdf'%AID\n",
    "    inactive_fname=DATA_DIR + '/AID%s_inactive.sdf'%AID\n",
    "else:\n",
    "    active_fname, inactive_fname = get_assay(AID)\n"
   ]
  },
  {
   "cell_type": "code",
   "execution_count": 33,
   "metadata": {
    "collapsed": false
   },
   "outputs": [
    {
     "name": "stdout",
     "output_type": "stream",
     "text": [
      "            accuracy: 0.644 +- 0.132\n",
      "           precision: 0.742 +- 0.196\n",
      "              recall: 0.504 +- 0.199\n",
      "                  f1: 0.572 +- 0.139\n",
      "   average_precision: 0.751 +- 0.182\n",
      "             roc_auc: 0.709 +- 0.168\n",
      "CPU times: user 42.9 s, sys: 814 ms, total: 43.7 s\n",
      "Wall time: 45.1 s\n"
     ]
    }
   ],
   "source": [
    "%%time\n",
    "\n",
    "def similarity(x):\n",
    "    return 1./1+x\n",
    "\n",
    "iterable_pos=obabel.obabel_to_eden3d(active_fname, similarity, k = 20)\n",
    "iterable_neg=obabel.obabel_to_eden3d(inactive_fname, similarity, k = 20)\n",
    "\n",
    "from eden.graph import Vectorizer\n",
    "vectorizer = Vectorizer(complexity=3, discretization_size = 5, discretization_dimension = 5)\n",
    "\n",
    "Xp = vectorizer.fit_transform(iterable_pos, n_jobs = 1)\n",
    "Xn = vectorizer.transform(iterable_neg, n_jobs = 1)\n",
    "\n",
    "import numpy as np\n",
    "from scipy.sparse import vstack\n",
    "\n",
    "yp = [1] * Xp.shape[0]\n",
    "yn = [-1] * Xn.shape[0]\n",
    "y = np.array(yp + yn)\n",
    "X = vstack([Xp, Xn], format=\"csr\")\n",
    "\n",
    "\n",
    "from sklearn import cross_validation\n",
    "from sklearn.linear_model import SGDClassifier\n",
    "estimator = SGDClassifier(class_weight='auto', shuffle=True)\n",
    "\n",
    "for scoring in ['accuracy', 'precision', 'recall', 'f1', 'average_precision', 'roc_auc']:\n",
    "    scores = cross_validation.cross_val_score(estimator, X, y, cv=5, scoring=scoring, n_jobs=-1)\n",
    "    print('%20s: %.3f +- %.3f' % (scoring, np.mean(scores), np.std(scores)))"
   ]
  },
  {
   "cell_type": "code",
   "execution_count": 34,
   "metadata": {
    "collapsed": false
   },
   "outputs": [
    {
     "name": "stdout",
     "output_type": "stream",
     "text": [
      "            accuracy: 0.633 +- 0.115\n",
      "           precision: 0.762 +- 0.184\n",
      "              recall: 0.373 +- 0.221\n",
      "                  f1: 0.466 +- 0.221\n",
      "   average_precision: 0.617 +- 0.187\n",
      "             roc_auc: 0.570 +- 0.190\n",
      "CPU times: user 3.49 s, sys: 353 ms, total: 3.85 s\n",
      "Wall time: 5.44 s\n"
     ]
    }
   ],
   "source": [
    "%%time\n",
    "iterable_pos=obabel.obabel_to_eden(active_fname)\n",
    "iterable_neg=obabel.obabel_to_eden(inactive_fname)\n",
    "from eden.graph import Vectorizer\n",
    "\n",
    "vectorizer = Vectorizer(complexity=3)\n",
    "Xp = vectorizer.transform(iterable_pos, n_jobs = 1)\n",
    "Xn = vectorizer.transform(iterable_neg, n_jobs = 1)\n",
    "\n",
    "import numpy as np\n",
    "from scipy.sparse import vstack\n",
    "\n",
    "yp = [1] * Xp.shape[0]\n",
    "yn = [-1] * Xn.shape[0]\n",
    "y = np.array(yp + yn)\n",
    "X = vstack([Xp, Xn], format=\"csr\")\n",
    "\n",
    "\n",
    "from sklearn import cross_validation\n",
    "from sklearn.linear_model import SGDClassifier\n",
    "estimator = SGDClassifier(class_weight='auto', shuffle=True)\n",
    "\n",
    "for scoring in ['accuracy', 'precision', 'recall', 'f1', 'average_precision', 'roc_auc']:\n",
    "    scores = cross_validation.cross_val_score(estimator, X, y, cv=5, scoring=scoring, n_jobs=-1)\n",
    "    print('%20s: %.3f +- %.3f' % (scoring, np.mean(scores), np.std(scores)))"
   ]
  },
  {
   "cell_type": "code",
   "execution_count": 35,
   "metadata": {
    "collapsed": false
   },
   "outputs": [],
   "source": [
    "%matplotlib inline\n",
    "from eden.util.display import draw_graph\n",
    "from itertools import islice\n",
    "\n",
    "for G in islice(iterable_pos, 3):\n",
    "    draw_graph(G, vertex_label=\"atom_type\")"
   ]
  },
  {
   "cell_type": "code",
   "execution_count": null,
   "metadata": {
    "collapsed": true
   },
   "outputs": [],
   "source": []
  }
 ],
 "metadata": {
  "kernelspec": {
   "display_name": "Python 2",
   "language": "python",
   "name": "python2"
  },
  "language_info": {
   "codemirror_mode": {
    "name": "ipython",
    "version": 2
   },
   "file_extension": ".py",
   "mimetype": "text/x-python",
   "name": "python",
   "nbconvert_exporter": "python",
   "pygments_lexer": "ipython2",
   "version": "2.7.9"
  }
 },
 "nbformat": 4,
 "nbformat_minor": 0
}
