{
 "metadata": {
  "name": "",
  "signature": "sha256:797bbd080a3b57d7a9e625c6ba7a5106c494f8f27e9468fc202b696267028692"
 },
 "nbformat": 3,
 "nbformat_minor": 0,
 "worksheets": [
  {
   "cells": [
    {
     "cell_type": "code",
     "collapsed": false,
     "input": [
      "def train_protease_model(fname=None, model_fname=None, n_iter=40, verbose=False):\n",
      "    #parameters\n",
      "    times=10\n",
      "    active_set_size=1000\n",
      "    threshold=1\n",
      "    n_active_learning_iterations=4\n",
      "\n",
      "    def pre_processor( seqs, **args ):\n",
      "        #insert landmark in the cleavage site after pos 4, in our case this means always in the middle position\n",
      "        from eden.modifier.seq import seq_to_seq, mark_modifier \n",
      "        seqs = seq_to_seq( seqs, modifier = mark_modifier, position = 0.5, mark = '%' )\n",
      "        seqs = seq_to_seq( seqs, modifier = mark_modifier, position = 0.0, mark = '@' )\n",
      "        seqs = seq_to_seq( seqs, modifier = mark_modifier, position = 1.0, mark = '*' )\n",
      "\n",
      "        #convert to graph\n",
      "        from eden.converter.fasta import sequence_to_eden\n",
      "        graphs = sequence_to_eden( seqs )\n",
      "\n",
      "        return graphs\n",
      "\n",
      "\n",
      "    from eden.graph import Vectorizer\n",
      "    vectorizer = Vectorizer()\n",
      "\n",
      "    from sklearn.linear_model import SGDClassifier\n",
      "    estimator = SGDClassifier(class_weight='auto', shuffle=True)\n",
      "    \n",
      "    \n",
      "    #create iterable from files\n",
      "    from eden.converter.fasta import fasta_to_sequence\n",
      "    seqs = fasta_to_sequence( fname )\n",
      "\n",
      "    from itertools import tee\n",
      "    seqs,seqs_=tee(seqs)\n",
      "\n",
      "    iterable_pos_train = seqs\n",
      "    from eden.modifier.seq import seq_to_seq, shuffle_modifier\n",
      "    iterable_neg_train = seq_to_seq( seqs_, modifier=shuffle_modifier, times=times, order=2 )\n",
      "\n",
      "    #make predictive model\n",
      "    from eden.model import ActiveLearningBinaryClassificationModel\n",
      "    model = ActiveLearningBinaryClassificationModel( pre_processor, estimator=estimator, vectorizer=vectorizer )\n",
      "\n",
      "    #optimize hyperparameters and fit model\n",
      "    from numpy.random import randint\n",
      "    from numpy.random import uniform\n",
      "\n",
      "    pre_processor_parameters={}\n",
      "\n",
      "    vectorizer_parameters={'r':[1,2], 'd':[0,1,2,3,4,5]}\n",
      "\n",
      "    estimator_parameters={'n_iter':randint(5, 100, size=n_iter),\n",
      "                          'penalty':['l1','l2','elasticnet'],\n",
      "                          'l1_ratio':uniform(0.1,0.9, size=n_iter), \n",
      "                          'loss':['hinge', 'log', 'modified_huber', 'squared_hinge', 'perceptron'],\n",
      "                          'power_t':uniform(0.1, size=n_iter),\n",
      "                          'alpha': [10**x for x in range(-8,0)],\n",
      "                          'eta0': [10**x for x in range(-4,-1)],\n",
      "                          'learning_rate': [\"invscaling\", \"constant\", \"optimal\"]}\n",
      "\n",
      "    model.optimize(iterable_pos_train, iterable_neg_train, \n",
      "                   n_active_learning_iterations=n_active_learning_iterations,\n",
      "                   size_positive=-1,\n",
      "                   size_negative=active_set_size,\n",
      "                   lower_bound_threshold_positive=-threshold,\n",
      "                   upper_bound_threshold_positive=threshold,\n",
      "                   lower_bound_threshold_negative=-threshold,\n",
      "                   upper_bound_threshold_negative=threshold,                                              \n",
      "                   n_iter=n_iter, cv=3, n_jobs=1, verbose=verbose,\n",
      "                   pre_processor_parameters=pre_processor_parameters, \n",
      "                   vectorizer_parameters=vectorizer_parameters, \n",
      "                   estimator_parameters=estimator_parameters)\n",
      "\n",
      "    #save model\n",
      "    model.save(model_fname)\n",
      "    print 'Saved model in %s'%model_fname"
     ],
     "language": "python",
     "metadata": {},
     "outputs": [],
     "prompt_number": 5
    },
    {
     "cell_type": "code",
     "collapsed": false,
     "input": [
      "def test_protease_model(fname=None, model_fname=None):\n",
      "    from eden.model import ActiveLearningBinaryClassificationModel\n",
      "\n",
      "    model = ActiveLearningBinaryClassificationModel()\n",
      "    model.load(model_fname)\n",
      "\n",
      "    from eden.converter.fasta import fasta_to_sequence\n",
      "    seqs = fasta_to_sequence( fname )\n",
      "    from itertools import tee\n",
      "    seqs,seqs_=tee(seqs)\n",
      "    \n",
      "    predictions= model.decision_function( seqs_ )\n",
      "    \n",
      "    from itertools import izip\n",
      "    seqs,seqs_=tee(seqs)\n",
      "    results = [(p,s) for s,p in izip(seqs_,predictions)]\n",
      "    return results"
     ],
     "language": "python",
     "metadata": {},
     "outputs": [],
     "prompt_number": 6
    },
    {
     "cell_type": "markdown",
     "metadata": {},
     "source": [
      "#Experimental results"
     ]
    },
    {
     "cell_type": "code",
     "collapsed": false,
     "input": [
      "%%time\n",
      "#mmp experiment\n",
      "pos  = 'http://share.gruenings.eu/schilling/mmp2-training-final_noMinus.fasta'\n",
      "test = 'http://share.gruenings.eu/schilling//Mmp2-CTSL-VALIDATE-final_noMinue.fasta'\n",
      "model_fname = 'mmp2.model'\n",
      "\n",
      "train_protease_model(fname=pos, model_fname=model_fname, n_iter=40, verbose=True)\n",
      "results = test_protease_model(fname=test, model_fname=model_fname)"
     ],
     "language": "python",
     "metadata": {},
     "outputs": [
      {
       "output_type": "stream",
       "stream": "stdout",
       "text": [
        "Parameters range:\n",
        "Pre_processor:\n",
        "{}\n",
        "Vectorizer:\n",
        "{'d': [0, 1, 2, 3, 4, 5], 'r': [1, 2]}\n",
        "Estimator:\n",
        "{'alpha': [1e-08, 1e-07, 1e-06, 1e-05, 0.0001, 0.001, 0.01, 0.1],\n",
        " 'eta0': [0.0001, 0.001, 0.01],\n",
        " 'l1_ratio': array([ 0.72984726,  0.83329118,  0.28808312,  0.31309721,  0.8700719 ,\n",
        "        0.61442791,  0.30030442,  0.11971733,  0.45294195,  0.66534698,\n",
        "        0.58550978,  0.34794184,  0.37391486,  0.65740271,  0.34178244,\n",
        "        0.17231293,  0.75271959,  0.42033622,  0.20386598,  0.71452973,\n",
        "        0.20334309,  0.64485358,  0.27282709,  0.81321463,  0.45854083,\n",
        "        0.60820035,  0.64051549,  0.20019823,  0.57054873,  0.1570434 ,\n",
        "        0.87011238,  0.17088034,  0.32442997,  0.14056686,  0.33111299,\n",
        "        0.67348996,  0.51594317,  0.24004993,  0.74338178,  0.42246265]),\n",
        " 'learning_rate': ['invscaling', 'constant', 'optimal'],\n",
        " 'loss': ['hinge', 'log', 'modified_huber', 'squared_hinge', 'perceptron'],\n",
        " 'n_iter': array([78, 61,  8, 63, 43, 48, 64, 75, 37, 82, 20, 97, 57,  9, 46, 21, 69,\n",
        "       39, 65, 37, 88, 30, 16, 46, 14, 54, 60, 33, 79, 14, 39, 14, 46,  6,\n",
        "       10, 34, 91, 21, 15, 79]),\n",
        " 'penalty': ['l1', 'l2', 'elasticnet'],\n",
        " 'power_t': array([ 0.15175364,  0.89175917,  0.82218128,  0.50105186,  0.60329362,\n",
        "        0.1830378 ,  0.64152751,  0.93699917,  0.56202258,  0.7693983 ,\n",
        "        0.18373191,  0.52870823,  0.54904574,  0.57051946,  0.31561774,\n",
        "        0.51686985,  0.34464963,  0.41598304,  0.21412326,  0.53687642,\n",
        "        0.51689773,  0.81079591,  0.21235841,  0.85729443,  0.76255675,\n",
        "        0.71230695,  0.59737748,  0.71169504,  0.80808748,  0.75369489,\n",
        "        0.59661163,  0.92282184,  0.10201635,  0.58663218,  0.54898046,\n",
        "        0.62736424,  0.30710273,  0.52245219,  0.33667831,  0.19132262])}\n",
        "\n"
       ]
      },
      {
       "output_type": "stream",
       "stream": "stdout",
       "text": [
        "Iteration: 1/40 (at 52.7 sec; 0:00:52.741633)\n",
        "Best score (roc_auc): 0.470128 (0.514229 +- 0.044100)\n",
        "Current parameters:\n",
        "Pre_processor:\n",
        "{}\n",
        "Vectorizer:\n",
        "{'d': 0, 'r': 1}\n",
        "Estimator:\n",
        "{'alpha': 0.01,\n",
        " 'eta0': 0.001,\n",
        " 'l1_ratio': 0.64051548863196861,\n",
        " 'learning_rate': 'optimal',\n",
        " 'loss': 'modified_huber',\n",
        " 'n_iter': 6,\n",
        " 'penalty': 'l1',\n",
        " 'power_t': 0.18373190753492469}\n",
        "Instances: 1607 ; Features: 1048577 with an avg of 20 features per instance\n",
        "class: 1 count:607 (0.38)\tclass: -1 count:1000 (0.62)\t\n",
        "\n"
       ]
      },
      {
       "output_type": "stream",
       "stream": "stdout",
       "text": [
        "Iteration: 2/40 (at 174.5 sec; 0:02:54.462486)\n",
        "Best score (roc_auc): 0.507158 (0.573296 +- 0.066137)\n",
        "Current parameters:\n",
        "Pre_processor:\n",
        "{}\n",
        "Vectorizer:\n",
        "{'d': 3, 'r': 2}\n",
        "Estimator:\n",
        "{'alpha': 1e-08,\n",
        " 'eta0': 0.0001,\n",
        " 'l1_ratio': 0.5855097824881933,\n",
        " 'learning_rate': 'optimal',\n",
        " 'loss': 'log',\n",
        " 'n_iter': 20,\n",
        " 'penalty': 'elasticnet',\n",
        " 'power_t': 0.80808748071395131}\n",
        "Instances: 738 ; Features: 1048577 with an avg of 112 features per instance\n",
        "class: 1 count:607 (0.82)\tclass: -1 count:131 (0.18)\t\n",
        "\n"
       ]
      },
      {
       "output_type": "stream",
       "stream": "stdout",
       "text": [
        "Iteration: 4/40 (at 454.8 sec; 0:07:34.790122)\n",
        "Best score (roc_auc): 0.696107 (0.772971 +- 0.076865)\n",
        "Current parameters:\n",
        "Pre_processor:\n",
        "{}\n",
        "Vectorizer:\n",
        "{'d': 4, 'r': 2}\n",
        "Estimator:\n",
        "{'alpha': 0.01,\n",
        " 'eta0': 0.0001,\n",
        " 'l1_ratio': 0.1197173337750705,\n",
        " 'learning_rate': 'constant',\n",
        " 'loss': 'modified_huber',\n",
        " 'n_iter': 16,\n",
        " 'penalty': 'elasticnet',\n",
        " 'power_t': 0.75369488869705092}\n",
        "Instances: 1607 ; Features: 1048577 with an avg of 133 features per instance\n",
        "class: 1 count:607 (0.38)\tclass: -1 count:1000 (0.62)\t\n",
        "Failed iteration: 11/40 (at 1176.2 sec; 0:19:36.245688)"
       ]
      },
      {
       "output_type": "stream",
       "stream": "stdout",
       "text": [
        "\n",
        "Inappropriate argument value (of correct type).\n",
        "Floating-point under-/overflow occurred at epoch #1. Scaling input data with StandardScaler or MinMaxScaler might help.\n",
        "Failed with the following setting:\n",
        "Current parameters:\n",
        "Pre_processor:\n",
        "{}\n",
        "Vectorizer:\n",
        "{'d': 0, 'r': 2}\n",
        "Estimator:\n",
        "{'alpha': 1e-08,\n",
        " 'eta0': 0.0001,\n",
        " 'l1_ratio': 0.66534698415490012,\n",
        " 'learning_rate': 'optimal',\n",
        " 'loss': 'squared_hinge',\n",
        " 'n_iter': 16,\n",
        " 'penalty': 'l1',\n",
        " 'power_t': 0.922821840427139}\n",
        "...continuing\n",
        "Failed iteration: 19/40 (at 2067.4 sec; 0:34:27.378619)"
       ]
      },
      {
       "output_type": "stream",
       "stream": "stdout",
       "text": [
        "\n",
        "Inappropriate argument value (of correct type).\n",
        "Floating-point under-/overflow occurred at epoch #1. Scaling input data with StandardScaler or MinMaxScaler might help.\n",
        "Failed with the following setting:\n",
        "Current parameters:\n",
        "Pre_processor:\n",
        "{}\n",
        "Vectorizer:\n",
        "{'d': 3, 'r': 2}\n",
        "Estimator:\n",
        "{'alpha': 1e-08,\n",
        " 'eta0': 0.001,\n",
        " 'l1_ratio': 0.17231292508273227,\n",
        " 'learning_rate': 'optimal',\n",
        " 'loss': 'squared_hinge',\n",
        " 'n_iter': 88,\n",
        " 'penalty': 'l1',\n",
        " 'power_t': 0.31561773822862615}\n",
        "...continuing\n",
        "Failed iteration: 36/40 (at 3637.3 sec; 1:00:37.347372)"
       ]
      },
      {
       "output_type": "stream",
       "stream": "stdout",
       "text": [
        "\n",
        "Inappropriate argument value (of correct type).\n",
        "Floating-point under-/overflow occurred at epoch #1. Scaling input data with StandardScaler or MinMaxScaler might help.\n",
        "Failed with the following setting:\n",
        "Current parameters:\n",
        "Pre_processor:\n",
        "{}\n",
        "Vectorizer:\n",
        "{'d': 3, 'r': 1}\n",
        "Estimator:\n",
        "{'alpha': 1e-06,\n",
        " 'eta0': 0.0001,\n",
        " 'l1_ratio': 0.2033430882601297,\n",
        " 'learning_rate': 'optimal',\n",
        " 'loss': 'squared_hinge',\n",
        " 'n_iter': 88,\n",
        " 'penalty': 'l2',\n",
        " 'power_t': 0.82218127731187729}\n",
        "...continuing\n",
        "Saved model in mmp2.model"
       ]
      },
      {
       "output_type": "stream",
       "stream": "stdout",
       "text": [
        "\n",
        "CPU times: user 59min, sys: 9min 22s, total: 1h 8min 22s"
       ]
      },
      {
       "output_type": "stream",
       "stream": "stdout",
       "text": [
        "\n",
        "Wall time: 1h 8min 37s\n"
       ]
      }
     ],
     "prompt_number": 7
    },
    {
     "cell_type": "markdown",
     "metadata": {},
     "source": [
      "##Results"
     ]
    },
    {
     "cell_type": "code",
     "collapsed": false,
     "input": [
      "from ipy_table import make_table, apply_theme,  set_global_style\n",
      "mat=[('ID','Conf')]\n",
      "for item in sorted(results, reverse=True):\n",
      "    (confidence,(header,seq))=item\n",
      "    mat.append((header+' '+seq,confidence))\n",
      "make_table(mat)\n",
      "apply_theme('basic')\n",
      "set_global_style(float_format = '%0.3e')"
     ],
     "language": "python",
     "metadata": {},
     "outputs": [
      {
       "html": [
        "<table border=\"1\" cellpadding=\"3\" cellspacing=\"0\"  style=\"border:1px solid black;border-collapse:collapse;\"><tr><td  style=\"background-color:LightGray;\"><b>ID</b></td><td  style=\"background-color:LightGray;\"><b>Conf</b></td></tr><tr><td  style=\"background-color:Ivory;\">>MMP2-validate-30&nbspSPANLAVY</td><td  style=\"background-color:Ivory;\">2.306e-02</td></tr><tr><td  style=\"background-color:AliceBlue;\">>MMP2-validate-38&nbspNPAMLHNI</td><td  style=\"background-color:AliceBlue;\">2.165e-02</td></tr><tr><td  style=\"background-color:Ivory;\">>MMP2-validate-69&nbspTPFLLVGT</td><td  style=\"background-color:Ivory;\">2.086e-02</td></tr><tr><td  style=\"background-color:AliceBlue;\">>MMP2-validate-28&nbspTVAGLAGK</td><td  style=\"background-color:AliceBlue;\">2.082e-02</td></tr><tr><td  style=\"background-color:Ivory;\">>MMP2-validate-49&nbspKPSNLLIN</td><td  style=\"background-color:Ivory;\">2.077e-02</td></tr><tr><td  style=\"background-color:AliceBlue;\">>MMP2-validate-53&nbspKPQNLLVD</td><td  style=\"background-color:AliceBlue;\">2.077e-02</td></tr><tr><td  style=\"background-color:Ivory;\">>MMP2-validate-50&nbspAPVALLND</td><td  style=\"background-color:Ivory;\">2.034e-02</td></tr><tr><td  style=\"background-color:AliceBlue;\">>MMP2-validate-71&nbspGFAGLVQE</td><td  style=\"background-color:AliceBlue;\">1.974e-02</td></tr><tr><td  style=\"background-color:Ivory;\">>MMP2-validate-67&nbspEPGPLTVG</td><td  style=\"background-color:Ivory;\">1.827e-02</td></tr><tr><td  style=\"background-color:AliceBlue;\">>MMP2-validate-60&nbspRPEELRED</td><td  style=\"background-color:AliceBlue;\">1.793e-02</td></tr><tr><td  style=\"background-color:Ivory;\">>MMP2-validate-61&nbspDLANLSAA</td><td  style=\"background-color:Ivory;\">1.788e-02</td></tr><tr><td  style=\"background-color:AliceBlue;\">>MMP2-validate-39&nbspKAAELIAN</td><td  style=\"background-color:AliceBlue;\">1.739e-02</td></tr><tr><td  style=\"background-color:Ivory;\">>MMP2-validate-36&nbspYIANLGHG</td><td  style=\"background-color:Ivory;\">1.734e-02</td></tr><tr><td  style=\"background-color:AliceBlue;\">>MMP2-validate-51&nbspVVQGLLSE</td><td  style=\"background-color:AliceBlue;\">1.725e-02</td></tr><tr><td  style=\"background-color:Ivory;\">>MMP2-validate-66&nbspTPTFLTTG</td><td  style=\"background-color:Ivory;\">1.717e-02</td></tr><tr><td  style=\"background-color:AliceBlue;\">>MMP2-validate-47&nbspKVSHLLGI</td><td  style=\"background-color:AliceBlue;\">1.697e-02</td></tr><tr><td  style=\"background-color:Ivory;\">>MMP2-validate-54&nbspIPIPLMDY</td><td  style=\"background-color:Ivory;\">1.674e-02</td></tr><tr><td  style=\"background-color:AliceBlue;\">>CTSL-validate-59&nbspKNVGLDIE</td><td  style=\"background-color:AliceBlue;\">1.661e-02</td></tr><tr><td  style=\"background-color:Ivory;\">>MMP2-validate-72&nbspVVSGLVQF</td><td  style=\"background-color:Ivory;\">1.620e-02</td></tr><tr><td  style=\"background-color:AliceBlue;\">>MMP2-validate-48&nbspKDNHLLGT</td><td  style=\"background-color:AliceBlue;\">1.604e-02</td></tr><tr><td  style=\"background-color:Ivory;\">>MMP2-validate-29&nbspDASYLASE</td><td  style=\"background-color:Ivory;\">1.593e-02</td></tr><tr><td  style=\"background-color:AliceBlue;\">>MMP2-validate-42&nbspAAAALINF</td><td  style=\"background-color:AliceBlue;\">1.586e-02</td></tr><tr><td  style=\"background-color:Ivory;\">>MMP2-validate-32&nbspRPGMLEML</td><td  style=\"background-color:Ivory;\">1.566e-02</td></tr><tr><td  style=\"background-color:AliceBlue;\">>MMP2-validate-57&nbspQIAELQAQ</td><td  style=\"background-color:AliceBlue;\">1.516e-02</td></tr><tr><td  style=\"background-color:Ivory;\">>MMP2-validate-40&nbspNTQGLIFV</td><td  style=\"background-color:Ivory;\">1.515e-02</td></tr><tr><td  style=\"background-color:AliceBlue;\">>MMP2-validate-52&nbspAPPPLLSP</td><td  style=\"background-color:AliceBlue;\">1.505e-02</td></tr><tr><td  style=\"background-color:Ivory;\">>MMP2-validate-31&nbspRQAHLCVL</td><td  style=\"background-color:Ivory;\">1.484e-02</td></tr><tr><td  style=\"background-color:AliceBlue;\">>MMP2-validate-45&nbspAFDSLLAG</td><td  style=\"background-color:AliceBlue;\">1.482e-02</td></tr><tr><td  style=\"background-color:Ivory;\">>MMP2-validate-59&nbspHISQLQHE</td><td  style=\"background-color:Ivory;\">1.480e-02</td></tr><tr><td  style=\"background-color:AliceBlue;\">>MMP2-validate-43&nbspVIDNLIVA</td><td  style=\"background-color:AliceBlue;\">1.476e-02</td></tr><tr><td  style=\"background-color:Ivory;\">>MMP2-validate-62&nbspAASNLSGL</td><td  style=\"background-color:Ivory;\">1.452e-02</td></tr><tr><td  style=\"background-color:AliceBlue;\">>MMP2-validate-63&nbspELQNLTAA</td><td  style=\"background-color:AliceBlue;\">1.445e-02</td></tr><tr><td  style=\"background-color:Ivory;\">>MMP2-validate-58&nbspAQQPLQGG</td><td  style=\"background-color:Ivory;\">1.437e-02</td></tr><tr><td  style=\"background-color:AliceBlue;\">>MMP2-validate-65&nbspHYGGLTGL</td><td  style=\"background-color:AliceBlue;\">1.430e-02</td></tr><tr><td  style=\"background-color:Ivory;\">>MMP2-validate-56&nbspYIGNLNES</td><td  style=\"background-color:Ivory;\">1.423e-02</td></tr><tr><td  style=\"background-color:AliceBlue;\">>MMP2-validate-46&nbspPATPLLDY</td><td  style=\"background-color:AliceBlue;\">1.417e-02</td></tr><tr><td  style=\"background-color:Ivory;\">>MMP2-validate-35&nbspTAISLFYE</td><td  style=\"background-color:Ivory;\">1.376e-02</td></tr><tr><td  style=\"background-color:AliceBlue;\">>MMP2-validate-37&nbspPICSLHDQ</td><td  style=\"background-color:AliceBlue;\">1.358e-02</td></tr><tr><td  style=\"background-color:Ivory;\">>MMP2-validate-55&nbspHTAALMLD</td><td  style=\"background-color:Ivory;\">1.339e-02</td></tr><tr><td  style=\"background-color:AliceBlue;\">>MMP2-validate-74&nbspGWGNLVYV</td><td  style=\"background-color:AliceBlue;\">1.329e-02</td></tr><tr><td  style=\"background-color:Ivory;\">>MMP2-validate-27&nbspVAHALAEG</td><td  style=\"background-color:Ivory;\">1.328e-02</td></tr><tr><td  style=\"background-color:AliceBlue;\">>CTSL-validate-62&nbspMEATLPSP</td><td  style=\"background-color:AliceBlue;\">1.272e-02</td></tr><tr><td  style=\"background-color:Ivory;\">>MMP2-validate-68&nbspHLSELVEQ</td><td  style=\"background-color:Ivory;\">1.261e-02</td></tr><tr><td  style=\"background-color:AliceBlue;\">>CTSL-validate-60&nbspKTLALIKP</td><td  style=\"background-color:AliceBlue;\">1.164e-02</td></tr><tr><td  style=\"background-color:Ivory;\">>MMP2-validate-44&nbspVILHLKED</td><td  style=\"background-color:Ivory;\">1.156e-02</td></tr><tr><td  style=\"background-color:AliceBlue;\">>MMP2-validate-34&nbspLHESLFGS</td><td  style=\"background-color:AliceBlue;\">1.141e-02</td></tr><tr><td  style=\"background-color:Ivory;\">>CTSL-validate-63&nbspLIMELTGG</td><td  style=\"background-color:Ivory;\">1.096e-02</td></tr><tr><td  style=\"background-color:AliceBlue;\">>MMP2-validate-73&nbspLSQNLVVK</td><td  style=\"background-color:AliceBlue;\">1.066e-02</td></tr><tr><td  style=\"background-color:Ivory;\">>MMP2-validate-33&nbspLSLGLETA</td><td  style=\"background-color:Ivory;\">1.020e-02</td></tr><tr><td  style=\"background-color:AliceBlue;\">>MMP2-validate-41&nbspEVENLILE</td><td  style=\"background-color:AliceBlue;\">1.017e-02</td></tr><tr><td  style=\"background-color:Ivory;\">>MMP2-validate-86&nbspPPAPTSGM</td><td  style=\"background-color:Ivory;\">8.128e-03</td></tr><tr><td  style=\"background-color:AliceBlue;\">>CTSL-validate-113&nbspLTLALIKP</td><td  style=\"background-color:AliceBlue;\">8.060e-03</td></tr><tr><td  style=\"background-color:Ivory;\">>MMP2-validate-64&nbspLLFPLTAQ</td><td  style=\"background-color:Ivory;\">7.912e-03</td></tr><tr><td  style=\"background-color:AliceBlue;\">>MMP2-validate-25&nbspKPGAIVID</td><td  style=\"background-color:AliceBlue;\">7.765e-03</td></tr><tr><td  style=\"background-color:Ivory;\">>MMP2-validate-70&nbspLLSPLVLE</td><td  style=\"background-color:Ivory;\">6.921e-03</td></tr><tr><td  style=\"background-color:AliceBlue;\">>MMP2-validate-24&nbspCPQEIVDY</td><td  style=\"background-color:AliceBlue;\">6.663e-03</td></tr><tr><td  style=\"background-color:Ivory;\">>MMP2-validate-7&nbspSPAAFINP</td><td  style=\"background-color:Ivory;\">6.481e-03</td></tr><tr><td  style=\"background-color:AliceBlue;\">>MMP2-validate-26&nbspSPCCIVTS</td><td  style=\"background-color:AliceBlue;\">6.404e-03</td></tr><tr><td  style=\"background-color:Ivory;\">>MMP2-validate-90&nbspRPASVSSS</td><td  style=\"background-color:Ivory;\">6.378e-03</td></tr><tr><td  style=\"background-color:AliceBlue;\">>MMP2-validate-76&nbspQPEGMISE</td><td  style=\"background-color:AliceBlue;\">6.189e-03</td></tr><tr><td  style=\"background-color:Ivory;\">>MMP2-validate-95&nbspIPAGWMGL</td><td  style=\"background-color:Ivory;\">6.075e-03</td></tr><tr><td  style=\"background-color:AliceBlue;\">>MMP2-validate-4&nbspRPAPAVGE</td><td  style=\"background-color:AliceBlue;\">5.690e-03</td></tr><tr><td  style=\"background-color:Ivory;\">>MMP2-validate-2&nbspKPATAIGV</td><td  style=\"background-color:Ivory;\">5.584e-03</td></tr><tr><td  style=\"background-color:AliceBlue;\">>MMP2-validate-14&nbspTIGLIHAV</td><td  style=\"background-color:AliceBlue;\">5.528e-03</td></tr><tr><td  style=\"background-color:Ivory;\">>MMP2-validate-88&nbspVPENVLSF</td><td  style=\"background-color:Ivory;\">5.439e-03</td></tr><tr><td  style=\"background-color:AliceBlue;\">>MMP2-validate-15&nbspSPSNIILD</td><td  style=\"background-color:AliceBlue;\">5.120e-03</td></tr><tr><td  style=\"background-color:Ivory;\">>CTSL-validate-85&nbspVDSLSHPA</td><td  style=\"background-color:Ivory;\">5.115e-03</td></tr><tr><td  style=\"background-color:AliceBlue;\">>MMP2-validate-22&nbspQVATISAN</td><td  style=\"background-color:AliceBlue;\">5.063e-03</td></tr><tr><td  style=\"background-color:Ivory;\">>MMP2-validate-18&nbspVADAILGN</td><td  style=\"background-color:Ivory;\">5.021e-03</td></tr><tr><td  style=\"background-color:AliceBlue;\">>CTSL-validate-51&nbspELAQIAGR</td><td  style=\"background-color:AliceBlue;\">5.020e-03</td></tr><tr><td  style=\"background-color:Ivory;\">>CTSL-validate-47&nbspKVILHLKE</td><td  style=\"background-color:Ivory;\">5.012e-03</td></tr><tr><td  style=\"background-color:AliceBlue;\">>CTSL-validate-16&nbspVGFLEGGK</td><td  style=\"background-color:AliceBlue;\">5.011e-03</td></tr><tr><td  style=\"background-color:Ivory;\">>MMP2-validate-75&nbspCPQEMAAV</td><td  style=\"background-color:Ivory;\">4.825e-03</td></tr><tr><td  style=\"background-color:AliceBlue;\">>MMP2-validate-19&nbspTPLSIQAH</td><td  style=\"background-color:AliceBlue;\">4.794e-03</td></tr><tr><td  style=\"background-color:Ivory;\">>MMP2-validate-11&nbspRCSGIASA</td><td  style=\"background-color:Ivory;\">4.709e-03</td></tr><tr><td  style=\"background-color:AliceBlue;\">>MMP2-validate-21&nbspGTAFIQTQ</td><td  style=\"background-color:AliceBlue;\">4.548e-03</td></tr><tr><td  style=\"background-color:Ivory;\">>MMP2-validate-12&nbspAFAPICNP</td><td  style=\"background-color:Ivory;\">4.415e-03</td></tr><tr><td  style=\"background-color:AliceBlue;\">>MMP2-validate-13&nbspMASNIFGP</td><td  style=\"background-color:AliceBlue;\">4.233e-03</td></tr><tr><td  style=\"background-color:Ivory;\">>MMP2-validate-1&nbspEPAAAAAP</td><td  style=\"background-color:Ivory;\">4.196e-03</td></tr><tr><td  style=\"background-color:AliceBlue;\">>CTSL-validate-68&nbspMPVSNQKP</td><td  style=\"background-color:AliceBlue;\">3.785e-03</td></tr><tr><td  style=\"background-color:Ivory;\">>MMP2-validate-20&nbspKISSIQSI</td><td  style=\"background-color:Ivory;\">3.590e-03</td></tr><tr><td  style=\"background-color:AliceBlue;\">>CTSL-validate-78&nbspDPYSSAEP</td><td  style=\"background-color:AliceBlue;\">3.582e-03</td></tr><tr><td  style=\"background-color:Ivory;\">>CTSL-validate-53&nbspKHLEINPD</td><td  style=\"background-color:Ivory;\">3.527e-03</td></tr><tr><td  style=\"background-color:AliceBlue;\">>MMP2-validate-94&nbspPVAGWINA</td><td  style=\"background-color:AliceBlue;\">3.392e-03</td></tr><tr><td  style=\"background-color:Ivory;\">>MMP2-validate-80&nbspPPLSQAQG</td><td  style=\"background-color:Ivory;\">3.204e-03</td></tr><tr><td  style=\"background-color:AliceBlue;\">>MMP2-validate-17&nbspKVLGILAM</td><td  style=\"background-color:AliceBlue;\">3.158e-03</td></tr><tr><td  style=\"background-color:Ivory;\">>MMP2-validate-10&nbspGHAAFTSD</td><td  style=\"background-color:Ivory;\">2.866e-03</td></tr><tr><td  style=\"background-color:AliceBlue;\">>CTSL-validate-73&nbspPAYFQRPE</td><td  style=\"background-color:AliceBlue;\">2.809e-03</td></tr><tr><td  style=\"background-color:Ivory;\">>CTSL-validate-20&nbspKIVAERPG</td><td  style=\"background-color:Ivory;\">2.535e-03</td></tr><tr><td  style=\"background-color:AliceBlue;\">>MMP2-validate-6&nbspSVASEVST</td><td  style=\"background-color:AliceBlue;\">2.510e-03</td></tr><tr><td  style=\"background-color:Ivory;\">>MMP2-validate-3&nbspQPMPASSP</td><td  style=\"background-color:Ivory;\">2.491e-03</td></tr><tr><td  style=\"background-color:AliceBlue;\">>CTSL-validate-52&nbspGCITIIGG</td><td  style=\"background-color:AliceBlue;\">2.282e-03</td></tr><tr><td  style=\"background-color:Ivory;\">>CTSL-validate-81&nbspVPLGSEKP</td><td  style=\"background-color:Ivory;\">2.131e-03</td></tr><tr><td  style=\"background-color:AliceBlue;\">>CTSL-validate-41&nbspHVILGTQQ</td><td  style=\"background-color:AliceBlue;\">2.107e-03</td></tr><tr><td  style=\"background-color:Ivory;\">>CTSL-validate-56&nbspITVEKHPD</td><td  style=\"background-color:Ivory;\">1.956e-03</td></tr><tr><td  style=\"background-color:AliceBlue;\">>MMP2-validate-23&nbspTVHAITAT</td><td  style=\"background-color:AliceBlue;\">1.881e-03</td></tr><tr><td  style=\"background-color:Ivory;\">>MMP2-validate-77&nbspNNSTMLGA</td><td  style=\"background-color:Ivory;\">1.844e-03</td></tr><tr><td  style=\"background-color:AliceBlue;\">>MMP2-validate-5&nbspSSSNCVTD</td><td  style=\"background-color:AliceBlue;\">1.797e-03</td></tr><tr><td  style=\"background-color:Ivory;\">>CTSL-validate-88&nbspVGFDSLPD</td><td  style=\"background-color:Ivory;\">1.543e-03</td></tr><tr><td  style=\"background-color:AliceBlue;\">>CTSL-validate-4&nbspGPLPAKDI</td><td  style=\"background-color:AliceBlue;\">1.513e-03</td></tr><tr><td  style=\"background-color:Ivory;\">>MMP2-validate-93&nbspGPYDVVVL</td><td  style=\"background-color:Ivory;\">1.491e-03</td></tr><tr><td  style=\"background-color:AliceBlue;\">>CTSL-validate-87&nbspGFLGSKPE</td><td  style=\"background-color:AliceBlue;\">1.473e-03</td></tr><tr><td  style=\"background-color:Ivory;\">>CTSL-validate-15&nbspYSYGEATH</td><td  style=\"background-color:Ivory;\">1.454e-03</td></tr><tr><td  style=\"background-color:AliceBlue;\">>CTSL-validate-25&nbspKPVAGALD</td><td  style=\"background-color:AliceBlue;\">1.440e-03</td></tr><tr><td  style=\"background-color:Ivory;\">>CTSL-validate-22&nbspCQIQFGPH</td><td  style=\"background-color:Ivory;\">1.389e-03</td></tr><tr><td  style=\"background-color:AliceBlue;\">>CTSL-validate-105&nbspGKSTTTGH</td><td  style=\"background-color:AliceBlue;\">1.306e-03</td></tr><tr><td  style=\"background-color:Ivory;\">>CTSL-validate-92&nbspVVVTSRPE</td><td  style=\"background-color:Ivory;\">1.216e-03</td></tr><tr><td  style=\"background-color:AliceBlue;\">>CTSL-validate-54&nbspNNLFITEE</td><td  style=\"background-color:AliceBlue;\">1.072e-03</td></tr><tr><td  style=\"background-color:Ivory;\">>CTSL-validate-102&nbspKDISTLEP</td><td  style=\"background-color:Ivory;\">9.155e-04</td></tr><tr><td  style=\"background-color:AliceBlue;\">>CTSL-validate-21&nbspVHYGEVTN</td><td  style=\"background-color:AliceBlue;\">9.146e-04</td></tr><tr><td  style=\"background-color:Ivory;\">>CTSL-validate-18&nbspQLISEKPE</td><td  style=\"background-color:Ivory;\">8.213e-04</td></tr><tr><td  style=\"background-color:AliceBlue;\">>MMP2-validate-84&nbspAAAASAAA</td><td  style=\"background-color:AliceBlue;\">7.806e-04</td></tr><tr><td  style=\"background-color:Ivory;\">>CTSL-validate-83&nbspEYLLSGDI</td><td  style=\"background-color:Ivory;\">7.718e-04</td></tr><tr><td  style=\"background-color:AliceBlue;\">>CTSL-validate-69&nbspTTVSNSQQ</td><td  style=\"background-color:AliceBlue;\">7.619e-04</td></tr><tr><td  style=\"background-color:Ivory;\">>CTSL-validate-34&nbspRHYGGLTG</td><td  style=\"background-color:Ivory;\">7.443e-04</td></tr><tr><td  style=\"background-color:AliceBlue;\">>MMP2-validate-83&nbspTIQGQYAI</td><td  style=\"background-color:AliceBlue;\">6.814e-04</td></tr><tr><td  style=\"background-color:Ivory;\">>CTSL-validate-55&nbspRMLAIYDG</td><td  style=\"background-color:Ivory;\">6.659e-04</td></tr><tr><td  style=\"background-color:AliceBlue;\">>CTSL-validate-71&nbspAMLGQAEE</td><td  style=\"background-color:AliceBlue;\">6.468e-04</td></tr><tr><td  style=\"background-color:Ivory;\">>CTSL-validate-106&nbspHQIGTVSP</td><td  style=\"background-color:Ivory;\">5.913e-04</td></tr><tr><td  style=\"background-color:AliceBlue;\">>CTSL-validate-17&nbspKLFNEHIE</td><td  style=\"background-color:AliceBlue;\">4.668e-04</td></tr><tr><td  style=\"background-color:Ivory;\">>MMP2-validate-97&nbspAIGDYNGH</td><td  style=\"background-color:Ivory;\">3.765e-04</td></tr><tr><td  style=\"background-color:AliceBlue;\">>CTSL-validate-98&nbspMMLGTEGG</td><td  style=\"background-color:AliceBlue;\">3.562e-04</td></tr><tr><td  style=\"background-color:Ivory;\">>MMP2-validate-82&nbspSICQQNGI</td><td  style=\"background-color:Ivory;\">3.260e-04</td></tr><tr><td  style=\"background-color:AliceBlue;\">>MMP2-validate-81&nbspSICQQNGI</td><td  style=\"background-color:AliceBlue;\">3.260e-04</td></tr><tr><td  style=\"background-color:Ivory;\">>CTSL-validate-97&nbspSVLGTAFD</td><td  style=\"background-color:Ivory;\">2.233e-04</td></tr><tr><td  style=\"background-color:AliceBlue;\">>CTSL-validate-72&nbspKNFYQEHP</td><td  style=\"background-color:AliceBlue;\">2.158e-04</td></tr><tr><td  style=\"background-color:Ivory;\">>CTSL-validate-43&nbspYAFSHDHP</td><td  style=\"background-color:Ivory;\">1.341e-04</td></tr><tr><td  style=\"background-color:AliceBlue;\">>CTSL-validate-64&nbspKVLAMSGD</td><td  style=\"background-color:AliceBlue;\">7.824e-05</td></tr><tr><td  style=\"background-color:Ivory;\">>MMP2-validate-78&nbspLVAAMQHF</td><td  style=\"background-color:Ivory;\">5.492e-05</td></tr><tr><td  style=\"background-color:AliceBlue;\">>CTSL-validate-38&nbspSGYGGQTK</td><td  style=\"background-color:AliceBlue;\">-1.340e-04</td></tr><tr><td  style=\"background-color:Ivory;\">>CTSL-validate-46&nbspTSVEHIIV</td><td  style=\"background-color:Ivory;\">-2.057e-04</td></tr><tr><td  style=\"background-color:AliceBlue;\">>CTSL-validate-100&nbspNLVGTHDA</td><td  style=\"background-color:AliceBlue;\">-2.620e-04</td></tr><tr><td  style=\"background-color:Ivory;\">>CTSL-validate-104&nbspPIITTQVT</td><td  style=\"background-color:Ivory;\">-2.770e-04</td></tr><tr><td  style=\"background-color:AliceBlue;\">>CTSL-validate-94&nbspPQIGSTEW</td><td  style=\"background-color:AliceBlue;\">-4.392e-04</td></tr><tr><td  style=\"background-color:Ivory;\">>CTSL-validate-44&nbspKLLGHEVE</td><td  style=\"background-color:Ivory;\">-4.627e-04</td></tr><tr><td  style=\"background-color:AliceBlue;\">>MMP2-validate-16&nbspLSDNIISG</td><td  style=\"background-color:AliceBlue;\">-4.670e-04</td></tr><tr><td  style=\"background-color:Ivory;\">>MMP2-validate-87&nbspILGGVISA</td><td  style=\"background-color:Ivory;\">-5.423e-04</td></tr><tr><td  style=\"background-color:AliceBlue;\">>CTSL-validate-65&nbspKSLTNDWE</td><td  style=\"background-color:AliceBlue;\">-6.141e-04</td></tr><tr><td  style=\"background-color:Ivory;\">>CTSL-validate-40&nbspIIYGGSVT</td><td  style=\"background-color:Ivory;\">-6.284e-04</td></tr><tr><td  style=\"background-color:AliceBlue;\">>CTSL-validate-109&nbspMIFEVLAP</td><td  style=\"background-color:AliceBlue;\">-6.286e-04</td></tr><tr><td  style=\"background-color:Ivory;\">>CTSL-validate-107&nbspGLVGVDQF</td><td  style=\"background-color:Ivory;\">-6.743e-04</td></tr><tr><td  style=\"background-color:AliceBlue;\">>MMP2-validate-92&nbspQIGAVVSH</td><td  style=\"background-color:AliceBlue;\">-6.882e-04</td></tr><tr><td  style=\"background-color:Ivory;\">>CTSL-validate-79&nbspRYYTSASG</td><td  style=\"background-color:Ivory;\">-6.941e-04</td></tr><tr><td  style=\"background-color:AliceBlue;\">>CTSL-validate-96&nbspTSVGSVNP</td><td  style=\"background-color:AliceBlue;\">-7.062e-04</td></tr><tr><td  style=\"background-color:Ivory;\">>CTSL-validate-111&nbspTYPQWQPP</td><td  style=\"background-color:Ivory;\">-7.285e-04</td></tr><tr><td  style=\"background-color:AliceBlue;\">>CTSL-validate-93&nbspPGFASSSG</td><td  style=\"background-color:AliceBlue;\">-8.067e-04</td></tr><tr><td  style=\"background-color:Ivory;\">>MMP2-validate-89&nbspGAVAVSAA</td><td  style=\"background-color:Ivory;\">-8.462e-04</td></tr><tr><td  style=\"background-color:AliceBlue;\">>CTSL-validate-110&nbspRVWYVSNI</td><td  style=\"background-color:AliceBlue;\">-8.901e-04</td></tr><tr><td  style=\"background-color:Ivory;\">>CTSL-validate-91&nbspGSLGSQGA</td><td  style=\"background-color:Ivory;\">-1.037e-03</td></tr><tr><td  style=\"background-color:AliceBlue;\">>CTSL-validate-31&nbspVTIGGINI</td><td  style=\"background-color:AliceBlue;\">-1.104e-03</td></tr><tr><td  style=\"background-color:Ivory;\">>MMP2-validate-85&nbspIVSWSQVG</td><td  style=\"background-color:Ivory;\">-1.105e-03</td></tr><tr><td  style=\"background-color:AliceBlue;\">>CTSL-validate-82&nbspKRNQSFCP</td><td  style=\"background-color:AliceBlue;\">-1.115e-03</td></tr><tr><td  style=\"background-color:Ivory;\">>CTSL-validate-33&nbspFEVQGLQP</td><td  style=\"background-color:Ivory;\">-1.271e-03</td></tr><tr><td  style=\"background-color:AliceBlue;\">>CTSL-validate-35&nbspKVFEGNRP</td><td  style=\"background-color:AliceBlue;\">-1.382e-03</td></tr><tr><td  style=\"background-color:Ivory;\">>MMP2-validate-79&nbspVLGQMVID</td><td  style=\"background-color:Ivory;\">-1.384e-03</td></tr><tr><td  style=\"background-color:AliceBlue;\">>CTSL-validate-27&nbspAGSFGGAG</td><td  style=\"background-color:AliceBlue;\">-1.472e-03</td></tr><tr><td  style=\"background-color:Ivory;\">>CTSL-validate-14&nbspRFLQDYFD</td><td  style=\"background-color:Ivory;\">-1.534e-03</td></tr><tr><td  style=\"background-color:AliceBlue;\">>CTSL-validate-66&nbspWLYDNHKD</td><td  style=\"background-color:AliceBlue;\">-1.564e-03</td></tr><tr><td  style=\"background-color:Ivory;\">>CTSL-validate-89&nbspYCVFSNQG</td><td  style=\"background-color:Ivory;\">-1.570e-03</td></tr><tr><td  style=\"background-color:AliceBlue;\">>CTSL-validate-80&nbspKLISSDGH</td><td  style=\"background-color:AliceBlue;\">-1.745e-03</td></tr><tr><td  style=\"background-color:Ivory;\">>CTSL-validate-84&nbspPRPASGPI</td><td  style=\"background-color:Ivory;\">-1.748e-03</td></tr><tr><td  style=\"background-color:AliceBlue;\">>MMP2-validate-91&nbspLVANVTNP</td><td  style=\"background-color:AliceBlue;\">-1.770e-03</td></tr><tr><td  style=\"background-color:Ivory;\">>CTSL-validate-101&nbspSILTTHTT</td><td  style=\"background-color:Ivory;\">-1.873e-03</td></tr><tr><td  style=\"background-color:AliceBlue;\">>CTSL-validate-95&nbspLNWLSVDF</td><td  style=\"background-color:AliceBlue;\">-1.875e-03</td></tr><tr><td  style=\"background-color:Ivory;\">>CTSL-validate-67&nbspSLLENLEK</td><td  style=\"background-color:Ivory;\">-1.977e-03</td></tr><tr><td  style=\"background-color:AliceBlue;\">>CTSL-validate-114&nbspALVPHQEW</td><td  style=\"background-color:AliceBlue;\">-1.988e-03</td></tr><tr><td  style=\"background-color:Ivory;\">>CTSL-validate-29&nbspRGVMGGQS</td><td  style=\"background-color:Ivory;\">-2.008e-03</td></tr><tr><td  style=\"background-color:AliceBlue;\">>CTSL-validate-13&nbspRQLCDNAG</td><td  style=\"background-color:AliceBlue;\">-2.109e-03</td></tr><tr><td  style=\"background-color:Ivory;\">>CTSL-validate-70&nbspRNLANTVT</td><td  style=\"background-color:Ivory;\">-2.112e-03</td></tr><tr><td  style=\"background-color:AliceBlue;\">>CTSL-validate-6&nbspKLYGAQFH</td><td  style=\"background-color:AliceBlue;\">-2.117e-03</td></tr><tr><td  style=\"background-color:Ivory;\">>CTSL-validate-49&nbspALVQHQEW</td><td  style=\"background-color:Ivory;\">-2.123e-03</td></tr><tr><td  style=\"background-color:AliceBlue;\">>CTSL-validate-11&nbspFGYVDFES</td><td  style=\"background-color:AliceBlue;\">-2.221e-03</td></tr><tr><td  style=\"background-color:Ivory;\">>CTSL-validate-45&nbspYCLEHGIQ</td><td  style=\"background-color:Ivory;\">-2.246e-03</td></tr><tr><td  style=\"background-color:AliceBlue;\">>MMP2-validate-96&nbspLVSGWVKP</td><td  style=\"background-color:AliceBlue;\">-2.270e-03</td></tr><tr><td  style=\"background-color:Ivory;\">>CTSL-validate-42&nbspFQIEGYNP</td><td  style=\"background-color:Ivory;\">-2.428e-03</td></tr><tr><td  style=\"background-color:AliceBlue;\">>CTSL-validate-99&nbspQGLETFKP</td><td  style=\"background-color:AliceBlue;\">-2.450e-03</td></tr><tr><td  style=\"background-color:Ivory;\">>CTSL-validate-112&nbspKSYCAEIA</td><td  style=\"background-color:Ivory;\">-2.460e-03</td></tr><tr><td  style=\"background-color:AliceBlue;\">>CTSL-validate-8&nbspWAFSATGA</td><td  style=\"background-color:AliceBlue;\">-2.498e-03</td></tr><tr><td  style=\"background-color:Ivory;\">>CTSL-validate-32&nbspQVLQGLDY</td><td  style=\"background-color:Ivory;\">-2.674e-03</td></tr><tr><td  style=\"background-color:AliceBlue;\">>CTSL-validate-50&nbspELLTHSTT</td><td  style=\"background-color:AliceBlue;\">-2.815e-03</td></tr><tr><td  style=\"background-color:Ivory;\">>CTSL-validate-26&nbspKLVAGEHG</td><td  style=\"background-color:Ivory;\">-2.816e-03</td></tr><tr><td  style=\"background-color:AliceBlue;\">>CTSL-validate-3&nbspSDLAAHQD</td><td  style=\"background-color:AliceBlue;\">-2.917e-03</td></tr><tr><td  style=\"background-color:Ivory;\">>MMP2-validate-9&nbspTLNSFMGL</td><td  style=\"background-color:Ivory;\">-2.940e-03</td></tr><tr><td  style=\"background-color:AliceBlue;\">>CTSL-validate-5&nbspELINALYP</td><td  style=\"background-color:AliceBlue;\">-2.960e-03</td></tr><tr><td  style=\"background-color:Ivory;\">>CTSL-validate-7&nbspRMLDAQVQ</td><td  style=\"background-color:Ivory;\">-3.187e-03</td></tr><tr><td  style=\"background-color:AliceBlue;\">>CTSL-validate-37&nbspEALGGQAL</td><td  style=\"background-color:AliceBlue;\">-3.367e-03</td></tr><tr><td  style=\"background-color:Ivory;\">>CTSL-validate-2&nbspAAVSAGHG</td><td  style=\"background-color:Ivory;\">-3.393e-03</td></tr><tr><td  style=\"background-color:AliceBlue;\">>CTSL-validate-103&nbspKAMHTPKP</td><td  style=\"background-color:AliceBlue;\">-3.445e-03</td></tr><tr><td  style=\"background-color:Ivory;\">>CTSL-validate-30&nbspSELAGHQT</td><td  style=\"background-color:Ivory;\">-3.483e-03</td></tr><tr><td  style=\"background-color:AliceBlue;\">>CTSL-validate-75&nbspAQVARPGG</td><td  style=\"background-color:AliceBlue;\">-3.615e-03</td></tr><tr><td  style=\"background-color:Ivory;\">>CTSL-validate-108&nbspDAYQVILD</td><td  style=\"background-color:Ivory;\">-3.809e-03</td></tr><tr><td  style=\"background-color:AliceBlue;\">>CTSL-validate-19&nbspYELSENDL</td><td  style=\"background-color:AliceBlue;\">-4.017e-03</td></tr><tr><td  style=\"background-color:Ivory;\">>CTSL-validate-39&nbspHFHWGSLD</td><td  style=\"background-color:Ivory;\">-4.060e-03</td></tr><tr><td  style=\"background-color:AliceBlue;\">>CTSL-validate-12&nbspLSFQDIAT</td><td  style=\"background-color:AliceBlue;\">-4.089e-03</td></tr><tr><td  style=\"background-color:Ivory;\">>CTSL-validate-74&nbspSHLGRPDG</td><td  style=\"background-color:Ivory;\">-4.161e-03</td></tr><tr><td  style=\"background-color:AliceBlue;\">>CTSL-validate-28&nbspEGVHGGLI</td><td  style=\"background-color:AliceBlue;\">-4.281e-03</td></tr><tr><td  style=\"background-color:Ivory;\">>CTSL-validate-1&nbspKSPCAEIA</td><td  style=\"background-color:Ivory;\">-4.493e-03</td></tr><tr><td  style=\"background-color:AliceBlue;\">>CTSL-validate-24&nbspQLLCGAAI</td><td  style=\"background-color:AliceBlue;\">-5.032e-03</td></tr><tr><td  style=\"background-color:Ivory;\">>CTSL-validate-48&nbspGLWFHPEE</td><td  style=\"background-color:Ivory;\">-5.160e-03</td></tr><tr><td  style=\"background-color:AliceBlue;\">>CTSL-validate-77&nbspEIVVRPTG</td><td  style=\"background-color:AliceBlue;\">-5.404e-03</td></tr><tr><td  style=\"background-color:Ivory;\">>CTSL-validate-10&nbspFSLADALP</td><td  style=\"background-color:Ivory;\">-5.430e-03</td></tr><tr><td  style=\"background-color:AliceBlue;\">>CTSL-validate-86&nbspLGFHSIEL</td><td  style=\"background-color:AliceBlue;\">-5.979e-03</td></tr><tr><td  style=\"background-color:Ivory;\">>CTSL-validate-36&nbspLQVLGPKP</td><td  style=\"background-color:Ivory;\">-6.041e-03</td></tr><tr><td  style=\"background-color:AliceBlue;\">>CTSL-validate-76&nbspALGHRPIP</td><td  style=\"background-color:AliceBlue;\">-6.368e-03</td></tr><tr><td  style=\"background-color:Ivory;\">>CTSL-validate-58&nbspHSLVKPSV</td><td  style=\"background-color:Ivory;\">-6.854e-03</td></tr><tr><td  style=\"background-color:AliceBlue;\">>CTSL-validate-90&nbspNLVNSPHL</td><td  style=\"background-color:AliceBlue;\">-8.154e-03</td></tr><tr><td  style=\"background-color:Ivory;\">>CTSL-validate-57&nbspKSLTKPLA</td><td  style=\"background-color:Ivory;\">-8.219e-03</td></tr>"
       ],
       "metadata": {},
       "output_type": "pyout",
       "prompt_number": 8,
       "text": [
        "<IPython.core.display.HTML at 0x107571cd0>"
       ]
      }
     ],
     "prompt_number": 8
    },
    {
     "cell_type": "code",
     "collapsed": false,
     "input": [
      "%%time\n",
      "#Ctsl experiment\n",
      "pos = 'http://share.gruenings.eu/schilling/Ctsl-training-noMinus.fasta'\n",
      "test = 'http://share.gruenings.eu/schilling/Mmp2-CTSL-VALIDATE-final_noMinue.fasta'\n",
      "model_fname = 'ctsl.model'\n",
      "\n",
      "train_protease_model(fname=pos, model_fname=model_fname, n_iter=40, verbose=True)\n",
      "results = test_protease_model(fname=test, model_fname=model_fname)"
     ],
     "language": "python",
     "metadata": {},
     "outputs": [
      {
       "output_type": "stream",
       "stream": "stdout",
       "text": [
        "Parameters range:\n",
        "Pre_processor:\n",
        "{}\n",
        "Vectorizer:\n",
        "{'d': [0, 1, 2, 3, 4, 5], 'r': [1, 2]}\n",
        "Estimator:\n",
        "{'alpha': [1e-08, 1e-07, 1e-06, 1e-05, 0.0001, 0.001, 0.01, 0.1],\n",
        " 'eta0': [0.0001, 0.001, 0.01],\n",
        " 'l1_ratio': array([ 0.17321901,  0.77712944,  0.85699211,  0.64872875,  0.50229544,\n",
        "        0.33719009,  0.70018989,  0.66903186,  0.58867223,  0.51338248,\n",
        "        0.12741087,  0.51891061,  0.52575602,  0.39853856,  0.84856012,\n",
        "        0.15031454,  0.12951299,  0.88500789,  0.85054925,  0.32341981,\n",
        "        0.88526563,  0.75590516,  0.55713346,  0.10003092,  0.23060345,\n",
        "        0.60685869,  0.13390735,  0.60897044,  0.61156393,  0.35275209,\n",
        "        0.66586737,  0.46360591,  0.85237667,  0.79843185,  0.25629451,\n",
        "        0.34952342,  0.77265354,  0.82826084,  0.36593832,  0.58581752]),\n",
        " 'learning_rate': ['invscaling', 'constant', 'optimal'],\n",
        " 'loss': ['hinge', 'log', 'modified_huber', 'squared_hinge', 'perceptron'],\n",
        " 'n_iter': array([14, 29, 47, 83, 66, 20, 17, 57, 23, 69, 35, 10, 86, 22, 69, 83, 51,\n",
        "       25, 17, 44, 87, 66, 89, 21, 21, 31, 42, 54, 45, 62, 44, 39, 16, 48,\n",
        "       72, 74, 95, 81, 42,  6]),\n",
        " 'penalty': ['l1', 'l2', 'elasticnet'],\n",
        " 'power_t': array([ 0.19270418,  0.90096726,  0.61898523,  0.19776977,  0.21436818,\n",
        "        0.81831797,  0.56748329,  0.2806641 ,  0.17803405,  0.59814197,\n",
        "        0.88068547,  0.22182038,  0.40751591,  0.19361861,  0.70053791,\n",
        "        0.51703571,  0.3049361 ,  0.94225237,  0.6677675 ,  0.38804811,\n",
        "        0.93018134,  0.95734023,  0.88119074,  0.52582865,  0.39173436,\n",
        "        0.7922305 ,  0.83335011,  0.95909219,  0.71865333,  0.32175802,\n",
        "        0.38340556,  0.64979371,  0.90880181,  0.1003819 ,  0.77152426,\n",
        "        0.60735358,  0.91529412,  0.11550607,  0.52573081,  0.3348328 ])}\n",
        "\n"
       ]
      },
      {
       "output_type": "stream",
       "stream": "stdout",
       "text": [
        "Iteration: 1/40 (at 84.6 sec; 0:01:24.552697)\n",
        "Best score (roc_auc): 0.531886 (0.554897 +- 0.023011)\n",
        "Current parameters:\n",
        "Pre_processor:\n",
        "{}\n",
        "Vectorizer:\n",
        "{'d': 0, 'r': 1}\n",
        "Estimator:\n",
        "{'alpha': 0.01,\n",
        " 'eta0': 0.001,\n",
        " 'l1_ratio': 0.13390734546370953,\n",
        " 'learning_rate': 'optimal',\n",
        " 'loss': 'modified_huber',\n",
        " 'n_iter': 48,\n",
        " 'penalty': 'l1',\n",
        " 'power_t': 0.8806854702035215}\n",
        "Instances: 1985 ; Features: 1048577 with an avg of 20 features per instance\n",
        "class: 1 count:985 (0.50)\tclass: -1 count:1000 (0.50)\t\n",
        "\n"
       ]
      },
      {
       "output_type": "stream",
       "stream": "stdout",
       "text": [
        "Iteration: 2/40 (at 209.3 sec; 0:03:29.255999)\n",
        "Best score (roc_auc): 0.754653 (0.762556 +- 0.007903)\n",
        "Current parameters:\n",
        "Pre_processor:\n",
        "{}\n",
        "Vectorizer:\n",
        "{'d': 0, 'r': 1}\n",
        "Estimator:\n",
        "{'alpha': 1e-06,\n",
        " 'eta0': 0.0001,\n",
        " 'l1_ratio': 0.75590515948924697,\n",
        " 'learning_rate': 'optimal',\n",
        " 'loss': 'modified_huber',\n",
        " 'n_iter': 45,\n",
        " 'penalty': 'elasticnet',\n",
        " 'power_t': 0.30493610428511519}\n",
        "Instances: 1166 ; Features: 1048577 with an avg of 20 features per instance\n",
        "class: 1 count:985 (0.84)\tclass: -1 count:181 (0.16)\t\n",
        "Failed iteration: 6/40 (at 743.0 sec; 0:12:23.008256)"
       ]
      },
      {
       "output_type": "stream",
       "stream": "stdout",
       "text": [
        "\n",
        "Inappropriate argument value (of correct type).\n",
        "Floating-point under-/overflow occurred at epoch #1. Scaling input data with StandardScaler or MinMaxScaler might help.\n",
        "Failed with the following setting:\n",
        "Current parameters:\n",
        "Pre_processor:\n",
        "{}\n",
        "Vectorizer:\n",
        "{'d': 1, 'r': 1}\n",
        "Estimator:\n",
        "{'alpha': 1e-06,\n",
        " 'eta0': 0.0001,\n",
        " 'l1_ratio': 0.79843184571541426,\n",
        " 'learning_rate': 'optimal',\n",
        " 'loss': 'squared_hinge',\n",
        " 'n_iter': 83,\n",
        " 'penalty': 'l1',\n",
        " 'power_t': 0.10038189519132787}\n",
        "...continuing\n",
        "\n"
       ]
      },
      {
       "output_type": "stream",
       "stream": "stdout",
       "text": [
        "Iteration: 11/40 (at 1468.6 sec; 0:24:28.602115)\n",
        "Best score (roc_auc): 0.763656 (0.770274 +- 0.006618)\n",
        "Current parameters:\n",
        "Pre_processor:\n",
        "{}\n",
        "Vectorizer:\n",
        "{'d': 3, 'r': 2}\n",
        "Estimator:\n",
        "{'alpha': 1e-07,\n",
        " 'eta0': 0.001,\n",
        " 'l1_ratio': 0.51891061067943445,\n",
        " 'learning_rate': 'constant',\n",
        " 'loss': 'modified_huber',\n",
        " 'n_iter': 29,\n",
        " 'penalty': 'elasticnet',\n",
        " 'power_t': 0.21436817515491091}\n",
        "Instances: 1985 ; Features: 1048577 with an avg of 111 features per instance\n",
        "class: 1 count:985 (0.50)\tclass: -1 count:1000 (0.50)\t\n",
        "Failed iteration: 17/40 (at 2303.0 sec; 0:38:22.963920)"
       ]
      },
      {
       "output_type": "stream",
       "stream": "stdout",
       "text": [
        "\n",
        "Inappropriate argument value (of correct type).\n",
        "Floating-point under-/overflow occurred at epoch #1. Scaling input data with StandardScaler or MinMaxScaler might help.\n",
        "Failed with the following setting:\n",
        "Current parameters:\n",
        "Pre_processor:\n",
        "{}\n",
        "Vectorizer:\n",
        "{'d': 1, 'r': 1}\n",
        "Estimator:\n",
        "{'alpha': 1e-05,\n",
        " 'eta0': 0.001,\n",
        " 'l1_ratio': 0.64872874859659979,\n",
        " 'learning_rate': 'optimal',\n",
        " 'loss': 'squared_hinge',\n",
        " 'n_iter': 51,\n",
        " 'penalty': 'elasticnet',\n",
        " 'power_t': 0.38340556397176595}\n",
        "...continuing\n",
        "\n"
       ]
      },
      {
       "output_type": "stream",
       "stream": "stdout",
       "text": [
        "Iteration: 28/40 (at 4248.2 sec; 1:10:48.236140)\n",
        "Best score (roc_auc): 0.765365 (0.778850 +- 0.013485)\n",
        "Current parameters:\n",
        "Pre_processor:\n",
        "{}\n",
        "Vectorizer:\n",
        "{'d': 3, 'r': 2}\n",
        "Estimator:\n",
        "{'alpha': 1e-05,\n",
        " 'eta0': 0.0001,\n",
        " 'l1_ratio': 0.4636059064199588,\n",
        " 'learning_rate': 'constant',\n",
        " 'loss': 'hinge',\n",
        " 'n_iter': 95,\n",
        " 'penalty': 'elasticnet',\n",
        " 'power_t': 0.94225236888014419}\n",
        "Instances: 1985 ; Features: 1048577 with an avg of 111 features per instance\n",
        "class: 1 count:985 (0.50)\tclass: -1 count:1000 (0.50)\t\n",
        "\n"
       ]
      },
      {
       "output_type": "stream",
       "stream": "stdout",
       "text": [
        "Iteration: 40/40 (at 6706.7 sec; 1:51:46.704579)\n",
        "Best score (roc_auc): 0.787865 (0.797692 +- 0.009826)\n",
        "Current parameters:\n",
        "Pre_processor:\n",
        "{}\n",
        "Vectorizer:\n",
        "{'d': 3, 'r': 1}\n",
        "Estimator:\n",
        "{'alpha': 0.001,\n",
        " 'eta0': 0.001,\n",
        " 'l1_ratio': 0.55713345965579142,\n",
        " 'learning_rate': 'constant',\n",
        " 'loss': 'squared_hinge',\n",
        " 'n_iter': 44,\n",
        " 'penalty': 'l2',\n",
        " 'power_t': 0.33483279524436793}\n",
        "Instances: 1985 ; Features: 1048577 with an avg of 73 features per instance\n",
        "class: 1 count:985 (0.50)\tclass: -1 count:1000 (0.50)\t\n",
        "Saved model in ctsl.model"
       ]
      },
      {
       "output_type": "stream",
       "stream": "stdout",
       "text": [
        "\n",
        "CPU times: user 1h 32min 47s, sys: 18min 58s, total: 1h 51min 45s"
       ]
      },
      {
       "output_type": "stream",
       "stream": "stdout",
       "text": [
        "\n",
        "Wall time: 1h 52min 21s\n"
       ]
      }
     ],
     "prompt_number": 9
    },
    {
     "cell_type": "code",
     "collapsed": false,
     "input": [
      "from ipy_table import make_table, apply_theme,  set_global_style\n",
      "mat=[('ID','Conf')]\n",
      "for item in sorted(results, reverse=True):\n",
      "    (confidence,(header,seq))=item\n",
      "    mat.append((header+' '+seq,confidence))\n",
      "make_table(mat)\n",
      "apply_theme('basic')\n",
      "set_global_style(float_format = '%0.3e')"
     ],
     "language": "python",
     "metadata": {},
     "outputs": [
      {
       "html": [
        "<table border=\"1\" cellpadding=\"3\" cellspacing=\"0\"  style=\"border:1px solid black;border-collapse:collapse;\"><tr><td  style=\"background-color:LightGray;\"><b>ID</b></td><td  style=\"background-color:LightGray;\"><b>Conf</b></td></tr><tr><td  style=\"background-color:Ivory;\">>CTSL-validate-96&nbspTSVGSVNP</td><td  style=\"background-color:Ivory;\">7.044e-01</td></tr><tr><td  style=\"background-color:AliceBlue;\">>CTSL-validate-87&nbspGFLGSKPE</td><td  style=\"background-color:AliceBlue;\">6.076e-01</td></tr><tr><td  style=\"background-color:Ivory;\">>CTSL-validate-18&nbspQLISEKPE</td><td  style=\"background-color:Ivory;\">5.200e-01</td></tr><tr><td  style=\"background-color:AliceBlue;\">>CTSL-validate-20&nbspKIVAERPG</td><td  style=\"background-color:AliceBlue;\">4.994e-01</td></tr><tr><td  style=\"background-color:Ivory;\">>CTSL-validate-25&nbspKPVAGALD</td><td  style=\"background-color:Ivory;\">4.755e-01</td></tr><tr><td  style=\"background-color:AliceBlue;\">>CTSL-validate-26&nbspKLVAGEHG</td><td  style=\"background-color:AliceBlue;\">4.723e-01</td></tr><tr><td  style=\"background-color:Ivory;\">>CTSL-validate-102&nbspKDISTLEP</td><td  style=\"background-color:Ivory;\">4.701e-01</td></tr><tr><td  style=\"background-color:AliceBlue;\">>CTSL-validate-80&nbspKLISSDGH</td><td  style=\"background-color:AliceBlue;\">4.652e-01</td></tr><tr><td  style=\"background-color:Ivory;\">>CTSL-validate-44&nbspKLLGHEVE</td><td  style=\"background-color:Ivory;\">4.637e-01</td></tr><tr><td  style=\"background-color:AliceBlue;\">>CTSL-validate-32&nbspQVLQGLDY</td><td  style=\"background-color:AliceBlue;\">4.550e-01</td></tr><tr><td  style=\"background-color:Ivory;\">>CTSL-validate-37&nbspEALGGQAL</td><td  style=\"background-color:Ivory;\">4.510e-01</td></tr><tr><td  style=\"background-color:AliceBlue;\">>CTSL-validate-53&nbspKHLEINPD</td><td  style=\"background-color:AliceBlue;\">4.478e-01</td></tr><tr><td  style=\"background-color:Ivory;\">>CTSL-validate-92&nbspVVVTSRPE</td><td  style=\"background-color:Ivory;\">4.386e-01</td></tr><tr><td  style=\"background-color:AliceBlue;\">>CTSL-validate-24&nbspQLLCGAAI</td><td  style=\"background-color:AliceBlue;\">4.321e-01</td></tr><tr><td  style=\"background-color:Ivory;\">>CTSL-validate-42&nbspFQIEGYNP</td><td  style=\"background-color:Ivory;\">4.305e-01</td></tr><tr><td  style=\"background-color:AliceBlue;\">>CTSL-validate-99&nbspQGLETFKP</td><td  style=\"background-color:AliceBlue;\">4.270e-01</td></tr><tr><td  style=\"background-color:Ivory;\">>CTSL-validate-17&nbspKLFNEHIE</td><td  style=\"background-color:Ivory;\">4.121e-01</td></tr><tr><td  style=\"background-color:AliceBlue;\">>CTSL-validate-33&nbspFEVQGLQP</td><td  style=\"background-color:AliceBlue;\">4.043e-01</td></tr><tr><td  style=\"background-color:Ivory;\">>CTSL-validate-106&nbspHQIGTVSP</td><td  style=\"background-color:Ivory;\">4.019e-01</td></tr><tr><td  style=\"background-color:AliceBlue;\">>CTSL-validate-34&nbspRHYGGLTG</td><td  style=\"background-color:AliceBlue;\">4.010e-01</td></tr><tr><td  style=\"background-color:Ivory;\">>CTSL-validate-35&nbspKVFEGNRP</td><td  style=\"background-color:Ivory;\">3.964e-01</td></tr><tr><td  style=\"background-color:AliceBlue;\">>CTSL-validate-14&nbspRFLQDYFD</td><td  style=\"background-color:AliceBlue;\">3.935e-01</td></tr><tr><td  style=\"background-color:Ivory;\">>CTSL-validate-74&nbspSHLGRPDG</td><td  style=\"background-color:Ivory;\">3.907e-01</td></tr><tr><td  style=\"background-color:AliceBlue;\">>CTSL-validate-72&nbspKNFYQEHP</td><td  style=\"background-color:AliceBlue;\">3.894e-01</td></tr><tr><td  style=\"background-color:Ivory;\">>CTSL-validate-60&nbspKTLALIKP</td><td  style=\"background-color:Ivory;\">3.889e-01</td></tr><tr><td  style=\"background-color:AliceBlue;\">>CTSL-validate-100&nbspNLVGTHDA</td><td  style=\"background-color:AliceBlue;\">3.851e-01</td></tr><tr><td  style=\"background-color:Ivory;\">>CTSL-validate-5&nbspELINALYP</td><td  style=\"background-color:Ivory;\">3.748e-01</td></tr><tr><td  style=\"background-color:AliceBlue;\">>MMP2-validate-17&nbspKVLGILAM</td><td  style=\"background-color:AliceBlue;\">3.734e-01</td></tr><tr><td  style=\"background-color:Ivory;\">>CTSL-validate-88&nbspVGFDSLPD</td><td  style=\"background-color:Ivory;\">3.730e-01</td></tr><tr><td  style=\"background-color:AliceBlue;\">>CTSL-validate-65&nbspKSLTNDWE</td><td  style=\"background-color:AliceBlue;\">3.686e-01</td></tr><tr><td  style=\"background-color:Ivory;\">>CTSL-validate-43&nbspYAFSHDHP</td><td  style=\"background-color:Ivory;\">3.591e-01</td></tr><tr><td  style=\"background-color:AliceBlue;\">>CTSL-validate-57&nbspKSLTKPLA</td><td  style=\"background-color:AliceBlue;\">3.531e-01</td></tr><tr><td  style=\"background-color:Ivory;\">>CTSL-validate-71&nbspAMLGQAEE</td><td  style=\"background-color:Ivory;\">3.462e-01</td></tr><tr><td  style=\"background-color:AliceBlue;\">>CTSL-validate-98&nbspMMLGTEGG</td><td  style=\"background-color:AliceBlue;\">3.450e-01</td></tr><tr><td  style=\"background-color:Ivory;\">>CTSL-validate-101&nbspSILTTHTT</td><td  style=\"background-color:Ivory;\">3.310e-01</td></tr><tr><td  style=\"background-color:AliceBlue;\">>CTSL-validate-81&nbspVPLGSEKP</td><td  style=\"background-color:AliceBlue;\">3.288e-01</td></tr><tr><td  style=\"background-color:Ivory;\">>CTSL-validate-90&nbspNLVNSPHL</td><td  style=\"background-color:Ivory;\">3.285e-01</td></tr><tr><td  style=\"background-color:AliceBlue;\">>CTSL-validate-97&nbspSVLGTAFD</td><td  style=\"background-color:AliceBlue;\">3.270e-01</td></tr><tr><td  style=\"background-color:Ivory;\">>CTSL-validate-31&nbspVTIGGINI</td><td  style=\"background-color:Ivory;\">3.252e-01</td></tr><tr><td  style=\"background-color:AliceBlue;\">>CTSL-validate-55&nbspRMLAIYDG</td><td  style=\"background-color:AliceBlue;\">3.143e-01</td></tr><tr><td  style=\"background-color:Ivory;\">>CTSL-validate-91&nbspGSLGSQGA</td><td  style=\"background-color:Ivory;\">3.123e-01</td></tr><tr><td  style=\"background-color:AliceBlue;\">>CTSL-validate-64&nbspKVLAMSGD</td><td  style=\"background-color:AliceBlue;\">3.093e-01</td></tr><tr><td  style=\"background-color:Ivory;\">>CTSL-validate-70&nbspRNLANTVT</td><td  style=\"background-color:Ivory;\">3.020e-01</td></tr><tr><td  style=\"background-color:AliceBlue;\">>CTSL-validate-30&nbspSELAGHQT</td><td  style=\"background-color:AliceBlue;\">3.017e-01</td></tr><tr><td  style=\"background-color:Ivory;\">>CTSL-validate-68&nbspMPVSNQKP</td><td  style=\"background-color:Ivory;\">2.938e-01</td></tr><tr><td  style=\"background-color:AliceBlue;\">>CTSL-validate-82&nbspKRNQSFCP</td><td  style=\"background-color:AliceBlue;\">2.923e-01</td></tr><tr><td  style=\"background-color:Ivory;\">>CTSL-validate-56&nbspITVEKHPD</td><td  style=\"background-color:Ivory;\">2.881e-01</td></tr><tr><td  style=\"background-color:AliceBlue;\">>CTSL-validate-78&nbspDPYSSAEP</td><td  style=\"background-color:AliceBlue;\">2.828e-01</td></tr><tr><td  style=\"background-color:Ivory;\">>CTSL-validate-103&nbspKAMHTPKP</td><td  style=\"background-color:Ivory;\">2.823e-01</td></tr><tr><td  style=\"background-color:AliceBlue;\">>CTSL-validate-8&nbspWAFSATGA</td><td  style=\"background-color:AliceBlue;\">2.814e-01</td></tr><tr><td  style=\"background-color:Ivory;\">>CTSL-validate-3&nbspSDLAAHQD</td><td  style=\"background-color:Ivory;\">2.756e-01</td></tr><tr><td  style=\"background-color:AliceBlue;\">>CTSL-validate-6&nbspKLYGAQFH</td><td  style=\"background-color:AliceBlue;\">2.691e-01</td></tr><tr><td  style=\"background-color:Ivory;\">>CTSL-validate-67&nbspSLLENLEK</td><td  style=\"background-color:Ivory;\">2.657e-01</td></tr><tr><td  style=\"background-color:AliceBlue;\">>CTSL-validate-46&nbspTSVEHIIV</td><td  style=\"background-color:AliceBlue;\">2.519e-01</td></tr><tr><td  style=\"background-color:Ivory;\">>CTSL-validate-50&nbspELLTHSTT</td><td  style=\"background-color:Ivory;\">2.364e-01</td></tr><tr><td  style=\"background-color:AliceBlue;\">>CTSL-validate-79&nbspRYYTSASG</td><td  style=\"background-color:AliceBlue;\">2.354e-01</td></tr><tr><td  style=\"background-color:Ivory;\">>CTSL-validate-49&nbspALVQHQEW</td><td  style=\"background-color:Ivory;\">2.348e-01</td></tr><tr><td  style=\"background-color:AliceBlue;\">>MMP2-validate-50&nbspAPVALLND</td><td  style=\"background-color:AliceBlue;\">2.279e-01</td></tr><tr><td  style=\"background-color:Ivory;\">>CTSL-validate-29&nbspRGVMGGQS</td><td  style=\"background-color:Ivory;\">2.267e-01</td></tr><tr><td  style=\"background-color:AliceBlue;\">>CTSL-validate-59&nbspKNVGLDIE</td><td  style=\"background-color:AliceBlue;\">2.192e-01</td></tr><tr><td  style=\"background-color:Ivory;\">>CTSL-validate-109&nbspMIFEVLAP</td><td  style=\"background-color:Ivory;\">2.144e-01</td></tr><tr><td  style=\"background-color:AliceBlue;\">>CTSL-validate-10&nbspFSLADALP</td><td  style=\"background-color:AliceBlue;\">2.069e-01</td></tr><tr><td  style=\"background-color:Ivory;\">>CTSL-validate-21&nbspVHYGEVTN</td><td  style=\"background-color:Ivory;\">2.059e-01</td></tr><tr><td  style=\"background-color:AliceBlue;\">>CTSL-validate-2&nbspAAVSAGHG</td><td  style=\"background-color:AliceBlue;\">1.929e-01</td></tr><tr><td  style=\"background-color:Ivory;\">>CTSL-validate-86&nbspLGFHSIEL</td><td  style=\"background-color:Ivory;\">1.917e-01</td></tr><tr><td  style=\"background-color:AliceBlue;\">>MMP2-validate-80&nbspPPLSQAQG</td><td  style=\"background-color:AliceBlue;\">1.640e-01</td></tr><tr><td  style=\"background-color:Ivory;\">>CTSL-validate-94&nbspPQIGSTEW</td><td  style=\"background-color:Ivory;\">1.637e-01</td></tr><tr><td  style=\"background-color:AliceBlue;\">>CTSL-validate-38&nbspSGYGGQTK</td><td  style=\"background-color:AliceBlue;\">1.633e-01</td></tr><tr><td  style=\"background-color:Ivory;\">>CTSL-validate-28&nbspEGVHGGLI</td><td  style=\"background-color:Ivory;\">1.626e-01</td></tr><tr><td  style=\"background-color:AliceBlue;\">>CTSL-validate-36&nbspLQVLGPKP</td><td  style=\"background-color:AliceBlue;\">1.496e-01</td></tr><tr><td  style=\"background-color:Ivory;\">>MMP2-validate-44&nbspVILHLKED</td><td  style=\"background-color:Ivory;\">1.466e-01</td></tr><tr><td  style=\"background-color:AliceBlue;\">>MMP2-validate-2&nbspKPATAIGV</td><td  style=\"background-color:AliceBlue;\">1.450e-01</td></tr><tr><td  style=\"background-color:Ivory;\">>CTSL-validate-66&nbspWLYDNHKD</td><td  style=\"background-color:Ivory;\">1.365e-01</td></tr><tr><td  style=\"background-color:AliceBlue;\">>CTSL-validate-112&nbspKSYCAEIA</td><td  style=\"background-color:AliceBlue;\">1.343e-01</td></tr><tr><td  style=\"background-color:Ivory;\">>MMP2-validate-35&nbspTAISLFYE</td><td  style=\"background-color:Ivory;\">1.335e-01</td></tr><tr><td  style=\"background-color:AliceBlue;\">>CTSL-validate-75&nbspAQVARPGG</td><td  style=\"background-color:AliceBlue;\">1.299e-01</td></tr><tr><td  style=\"background-color:Ivory;\">>CTSL-validate-111&nbspTYPQWQPP</td><td  style=\"background-color:Ivory;\">1.273e-01</td></tr><tr><td  style=\"background-color:AliceBlue;\">>CTSL-validate-108&nbspDAYQVILD</td><td  style=\"background-color:AliceBlue;\">1.267e-01</td></tr><tr><td  style=\"background-color:Ivory;\">>CTSL-validate-113&nbspLTLALIKP</td><td  style=\"background-color:Ivory;\">1.226e-01</td></tr><tr><td  style=\"background-color:AliceBlue;\">>CTSL-validate-7&nbspRMLDAQVQ</td><td  style=\"background-color:AliceBlue;\">1.206e-01</td></tr><tr><td  style=\"background-color:Ivory;\">>CTSL-validate-93&nbspPGFASSSG</td><td  style=\"background-color:Ivory;\">1.136e-01</td></tr><tr><td  style=\"background-color:AliceBlue;\">>CTSL-validate-15&nbspYSYGEATH</td><td  style=\"background-color:AliceBlue;\">1.076e-01</td></tr><tr><td  style=\"background-color:Ivory;\">>CTSL-validate-13&nbspRQLCDNAG</td><td  style=\"background-color:Ivory;\">9.560e-02</td></tr><tr><td  style=\"background-color:AliceBlue;\">>CTSL-validate-47&nbspKVILHLKE</td><td  style=\"background-color:AliceBlue;\">9.555e-02</td></tr><tr><td  style=\"background-color:Ivory;\">>CTSL-validate-12&nbspLSFQDIAT</td><td  style=\"background-color:Ivory;\">9.419e-02</td></tr><tr><td  style=\"background-color:AliceBlue;\">>CTSL-validate-83&nbspEYLLSGDI</td><td  style=\"background-color:AliceBlue;\">8.046e-02</td></tr><tr><td  style=\"background-color:Ivory;\">>CTSL-validate-69&nbspTTVSNSQQ</td><td  style=\"background-color:Ivory;\">7.700e-02</td></tr><tr><td  style=\"background-color:AliceBlue;\">>CTSL-validate-52&nbspGCITIIGG</td><td  style=\"background-color:AliceBlue;\">7.301e-02</td></tr><tr><td  style=\"background-color:Ivory;\">>CTSL-validate-19&nbspYELSENDL</td><td  style=\"background-color:Ivory;\">6.035e-02</td></tr><tr><td  style=\"background-color:AliceBlue;\">>CTSL-validate-40&nbspIIYGGSVT</td><td  style=\"background-color:AliceBlue;\">5.144e-02</td></tr><tr><td  style=\"background-color:Ivory;\">>CTSL-validate-89&nbspYCVFSNQG</td><td  style=\"background-color:Ivory;\">4.980e-02</td></tr><tr><td  style=\"background-color:AliceBlue;\">>CTSL-validate-73&nbspPAYFQRPE</td><td  style=\"background-color:AliceBlue;\">4.716e-02</td></tr><tr><td  style=\"background-color:Ivory;\">>MMP2-validate-1&nbspEPAAAAAP</td><td  style=\"background-color:Ivory;\">3.981e-02</td></tr><tr><td  style=\"background-color:AliceBlue;\">>CTSL-validate-77&nbspEIVVRPTG</td><td  style=\"background-color:AliceBlue;\">2.498e-02</td></tr><tr><td  style=\"background-color:Ivory;\">>CTSL-validate-104&nbspPIITTQVT</td><td  style=\"background-color:Ivory;\">2.229e-02</td></tr><tr><td  style=\"background-color:AliceBlue;\">>CTSL-validate-22&nbspCQIQFGPH</td><td  style=\"background-color:AliceBlue;\">2.121e-02</td></tr><tr><td  style=\"background-color:Ivory;\">>MMP2-validate-83&nbspTIQGQYAI</td><td  style=\"background-color:Ivory;\">2.081e-02</td></tr><tr><td  style=\"background-color:AliceBlue;\">>CTSL-validate-95&nbspLNWLSVDF</td><td  style=\"background-color:AliceBlue;\">2.079e-02</td></tr><tr><td  style=\"background-color:Ivory;\">>MMP2-validate-19&nbspTPLSIQAH</td><td  style=\"background-color:Ivory;\">4.474e-03</td></tr><tr><td  style=\"background-color:AliceBlue;\">>CTSL-validate-48&nbspGLWFHPEE</td><td  style=\"background-color:AliceBlue;\">-4.802e-04</td></tr><tr><td  style=\"background-color:Ivory;\">>CTSL-validate-45&nbspYCLEHGIQ</td><td  style=\"background-color:Ivory;\">-1.715e-03</td></tr><tr><td  style=\"background-color:AliceBlue;\">>CTSL-validate-54&nbspNNLFITEE</td><td  style=\"background-color:AliceBlue;\">-1.145e-02</td></tr><tr><td  style=\"background-color:Ivory;\">>MMP2-validate-33&nbspLSLGLETA</td><td  style=\"background-color:Ivory;\">-2.206e-02</td></tr><tr><td  style=\"background-color:AliceBlue;\">>CTSL-validate-107&nbspGLVGVDQF</td><td  style=\"background-color:AliceBlue;\">-2.227e-02</td></tr><tr><td  style=\"background-color:Ivory;\">>MMP2-validate-25&nbspKPGAIVID</td><td  style=\"background-color:Ivory;\">-2.787e-02</td></tr><tr><td  style=\"background-color:AliceBlue;\">>MMP2-validate-89&nbspGAVAVSAA</td><td  style=\"background-color:AliceBlue;\">-3.276e-02</td></tr><tr><td  style=\"background-color:Ivory;\">>MMP2-validate-76&nbspQPEGMISE</td><td  style=\"background-color:Ivory;\">-3.590e-02</td></tr><tr><td  style=\"background-color:AliceBlue;\">>CTSL-validate-84&nbspPRPASGPI</td><td  style=\"background-color:AliceBlue;\">-4.106e-02</td></tr><tr><td  style=\"background-color:Ivory;\">>MMP2-validate-39&nbspKAAELIAN</td><td  style=\"background-color:Ivory;\">-4.540e-02</td></tr><tr><td  style=\"background-color:AliceBlue;\">>MMP2-validate-6&nbspSVASEVST</td><td  style=\"background-color:AliceBlue;\">-4.872e-02</td></tr><tr><td  style=\"background-color:Ivory;\">>MMP2-validate-71&nbspGFAGLVQE</td><td  style=\"background-color:Ivory;\">-5.442e-02</td></tr><tr><td  style=\"background-color:AliceBlue;\">>MMP2-validate-84&nbspAAAASAAA</td><td  style=\"background-color:AliceBlue;\">-5.485e-02</td></tr><tr><td  style=\"background-color:Ivory;\">>CTSL-validate-1&nbspKSPCAEIA</td><td  style=\"background-color:Ivory;\">-6.660e-02</td></tr><tr><td  style=\"background-color:AliceBlue;\">>CTSL-validate-41&nbspHVILGTQQ</td><td  style=\"background-color:AliceBlue;\">-6.807e-02</td></tr><tr><td  style=\"background-color:Ivory;\">>MMP2-validate-94&nbspPVAGWINA</td><td  style=\"background-color:Ivory;\">-7.785e-02</td></tr><tr><td  style=\"background-color:AliceBlue;\">>CTSL-validate-4&nbspGPLPAKDI</td><td  style=\"background-color:AliceBlue;\">-8.029e-02</td></tr><tr><td  style=\"background-color:Ivory;\">>MMP2-validate-7&nbspSPAAFINP</td><td  style=\"background-color:Ivory;\">-8.317e-02</td></tr><tr><td  style=\"background-color:AliceBlue;\">>MMP2-validate-53&nbspKPQNLLVD</td><td  style=\"background-color:AliceBlue;\">-8.392e-02</td></tr><tr><td  style=\"background-color:Ivory;\">>CTSL-validate-114&nbspALVPHQEW</td><td  style=\"background-color:Ivory;\">-9.318e-02</td></tr><tr><td  style=\"background-color:AliceBlue;\">>MMP2-validate-69&nbspTPFLLVGT</td><td  style=\"background-color:AliceBlue;\">-1.004e-01</td></tr><tr><td  style=\"background-color:Ivory;\">>CTSL-validate-58&nbspHSLVKPSV</td><td  style=\"background-color:Ivory;\">-1.143e-01</td></tr><tr><td  style=\"background-color:AliceBlue;\">>MMP2-validate-5&nbspSSSNCVTD</td><td  style=\"background-color:AliceBlue;\">-1.151e-01</td></tr><tr><td  style=\"background-color:Ivory;\">>MMP2-validate-79&nbspVLGQMVID</td><td  style=\"background-color:Ivory;\">-1.200e-01</td></tr><tr><td  style=\"background-color:AliceBlue;\">>MMP2-validate-24&nbspCPQEIVDY</td><td  style=\"background-color:AliceBlue;\">-1.288e-01</td></tr><tr><td  style=\"background-color:Ivory;\">>MMP2-validate-96&nbspLVSGWVKP</td><td  style=\"background-color:Ivory;\">-1.390e-01</td></tr><tr><td  style=\"background-color:AliceBlue;\">>MMP2-validate-82&nbspSICQQNGI</td><td  style=\"background-color:AliceBlue;\">-1.443e-01</td></tr><tr><td  style=\"background-color:Ivory;\">>MMP2-validate-81&nbspSICQQNGI</td><td  style=\"background-color:Ivory;\">-1.443e-01</td></tr><tr><td  style=\"background-color:AliceBlue;\">>MMP2-validate-4&nbspRPAPAVGE</td><td  style=\"background-color:AliceBlue;\">-1.534e-01</td></tr><tr><td  style=\"background-color:Ivory;\">>CTSL-validate-76&nbspALGHRPIP</td><td  style=\"background-color:Ivory;\">-1.535e-01</td></tr><tr><td  style=\"background-color:AliceBlue;\">>MMP2-validate-13&nbspMASNIFGP</td><td  style=\"background-color:AliceBlue;\">-1.681e-01</td></tr><tr><td  style=\"background-color:Ivory;\">>CTSL-validate-11&nbspFGYVDFES</td><td  style=\"background-color:Ivory;\">-1.827e-01</td></tr><tr><td  style=\"background-color:AliceBlue;\">>MMP2-validate-60&nbspRPEELRED</td><td  style=\"background-color:AliceBlue;\">-1.830e-01</td></tr><tr><td  style=\"background-color:Ivory;\">>MMP2-validate-42&nbspAAAALINF</td><td  style=\"background-color:Ivory;\">-1.835e-01</td></tr><tr><td  style=\"background-color:AliceBlue;\">>MMP2-validate-48&nbspKDNHLLGT</td><td  style=\"background-color:AliceBlue;\">-1.836e-01</td></tr><tr><td  style=\"background-color:Ivory;\">>MMP2-validate-26&nbspSPCCIVTS</td><td  style=\"background-color:Ivory;\">-1.952e-01</td></tr><tr><td  style=\"background-color:AliceBlue;\">>MMP2-validate-93&nbspGPYDVVVL</td><td  style=\"background-color:AliceBlue;\">-1.988e-01</td></tr><tr><td  style=\"background-color:Ivory;\">>CTSL-validate-62&nbspMEATLPSP</td><td  style=\"background-color:Ivory;\">-2.127e-01</td></tr><tr><td  style=\"background-color:AliceBlue;\">>CTSL-validate-51&nbspELAQIAGR</td><td  style=\"background-color:AliceBlue;\">-2.293e-01</td></tr><tr><td  style=\"background-color:Ivory;\">>MMP2-validate-77&nbspNNSTMLGA</td><td  style=\"background-color:Ivory;\">-2.307e-01</td></tr><tr><td  style=\"background-color:AliceBlue;\">>CTSL-validate-39&nbspHFHWGSLD</td><td  style=\"background-color:AliceBlue;\">-2.316e-01</td></tr><tr><td  style=\"background-color:Ivory;\">>MMP2-validate-37&nbspPICSLHDQ</td><td  style=\"background-color:Ivory;\">-2.335e-01</td></tr><tr><td  style=\"background-color:AliceBlue;\">>CTSL-validate-16&nbspVGFLEGGK</td><td  style=\"background-color:AliceBlue;\">-2.342e-01</td></tr><tr><td  style=\"background-color:Ivory;\">>MMP2-validate-40&nbspNTQGLIFV</td><td  style=\"background-color:Ivory;\">-2.364e-01</td></tr><tr><td  style=\"background-color:AliceBlue;\">>MMP2-validate-75&nbspCPQEMAAV</td><td  style=\"background-color:AliceBlue;\">-2.426e-01</td></tr><tr><td  style=\"background-color:Ivory;\">>MMP2-validate-87&nbspILGGVISA</td><td  style=\"background-color:Ivory;\">-2.438e-01</td></tr><tr><td  style=\"background-color:AliceBlue;\">>MMP2-validate-51&nbspVVQGLLSE</td><td  style=\"background-color:AliceBlue;\">-2.444e-01</td></tr><tr><td  style=\"background-color:Ivory;\">>MMP2-validate-45&nbspAFDSLLAG</td><td  style=\"background-color:Ivory;\">-2.478e-01</td></tr><tr><td  style=\"background-color:AliceBlue;\">>MMP2-validate-23&nbspTVHAITAT</td><td  style=\"background-color:AliceBlue;\">-2.656e-01</td></tr><tr><td  style=\"background-color:Ivory;\">>CTSL-validate-110&nbspRVWYVSNI</td><td  style=\"background-color:Ivory;\">-2.772e-01</td></tr><tr><td  style=\"background-color:AliceBlue;\">>MMP2-validate-20&nbspKISSIQSI</td><td  style=\"background-color:AliceBlue;\">-2.779e-01</td></tr><tr><td  style=\"background-color:Ivory;\">>MMP2-validate-34&nbspLHESLFGS</td><td  style=\"background-color:Ivory;\">-2.857e-01</td></tr><tr><td  style=\"background-color:AliceBlue;\">>MMP2-validate-41&nbspEVENLILE</td><td  style=\"background-color:AliceBlue;\">-2.863e-01</td></tr><tr><td  style=\"background-color:Ivory;\">>CTSL-validate-105&nbspGKSTTTGH</td><td  style=\"background-color:Ivory;\">-2.866e-01</td></tr><tr><td  style=\"background-color:AliceBlue;\">>MMP2-validate-63&nbspELQNLTAA</td><td  style=\"background-color:AliceBlue;\">-2.877e-01</td></tr><tr><td  style=\"background-color:Ivory;\">>MMP2-validate-15&nbspSPSNIILD</td><td  style=\"background-color:Ivory;\">-2.913e-01</td></tr><tr><td  style=\"background-color:AliceBlue;\">>MMP2-validate-10&nbspGHAAFTSD</td><td  style=\"background-color:AliceBlue;\">-2.946e-01</td></tr><tr><td  style=\"background-color:Ivory;\">>MMP2-validate-95&nbspIPAGWMGL</td><td  style=\"background-color:Ivory;\">-3.008e-01</td></tr><tr><td  style=\"background-color:AliceBlue;\">>MMP2-validate-49&nbspKPSNLLIN</td><td  style=\"background-color:AliceBlue;\">-3.044e-01</td></tr><tr><td  style=\"background-color:Ivory;\">>MMP2-validate-3&nbspQPMPASSP</td><td  style=\"background-color:Ivory;\">-3.056e-01</td></tr><tr><td  style=\"background-color:AliceBlue;\">>MMP2-validate-74&nbspGWGNLVYV</td><td  style=\"background-color:AliceBlue;\">-3.082e-01</td></tr><tr><td  style=\"background-color:Ivory;\">>MMP2-validate-72&nbspVVSGLVQF</td><td  style=\"background-color:Ivory;\">-3.092e-01</td></tr><tr><td  style=\"background-color:AliceBlue;\">>MMP2-validate-92&nbspQIGAVVSH</td><td  style=\"background-color:AliceBlue;\">-3.204e-01</td></tr><tr><td  style=\"background-color:Ivory;\">>MMP2-validate-28&nbspTVAGLAGK</td><td  style=\"background-color:Ivory;\">-3.233e-01</td></tr><tr><td  style=\"background-color:AliceBlue;\">>MMP2-validate-90&nbspRPASVSSS</td><td  style=\"background-color:AliceBlue;\">-3.245e-01</td></tr><tr><td  style=\"background-color:Ivory;\">>MMP2-validate-91&nbspLVANVTNP</td><td  style=\"background-color:Ivory;\">-3.270e-01</td></tr><tr><td  style=\"background-color:AliceBlue;\">>MMP2-validate-12&nbspAFAPICNP</td><td  style=\"background-color:AliceBlue;\">-3.284e-01</td></tr><tr><td  style=\"background-color:Ivory;\">>MMP2-validate-11&nbspRCSGIASA</td><td  style=\"background-color:Ivory;\">-3.286e-01</td></tr><tr><td  style=\"background-color:AliceBlue;\">>MMP2-validate-54&nbspIPIPLMDY</td><td  style=\"background-color:AliceBlue;\">-3.366e-01</td></tr><tr><td  style=\"background-color:Ivory;\">>MMP2-validate-73&nbspLSQNLVVK</td><td  style=\"background-color:Ivory;\">-3.402e-01</td></tr><tr><td  style=\"background-color:AliceBlue;\">>MMP2-validate-9&nbspTLNSFMGL</td><td  style=\"background-color:AliceBlue;\">-3.409e-01</td></tr><tr><td  style=\"background-color:Ivory;\">>MMP2-validate-47&nbspKVSHLLGI</td><td  style=\"background-color:Ivory;\">-3.511e-01</td></tr><tr><td  style=\"background-color:AliceBlue;\">>MMP2-validate-78&nbspLVAAMQHF</td><td  style=\"background-color:AliceBlue;\">-3.520e-01</td></tr><tr><td  style=\"background-color:Ivory;\">>MMP2-validate-68&nbspHLSELVEQ</td><td  style=\"background-color:Ivory;\">-3.611e-01</td></tr><tr><td  style=\"background-color:AliceBlue;\">>MMP2-validate-22&nbspQVATISAN</td><td  style=\"background-color:AliceBlue;\">-3.676e-01</td></tr><tr><td  style=\"background-color:Ivory;\">>MMP2-validate-57&nbspQIAELQAQ</td><td  style=\"background-color:Ivory;\">-3.731e-01</td></tr><tr><td  style=\"background-color:AliceBlue;\">>MMP2-validate-18&nbspVADAILGN</td><td  style=\"background-color:AliceBlue;\">-3.770e-01</td></tr><tr><td  style=\"background-color:Ivory;\">>MMP2-validate-55&nbspHTAALMLD</td><td  style=\"background-color:Ivory;\">-3.806e-01</td></tr><tr><td  style=\"background-color:AliceBlue;\">>CTSL-validate-63&nbspLIMELTGG</td><td  style=\"background-color:AliceBlue;\">-3.808e-01</td></tr><tr><td  style=\"background-color:Ivory;\">>MMP2-validate-38&nbspNPAMLHNI</td><td  style=\"background-color:Ivory;\">-3.857e-01</td></tr><tr><td  style=\"background-color:AliceBlue;\">>MMP2-validate-59&nbspHISQLQHE</td><td  style=\"background-color:AliceBlue;\">-3.884e-01</td></tr><tr><td  style=\"background-color:Ivory;\">>MMP2-validate-27&nbspVAHALAEG</td><td  style=\"background-color:Ivory;\">-3.917e-01</td></tr><tr><td  style=\"background-color:AliceBlue;\">>MMP2-validate-64&nbspLLFPLTAQ</td><td  style=\"background-color:AliceBlue;\">-3.939e-01</td></tr><tr><td  style=\"background-color:Ivory;\">>MMP2-validate-61&nbspDLANLSAA</td><td  style=\"background-color:Ivory;\">-4.097e-01</td></tr><tr><td  style=\"background-color:AliceBlue;\">>MMP2-validate-52&nbspAPPPLLSP</td><td  style=\"background-color:AliceBlue;\">-4.124e-01</td></tr><tr><td  style=\"background-color:Ivory;\">>CTSL-validate-85&nbspVDSLSHPA</td><td  style=\"background-color:Ivory;\">-4.136e-01</td></tr><tr><td  style=\"background-color:AliceBlue;\">>MMP2-validate-43&nbspVIDNLIVA</td><td  style=\"background-color:AliceBlue;\">-4.151e-01</td></tr><tr><td  style=\"background-color:Ivory;\">>MMP2-validate-16&nbspLSDNIISG</td><td  style=\"background-color:Ivory;\">-4.381e-01</td></tr><tr><td  style=\"background-color:AliceBlue;\">>MMP2-validate-65&nbspHYGGLTGL</td><td  style=\"background-color:AliceBlue;\">-4.658e-01</td></tr><tr><td  style=\"background-color:Ivory;\">>MMP2-validate-32&nbspRPGMLEML</td><td  style=\"background-color:Ivory;\">-4.667e-01</td></tr><tr><td  style=\"background-color:AliceBlue;\">>MMP2-validate-31&nbspRQAHLCVL</td><td  style=\"background-color:AliceBlue;\">-4.715e-01</td></tr><tr><td  style=\"background-color:Ivory;\">>MMP2-validate-30&nbspSPANLAVY</td><td  style=\"background-color:Ivory;\">-4.788e-01</td></tr><tr><td  style=\"background-color:AliceBlue;\">>CTSL-validate-27&nbspAGSFGGAG</td><td  style=\"background-color:AliceBlue;\">-4.824e-01</td></tr><tr><td  style=\"background-color:Ivory;\">>MMP2-validate-88&nbspVPENVLSF</td><td  style=\"background-color:Ivory;\">-4.829e-01</td></tr><tr><td  style=\"background-color:AliceBlue;\">>MMP2-validate-97&nbspAIGDYNGH</td><td  style=\"background-color:AliceBlue;\">-5.005e-01</td></tr><tr><td  style=\"background-color:Ivory;\">>MMP2-validate-66&nbspTPTFLTTG</td><td  style=\"background-color:Ivory;\">-5.078e-01</td></tr><tr><td  style=\"background-color:AliceBlue;\">>MMP2-validate-46&nbspPATPLLDY</td><td  style=\"background-color:AliceBlue;\">-5.084e-01</td></tr><tr><td  style=\"background-color:Ivory;\">>MMP2-validate-36&nbspYIANLGHG</td><td  style=\"background-color:Ivory;\">-5.190e-01</td></tr><tr><td  style=\"background-color:AliceBlue;\">>MMP2-validate-29&nbspDASYLASE</td><td  style=\"background-color:AliceBlue;\">-5.274e-01</td></tr><tr><td  style=\"background-color:Ivory;\">>MMP2-validate-14&nbspTIGLIHAV</td><td  style=\"background-color:Ivory;\">-5.338e-01</td></tr><tr><td  style=\"background-color:AliceBlue;\">>MMP2-validate-56&nbspYIGNLNES</td><td  style=\"background-color:AliceBlue;\">-5.366e-01</td></tr><tr><td  style=\"background-color:Ivory;\">>MMP2-validate-86&nbspPPAPTSGM</td><td  style=\"background-color:Ivory;\">-5.454e-01</td></tr><tr><td  style=\"background-color:AliceBlue;\">>MMP2-validate-85&nbspIVSWSQVG</td><td  style=\"background-color:AliceBlue;\">-5.507e-01</td></tr><tr><td  style=\"background-color:Ivory;\">>MMP2-validate-21&nbspGTAFIQTQ</td><td  style=\"background-color:Ivory;\">-5.530e-01</td></tr><tr><td  style=\"background-color:AliceBlue;\">>MMP2-validate-70&nbspLLSPLVLE</td><td  style=\"background-color:AliceBlue;\">-5.739e-01</td></tr><tr><td  style=\"background-color:Ivory;\">>MMP2-validate-62&nbspAASNLSGL</td><td  style=\"background-color:Ivory;\">-6.563e-01</td></tr><tr><td  style=\"background-color:AliceBlue;\">>MMP2-validate-58&nbspAQQPLQGG</td><td  style=\"background-color:AliceBlue;\">-6.988e-01</td></tr><tr><td  style=\"background-color:Ivory;\">>MMP2-validate-67&nbspEPGPLTVG</td><td  style=\"background-color:Ivory;\">-8.041e-01</td></tr>"
       ],
       "metadata": {},
       "output_type": "pyout",
       "prompt_number": 10,
       "text": [
        "<IPython.core.display.HTML at 0x10757ab50>"
       ]
      }
     ],
     "prompt_number": 10
    }
   ],
   "metadata": {}
  }
 ]
}