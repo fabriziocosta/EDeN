{
 "cells": [
  {
   "cell_type": "code",
   "execution_count": 1,
   "metadata": {
    "collapsed": false
   },
   "outputs": [],
   "source": [
    "from eden.util import configure_logging\n",
    "import logging\n",
    "configure_logging(logging.getLogger(),verbosity=2)"
   ]
  },
  {
   "cell_type": "code",
   "execution_count": 2,
   "metadata": {
    "collapsed": false
   },
   "outputs": [],
   "source": [
    "def rfam_uri(family_id):\n",
    "    return 'http://rfam.xfam.org/family/%s/alignment?acc=%s&format=fastau&download=0'%(family_id,family_id)\n",
    "\n",
    "def rfam_uri(family_id):\n",
    "    return '%s.fa'%(family_id)"
   ]
  },
  {
   "cell_type": "code",
   "execution_count": 3,
   "metadata": {
    "collapsed": false
   },
   "outputs": [],
   "source": [
    "rfam_id = 'RF02275' #Hammerhead_HH9\n",
    "rfam_id = 'RF00871' #microRNA mir-689\n",
    "rfam_id = 'RF00005' #tRNA"
   ]
  },
  {
   "cell_type": "code",
   "execution_count": 4,
   "metadata": {
    "collapsed": false
   },
   "outputs": [],
   "source": [
    "def pre_processor( data, **args):\n",
    "    from eden.converter.rna.rnafold import rnafold_to_eden\n",
    "    graphs = rnafold_to_eden( data, **args )\n",
    "    return graphs"
   ]
  },
  {
   "cell_type": "code",
   "execution_count": 5,
   "metadata": {
    "collapsed": false
   },
   "outputs": [],
   "source": [
    "def pre_processor( data, **args):\n",
    "    from eden.converter.rna.rnashapes import rnashapes_to_eden\n",
    "    graphs = rnashapes_to_eden( data, **args )\n",
    "    return graphs"
   ]
  },
  {
   "cell_type": "code",
   "execution_count": 6,
   "metadata": {
    "collapsed": false
   },
   "outputs": [],
   "source": [
    "from eden.graph import Vectorizer\n",
    "vectorizer = Vectorizer()"
   ]
  },
  {
   "cell_type": "code",
   "execution_count": 7,
   "metadata": {
    "collapsed": false
   },
   "outputs": [],
   "source": [
    "from sklearn.linear_model import SGDClassifier, Perceptron, PassiveAggressiveClassifier\n",
    "estimator = PassiveAggressiveClassifier(shuffle=True)\n",
    "estimator = Perceptron(class_weight='auto', shuffle=True)\n",
    "estimator = SGDClassifier(average=True, class_weight='auto', shuffle=True)"
   ]
  },
  {
   "cell_type": "code",
   "execution_count": 8,
   "metadata": {
    "collapsed": false
   },
   "outputs": [],
   "source": [
    "#data setup\n",
    "model_fname='eden_model_%s'%rfam_id\n",
    "size=150\n",
    "train_test_split=0.5\n",
    "n_iter=20\n",
    "times=2\n",
    "n_jobs=8"
   ]
  },
  {
   "cell_type": "markdown",
   "metadata": {},
   "source": [
    "#BinaryClassificationModel"
   ]
  },
  {
   "cell_type": "code",
   "execution_count": null,
   "metadata": {
    "collapsed": false
   },
   "outputs": [],
   "source": [
    "#create iterable from files\n",
    "from eden.converter.fasta import fasta_to_sequence\n",
    "seqs = fasta_to_sequence( rfam_uri( rfam_id ) )\n",
    "from itertools import tee\n",
    "seqs,seqs_=tee(seqs)\n",
    "iterable_pos = seqs\n",
    "from eden.modifier.seq import seq_to_seq, shuffle_modifier\n",
    "iterable_neg = seq_to_seq( seqs_, modifier=shuffle_modifier, times=times, order=2 )\n",
    "\n",
    "#consier only first 'size' elements\n",
    "from itertools import islice\n",
    "iterable_pos = islice(iterable_pos,size)\n",
    "iterable_neg = islice(iterable_neg,size*times)\n",
    "\n",
    "#split train/test\n",
    "from eden.util import random_bipartition_iter\n",
    "iterable_pos_train, iterable_pos_test = random_bipartition_iter(iterable_pos, relative_size=train_test_split)\n",
    "iterable_neg_train, iterable_neg_test = random_bipartition_iter(iterable_neg, relative_size=train_test_split)"
   ]
  },
  {
   "cell_type": "code",
   "execution_count": null,
   "metadata": {
    "collapsed": false,
    "scrolled": false
   },
   "outputs": [
    {
     "name": "stdout",
     "output_type": "stream",
     "text": [
      "\n",
      "\n",
      "\tParameters range:\n",
      "\n",
      "Pre_processor:\n",
      "energy_range: [5, 10, 20, 30, 40]\n",
      "   max_num: [1, 2, 3]\n",
      "shape_type: [4, 5]\n",
      "\n",
      "Vectorizer:\n",
      "complexity: [2, 3]\n",
      "\n",
      "Estimator:\n",
      "     alpha: [1e-08, 1e-07, 1e-06, 1e-05, 0.0001, 0.001, 0.01, 0.1]\n",
      "      eta0: [0.0001, 0.001, 0.01]\n",
      "  l1_ratio: [ 0.15650702  0.78045375  0.4806249   0.35698228  0.44648334  0.59013889\n",
      "  0.21038207  0.58744144  0.46820911  0.74687617  0.85129302  0.70697444\n",
      "  0.34669633  0.27793938  0.88171779  0.48678018  0.29217452  0.82715919\n",
      "  0.7724806   0.49236538]\n",
      "learning_rate: ['invscaling', 'constant', 'optimal']\n",
      "      loss: ['hinge', 'log', 'modified_huber', 'squared_hinge', 'perceptron']\n",
      "    n_iter: [155 158  80   5  75 156 148  39 114  60 112   7  56  22  66 186  18  50\n",
      " 180 196]\n",
      "    n_jobs: [8]\n",
      "   penalty: ['l1', 'l2', 'elasticnet']\n",
      "   power_t: [ 0.19601958  0.99823782  0.14693605  0.53868879  0.73169424  0.12101991\n",
      "  0.53331662  0.17495123  0.54114458  0.43982901  0.20453082  0.42438282\n",
      "  0.25159527  0.59643596  0.50211573  0.91551064  0.66912824  0.99084987\n",
      "  0.18081383  0.47678569]\n",
      "iteration: (1/5) 1/20 score (roc_auc): 0.817 (0.932 +- 0.058)\n",
      "\n",
      "\n",
      "\tIteration: 1/20 (after 13.4 sec; 0:00:13.444183)\n",
      "Best score (roc_auc): 0.817 (0.932 +- 0.058)\n",
      "\n",
      "Data:\n",
      "Instances: 225 ; Features: 1048577 with an avg of 837 features per instance\n",
      "class: 1 count:75 (0.33)\tclass: -1 count:150 (0.67)\t\n",
      "\n",
      "\tModel parameters:\n",
      "\n",
      "Pre_processor:\n",
      "energy_range: 30\n",
      "   max_num: 3\n",
      "shape_type: 4\n",
      "\n",
      "Vectorizer:\n",
      "complexity: 2\n",
      "\n",
      "Estimator:\n",
      "     alpha: 0.001\n",
      "      eta0: 0.0001\n",
      "  l1_ratio: 0.468209112589\n",
      "learning_rate: optimal\n",
      "      loss: perceptron\n",
      "    n_iter: 114\n",
      "    n_jobs: 8\n",
      "   penalty: l2\n",
      "   power_t: 0.915510635678\n",
      "iteration: (2/5) 1/20 score (roc_auc): 0.527 (0.607 +- 0.040)\n",
      "iteration: (3/5) 1/20 score (roc_auc): 0.577 (0.815 +- 0.119)\n",
      "iteration: (4/5) 1/20 score (roc_auc): 0.597 (0.828 +- 0.116)\n",
      "iteration: (5/5) 1/20 score (roc_auc): 0.797 (0.921 +- 0.062)\n",
      "iteration: (1/5) 2/20 score (roc_auc): 0.620 (0.832 +- 0.106)\n",
      "iteration: (2/5) 2/20 score (roc_auc): 0.630 (0.841 +- 0.106)\n",
      "iteration: (3/5) 2/20 score (roc_auc): 0.380 (0.461 +- 0.041)\n",
      "iteration: (4/5) 2/20 score (roc_auc): -0.066 (0.100 +- 0.083)\n",
      "iteration: (5/5) 2/20 score (roc_auc): 0.840 (0.942 +- 0.051)\n",
      "\n",
      "\n",
      "\tIteration: 2/20 (after 39.5 sec; 0:00:39.491082)\n",
      "Best score (roc_auc): 0.840 (0.942 +- 0.051)\n",
      "\n",
      "Data:\n",
      "Instances: 225 ; Features: 1048577 with an avg of 1211 features per instance\n",
      "class: 1 count:75 (0.33)\tclass: -1 count:150 (0.67)\t\n",
      "\n",
      "\tModel parameters:\n",
      "\n",
      "Pre_processor:\n",
      "energy_range: 20\n",
      "   max_num: 1\n",
      "shape_type: 5\n",
      "\n",
      "Vectorizer:\n",
      "complexity: 3\n",
      "\n",
      "Estimator:\n",
      "     alpha: 1e-08\n",
      "      eta0: 0.01\n",
      "  l1_ratio: 0.292174515512\n",
      "learning_rate: constant\n",
      "      loss: squared_hinge\n",
      "    n_iter: 196\n",
      "    n_jobs: 8\n",
      "   penalty: l2\n",
      "   power_t: 0.915510635678\n",
      "iteration: (1/5) 3/20 score (roc_auc): 0.608 (0.840 +- 0.116)\n",
      "iteration: (2/5) 3/20 score (roc_auc): 0.805 (0.934 +- 0.065)\n",
      "iteration: (3/5) 3/20 score (roc_auc): 0.481 (0.614 +- 0.067)\n",
      "iteration: (4/5) 3/20 score (roc_auc): 0.615 (0.843 +- 0.114)\n",
      "iteration: (5/5) 3/20 score (roc_auc): 0.606 (0.838 +- 0.116)\n",
      "iteration: (1/5) 4/20 score (roc_auc): 0.419 (0.471 +- 0.026)\n",
      "iteration: (2/5) 4/20 score (roc_auc): 0.591 (0.824 +- 0.117)\n",
      "iteration: (3/5) 4/20 score (roc_auc): -0.062 (0.176 +- 0.119)\n",
      "iteration: (4/5) 4/20 score (roc_auc): -0.060 (0.176 +- 0.118)\n",
      "iteration: (5/5) 4/20 score (roc_auc): 0.595 (0.827 +- 0.116)\n",
      "iteration: (1/5) 5/20 score (roc_auc): -0.056 (0.175 +- 0.116)\n",
      "iteration: (2/5) 5/20 score (roc_auc): -0.013 (0.056 +- 0.034)\n",
      "iteration: (3/5) 5/20 score (roc_auc): 0.820 (0.928 +- 0.054)\n",
      "iteration: (4/5) 5/20 score (roc_auc): 0.842 (0.933 +- 0.046)\n",
      "\n",
      "\n",
      "\tIteration: 5/20 (after 84.3 sec; 0:01:24.278136)\n",
      "Best score (roc_auc): 0.842 (0.933 +- 0.046)\n",
      "\n",
      "Data:\n",
      "Instances: 225 ; Features: 1048577 with an avg of 679 features per instance\n",
      "class: 1 count:75 (0.33)\tclass: -1 count:150 (0.67)\t\n",
      "\n",
      "\tModel parameters:\n",
      "\n",
      "Pre_processor:\n",
      "energy_range: 10\n",
      "   max_num: 2\n",
      "shape_type: 4\n",
      "\n",
      "Vectorizer:\n",
      "complexity: 2\n",
      "\n",
      "Estimator:\n",
      "     alpha: 1e-06\n",
      "      eta0: 0.001\n",
      "  l1_ratio: 0.480624904094\n",
      "learning_rate: constant\n",
      "      loss: perceptron\n",
      "    n_iter: 148\n",
      "    n_jobs: 8\n",
      "   penalty: l2\n",
      "   power_t: 0.99084986944\n",
      "iteration: (5/5) 5/20 score (roc_auc): 0.845 (0.935 +- 0.045)\n",
      "\n",
      "\n",
      "\tIteration: 5/20 (after 87.8 sec; 0:01:27.835066)\n",
      "Best score (roc_auc): 0.845 (0.935 +- 0.045)\n",
      "\n",
      "Data:\n",
      "Instances: 225 ; Features: 1048577 with an avg of 679 features per instance\n",
      "class: 1 count:75 (0.33)\tclass: -1 count:150 (0.67)\t\n",
      "\n",
      "\tModel parameters:\n",
      "\n",
      "Pre_processor:\n",
      "energy_range: 10\n",
      "   max_num: 2\n",
      "shape_type: 4\n",
      "\n",
      "Vectorizer:\n",
      "complexity: 2\n",
      "\n",
      "Estimator:\n",
      "     alpha: 1e-08\n",
      "      eta0: 0.01\n",
      "  l1_ratio: 0.346696326409\n",
      "learning_rate: optimal\n",
      "      loss: log\n",
      "    n_iter: 155\n",
      "    n_jobs: 8\n",
      "   penalty: l1\n",
      "   power_t: 0.99084986944\n",
      "iteration: (1/5) 6/20 score (roc_auc): 0.591 (0.824 +- 0.116)\n",
      "iteration: (2/5) 6/20 score (roc_auc): 0.508 (0.676 +- 0.084)\n",
      "iteration: (3/5) 6/20 score (roc_auc): 0.011 (0.080 +- 0.034)\n",
      "iteration: (4/5) 6/20 score (roc_auc): 0.826 (0.930 +- 0.052)\n",
      "iteration: (5/5) 6/20 score (roc_auc): 0.773 (0.913 +- 0.070)\n"
     ]
    }
   ],
   "source": [
    "%%time\n",
    "#make predictive model\n",
    "from eden.model import ActiveLearningBinaryClassificationModel\n",
    "model = ActiveLearningBinaryClassificationModel(pre_processor=pre_processor, \n",
    "                                                estimator=estimator, \n",
    "                                                vectorizer=vectorizer,\n",
    "                                                n_jobs=n_jobs,\n",
    "                                                pre_processor_n_jobs=n_jobs,\n",
    "                                                n_blocks=5)\n",
    "\n",
    "#optimize hyperparameters and fit model\n",
    "from numpy.random import randint\n",
    "from numpy.random import uniform\n",
    "pre_processor_parameters={'max_num':[1,2,3], \n",
    "                          'shape_type':[4,5], \n",
    "                          'energy_range':[5,10,20,30,40]}\n",
    "\n",
    "vectorizer_parameters={'complexity':[2,3]}\n",
    "\n",
    "estimator_parameters={'n_iter':randint(5, 200, size=n_iter),\n",
    "                      'penalty':['l1','l2','elasticnet'],\n",
    "                      'l1_ratio':uniform(0.1,0.9, size=n_iter), \n",
    "                      'loss':['hinge', 'log', 'modified_huber', 'squared_hinge', 'perceptron'],\n",
    "                      'power_t':uniform(0.1, size=n_iter),\n",
    "                      'alpha': [10**x for x in range(-8,0)],\n",
    "                      'eta0': [10**x for x in range(-4,-1)],\n",
    "                      'learning_rate': [\"invscaling\", \"constant\", \"optimal\"],\n",
    "                      'n_jobs':[n_jobs]}\n",
    "\n",
    "model.optimize(iterable_pos_train, iterable_neg_train, \n",
    "               model_name=model_fname,\n",
    "               max_total_time=-1, \n",
    "               n_iter=n_iter,\n",
    "               n_inner_iter_estimator=5,\n",
    "               cv=5,\n",
    "               score_func=lambda avg_score,std_score : avg_score - std_score * 2,\n",
    "               scoring='roc_auc',\n",
    "               two_steps_optimization=True,\n",
    "               pre_processor_parameters=pre_processor_parameters, \n",
    "               vectorizer_parameters=vectorizer_parameters, \n",
    "               estimator_parameters=estimator_parameters)"
   ]
  },
  {
   "cell_type": "code",
   "execution_count": null,
   "metadata": {
    "collapsed": false
   },
   "outputs": [],
   "source": [
    "%%time\n",
    "#estimate predictive performance\n",
    "print model.get_parameters()\n",
    "apr, roc = model.estimate( iterable_pos_test, iterable_neg_test )"
   ]
  },
  {
   "cell_type": "markdown",
   "metadata": {},
   "source": [
    "Models can be reloaded from disk"
   ]
  },
  {
   "cell_type": "code",
   "execution_count": null,
   "metadata": {
    "collapsed": false,
    "scrolled": true
   },
   "outputs": [],
   "source": [
    "from eden.model import ActiveLearningBinaryClassificationModel\n",
    "\n",
    "model2 = ActiveLearningBinaryClassificationModel()\n",
    "model2.load(model_fname)\n",
    "\n",
    "from eden.converter.fasta import fasta_to_sequence\n",
    "seqs = fasta_to_sequence( rfam_uri( rfam_id ) )\n",
    "from itertools import tee\n",
    "seqs,seqs_=tee(seqs)\n",
    "iterable_pos = seqs\n",
    "\n",
    "#consier only first 'size' elements\n",
    "from itertools import islice\n",
    "iterable_pos = islice(iterable_pos,size)\n",
    "\n",
    "predictions= model2.decision_function( iterable_pos )\n",
    "for n,i in enumerate(sorted(predictions)): print n,i"
   ]
  },
  {
   "cell_type": "markdown",
   "metadata": {},
   "source": [
    "#ActiveLearningBinaryClassificationModel"
   ]
  },
  {
   "cell_type": "code",
   "execution_count": null,
   "metadata": {
    "collapsed": false
   },
   "outputs": [],
   "source": [
    "#create iterable from files\n",
    "from eden.converter.fasta import fasta_to_sequence\n",
    "seqs = fasta_to_sequence( rfam_uri( rfam_id ) )\n",
    "from itertools import tee\n",
    "seqs,seqs_=tee(seqs)\n",
    "iterable_pos = seqs\n",
    "from eden.modifier.seq import seq_to_seq, shuffle_modifier\n",
    "iterable_neg = seq_to_seq( seqs_, modifier=shuffle_modifier, times=times, order=2 )\n",
    "\n",
    "#consier only first 'size' elements\n",
    "from itertools import islice\n",
    "iterable_pos = islice(iterable_pos,size)\n",
    "iterable_neg = islice(iterable_neg,size*times)\n",
    "\n",
    "#split train/test\n",
    "from eden.util import random_bipartition_iter\n",
    "iterable_pos_train, iterable_pos_test = random_bipartition_iter(iterable_pos, relative_size=train_test_split)\n",
    "iterable_neg_train, iterable_neg_test = random_bipartition_iter(iterable_neg, relative_size=train_test_split)"
   ]
  },
  {
   "cell_type": "code",
   "execution_count": null,
   "metadata": {
    "collapsed": false,
    "scrolled": false
   },
   "outputs": [],
   "source": [
    "%%time\n",
    "#make predictive model\n",
    "from eden.model import ActiveLearningBinaryClassificationModel\n",
    "model = ActiveLearningBinaryClassificationModel(pre_processor=pre_processor, \n",
    "                                                estimator=estimator, \n",
    "                                                vectorizer=vectorizer,\n",
    "                                                n_jobs=n_jobs,\n",
    "                                                pre_processor_n_jobs=n_jobs,\n",
    "                                                n_blocks=8)\n",
    "\n",
    "#optimize hyperparameters and fit model\n",
    "from numpy.random import randint\n",
    "from numpy.random import uniform\n",
    "pre_processor_parameters={'max_num':[1,3], \n",
    "                          'shape_type':[5], \n",
    "                          'energy_range':[10,30]}\n",
    "\n",
    "vectorizer_parameters={'complexity':[2,3]}\n",
    "\n",
    "estimator_parameters={'n_iter':randint(5, 100, size=n_iter),\n",
    "                      'penalty':['l1','l2','elasticnet'],\n",
    "                      'l1_ratio':uniform(0.1,0.9, size=n_iter), \n",
    "                      'loss':['hinge', 'log', 'modified_huber', 'squared_hinge', 'perceptron'],\n",
    "                      'power_t':uniform(0.1, size=n_iter),\n",
    "                      'alpha': [10**x for x in range(-8,0)],\n",
    "                      'eta0': [10**x for x in range(-4,-1)],\n",
    "                      'learning_rate': [\"invscaling\", \"constant\", \"optimal\"],\n",
    "                      'n_jobs':[n_jobs]}\n",
    "active_set_size = size * 2\n",
    "model_fname='eden_model_active_%s'%rfam_id\n",
    "model.optimize(iterable_pos_train, iterable_neg_train, \n",
    "               model_name=model_fname,\n",
    "               score_func=lambda avg_score,std_score : avg_score - std_score * 2,\n",
    "               scoring='roc_auc',\n",
    "               n_active_learning_iterations=4,\n",
    "               n_iter=n_iter, \n",
    "               size_positive=-1,\n",
    "               size_negative=active_set_size,\n",
    "               cv=5,\n",
    "               pre_processor_parameters=pre_processor_parameters, \n",
    "               vectorizer_parameters=vectorizer_parameters, \n",
    "               estimator_parameters=estimator_parameters)"
   ]
  },
  {
   "cell_type": "code",
   "execution_count": null,
   "metadata": {
    "collapsed": false
   },
   "outputs": [],
   "source": [
    "%%time\n",
    "#estimate predictive performance\n",
    "apr, roc = model.estimate( iterable_pos_test, iterable_neg_test )"
   ]
  },
  {
   "cell_type": "code",
   "execution_count": null,
   "metadata": {
    "collapsed": false,
    "scrolled": true
   },
   "outputs": [],
   "source": [
    "from eden.model import ActiveLearningBinaryClassificationModel\n",
    "\n",
    "model2 = ActiveLearningBinaryClassificationModel()\n",
    "model2.load(model_fname)\n",
    "\n",
    "from eden.converter.fasta import fasta_to_sequence\n",
    "seqs = fasta_to_sequence( rfam_uri( rfam_id ) )\n",
    "from itertools import tee\n",
    "seqs,seqs_=tee(seqs)\n",
    "iterable_pos = seqs\n",
    "\n",
    "#consier only first 'size' elements\n",
    "from itertools import islice\n",
    "iterable_pos = islice(iterable_pos,size)\n",
    "\n",
    "predictions= model2.decision_function( iterable_pos )\n",
    "for n,i in enumerate(sorted(predictions)): print n,i"
   ]
  }
 ],
 "metadata": {
  "kernelspec": {
   "display_name": "Python 2",
   "language": "python",
   "name": "python2"
  },
  "language_info": {
   "codemirror_mode": {
    "name": "ipython",
    "version": 2
   },
   "file_extension": ".py",
   "mimetype": "text/x-python",
   "name": "python",
   "nbconvert_exporter": "python",
   "pygments_lexer": "ipython2",
   "version": "2.7.6"
  }
 },
 "nbformat": 4,
 "nbformat_minor": 0
}
