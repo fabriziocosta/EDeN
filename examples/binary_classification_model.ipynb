{
 "cells": [
  {
   "cell_type": "code",
   "execution_count": 1,
   "metadata": {
    "collapsed": false
   },
   "outputs": [],
   "source": [
    "from eden.util import configure_logging\n",
    "import logging\n",
    "configure_logging(logging.getLogger(),verbosity=2)"
   ]
  },
  {
   "cell_type": "code",
   "execution_count": 2,
   "metadata": {
    "collapsed": false
   },
   "outputs": [],
   "source": [
    "def rfam_uri(family_id):\n",
    "    return '%s.fa'%(family_id)\n",
    "def rfam_uri(family_id):\n",
    "    return 'http://rfam.xfam.org/family/%s/alignment?acc=%s&format=fastau&download=0'%(family_id,family_id)"
   ]
  },
  {
   "cell_type": "code",
   "execution_count": 3,
   "metadata": {
    "collapsed": false
   },
   "outputs": [],
   "source": [
    "rfam_id = 'RF02275' #Hammerhead_HH9\n",
    "rfam_id = 'RF00871' #microRNA mir-689\n",
    "rfam_id = 'RF00005' #tRNA"
   ]
  },
  {
   "cell_type": "code",
   "execution_count": 4,
   "metadata": {
    "collapsed": false
   },
   "outputs": [],
   "source": [
    "def pre_processor( data, **args):\n",
    "    from eden.converter.rna.rnafold import rnafold_to_eden\n",
    "    graphs = rnafold_to_eden( data, **args )\n",
    "    return graphs"
   ]
  },
  {
   "cell_type": "code",
   "execution_count": 5,
   "metadata": {
    "collapsed": false
   },
   "outputs": [],
   "source": [
    "def pre_processor( data, **args):\n",
    "    from eden.converter.rna.rnashapes import rnashapes_to_eden\n",
    "    graphs = rnashapes_to_eden( data, **args )\n",
    "    return graphs"
   ]
  },
  {
   "cell_type": "code",
   "execution_count": 6,
   "metadata": {
    "collapsed": false
   },
   "outputs": [],
   "source": [
    "from eden.graph import Vectorizer\n",
    "vectorizer = Vectorizer()"
   ]
  },
  {
   "cell_type": "code",
   "execution_count": 7,
   "metadata": {
    "collapsed": false
   },
   "outputs": [],
   "source": [
    "from sklearn.linear_model import SGDClassifier, Perceptron, PassiveAggressiveClassifier\n",
    "estimator = PassiveAggressiveClassifier(shuffle=True)\n",
    "estimator = Perceptron(class_weight='auto', shuffle=True)\n",
    "estimator = SGDClassifier(average=True, class_weight='auto', shuffle=True)"
   ]
  },
  {
   "cell_type": "code",
   "execution_count": 8,
   "metadata": {
    "collapsed": false
   },
   "outputs": [],
   "source": [
    "#data setup\n",
    "model_fname='eden_model_%s'%rfam_id\n",
    "size=50\n",
    "train_test_split=0.5\n",
    "n_iter=8\n",
    "times=4\n",
    "n_jobs=8"
   ]
  },
  {
   "cell_type": "markdown",
   "metadata": {},
   "source": [
    "#BinaryClassificationModel with Default Parameters"
   ]
  },
  {
   "cell_type": "code",
   "execution_count": 9,
   "metadata": {
    "collapsed": false
   },
   "outputs": [
    {
     "name": "stdout",
     "output_type": "stream",
     "text": [
      "Starting new HTTP connection (1): rfam.xfam.org\n",
      "\"GET /family/RF00005/alignment?acc=RF00005&format=fastau&download=0 HTTP/1.1\" 200 90476\n"
     ]
    }
   ],
   "source": [
    "#create iterable from files\n",
    "from eden.converter.fasta import fasta_to_sequence\n",
    "seqs = fasta_to_sequence( rfam_uri( rfam_id ) )\n",
    "from itertools import tee\n",
    "seqs,seqs_=tee(seqs)\n",
    "iterable_pos = seqs\n",
    "from eden.modifier.seq import seq_to_seq, shuffle_modifier\n",
    "iterable_neg = seq_to_seq( seqs_, modifier=shuffle_modifier, times=times, order=2 )\n",
    "\n",
    "#consier only first 'size' elements\n",
    "from itertools import islice\n",
    "iterable_pos = islice(iterable_pos,size)\n",
    "iterable_neg = islice(iterable_neg,size*times)\n",
    "\n",
    "#split train/test\n",
    "from eden.util import random_bipartition_iter\n",
    "iterable_pos_train, iterable_pos_test = random_bipartition_iter(iterable_pos, relative_size=train_test_split)\n",
    "iterable_neg_train, iterable_neg_test = random_bipartition_iter(iterable_neg, relative_size=train_test_split)"
   ]
  },
  {
   "cell_type": "code",
   "execution_count": 10,
   "metadata": {
    "collapsed": false,
    "scrolled": false
   },
   "outputs": [
    {
     "name": "stdout",
     "output_type": "stream",
     "text": [
      "\n",
      "\n",
      "\tParameters range:\n",
      "\n",
      "Pre_processor:\n",
      "energy_range: [30, 5, 10, 20, 30, 40]\n",
      "   max_num: [3, 1, 2, 3]\n",
      "shape_type: [4, 5]\n",
      "\n",
      "Vectorizer:\n",
      "complexity: [2, 3]\n",
      "\n",
      "Estimator:\n",
      "     alpha: [1e-08, 1e-07, 1e-06, 1e-05, 0.0001, 0.001, 0.01, 0.1]\n",
      "      eta0: [0.0001, 0.001, 0.01]\n",
      "  l1_ratio: [ 0.8949686   0.49810359  0.450317    0.58766834  0.76901775  0.31848021\n",
      "  0.72390576  0.44086592]\n",
      "learning_rate: ['invscaling', 'constant', 'optimal']\n",
      "      loss: ['hinge', 'log', 'modified_huber', 'squared_hinge', 'perceptron']\n",
      "    n_iter: [ 48 188  50  50 114  47 124 184]\n",
      "    n_jobs: [8]\n",
      "   penalty: ['l1', 'l2', 'elasticnet']\n",
      "   power_t: [ 0.54858295  0.95323457  0.66470892  0.31742907  0.88782055  0.38248611\n",
      "  0.90836754  0.11584961]\n",
      "n_iter is 1: switching to default parameters\n",
      "Saved current best model in eden_model_RF00005\n",
      "CPU times: user 3.71 s, sys: 637 ms, total: 4.35 s\n",
      "Wall time: 6.27 s\n"
     ]
    }
   ],
   "source": [
    "%%time\n",
    "#make predictive model\n",
    "from eden.model import ActiveLearningBinaryClassificationModel\n",
    "model = ActiveLearningBinaryClassificationModel(pre_processor=pre_processor, \n",
    "                                                estimator=estimator, \n",
    "                                                vectorizer=vectorizer,\n",
    "                                                n_jobs=n_jobs,\n",
    "                                                pre_processor_n_jobs=n_jobs,\n",
    "                                                n_blocks=5)\n",
    "\n",
    "#optimize hyperparameters and fit model\n",
    "from numpy.random import randint\n",
    "from numpy.random import uniform\n",
    "pre_processor_parameters={'max_num':[3,1,2,3], \n",
    "                          'shape_type':[4,5], \n",
    "                          'energy_range':[30, 5,10,20,30,40]}\n",
    "\n",
    "vectorizer_parameters={'complexity':[2,3]}\n",
    "\n",
    "estimator_parameters={'n_iter':randint(5, 200, size=n_iter),\n",
    "                      'penalty':['l1','l2','elasticnet'],\n",
    "                      'l1_ratio':uniform(0.1,0.9, size=n_iter), \n",
    "                      'loss':['hinge', 'log', 'modified_huber', 'squared_hinge', 'perceptron'],\n",
    "                      'power_t':uniform(0.1, size=n_iter),\n",
    "                      'alpha': [10**x for x in range(-8,0)],\n",
    "                      'eta0': [10**x for x in range(-4,-1)],\n",
    "                      'learning_rate': [\"invscaling\", \"constant\", \"optimal\"],\n",
    "                      'n_jobs':[n_jobs]}\n",
    "\n",
    "model.optimize(iterable_pos_train, iterable_neg_train, \n",
    "               model_name=model_fname,\n",
    "               n_iter=1,\n",
    "               pre_processor_parameters=pre_processor_parameters, \n",
    "               vectorizer_parameters=vectorizer_parameters, \n",
    "               estimator_parameters=estimator_parameters)"
   ]
  },
  {
   "cell_type": "code",
   "execution_count": 11,
   "metadata": {
    "collapsed": false,
    "scrolled": false
   },
   "outputs": [
    {
     "name": "stdout",
     "output_type": "stream",
     "text": [
      "\n",
      "\tModel parameters:\n",
      "\n",
      "Pre_processor:\n",
      "energy_range: 30\n",
      "   max_num: 3\n",
      "shape_type: 4\n",
      "\n",
      "Vectorizer:\n",
      "complexity: 2\n",
      "\n",
      "Estimator:\n",
      "     alpha: 1e-08\n",
      "      eta0: 0.0001\n",
      "  l1_ratio: 0.894968602151\n",
      "learning_rate: invscaling\n",
      "      loss: hinge\n",
      "    n_iter: 48\n",
      "    n_jobs: 8\n",
      "   penalty: l1\n",
      "   power_t: 0.548582948814\n",
      "\n",
      "Classifier:\n",
      "SGDClassifier(alpha=1e-08, average=True, class_weight='auto', epsilon=0.1,\n",
      "       eta0=0.0001, fit_intercept=True, l1_ratio=0.89496860215070428,\n",
      "       learning_rate='invscaling', loss='hinge', n_iter=48, n_jobs=8,\n",
      "       penalty='l1', power_t=0.54858294881405423, random_state=None,\n",
      "       shuffle=True, verbose=0, warm_start=False)\n",
      "\n",
      "Data:\n",
      "Instances: 125 ; Features: 1048577 with an avg of 824 features per instance\n",
      "\n",
      "Predictive performace estimate:\n",
      "             precision    recall  f1-score   support\n",
      "\n",
      "         -1       0.93      0.64      0.76       100\n",
      "          1       0.36      0.80      0.49        25\n",
      "\n",
      "avg / total       0.81      0.67      0.70       125\n",
      "\n",
      "APR: 0.665\n",
      "ROC: 0.822\n",
      "CPU times: user 2.78 s, sys: 526 ms, total: 3.31 s\n",
      "Wall time: 5.45 s\n"
     ]
    }
   ],
   "source": [
    "%%time\n",
    "#estimate predictive performance\n",
    "print model.get_parameters()\n",
    "apr, roc = model.estimate( iterable_pos_test, iterable_neg_test )"
   ]
  },
  {
   "cell_type": "markdown",
   "metadata": {},
   "source": [
    "#BinaryClassificationModel with optimisation"
   ]
  },
  {
   "cell_type": "code",
   "execution_count": null,
   "metadata": {
    "collapsed": false
   },
   "outputs": [
    {
     "name": "stdout",
     "output_type": "stream",
     "text": [
      "Starting new HTTP connection (1): rfam.xfam.org\n",
      "\"GET /family/RF00005/alignment?acc=RF00005&format=fastau&download=0 HTTP/1.1\" 200 90476\n"
     ]
    }
   ],
   "source": [
    "#create iterable from files\n",
    "from eden.converter.fasta import fasta_to_sequence\n",
    "seqs = fasta_to_sequence( rfam_uri( rfam_id ) )\n",
    "from itertools import tee\n",
    "seqs,seqs_=tee(seqs)\n",
    "iterable_pos = seqs\n",
    "from eden.modifier.seq import seq_to_seq, shuffle_modifier\n",
    "iterable_neg = seq_to_seq( seqs_, modifier=shuffle_modifier, times=times, order=2 )\n",
    "\n",
    "#consier only first 'size' elements\n",
    "from itertools import islice\n",
    "iterable_pos = islice(iterable_pos,size)\n",
    "iterable_neg = islice(iterable_neg,size*times)\n",
    "\n",
    "#split train/test\n",
    "from eden.util import random_bipartition_iter\n",
    "iterable_pos_train, iterable_pos_test = random_bipartition_iter(iterable_pos, relative_size=train_test_split)\n",
    "iterable_neg_train, iterable_neg_test = random_bipartition_iter(iterable_neg, relative_size=train_test_split)"
   ]
  },
  {
   "cell_type": "code",
   "execution_count": null,
   "metadata": {
    "collapsed": false,
    "scrolled": false
   },
   "outputs": [
    {
     "name": "stdout",
     "output_type": "stream",
     "text": [
      "\n",
      "\n",
      "\tParameters range:\n",
      "\n",
      "Pre_processor:\n",
      "energy_range: [30, 5, 10, 20, 30, 40]\n",
      "   max_num: [3, 1, 2, 3]\n",
      "shape_type: [4, 5]\n",
      "\n",
      "Vectorizer:\n",
      "complexity: [2, 3]\n",
      "\n",
      "Estimator:\n",
      "     alpha: [1e-08, 1e-07, 1e-06, 1e-05, 0.0001, 0.001, 0.01, 0.1]\n",
      "      eta0: [0.0001, 0.001, 0.01]\n",
      "  l1_ratio: [ 0.43053332  0.36860016  0.15866866  0.15028922  0.84534984  0.10050137\n",
      "  0.10777723  0.24822493]\n",
      "learning_rate: ['invscaling', 'constant', 'optimal']\n",
      "      loss: ['hinge', 'log', 'modified_huber', 'squared_hinge', 'perceptron']\n",
      "    n_iter: [ 25  95  77 120  51  78 145 108]\n",
      "    n_jobs: [8]\n",
      "   penalty: ['l1', 'l2', 'elasticnet']\n",
      "   power_t: [ 0.24437473  0.8732487   0.51439872  0.45424609  0.80382263  0.17297865\n",
      "  0.20385367  0.64570473]\n",
      "iteration: (1/5) 1/8 score (roc_auc): -0.042 (0.114 +- 0.078)\n",
      "iteration: (2/5) 1/8 score (roc_auc): 0.737 (0.918 +- 0.090)\n",
      "\n",
      "\n",
      "\tIteration: 1/8 (after 9.9 sec; 0:00:09.894856)\n",
      "Best score (roc_auc): 0.737 (0.918 +- 0.090)\n",
      "\n",
      "Data:\n",
      "Instances: 125 ; Features: 1048577 with an avg of 846 features per instance\n",
      "class: 1 count:25 (0.20)\tclass: -1 count:100 (0.80)\t\n",
      "\n",
      "\tModel parameters:\n",
      "\n",
      "Pre_processor:\n",
      "energy_range: 30\n",
      "   max_num: 3\n",
      "shape_type: 4\n",
      "\n",
      "Vectorizer:\n",
      "complexity: 2\n",
      "\n",
      "Estimator:\n",
      "     alpha: 1e-05\n",
      "      eta0: 0.0001\n",
      "  l1_ratio: 0.368600162694\n",
      "learning_rate: optimal\n",
      "      loss: squared_hinge\n",
      "    n_iter: 145\n",
      "    n_jobs: 8\n",
      "   penalty: l1\n",
      "   power_t: 0.203853667596\n",
      "iteration: (3/5) 1/8 score (roc_auc): 0.624 (0.826 +- 0.101)\n",
      "iteration: (4/5) 1/8 score (roc_auc): 0.654 (0.834 +- 0.090)\n",
      "iteration: (5/5) 1/8 score (roc_auc): 0.481 (0.580 +- 0.049)\n",
      "iteration: (1/5) 2/8 score (roc_auc): 0.676 (0.876 +- 0.100)\n",
      "iteration: (2/5) 2/8 score (roc_auc): 0.733 (0.904 +- 0.085)\n",
      "iteration: (3/5) 2/8 score (roc_auc): 0.707 (0.888 +- 0.091)\n",
      "iteration: (4/5) 2/8 score (roc_auc): 0.787 (0.922 +- 0.068)\n",
      "\n",
      "\n",
      "\tIteration: 2/8 (after 25.5 sec; 0:00:25.501130)\n",
      "Best score (roc_auc): 0.787 (0.922 +- 0.068)\n",
      "\n",
      "Data:\n",
      "Instances: 125 ; Features: 1048577 with an avg of 1875 features per instance\n",
      "class: 1 count:25 (0.20)\tclass: -1 count:100 (0.80)\t\n",
      "\n",
      "\tModel parameters:\n",
      "\n",
      "Pre_processor:\n",
      "energy_range: 10\n",
      "   max_num: 3\n",
      "shape_type: 5\n",
      "\n",
      "Vectorizer:\n",
      "complexity: 3\n",
      "\n",
      "Estimator:\n",
      "     alpha: 0.0001\n",
      "      eta0: 0.01\n",
      "  l1_ratio: 0.368600162694\n",
      "learning_rate: constant\n",
      "      loss: perceptron\n",
      "    n_iter: 95\n",
      "    n_jobs: 8\n",
      "   penalty: l2\n",
      "   power_t: 0.645704725993\n",
      "iteration: (5/5) 2/8 score (roc_auc): 0.830 (0.934 +- 0.052)\n",
      "\n",
      "\n",
      "\tIteration: 2/8 (after 27.8 sec; 0:00:27.755151)\n",
      "Best score (roc_auc): 0.830 (0.934 +- 0.052)\n",
      "\n",
      "Data:\n",
      "Instances: 125 ; Features: 1048577 with an avg of 1875 features per instance\n",
      "class: 1 count:25 (0.20)\tclass: -1 count:100 (0.80)\t\n",
      "\n",
      "\tModel parameters:\n",
      "\n",
      "Pre_processor:\n",
      "energy_range: 10\n",
      "   max_num: 3\n",
      "shape_type: 5\n",
      "\n",
      "Vectorizer:\n",
      "complexity: 3\n",
      "\n",
      "Estimator:\n",
      "     alpha: 1e-05\n",
      "      eta0: 0.001\n",
      "  l1_ratio: 0.107777229503\n",
      "learning_rate: optimal\n",
      "      loss: hinge\n",
      "    n_iter: 51\n",
      "    n_jobs: 8\n",
      "   penalty: elasticnet\n",
      "   power_t: 0.514398717105\n",
      "iteration: (1/5) 3/8 score (roc_auc): 0.682 (0.888 +- 0.103)\n",
      "iteration: (2/5) 3/8 score (roc_auc): 0.682 (0.886 +- 0.102)\n",
      "iteration: (3/5) 3/8 score (roc_auc): -0.066 (0.130 +- 0.098)\n",
      "iteration: (4/5) 3/8 score (roc_auc): 0.671 (0.882 +- 0.105)\n",
      "iteration: (5/5) 3/8 score (roc_auc): 0.110 (0.302 +- 0.096)\n",
      "iteration: (1/5) 4/8 score (roc_auc): -0.085 (0.084 +- 0.084)\n",
      "iteration: (2/5) 4/8 score (roc_auc): 0.726 (0.894 +- 0.084)\n",
      "iteration: (3/5) 4/8 score (roc_auc): 0.743 (0.904 +- 0.081)\n",
      "iteration: (4/5) 4/8 score (roc_auc): -0.111 (0.092 +- 0.101)\n",
      "iteration: (5/5) 4/8 score (roc_auc): 0.746 (0.910 +- 0.082)\n",
      "\n",
      "\n",
      "\tParameters range:\n",
      "\n",
      "Pre_processor:\n",
      "energy_range: [30, 10, 10]\n",
      "   max_num: [3, 3, 3]\n",
      "shape_type: [4, 5, 5]\n",
      "\n",
      "Vectorizer:\n",
      "complexity: [2, 3, 3]\n",
      "\n",
      "Estimator:\n",
      "     alpha: [1e-05, 0.0001, 1e-05]\n",
      "      eta0: [0.0001, 0.01, 0.001]\n",
      "  l1_ratio: [0.36860016269385976, 0.36860016269385976, 0.10777722950300533]\n",
      "learning_rate: ['optimal', 'constant', 'optimal']\n",
      "      loss: ['squared_hinge', 'perceptron', 'hinge']\n",
      "    n_iter: [145, 95, 51]\n",
      "    n_jobs: [8, 8, 8]\n",
      "   penalty: ['l1', 'l2', 'elasticnet']\n",
      "   power_t: [0.20385366759552417, 0.64570472599336348, 0.51439871710467133]\n",
      "iteration: (1/5) 5/8 score (roc_auc): 0.711 (0.898 +- 0.093)\n",
      "iteration: (2/5) 5/8 score (roc_auc): 0.165 (0.334 +- 0.085)\n",
      "iteration: (3/5) 5/8 score (roc_auc): 0.731 (0.906 +- 0.087)\n",
      "iteration: (4/5) 5/8 score (roc_auc): 0.728 (0.896 +- 0.084)\n",
      "iteration: (5/5) 5/8 score (roc_auc): 0.705 (0.902 +- 0.098)\n",
      "iteration: (1/5) 6/8 score (roc_auc): 0.697 (0.898 +- 0.100)\n",
      "iteration: (2/5) 6/8 score (roc_auc): 0.763 (0.928 +- 0.082)\n",
      "iteration: (3/5) 6/8 score (roc_auc): 0.736 (0.924 +- 0.094)\n",
      "iteration: (4/5) 6/8 score (roc_auc): 0.713 (0.898 +- 0.092)\n",
      "iteration: (5/5) 6/8 score (roc_auc): 0.742 (0.904 +- 0.081)\n"
     ]
    }
   ],
   "source": [
    "%%time\n",
    "#make predictive model\n",
    "from eden.model import ActiveLearningBinaryClassificationModel\n",
    "model = ActiveLearningBinaryClassificationModel(pre_processor=pre_processor, \n",
    "                                                estimator=estimator, \n",
    "                                                vectorizer=vectorizer,\n",
    "                                                n_jobs=n_jobs,\n",
    "                                                pre_processor_n_jobs=n_jobs,\n",
    "                                                n_blocks=5)\n",
    "\n",
    "#optimize hyperparameters and fit model\n",
    "from numpy.random import randint\n",
    "from numpy.random import uniform\n",
    "pre_processor_parameters={'max_num':[3,1,2,3], \n",
    "                          'shape_type':[4,5], \n",
    "                          'energy_range':[30, 5,10,20,30,40]}\n",
    "\n",
    "vectorizer_parameters={'complexity':[2,3]}\n",
    "\n",
    "estimator_parameters={'n_iter':randint(5, 200, size=n_iter),\n",
    "                      'penalty':['l1','l2','elasticnet'],\n",
    "                      'l1_ratio':uniform(0.1,0.9, size=n_iter), \n",
    "                      'loss':['hinge', 'log', 'modified_huber', 'squared_hinge', 'perceptron'],\n",
    "                      'power_t':uniform(0.1, size=n_iter),\n",
    "                      'alpha': [10**x for x in range(-8,0)],\n",
    "                      'eta0': [10**x for x in range(-4,-1)],\n",
    "                      'learning_rate': [\"invscaling\", \"constant\", \"optimal\"],\n",
    "                      'n_jobs':[n_jobs]}\n",
    "\n",
    "model.optimize(iterable_pos_train, iterable_neg_train, \n",
    "               model_name=model_fname,\n",
    "               max_total_time=-1, \n",
    "               n_iter=n_iter,\n",
    "               n_inner_iter_estimator=5,\n",
    "               cv=5,\n",
    "               score_func=lambda avg_score,std_score : avg_score - std_score * 2,\n",
    "               scoring='roc_auc',\n",
    "               two_steps_optimization=True,\n",
    "               pre_processor_parameters=pre_processor_parameters, \n",
    "               vectorizer_parameters=vectorizer_parameters, \n",
    "               estimator_parameters=estimator_parameters)"
   ]
  },
  {
   "cell_type": "code",
   "execution_count": null,
   "metadata": {
    "collapsed": false,
    "scrolled": false
   },
   "outputs": [],
   "source": [
    "%%time\n",
    "#estimate predictive performance\n",
    "print model.get_parameters()\n",
    "apr, roc = model.estimate( iterable_pos_test, iterable_neg_test )"
   ]
  },
  {
   "cell_type": "markdown",
   "metadata": {},
   "source": [
    "Models can be reloaded from disk"
   ]
  },
  {
   "cell_type": "code",
   "execution_count": null,
   "metadata": {
    "collapsed": false,
    "scrolled": true
   },
   "outputs": [],
   "source": [
    "from eden.model import ActiveLearningBinaryClassificationModel\n",
    "\n",
    "model2 = ActiveLearningBinaryClassificationModel()\n",
    "model2.load(model_fname)\n",
    "\n",
    "from eden.converter.fasta import fasta_to_sequence\n",
    "seqs = fasta_to_sequence( rfam_uri( rfam_id ) )\n",
    "from itertools import tee\n",
    "seqs,seqs_=tee(seqs)\n",
    "iterable_pos = seqs\n",
    "\n",
    "#consier only first 'size' elements\n",
    "from itertools import islice\n",
    "iterable_pos = islice(iterable_pos,size)\n",
    "\n",
    "predictions= model2.decision_function( iterable_pos )\n",
    "for n,i in enumerate(sorted(predictions)): print n,i"
   ]
  },
  {
   "cell_type": "markdown",
   "metadata": {},
   "source": [
    "#ActiveLearningBinaryClassificationModel"
   ]
  },
  {
   "cell_type": "code",
   "execution_count": null,
   "metadata": {
    "collapsed": false
   },
   "outputs": [],
   "source": [
    "#create iterable from files\n",
    "from eden.converter.fasta import fasta_to_sequence\n",
    "seqs = fasta_to_sequence( rfam_uri( rfam_id ) )\n",
    "from itertools import tee\n",
    "seqs,seqs_=tee(seqs)\n",
    "iterable_pos = seqs\n",
    "from eden.modifier.seq import seq_to_seq, shuffle_modifier\n",
    "iterable_neg = seq_to_seq( seqs_, modifier=shuffle_modifier, times=times, order=2 )\n",
    "\n",
    "#consier only first 'size' elements\n",
    "from itertools import islice\n",
    "iterable_pos = islice(iterable_pos,size)\n",
    "iterable_neg = islice(iterable_neg,size*times)\n",
    "\n",
    "#split train/test\n",
    "from eden.util import random_bipartition_iter\n",
    "iterable_pos_train, iterable_pos_test = random_bipartition_iter(iterable_pos, relative_size=train_test_split)\n",
    "iterable_neg_train, iterable_neg_test = random_bipartition_iter(iterable_neg, relative_size=train_test_split)"
   ]
  },
  {
   "cell_type": "code",
   "execution_count": null,
   "metadata": {
    "collapsed": false,
    "scrolled": true
   },
   "outputs": [],
   "source": [
    "%%time\n",
    "#make predictive model\n",
    "from eden.model import ActiveLearningBinaryClassificationModel\n",
    "model = ActiveLearningBinaryClassificationModel(pre_processor=pre_processor, \n",
    "                                                estimator=estimator, \n",
    "                                                vectorizer=vectorizer,\n",
    "                                                n_jobs=n_jobs,\n",
    "                                                pre_processor_n_jobs=n_jobs,\n",
    "                                                n_blocks=8)\n",
    "\n",
    "#optimize hyperparameters and fit model\n",
    "from numpy.random import randint\n",
    "from numpy.random import uniform\n",
    "pre_processor_parameters={'max_num':[1,3], \n",
    "                          'shape_type':[5], \n",
    "                          'energy_range':[10,30]}\n",
    "\n",
    "vectorizer_parameters={'complexity':[2,3]}\n",
    "\n",
    "estimator_parameters={'n_iter':randint(5, 100, size=n_iter),\n",
    "                      'penalty':['l1','l2','elasticnet'],\n",
    "                      'l1_ratio':uniform(0.1,0.9, size=n_iter), \n",
    "                      'loss':['hinge', 'log', 'modified_huber', 'squared_hinge', 'perceptron'],\n",
    "                      'power_t':uniform(0.1, size=n_iter),\n",
    "                      'alpha': [10**x for x in range(-8,0)],\n",
    "                      'eta0': [10**x for x in range(-4,-1)],\n",
    "                      'learning_rate': [\"invscaling\", \"constant\", \"optimal\"],\n",
    "                      'n_jobs':[n_jobs]}\n",
    "active_set_size = size * 2\n",
    "model_fname='eden_model_active_%s'%rfam_id\n",
    "model.optimize(iterable_pos_train, iterable_neg_train, \n",
    "               model_name=model_fname,\n",
    "               score_func=lambda avg_score,std_score : avg_score - std_score * 2,\n",
    "               scoring='roc_auc',\n",
    "               n_active_learning_iterations=4,\n",
    "               n_iter=n_iter, \n",
    "               size_positive=-1,\n",
    "               size_negative=active_set_size,\n",
    "               cv=5,\n",
    "               pre_processor_parameters=pre_processor_parameters, \n",
    "               vectorizer_parameters=vectorizer_parameters, \n",
    "               estimator_parameters=estimator_parameters)"
   ]
  },
  {
   "cell_type": "code",
   "execution_count": null,
   "metadata": {
    "collapsed": false
   },
   "outputs": [],
   "source": [
    "%%time\n",
    "#estimate predictive performance\n",
    "apr, roc = model.estimate( iterable_pos_test, iterable_neg_test )"
   ]
  },
  {
   "cell_type": "code",
   "execution_count": null,
   "metadata": {
    "collapsed": false,
    "scrolled": true
   },
   "outputs": [],
   "source": [
    "from eden.model import ActiveLearningBinaryClassificationModel\n",
    "\n",
    "model2 = ActiveLearningBinaryClassificationModel()\n",
    "model2.load(model_fname)\n",
    "\n",
    "from eden.converter.fasta import fasta_to_sequence\n",
    "seqs = fasta_to_sequence( rfam_uri( rfam_id ) )\n",
    "from itertools import tee\n",
    "seqs,seqs_=tee(seqs)\n",
    "iterable_pos = seqs\n",
    "\n",
    "#consier only first 'size' elements\n",
    "from itertools import islice\n",
    "iterable_pos = islice(iterable_pos,size)\n",
    "\n",
    "predictions= model2.decision_function( iterable_pos )\n",
    "for n,i in enumerate(sorted(predictions)): print n,i"
   ]
  }
 ],
 "metadata": {
  "kernelspec": {
   "display_name": "Python 2",
   "language": "python",
   "name": "python2"
  },
  "language_info": {
   "codemirror_mode": {
    "name": "ipython",
    "version": 2
   },
   "file_extension": ".py",
   "mimetype": "text/x-python",
   "name": "python",
   "nbconvert_exporter": "python",
   "pygments_lexer": "ipython2",
   "version": "2.7.10"
  }
 },
 "nbformat": 4,
 "nbformat_minor": 0
}
