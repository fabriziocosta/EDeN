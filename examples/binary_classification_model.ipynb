{
 "cells": [
  {
   "cell_type": "code",
   "execution_count": 1,
   "metadata": {
    "collapsed": false
   },
   "outputs": [],
   "source": [
    "from eden.util import configure_logging\n",
    "import logging\n",
    "configure_logging(logging.getLogger(),verbosity=2)"
   ]
  },
  {
   "cell_type": "code",
   "execution_count": 2,
   "metadata": {
    "collapsed": false
   },
   "outputs": [],
   "source": [
    "def rfam_uri(family_id):\n",
    "    return 'http://rfam.xfam.org/family/%s/alignment?acc=%s&format=fastau&download=0'%(family_id,family_id)\n",
    "\n",
    "def rfam_uri(family_id):\n",
    "    return '%s.fa'%(family_id)"
   ]
  },
  {
   "cell_type": "code",
   "execution_count": 3,
   "metadata": {
    "collapsed": false
   },
   "outputs": [],
   "source": [
    "rfam_id = 'RF02275' #Hammerhead_HH9\n",
    "rfam_id = 'RF00871' #microRNA mir-689\n",
    "rfam_id = 'RF00005' #tRNA"
   ]
  },
  {
   "cell_type": "code",
   "execution_count": 4,
   "metadata": {
    "collapsed": false
   },
   "outputs": [],
   "source": [
    "def pre_processor( data, **args):\n",
    "    from eden.converter.rna.rnafold import rnafold_to_eden\n",
    "    graphs = rnafold_to_eden( data, **args )\n",
    "    return graphs"
   ]
  },
  {
   "cell_type": "code",
   "execution_count": 5,
   "metadata": {
    "collapsed": false
   },
   "outputs": [],
   "source": [
    "def pre_processor( data, **args):\n",
    "    from eden.converter.rna.rnashapes import rnashapes_to_eden\n",
    "    graphs = rnashapes_to_eden( data, **args )\n",
    "    return graphs"
   ]
  },
  {
   "cell_type": "code",
   "execution_count": 6,
   "metadata": {
    "collapsed": false
   },
   "outputs": [],
   "source": [
    "from eden.graph import Vectorizer\n",
    "vectorizer = Vectorizer()"
   ]
  },
  {
   "cell_type": "code",
   "execution_count": 7,
   "metadata": {
    "collapsed": false
   },
   "outputs": [],
   "source": [
    "from sklearn.linear_model import SGDClassifier, Perceptron, PassiveAggressiveClassifier\n",
    "estimator = PassiveAggressiveClassifier(shuffle=True)\n",
    "estimator = Perceptron(class_weight='auto', shuffle=True)\n",
    "estimator = SGDClassifier(average=True, class_weight='auto', shuffle=True)"
   ]
  },
  {
   "cell_type": "code",
   "execution_count": 17,
   "metadata": {
    "collapsed": false
   },
   "outputs": [],
   "source": [
    "#data setup\n",
    "model_fname='eden_model_%s'%rfam_id\n",
    "size=50\n",
    "train_test_split=0.5\n",
    "n_iter=8\n",
    "times=4\n",
    "n_jobs=8"
   ]
  },
  {
   "cell_type": "markdown",
   "metadata": {},
   "source": [
    "#BinaryClassificationModel"
   ]
  },
  {
   "cell_type": "code",
   "execution_count": 9,
   "metadata": {
    "collapsed": false
   },
   "outputs": [],
   "source": [
    "#create iterable from files\n",
    "from eden.converter.fasta import fasta_to_sequence\n",
    "seqs = fasta_to_sequence( rfam_uri( rfam_id ) )\n",
    "from itertools import tee\n",
    "seqs,seqs_=tee(seqs)\n",
    "iterable_pos = seqs\n",
    "from eden.modifier.seq import seq_to_seq, shuffle_modifier\n",
    "iterable_neg = seq_to_seq( seqs_, modifier=shuffle_modifier, times=times, order=2 )\n",
    "\n",
    "#consier only first 'size' elements\n",
    "from itertools import islice\n",
    "iterable_pos = islice(iterable_pos,size)\n",
    "iterable_neg = islice(iterable_neg,size*times)\n",
    "\n",
    "#split train/test\n",
    "from eden.util import random_bipartition_iter\n",
    "iterable_pos_train, iterable_pos_test = random_bipartition_iter(iterable_pos, relative_size=train_test_split)\n",
    "iterable_neg_train, iterable_neg_test = random_bipartition_iter(iterable_neg, relative_size=train_test_split)"
   ]
  },
  {
   "cell_type": "code",
   "execution_count": 10,
   "metadata": {
    "collapsed": false,
    "scrolled": false
   },
   "outputs": [
    {
     "name": "stdout",
     "output_type": "stream",
     "text": [
      "\n",
      "\n",
      "\tParameters range:\n",
      "\n",
      "Pre_processor:\n",
      "energy_range: [5, 10, 20, 30, 40]\n",
      "   max_num: [1, 2, 3]\n",
      "shape_type: [4, 5]\n",
      "\n",
      "Vectorizer:\n",
      "complexity: [2, 3]\n",
      "\n",
      "Estimator:\n",
      "     alpha: [1e-08, 1e-07, 1e-06, 1e-05, 0.0001, 0.001, 0.01, 0.1]\n",
      "      eta0: [0.0001, 0.001, 0.01]\n",
      "  l1_ratio: [ 0.81325387  0.88645032  0.67789089  0.6814702   0.45321657  0.33564743\n",
      "  0.17846061  0.6246246 ]\n",
      "learning_rate: ['invscaling', 'constant', 'optimal']\n",
      "      loss: ['hinge', 'log', 'modified_huber', 'squared_hinge', 'perceptron']\n",
      "    n_iter: [173 101 192  53  33  42  11  99]\n",
      "    n_jobs: [8]\n",
      "   penalty: ['l1', 'l2', 'elasticnet']\n",
      "   power_t: [ 0.6527237   0.69197964  0.17703556  0.7061166   0.24065599  0.87138922\n",
      "  0.89192338  0.35860222]\n",
      "iteration: (1/5) 1/8 score (roc_auc): 0.718 (0.900 +- 0.091)\n",
      "\n",
      "\n",
      "\tIteration: 1/8 (after 4.8 sec; 0:00:04.831935)\n",
      "Best score (roc_auc): 0.718 (0.900 +- 0.091)\n",
      "\n",
      "Data:\n",
      "Instances: 75 ; Features: 1048577 with an avg of 850 features per instance\n",
      "class: 1 count:25 (0.33)\tclass: -1 count:50 (0.67)\t\n",
      "\n",
      "\tModel parameters:\n",
      "\n",
      "Pre_processor:\n",
      "energy_range: 30\n",
      "   max_num: 3\n",
      "shape_type: 4\n",
      "\n",
      "Vectorizer:\n",
      "complexity: 2\n",
      "\n",
      "Estimator:\n",
      "     alpha: 0.001\n",
      "      eta0: 0.0001\n",
      "  l1_ratio: 0.681470195382\n",
      "learning_rate: optimal\n",
      "      loss: perceptron\n",
      "    n_iter: 53\n",
      "    n_jobs: 8\n",
      "   penalty: l2\n",
      "   power_t: 0.891923381487\n",
      "iteration: (2/5) 1/8 score (roc_auc): 0.475 (0.748 +- 0.137)\n",
      "iteration: (3/5) 1/8 score (roc_auc): 0.676 (0.880 +- 0.102)\n",
      "iteration: (4/5) 1/8 score (roc_auc): 0.627 (0.864 +- 0.118)\n",
      "iteration: (5/5) 1/8 score (roc_auc): 0.687 (0.908 +- 0.111)\n",
      "iteration: (1/5) 2/8 score (roc_auc): 0.639 (0.808 +- 0.084)\n",
      "iteration: (2/5) 2/8 score (roc_auc): 0.644 (0.816 +- 0.086)\n",
      "iteration: (3/5) 2/8 score (roc_auc): 0.237 (0.548 +- 0.156)\n",
      "iteration: (4/5) 2/8 score (roc_auc): -0.047 (0.264 +- 0.156)\n",
      "iteration: (5/5) 2/8 score (roc_auc): 0.679 (0.844 +- 0.082)\n",
      "iteration: (1/5) 3/8 score (roc_auc): 0.595 (0.828 +- 0.116)\n",
      "iteration: (2/5) 3/8 score (roc_auc): 0.656 (0.876 +- 0.110)\n",
      "iteration: (3/5) 3/8 score (roc_auc): 0.593 (0.792 +- 0.099)\n",
      "iteration: (4/5) 3/8 score (roc_auc): 0.590 (0.824 +- 0.117)\n",
      "iteration: (5/5) 3/8 score (roc_auc): 0.590 (0.824 +- 0.117)\n",
      "iteration: (1/5) 4/8 score (roc_auc): 0.356 (0.700 +- 0.172)\n",
      "iteration: (2/5) 4/8 score (roc_auc): 0.696 (0.860 +- 0.082)\n",
      "iteration: (3/5) 4/8 score (roc_auc): -0.098 (0.148 +- 0.123)\n",
      "iteration: (4/5) 4/8 score (roc_auc): -0.079 (0.148 +- 0.114)\n",
      "iteration: (5/5) 4/8 score (roc_auc): 0.701 (0.864 +- 0.081)\n",
      "\n",
      "\n",
      "\tParameters range:\n",
      "\n",
      "Pre_processor:\n",
      "energy_range: [30]\n",
      "   max_num: [3]\n",
      "shape_type: [4]\n",
      "\n",
      "Vectorizer:\n",
      "complexity: [2]\n",
      "\n",
      "Estimator:\n",
      "     alpha: [0.001]\n",
      "      eta0: [0.0001]\n",
      "  l1_ratio: [0.68147019538236475]\n",
      "learning_rate: ['optimal']\n",
      "      loss: ['perceptron']\n",
      "    n_iter: [53]\n",
      "    n_jobs: [8]\n",
      "   penalty: ['l2']\n",
      "   power_t: [0.89192338148684513]\n",
      "iteration: (1/5) 5/8 score (roc_auc): 0.691 (0.912 +- 0.111)\n",
      "iteration: (2/5) 5/8 score (roc_auc): 0.691 (0.912 +- 0.111)\n",
      "iteration: (3/5) 5/8 score (roc_auc): 0.691 (0.912 +- 0.111)\n",
      "iteration: (4/5) 5/8 score (roc_auc): 0.691 (0.912 +- 0.111)\n",
      "iteration: (5/5) 5/8 score (roc_auc): 0.691 (0.912 +- 0.111)\n",
      "iteration: (1/5) 6/8 score (roc_auc): 0.691 (0.912 +- 0.111)\n",
      "iteration: (2/5) 6/8 score (roc_auc): 0.691 (0.912 +- 0.111)\n",
      "iteration: (3/5) 6/8 score (roc_auc): 0.691 (0.912 +- 0.111)\n",
      "iteration: (4/5) 6/8 score (roc_auc): 0.691 (0.912 +- 0.111)\n",
      "iteration: (5/5) 6/8 score (roc_auc): 0.691 (0.912 +- 0.111)\n",
      "iteration: (1/5) 7/8 score (roc_auc): 0.691 (0.912 +- 0.111)\n",
      "iteration: (2/5) 7/8 score (roc_auc): 0.691 (0.912 +- 0.111)\n",
      "iteration: (3/5) 7/8 score (roc_auc): 0.691 (0.912 +- 0.111)\n",
      "iteration: (4/5) 7/8 score (roc_auc): 0.691 (0.912 +- 0.111)\n",
      "iteration: (5/5) 7/8 score (roc_auc): 0.691 (0.912 +- 0.111)\n",
      "iteration: (1/5) 8/8 score (roc_auc): 0.691 (0.912 +- 0.111)\n",
      "iteration: (2/5) 8/8 score (roc_auc): 0.691 (0.912 +- 0.111)\n",
      "iteration: (3/5) 8/8 score (roc_auc): 0.691 (0.912 +- 0.111)\n",
      "iteration: (4/5) 8/8 score (roc_auc): 0.691 (0.912 +- 0.111)\n",
      "iteration: (5/5) 8/8 score (roc_auc): 0.691 (0.912 +- 0.111)\n",
      "Saved current best model in eden_model_RF00005\n",
      "CPU times: user 13.5 s, sys: 3.87 s, total: 17.4 s\n",
      "Wall time: 51.4 s\n"
     ]
    }
   ],
   "source": [
    "%%time\n",
    "#make predictive model\n",
    "from eden.model import ActiveLearningBinaryClassificationModel\n",
    "model = ActiveLearningBinaryClassificationModel(pre_processor=pre_processor, \n",
    "                                                estimator=estimator, \n",
    "                                                vectorizer=vectorizer,\n",
    "                                                n_jobs=n_jobs,\n",
    "                                                pre_processor_n_jobs=n_jobs,\n",
    "                                                n_blocks=5)\n",
    "\n",
    "#optimize hyperparameters and fit model\n",
    "from numpy.random import randint\n",
    "from numpy.random import uniform\n",
    "pre_processor_parameters={'max_num':[1,2,3], \n",
    "                          'shape_type':[4,5], \n",
    "                          'energy_range':[5,10,20,30,40]}\n",
    "\n",
    "vectorizer_parameters={'complexity':[2,3]}\n",
    "\n",
    "estimator_parameters={'n_iter':randint(5, 200, size=n_iter),\n",
    "                      'penalty':['l1','l2','elasticnet'],\n",
    "                      'l1_ratio':uniform(0.1,0.9, size=n_iter), \n",
    "                      'loss':['hinge', 'log', 'modified_huber', 'squared_hinge', 'perceptron'],\n",
    "                      'power_t':uniform(0.1, size=n_iter),\n",
    "                      'alpha': [10**x for x in range(-8,0)],\n",
    "                      'eta0': [10**x for x in range(-4,-1)],\n",
    "                      'learning_rate': [\"invscaling\", \"constant\", \"optimal\"],\n",
    "                      'n_jobs':[n_jobs]}\n",
    "\n",
    "model.optimize(iterable_pos_train, iterable_neg_train, \n",
    "               model_name=model_fname,\n",
    "               max_total_time=-1, \n",
    "               n_iter=n_iter,\n",
    "               n_inner_iter_estimator=5,\n",
    "               cv=5,\n",
    "               score_func=lambda avg_score,std_score : avg_score - std_score * 2,\n",
    "               scoring='roc_auc',\n",
    "               two_steps_optimization=True,\n",
    "               pre_processor_parameters=pre_processor_parameters, \n",
    "               vectorizer_parameters=vectorizer_parameters, \n",
    "               estimator_parameters=estimator_parameters)"
   ]
  },
  {
   "cell_type": "code",
   "execution_count": 11,
   "metadata": {
    "collapsed": false
   },
   "outputs": [
    {
     "name": "stdout",
     "output_type": "stream",
     "text": [
      "\n",
      "\tModel parameters:\n",
      "\n",
      "Pre_processor:\n",
      "energy_range: 30\n",
      "   max_num: 3\n",
      "shape_type: 4\n",
      "\n",
      "Vectorizer:\n",
      "complexity: 2\n",
      "\n",
      "Estimator:\n",
      "     alpha: 0.001\n",
      "      eta0: 0.0001\n",
      "  l1_ratio: 0.681470195382\n",
      "learning_rate: optimal\n",
      "      loss: perceptron\n",
      "    n_iter: 53\n",
      "    n_jobs: 8\n",
      "   penalty: l2\n",
      "   power_t: 0.891923381487\n",
      "\n",
      "Classifier:\n",
      "SGDClassifier(alpha=0.001, average=True, class_weight='auto', epsilon=0.1,\n",
      "       eta0=0.0001, fit_intercept=True, l1_ratio=0.68147019538236475,\n",
      "       learning_rate='optimal', loss='perceptron', n_iter=53, n_jobs=8,\n",
      "       penalty='l2', power_t=0.89192338148684513, random_state=None,\n",
      "       shuffle=True, verbose=0, warm_start=False)\n",
      "\n",
      "Data:\n",
      "Instances: 75 ; Features: 1048577 with an avg of 818 features per instance\n",
      "\n",
      "Predictive performace estimate:\n",
      "             precision    recall  f1-score   support\n",
      "\n",
      "         -1       0.81      0.96      0.88        50\n",
      "          1       0.88      0.56      0.68        25\n",
      "\n",
      "avg / total       0.83      0.83      0.81        75\n",
      "\n",
      "APR: 0.781\n",
      "ROC: 0.806\n",
      "CPU times: user 1.77 s, sys: 368 ms, total: 2.13 s\n",
      "Wall time: 4.12 s\n"
     ]
    }
   ],
   "source": [
    "%%time\n",
    "#estimate predictive performance\n",
    "print model.get_parameters()\n",
    "apr, roc = model.estimate( iterable_pos_test, iterable_neg_test )"
   ]
  },
  {
   "cell_type": "markdown",
   "metadata": {},
   "source": [
    "Models can be reloaded from disk"
   ]
  },
  {
   "cell_type": "code",
   "execution_count": 12,
   "metadata": {
    "collapsed": false,
    "scrolled": true
   },
   "outputs": [
    {
     "name": "stdout",
     "output_type": "stream",
     "text": [
      "0 -0.293819255629\n",
      "1 -0.26521127584\n",
      "2 -0.260505526273\n",
      "3 -0.220224701639\n",
      "4 -0.151233822188\n",
      "5 -0.124391931833\n",
      "6 -0.104801151651\n",
      "7 -0.0989640036959\n",
      "8 -0.0814876940179\n",
      "9 -0.0254412450454\n",
      "10 -0.00929140383741\n",
      "11 0.00379594766193\n",
      "12 0.0227701993626\n",
      "13 0.0716501138493\n",
      "14 0.0775089445168\n",
      "15 0.106434453629\n",
      "16 0.128996977635\n",
      "17 0.154313657018\n",
      "18 0.187129862336\n",
      "19 0.195983339541\n",
      "20 0.234563267882\n",
      "21 0.242330002789\n",
      "22 0.266455086164\n",
      "23 0.273203645073\n",
      "24 0.273218933506\n",
      "25 0.284488428449\n",
      "26 0.287688216777\n",
      "27 0.288577305963\n",
      "28 0.30470798666\n",
      "29 0.335951896381\n",
      "30 0.336448559547\n",
      "31 0.356933874683\n",
      "32 0.393171088802\n",
      "33 0.412063289953\n",
      "34 0.430245251282\n",
      "35 0.458473152004\n",
      "36 0.464376762432\n",
      "37 0.515906898711\n",
      "38 0.518261401297\n",
      "39 0.521037441463\n",
      "40 0.526666796971\n",
      "41 0.537969404994\n",
      "42 0.575930787939\n",
      "43 0.606732882634\n",
      "44 0.61820399677\n",
      "45 0.644126944847\n",
      "46 0.670039607241\n",
      "47 0.681602407852\n",
      "48 0.689061183621\n",
      "49 0.776145162693\n"
     ]
    }
   ],
   "source": [
    "from eden.model import ActiveLearningBinaryClassificationModel\n",
    "\n",
    "model2 = ActiveLearningBinaryClassificationModel()\n",
    "model2.load(model_fname)\n",
    "\n",
    "from eden.converter.fasta import fasta_to_sequence\n",
    "seqs = fasta_to_sequence( rfam_uri( rfam_id ) )\n",
    "from itertools import tee\n",
    "seqs,seqs_=tee(seqs)\n",
    "iterable_pos = seqs\n",
    "\n",
    "#consier only first 'size' elements\n",
    "from itertools import islice\n",
    "iterable_pos = islice(iterable_pos,size)\n",
    "\n",
    "predictions= model2.decision_function( iterable_pos )\n",
    "for n,i in enumerate(sorted(predictions)): print n,i"
   ]
  },
  {
   "cell_type": "markdown",
   "metadata": {},
   "source": [
    "#ActiveLearningBinaryClassificationModel"
   ]
  },
  {
   "cell_type": "code",
   "execution_count": 19,
   "metadata": {
    "collapsed": false
   },
   "outputs": [],
   "source": [
    "#create iterable from files\n",
    "from eden.converter.fasta import fasta_to_sequence\n",
    "seqs = fasta_to_sequence( rfam_uri( rfam_id ) )\n",
    "from itertools import tee\n",
    "seqs,seqs_=tee(seqs)\n",
    "iterable_pos = seqs\n",
    "from eden.modifier.seq import seq_to_seq, shuffle_modifier\n",
    "iterable_neg = seq_to_seq( seqs_, modifier=shuffle_modifier, times=times, order=2 )\n",
    "\n",
    "#consier only first 'size' elements\n",
    "from itertools import islice\n",
    "iterable_pos = islice(iterable_pos,size)\n",
    "iterable_neg = islice(iterable_neg,size*times)\n",
    "\n",
    "#split train/test\n",
    "from eden.util import random_bipartition_iter\n",
    "iterable_pos_train, iterable_pos_test = random_bipartition_iter(iterable_pos, relative_size=train_test_split)\n",
    "iterable_neg_train, iterable_neg_test = random_bipartition_iter(iterable_neg, relative_size=train_test_split)"
   ]
  },
  {
   "cell_type": "code",
   "execution_count": null,
   "metadata": {
    "collapsed": false,
    "scrolled": false
   },
   "outputs": [
    {
     "name": "stdout",
     "output_type": "stream",
     "text": [
      "\n",
      "\n",
      "\tParameters range:\n",
      "\n",
      "Pre_processor:\n",
      "energy_range: [10, 30]\n",
      "   max_num: [1, 3]\n",
      "shape_type: [5]\n",
      "\n",
      "Vectorizer:\n",
      "complexity: [2, 3]\n",
      "\n",
      "Estimator:\n",
      "     alpha: [1e-08, 1e-07, 1e-06, 1e-05, 0.0001, 0.001, 0.01, 0.1]\n",
      "      eta0: [0.0001, 0.001, 0.01]\n",
      "  l1_ratio: [ 0.59865931  0.42491673  0.21052181  0.583495    0.33059987  0.53308694\n",
      "  0.29794203  0.62921974]\n",
      "learning_rate: ['invscaling', 'constant', 'optimal']\n",
      "      loss: ['hinge', 'log', 'modified_huber', 'squared_hinge', 'perceptron']\n",
      "    n_iter: [52 24 63 79  7 75 25 66]\n",
      "    n_jobs: [8]\n",
      "   penalty: ['l1', 'l2', 'elasticnet']\n",
      "   power_t: [ 0.43568773  0.93032311  0.95463773  0.85866517  0.96608768  0.23787348\n",
      "  0.88892885  0.7551963 ]\n"
     ]
    }
   ],
   "source": [
    "%%time\n",
    "#make predictive model\n",
    "from eden.model import ActiveLearningBinaryClassificationModel\n",
    "model = ActiveLearningBinaryClassificationModel(pre_processor=pre_processor, \n",
    "                                                estimator=estimator, \n",
    "                                                vectorizer=vectorizer,\n",
    "                                                n_jobs=n_jobs,\n",
    "                                                pre_processor_n_jobs=n_jobs,\n",
    "                                                n_blocks=8)\n",
    "\n",
    "#optimize hyperparameters and fit model\n",
    "from numpy.random import randint\n",
    "from numpy.random import uniform\n",
    "pre_processor_parameters={'max_num':[1,3], \n",
    "                          'shape_type':[5], \n",
    "                          'energy_range':[10,30]}\n",
    "\n",
    "vectorizer_parameters={'complexity':[2,3]}\n",
    "\n",
    "estimator_parameters={'n_iter':randint(5, 100, size=n_iter),\n",
    "                      'penalty':['l1','l2','elasticnet'],\n",
    "                      'l1_ratio':uniform(0.1,0.9, size=n_iter), \n",
    "                      'loss':['hinge', 'log', 'modified_huber', 'squared_hinge', 'perceptron'],\n",
    "                      'power_t':uniform(0.1, size=n_iter),\n",
    "                      'alpha': [10**x for x in range(-8,0)],\n",
    "                      'eta0': [10**x for x in range(-4,-1)],\n",
    "                      'learning_rate': [\"invscaling\", \"constant\", \"optimal\"],\n",
    "                      'n_jobs':[n_jobs]}\n",
    "active_set_size = size * 2\n",
    "model_fname='eden_model_active_%s'%rfam_id\n",
    "model.optimize(iterable_pos_train, iterable_neg_train, \n",
    "               model_name=model_fname,\n",
    "               score_func=lambda avg_score,std_score : avg_score - std_score * 2,\n",
    "               scoring='roc_auc',\n",
    "               n_active_learning_iterations=4,\n",
    "               n_iter=n_iter, \n",
    "               size_positive=-1,\n",
    "               size_negative=active_set_size,\n",
    "               cv=5,\n",
    "               pre_processor_parameters=pre_processor_parameters, \n",
    "               vectorizer_parameters=vectorizer_parameters, \n",
    "               estimator_parameters=estimator_parameters)"
   ]
  },
  {
   "cell_type": "code",
   "execution_count": null,
   "metadata": {
    "collapsed": false
   },
   "outputs": [],
   "source": [
    "%%time\n",
    "#estimate predictive performance\n",
    "apr, roc = model.estimate( iterable_pos_test, iterable_neg_test )"
   ]
  },
  {
   "cell_type": "code",
   "execution_count": null,
   "metadata": {
    "collapsed": false,
    "scrolled": true
   },
   "outputs": [],
   "source": [
    "from eden.model import ActiveLearningBinaryClassificationModel\n",
    "\n",
    "model2 = ActiveLearningBinaryClassificationModel()\n",
    "model2.load(model_fname)\n",
    "\n",
    "from eden.converter.fasta import fasta_to_sequence\n",
    "seqs = fasta_to_sequence( rfam_uri( rfam_id ) )\n",
    "from itertools import tee\n",
    "seqs,seqs_=tee(seqs)\n",
    "iterable_pos = seqs\n",
    "\n",
    "#consier only first 'size' elements\n",
    "from itertools import islice\n",
    "iterable_pos = islice(iterable_pos,size)\n",
    "\n",
    "predictions= model2.decision_function( iterable_pos )\n",
    "for n,i in enumerate(sorted(predictions)): print n,i"
   ]
  }
 ],
 "metadata": {
  "kernelspec": {
   "display_name": "Python 2",
   "language": "python",
   "name": "python2"
  },
  "language_info": {
   "codemirror_mode": {
    "name": "ipython",
    "version": 2
   },
   "file_extension": ".py",
   "mimetype": "text/x-python",
   "name": "python",
   "nbconvert_exporter": "python",
   "pygments_lexer": "ipython2",
   "version": "2.7.6"
  }
 },
 "nbformat": 4,
 "nbformat_minor": 0
}
