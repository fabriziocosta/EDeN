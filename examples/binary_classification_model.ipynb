{
 "cells": [
  {
   "cell_type": "code",
   "execution_count": 1,
   "metadata": {
    "collapsed": false
   },
   "outputs": [],
   "source": [
    "from eden.util import configure_logging\n",
    "import logging\n",
    "configure_logging(logging.getLogger(),verbosity=2)"
   ]
  },
  {
   "cell_type": "code",
   "execution_count": 2,
   "metadata": {
    "collapsed": false
   },
   "outputs": [],
   "source": [
    "def rfam_uri(family_id):\n",
    "    return 'http://rfam.xfam.org/family/%s/alignment?acc=%s&format=fastau&download=0'%(family_id,family_id)\n",
    "\n",
    "def rfam_uri(family_id):\n",
    "    return '%s.fa'%(family_id)"
   ]
  },
  {
   "cell_type": "code",
   "execution_count": 3,
   "metadata": {
    "collapsed": false
   },
   "outputs": [],
   "source": [
    "rfam_id = 'RF02275' #Hammerhead_HH9\n",
    "rfam_id = 'RF00871' #microRNA mir-689\n",
    "rfam_id = 'RF00005' #tRNA"
   ]
  },
  {
   "cell_type": "code",
   "execution_count": 4,
   "metadata": {
    "collapsed": false
   },
   "outputs": [],
   "source": [
    "def pre_processor( data, **args):\n",
    "    from eden.converter.rna.rnafold import rnafold_to_eden\n",
    "    graphs = rnafold_to_eden( data, **args )\n",
    "    return graphs"
   ]
  },
  {
   "cell_type": "code",
   "execution_count": 5,
   "metadata": {
    "collapsed": false
   },
   "outputs": [],
   "source": [
    "def pre_processor( data, **args):\n",
    "    from eden.converter.rna.rnashapes import rnashapes_to_eden\n",
    "    graphs = rnashapes_to_eden( data, **args )\n",
    "    return graphs"
   ]
  },
  {
   "cell_type": "code",
   "execution_count": 6,
   "metadata": {
    "collapsed": false
   },
   "outputs": [],
   "source": [
    "from eden.graph import Vectorizer\n",
    "vectorizer = Vectorizer()"
   ]
  },
  {
   "cell_type": "code",
   "execution_count": 7,
   "metadata": {
    "collapsed": false
   },
   "outputs": [],
   "source": [
    "from sklearn.linear_model import SGDClassifier, Perceptron, PassiveAggressiveClassifier\n",
    "estimator = PassiveAggressiveClassifier(shuffle=True)\n",
    "estimator = Perceptron(class_weight='auto', shuffle=True)\n",
    "estimator = SGDClassifier(average=True, class_weight='auto', shuffle=True)"
   ]
  },
  {
   "cell_type": "code",
   "execution_count": 11,
   "metadata": {
    "collapsed": false
   },
   "outputs": [],
   "source": [
    "#data setup\n",
    "model_fname='eden_model_%s'%rfam_id\n",
    "size=50\n",
    "train_test_split=0.5\n",
    "n_iter=8\n",
    "times=2\n",
    "n_jobs=8"
   ]
  },
  {
   "cell_type": "markdown",
   "metadata": {},
   "source": [
    "#BinaryClassificationModel"
   ]
  },
  {
   "cell_type": "code",
   "execution_count": 12,
   "metadata": {
    "collapsed": false
   },
   "outputs": [],
   "source": [
    "#create iterable from files\n",
    "from eden.converter.fasta import fasta_to_sequence\n",
    "seqs = fasta_to_sequence( rfam_uri( rfam_id ) )\n",
    "from itertools import tee\n",
    "seqs,seqs_=tee(seqs)\n",
    "iterable_pos = seqs\n",
    "from eden.modifier.seq import seq_to_seq, shuffle_modifier\n",
    "iterable_neg = seq_to_seq( seqs_, modifier=shuffle_modifier, times=times, order=2 )\n",
    "\n",
    "#consier only first 'size' elements\n",
    "from itertools import islice\n",
    "iterable_pos = islice(iterable_pos,size)\n",
    "iterable_neg = islice(iterable_neg,size*times)\n",
    "\n",
    "#split train/test\n",
    "from eden.util import random_bipartition_iter\n",
    "iterable_pos_train, iterable_pos_test = random_bipartition_iter(iterable_pos, relative_size=train_test_split)\n",
    "iterable_neg_train, iterable_neg_test = random_bipartition_iter(iterable_neg, relative_size=train_test_split)"
   ]
  },
  {
   "cell_type": "code",
   "execution_count": 13,
   "metadata": {
    "collapsed": false,
    "scrolled": false
   },
   "outputs": [
    {
     "name": "stdout",
     "output_type": "stream",
     "text": [
      "\n",
      "\n",
      "\tParameters range:\n",
      "\n",
      "Pre_processor:\n",
      "energy_range: [5, 10, 20, 30, 40]\n",
      "   max_num: [1, 2, 3]\n",
      "shape_type: [4, 5]\n",
      "\n",
      "Vectorizer:\n",
      "complexity: [2, 3]\n",
      "\n",
      "Estimator:\n",
      "     alpha: [1e-08, 1e-07, 1e-06, 1e-05, 0.0001, 0.001, 0.01, 0.1]\n",
      "      eta0: [0.0001, 0.001, 0.01]\n",
      "  l1_ratio: [ 0.35409961  0.58049969  0.8667276   0.2875362   0.17526728  0.84310014\n",
      "  0.67802763  0.52413626]\n",
      "learning_rate: ['invscaling', 'constant', 'optimal']\n",
      "      loss: ['hinge', 'log', 'modified_huber', 'squared_hinge', 'perceptron']\n",
      "    n_iter: [191 116 173 184  15  28  80  21]\n",
      "    n_jobs: [8]\n",
      "   penalty: ['l1', 'l2', 'elasticnet']\n",
      "   power_t: [ 0.42074625  0.3821705   0.61578593  0.55204145  0.24712604  0.41443607\n",
      "  0.27666954  0.78680444]\n",
      "iteration: (1/5) 1/8 score (roc_auc): 0.791 (0.916 +- 0.062)\n",
      "\n",
      "\n",
      "\tIteration: 1/8 (after 5.8 sec; 0:00:05.764664)\n",
      "Best score (roc_auc): 0.791 (0.916 +- 0.062)\n",
      "\n",
      "Data:\n",
      "Instances: 75 ; Features: 1048577 with an avg of 850 features per instance\n",
      "class: 1 count:25 (0.33)\tclass: -1 count:50 (0.67)\t\n",
      "\n",
      "\tModel parameters:\n",
      "\n",
      "Pre_processor:\n",
      "energy_range: 30\n",
      "   max_num: 3\n",
      "shape_type: 4\n",
      "\n",
      "Vectorizer:\n",
      "complexity: 2\n",
      "\n",
      "Estimator:\n",
      "     alpha: 0.001\n",
      "      eta0: 0.0001\n",
      "  l1_ratio: 0.287536201274\n",
      "learning_rate: optimal\n",
      "      loss: perceptron\n",
      "    n_iter: 184\n",
      "    n_jobs: 8\n",
      "   penalty: l2\n",
      "   power_t: 0.276669542998\n",
      "iteration: (2/5) 1/8 score (roc_auc): 0.447 (0.732 +- 0.142)\n",
      "iteration: (3/5) 1/8 score (roc_auc): 0.595 (0.860 +- 0.133)\n",
      "iteration: (4/5) 1/8 score (roc_auc): 0.595 (0.860 +- 0.133)\n",
      "iteration: (5/5) 1/8 score (roc_auc): 0.678 (0.884 +- 0.103)\n",
      "iteration: (1/5) 2/8 score (roc_auc): 0.639 (0.808 +- 0.084)\n",
      "iteration: (2/5) 2/8 score (roc_auc): 0.639 (0.812 +- 0.086)\n",
      "iteration: (3/5) 2/8 score (roc_auc): 0.245 (0.520 +- 0.137)\n",
      "iteration: (4/5) 2/8 score (roc_auc): 0.442 (0.700 +- 0.129)\n",
      "iteration: (5/5) 2/8 score (roc_auc): 0.661 (0.832 +- 0.085)\n",
      "iteration: (1/5) 3/8 score (roc_auc): 0.599 (0.832 +- 0.116)\n",
      "iteration: (2/5) 3/8 score (roc_auc): 0.563 (0.848 +- 0.142)\n",
      "iteration: (3/5) 3/8 score (roc_auc): 0.551 (0.776 +- 0.113)\n",
      "iteration: (4/5) 3/8 score (roc_auc): 0.590 (0.824 +- 0.117)\n",
      "iteration: (5/5) 3/8 score (roc_auc): 0.590 (0.824 +- 0.117)\n",
      "iteration: (1/5) 4/8 score (roc_auc): 0.193 (0.556 +- 0.182)\n",
      "iteration: (2/5) 4/8 score (roc_auc): 0.590 (0.836 +- 0.123)\n",
      "iteration: (3/5) 4/8 score (roc_auc): -0.037 (0.156 +- 0.097)\n",
      "iteration: (4/5) 4/8 score (roc_auc): -0.096 (0.156 +- 0.126)\n",
      "iteration: (5/5) 4/8 score (roc_auc): 0.590 (0.836 +- 0.123)\n",
      "\n",
      "\n",
      "\tParameters range:\n",
      "\n",
      "Pre_processor:\n",
      "energy_range: [30]\n",
      "   max_num: [3]\n",
      "shape_type: [4]\n",
      "\n",
      "Vectorizer:\n",
      "complexity: [2]\n",
      "\n",
      "Estimator:\n",
      "     alpha: [0.001]\n",
      "      eta0: [0.0001]\n",
      "  l1_ratio: [0.28753620127385093]\n",
      "learning_rate: ['optimal']\n",
      "      loss: ['perceptron']\n",
      "    n_iter: [184]\n",
      "    n_jobs: [8]\n",
      "   penalty: ['l2']\n",
      "   power_t: [0.27666954299797003]\n",
      "iteration: (1/5) 5/8 score (roc_auc): 0.678 (0.884 +- 0.103)\n",
      "iteration: (2/5) 5/8 score (roc_auc): 0.678 (0.884 +- 0.103)\n",
      "iteration: (3/5) 5/8 score (roc_auc): 0.678 (0.884 +- 0.103)\n",
      "iteration: (4/5) 5/8 score (roc_auc): 0.678 (0.884 +- 0.103)\n",
      "iteration: (5/5) 5/8 score (roc_auc): 0.678 (0.884 +- 0.103)\n",
      "iteration: (1/5) 6/8 score (roc_auc): 0.678 (0.884 +- 0.103)\n",
      "iteration: (2/5) 6/8 score (roc_auc): 0.678 (0.884 +- 0.103)\n",
      "iteration: (3/5) 6/8 score (roc_auc): 0.678 (0.884 +- 0.103)\n",
      "iteration: (4/5) 6/8 score (roc_auc): 0.678 (0.884 +- 0.103)\n",
      "iteration: (5/5) 6/8 score (roc_auc): 0.678 (0.884 +- 0.103)\n",
      "iteration: (1/5) 7/8 score (roc_auc): 0.678 (0.884 +- 0.103)\n",
      "iteration: (2/5) 7/8 score (roc_auc): 0.678 (0.884 +- 0.103)\n",
      "iteration: (3/5) 7/8 score (roc_auc): 0.678 (0.884 +- 0.103)\n",
      "iteration: (4/5) 7/8 score (roc_auc): 0.678 (0.884 +- 0.103)\n",
      "iteration: (5/5) 7/8 score (roc_auc): 0.678 (0.884 +- 0.103)\n",
      "iteration: (1/5) 8/8 score (roc_auc): 0.678 (0.884 +- 0.103)\n",
      "iteration: (2/5) 8/8 score (roc_auc): 0.678 (0.884 +- 0.103)\n",
      "iteration: (3/5) 8/8 score (roc_auc): 0.678 (0.884 +- 0.103)\n",
      "iteration: (4/5) 8/8 score (roc_auc): 0.678 (0.884 +- 0.103)\n",
      "iteration: (5/5) 8/8 score (roc_auc): 0.678 (0.884 +- 0.103)\n",
      "Saved current best model in eden_model_RF00005\n",
      "CPU times: user 14.6 s, sys: 4.42 s, total: 19.1 s\n",
      "Wall time: 1min 8s\n"
     ]
    }
   ],
   "source": [
    "%%time\n",
    "#make predictive model\n",
    "from eden.model import ActiveLearningBinaryClassificationModel\n",
    "model = ActiveLearningBinaryClassificationModel(pre_processor=pre_processor, \n",
    "                                                estimator=estimator, \n",
    "                                                vectorizer=vectorizer,\n",
    "                                                n_jobs=n_jobs,\n",
    "                                                pre_processor_n_jobs=n_jobs,\n",
    "                                                n_blocks=5)\n",
    "\n",
    "#optimize hyperparameters and fit model\n",
    "from numpy.random import randint\n",
    "from numpy.random import uniform\n",
    "pre_processor_parameters={'max_num':[1,2,3], \n",
    "                          'shape_type':[4,5], \n",
    "                          'energy_range':[5,10,20,30,40]}\n",
    "\n",
    "vectorizer_parameters={'complexity':[2,3]}\n",
    "\n",
    "estimator_parameters={'n_iter':randint(5, 200, size=n_iter),\n",
    "                      'penalty':['l1','l2','elasticnet'],\n",
    "                      'l1_ratio':uniform(0.1,0.9, size=n_iter), \n",
    "                      'loss':['hinge', 'log', 'modified_huber', 'squared_hinge', 'perceptron'],\n",
    "                      'power_t':uniform(0.1, size=n_iter),\n",
    "                      'alpha': [10**x for x in range(-8,0)],\n",
    "                      'eta0': [10**x for x in range(-4,-1)],\n",
    "                      'learning_rate': [\"invscaling\", \"constant\", \"optimal\"],\n",
    "                      'n_jobs':[n_jobs]}\n",
    "\n",
    "model.optimize(iterable_pos_train, iterable_neg_train, \n",
    "               model_name=model_fname,\n",
    "               max_total_time=-1, \n",
    "               n_iter=n_iter,\n",
    "               n_inner_iter_estimator=5,\n",
    "               cv=5,\n",
    "               score_func=lambda avg_score,std_score : avg_score - std_score * 2,\n",
    "               scoring='roc_auc',\n",
    "               two_steps_optimization=True,\n",
    "               pre_processor_parameters=pre_processor_parameters, \n",
    "               vectorizer_parameters=vectorizer_parameters, \n",
    "               estimator_parameters=estimator_parameters)"
   ]
  },
  {
   "cell_type": "code",
   "execution_count": 14,
   "metadata": {
    "collapsed": false
   },
   "outputs": [
    {
     "name": "stdout",
     "output_type": "stream",
     "text": [
      "\n",
      "\tModel parameters:\n",
      "\n",
      "Pre_processor:\n",
      "energy_range: 30\n",
      "   max_num: 3\n",
      "shape_type: 4\n",
      "\n",
      "Vectorizer:\n",
      "complexity: 2\n",
      "\n",
      "Estimator:\n",
      "     alpha: 0.001\n",
      "      eta0: 0.0001\n",
      "  l1_ratio: 0.287536201274\n",
      "learning_rate: optimal\n",
      "      loss: perceptron\n",
      "    n_iter: 184\n",
      "    n_jobs: 8\n",
      "   penalty: l2\n",
      "   power_t: 0.276669542998\n",
      "\n",
      "Classifier:\n",
      "SGDClassifier(alpha=0.001, average=True, class_weight='auto', epsilon=0.1,\n",
      "       eta0=0.0001, fit_intercept=True, l1_ratio=0.28753620127385093,\n",
      "       learning_rate='optimal', loss='perceptron', n_iter=184, n_jobs=8,\n",
      "       penalty='l2', power_t=0.27666954299797003, random_state=None,\n",
      "       shuffle=True, verbose=0, warm_start=False)\n",
      "\n",
      "Data:\n",
      "Instances: 75 ; Features: 1048577 with an avg of 818 features per instance\n",
      "\n",
      "Predictive performace estimate:\n",
      "             precision    recall  f1-score   support\n",
      "\n",
      "         -1       0.81      0.94      0.87        50\n",
      "          1       0.82      0.56      0.67        25\n",
      "\n",
      "avg / total       0.81      0.81      0.80        75\n",
      "\n",
      "APR: 0.829\n",
      "ROC: 0.885\n",
      "CPU times: user 1.8 s, sys: 480 ms, total: 2.28 s\n",
      "Wall time: 4.27 s\n"
     ]
    }
   ],
   "source": [
    "%%time\n",
    "#estimate predictive performance\n",
    "print model.get_parameters()\n",
    "apr, roc = model.estimate( iterable_pos_test, iterable_neg_test )"
   ]
  },
  {
   "cell_type": "markdown",
   "metadata": {},
   "source": [
    "Models can be reloaded from disk"
   ]
  },
  {
   "cell_type": "code",
   "execution_count": null,
   "metadata": {
    "collapsed": false,
    "scrolled": true
   },
   "outputs": [],
   "source": [
    "from eden.model import ActiveLearningBinaryClassificationModel\n",
    "\n",
    "model2 = ActiveLearningBinaryClassificationModel()\n",
    "model2.load(model_fname)\n",
    "\n",
    "from eden.converter.fasta import fasta_to_sequence\n",
    "seqs = fasta_to_sequence( rfam_uri( rfam_id ) )\n",
    "from itertools import tee\n",
    "seqs,seqs_=tee(seqs)\n",
    "iterable_pos = seqs\n",
    "\n",
    "#consier only first 'size' elements\n",
    "from itertools import islice\n",
    "iterable_pos = islice(iterable_pos,size)\n",
    "\n",
    "predictions= model2.decision_function( iterable_pos )\n",
    "for n,i in enumerate(sorted(predictions)): print n,i"
   ]
  },
  {
   "cell_type": "markdown",
   "metadata": {},
   "source": [
    "#ActiveLearningBinaryClassificationModel"
   ]
  },
  {
   "cell_type": "code",
   "execution_count": null,
   "metadata": {
    "collapsed": false
   },
   "outputs": [],
   "source": [
    "#create iterable from files\n",
    "from eden.converter.fasta import fasta_to_sequence\n",
    "seqs = fasta_to_sequence( rfam_uri( rfam_id ) )\n",
    "from itertools import tee\n",
    "seqs,seqs_=tee(seqs)\n",
    "iterable_pos = seqs\n",
    "from eden.modifier.seq import seq_to_seq, shuffle_modifier\n",
    "iterable_neg = seq_to_seq( seqs_, modifier=shuffle_modifier, times=times, order=2 )\n",
    "\n",
    "#consier only first 'size' elements\n",
    "from itertools import islice\n",
    "iterable_pos = islice(iterable_pos,size)\n",
    "iterable_neg = islice(iterable_neg,size*times)\n",
    "\n",
    "#split train/test\n",
    "from eden.util import random_bipartition_iter\n",
    "iterable_pos_train, iterable_pos_test = random_bipartition_iter(iterable_pos, relative_size=train_test_split)\n",
    "iterable_neg_train, iterable_neg_test = random_bipartition_iter(iterable_neg, relative_size=train_test_split)"
   ]
  },
  {
   "cell_type": "code",
   "execution_count": null,
   "metadata": {
    "collapsed": false,
    "scrolled": false
   },
   "outputs": [],
   "source": [
    "%%time\n",
    "#make predictive model\n",
    "from eden.model import ActiveLearningBinaryClassificationModel\n",
    "model = ActiveLearningBinaryClassificationModel(pre_processor=pre_processor, \n",
    "                                                estimator=estimator, \n",
    "                                                vectorizer=vectorizer,\n",
    "                                                n_jobs=n_jobs,\n",
    "                                                pre_processor_n_jobs=n_jobs,\n",
    "                                                n_blocks=8)\n",
    "\n",
    "#optimize hyperparameters and fit model\n",
    "from numpy.random import randint\n",
    "from numpy.random import uniform\n",
    "pre_processor_parameters={'max_num':[1,3], \n",
    "                          'shape_type':[5], \n",
    "                          'energy_range':[10,30]}\n",
    "\n",
    "vectorizer_parameters={'complexity':[2,3]}\n",
    "\n",
    "estimator_parameters={'n_iter':randint(5, 100, size=n_iter),\n",
    "                      'penalty':['l1','l2','elasticnet'],\n",
    "                      'l1_ratio':uniform(0.1,0.9, size=n_iter), \n",
    "                      'loss':['hinge', 'log', 'modified_huber', 'squared_hinge', 'perceptron'],\n",
    "                      'power_t':uniform(0.1, size=n_iter),\n",
    "                      'alpha': [10**x for x in range(-8,0)],\n",
    "                      'eta0': [10**x for x in range(-4,-1)],\n",
    "                      'learning_rate': [\"invscaling\", \"constant\", \"optimal\"],\n",
    "                      'n_jobs':[n_jobs]}\n",
    "active_set_size = size * 2\n",
    "model_fname='eden_model_active_%s'%rfam_id\n",
    "model.optimize(iterable_pos_train, iterable_neg_train, \n",
    "               model_name=model_fname,\n",
    "               score_func=lambda avg_score,std_score : avg_score - std_score * 2,\n",
    "               scoring='roc_auc',\n",
    "               n_active_learning_iterations=4,\n",
    "               n_iter=n_iter, \n",
    "               size_positive=-1,\n",
    "               size_negative=active_set_size,\n",
    "               cv=5,\n",
    "               pre_processor_parameters=pre_processor_parameters, \n",
    "               vectorizer_parameters=vectorizer_parameters, \n",
    "               estimator_parameters=estimator_parameters)"
   ]
  },
  {
   "cell_type": "code",
   "execution_count": null,
   "metadata": {
    "collapsed": false
   },
   "outputs": [],
   "source": [
    "%%time\n",
    "#estimate predictive performance\n",
    "apr, roc = model.estimate( iterable_pos_test, iterable_neg_test )"
   ]
  },
  {
   "cell_type": "code",
   "execution_count": null,
   "metadata": {
    "collapsed": false,
    "scrolled": true
   },
   "outputs": [],
   "source": [
    "from eden.model import ActiveLearningBinaryClassificationModel\n",
    "\n",
    "model2 = ActiveLearningBinaryClassificationModel()\n",
    "model2.load(model_fname)\n",
    "\n",
    "from eden.converter.fasta import fasta_to_sequence\n",
    "seqs = fasta_to_sequence( rfam_uri( rfam_id ) )\n",
    "from itertools import tee\n",
    "seqs,seqs_=tee(seqs)\n",
    "iterable_pos = seqs\n",
    "\n",
    "#consier only first 'size' elements\n",
    "from itertools import islice\n",
    "iterable_pos = islice(iterable_pos,size)\n",
    "\n",
    "predictions= model2.decision_function( iterable_pos )\n",
    "for n,i in enumerate(sorted(predictions)): print n,i"
   ]
  }
 ],
 "metadata": {
  "kernelspec": {
   "display_name": "Python 2",
   "language": "python",
   "name": "python2"
  },
  "language_info": {
   "codemirror_mode": {
    "name": "ipython",
    "version": 2
   },
   "file_extension": ".py",
   "mimetype": "text/x-python",
   "name": "python",
   "nbconvert_exporter": "python",
   "pygments_lexer": "ipython2",
   "version": "2.7.6"
  }
 },
 "nbformat": 4,
 "nbformat_minor": 0
}
