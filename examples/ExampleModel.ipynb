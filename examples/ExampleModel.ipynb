{
 "metadata": {
  "name": "",
  "signature": "sha256:b00b577db8a7c715f242d3bc6356dd681d49671ba552813c06875ec789f8a780"
 },
 "nbformat": 3,
 "nbformat_minor": 0,
 "worksheets": [
  {
   "cells": [
    {
     "cell_type": "markdown",
     "metadata": {},
     "source": [
      "#Sequence Modeling with EDeN\n",
      "##The case for real valued vector labels\n",
      "\n",
      "**Aim:** Suppose you are given two sets of sequences. Each sequence is composed of characters in a finite alphabet. However there are similarity relationships between the characters. We want to build a predictive model that can discriminate between the two sets."
     ]
    },
    {
     "cell_type": "markdown",
     "metadata": {},
     "source": [
      "##Artificial Dataset\n",
      "\n",
      "Lets build an artificial case. We construct two classes in the following way: for each class we start from a specific but random seed sequence, and the full set is then generated every time by permuting the position of k pairs of characters chosen at random in the seed sequence.\n",
      "\n",
      "To simulate the relationship between characters we do as follows: we select at random some charaters and we capitalize them. For the machine, a capitalized character is completely different from its lowercase counterpart, but it is easier for humans to see them. \n",
      "\n",
      "Assume the similarity between chars is given as a symmetric matrix. We can then perform a low dimensionality embedding of the similarity matrix (e.g. MDS in $\\mathbb{R}^4$) and obtain some vector representation for each char such that their euclidean distance is proportional to their dissimilarity. Lets assume we are already given the vector representation. In our case we just take some random vectors as they will be roughly equally distant from each other. In order to simulate that the capitalized version of a cahr should be similar to its lowercase counterpart, we just add a small amount of noise to the vector representation of one of the two.  "
     ]
    },
    {
     "cell_type": "markdown",
     "metadata": {},
     "source": [
      "###Auxiliary Code"
     ]
    },
    {
     "cell_type": "code",
     "collapsed": false,
     "input": [
      "#code for making artificial dataset\n",
      "import random\n",
      "\n",
      "def swap_two_characters(seq):\n",
      "    '''define a function that swaps two characters at random positions in a string '''\n",
      "    line = list(seq)\n",
      "    id_i = random.randint(0,len(line)-1)\n",
      "    id_j = random.randint(0,len(line)-1)\n",
      "    line[id_i], line[id_j] = line[id_j], line[id_i]\n",
      "    return ''.join(line)\n",
      "\n",
      "def swap_characters(seed, n):\n",
      "    seq=seed\n",
      "    for i in range(n):\n",
      "        seq = swap_two_characters(seq)\n",
      "    return seq\n",
      "    \n",
      "def make_seed(start=0, end=26):\n",
      "    seq = ''.join([str(unichr(97+i)) for i in range(start,end)])\n",
      "    return swap_characters(seq, end-start)\n",
      "    \n",
      "def make_dataset(n_sequences=None, seed=None, n_swaps=None):\n",
      "    seqs = []\n",
      "    seqs.append( seed )\n",
      "    for i in range(n_sequences):\n",
      "        seq = swap_characters( seed, n_swaps )\n",
      "        seqs.append( seq )        \n",
      "    return seqs\n",
      "\n",
      "def random_capitalize(seqs, p=0.5):\n",
      "    new_seqs=[]\n",
      "    for seq in seqs:\n",
      "        new_seq = [c.upper() if random.random() < p else c for c in seq ]\n",
      "        new_seqs.append(''.join(new_seq))\n",
      "    return new_seqs\n",
      "\n",
      "def make_artificial_dataset(sequence_length=None, n_sequences=None, n_swaps=None):\n",
      "    seed = make_seed(start=0, end=sequence_length)\n",
      "    print 'Seed: ',seed\n",
      "    seqs = make_dataset(n_sequences=n_sequences, seed=seed, n_swaps=n_swaps)\n",
      "    train_seqs_orig=seqs[:len(seqs)/2]\n",
      "    test_seqs_orig=seqs[len(seqs)/2:]\n",
      "    seqs = random_capitalize(seqs, p=0.5)\n",
      "    print 'Sample with random capitalization:',seqs[:7]\n",
      "    train_seqs=seqs[:len(seqs)/2]\n",
      "    test_seqs=seqs[len(seqs)/2:]\n",
      "    return train_seqs_orig, test_seqs_orig, train_seqs, test_seqs"
     ],
     "language": "python",
     "metadata": {},
     "outputs": [],
     "prompt_number": 1
    },
    {
     "cell_type": "code",
     "collapsed": false,
     "input": [
      "#code to estimate predictive performance on categorical labeled sequences\n",
      "\n",
      "def discriminative_estimate(train_pos_seqs, train_neg_seqs, test_pos_seqs, test_neg_seqs):\n",
      "    from eden.graph import Vectorizer\n",
      "    vectorizer = Vectorizer(complexity=complexity)\n",
      "\n",
      "    from eden.converter.graph.sequence import sequence_to_eden\n",
      "    iterable_pos = sequence_to_eden(train_pos_seqs)\n",
      "    iterable_neg = sequence_to_eden(train_neg_seqs)\n",
      "\n",
      "    from eden.util import  fit, estimate\n",
      "    estimator = fit(iterable_pos,iterable_neg, vectorizer, n_iter_search=n_iter_search)\n",
      "\n",
      "    from eden.converter.graph.sequence import sequence_to_eden\n",
      "    iterable_pos = sequence_to_eden(test_pos_seqs)\n",
      "    iterable_neg = sequence_to_eden(test_neg_seqs)\n",
      "    estimate(iterable_pos, iterable_neg, estimator, vectorizer)"
     ],
     "language": "python",
     "metadata": {},
     "outputs": [],
     "prompt_number": 2
    },
    {
     "cell_type": "code",
     "collapsed": false,
     "input": [
      "#code to create real vector labels\n",
      "def make_encoding(encoding_vector_dimension=3, sequence_length=None, noise_size=0.01):\n",
      "    #vector encoding for chars\n",
      "    default_encoding = [0]*encoding_vector_dimension\n",
      "    start=0\n",
      "    end=sequence_length\n",
      "    #take a list of all chars up to 'length' \n",
      "    char_list = [str(unichr(97+i)) for i in range(start,end)]\n",
      "\n",
      "    encodings={}\n",
      "    import numpy as np\n",
      "    codes = np.random.rand(len(char_list),encoding_vector_dimension)\n",
      "    for i, code in enumerate(codes):\n",
      "        c = str(unichr(97+i))\n",
      "        cc = c.upper()\n",
      "        encoding = list(code)\n",
      "        encodings[c] = encoding\n",
      "        #add noise for the encoding of capitalized chars\n",
      "        noise = np.random.rand(encoding_vector_dimension)*noise_size\n",
      "        encodings[cc] = list(code + noise)\n",
      "    return encodings, default_encoding\n",
      "\n",
      "def make_encodings(n_encodings=3, encoding_vector_dimension=3, sequence_length=None, noise_size=0.01):\n",
      "    encodings=[]\n",
      "    for i in range(1,n_encodings+1):\n",
      "        encoding, default_encoding = make_encoding(encoding_vector_dimension, sequence_length, noise_size=noise_size)\n",
      "        encodings.append(encoding)\n",
      "    return encodings, default_encoding"
     ],
     "language": "python",
     "metadata": {},
     "outputs": [],
     "prompt_number": 3
    },
    {
     "cell_type": "markdown",
     "metadata": {},
     "source": [
      "##Artificial data generation"
     ]
    },
    {
     "cell_type": "code",
     "collapsed": false,
     "input": [
      "#problem parameters\n",
      "random.seed(1)\n",
      "sequence_length = 8 #sequences length\n",
      "n_sequences = 50    #num sequences in positive and negative set\n",
      "n_swaps = 2         #num pairs of chars that are swapped at random\n",
      "n_iter_search = 30  #num paramter configurations that are evaluated in hyperparameter optimization\n",
      "complexity = 2      #feature complexity for the vectorizer \n",
      "n_encodings = 5     #num vector encoding schemes for chars\n",
      "encoding_vector_dimension = 9 #vector dimension for char encoding\n",
      "noise_size = 0.05   #amount of random noise "
     ],
     "language": "python",
     "metadata": {},
     "outputs": [],
     "prompt_number": 4
    },
    {
     "cell_type": "code",
     "collapsed": false,
     "input": [
      "print 'Positive examples:'\n",
      "train_pos_seqs_orig, test_pos_seqs_orig, train_pos_seqs, test_pos_seqs = make_artificial_dataset(sequence_length,n_sequences,n_swaps)\n",
      "print 'Negative examples:'\n",
      "train_neg_seqs_orig, test_neg_seqs_orig, train_neg_seqs, test_neg_seqs = make_artificial_dataset(sequence_length,n_sequences,n_swaps)"
     ],
     "language": "python",
     "metadata": {},
     "outputs": [
      {
       "output_type": "stream",
       "stream": "stdout",
       "text": [
        "Positive examples:\n",
        "Seed:  dgbcefah\n",
        "Sample with random capitalization: ['DgBcEFaH', 'ghbCEFad', 'egBhDFAc', 'cdBgeFaH', 'DGbceFAh', 'bCdGEfAH', 'dFBCAgEh']\n",
        "Negative examples:\n",
        "Seed:  afbdhgce\n",
        "Sample with random capitalization: ['AfbdhGce', 'afcdeGBh', 'dfBGhacE', 'aFBDhGCE', 'ahbcfgde', 'afGdEBch', 'efBdhgcA']\n"
       ]
      }
     ],
     "prompt_number": 5
    },
    {
     "cell_type": "markdown",
     "metadata": {},
     "source": [
      "##Discriminative model on categorical labels"
     ]
    },
    {
     "cell_type": "code",
     "collapsed": false,
     "input": [
      "%%time\n",
      "#lets estimate the predictive performance of a classifier over the original sequences\n",
      "print 'Predictive performance on original sequences'\n",
      "discriminative_estimate(train_pos_seqs_orig, train_neg_seqs_orig, test_pos_seqs_orig, test_neg_seqs_orig)\n",
      "print '\\n\\n'\n",
      "#lets estimate the predictive performance of a classifier over the capitalized sequences\n",
      "print 'Predictive performance on sequences with random capitalization'\n",
      "discriminative_estimate(train_pos_seqs, train_neg_seqs, test_pos_seqs, test_neg_seqs)"
     ],
     "language": "python",
     "metadata": {},
     "outputs": [
      {
       "output_type": "stream",
       "stream": "stdout",
       "text": [
        "Predictive performance on original sequences\n"
       ]
      },
      {
       "output_type": "stream",
       "stream": "stdout",
       "text": [
        "25 0 [(0, 5), (5, 10), (10, 15), (15, 20), (20, 25)]\n"
       ]
      },
      {
       "output_type": "stream",
       "stream": "stdout",
       "text": [
        "25 0 [(0, 5), (5, 10), (10, 15), (15, 20), (20, 25)]\n"
       ]
      },
      {
       "output_type": "stream",
       "stream": "stdout",
       "text": [
        "Classifier:\n",
        "SGDClassifier(alpha=0.000441385128844, average=True, class_weight='auto',\n",
        "       epsilon=0.1, eta0=0.724523454418, fit_intercept=True, l1_ratio=0.15,\n",
        "       learning_rate='constant', loss='hinge', n_iter=34, n_jobs=-1,\n",
        "       penalty='l1', power_t=0.423232936252, random_state=None,\n",
        "       shuffle=True, verbose=0, warm_start=False)\n",
        "--------------------------------------------------------------------------------\n",
        "Predictive performance:\n"
       ]
      },
      {
       "output_type": "stream",
       "stream": "stdout",
       "text": [
        "            accuracy: 0.892 +- 0.158\n"
       ]
      },
      {
       "output_type": "stream",
       "stream": "stdout",
       "text": [
        "           precision: 0.842 +- 0.304\n"
       ]
      },
      {
       "output_type": "stream",
       "stream": "stderr",
       "text": [
        "/Library/Python/2.7/site-packages/sklearn/metrics/classification.py:958: UndefinedMetricWarning: Precision is ill-defined and being set to 0.0 due to no predicted samples.\n",
        "  'precision', 'predicted', average, warn_for)\n"
       ]
      },
      {
       "output_type": "stream",
       "stream": "stdout",
       "text": [
        "              recall: 0.867 +- 0.306\n"
       ]
      },
      {
       "output_type": "stream",
       "stream": "stdout",
       "text": [
        "                  f1: 0.846 +- 0.294\n"
       ]
      },
      {
       "output_type": "stream",
       "stream": "stderr",
       "text": [
        "/Library/Python/2.7/site-packages/sklearn/metrics/classification.py:958: UndefinedMetricWarning: F-score is ill-defined and being set to 0.0 due to no predicted samples.\n",
        "  'precision', 'predicted', average, warn_for)\n"
       ]
      },
      {
       "output_type": "stream",
       "stream": "stdout",
       "text": [
        "   average_precision: 1.000 +- 0.000\n"
       ]
      },
      {
       "output_type": "stream",
       "stream": "stdout",
       "text": [
        "             roc_auc: 1.000 +- 0.000\n",
        "--------------------------------------------------------------------------------\n"
       ]
      },
      {
       "output_type": "stream",
       "stream": "stdout",
       "text": [
        "26 1 [(0, 5), (5, 10), (10, 15), (15, 20), (20, 25)]\n"
       ]
      },
      {
       "output_type": "stream",
       "stream": "stdout",
       "text": [
        "26 1 [(0, 5), (5, 10), (10, 15), (15, 20), (20, 25)]\n",
        "Test set\n",
        "Instances: 50 ; Features: 1048577 with an avg of 63 features per instance\n",
        "--------------------------------------------------------------------------------\n",
        "Test Estimate\n",
        "             precision    recall  f1-score   support\n",
        "\n",
        "         -1       0.84      0.64      0.73        25\n",
        "          1       0.71      0.88      0.79        25\n",
        "\n",
        "avg / total       0.78      0.76      0.76        50\n",
        "\n",
        "APR: 0.874\n",
        "ROC: 0.882\n",
        "\n",
        "\n",
        "\n",
        "Predictive performance on sequences with random capitalization\n"
       ]
      },
      {
       "output_type": "stream",
       "stream": "stdout",
       "text": [
        "25 0 [(0, 5), (5, 10), (10, 15), (15, 20), (20, 25)]\n"
       ]
      },
      {
       "output_type": "stream",
       "stream": "stdout",
       "text": [
        "25 0 [(0, 5), (5, 10), (10, 15), (15, 20), (20, 25)]\n"
       ]
      },
      {
       "output_type": "stream",
       "stream": "stdout",
       "text": [
        "Classifier:\n",
        "SGDClassifier(alpha=0.000755020357661, average=True, class_weight='auto',\n",
        "       epsilon=0.1, eta0=0.0914636864204, fit_intercept=True,\n",
        "       l1_ratio=0.15, learning_rate='optimal', loss='hinge', n_iter=28,\n",
        "       n_jobs=-1, penalty='l2', power_t=0.646571283325, random_state=None,\n",
        "       shuffle=True, verbose=0, warm_start=False)\n",
        "--------------------------------------------------------------------------------\n",
        "Predictive performance:\n"
       ]
      },
      {
       "output_type": "stream",
       "stream": "stdout",
       "text": [
        "            accuracy: 0.767 +- 0.162\n"
       ]
      },
      {
       "output_type": "stream",
       "stream": "stdout",
       "text": [
        "           precision: 0.817 +- 0.200\n"
       ]
      },
      {
       "output_type": "stream",
       "stream": "stdout",
       "text": [
        "              recall: 0.767 +- 0.238\n"
       ]
      },
      {
       "output_type": "stream",
       "stream": "stdout",
       "text": [
        "                  f1: 0.759 +- 0.163\n"
       ]
      },
      {
       "output_type": "stream",
       "stream": "stdout",
       "text": [
        "   average_precision: 0.895 +- 0.101\n"
       ]
      },
      {
       "output_type": "stream",
       "stream": "stdout",
       "text": [
        "             roc_auc: 0.856 +- 0.155\n",
        "--------------------------------------------------------------------------------\n"
       ]
      },
      {
       "output_type": "stream",
       "stream": "stdout",
       "text": [
        "26 1 [(0, 5), (5, 10), (10, 15), (15, 20), (20, 25)]\n"
       ]
      },
      {
       "output_type": "stream",
       "stream": "stdout",
       "text": [
        "26 1 [(0, 5), (5, 10), (10, 15), (15, 20), (20, 25)]\n",
        "Test set\n",
        "Instances: 50 ; Features: 1048577 with an avg of 63 features per instance\n",
        "--------------------------------------------------------------------------------\n",
        "Test Estimate\n",
        "             precision    recall  f1-score   support\n",
        "\n",
        "         -1       0.69      0.80      0.74        25\n",
        "          1       0.76      0.64      0.70        25\n",
        "\n",
        "avg / total       0.73      0.72      0.72        50\n",
        "\n",
        "APR: 0.852\n",
        "ROC: 0.838\n",
        "CPU times: user 3 s, sys: 872 ms, total: 3.87 s\n",
        "Wall time: 25 s\n"
       ]
      }
     ],
     "prompt_number": 6
    },
    {
     "cell_type": "markdown",
     "metadata": {},
     "source": [
      "**Note:** as expected the capitalization makes the predicitve task harder since it expands the vocabulary size and adds variations that look random"
     ]
    },
    {
     "cell_type": "markdown",
     "metadata": {},
     "source": [
      "##Discriminative model on real valued vector labels"
     ]
    },
    {
     "cell_type": "code",
     "collapsed": false,
     "input": [
      "#lets make a vector encoding for the chars simply using a random encoding \n",
      "#and a small amount of noise for the capitalized versions\n",
      "\n",
      "#we can generate a few encodings and let the algorithm choose the best one.\n",
      "encodings, default_encoding = make_encodings(n_encodings, encoding_vector_dimension, sequence_length, noise_size)"
     ],
     "language": "python",
     "metadata": {},
     "outputs": [],
     "prompt_number": 7
    },
    {
     "cell_type": "code",
     "collapsed": false,
     "input": [
      "#lets define the 3 main machines: 1) pre_processor, 2) vectorizer, 3) estimator\n",
      "\n",
      "#the pre_processor takes the raw format and makes graphs\n",
      "def pre_processor( seqs, encoding=None, default_encoding=None, **args ):\n",
      "    #convert sequences to path graphs\n",
      "    from eden.converter.graph.sequence import sequence_to_eden\n",
      "    graphs = sequence_to_eden(seqs)\n",
      "    \n",
      "    #relabel nodes with corresponding vector encoding\n",
      "    from eden.modifier.graph.vertex_attributes import translate \n",
      "    graphs = translate(graphs, label_map = encoding, default = default_encoding)\n",
      "    \n",
      "    return graphs  \n",
      "\n",
      "#the vectorizer takes graphs and makes sparse vectors\n",
      "from eden.graph import Vectorizer\n",
      "vectorizer = Vectorizer()\n",
      "\n",
      "#the estimator takes a sparse data matrix and a target column vector and makes a predictive model \n",
      "from sklearn.linear_model import SGDClassifier\n",
      "estimator = SGDClassifier(class_weight='auto', shuffle=True)\n",
      "\n",
      "#the model takes a pre_processor, a vectorizer, an estimator and returns the predictive model\n",
      "from eden.model import ActiveLearningBinaryClassificationModel\n",
      "model = ActiveLearningBinaryClassificationModel(pre_processor=pre_processor, \n",
      "                                                estimator=estimator, \n",
      "                                                vectorizer=vectorizer, \n",
      "                                                fit_vectorizer=True )"
     ],
     "language": "python",
     "metadata": {},
     "outputs": [],
     "prompt_number": 8
    },
    {
     "cell_type": "code",
     "collapsed": false,
     "input": [
      "#lets define hyper-parameters vaule ranges\n",
      "from numpy.random import randint\n",
      "from numpy.random import uniform\n",
      "\n",
      "pre_processor_parameters={'encoding':encodings, 'default_encoding':[default_encoding]}\n",
      "\n",
      "vectorizer_parameters={'complexity':[complexity],\n",
      "                       'discretization_size':randint(3, 100, size=n_iter_search), \n",
      "                       'discretization_dimension':randint(3, 50, size=n_iter_search)}\n",
      "\n",
      "estimator_parameters={'n_iter':randint(5, 100, size=n_iter_search),\n",
      "                      'penalty':['l1','l2','elasticnet'],\n",
      "                      'l1_ratio':uniform(0.1,0.9, size=n_iter_search), \n",
      "                      'loss':['hinge', 'log', 'modified_huber', 'squared_hinge', 'perceptron'],\n",
      "                      'power_t':uniform(0.1, size=n_iter_search),\n",
      "                      'alpha': [10**x for x in range(-8,0)],\n",
      "                      'eta0': [10**x for x in range(-4,-1)],\n",
      "                      'learning_rate': [\"invscaling\", \"constant\", \"optimal\"]}"
     ],
     "language": "python",
     "metadata": {},
     "outputs": [],
     "prompt_number": 9
    },
    {
     "cell_type": "markdown",
     "metadata": {},
     "source": [
      "##Model Auto Optimization"
     ]
    },
    {
     "cell_type": "code",
     "collapsed": false,
     "input": [
      "%%time\n",
      "#optimize hyperparameters and fit a predictive model\n",
      "\n",
      "#determine optimal parameter configuration\n",
      "model.optimize(train_pos_seqs, train_neg_seqs,\n",
      "               model_name='my_seq.model', \n",
      "               n_active_learning_iterations=0,\n",
      "               n_iter=n_iter_search, cv=3, verbose=1,\n",
      "               pre_processor_parameters=pre_processor_parameters, \n",
      "               vectorizer_parameters=vectorizer_parameters, \n",
      "               estimator_parameters=estimator_parameters)\n",
      "\n",
      "#print optimal parameter configuration\n",
      "model.print_model_parameter_configuration()\n",
      "\n",
      "#evaluate predictive performance\n",
      "apr, roc = model.estimate(test_pos_seqs, test_neg_seqs)"
     ],
     "language": "python",
     "metadata": {},
     "outputs": [
      {
       "output_type": "stream",
       "stream": "stdout",
       "text": [
        "25 0 [(0, 5), (5, 10), (10, 15), (15, 20), (20, 25)]\n"
       ]
      },
      {
       "output_type": "stream",
       "stream": "stdout",
       "text": [
        "25 0 [(0, 5), (5, 10), (10, 15), (15, 20), (20, 25)]\n"
       ]
      },
      {
       "output_type": "stream",
       "stream": "stdout",
       "text": [
        "\n",
        "Iteration: 1/30 (at 1.1 sec; 0:00:01.095775)\n",
        "Best score (roc_auc): 0.915375 (0.951453 +- 0.036078)\n",
        "Instances: 50 ; Features: 1048577 with an avg of 651 features per instance\n",
        "class: 1 count:25 (0.50)\tclass: -1 count:25 (0.50)\t\n"
       ]
      },
      {
       "output_type": "stream",
       "stream": "stdout",
       "text": [
        "25 0 [(0, 5), (5, 10), (10, 15), (15, 20), (20, 25)]\n"
       ]
      },
      {
       "output_type": "stream",
       "stream": "stdout",
       "text": [
        "25 0 [(0, 5), (5, 10), (10, 15), (15, 20), (20, 25)]\n"
       ]
      },
      {
       "output_type": "stream",
       "stream": "stdout",
       "text": [
        "25 0 [(0, 5), (5, 10), (10, 15), (15, 20), (20, 25)]\n"
       ]
      },
      {
       "output_type": "stream",
       "stream": "stdout",
       "text": [
        "25 0 [(0, 5), (5, 10), (10, 15), (15, 20), (20, 25)]\n"
       ]
      },
      {
       "output_type": "stream",
       "stream": "stdout",
       "text": [
        "25 0 [(0, 5), (5, 10), (10, 15), (15, 20), (20, 25)]\n"
       ]
      },
      {
       "output_type": "stream",
       "stream": "stdout",
       "text": [
        "25 0 [(0, 5), (5, 10), (10, 15), (15, 20), (20, 25)]\n"
       ]
      },
      {
       "output_type": "stream",
       "stream": "stdout",
       "text": [
        "25 0 [(0, 5), (5, 10), (10, 15), (15, 20), (20, 25)]\n"
       ]
      },
      {
       "output_type": "stream",
       "stream": "stdout",
       "text": [
        "25 0 [(0, 5), (5, 10), (10, 15), (15, 20), (20, 25)]\n"
       ]
      },
      {
       "output_type": "stream",
       "stream": "stdout",
       "text": [
        "25 0 [(0, 5), (5, 10), (10, 15), (15, 20), (20, 25)]\n"
       ]
      },
      {
       "output_type": "stream",
       "stream": "stdout",
       "text": [
        "25 0 [(0, 5), (5, 10), (10, 15), (15, 20), (20, 25)]\n"
       ]
      },
      {
       "output_type": "stream",
       "stream": "stdout",
       "text": [
        "25 0 [(0, 5), (5, 10), (10, 15), (15, 20), (20, 25)]\n"
       ]
      },
      {
       "output_type": "stream",
       "stream": "stdout",
       "text": [
        "25 0 [(0, 5), (5, 10), (10, 15), (15, 20), (20, 25)]\n"
       ]
      },
      {
       "output_type": "stream",
       "stream": "stdout",
       "text": [
        "25 0 [(0, 5), (5, 10), (10, 15), (15, 20), (20, 25)]\n",
        "\n",
        "Failed iteration: 8/30 (at 24.7 sec; 0:00:24.691562)"
       ]
      },
      {
       "output_type": "stream",
       "stream": "stdout",
       "text": [
        "\n",
        "OS system call failed.\n",
        "\n",
        "\n",
        "Failed iteration: 9/30 (at 24.8 sec; 0:00:24.772524)"
       ]
      },
      {
       "output_type": "stream",
       "stream": "stdout",
       "text": [
        "\n",
        "OS system call failed.\n",
        "\n",
        "\n",
        "Failed iteration: 10/30 (at 28.0 sec; 0:00:27.960211)"
       ]
      },
      {
       "output_type": "stream",
       "stream": "stdout",
       "text": [
        "\n",
        "OS system call failed.\n",
        "\n",
        "\n",
        "Failed iteration: 11/30 (at 28.1 sec; 0:00:28.056941)"
       ]
      },
      {
       "output_type": "stream",
       "stream": "stdout",
       "text": [
        "\n",
        "OS system call failed.\n",
        "\n",
        "\n",
        "Failed iteration: 12/30 (at 28.7 sec; 0:00:28.723897)"
       ]
      },
      {
       "output_type": "stream",
       "stream": "stdout",
       "text": [
        "\n",
        "OS system call failed.\n",
        "\n",
        "\n",
        "Failed iteration: 13/30 (at 30.7 sec; 0:00:30.728889)"
       ]
      },
      {
       "output_type": "stream",
       "stream": "stdout",
       "text": [
        "\n",
        "OS system call failed.\n",
        "\n",
        "\n",
        "Failed iteration: 14/30 (at 31.1 sec; 0:00:31.128478)"
       ]
      },
      {
       "output_type": "stream",
       "stream": "stdout",
       "text": [
        "\n",
        "OS system call failed.\n",
        "\n",
        "\n",
        "Failed iteration: 15/30 (at 31.2 sec; 0:00:31.197665)"
       ]
      },
      {
       "output_type": "stream",
       "stream": "stdout",
       "text": [
        "\n",
        "OS system call failed.\n",
        "\n",
        "\n",
        "Failed iteration: 16/30 (at 31.5 sec; 0:00:31.466827)"
       ]
      },
      {
       "output_type": "stream",
       "stream": "stdout",
       "text": [
        "\n",
        "OS system call failed.\n",
        "\n",
        "\n",
        "Failed iteration: 17/30 (at 32.1 sec; 0:00:32.094027)"
       ]
      },
      {
       "output_type": "stream",
       "stream": "stdout",
       "text": [
        "\n",
        "OS system call failed.\n",
        "\n",
        "\n",
        "Failed iteration: 18/30 (at 32.1 sec; 0:00:32.139355)\n",
        "OS system call failed.\n",
        "\n",
        "\n",
        "Failed iteration: 19/30 (at 35.1 sec; 0:00:35.083843)"
       ]
      },
      {
       "output_type": "stream",
       "stream": "stdout",
       "text": [
        "\n",
        "OS system call failed.\n",
        "\n",
        "\n",
        "Failed iteration: 20/30 (at 35.1 sec; 0:00:35.148062)"
       ]
      },
      {
       "output_type": "stream",
       "stream": "stdout",
       "text": [
        "\n",
        "OS system call failed.\n",
        "\n",
        "\n",
        "Failed iteration: 21/30 (at 35.3 sec; 0:00:35.263598)"
       ]
      },
      {
       "output_type": "stream",
       "stream": "stdout",
       "text": [
        "\n",
        "OS system call failed.\n",
        "\n",
        "\n",
        "Failed iteration: 22/30 (at 37.0 sec; 0:00:37.009280)"
       ]
      },
      {
       "output_type": "stream",
       "stream": "stdout",
       "text": [
        "\n",
        "OS system call failed.\n",
        "\n",
        "\n",
        "Failed iteration: 23/30 (at 37.1 sec; 0:00:37.120707)"
       ]
      },
      {
       "output_type": "stream",
       "stream": "stdout",
       "text": [
        "\n",
        "OS system call failed.\n",
        "\n",
        "\n",
        "Failed iteration: 24/30 (at 37.2 sec; 0:00:37.163022)\n",
        "OS system call failed.\n",
        "\n",
        "\n",
        "Failed iteration: 25/30 (at 37.2 sec; 0:00:37.175844)"
       ]
      },
      {
       "output_type": "stream",
       "stream": "stdout",
       "text": [
        "\n",
        "OS system call failed.\n",
        "\n",
        "\n",
        "Failed iteration: 26/30 (at 37.2 sec; 0:00:37.210283)\n",
        "OS system call failed.\n",
        "\n",
        "\n",
        "Failed iteration: 27/30 (at 38.9 sec; 0:00:38.948949)"
       ]
      },
      {
       "output_type": "stream",
       "stream": "stdout",
       "text": [
        "\n",
        "OS system call failed.\n",
        "\n",
        "\n",
        "Failed iteration: 28/30 (at 39.2 sec; 0:00:39.221690)"
       ]
      },
      {
       "output_type": "stream",
       "stream": "stdout",
       "text": [
        "\n",
        "OS system call failed.\n",
        "\n",
        "\n",
        "Failed iteration: 29/30 (at 39.3 sec; 0:00:39.292250)"
       ]
      },
      {
       "output_type": "stream",
       "stream": "stdout",
       "text": [
        "\n",
        "OS system call failed.\n",
        "\n",
        "\n",
        "Failed iteration: 30/30 (at 40.3 sec; 0:00:40.343515)"
       ]
      },
      {
       "output_type": "stream",
       "stream": "stdout",
       "text": [
        "\n",
        "OS system call failed.\n",
        "\n",
        "--------------------------------------------------------------------------------"
       ]
      },
      {
       "output_type": "stream",
       "stream": "stdout",
       "text": [
        "\n",
        "Current parameters:\n",
        "Pre_processor:\n",
        "{'default_encoding': [0, 0, 0, 0, 0, 0, 0, 0, 0],\n",
        " 'encoding': {'A': [0.70205046654181358,\n",
        "                    0.34906632484200784,\n",
        "                    0.45090349127393875,\n",
        "                    0.41478162872023183,\n",
        "                    0.24624319529902322,\n",
        "                    0.19922716241627508,\n",
        "                    0.48574316272667434,\n",
        "                    0.80694094696565455,\n",
        "                    0.83757446231573174],\n",
        "              'B': [0.49675005759244323,\n",
        "                    0.41107467481598919,\n",
        "                    0.27164822853317838,\n",
        "                    0.10812715567099687,\n",
        "                    0.14217082181179519,\n",
        "                    0.85853898580432553,\n",
        "                    0.72759919663621608,\n",
        "                    0.97582780626805299,\n",
        "                    0.65711812501502276],\n",
        "              'C': [0.54839969437192504,\n",
        "                    0.079713510733690082,\n",
        "                    0.31129168026733051,\n",
        "                    0.23213836159444245,\n",
        "                    0.21756393009646374,\n",
        "                    1.0116420646027775,\n",
        "                    0.35421329669128843,\n",
        "                    0.12070506735367355,\n",
        "                    0.3480419253751581],\n",
        "              'D': [0.11068331277117459,\n",
        "                    0.49090603948005312,\n",
        "                    0.4339823866836342,\n",
        "                    0.46026622227819236,\n",
        "                    0.60009788821320309,\n",
        "                    1.032663915242835,\n",
        "                    0.082217774924984346,\n",
        "                    0.454790877102214,\n",
        "                    0.29271594073222446],\n",
        "              'E': [0.53518983616986937,\n",
        "                    0.62762081613549692,\n",
        "                    0.11144301140630046,\n",
        "                    0.15152519755203703,\n",
        "                    0.46209709944627009,\n",
        "                    0.481915617829201,\n",
        "                    0.31290213271165768,\n",
        "                    0.54548449607091176,\n",
        "                    0.39138142052782388],\n",
        "              'F': [0.34586113450549805,\n",
        "                    0.77722361545671914,\n",
        "                    1.0288225250656544,\n",
        "                    0.38043551006160126,\n",
        "                    0.1345288975137755,\n",
        "                    0.50351563205871641,\n",
        "                    1.0106256477700555,\n",
        "                    0.44861747817362679,\n",
        "                    0.99731486993401053],\n",
        "              'G': [0.74662338101573866,\n",
        "                    0.29325553296443402,\n",
        "                    0.97539098165251814,\n",
        "                    0.90268011262334258,\n",
        "                    0.037103391780001979,\n",
        "                    0.16032498560777714,\n",
        "                    0.52344840261200498,\n",
        "                    0.6913031157709093,\n",
        "                    0.1438967265967106],\n",
        "              'H': [0.78065000798507023,\n",
        "                    0.8684249242951203,\n",
        "                    0.28360532112640974,\n",
        "                    0.72229884615363227,\n",
        "                    0.7494910397087331,\n",
        "                    0.14752768846484701,\n",
        "                    0.5475745115557128,\n",
        "                    0.52248972343308275,\n",
        "                    0.7561153568336566],\n",
        "              'a': [0.69581832509143482,\n",
        "                    0.33868050746279854,\n",
        "                    0.42656937190272148,\n",
        "                    0.4146337832907615,\n",
        "                    0.21478552661987738,\n",
        "                    0.16141380565777719,\n",
        "                    0.46646032542545768,\n",
        "                    0.79069825546053452,\n",
        "                    0.79155949098698331],\n",
        "              'b': [0.49168470930260699,\n",
        "                    0.39135447062323603,\n",
        "                    0.24935054241926125,\n",
        "                    0.099419384867176941,\n",
        "                    0.094491420224655953,\n",
        "                    0.81421606907569055,\n",
        "                    0.72638025461217759,\n",
        "                    0.95532701037194589,\n",
        "                    0.64486750082524535],\n",
        "              'c': [0.54254821540395515,\n",
        "                    0.068364992215990905,\n",
        "                    0.30723062567617987,\n",
        "                    0.18278712102268058,\n",
        "                    0.19624525659027092,\n",
        "                    0.99722136045460985,\n",
        "                    0.32859391986160824,\n",
        "                    0.1136484096770809,\n",
        "                    0.34798535844827883],\n",
        "              'd': [0.074829320367075569,\n",
        "                    0.46582978212321569,\n",
        "                    0.40942825711005981,\n",
        "                    0.42982131778185906,\n",
        "                    0.57019708744744968,\n",
        "                    0.99148939159002203,\n",
        "                    0.067678094782099296,\n",
        "                    0.4140378604263768,\n",
        "                    0.26622539897467945],\n",
        "              'e': [0.53496210271349864,\n",
        "                    0.62257862786419249,\n",
        "                    0.10342230246500428,\n",
        "                    0.12174940670966528,\n",
        "                    0.43850487904236379,\n",
        "                    0.44076923245585098,\n",
        "                    0.30252285037302162,\n",
        "                    0.51979619189904069,\n",
        "                    0.34220356982933386],\n",
        "              'f': [0.32676469957993204,\n",
        "                    0.77084208945748189,\n",
        "                    0.98746035515741593,\n",
        "                    0.37692834811709341,\n",
        "                    0.11101886139800365,\n",
        "                    0.48163407403442904,\n",
        "                    0.96126649993366098,\n",
        "                    0.43800701000389264,\n",
        "                    0.96350952862006234],\n",
        "              'g': [0.71976695968119264,\n",
        "                    0.27435231924467107,\n",
        "                    0.93928653562851283,\n",
        "                    0.85527653251878755,\n",
        "                    0.0065201446318726708,\n",
        "                    0.15908514760470061,\n",
        "                    0.47426684221201665,\n",
        "                    0.67159185593659432,\n",
        "                    0.12020929195962071],\n",
        "              'h': [0.73832201111025442,\n",
        "                    0.83184978286210987,\n",
        "                    0.27078867745980284,\n",
        "                    0.69266037368926714,\n",
        "                    0.7005914867263876,\n",
        "                    0.11285619464181851,\n",
        "                    0.52493317002386131,\n",
        "                    0.50786900185334583,\n",
        "                    0.74110371661120344]}}\n",
        "Vectorizer:\n",
        "{'complexity': 2, 'discretization_dimension': 15, 'discretization_size': 8}\n",
        "Estimator:\n",
        "{'alpha': 0.01,\n",
        " 'eta0': 0.001,\n",
        " 'l1_ratio': 0.85053340300696445,\n",
        " 'learning_rate': 'optimal',\n",
        " 'loss': 'modified_huber',\n",
        " 'n_iter': 9,\n",
        " 'penalty': 'l1',\n",
        " 'power_t': 0.91636515202771895}\n",
        "--------------------------------------------------------------------------------\n",
        "Classifier:\n",
        "SGDClassifier(alpha=0.01, average=False, class_weight='auto', epsilon=0.1,\n",
        "       eta0=0.001, fit_intercept=True, l1_ratio=0.85053340300696445,\n",
        "       learning_rate='optimal', loss='modified_huber', n_iter=9, n_jobs=1,\n",
        "       penalty='l1', power_t=0.91636515202771895, random_state=None,\n",
        "       shuffle=True, verbose=0, warm_start=False)\n",
        "--------------------------------------------------------------------------------\n"
       ]
      },
      {
       "output_type": "stream",
       "stream": "stdout",
       "text": [
        "26 1 [(0, 5), (5, 10), (10, 15), (15, 20), (20, 25)]\n"
       ]
      },
      {
       "ename": "OSError",
       "evalue": "[Errno 24] Too many open files",
       "output_type": "pyerr",
       "traceback": [
        "\u001b[0;31m---------------------------------------------------------------------------\u001b[0m\n\u001b[0;31mOSError\u001b[0m                                   Traceback (most recent call last)",
        "\u001b[0;32m<ipython-input-10-848a0eb052fe>\u001b[0m in \u001b[0;36m<module>\u001b[0;34m()\u001b[0m\n\u001b[0;32m----> 1\u001b[0;31m \u001b[0mget_ipython\u001b[0m\u001b[0;34m(\u001b[0m\u001b[0;34m)\u001b[0m\u001b[0;34m.\u001b[0m\u001b[0mrun_cell_magic\u001b[0m\u001b[0;34m(\u001b[0m\u001b[0;34mu'time'\u001b[0m\u001b[0;34m,\u001b[0m \u001b[0;34mu''\u001b[0m\u001b[0;34m,\u001b[0m \u001b[0;34mu\"#optimize hyperparameters and fit a predictive model\\n\\n#determine optimal parameter configuration\\nmodel.optimize(train_pos_seqs, train_neg_seqs,\\n               model_name='my_seq.model', \\n               n_active_learning_iterations=0,\\n               n_iter=n_iter_search, cv=3, verbose=1,\\n               pre_processor_parameters=pre_processor_parameters, \\n               vectorizer_parameters=vectorizer_parameters, \\n               estimator_parameters=estimator_parameters)\\n\\n#print optimal parameter configuration\\nmodel.print_model_parameter_configuration()\\n\\n#evaluate predictive performance\\napr, roc = model.estimate(test_pos_seqs, test_neg_seqs)\"\u001b[0m\u001b[0;34m)\u001b[0m\u001b[0;34m\u001b[0m\u001b[0m\n\u001b[0m",
        "\u001b[0;32m/Library/Python/2.7/site-packages/IPython/core/interactiveshell.pyc\u001b[0m in \u001b[0;36mrun_cell_magic\u001b[0;34m(self, magic_name, line, cell)\u001b[0m\n\u001b[1;32m   2160\u001b[0m             \u001b[0mmagic_arg_s\u001b[0m \u001b[0;34m=\u001b[0m \u001b[0mself\u001b[0m\u001b[0;34m.\u001b[0m\u001b[0mvar_expand\u001b[0m\u001b[0;34m(\u001b[0m\u001b[0mline\u001b[0m\u001b[0;34m,\u001b[0m \u001b[0mstack_depth\u001b[0m\u001b[0;34m)\u001b[0m\u001b[0;34m\u001b[0m\u001b[0m\n\u001b[1;32m   2161\u001b[0m             \u001b[0;32mwith\u001b[0m \u001b[0mself\u001b[0m\u001b[0;34m.\u001b[0m\u001b[0mbuiltin_trap\u001b[0m\u001b[0;34m:\u001b[0m\u001b[0;34m\u001b[0m\u001b[0m\n\u001b[0;32m-> 2162\u001b[0;31m                 \u001b[0mresult\u001b[0m \u001b[0;34m=\u001b[0m \u001b[0mfn\u001b[0m\u001b[0;34m(\u001b[0m\u001b[0mmagic_arg_s\u001b[0m\u001b[0;34m,\u001b[0m \u001b[0mcell\u001b[0m\u001b[0;34m)\u001b[0m\u001b[0;34m\u001b[0m\u001b[0m\n\u001b[0m\u001b[1;32m   2163\u001b[0m             \u001b[0;32mreturn\u001b[0m \u001b[0mresult\u001b[0m\u001b[0;34m\u001b[0m\u001b[0m\n\u001b[1;32m   2164\u001b[0m \u001b[0;34m\u001b[0m\u001b[0m\n",
        "\u001b[0;32m/Library/Python/2.7/site-packages/IPython/core/magics/execution.pyc\u001b[0m in \u001b[0;36mtime\u001b[0;34m(self, line, cell, local_ns)\u001b[0m\n",
        "\u001b[0;32m/Library/Python/2.7/site-packages/IPython/core/magic.pyc\u001b[0m in \u001b[0;36m<lambda>\u001b[0;34m(f, *a, **k)\u001b[0m\n\u001b[1;32m    191\u001b[0m     \u001b[0;31m# but it's overkill for just that one bit of state.\u001b[0m\u001b[0;34m\u001b[0m\u001b[0;34m\u001b[0m\u001b[0m\n\u001b[1;32m    192\u001b[0m     \u001b[0;32mdef\u001b[0m \u001b[0mmagic_deco\u001b[0m\u001b[0;34m(\u001b[0m\u001b[0marg\u001b[0m\u001b[0;34m)\u001b[0m\u001b[0;34m:\u001b[0m\u001b[0;34m\u001b[0m\u001b[0m\n\u001b[0;32m--> 193\u001b[0;31m         \u001b[0mcall\u001b[0m \u001b[0;34m=\u001b[0m \u001b[0;32mlambda\u001b[0m \u001b[0mf\u001b[0m\u001b[0;34m,\u001b[0m \u001b[0;34m*\u001b[0m\u001b[0ma\u001b[0m\u001b[0;34m,\u001b[0m \u001b[0;34m**\u001b[0m\u001b[0mk\u001b[0m\u001b[0;34m:\u001b[0m \u001b[0mf\u001b[0m\u001b[0;34m(\u001b[0m\u001b[0;34m*\u001b[0m\u001b[0ma\u001b[0m\u001b[0;34m,\u001b[0m \u001b[0;34m**\u001b[0m\u001b[0mk\u001b[0m\u001b[0;34m)\u001b[0m\u001b[0;34m\u001b[0m\u001b[0m\n\u001b[0m\u001b[1;32m    194\u001b[0m \u001b[0;34m\u001b[0m\u001b[0m\n\u001b[1;32m    195\u001b[0m         \u001b[0;32mif\u001b[0m \u001b[0mcallable\u001b[0m\u001b[0;34m(\u001b[0m\u001b[0marg\u001b[0m\u001b[0;34m)\u001b[0m\u001b[0;34m:\u001b[0m\u001b[0;34m\u001b[0m\u001b[0m\n",
        "\u001b[0;32m/Library/Python/2.7/site-packages/IPython/core/magics/execution.pyc\u001b[0m in \u001b[0;36mtime\u001b[0;34m(self, line, cell, local_ns)\u001b[0m\n\u001b[1;32m   1127\u001b[0m         \u001b[0;32melse\u001b[0m\u001b[0;34m:\u001b[0m\u001b[0;34m\u001b[0m\u001b[0m\n\u001b[1;32m   1128\u001b[0m             \u001b[0mst\u001b[0m \u001b[0;34m=\u001b[0m \u001b[0mclock2\u001b[0m\u001b[0;34m(\u001b[0m\u001b[0;34m)\u001b[0m\u001b[0;34m\u001b[0m\u001b[0m\n\u001b[0;32m-> 1129\u001b[0;31m             \u001b[0;32mexec\u001b[0m\u001b[0;34m(\u001b[0m\u001b[0mcode\u001b[0m\u001b[0;34m,\u001b[0m \u001b[0mglob\u001b[0m\u001b[0;34m,\u001b[0m \u001b[0mlocal_ns\u001b[0m\u001b[0;34m)\u001b[0m\u001b[0;34m\u001b[0m\u001b[0m\n\u001b[0m\u001b[1;32m   1130\u001b[0m             \u001b[0mend\u001b[0m \u001b[0;34m=\u001b[0m \u001b[0mclock2\u001b[0m\u001b[0;34m(\u001b[0m\u001b[0;34m)\u001b[0m\u001b[0;34m\u001b[0m\u001b[0m\n\u001b[1;32m   1131\u001b[0m             \u001b[0mout\u001b[0m \u001b[0;34m=\u001b[0m \u001b[0mNone\u001b[0m\u001b[0;34m\u001b[0m\u001b[0m\n",
        "\u001b[0;32m<timed exec>\u001b[0m in \u001b[0;36m<module>\u001b[0;34m()\u001b[0m\n",
        "\u001b[0;32m/Users/costa/Desktop/BTSync/Projects/EDeN/EDeN/eden/model.pyc\u001b[0m in \u001b[0;36mestimate\u001b[0;34m(self, iterable_pos, iterable_neg)\u001b[0m\n\u001b[1;32m    128\u001b[0m         \u001b[0;32mprint\u001b[0m \u001b[0mself\u001b[0m\u001b[0;34m.\u001b[0m\u001b[0mestimator\u001b[0m\u001b[0;34m\u001b[0m\u001b[0m\n\u001b[1;32m    129\u001b[0m         \u001b[0;32mprint\u001b[0m \u001b[0;34m'-'\u001b[0m \u001b[0;34m*\u001b[0m \u001b[0;36m80\u001b[0m\u001b[0;34m\u001b[0m\u001b[0m\n\u001b[0;32m--> 130\u001b[0;31m         \u001b[0mX\u001b[0m\u001b[0;34m,\u001b[0m \u001b[0my\u001b[0m \u001b[0;34m=\u001b[0m \u001b[0mself\u001b[0m\u001b[0;34m.\u001b[0m\u001b[0m_data_matrices\u001b[0m\u001b[0;34m(\u001b[0m\u001b[0miterable_pos\u001b[0m\u001b[0;34m,\u001b[0m \u001b[0miterable_neg\u001b[0m\u001b[0;34m)\u001b[0m\u001b[0;34m\u001b[0m\u001b[0m\n\u001b[0m\u001b[1;32m    131\u001b[0m         \u001b[0;32mprint\u001b[0m \u001b[0;34m'Instances: %d ; Features: %d with an avg of %d features per instance'\u001b[0m \u001b[0;34m%\u001b[0m \u001b[0;34m(\u001b[0m\u001b[0mX\u001b[0m\u001b[0;34m.\u001b[0m\u001b[0mshape\u001b[0m\u001b[0;34m[\u001b[0m\u001b[0;36m0\u001b[0m\u001b[0;34m]\u001b[0m\u001b[0;34m,\u001b[0m \u001b[0mX\u001b[0m\u001b[0;34m.\u001b[0m\u001b[0mshape\u001b[0m\u001b[0;34m[\u001b[0m\u001b[0;36m1\u001b[0m\u001b[0;34m]\u001b[0m\u001b[0;34m,\u001b[0m  \u001b[0mX\u001b[0m\u001b[0;34m.\u001b[0m\u001b[0mgetnnz\u001b[0m\u001b[0;34m(\u001b[0m\u001b[0;34m)\u001b[0m \u001b[0;34m/\u001b[0m \u001b[0mX\u001b[0m\u001b[0;34m.\u001b[0m\u001b[0mshape\u001b[0m\u001b[0;34m[\u001b[0m\u001b[0;36m0\u001b[0m\u001b[0;34m]\u001b[0m\u001b[0;34m)\u001b[0m\u001b[0;34m\u001b[0m\u001b[0m\n\u001b[1;32m    132\u001b[0m         \u001b[0;32mprint\u001b[0m \u001b[0;34m'-'\u001b[0m \u001b[0;34m*\u001b[0m \u001b[0;36m80\u001b[0m\u001b[0;34m\u001b[0m\u001b[0m\n",
        "\u001b[0;32m/Users/costa/Desktop/BTSync/Projects/EDeN/EDeN/eden/model.pyc\u001b[0m in \u001b[0;36m_data_matrices\u001b[0;34m(self, iterable_pos, iterable_neg)\u001b[0m\n\u001b[1;32m     81\u001b[0m         \u001b[0mXpos\u001b[0m \u001b[0;34m=\u001b[0m \u001b[0mvectorize\u001b[0m\u001b[0;34m(\u001b[0m\u001b[0miterator_pos\u001b[0m\u001b[0;34m,\u001b[0m \u001b[0mvectorizer\u001b[0m\u001b[0;34m=\u001b[0m\u001b[0mself\u001b[0m\u001b[0;34m.\u001b[0m\u001b[0mvectorizer\u001b[0m\u001b[0;34m,\u001b[0m \u001b[0mn_jobs\u001b[0m\u001b[0;34m=\u001b[0m\u001b[0mself\u001b[0m\u001b[0;34m.\u001b[0m\u001b[0mn_jobs\u001b[0m\u001b[0;34m,\u001b[0m \u001b[0mn_blocks\u001b[0m\u001b[0;34m=\u001b[0m\u001b[0mself\u001b[0m\u001b[0;34m.\u001b[0m\u001b[0mn_blocks\u001b[0m\u001b[0;34m)\u001b[0m\u001b[0;34m\u001b[0m\u001b[0m\n\u001b[1;32m     82\u001b[0m         \u001b[0miterator_neg\u001b[0m \u001b[0;34m=\u001b[0m \u001b[0mself\u001b[0m\u001b[0;34m.\u001b[0m\u001b[0mpre_processor\u001b[0m\u001b[0;34m(\u001b[0m\u001b[0miterable_neg\u001b[0m\u001b[0;34m,\u001b[0m \u001b[0;34m**\u001b[0m\u001b[0mself\u001b[0m\u001b[0;34m.\u001b[0m\u001b[0mpre_processor_args\u001b[0m\u001b[0;34m)\u001b[0m\u001b[0;34m\u001b[0m\u001b[0m\n\u001b[0;32m---> 83\u001b[0;31m         \u001b[0mXneg\u001b[0m \u001b[0;34m=\u001b[0m \u001b[0mvectorize\u001b[0m\u001b[0;34m(\u001b[0m\u001b[0miterator_neg\u001b[0m\u001b[0;34m,\u001b[0m \u001b[0mvectorizer\u001b[0m\u001b[0;34m=\u001b[0m\u001b[0mself\u001b[0m\u001b[0;34m.\u001b[0m\u001b[0mvectorizer\u001b[0m\u001b[0;34m,\u001b[0m \u001b[0mn_jobs\u001b[0m\u001b[0;34m=\u001b[0m\u001b[0mself\u001b[0m\u001b[0;34m.\u001b[0m\u001b[0mn_jobs\u001b[0m\u001b[0;34m,\u001b[0m \u001b[0mn_blocks\u001b[0m\u001b[0;34m=\u001b[0m\u001b[0mself\u001b[0m\u001b[0;34m.\u001b[0m\u001b[0mn_blocks\u001b[0m\u001b[0;34m)\u001b[0m\u001b[0;34m\u001b[0m\u001b[0m\n\u001b[0m\u001b[1;32m     84\u001b[0m         \u001b[0;32mreturn\u001b[0m \u001b[0mself\u001b[0m\u001b[0;34m.\u001b[0m\u001b[0m_assemble_data_matrix\u001b[0m\u001b[0;34m(\u001b[0m\u001b[0mXpos\u001b[0m\u001b[0;34m,\u001b[0m \u001b[0mXneg\u001b[0m\u001b[0;34m)\u001b[0m\u001b[0;34m\u001b[0m\u001b[0m\n\u001b[1;32m     85\u001b[0m \u001b[0;34m\u001b[0m\u001b[0m\n",
        "\u001b[0;32m/Users/costa/Desktop/BTSync/Projects/EDeN/EDeN/eden/__init__.py\u001b[0m in \u001b[0;36mvectorize\u001b[0;34m(graphs, vectorizer, n_blocks, n_jobs)\u001b[0m\n\u001b[1;32m     45\u001b[0m     \u001b[0;32melse\u001b[0m\u001b[0;34m:\u001b[0m\u001b[0;34m\u001b[0m\u001b[0m\n\u001b[1;32m     46\u001b[0m         \u001b[0;32mreturn\u001b[0m \u001b[0mmultiprocess_vectorize\u001b[0m\u001b[0;34m(\u001b[0m\u001b[0mgraphs\u001b[0m\u001b[0;34m,\u001b[0m \u001b[0mvectorizer\u001b[0m\u001b[0;34m=\u001b[0m\u001b[0mvectorizer\u001b[0m\u001b[0;34m,\u001b[0m \u001b[0mn_blocks\u001b[0m\u001b[0;34m=\u001b[0m\u001b[0mn_blocks\u001b[0m\u001b[0;34m,\u001b[0m \u001b[0mn_jobs\u001b[0m\u001b[0;34m=\u001b[0m\u001b[0mn_jobs\u001b[0m\u001b[0;34m)\u001b[0m\u001b[0;34m\u001b[0m\u001b[0m\n\u001b[0;32m---> 47\u001b[0;31m \u001b[0;34m\u001b[0m\u001b[0m\n\u001b[0m\u001b[1;32m     48\u001b[0m \u001b[0;34m\u001b[0m\u001b[0m\n\u001b[1;32m     49\u001b[0m \u001b[0;32mdef\u001b[0m \u001b[0mcalc_running_hash\u001b[0m\u001b[0;34m(\u001b[0m\u001b[0mrunning_hash\u001b[0m\u001b[0;34m,\u001b[0m \u001b[0mlist_item\u001b[0m\u001b[0;34m,\u001b[0m \u001b[0mcounter\u001b[0m\u001b[0;34m)\u001b[0m\u001b[0;34m:\u001b[0m\u001b[0;34m\u001b[0m\u001b[0m\n",
        "\u001b[0;32m/Users/costa/Desktop/BTSync/Projects/EDeN/EDeN/eden/__init__.py\u001b[0m in \u001b[0;36mmultiprocess_vectorize\u001b[0;34m(graphs, vectorizer, n_blocks, n_jobs)\u001b[0m\n\u001b[1;32m     24\u001b[0m     \u001b[0mreminder\u001b[0m \u001b[0;34m=\u001b[0m \u001b[0msize\u001b[0m \u001b[0;34m%\u001b[0m \u001b[0mn_blocks\u001b[0m\u001b[0;34m\u001b[0m\u001b[0m\n\u001b[1;32m     25\u001b[0m     \u001b[0;32mif\u001b[0m \u001b[0mn_jobs\u001b[0m \u001b[0;34m==\u001b[0m \u001b[0;34m-\u001b[0m\u001b[0;36m1\u001b[0m\u001b[0;34m:\u001b[0m\u001b[0;34m\u001b[0m\u001b[0m\n\u001b[0;32m---> 26\u001b[0;31m         \u001b[0mpool\u001b[0m \u001b[0;34m=\u001b[0m \u001b[0mmp\u001b[0m\u001b[0;34m.\u001b[0m\u001b[0mPool\u001b[0m\u001b[0;34m(\u001b[0m\u001b[0;34m)\u001b[0m\u001b[0;34m\u001b[0m\u001b[0m\n\u001b[0m\u001b[1;32m     27\u001b[0m     \u001b[0;32melse\u001b[0m\u001b[0;34m:\u001b[0m\u001b[0;34m\u001b[0m\u001b[0m\n\u001b[1;32m     28\u001b[0m         \u001b[0mpool\u001b[0m \u001b[0;34m=\u001b[0m \u001b[0mmp\u001b[0m\u001b[0;34m.\u001b[0m\u001b[0mPool\u001b[0m\u001b[0;34m(\u001b[0m\u001b[0mprocesses\u001b[0m\u001b[0;34m=\u001b[0m\u001b[0mn_jobs\u001b[0m\u001b[0;34m)\u001b[0m\u001b[0;34m\u001b[0m\u001b[0m\n",
        "\u001b[0;32m/System/Library/Frameworks/Python.framework/Versions/2.7/lib/python2.7/multiprocessing/__init__.pyc\u001b[0m in \u001b[0;36mPool\u001b[0;34m(processes, initializer, initargs, maxtasksperchild)\u001b[0m\n\u001b[1;32m    230\u001b[0m     '''\n\u001b[1;32m    231\u001b[0m     \u001b[0;32mfrom\u001b[0m \u001b[0mmultiprocessing\u001b[0m\u001b[0;34m.\u001b[0m\u001b[0mpool\u001b[0m \u001b[0;32mimport\u001b[0m \u001b[0mPool\u001b[0m\u001b[0;34m\u001b[0m\u001b[0m\n\u001b[0;32m--> 232\u001b[0;31m     \u001b[0;32mreturn\u001b[0m \u001b[0mPool\u001b[0m\u001b[0;34m(\u001b[0m\u001b[0mprocesses\u001b[0m\u001b[0;34m,\u001b[0m \u001b[0minitializer\u001b[0m\u001b[0;34m,\u001b[0m \u001b[0minitargs\u001b[0m\u001b[0;34m,\u001b[0m \u001b[0mmaxtasksperchild\u001b[0m\u001b[0;34m)\u001b[0m\u001b[0;34m\u001b[0m\u001b[0m\n\u001b[0m\u001b[1;32m    233\u001b[0m \u001b[0;34m\u001b[0m\u001b[0m\n\u001b[1;32m    234\u001b[0m \u001b[0;32mdef\u001b[0m \u001b[0mRawValue\u001b[0m\u001b[0;34m(\u001b[0m\u001b[0mtypecode_or_type\u001b[0m\u001b[0;34m,\u001b[0m \u001b[0;34m*\u001b[0m\u001b[0margs\u001b[0m\u001b[0;34m)\u001b[0m\u001b[0;34m:\u001b[0m\u001b[0;34m\u001b[0m\u001b[0m\n",
        "\u001b[0;32m/System/Library/Frameworks/Python.framework/Versions/2.7/lib/python2.7/multiprocessing/pool.pyc\u001b[0m in \u001b[0;36m__init__\u001b[0;34m(self, processes, initializer, initargs, maxtasksperchild)\u001b[0m\n\u001b[1;32m    136\u001b[0m     def __init__(self, processes=None, initializer=None, initargs=(),\n\u001b[1;32m    137\u001b[0m                  maxtasksperchild=None):\n\u001b[0;32m--> 138\u001b[0;31m         \u001b[0mself\u001b[0m\u001b[0;34m.\u001b[0m\u001b[0m_setup_queues\u001b[0m\u001b[0;34m(\u001b[0m\u001b[0;34m)\u001b[0m\u001b[0;34m\u001b[0m\u001b[0m\n\u001b[0m\u001b[1;32m    139\u001b[0m         \u001b[0mself\u001b[0m\u001b[0;34m.\u001b[0m\u001b[0m_taskqueue\u001b[0m \u001b[0;34m=\u001b[0m \u001b[0mQueue\u001b[0m\u001b[0;34m.\u001b[0m\u001b[0mQueue\u001b[0m\u001b[0;34m(\u001b[0m\u001b[0;34m)\u001b[0m\u001b[0;34m\u001b[0m\u001b[0m\n\u001b[1;32m    140\u001b[0m         \u001b[0mself\u001b[0m\u001b[0;34m.\u001b[0m\u001b[0m_cache\u001b[0m \u001b[0;34m=\u001b[0m \u001b[0;34m{\u001b[0m\u001b[0;34m}\u001b[0m\u001b[0;34m\u001b[0m\u001b[0m\n",
        "\u001b[0;32m/System/Library/Frameworks/Python.framework/Versions/2.7/lib/python2.7/multiprocessing/pool.pyc\u001b[0m in \u001b[0;36m_setup_queues\u001b[0;34m(self)\u001b[0m\n\u001b[1;32m    232\u001b[0m         \u001b[0;32mfrom\u001b[0m \u001b[0;34m.\u001b[0m\u001b[0mqueues\u001b[0m \u001b[0;32mimport\u001b[0m \u001b[0mSimpleQueue\u001b[0m\u001b[0;34m\u001b[0m\u001b[0m\n\u001b[1;32m    233\u001b[0m         \u001b[0mself\u001b[0m\u001b[0;34m.\u001b[0m\u001b[0m_inqueue\u001b[0m \u001b[0;34m=\u001b[0m \u001b[0mSimpleQueue\u001b[0m\u001b[0;34m(\u001b[0m\u001b[0;34m)\u001b[0m\u001b[0;34m\u001b[0m\u001b[0m\n\u001b[0;32m--> 234\u001b[0;31m         \u001b[0mself\u001b[0m\u001b[0;34m.\u001b[0m\u001b[0m_outqueue\u001b[0m \u001b[0;34m=\u001b[0m \u001b[0mSimpleQueue\u001b[0m\u001b[0;34m(\u001b[0m\u001b[0;34m)\u001b[0m\u001b[0;34m\u001b[0m\u001b[0m\n\u001b[0m\u001b[1;32m    235\u001b[0m         \u001b[0mself\u001b[0m\u001b[0;34m.\u001b[0m\u001b[0m_quick_put\u001b[0m \u001b[0;34m=\u001b[0m \u001b[0mself\u001b[0m\u001b[0;34m.\u001b[0m\u001b[0m_inqueue\u001b[0m\u001b[0;34m.\u001b[0m\u001b[0m_writer\u001b[0m\u001b[0;34m.\u001b[0m\u001b[0msend\u001b[0m\u001b[0;34m\u001b[0m\u001b[0m\n\u001b[1;32m    236\u001b[0m         \u001b[0mself\u001b[0m\u001b[0;34m.\u001b[0m\u001b[0m_quick_get\u001b[0m \u001b[0;34m=\u001b[0m \u001b[0mself\u001b[0m\u001b[0;34m.\u001b[0m\u001b[0m_outqueue\u001b[0m\u001b[0;34m.\u001b[0m\u001b[0m_reader\u001b[0m\u001b[0;34m.\u001b[0m\u001b[0mrecv\u001b[0m\u001b[0;34m\u001b[0m\u001b[0m\n",
        "\u001b[0;32m/System/Library/Frameworks/Python.framework/Versions/2.7/lib/python2.7/multiprocessing/queues.pyc\u001b[0m in \u001b[0;36m__init__\u001b[0;34m(self)\u001b[0m\n\u001b[1;32m    349\u001b[0m \u001b[0;34m\u001b[0m\u001b[0m\n\u001b[1;32m    350\u001b[0m     \u001b[0;32mdef\u001b[0m \u001b[0m__init__\u001b[0m\u001b[0;34m(\u001b[0m\u001b[0mself\u001b[0m\u001b[0;34m)\u001b[0m\u001b[0;34m:\u001b[0m\u001b[0;34m\u001b[0m\u001b[0m\n\u001b[0;32m--> 351\u001b[0;31m         \u001b[0mself\u001b[0m\u001b[0;34m.\u001b[0m\u001b[0m_reader\u001b[0m\u001b[0;34m,\u001b[0m \u001b[0mself\u001b[0m\u001b[0;34m.\u001b[0m\u001b[0m_writer\u001b[0m \u001b[0;34m=\u001b[0m \u001b[0mPipe\u001b[0m\u001b[0;34m(\u001b[0m\u001b[0mduplex\u001b[0m\u001b[0;34m=\u001b[0m\u001b[0mFalse\u001b[0m\u001b[0;34m)\u001b[0m\u001b[0;34m\u001b[0m\u001b[0m\n\u001b[0m\u001b[1;32m    352\u001b[0m         \u001b[0mself\u001b[0m\u001b[0;34m.\u001b[0m\u001b[0m_rlock\u001b[0m \u001b[0;34m=\u001b[0m \u001b[0mLock\u001b[0m\u001b[0;34m(\u001b[0m\u001b[0;34m)\u001b[0m\u001b[0;34m\u001b[0m\u001b[0m\n\u001b[1;32m    353\u001b[0m         \u001b[0;32mif\u001b[0m \u001b[0msys\u001b[0m\u001b[0;34m.\u001b[0m\u001b[0mplatform\u001b[0m \u001b[0;34m==\u001b[0m \u001b[0;34m'win32'\u001b[0m\u001b[0;34m:\u001b[0m\u001b[0;34m\u001b[0m\u001b[0m\n",
        "\u001b[0;32m/System/Library/Frameworks/Python.framework/Versions/2.7/lib/python2.7/multiprocessing/__init__.pyc\u001b[0m in \u001b[0;36mPipe\u001b[0;34m(duplex)\u001b[0m\n\u001b[1;32m    105\u001b[0m     '''\n\u001b[1;32m    106\u001b[0m     \u001b[0;32mfrom\u001b[0m \u001b[0mmultiprocessing\u001b[0m\u001b[0;34m.\u001b[0m\u001b[0mconnection\u001b[0m \u001b[0;32mimport\u001b[0m \u001b[0mPipe\u001b[0m\u001b[0;34m\u001b[0m\u001b[0m\n\u001b[0;32m--> 107\u001b[0;31m     \u001b[0;32mreturn\u001b[0m \u001b[0mPipe\u001b[0m\u001b[0;34m(\u001b[0m\u001b[0mduplex\u001b[0m\u001b[0;34m)\u001b[0m\u001b[0;34m\u001b[0m\u001b[0m\n\u001b[0m\u001b[1;32m    108\u001b[0m \u001b[0;34m\u001b[0m\u001b[0m\n\u001b[1;32m    109\u001b[0m \u001b[0;32mdef\u001b[0m \u001b[0mcpu_count\u001b[0m\u001b[0;34m(\u001b[0m\u001b[0;34m)\u001b[0m\u001b[0;34m:\u001b[0m\u001b[0;34m\u001b[0m\u001b[0m\n",
        "\u001b[0;32m/System/Library/Frameworks/Python.framework/Versions/2.7/lib/python2.7/multiprocessing/connection.pyc\u001b[0m in \u001b[0;36mPipe\u001b[0;34m(duplex)\u001b[0m\n\u001b[1;32m    194\u001b[0m             \u001b[0ms2\u001b[0m\u001b[0;34m.\u001b[0m\u001b[0mclose\u001b[0m\u001b[0;34m(\u001b[0m\u001b[0;34m)\u001b[0m\u001b[0;34m\u001b[0m\u001b[0m\n\u001b[1;32m    195\u001b[0m         \u001b[0;32melse\u001b[0m\u001b[0;34m:\u001b[0m\u001b[0;34m\u001b[0m\u001b[0m\n\u001b[0;32m--> 196\u001b[0;31m             \u001b[0mfd1\u001b[0m\u001b[0;34m,\u001b[0m \u001b[0mfd2\u001b[0m \u001b[0;34m=\u001b[0m \u001b[0mos\u001b[0m\u001b[0;34m.\u001b[0m\u001b[0mpipe\u001b[0m\u001b[0;34m(\u001b[0m\u001b[0;34m)\u001b[0m\u001b[0;34m\u001b[0m\u001b[0m\n\u001b[0m\u001b[1;32m    197\u001b[0m             \u001b[0mc1\u001b[0m \u001b[0;34m=\u001b[0m \u001b[0m_multiprocessing\u001b[0m\u001b[0;34m.\u001b[0m\u001b[0mConnection\u001b[0m\u001b[0;34m(\u001b[0m\u001b[0mfd1\u001b[0m\u001b[0;34m,\u001b[0m \u001b[0mwritable\u001b[0m\u001b[0;34m=\u001b[0m\u001b[0mFalse\u001b[0m\u001b[0;34m)\u001b[0m\u001b[0;34m\u001b[0m\u001b[0m\n\u001b[1;32m    198\u001b[0m             \u001b[0mc2\u001b[0m \u001b[0;34m=\u001b[0m \u001b[0m_multiprocessing\u001b[0m\u001b[0;34m.\u001b[0m\u001b[0mConnection\u001b[0m\u001b[0;34m(\u001b[0m\u001b[0mfd2\u001b[0m\u001b[0;34m,\u001b[0m \u001b[0mreadable\u001b[0m\u001b[0;34m=\u001b[0m\u001b[0mFalse\u001b[0m\u001b[0;34m)\u001b[0m\u001b[0;34m\u001b[0m\u001b[0m\n",
        "\u001b[0;31mOSError\u001b[0m: [Errno 24] Too many open files"
       ]
      }
     ],
     "prompt_number": 10
    }
   ],
   "metadata": {}
  }
 ]
}