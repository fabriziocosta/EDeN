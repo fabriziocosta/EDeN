{
 "metadata": {
  "name": "",
  "signature": "sha256:953663df55ec57f9bd8b330f330bbe0bbc2fb53745d1e64df266c6bad3294609"
 },
 "nbformat": 3,
 "nbformat_minor": 0,
 "worksheets": [
  {
   "cells": [
    {
     "cell_type": "markdown",
     "metadata": {},
     "source": [
      "#Sequence Modeling with EDeN\n",
      "##The case for real valued vector labels\n",
      "\n",
      "**Aim:** Suppose you are given two sets of sequences. Each sequence is composed of characters in a finite alphabet. However there are similarity relationships between the characters. We want to build a predictive model that can discriminate between the two sets."
     ]
    },
    {
     "cell_type": "markdown",
     "metadata": {},
     "source": [
      "##Artificial Dataset\n",
      "\n",
      "Lets build an artificial case. We construct two classes in the following way: for each class we start from a specific but random seed sequence, and the full set is then generated every time by permuting the position of k pairs of characters chosen at random in the seed sequence.\n",
      "\n",
      "To simulate the relationship between characters we do as follows: we select at random some charaters and we capitalize them. For the machine, a capitalized character is completely different from its lowercase counterpart, but it is easier for humans to see them. \n",
      "\n",
      "Assume the similarity between chars is given as a symmetric matrix. We can then perform a low dimensionality embedding of the similarity matrix (e.g. MDS in $\\mathbb{R}^4$) and obtain some vector representation for each char such that their euclidean distance is proportional to their dissimilarity. Lets assume we are already given the vector representation. In our case we just take some random vectors as they will be roughly equally distant from each other. In order to simulate that the capitalized version of a cahr should be similar to its lowercase counterpart, we just add a small amount of noise to the vector representation of one of the two.  "
     ]
    },
    {
     "cell_type": "markdown",
     "metadata": {},
     "source": [
      "###Auxiliary Code"
     ]
    },
    {
     "cell_type": "code",
     "collapsed": false,
     "input": [
      "#code for making artificial dataset\n",
      "import random\n",
      "\n",
      "def swap_two_characters(seq):\n",
      "    '''define a function that swaps two characters at random positions in a string '''\n",
      "    line = list(seq)\n",
      "    id_i = random.randint(0,len(line)-1)\n",
      "    id_j = random.randint(0,len(line)-1)\n",
      "    line[id_i], line[id_j] = line[id_j], line[id_i]\n",
      "    return ''.join(line)\n",
      "\n",
      "def swap_characters(seed, n):\n",
      "    seq=seed\n",
      "    for i in range(n):\n",
      "        seq = swap_two_characters(seq)\n",
      "    return seq\n",
      "    \n",
      "def make_seed(start=0, end=26):\n",
      "    seq = ''.join([str(unichr(97+i)) for i in range(start,end)])\n",
      "    return swap_characters(seq, end-start)\n",
      "    \n",
      "def make_dataset(n_sequences=None, seed=None, n_swaps=None):\n",
      "    seqs = []\n",
      "    seqs.append( seed )\n",
      "    for i in range(n_sequences):\n",
      "        seq = swap_characters( seed, n_swaps )\n",
      "        seqs.append( seq )        \n",
      "    return seqs\n",
      "\n",
      "def random_capitalize(seqs, p=0.5):\n",
      "    new_seqs=[]\n",
      "    for seq in seqs:\n",
      "        new_seq = [c.upper() if random.random() < p else c for c in seq ]\n",
      "        new_seqs.append(''.join(new_seq))\n",
      "    return new_seqs\n",
      "\n",
      "def make_artificial_dataset(sequence_length=None, n_sequences=None, n_swaps=None):\n",
      "    seed = make_seed(start=0, end=sequence_length)\n",
      "    print 'Seed: ',seed\n",
      "    seqs = make_dataset(n_sequences=n_sequences, seed=seed, n_swaps=n_swaps)\n",
      "    train_seqs_orig=seqs[:len(seqs)/2]\n",
      "    test_seqs_orig=seqs[len(seqs)/2:]\n",
      "    seqs = random_capitalize(seqs, p=0.5)\n",
      "    print 'Sample with random capitalization:',seqs[:7]\n",
      "    train_seqs=seqs[:len(seqs)/2]\n",
      "    test_seqs=seqs[len(seqs)/2:]\n",
      "    return train_seqs_orig, test_seqs_orig, train_seqs, test_seqs"
     ],
     "language": "python",
     "metadata": {},
     "outputs": [],
     "prompt_number": 1
    },
    {
     "cell_type": "code",
     "collapsed": false,
     "input": [
      "#code to estimate predictive performance on categorical labeled sequences\n",
      "\n",
      "def discriminative_estimate(train_pos_seqs, train_neg_seqs, test_pos_seqs, test_neg_seqs):\n",
      "    from eden.graph import Vectorizer\n",
      "    vectorizer = Vectorizer(complexity=complexity)\n",
      "\n",
      "    from eden.converter.graph.sequence import sequence_to_eden\n",
      "    iterable_pos = sequence_to_eden(train_pos_seqs)\n",
      "    iterable_neg = sequence_to_eden(train_neg_seqs)\n",
      "\n",
      "    from eden.util import  fit, estimate\n",
      "    estimator = fit(iterable_pos,iterable_neg, vectorizer, n_iter_search=n_iter_search)\n",
      "\n",
      "    from eden.converter.graph.sequence import sequence_to_eden\n",
      "    iterable_pos = sequence_to_eden(test_pos_seqs)\n",
      "    iterable_neg = sequence_to_eden(test_neg_seqs)\n",
      "    estimate(iterable_pos, iterable_neg, estimator, vectorizer)"
     ],
     "language": "python",
     "metadata": {},
     "outputs": [],
     "prompt_number": 2
    },
    {
     "cell_type": "code",
     "collapsed": false,
     "input": [
      "#code to create real vector labels\n",
      "def make_encoding(encoding_vector_dimension=3, sequence_length=None, noise_size=0.01):\n",
      "    #vector encoding for chars\n",
      "    default_encoding = [0]*encoding_vector_dimension\n",
      "    start=0\n",
      "    end=sequence_length\n",
      "    #take a list of all chars up to 'length' \n",
      "    char_list = [str(unichr(97+i)) for i in range(start,end)]\n",
      "\n",
      "    encodings={}\n",
      "    import numpy as np\n",
      "    codes = np.random.rand(len(char_list),encoding_vector_dimension)\n",
      "    for i, code in enumerate(codes):\n",
      "        c = str(unichr(97+i))\n",
      "        cc = c.upper()\n",
      "        encoding = list(code)\n",
      "        encodings[c] = encoding\n",
      "        #add noise for the encoding of capitalized chars\n",
      "        noise = np.random.rand(encoding_vector_dimension)*noise_size\n",
      "        encodings[cc] = list(code + noise)\n",
      "    return encodings, default_encoding\n",
      "\n",
      "def make_encodings(n_encodings=3, encoding_vector_dimension=3, sequence_length=None, noise_size=0.01):\n",
      "    encodings=[]\n",
      "    for i in range(1,n_encodings+1):\n",
      "        encoding, default_encoding = make_encoding(encoding_vector_dimension, sequence_length, noise_size=noise_size)\n",
      "        encodings.append(encoding)\n",
      "    return encodings, default_encoding"
     ],
     "language": "python",
     "metadata": {},
     "outputs": [],
     "prompt_number": 3
    },
    {
     "cell_type": "markdown",
     "metadata": {},
     "source": [
      "##Artificial data generation"
     ]
    },
    {
     "cell_type": "code",
     "collapsed": false,
     "input": [
      "#problem parameters\n",
      "random.seed(1)\n",
      "sequence_length = 8 #sequences length\n",
      "n_sequences = 50    #num sequences in positive and negative set\n",
      "n_swaps = 2         #num pairs of chars that are swapped at random\n",
      "n_iter_search = 30  #num paramter configurations that are evaluated in hyperparameter optimization\n",
      "complexity = 2      #feature complexity for the vectorizer \n",
      "n_encodings = 5     #num vector encoding schemes for chars\n",
      "encoding_vector_dimension = 9 #vector dimension for char encoding\n",
      "noise_size = 0.05   #amount of random noise "
     ],
     "language": "python",
     "metadata": {},
     "outputs": [],
     "prompt_number": 4
    },
    {
     "cell_type": "code",
     "collapsed": false,
     "input": [
      "print 'Positive examples:'\n",
      "train_pos_seqs_orig, test_pos_seqs_orig, train_pos_seqs, test_pos_seqs = make_artificial_dataset(sequence_length,n_sequences,n_swaps)\n",
      "print 'Negative examples:'\n",
      "train_neg_seqs_orig, test_neg_seqs_orig, train_neg_seqs, test_neg_seqs = make_artificial_dataset(sequence_length,n_sequences,n_swaps)"
     ],
     "language": "python",
     "metadata": {},
     "outputs": [
      {
       "output_type": "stream",
       "stream": "stdout",
       "text": [
        "Positive examples:\n",
        "Seed:  dgbcefah\n",
        "Sample with random capitalization: ['DgBcEFaH', 'ghbCEFad', 'egBhDFAc', 'cdBgeFaH', 'DGbceFAh', 'bCdGEfAH', 'dFBCAgEh']\n",
        "Negative examples:\n",
        "Seed:  afbdhgce\n",
        "Sample with random capitalization: ['AfbdhGce', 'afcdeGBh', 'dfBGhacE', 'aFBDhGCE', 'ahbcfgde', 'afGdEBch', 'efBdhgcA']\n"
       ]
      }
     ],
     "prompt_number": 5
    },
    {
     "cell_type": "markdown",
     "metadata": {},
     "source": [
      "##Discriminative model on categorical labels"
     ]
    },
    {
     "cell_type": "code",
     "collapsed": false,
     "input": [
      "%%time\n",
      "#lets estimate the predictive performance of a classifier over the original sequences\n",
      "print 'Predictive performance on original sequences'\n",
      "discriminative_estimate(train_pos_seqs_orig, train_neg_seqs_orig, test_pos_seqs_orig, test_neg_seqs_orig)\n",
      "print '\\n\\n'\n",
      "#lets estimate the predictive performance of a classifier over the capitalized sequences\n",
      "print 'Predictive performance on sequences with random capitalization'\n",
      "discriminative_estimate(train_pos_seqs, train_neg_seqs, test_pos_seqs, test_neg_seqs)"
     ],
     "language": "python",
     "metadata": {},
     "outputs": [
      {
       "output_type": "stream",
       "stream": "stdout",
       "text": [
        "Predictive performance on original sequences\n"
       ]
      },
      {
       "output_type": "stream",
       "stream": "stdout",
       "text": [
        "Classifier:\n",
        "SGDClassifier(alpha=8.59070707855e-05, average=True, class_weight='auto',\n",
        "       epsilon=0.1, eta0=0.364652495284, fit_intercept=True, l1_ratio=0.15,\n",
        "       learning_rate='invscaling', loss='hinge', n_iter=5, n_jobs=-1,\n",
        "       penalty='elasticnet', power_t=0.211728598872, random_state=None,\n",
        "       shuffle=True, verbose=0, warm_start=False)\n",
        "--------------------------------------------------------------------------------\n",
        "Predictive performance:\n"
       ]
      },
      {
       "output_type": "stream",
       "stream": "stdout",
       "text": [
        "            accuracy: 0.842 +- 0.137\n"
       ]
      },
      {
       "output_type": "stream",
       "stream": "stdout",
       "text": [
        "           precision: 0.895 +- 0.165\n"
       ]
      },
      {
       "output_type": "stream",
       "stream": "stdout",
       "text": [
        "              recall: 0.850 +- 0.229\n"
       ]
      },
      {
       "output_type": "stream",
       "stream": "stdout",
       "text": [
        "                  f1: 0.836 +- 0.145\n"
       ]
      },
      {
       "output_type": "stream",
       "stream": "stdout",
       "text": [
        "   average_precision: 1.000 +- 0.000\n"
       ]
      },
      {
       "output_type": "stream",
       "stream": "stdout",
       "text": [
        "             roc_auc: 1.000 +- 0.000\n",
        "--------------------------------------------------------------------------------\n"
       ]
      },
      {
       "output_type": "stream",
       "stream": "stdout",
       "text": [
        "Test set\n",
        "Instances: 50 ; Features: 1048577 with an avg of 63 features per instance\n",
        "--------------------------------------------------------------------------------\n",
        "Test Estimate\n",
        "             precision    recall  f1-score   support\n",
        "\n",
        "         -1       0.85      0.88      0.86        25\n",
        "          1       0.88      0.84      0.86        25\n",
        "\n",
        "avg / total       0.86      0.86      0.86        50\n",
        "\n",
        "APR: 0.972\n",
        "ROC: 0.971\n",
        "\n",
        "\n",
        "\n",
        "Predictive performance on sequences with random capitalization\n"
       ]
      },
      {
       "output_type": "stream",
       "stream": "stdout",
       "text": [
        "Classifier:\n",
        "SGDClassifier(alpha=0.000776889988872, average=True, class_weight='auto',\n",
        "       epsilon=0.1, eta0=0.78157536102, fit_intercept=True, l1_ratio=0.15,\n",
        "       learning_rate='constant', loss='hinge', n_iter=77, n_jobs=-1,\n",
        "       penalty='l2', power_t=0.203997905594, random_state=None,\n",
        "       shuffle=True, verbose=0, warm_start=False)\n",
        "--------------------------------------------------------------------------------\n",
        "Predictive performance:\n"
       ]
      },
      {
       "output_type": "stream",
       "stream": "stdout",
       "text": [
        "            accuracy: 0.767 +- 0.143\n"
       ]
      },
      {
       "output_type": "stream",
       "stream": "stdout",
       "text": [
        "           precision: 0.812 +- 0.197\n"
       ]
      },
      {
       "output_type": "stream",
       "stream": "stdout",
       "text": [
        "              recall: 0.800 +- 0.245\n"
       ]
      },
      {
       "output_type": "stream",
       "stream": "stdout",
       "text": [
        "                  f1: 0.766 +- 0.148\n"
       ]
      },
      {
       "output_type": "stream",
       "stream": "stdout",
       "text": [
        "   average_precision: 0.904 +- 0.106\n"
       ]
      },
      {
       "output_type": "stream",
       "stream": "stdout",
       "text": [
        "             roc_auc: 0.867 +- 0.161\n",
        "--------------------------------------------------------------------------------\n"
       ]
      },
      {
       "output_type": "stream",
       "stream": "stdout",
       "text": [
        "Test set\n",
        "Instances: 50 ; Features: 1048577 with an avg of 63 features per instance\n",
        "--------------------------------------------------------------------------------\n",
        "Test Estimate\n",
        "             precision    recall  f1-score   support\n",
        "\n",
        "         -1       0.69      0.80      0.74        25\n",
        "          1       0.76      0.64      0.70        25\n",
        "\n",
        "avg / total       0.73      0.72      0.72        50\n",
        "\n",
        "APR: 0.854\n",
        "ROC: 0.845\n",
        "CPU times: user 3.16 s, sys: 969 ms, total: 4.13 s\n",
        "Wall time: 28.1 s\n"
       ]
      }
     ],
     "prompt_number": 6
    },
    {
     "cell_type": "markdown",
     "metadata": {},
     "source": [
      "**Note:** as expected the capitalization makes the predicitve task harder since it expands the vocabulary size and adds variations that look random"
     ]
    },
    {
     "cell_type": "markdown",
     "metadata": {},
     "source": [
      "##Discriminative model on real valued vector labels"
     ]
    },
    {
     "cell_type": "code",
     "collapsed": false,
     "input": [
      "#lets make a vector encoding for the chars simply using a random encoding \n",
      "#and a small amount of noise for the capitalized versions\n",
      "\n",
      "#we can generate a few encodings and let the algorithm choose the best one.\n",
      "encodings, default_encoding = make_encodings(n_encodings, encoding_vector_dimension, sequence_length, noise_size)"
     ],
     "language": "python",
     "metadata": {},
     "outputs": [],
     "prompt_number": 7
    },
    {
     "cell_type": "code",
     "collapsed": false,
     "input": [
      "#lets define the 3 main machines: 1) pre_processor, 2) vectorizer, 3) estimator\n",
      "\n",
      "#the pre_processor takes the raw format and makes graphs\n",
      "def pre_processor( seqs, encoding=None, default_encoding=None, **args ):\n",
      "    #convert sequences to path graphs\n",
      "    from eden.converter.graph.sequence import sequence_to_eden\n",
      "    graphs = sequence_to_eden(seqs)\n",
      "    \n",
      "    #relabel nodes with corresponding vector encoding\n",
      "    from eden.modifier.graph.vertex_attributes import translate \n",
      "    graphs = translate(graphs, label_map = encoding, default = default_encoding)\n",
      "    \n",
      "    return graphs  \n",
      "\n",
      "#the vectorizer takes graphs and makes sparse vectors\n",
      "from eden.graph import Vectorizer\n",
      "vectorizer = Vectorizer()\n",
      "\n",
      "#the estimator takes a sparse data matrix and a target column vector and makes a predictive model \n",
      "from sklearn.linear_model import SGDClassifier\n",
      "estimator = SGDClassifier(class_weight='auto', shuffle=True)\n",
      "\n",
      "#the model takes a pre_processor, a vectorizer, an estimator and returns the predictive model\n",
      "from eden.model import ActiveLearningBinaryClassificationModel\n",
      "model = ActiveLearningBinaryClassificationModel(pre_processor=pre_processor, \n",
      "                                                estimator=estimator, \n",
      "                                                vectorizer=vectorizer, \n",
      "                                                fit_vectorizer=True )"
     ],
     "language": "python",
     "metadata": {},
     "outputs": [],
     "prompt_number": 8
    },
    {
     "cell_type": "code",
     "collapsed": false,
     "input": [
      "#lets define hyper-parameters vaule ranges\n",
      "from numpy.random import randint\n",
      "from numpy.random import uniform\n",
      "\n",
      "pre_processor_parameters={'encoding':encodings, 'default_encoding':[default_encoding]}\n",
      "\n",
      "vectorizer_parameters={'complexity':[complexity],\n",
      "                       'discretization_size':randint(3, 100, size=n_iter_search), \n",
      "                       'discretization_dimension':randint(3, 50, size=n_iter_search)}\n",
      "\n",
      "estimator_parameters={'n_iter':randint(5, 100, size=n_iter_search),\n",
      "                      'penalty':['l1','l2','elasticnet'],\n",
      "                      'l1_ratio':uniform(0.1,0.9, size=n_iter_search), \n",
      "                      'loss':['hinge', 'log', 'modified_huber', 'squared_hinge', 'perceptron'],\n",
      "                      'power_t':uniform(0.1, size=n_iter_search),\n",
      "                      'alpha': [10**x for x in range(-8,0)],\n",
      "                      'eta0': [10**x for x in range(-4,-1)],\n",
      "                      'learning_rate': [\"invscaling\", \"constant\", \"optimal\"]}"
     ],
     "language": "python",
     "metadata": {},
     "outputs": [],
     "prompt_number": 9
    },
    {
     "cell_type": "markdown",
     "metadata": {},
     "source": [
      "##Model Auto Optimization"
     ]
    },
    {
     "cell_type": "code",
     "collapsed": false,
     "input": [
      "%%time\n",
      "#optimize hyperparameters and fit a predictive model\n",
      "\n",
      "#determine optimal parameter configuration\n",
      "model.optimize(train_pos_seqs, train_neg_seqs,\n",
      "               model_name='my_seq.model', \n",
      "               n_active_learning_iterations=0,\n",
      "               n_iter=n_iter_search, cv=3, verbose=1,\n",
      "               pre_processor_parameters=pre_processor_parameters, \n",
      "               vectorizer_parameters=vectorizer_parameters, \n",
      "               estimator_parameters=estimator_parameters)\n",
      "\n",
      "#print optimal parameter configuration\n",
      "model.print_model_parameter_configuration()\n",
      "\n",
      "#evaluate predictive performance\n",
      "apr, roc = model.estimate(test_pos_seqs, test_neg_seqs)"
     ],
     "language": "python",
     "metadata": {},
     "outputs": [
      {
       "output_type": "stream",
       "stream": "stdout",
       "text": [
        "\n",
        "Iteration: 1/30 (at 10.4 sec; 0:00:10.375975)\n",
        "Best score (roc_auc): 0.664647 (0.803434 +- 0.138786)\n",
        "Instances: 50 ; Features: 1048577 with an avg of 2349 features per instance\n",
        "class: 1 count:25 (0.50)\tclass: -1 count:25 (0.50)\t\n"
       ]
      },
      {
       "output_type": "stream",
       "stream": "stdout",
       "text": [
        "\n",
        "Iteration: 3/30 (at 17.5 sec; 0:00:17.462051)\n",
        "Best score (roc_auc): 0.770675 (0.867863 +- 0.097188)\n",
        "Instances: 50 ; Features: 1048577 with an avg of 1433 features per instance\n",
        "class: 1 count:25 (0.50)\tclass: -1 count:25 (0.50)\t\n"
       ]
      },
      {
       "output_type": "stream",
       "stream": "stdout",
       "text": [
        "\n",
        "Iteration: 6/30 (at 24.1 sec; 0:00:24.124599)\n",
        "Best score (roc_auc): 0.839778 (0.889789 +- 0.050011)\n",
        "Instances: 50 ; Features: 1048577 with an avg of 1851 features per instance\n",
        "class: 1 count:25 (0.50)\tclass: -1 count:25 (0.50)\t\n"
       ]
      },
      {
       "output_type": "stream",
       "stream": "stdout",
       "text": [
        "\n",
        "Failed iteration: 8/30 (at 30.8 sec; 0:00:30.812193)\n",
        "OS system call failed.\n",
        "\n",
        "\n",
        "Failed iteration: 9/30 (at 31.1 sec; 0:00:31.073858)"
       ]
      },
      {
       "output_type": "stream",
       "stream": "stdout",
       "text": [
        "\n",
        "OS system call failed.\n",
        "\n",
        "\n",
        "Failed iteration: 10/30 (at 32.2 sec; 0:00:32.155677)"
       ]
      },
      {
       "output_type": "stream",
       "stream": "stdout",
       "text": [
        "\n",
        "OS system call failed.\n",
        "\n",
        "\n",
        "Failed iteration: 11/30 (at 32.2 sec; 0:00:32.193413)\n",
        "OS system call failed.\n",
        "\n",
        "\n",
        "Failed iteration: 12/30 (at 33.2 sec; 0:00:33.202231)"
       ]
      },
      {
       "output_type": "stream",
       "stream": "stdout",
       "text": [
        "\n",
        "OS system call failed.\n",
        "\n",
        "\n",
        "Failed iteration: 13/30 (at 34.1 sec; 0:00:34.080587)"
       ]
      },
      {
       "output_type": "stream",
       "stream": "stdout",
       "text": [
        "\n",
        "OS system call failed.\n",
        "\n",
        "\n",
        "Failed iteration: 14/30 (at 35.9 sec; 0:00:35.850280)"
       ]
      },
      {
       "output_type": "stream",
       "stream": "stdout",
       "text": [
        "\n",
        "OS system call failed.\n",
        "\n",
        "\n",
        "Failed iteration: 15/30 (at 35.9 sec; 0:00:35.899612)\n",
        "OS system call failed.\n",
        "\n",
        "\n",
        "Failed iteration: 16/30 (at 36.1 sec; 0:00:36.117259)"
       ]
      },
      {
       "output_type": "stream",
       "stream": "stdout",
       "text": [
        "\n",
        "OS system call failed.\n",
        "\n",
        "\n",
        "Failed iteration: 17/30 (at 40.1 sec; 0:00:40.083896)"
       ]
      },
      {
       "output_type": "stream",
       "stream": "stdout",
       "text": [
        "\n",
        "OS system call failed.\n",
        "\n",
        "\n",
        "Failed iteration: 18/30 (at 40.2 sec; 0:00:40.214937)"
       ]
      },
      {
       "output_type": "stream",
       "stream": "stdout",
       "text": [
        "\n",
        "OS system call failed.\n",
        "\n",
        "\n",
        "Failed iteration: 19/30 (at 43.2 sec; 0:00:43.164535)"
       ]
      },
      {
       "output_type": "stream",
       "stream": "stdout",
       "text": [
        "\n",
        "OS system call failed.\n",
        "\n",
        "\n",
        "Failed iteration: 20/30 (at 43.3 sec; 0:00:43.290242)"
       ]
      },
      {
       "output_type": "stream",
       "stream": "stdout",
       "text": [
        "\n",
        "OS system call failed.\n",
        "\n",
        "\n",
        "Failed iteration: 21/30 (at 43.4 sec; 0:00:43.411147)"
       ]
      },
      {
       "output_type": "stream",
       "stream": "stdout",
       "text": [
        "\n",
        "OS system call failed.\n",
        "\n",
        "\n",
        "Failed iteration: 22/30 (at 46.4 sec; 0:00:46.423481)"
       ]
      },
      {
       "output_type": "stream",
       "stream": "stdout",
       "text": [
        "\n",
        "OS system call failed.\n",
        "\n",
        "\n",
        "Failed iteration: 23/30 (at 46.6 sec; 0:00:46.552061)"
       ]
      },
      {
       "output_type": "stream",
       "stream": "stdout",
       "text": [
        "\n",
        "OS system call failed.\n",
        "\n",
        "\n",
        "Failed iteration: 24/30 (at 46.7 sec; 0:00:46.717314)"
       ]
      },
      {
       "output_type": "stream",
       "stream": "stdout",
       "text": [
        "\n",
        "OS system call failed.\n",
        "\n",
        "\n",
        "Failed iteration: 25/30 (at 49.7 sec; 0:00:49.710022)"
       ]
      },
      {
       "output_type": "stream",
       "stream": "stdout",
       "text": [
        "\n",
        "OS system call failed.\n",
        "\n",
        "\n",
        "Failed iteration: 26/30 (at 52.7 sec; 0:00:52.719240)"
       ]
      },
      {
       "output_type": "stream",
       "stream": "stdout",
       "text": [
        "\n",
        "OS system call failed.\n",
        "\n",
        "\n",
        "Failed iteration: 27/30 (at 52.8 sec; 0:00:52.840611)"
       ]
      },
      {
       "output_type": "stream",
       "stream": "stdout",
       "text": [
        "\n",
        "OS system call failed.\n",
        "\n",
        "\n",
        "Failed iteration: 28/30 (at 57.0 sec; 0:00:57.006505)"
       ]
      },
      {
       "output_type": "stream",
       "stream": "stdout",
       "text": [
        "\n",
        "OS system call failed.\n",
        "\n",
        "\n",
        "Failed iteration: 29/30 (at 60.1 sec; 0:01:00.054179)"
       ]
      },
      {
       "output_type": "stream",
       "stream": "stdout",
       "text": [
        "\n",
        "OS system call failed.\n",
        "\n",
        "\n",
        "Failed iteration: 30/30 (at 61.8 sec; 0:01:01.847642)"
       ]
      },
      {
       "output_type": "stream",
       "stream": "stdout",
       "text": [
        "\n",
        "OS system call failed.\n",
        "\n",
        "--------------------------------------------------------------------------------"
       ]
      },
      {
       "output_type": "stream",
       "stream": "stdout",
       "text": [
        "\n",
        "Current parameters:\n",
        "Pre_processor:\n",
        "{'default_encoding': [0, 0, 0, 0, 0, 0, 0, 0, 0],\n",
        " 'encoding': {'A': [0.6424457143730552,\n",
        "                    0.97746981550823486,\n",
        "                    0.21341034527969382,\n",
        "                    0.98142545937794257,\n",
        "                    0.77680806491855325,\n",
        "                    0.46510672770400419,\n",
        "                    0.65627746641670481,\n",
        "                    0.55844337945403877,\n",
        "                    0.27890258272357865],\n",
        "              'B': [0.47170830968897048,\n",
        "                    0.15196147211764238,\n",
        "                    0.26511883968516314,\n",
        "                    0.15938306813785297,\n",
        "                    0.12691060370915153,\n",
        "                    0.91979325712871118,\n",
        "                    1.0153685748146526,\n",
        "                    0.86058096929044647,\n",
        "                    0.42992883757722128],\n",
        "              'C': [0.71082382144354428,\n",
        "                    0.88874269546011953,\n",
        "                    0.99836486343459485,\n",
        "                    0.31710423042867253,\n",
        "                    0.47374567276195223,\n",
        "                    0.665936878397689,\n",
        "                    0.77443000686761676,\n",
        "                    0.94400206733450553,\n",
        "                    0.25786495754057115],\n",
        "              'D': [0.81638052194984012,\n",
        "                    0.61841869099523306,\n",
        "                    0.69111768442603161,\n",
        "                    0.12801639032189124,\n",
        "                    0.97361693249662762,\n",
        "                    0.40006203301655413,\n",
        "                    0.28105528909122129,\n",
        "                    0.28270386521218405,\n",
        "                    0.12429070136933902],\n",
        "              'E': [0.71508986427024701,\n",
        "                    0.083870286726260318,\n",
        "                    0.82853982790603153,\n",
        "                    0.89261636545798262,\n",
        "                    0.70643299912147295,\n",
        "                    0.97406524139256012,\n",
        "                    0.047931436999616744,\n",
        "                    0.69272157940083023,\n",
        "                    0.9172391237469526],\n",
        "              'F': [0.92887953198194484,\n",
        "                    0.37422203596065806,\n",
        "                    0.85164327922047034,\n",
        "                    0.26914660377385541,\n",
        "                    0.28470456308541642,\n",
        "                    0.82552728154484167,\n",
        "                    0.24950520034054094,\n",
        "                    0.22223380606741819,\n",
        "                    0.98314837817519651],\n",
        "              'G': [0.27069376848394688,\n",
        "                    0.98156231975275854,\n",
        "                    0.61985780707144711,\n",
        "                    0.083886330622379102,\n",
        "                    0.044964454274317688,\n",
        "                    0.94743286139853167,\n",
        "                    0.41236628690048971,\n",
        "                    0.30387370647807899,\n",
        "                    0.16114742686347347],\n",
        "              'H': [0.39560980062923412,\n",
        "                    0.64228051778866535,\n",
        "                    0.78566122301638641,\n",
        "                    0.57933222039016508,\n",
        "                    0.21151157053840847,\n",
        "                    0.3490268298209222,\n",
        "                    0.98176886299230259,\n",
        "                    0.48779648592154906,\n",
        "                    0.6951475747442829],\n",
        "              'a': [0.63180632126478031,\n",
        "                    0.96119559647890329,\n",
        "                    0.17436700521572368,\n",
        "                    0.9683291087210526,\n",
        "                    0.7514848130941425,\n",
        "                    0.43604078932107193,\n",
        "                    0.63571369492998275,\n",
        "                    0.53125261883705188,\n",
        "                    0.27443156078292263],\n",
        "              'b': [0.46472598520155173,\n",
        "                    0.14854488994628257,\n",
        "                    0.23782242425591682,\n",
        "                    0.13559982659624092,\n",
        "                    0.079153148531164619,\n",
        "                    0.87882319737423653,\n",
        "                    0.98174267723009501,\n",
        "                    0.84151636931753504,\n",
        "                    0.42049706379969487],\n",
        "              'c': [0.69063060652427599,\n",
        "                    0.86910549750217569,\n",
        "                    0.95789131375126124,\n",
        "                    0.31268236587124343,\n",
        "                    0.43478052805149159,\n",
        "                    0.64323784021466301,\n",
        "                    0.7486674182673495,\n",
        "                    0.90161381261737128,\n",
        "                    0.22611754914543924],\n",
        "              'd': [0.79334035678338066,\n",
        "                    0.60177285902988564,\n",
        "                    0.66845002520904973,\n",
        "                    0.096707697580227903,\n",
        "                    0.94840390954390363,\n",
        "                    0.39886946195364359,\n",
        "                    0.25756304895393622,\n",
        "                    0.25828253968774428,\n",
        "                    0.10785092721941392],\n",
        "              'e': [0.68728036069350662,\n",
        "                    0.072746840599665075,\n",
        "                    0.81416414507967594,\n",
        "                    0.89186076681655613,\n",
        "                    0.6634386260189824,\n",
        "                    0.93794147210208345,\n",
        "                    0.0030076620879774252,\n",
        "                    0.68139309643801538,\n",
        "                    0.88129225763292374],\n",
        "              'f': [0.90664131560914285,\n",
        "                    0.36291835205635492,\n",
        "                    0.84897809416613057,\n",
        "                    0.22634514174220066,\n",
        "                    0.26865300809748838,\n",
        "                    0.77736756304071675,\n",
        "                    0.19963117955100229,\n",
        "                    0.21927265780390937,\n",
        "                    0.9826146598602733],\n",
        "              'g': [0.25416024762293377,\n",
        "                    0.9721316043807896,\n",
        "                    0.61747576209560395,\n",
        "                    0.06713255457247469,\n",
        "                    0.0088803211346826227,\n",
        "                    0.94644256938546434,\n",
        "                    0.39213634985870438,\n",
        "                    0.30012837380757584,\n",
        "                    0.12236212261098245],\n",
        "              'h': [0.36606556236632715,\n",
        "                    0.62354199874346306,\n",
        "                    0.73846465291323027,\n",
        "                    0.56457905913169992,\n",
        "                    0.17636791359492143,\n",
        "                    0.33923637055329581,\n",
        "                    0.97071491026715651,\n",
        "                    0.45670187560612197,\n",
        "                    0.64825953399408087]}}\n",
        "Vectorizer:\n",
        "{'complexity': 2, 'discretization_dimension': 37, 'discretization_size': 25}\n",
        "Estimator:\n",
        "{'alpha': 0.01,\n",
        " 'eta0': 0.001,\n",
        " 'l1_ratio': 0.50702249600669802,\n",
        " 'learning_rate': 'invscaling',\n",
        " 'loss': 'modified_huber',\n",
        " 'n_iter': 98,\n",
        " 'penalty': 'l2',\n",
        " 'power_t': 0.4893669388766686}\n",
        "--------------------------------------------------------------------------------\n",
        "Classifier:\n",
        "SGDClassifier(alpha=0.01, average=False, class_weight='auto', epsilon=0.1,\n",
        "       eta0=0.001, fit_intercept=True, l1_ratio=0.50702249600669802,\n",
        "       learning_rate='invscaling', loss='modified_huber', n_iter=98,\n",
        "       n_jobs=1, penalty='l2', power_t=0.4893669388766686,\n",
        "       random_state=None, shuffle=True, verbose=0, warm_start=False)\n",
        "--------------------------------------------------------------------------------\n"
       ]
      },
      {
       "output_type": "stream",
       "stream": "stdout",
       "text": [
        "Traceback (most recent call last):\n",
        "  File \"/Library/Python/2.7/site-packages/IPython/core/ultratb.py\", line 776, in structured_traceback\n",
        "  File \"/Library/Python/2.7/site-packages/IPython/core/ultratb.py\", line 230, in wrapped\n",
        "  File \"/Library/Python/2.7/site-packages/IPython/core/ultratb.py\", line 259, in _fixed_getinnerframes\n",
        "  File \"/System/Library/Frameworks/Python.framework/Versions/2.7/lib/python2.7/inspect.py\", line 1044, in getinnerframes\n",
        "  File \"/System/Library/Frameworks/Python.framework/Versions/2.7/lib/python2.7/inspect.py\", line 1004, in getframeinfo\n",
        "  File \"/System/Library/Frameworks/Python.framework/Versions/2.7/lib/python2.7/inspect.py\", line 454, in getsourcefile\n",
        "  File \"/System/Library/Frameworks/Python.framework/Versions/2.7/lib/python2.7/inspect.py\", line 483, in getmodule\n",
        "  File \"/System/Library/Frameworks/Python.framework/Versions/2.7/lib/python2.7/inspect.py\", line 467, in getabsfile\n",
        "  File \"/System/Library/Frameworks/Python.framework/Versions/2.7/lib/python2.7/posixpath.py\", line 356, in abspath\n",
        "OSError: [Errno 24] Too many open files\n"
       ]
      },
      {
       "output_type": "stream",
       "stream": "stderr",
       "text": [
        "ERROR: Internal Python error in the inspect module.\n",
        "Below is the traceback from this internal error.\n",
        "\n",
        "\n",
        "Unfortunately, your original traceback can not be constructed.\n",
        "\n"
       ]
      },
      {
       "ename": "OSError",
       "evalue": "[Errno 24] Too many open files",
       "output_type": "pyerr",
       "traceback": ""
      }
     ],
     "prompt_number": 10
    }
   ],
   "metadata": {}
  }
 ]
}