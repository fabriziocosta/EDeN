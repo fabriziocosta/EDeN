{
 "cells": [
  {
   "cell_type": "markdown",
   "metadata": {},
   "source": [
    "#Sequence Modeling with EDeN\n",
    "##The case for real valued vector labels\n",
    "\n",
    "**Aim:** Suppose you are given two sets of sequences. Each sequence is composed of characters in a finite alphabet. However there are similarity relationships between the characters. We want to build a predictive model that can discriminate between the two sets."
   ]
  },
  {
   "cell_type": "markdown",
   "metadata": {},
   "source": [
    "##Artificial Dataset\n",
    "\n",
    "Lets build an artificial case. We construct two classes in the following way: for each class we start from a specific but random seed sequence, and the full set is then generated every time by permuting the position of k pairs of characters chosen at random in the seed sequence.\n",
    "\n",
    "To simulate the relationship between characters we do as follows: we select at random some charaters and we capitalize them. For the machine, a capitalized character is completely different from its lowercase counterpart, but it is easier for humans to see them. \n",
    "\n",
    "Assume the similarity between chars is given as a symmetric matrix. We can then perform a low dimensionality embedding of the similarity matrix (e.g. MDS in $\\mathbb{R}^4$) and obtain some vector representation for each char such that their euclidean distance is proportional to their dissimilarity. Lets assume we are already given the vector representation. In our case we just take some random vectors as they will be roughly equally distant from each other. In order to simulate that the capitalized version of a cahr should be similar to its lowercase counterpart, we just add a small amount of noise to the vector representation of one of the two.  "
   ]
  },
  {
   "cell_type": "markdown",
   "metadata": {},
   "source": [
    "###Auxiliary Code"
   ]
  },
  {
   "cell_type": "code",
   "execution_count": 1,
   "metadata": {
    "collapsed": false
   },
   "outputs": [],
   "source": [
    "#code for making artificial dataset\n",
    "import random\n",
    "\n",
    "def swap_two_characters(seq):\n",
    "    '''define a function that swaps two characters at random positions in a string '''\n",
    "    line = list(seq)\n",
    "    id_i = random.randint(0,len(line)-1)\n",
    "    id_j = random.randint(0,len(line)-1)\n",
    "    line[id_i], line[id_j] = line[id_j], line[id_i]\n",
    "    return ''.join(line)\n",
    "\n",
    "def swap_characters(seed, n):\n",
    "    seq=seed\n",
    "    for i in range(n):\n",
    "        seq = swap_two_characters(seq)\n",
    "    return seq\n",
    "    \n",
    "def make_seed(start=0, end=26):\n",
    "    seq = ''.join([str(unichr(97+i)) for i in range(start,end)])\n",
    "    return swap_characters(seq, end-start)\n",
    "    \n",
    "def make_dataset(n_sequences=None, seed=None, n_swaps=None):\n",
    "    seqs = []\n",
    "    seqs.append( seed )\n",
    "    for i in range(n_sequences):\n",
    "        seq = swap_characters( seed, n_swaps )\n",
    "        seqs.append( seq )        \n",
    "    return seqs\n",
    "\n",
    "def random_capitalize(seqs, p=0.5):\n",
    "    new_seqs=[]\n",
    "    for seq in seqs:\n",
    "        new_seq = [c.upper() if random.random() < p else c for c in seq ]\n",
    "        new_seqs.append(''.join(new_seq))\n",
    "    return new_seqs\n",
    "\n",
    "def make_artificial_dataset(sequence_length=None, n_sequences=None, n_swaps=None):\n",
    "    seed = make_seed(start=0, end=sequence_length)\n",
    "    print 'Seed: ',seed\n",
    "    seqs = make_dataset(n_sequences=n_sequences, seed=seed, n_swaps=n_swaps)\n",
    "    train_seqs_orig=seqs[:len(seqs)/2]\n",
    "    test_seqs_orig=seqs[len(seqs)/2:]\n",
    "    seqs = random_capitalize(seqs, p=0.5)\n",
    "    print 'Sample with random capitalization:',seqs[:7]\n",
    "    train_seqs=seqs[:len(seqs)/2]\n",
    "    test_seqs=seqs[len(seqs)/2:]\n",
    "    return train_seqs_orig, test_seqs_orig, train_seqs, test_seqs"
   ]
  },
  {
   "cell_type": "code",
   "execution_count": 7,
   "metadata": {
    "collapsed": false
   },
   "outputs": [],
   "source": [
    "#code to estimate predictive performance on categorical labeled sequences\n",
    "\n",
    "def discriminative_estimate(train_pos_seqs, train_neg_seqs, test_pos_seqs, test_neg_seqs):\n",
    "    from eden.graph import Vectorizer\n",
    "    vectorizer = Vectorizer(complexity=complexity)\n",
    "\n",
    "    from eden.converter.graph.sequence import sequence_to_eden\n",
    "    iterable_pos = sequence_to_eden(train_pos_seqs)\n",
    "    iterable_neg = sequence_to_eden(train_neg_seqs)\n",
    "\n",
    "    from eden.util import  fit, estimate\n",
    "    estimator = fit(iterable_pos,iterable_neg, vectorizer, n_iter_search=n_iter_search)\n",
    "\n",
    "    from eden.converter.graph.sequence import sequence_to_eden\n",
    "    iterable_pos = sequence_to_eden(test_pos_seqs)\n",
    "    iterable_neg = sequence_to_eden(test_neg_seqs)\n",
    "    estimate(iterable_pos, iterable_neg, estimator, vectorizer)"
   ]
  },
  {
   "cell_type": "code",
   "execution_count": 8,
   "metadata": {
    "collapsed": false
   },
   "outputs": [],
   "source": [
    "#code to create real vector labels\n",
    "def make_encoding(encoding_vector_dimension=3, sequence_length=None, noise_size=0.01):\n",
    "    #vector encoding for chars\n",
    "    default_encoding = [0]*encoding_vector_dimension\n",
    "    start=0\n",
    "    end=sequence_length\n",
    "    #take a list of all chars up to 'length' \n",
    "    char_list = [str(unichr(97+i)) for i in range(start,end)]\n",
    "\n",
    "    encodings={}\n",
    "    import numpy as np\n",
    "    codes = np.random.rand(len(char_list),encoding_vector_dimension)\n",
    "    for i, code in enumerate(codes):\n",
    "        c = str(unichr(97+i))\n",
    "        cc = c.upper()\n",
    "        encoding = list(code)\n",
    "        encodings[c] = encoding\n",
    "        #add noise for the encoding of capitalized chars\n",
    "        noise = np.random.rand(encoding_vector_dimension)*noise_size\n",
    "        encodings[cc] = list(code + noise)\n",
    "    return encodings, default_encoding\n",
    "\n",
    "def make_encodings(n_encodings=3, encoding_vector_dimension=3, sequence_length=None, noise_size=0.01):\n",
    "    encodings=[]\n",
    "    for i in range(1,n_encodings+1):\n",
    "        encoding, default_encoding = make_encoding(encoding_vector_dimension, sequence_length, noise_size=noise_size)\n",
    "        encodings.append(encoding)\n",
    "    return encodings, default_encoding"
   ]
  },
  {
   "cell_type": "markdown",
   "metadata": {},
   "source": [
    "##Artificial data generation"
   ]
  },
  {
   "cell_type": "code",
   "execution_count": 9,
   "metadata": {
    "collapsed": false
   },
   "outputs": [],
   "source": [
    "#problem parameters\n",
    "random.seed(1)\n",
    "sequence_length = 8 #sequences length\n",
    "n_sequences = 50    #num sequences in positive and negative set\n",
    "n_swaps = 2         #num pairs of chars that are swapped at random\n",
    "n_iter_search = 30  #num paramter configurations that are evaluated in hyperparameter optimization\n",
    "complexity = 2      #feature complexity for the vectorizer \n",
    "n_encodings = 5     #num vector encoding schemes for chars\n",
    "encoding_vector_dimension = 9 #vector dimension for char encoding\n",
    "noise_size = 0.05   #amount of random noise "
   ]
  },
  {
   "cell_type": "code",
   "execution_count": 10,
   "metadata": {
    "collapsed": false
   },
   "outputs": [
    {
     "name": "stdout",
     "output_type": "stream",
     "text": [
      "Positive examples:\n",
      "Seed:  dgbcefah\n",
      "Sample with random capitalization: ['DgBcEFaH', 'ghbCEFad', 'egBhDFAc', 'cdBgeFaH', 'DGbceFAh', 'bCdGEfAH', 'dFBCAgEh']\n",
      "Negative examples:\n",
      "Seed:  afbdhgce\n",
      "Sample with random capitalization: ['AfbdhGce', 'afcdeGBh', 'dfBGhacE', 'aFBDhGCE', 'ahbcfgde', 'afGdEBch', 'efBdhgcA']\n"
     ]
    }
   ],
   "source": [
    "print 'Positive examples:'\n",
    "train_pos_seqs_orig, test_pos_seqs_orig, train_pos_seqs, test_pos_seqs = make_artificial_dataset(sequence_length,n_sequences,n_swaps)\n",
    "print 'Negative examples:'\n",
    "train_neg_seqs_orig, test_neg_seqs_orig, train_neg_seqs, test_neg_seqs = make_artificial_dataset(sequence_length,n_sequences,n_swaps)"
   ]
  },
  {
   "cell_type": "markdown",
   "metadata": {},
   "source": [
    "##Discriminative model on categorical labels"
   ]
  },
  {
   "cell_type": "code",
   "execution_count": 11,
   "metadata": {
    "collapsed": false
   },
   "outputs": [
    {
     "name": "stdout",
     "output_type": "stream",
     "text": [
      "Predictive performance on original sequences\n"
     ]
    },
    {
     "name": "stderr",
     "output_type": "stream",
     "text": [
      "/Library/Python/2.7/site-packages/sklearn/metrics/classification.py:958: UndefinedMetricWarning: Precision is ill-defined and being set to 0.0 due to no predicted samples.\n",
      "  'precision', 'predicted', average, warn_for)\n",
      "/Library/Python/2.7/site-packages/sklearn/metrics/classification.py:958: UndefinedMetricWarning: F-score is ill-defined and being set to 0.0 due to no predicted samples.\n",
      "  'precision', 'predicted', average, warn_for)\n"
     ]
    },
    {
     "name": "stdout",
     "output_type": "stream",
     "text": [
      "Test set\n",
      "Instances: 52 ; Features: 1048577 with an avg of 63 features per instance\n",
      "--------------------------------------------------------------------------------\n",
      "Test Estimate\n",
      "             precision    recall  f1-score   support\n",
      "\n",
      "         -1       0.85      0.85      0.85        26\n",
      "          1       0.85      0.85      0.85        26\n",
      "\n",
      "avg / total       0.85      0.85      0.85        52\n",
      "\n",
      "APR: 0.897\n",
      "ROC: 0.901\n",
      "\n",
      "\n",
      "\n",
      "Predictive performance on sequences with random capitalization\n",
      "Test set\n",
      "Instances: 52 ; Features: 1048577 with an avg of 63 features per instance\n",
      "--------------------------------------------------------------------------------\n",
      "Test Estimate\n",
      "             precision    recall  f1-score   support\n",
      "\n",
      "         -1       0.70      0.81      0.75        26\n",
      "          1       0.77      0.65      0.71        26\n",
      "\n",
      "avg / total       0.74      0.73      0.73        52\n",
      "\n",
      "APR: 0.853\n",
      "ROC: 0.848\n",
      "CPU times: user 2.9 s, sys: 698 ms, total: 3.6 s\n",
      "Wall time: 29.5 s\n"
     ]
    }
   ],
   "source": [
    "%%time\n",
    "#lets estimate the predictive performance of a classifier over the original sequences\n",
    "print 'Predictive performance on original sequences'\n",
    "discriminative_estimate(train_pos_seqs_orig, train_neg_seqs_orig, test_pos_seqs_orig, test_neg_seqs_orig)\n",
    "print '\\n\\n'\n",
    "#lets estimate the predictive performance of a classifier over the capitalized sequences\n",
    "print 'Predictive performance on sequences with random capitalization'\n",
    "discriminative_estimate(train_pos_seqs, train_neg_seqs, test_pos_seqs, test_neg_seqs)"
   ]
  },
  {
   "cell_type": "markdown",
   "metadata": {},
   "source": [
    "**Note:** as expected the capitalization makes the predicitve task harder since it expands the vocabulary size and adds variations that look random"
   ]
  },
  {
   "cell_type": "markdown",
   "metadata": {},
   "source": [
    "##Discriminative model on real valued vector labels"
   ]
  },
  {
   "cell_type": "code",
   "execution_count": 15,
   "metadata": {
    "collapsed": false
   },
   "outputs": [],
   "source": [
    "#lets make a vector encoding for the chars simply using a random encoding \n",
    "#and a small amount of noise for the capitalized versions\n",
    "\n",
    "#we can generate a few encodings and let the algorithm choose the best one.\n",
    "encodings, default_encoding = make_encodings(n_encodings, encoding_vector_dimension, sequence_length, noise_size)"
   ]
  },
  {
   "cell_type": "code",
   "execution_count": 16,
   "metadata": {
    "collapsed": false
   },
   "outputs": [],
   "source": [
    "#lets define the 3 main machines: 1) pre_processor, 2) vectorizer, 3) estimator\n",
    "\n",
    "#the pre_processor takes the raw format and makes graphs\n",
    "def pre_processor( seqs, encoding=None, default_encoding=None, **args ):\n",
    "    #convert sequences to path graphs\n",
    "    from eden.converter.graph.sequence import sequence_to_eden\n",
    "    graphs = sequence_to_eden(seqs)\n",
    "    \n",
    "    #relabel nodes with corresponding vector encoding\n",
    "    from eden.modifier.graph.vertex_attributes import translate \n",
    "    graphs = translate(graphs, label_map = encoding, default = default_encoding)\n",
    "    \n",
    "    return graphs  \n",
    "\n",
    "#the vectorizer takes graphs and makes sparse vectors\n",
    "from eden.graph import Vectorizer\n",
    "vectorizer = Vectorizer()\n",
    "\n",
    "#the estimator takes a sparse data matrix and a target column vector and makes a predictive model \n",
    "from sklearn.linear_model import SGDClassifier\n",
    "estimator = SGDClassifier(class_weight='auto', shuffle=True)\n",
    "\n",
    "#the model takes a pre_processor, a vectorizer, an estimator and returns the predictive model\n",
    "from eden.model import ActiveLearningBinaryClassificationModel\n",
    "model = ActiveLearningBinaryClassificationModel(pre_processor=pre_processor, \n",
    "                                                estimator=estimator, \n",
    "                                                vectorizer=vectorizer, \n",
    "                                                fit_vectorizer=True )"
   ]
  },
  {
   "cell_type": "code",
   "execution_count": 17,
   "metadata": {
    "collapsed": false
   },
   "outputs": [],
   "source": [
    "#lets define hyper-parameters vaule ranges\n",
    "from numpy.random import randint\n",
    "from numpy.random import uniform\n",
    "\n",
    "pre_processor_parameters={'encoding':encodings, 'default_encoding':[default_encoding]}\n",
    "\n",
    "vectorizer_parameters={'complexity':[complexity],\n",
    "                       'n_discretization_levels':randint(3, 20, size=n_iter_search)}\n",
    "\n",
    "estimator_parameters={'n_iter':randint(5, 100, size=n_iter_search),\n",
    "                      'penalty':['l1','l2','elasticnet'],\n",
    "                      'l1_ratio':uniform(0.1,0.9, size=n_iter_search), \n",
    "                      'loss':['hinge', 'log', 'modified_huber', 'squared_hinge', 'perceptron'],\n",
    "                      'power_t':uniform(0.1, size=n_iter_search),\n",
    "                      'alpha': [10**x for x in range(-8,0)],\n",
    "                      'eta0': [10**x for x in range(-4,-1)],\n",
    "                      'learning_rate': [\"invscaling\", \"constant\", \"optimal\"]}"
   ]
  },
  {
   "cell_type": "markdown",
   "metadata": {},
   "source": [
    "##Model Auto Optimization"
   ]
  },
  {
   "cell_type": "code",
   "execution_count": 22,
   "metadata": {
    "collapsed": true
   },
   "outputs": [],
   "source": [
    "from eden.util import configure_logging\n",
    "import logging\n",
    "configure_logging(logging.getLogger(),verbosity=1)"
   ]
  },
  {
   "cell_type": "code",
   "execution_count": 23,
   "metadata": {
    "collapsed": false,
    "scrolled": true
   },
   "outputs": [
    {
     "name": "stdout",
     "output_type": "stream",
     "text": [
      "\n",
      "\n",
      "\tIteration: 1/30 (after 1.6 sec; 0:00:01.624881)\n",
      "Best score (roc_auc): 0.813 (0.899 +- 0.086)\n",
      "\n",
      "Data:\n",
      "Instances: 50 ; Features: 1048577 with an avg of 517 features per instance\n",
      "class: 1 count:25 (0.50)\tclass: -1 count:25 (0.50)\t\n",
      "\n",
      "\tModel parameters:\n",
      "\n",
      "Pre_processor:\n",
      "default_encoding: [0, 0, 0, 0, 0, 0, 0, 0, 0]\n",
      "  encoding: {'a': [0.60132554724186549, 0.8631803661199251, 0.40420333955508791, 0.061365764853678395, 0.1269206253692915, 0.10386918941107937, 0.62089986283970311, 0.1697580667768378, 0.21587501676108245], 'A': [0.65022318265111645, 0.86912060291309101, 0.44425605078408009, 0.064745313713752681, 0.15240438849998827, 0.13461961331590541, 0.65820273873693247, 0.19996591601087288, 0.21940676979574097], 'c': [0.48674198105432087, 0.4253183530023732, 0.07527793126056781, 0.22434226478314656, 0.29682116536138714, 0.49688532896919957, 0.024118609267932523, 0.38621563341208975, 0.28462328713849172], 'B': [0.72433964909888227, 0.46636688978674029, 0.76701010379428503, 0.36851552745793392, 0.96306520029441689, 0.42032294626287503, 0.86146768599692569, 0.15563335994107258, 0.77720413578097458], 'e': [0.097023453842354668, 0.52640259806419998, 0.068888564307673872, 0.7284964782091502, 0.95728217153451167, 0.58115597819539655, 0.60136941088151075, 0.97667307315825103, 0.48454784272633744], 'd': [0.19812372156441316, 0.46711235324898293, 0.70112961998579615, 0.51240073041325818, 0.20687166585822347, 0.47533485735409664, 0.94187750643494061, 0.2193358023182973, 0.33735380642051849], 'g': [0.80410393452130657, 0.30553561958114084, 0.35083982228762101, 0.9524394987932967, 0.26009549874733218, 0.9838066960695212, 0.10660816593865696, 0.89306241736320324, 0.94738395324164015], 'f': [0.75457047862583293, 0.23853149536251361, 0.72786805363955398, 0.0088702364322795768, 0.37113537566560595, 0.21268276763976057, 0.50991611164920392, 0.027363280563369563, 0.66516770074853571], 'h': [0.75963967077940775, 0.28310983227415099, 0.90110346792808749, 0.055087499099430004, 0.014436170589313901, 0.38443450499362186, 0.92413116591212841, 0.50179589683703407, 0.80933555591023232], 'F': [0.77672818889727013, 0.25278574533770248, 0.76394620409044889, 0.045774421885389396, 0.40559215868289611, 0.25987747571181818, 0.53956280765070541, 0.02804451821903909, 0.70041207298147579], 'C': [0.53005334680874006, 0.43279872909482325, 0.10099360478193196, 0.26866212344046531, 0.32425347407318517, 0.52872224757710218, 0.06306351174921912, 0.43464870813897827, 0.29988073168797175], 'G': [0.84669771678303052, 0.32411401641535365, 0.39346831347375505, 0.96254550570481501, 0.27528022491711718, 1.0149696681332609, 0.12225352878120696, 0.91812696598725485, 0.95043174894601534], 'b': [0.68133980952917494, 0.4319288507130763, 0.7249132687702794, 0.34001969906650864, 0.95070445433944806, 0.38790990534074998, 0.83024320045942768, 0.14083937060831819, 0.75084408989347806], 'H': [0.76957226490178143, 0.30116742196590096, 0.90656691577571225, 0.068541149390696526, 0.046928419300344595, 0.40517223384686207, 0.92885829277314247, 0.51486876759481026, 0.80974579060394702], 'E': [0.14193387676434124, 0.54545210875624262, 0.11331005356062862, 0.75245909902571639, 0.98903048477090671, 0.61919360972537629, 0.60928067216380366, 0.98929133339423447, 0.50518699087169572], 'D': [0.24507622014315414, 0.48691673697474769, 0.70168865100169975, 0.52010557778577182, 0.22715104857239732, 0.52489852337721554, 0.94428159281850421, 0.25123201388318794, 0.3451164199574237]}\n",
      "\n",
      "Vectorizer:\n",
      "complexity: 2\n",
      "n_discretization_levels: 11\n",
      "\n",
      "Estimator:\n",
      "     alpha: 0.01\n",
      "      eta0: 0.0001\n",
      "  l1_ratio: 0.520829430691\n",
      "learning_rate: invscaling\n",
      "      loss: modified_huber\n",
      "    n_iter: 5\n",
      "   penalty: l2\n",
      "   power_t: 0.719706845833\n",
      "\n",
      "\n",
      "\tIteration: 2/30 (after 3.1 sec; 0:00:03.108533)\n",
      "Best score (roc_auc): 0.836 (0.912 +- 0.076)\n",
      "\n",
      "Data:\n",
      "Instances: 50 ; Features: 1048577 with an avg of 469 features per instance\n",
      "class: 1 count:25 (0.50)\tclass: -1 count:25 (0.50)\t\n",
      "\n",
      "\tModel parameters:\n",
      "\n",
      "Pre_processor:\n",
      "default_encoding: [0, 0, 0, 0, 0, 0, 0, 0, 0]\n",
      "  encoding: {'a': [0.60132554724186549, 0.8631803661199251, 0.40420333955508791, 0.061365764853678395, 0.1269206253692915, 0.10386918941107937, 0.62089986283970311, 0.1697580667768378, 0.21587501676108245], 'A': [0.65022318265111645, 0.86912060291309101, 0.44425605078408009, 0.064745313713752681, 0.15240438849998827, 0.13461961331590541, 0.65820273873693247, 0.19996591601087288, 0.21940676979574097], 'c': [0.48674198105432087, 0.4253183530023732, 0.07527793126056781, 0.22434226478314656, 0.29682116536138714, 0.49688532896919957, 0.024118609267932523, 0.38621563341208975, 0.28462328713849172], 'B': [0.72433964909888227, 0.46636688978674029, 0.76701010379428503, 0.36851552745793392, 0.96306520029441689, 0.42032294626287503, 0.86146768599692569, 0.15563335994107258, 0.77720413578097458], 'e': [0.097023453842354668, 0.52640259806419998, 0.068888564307673872, 0.7284964782091502, 0.95728217153451167, 0.58115597819539655, 0.60136941088151075, 0.97667307315825103, 0.48454784272633744], 'd': [0.19812372156441316, 0.46711235324898293, 0.70112961998579615, 0.51240073041325818, 0.20687166585822347, 0.47533485735409664, 0.94187750643494061, 0.2193358023182973, 0.33735380642051849], 'g': [0.80410393452130657, 0.30553561958114084, 0.35083982228762101, 0.9524394987932967, 0.26009549874733218, 0.9838066960695212, 0.10660816593865696, 0.89306241736320324, 0.94738395324164015], 'f': [0.75457047862583293, 0.23853149536251361, 0.72786805363955398, 0.0088702364322795768, 0.37113537566560595, 0.21268276763976057, 0.50991611164920392, 0.027363280563369563, 0.66516770074853571], 'h': [0.75963967077940775, 0.28310983227415099, 0.90110346792808749, 0.055087499099430004, 0.014436170589313901, 0.38443450499362186, 0.92413116591212841, 0.50179589683703407, 0.80933555591023232], 'F': [0.77672818889727013, 0.25278574533770248, 0.76394620409044889, 0.045774421885389396, 0.40559215868289611, 0.25987747571181818, 0.53956280765070541, 0.02804451821903909, 0.70041207298147579], 'C': [0.53005334680874006, 0.43279872909482325, 0.10099360478193196, 0.26866212344046531, 0.32425347407318517, 0.52872224757710218, 0.06306351174921912, 0.43464870813897827, 0.29988073168797175], 'G': [0.84669771678303052, 0.32411401641535365, 0.39346831347375505, 0.96254550570481501, 0.27528022491711718, 1.0149696681332609, 0.12225352878120696, 0.91812696598725485, 0.95043174894601534], 'b': [0.68133980952917494, 0.4319288507130763, 0.7249132687702794, 0.34001969906650864, 0.95070445433944806, 0.38790990534074998, 0.83024320045942768, 0.14083937060831819, 0.75084408989347806], 'H': [0.76957226490178143, 0.30116742196590096, 0.90656691577571225, 0.068541149390696526, 0.046928419300344595, 0.40517223384686207, 0.92885829277314247, 0.51486876759481026, 0.80974579060394702], 'E': [0.14193387676434124, 0.54545210875624262, 0.11331005356062862, 0.75245909902571639, 0.98903048477090671, 0.61919360972537629, 0.60928067216380366, 0.98929133339423447, 0.50518699087169572], 'D': [0.24507622014315414, 0.48691673697474769, 0.70168865100169975, 0.52010557778577182, 0.22715104857239732, 0.52489852337721554, 0.94428159281850421, 0.25123201388318794, 0.3451164199574237]}\n",
      "\n",
      "Vectorizer:\n",
      "complexity: 2\n",
      "n_discretization_levels: 10\n",
      "\n",
      "Estimator:\n",
      "     alpha: 1e-06\n",
      "      eta0: 0.01\n",
      "  l1_ratio: 0.796544186135\n",
      "learning_rate: constant\n",
      "      loss: squared_hinge\n",
      "    n_iter: 9\n",
      "   penalty: l2\n",
      "   power_t: 0.550042440889\n",
      "\n",
      "\n",
      "\tIteration: 3/30 (after 4.6 sec; 0:00:04.580163)\n",
      "Best score (roc_auc): 0.938 (0.970 +- 0.032)\n",
      "\n",
      "Data:\n",
      "Instances: 50 ; Features: 1048577 with an avg of 408 features per instance\n",
      "class: 1 count:25 (0.50)\tclass: -1 count:25 (0.50)\t\n",
      "\n",
      "\tModel parameters:\n",
      "\n",
      "Pre_processor:\n",
      "default_encoding: [0, 0, 0, 0, 0, 0, 0, 0, 0]\n",
      "  encoding: {'a': [0.98200067929024759, 0.33617524637240614, 0.1801339327068594, 0.042179460346065345, 0.54294590583625024, 0.59039625597485224, 0.23471059284260931, 0.76823176288391803, 0.90338344832112083], 'A': [1.0066567214110713, 0.3599941463646571, 0.18056979471984624, 0.051663701569772937, 0.57583040692162535, 0.62592354301509801, 0.25330469279695011, 0.81530061283699451, 0.91621924764955698], 'c': [0.99995471609981268, 0.16043797737626819, 0.91570629341923726, 0.18474353536396282, 0.53135954500132487, 0.43585992308042931, 0.62597203361164577, 0.17246044343692823, 0.5313290901876192], 'B': [0.098171808263700297, 0.12661238221310908, 0.92231323079225325, 0.52075120996085966, 0.4602800981063972, 0.94448771391705322, 0.17046532125577959, 0.72471095241829342, 0.20641939158230613], 'e': [0.021515660638921297, 0.40192761333746285, 0.62823505494410148, 0.83840819128952737, 0.859201993127089, 0.15929749569436069, 0.17465236218463465, 0.75116835571877594, 0.62423667644958436], 'd': [0.44344242060756212, 0.555314547263414, 0.28216660560611861, 0.92653226489217211, 0.9344875276782294, 0.23491613922567933, 0.28807559319937071, 0.26018783538800694, 0.3689531911715227], 'g': [0.42214743620300554, 0.7640772855457445, 0.6851198170050391, 0.52475833472456201, 0.38543983431173268, 0.14371829520030521, 0.69342339351952642, 0.60028535635745361, 0.90611891325281113], 'f': [0.30544666253104324, 0.39973423440843192, 0.89362339279832681, 0.097048272060810015, 0.22498277096959907, 0.64878626681626539, 0.71692657582894892, 0.52167906428882571, 0.0070849900834655255], 'h': [0.51981252596945315, 0.27277919194069744, 0.31223410153629672, 0.98101586616769076, 0.95556503417392558, 0.16075339186828974, 0.83112992875614944, 0.36244702582651667, 0.16336978849819528], 'F': [0.34988097203248625, 0.41684414915819962, 0.92453536388127022, 0.12774153319850276, 0.2358800281032313, 0.69592680579745925, 0.74625240026976158, 0.57134687242948512, 0.047189953428534881], 'C': [1.0261163187148019, 0.16730262762338444, 0.9160790191405318, 0.18985732887037143, 0.57039729721607002, 0.48359346770760953, 0.64429912304627013, 0.1911316820217408, 0.57530636451766837], 'G': [0.42825684650957935, 0.79252290999490549, 0.71741529698569051, 0.54513402054633886, 0.41902947605094998, 0.18149013236825512, 0.70627760734891554, 0.65016106451621991, 0.91881578721113], 'b': [0.083826645251128928, 0.0872611589072676, 0.92067421495318902, 0.47278214503150096, 0.41079500701930516, 0.9316047554331337, 0.12568100521947212, 0.7107922835763455, 0.20342669808693936], 'H': [0.55283875577155461, 0.31552376686997696, 0.31937405668898311, 1.0009519119280017, 0.9955542314557837, 0.19338052647455717, 0.84131992675912204, 0.41218535174038778, 0.17841238772371323], 'E': [0.063736138114283317, 0.41090451415154561, 0.66244642474192827, 0.84105241962901367, 0.86827530930600261, 0.16852071225660994, 0.17885846068864925, 0.76872886618887082, 0.64957949444515606], 'D': [0.4489952627338899, 0.58424414961963855, 0.28418680537393376, 0.9563352276879723, 0.95590436903123677, 0.27707134807597422, 0.33705055260584482, 0.29856279390164692, 0.38318634042108068]}\n",
      "\n",
      "Vectorizer:\n",
      "complexity: 2\n",
      "n_discretization_levels: 9\n",
      "\n",
      "Estimator:\n",
      "     alpha: 0.01\n",
      "      eta0: 0.01\n",
      "  l1_ratio: 0.766577740846\n",
      "learning_rate: constant\n",
      "      loss: modified_huber\n",
      "    n_iter: 6\n",
      "   penalty: l2\n",
      "   power_t: 0.640562517524\n",
      "Saved current best model in my_seq.model\n",
      "\n",
      "\tModel parameters:\n",
      "\n",
      "Pre_processor:\n",
      "default_encoding: [0, 0, 0, 0, 0, 0, 0, 0, 0]\n",
      "  encoding: {'a': [0.98200067929024759, 0.33617524637240614, 0.1801339327068594, 0.042179460346065345, 0.54294590583625024, 0.59039625597485224, 0.23471059284260931, 0.76823176288391803, 0.90338344832112083], 'A': [1.0066567214110713, 0.3599941463646571, 0.18056979471984624, 0.051663701569772937, 0.57583040692162535, 0.62592354301509801, 0.25330469279695011, 0.81530061283699451, 0.91621924764955698], 'c': [0.99995471609981268, 0.16043797737626819, 0.91570629341923726, 0.18474353536396282, 0.53135954500132487, 0.43585992308042931, 0.62597203361164577, 0.17246044343692823, 0.5313290901876192], 'B': [0.098171808263700297, 0.12661238221310908, 0.92231323079225325, 0.52075120996085966, 0.4602800981063972, 0.94448771391705322, 0.17046532125577959, 0.72471095241829342, 0.20641939158230613], 'e': [0.021515660638921297, 0.40192761333746285, 0.62823505494410148, 0.83840819128952737, 0.859201993127089, 0.15929749569436069, 0.17465236218463465, 0.75116835571877594, 0.62423667644958436], 'd': [0.44344242060756212, 0.555314547263414, 0.28216660560611861, 0.92653226489217211, 0.9344875276782294, 0.23491613922567933, 0.28807559319937071, 0.26018783538800694, 0.3689531911715227], 'g': [0.42214743620300554, 0.7640772855457445, 0.6851198170050391, 0.52475833472456201, 0.38543983431173268, 0.14371829520030521, 0.69342339351952642, 0.60028535635745361, 0.90611891325281113], 'f': [0.30544666253104324, 0.39973423440843192, 0.89362339279832681, 0.097048272060810015, 0.22498277096959907, 0.64878626681626539, 0.71692657582894892, 0.52167906428882571, 0.0070849900834655255], 'h': [0.51981252596945315, 0.27277919194069744, 0.31223410153629672, 0.98101586616769076, 0.95556503417392558, 0.16075339186828974, 0.83112992875614944, 0.36244702582651667, 0.16336978849819528], 'F': [0.34988097203248625, 0.41684414915819962, 0.92453536388127022, 0.12774153319850276, 0.2358800281032313, 0.69592680579745925, 0.74625240026976158, 0.57134687242948512, 0.047189953428534881], 'C': [1.0261163187148019, 0.16730262762338444, 0.9160790191405318, 0.18985732887037143, 0.57039729721607002, 0.48359346770760953, 0.64429912304627013, 0.1911316820217408, 0.57530636451766837], 'G': [0.42825684650957935, 0.79252290999490549, 0.71741529698569051, 0.54513402054633886, 0.41902947605094998, 0.18149013236825512, 0.70627760734891554, 0.65016106451621991, 0.91881578721113], 'b': [0.083826645251128928, 0.0872611589072676, 0.92067421495318902, 0.47278214503150096, 0.41079500701930516, 0.9316047554331337, 0.12568100521947212, 0.7107922835763455, 0.20342669808693936], 'H': [0.55283875577155461, 0.31552376686997696, 0.31937405668898311, 1.0009519119280017, 0.9955542314557837, 0.19338052647455717, 0.84131992675912204, 0.41218535174038778, 0.17841238772371323], 'E': [0.063736138114283317, 0.41090451415154561, 0.66244642474192827, 0.84105241962901367, 0.86827530930600261, 0.16852071225660994, 0.17885846068864925, 0.76872886618887082, 0.64957949444515606], 'D': [0.4489952627338899, 0.58424414961963855, 0.28418680537393376, 0.9563352276879723, 0.95590436903123677, 0.27707134807597422, 0.33705055260584482, 0.29856279390164692, 0.38318634042108068]}\n",
      "\n",
      "Vectorizer:\n",
      "complexity: 2\n",
      "n_discretization_levels: 9\n",
      "\n",
      "Estimator:\n",
      "     alpha: 0.01\n",
      "      eta0: 0.01\n",
      "  l1_ratio: 0.766577740846\n",
      "learning_rate: constant\n",
      "      loss: modified_huber\n",
      "    n_iter: 6\n",
      "   penalty: l2\n",
      "   power_t: 0.640562517524\n",
      "\n",
      "Classifier:\n",
      "SGDClassifier(alpha=0.01, average=False, class_weight='auto', epsilon=0.1,\n",
      "       eta0=0.01, fit_intercept=True, l1_ratio=0.76657774084634422,\n",
      "       learning_rate='constant', loss='modified_huber', n_iter=6, n_jobs=1,\n",
      "       penalty='l2', power_t=0.64056251752427895, random_state=None,\n",
      "       shuffle=True, verbose=0, warm_start=False)\n",
      "\n",
      "Data:\n",
      "Instances: 52 ; Features: 1048577 with an avg of 408 features per instance\n",
      "\n",
      "Predictive performace estimate:\n",
      "             precision    recall  f1-score   support\n",
      "\n",
      "         -1       0.86      0.96      0.91        26\n",
      "          1       0.96      0.85      0.90        26\n",
      "\n",
      "avg / total       0.91      0.90      0.90        52\n",
      "\n",
      "APR: 0.981\n",
      "ROC: 0.982\n",
      "CPU times: user 14.4 s, sys: 4.42 s, total: 18.9 s\n",
      "Wall time: 46.9 s\n"
     ]
    }
   ],
   "source": [
    "%%time\n",
    "#optimize hyperparameters and fit a predictive model\n",
    "\n",
    "#determine optimal parameter configuration\n",
    "model.optimize(train_pos_seqs, train_neg_seqs,\n",
    "               model_name='my_seq.model', \n",
    "               n_active_learning_iterations=0,\n",
    "               n_iter=n_iter_search, cv=3,\n",
    "               pre_processor_parameters=pre_processor_parameters, \n",
    "               vectorizer_parameters=vectorizer_parameters, \n",
    "               estimator_parameters=estimator_parameters)\n",
    "\n",
    "#print optimal parameter configuration\n",
    "print model.get_parameters()\n",
    "\n",
    "#evaluate predictive performance\n",
    "apr, roc = model.estimate(test_pos_seqs, test_neg_seqs)"
   ]
  },
  {
   "cell_type": "code",
   "execution_count": null,
   "metadata": {
    "collapsed": true
   },
   "outputs": [],
   "source": []
  }
 ],
 "metadata": {
  "kernelspec": {
   "display_name": "Python 2",
   "language": "python",
   "name": "python2"
  },
  "language_info": {
   "codemirror_mode": {
    "name": "ipython",
    "version": 2
   },
   "file_extension": ".py",
   "mimetype": "text/x-python",
   "name": "python",
   "nbconvert_exporter": "python",
   "pygments_lexer": "ipython2",
   "version": "2.7.6"
  }
 },
 "nbformat": 4,
 "nbformat_minor": 0
}
