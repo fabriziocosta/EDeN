{
 "metadata": {
  "name": "",
  "signature": "sha256:2fff3db99a42b062088aa982f29ad44088b6be66161d9892fe88afc2a54019ae"
 },
 "nbformat": 3,
 "nbformat_minor": 0,
 "worksheets": [
  {
   "cells": [
    {
     "cell_type": "markdown",
     "metadata": {},
     "source": [
      "#Example\n",
      "\n",
      "Consider sequences that are increasingly different. EDeN allows to turn them into vectors, whose similarity is decreasing."
     ]
    },
    {
     "cell_type": "code",
     "collapsed": false,
     "input": [
      "%matplotlib inline"
     ],
     "language": "python",
     "metadata": {},
     "outputs": [],
     "prompt_number": 1
    },
    {
     "cell_type": "markdown",
     "metadata": {},
     "source": [
      "Build an artificial dataset: starting from the string 'abcdefghijklmnopqrstuvwxyz', generate iteratively strings by swapping two characters at random. In this way instances are progressively more dissimilar"
     ]
    },
    {
     "cell_type": "code",
     "collapsed": false,
     "input": [
      "import random\n",
      "\n",
      "def make_data(size):\n",
      "    text = ''.join([str(unichr(97+i)) for i in range(26)])\n",
      "    seqs = []\n",
      "\n",
      "    def swap_two_characters(seq):\n",
      "        '''define a function that swaps two characters at random positions in a string '''\n",
      "        line = list(seq)\n",
      "        id_i = random.randint(0,len(line)-1)\n",
      "        id_j = random.randint(0,len(line)-1)\n",
      "        line[id_i], line[id_j] = line[id_j], line[id_i]\n",
      "        return ''.join(line)\n",
      "\n",
      "    for i in range(size):\n",
      "        text = swap_two_characters( text )\n",
      "        seqs.append( text )\n",
      "        print text\n",
      "        \n",
      "    return seqs"
     ],
     "language": "python",
     "metadata": {},
     "outputs": [],
     "prompt_number": 2
    },
    {
     "cell_type": "code",
     "collapsed": false,
     "input": [
      "seqs = make_data(25)"
     ],
     "language": "python",
     "metadata": {},
     "outputs": [
      {
       "output_type": "stream",
       "stream": "stdout",
       "text": [
        "abcdefghikjlmnopqrstuvwxyz\n",
        "abcdefghmkjlinopqrstuvwxyz\n",
        "abcdefghmkjlinypqrstuvwxoz\n",
        "abcdefghmkjlqnypirstuvwxoz\n",
        "abcdefghmkjrqnypilstuvwxoz\n",
        "abcdefghmkjrqnypilstuvxwoz\n",
        "abcqefghmkjrdnypilstuvxwoz\n",
        "abcqefghmkjrdnypiwstuvxloz\n",
        "abcqgfehmkjrdnypiwstuvxloz\n",
        "abcqgfehmkjrdnypiwstuvxloz\n",
        "abcqgfehmkjrdnypivstuwxloz\n",
        "abcqgfeumkjrdnypivsthwxloz\n",
        "abcqgfeumkjronypivsthwxldz\n",
        "abcqgfeumpjronykivsthwxldz\n",
        "akcqgfeumpjronybivsthwxldz\n",
        "akcqgleumpjronybivsthwxfdz\n",
        "akcqglepmujronybivsthwxfdz\n",
        "wkcqglepmujronybivsthaxfdz\n",
        "wkcqglfpmujronybivsthaxedz\n",
        "wkcqgxfpmujronybivsthaledz\n",
        "wpcqgxfkmujronybivsthaledz\n",
        "spcqgxfkmujronybivwthaledz\n",
        "spcqgxftmujronybivwkhaledz\n",
        "spcqgxftmujrnoybivwkhaledz\n",
        "sdcqgxftmujrnoybivwkhalepz\n"
       ]
      }
     ],
     "prompt_number": 3
    },
    {
     "cell_type": "markdown",
     "metadata": {},
     "source": [
      "define a function that builds a graph from a string, i.e. the path graph with the characters as node labels"
     ]
    },
    {
     "cell_type": "code",
     "collapsed": false,
     "input": [
      "import networkx as nx\n",
      "\n",
      "def sequence_to_graph(seq):\n",
      "    '''convert a sequence into a EDeN 'compatible' graph\n",
      "    i.e. a graph with the attribute 'label' for every node and edge'''\n",
      "    G = nx.Graph()\n",
      "    for id,character in enumerate(seq):\n",
      "        G.add_node(id, label = character )\n",
      "        if id > 0:\n",
      "            G.add_edge(id-1, id, label = '-')\n",
      "    return G"
     ],
     "language": "python",
     "metadata": {},
     "outputs": [],
     "prompt_number": 4
    },
    {
     "cell_type": "markdown",
     "metadata": {},
     "source": [
      "make a generator that yields graphs: generators are 'good' as they allow functional composition"
     ]
    },
    {
     "cell_type": "code",
     "collapsed": false,
     "input": [
      "def pre_process(iterable):\n",
      "    for seq in iterable:\n",
      "        yield sequence_to_graph(seq)"
     ],
     "language": "python",
     "metadata": {},
     "outputs": [],
     "prompt_number": 5
    },
    {
     "cell_type": "markdown",
     "metadata": {},
     "source": [
      "initialize the vectorizer object with the desired 'resolution'"
     ]
    },
    {
     "cell_type": "code",
     "collapsed": false,
     "input": [
      "%%time\n",
      "from eden.graph import Vectorizer\n",
      "vectorizer = Vectorizer( complexity = 4 )"
     ],
     "language": "python",
     "metadata": {},
     "outputs": [
      {
       "output_type": "stream",
       "stream": "stdout",
       "text": [
        "CPU times: user 126 ms, sys: 40.5 ms, total: 166 ms\n",
        "Wall time: 151 ms\n"
       ]
      }
     ],
     "prompt_number": 6
    },
    {
     "cell_type": "markdown",
     "metadata": {},
     "source": [
      "obtain an iterator over the sequences processed into graphs"
     ]
    },
    {
     "cell_type": "code",
     "collapsed": false,
     "input": [
      "%%time\n",
      "graphs = pre_process( seqs )"
     ],
     "language": "python",
     "metadata": {},
     "outputs": [
      {
       "output_type": "stream",
       "stream": "stdout",
       "text": [
        "CPU times: user 3 \u00b5s, sys: 0 ns, total: 3 \u00b5s\n",
        "Wall time: 5.01 \u00b5s\n"
       ]
      }
     ],
     "prompt_number": 7
    },
    {
     "cell_type": "markdown",
     "metadata": {},
     "source": [
      "compute the vector encoding of each instance in a sparse data matrix"
     ]
    },
    {
     "cell_type": "code",
     "collapsed": false,
     "input": [
      "%%time\n",
      "X = vectorizer.transform( graphs )\n",
      "print 'Instances: %d ; Features: %d with an avg of %d features per instance' % (X.shape[0], X.shape[1],  X.getnnz()/X.shape[0])"
     ],
     "language": "python",
     "metadata": {},
     "outputs": [
      {
       "output_type": "stream",
       "stream": "stdout",
       "text": [
        "Instances: 25 ; Features: 1048577 with an avg of 599 features per instance\n",
        "CPU times: user 114 ms, sys: 48.5 ms, total: 162 ms\n",
        "Wall time: 253 ms\n"
       ]
      }
     ],
     "prompt_number": 8
    },
    {
     "cell_type": "markdown",
     "metadata": {},
     "source": [
      "compute the pairwise similarity as the dot product between the vector representations of each sequence"
     ]
    },
    {
     "cell_type": "code",
     "collapsed": false,
     "input": [
      "from sklearn import metrics\n",
      "\n",
      "K=metrics.pairwise.pairwise_kernels(X, metric='linear')\n",
      "print K"
     ],
     "language": "python",
     "metadata": {},
     "outputs": [
      {
       "output_type": "stream",
       "stream": "stdout",
       "text": [
        "[[ 0.99846154  0.58527257  0.35650485  0.30048452  0.26514333  0.23366326\n",
        "   0.11684591  0.11524591  0.09816885  0.09816885  0.0932122   0.08515279\n",
        "   0.08857097  0.0813773   0.07028286  0.06380527  0.05850224  0.0569747\n",
        "   0.0603863   0.05864717  0.05864717  0.05864717  0.05524137  0.05350224\n",
        "   0.05168406]\n",
        " [ 0.58527257  1.          0.57124759  0.44109004  0.37551659  0.34403653\n",
        "   0.15760223  0.15440223  0.11134221  0.11134221  0.10638557  0.09184857\n",
        "   0.09526675  0.08151643  0.07202199  0.0655444   0.06024137  0.05871383\n",
        "   0.06212543  0.05864717  0.06024717  0.06024717  0.05851896  0.05524137\n",
        "   0.05342319]\n",
        " [ 0.35650485  0.57124759  1.          0.58527257  0.49731902  0.3705341\n",
        "   0.17941904  0.17447991  0.12981861  0.12981861  0.1213837   0.10502852\n",
        "   0.10370824  0.08681946  0.07732502  0.07084743  0.0655444   0.06401686\n",
        "   0.06568933  0.0639502   0.0655502   0.06373202  0.0636368   0.06057739\n",
        "   0.05875921]\n",
        " [ 0.30048452  0.44109004  0.58527257  1.          0.5228252   0.39604028\n",
        "   0.18973751  0.18821656  0.14515654  0.14515654  0.13490346  0.11309373\n",
        "   0.11177345  0.09188533  0.08065177  0.07417418  0.07068933  0.06916179\n",
        "   0.07083426  0.06909513  0.07069513  0.06721028  0.06046535  0.05720527\n",
        "   0.05538709]\n",
        " [ 0.26514333  0.37551659  0.49731902  0.5228252   1.          0.76539459\n",
        "   0.29883604  0.21830968  0.16354809  0.16354809  0.15511319  0.12654102\n",
        "   0.12522074  0.09348533  0.0839909   0.07395599  0.07744084  0.07591331\n",
        "   0.07758577  0.0759191   0.07570092  0.07221607  0.06547115  0.0605444\n",
        "   0.06039289]\n",
        " [ 0.23366326  0.34403653  0.3705341   0.39604028  0.76539459  0.99833333\n",
        "   0.51935713  0.24151728  0.18675569  0.18675569  0.16537595  0.13513712\n",
        "   0.13051718  0.09878178  0.08928734  0.07925244  0.08273729  0.08120975\n",
        "   0.08288221  0.0759191   0.07570092  0.07061607  0.06387115  0.0589444\n",
        "   0.05879289]\n",
        " [ 0.11684591  0.15760223  0.17941904  0.18973751  0.29883604  0.51935713\n",
        "   1.          0.61433966  0.3137821   0.3137821   0.29240237  0.23202959\n",
        "   0.14829516  0.11485724  0.09247496  0.08077339  0.08425823  0.07925244\n",
        "   0.0793249   0.07236179  0.07214361  0.06705876  0.06031383  0.05538709\n",
        "   0.05705375]\n",
        " [ 0.11524591  0.15440223  0.17447991  0.18821656  0.21830968  0.24151728\n",
        "   0.61433966  1.          0.69406695  0.69406695  0.31993161  0.25312527\n",
        "   0.15526485  0.12182694  0.09944465  0.08265823  0.08447642  0.07758577\n",
        "   0.07765823  0.07236179  0.07214361  0.06705876  0.06198195  0.0570552\n",
        "   0.0570552 ]\n",
        " [ 0.09816885  0.11134221  0.12981861  0.14515654  0.16354809  0.18675569\n",
        "   0.3137821   0.69406695  1.          1.          0.62048917  0.33240381\n",
        "   0.2345434   0.20103302  0.12113277  0.09640276  0.09822094  0.08951211\n",
        "   0.08080328  0.07550684  0.07528866  0.07020381  0.06686613  0.06193938\n",
        "   0.06193938]\n",
        " [ 0.09816885  0.11134221  0.12981861  0.14515654  0.16354809  0.18675569\n",
        "   0.3137821   0.69406695  1.          1.          0.62048917  0.33240381\n",
        "   0.2345434   0.20103302  0.12113277  0.09640276  0.09822094  0.08951211\n",
        "   0.08080328  0.07550684  0.07528866  0.07020381  0.06686613  0.06193938\n",
        "   0.06193938]\n",
        " [ 0.0932122   0.10638557  0.1213837   0.13490346  0.15511319  0.16537595\n",
        "   0.29240237  0.31993161  0.62048917  0.62048917  1.          0.45516702\n",
        "   0.28388034  0.22264788  0.14274762  0.1129943   0.11481249  0.10094635\n",
        "   0.09223752  0.08694108  0.08672289  0.07536112  0.07035533  0.0636104\n",
        "   0.0636104 ]\n",
        " [ 0.08515279  0.09184857  0.10502852  0.11309373  0.12654102  0.13513712\n",
        "   0.23202959  0.25312527  0.33240381  0.33240381  0.45516702  1.\n",
        "   0.56235063  0.35529448  0.2363683   0.16919416  0.15723547  0.11898186\n",
        "   0.10867175  0.10337531  0.10636226  0.08699023  0.0771793   0.0686162\n",
        "   0.06694953]\n",
        " [ 0.08857097  0.09526675  0.10370824  0.11177345  0.12522074  0.13051718\n",
        "   0.14829516  0.15526485  0.2345434   0.2345434   0.28388034  0.56235063\n",
        "   1.          0.5228252   0.39908296  0.20423488  0.19042449  0.14861356\n",
        "   0.14004423  0.13134035  0.13788461  0.1166944   0.10332616  0.07517284\n",
        "   0.06854953]\n",
        " [ 0.0813773   0.08151643  0.08681946  0.09188533  0.09348533  0.09878178\n",
        "   0.11485724  0.12182694  0.20103302  0.20103302  0.22264788  0.35529448\n",
        "   0.5228252   1.          0.55882994  0.27647127  0.20032539  0.15851447\n",
        "   0.14658849  0.13621794  0.12967368  0.10848347  0.10332616  0.07517284\n",
        "   0.0702162 ]\n",
        " [ 0.07028286  0.07202199  0.07732502  0.08065177  0.0839909   0.08928734\n",
        "   0.09247496  0.09944465  0.12113277  0.12113277  0.14274762  0.2363683\n",
        "   0.39908296  0.55882994  1.          0.5448633   0.40034335  0.28919302\n",
        "   0.27734445  0.26697389  0.25220632  0.16274716  0.15418405  0.08486794\n",
        "   0.0799113 ]\n",
        " [ 0.06380527  0.0655444   0.07084743  0.07417418  0.07395599  0.07925244\n",
        "   0.08077339  0.08265823  0.09640276  0.09640276  0.1129943   0.16919416\n",
        "   0.20423488  0.27647127  0.5448633   0.99833333  0.65892446  0.34656932\n",
        "   0.29232855  0.27017389  0.25540632  0.16594716  0.15738405  0.08806794\n",
        "   0.0831113 ]\n",
        " [ 0.05850224  0.06024137  0.0655444   0.07068933  0.07744084  0.08273729\n",
        "   0.08425823  0.08447642  0.09822094  0.09822094  0.11481249  0.15723547\n",
        "   0.19042449  0.20032539  0.40034335  0.65892446  0.99651515  0.62721273\n",
        "   0.40310993  0.37747042  0.32897337  0.22390893  0.21534582  0.09767326\n",
        "   0.09578261]\n",
        " [ 0.0569747   0.05871383  0.06401686  0.06916179  0.07591331  0.08120975\n",
        "   0.07925244  0.07758577  0.08951211  0.08951211  0.10094635  0.11898186\n",
        "   0.14861356  0.15851447  0.28919302  0.34656932  0.62721273  0.99818182\n",
        "   0.53418642  0.45517228  0.3780284   0.23590774  0.22392132  0.10624875\n",
        "   0.10261898]\n",
        " [ 0.0603863   0.06212543  0.06568933  0.07083426  0.07758577  0.08288221\n",
        "   0.0793249   0.07765823  0.08080328  0.08080328  0.09223752  0.10867175\n",
        "   0.14004423  0.14658849  0.27734445  0.29232855  0.40310993  0.53418642\n",
        "   1.          0.51435133  0.40033952  0.25821885  0.24259607  0.1249235\n",
        "   0.11347962]\n",
        " [ 0.05864717  0.05864717  0.0639502   0.06909513  0.0759191   0.0759191\n",
        "   0.07236179  0.07236179  0.07550684  0.07550684  0.08694108  0.10337531\n",
        "   0.13134035  0.13621794  0.26697389  0.27017389  0.37747042  0.45517228\n",
        "   0.51435133  1.          0.64609944  0.36430852  0.32069052  0.20301796\n",
        "   0.14295774]\n",
        " [ 0.05864717  0.06024717  0.0655502   0.07069513  0.07570092  0.07570092\n",
        "   0.07214361  0.07214361  0.07528866  0.07528866  0.08672289  0.10636226\n",
        "   0.13788461  0.12967368  0.25220632  0.25540632  0.32897337  0.3780284\n",
        "   0.40033952  0.64609944  1.          0.59569788  0.33385809  0.21618553\n",
        "   0.14135774]\n",
        " [ 0.05864717  0.06024717  0.06373202  0.06721028  0.07221607  0.07061607\n",
        "   0.06705876  0.06705876  0.07020381  0.07020381  0.07536112  0.08699023\n",
        "   0.1166944   0.10848347  0.16274716  0.16594716  0.22390893  0.23590774\n",
        "   0.25821885  0.36430852  0.59569788  1.          0.44638573  0.30516431\n",
        "   0.16679145]\n",
        " [ 0.05524137  0.05851896  0.0636368   0.06046535  0.06547115  0.06387115\n",
        "   0.06031383  0.06198195  0.06686613  0.06686613  0.07035533  0.0771793\n",
        "   0.10332616  0.10332616  0.15418405  0.15738405  0.21534582  0.22392132\n",
        "   0.24259607  0.32069052  0.33385809  0.44638573  1.          0.67206194\n",
        "   0.36491712]\n",
        " [ 0.05350224  0.05524137  0.06057739  0.05720527  0.0605444   0.0589444\n",
        "   0.05538709  0.0570552   0.06193938  0.06193938  0.0636104   0.0686162\n",
        "   0.07517284  0.07517284  0.08486794  0.08806794  0.09767326  0.10624875\n",
        "   0.1249235   0.20301796  0.21618553  0.30516431  0.67206194  1.\n",
        "   0.68210419]\n",
        " [ 0.05168406  0.05342319  0.05875921  0.05538709  0.06039289  0.05879289\n",
        "   0.05705375  0.0570552   0.06193938  0.06193938  0.0636104   0.06694953\n",
        "   0.06854953  0.0702162   0.0799113   0.0831113   0.09578261  0.10261898\n",
        "   0.11347962  0.14295774  0.14135774  0.16679145  0.36491712  0.68210419\n",
        "   1.        ]]\n"
       ]
      }
     ],
     "prompt_number": 9
    },
    {
     "cell_type": "markdown",
     "metadata": {},
     "source": [
      "visualize it as a picture is worth thousand words..."
     ]
    },
    {
     "cell_type": "code",
     "collapsed": false,
     "input": [
      "import pylab as plt\n",
      "plt.figure( figsize=(8,8) )\n",
      "img = plt.imshow( K, interpolation='none', cmap=plt.get_cmap( 'YlOrRd' ) )\n",
      "plt.show()"
     ],
     "language": "python",
     "metadata": {},
     "outputs": [
      {
       "metadata": {},
       "output_type": "display_data",
       "png": "[encoded data removed]",
       "text": [
        "<matplotlib.figure.Figure at 0x10a3569d0>"
       ]
      }
     ],
     "prompt_number": 10
    }
   ],
   "metadata": {}
  }
 ]
}