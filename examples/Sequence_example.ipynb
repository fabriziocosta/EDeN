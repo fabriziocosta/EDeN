{
 "metadata": {
  "name": "",
  "signature": "sha256:95c885ca784091eb2bfd8de55a660e03be5ee13fb4d5c61b82b6580ca5036c32"
 },
 "nbformat": 3,
 "nbformat_minor": 0,
 "worksheets": [
  {
   "cells": [
    {
     "cell_type": "markdown",
     "metadata": {},
     "source": [
      "#Example\n",
      "\n",
      "Consider sequences that are increasingly different. EDeN allows to turn them into vectors, whose similarity is decreasing."
     ]
    },
    {
     "cell_type": "code",
     "collapsed": false,
     "input": [
      "%matplotlib inline"
     ],
     "language": "python",
     "metadata": {},
     "outputs": [],
     "prompt_number": 21
    },
    {
     "cell_type": "markdown",
     "metadata": {},
     "source": [
      "Build an artificial dataset: starting from the string 'abcdefghijklmnopqrstuvwxyz', generate iteratively strings by swapping two characters at random. In this way instances are progressively more dissimilar"
     ]
    },
    {
     "cell_type": "code",
     "collapsed": false,
     "input": [
      "import random\n",
      "\n",
      "def make_data(size):\n",
      "    text = ''.join([str(unichr(97+i)) for i in range(26)])\n",
      "    seqs = []\n",
      "\n",
      "    def swap_two_characters(seq):\n",
      "        '''define a function that swaps two characters at random positions in a string '''\n",
      "        line = list(seq)\n",
      "        id_i = random.randint(0,len(line)-1)\n",
      "        id_j = random.randint(0,len(line)-1)\n",
      "        line[id_i], line[id_j] = line[id_j], line[id_i]\n",
      "        return ''.join(line)\n",
      "\n",
      "    for i in range(size):\n",
      "        text = swap_two_characters( text )\n",
      "        seqs.append( text )\n",
      "        print text\n",
      "        \n",
      "    return seqs"
     ],
     "language": "python",
     "metadata": {},
     "outputs": [],
     "prompt_number": 22
    },
    {
     "cell_type": "code",
     "collapsed": false,
     "input": [
      "seqs = make_data(25)"
     ],
     "language": "python",
     "metadata": {},
     "outputs": [
      {
       "output_type": "stream",
       "stream": "stdout",
       "text": [
        "abcdefthijklmnopqrsguvwxyz\n",
        "abcdewthijklmnopqrsguvfxyz\n",
        "abcdewthijklznopqrsguvfxym\n",
        "aycdewthijklznopqrsguvfxbm\n",
        "ayodewthijklzncpqrsguvfxbm\n",
        "ajodewthiyklzncpqrsguvfxbm\n",
        "ajodewthiyklzncpsrqguvfxbm\n",
        "ajodebthiyklzncpsrqguvfxwm\n",
        "ajodeqthiyklzncpsrbguvfxwm\n",
        "ajodecthiyklznqpsrbguvfxwm\n",
        "ajozecthiykldnqpsrbguvfxwm\n",
        "ojazecthiykldnqpsrbguvfxwm\n",
        "ojaztcehiykldnqpsrbguvfxwm\n",
        "oraztcehiykldnqpsjbguvfxwm\n",
        "oraztcehiykldnspqjbguvfxwm\n",
        "oraitcehzykldnspqjbguvfxwm\n",
        "zraitcehoykldnspqjbguvfxwm\n",
        "zraitcehoyxldnspqjbguvfkwm\n",
        "zraitcvhoyxldnspqjbguefkwm\n",
        "zraitcvhoyxldnspqbjguefkwm\n",
        "zraitcvhdyxlonspqbjguefkwm\n",
        "wraitcvhdyxlonspqbjguefkzm\n",
        "oraitcvhdyxlwnspqbjguefkzm\n",
        "oraitcvhdyxwlnspqbjguefkzm\n",
        "oraitcvhdkxwlnspqbjguefyzm\n"
       ]
      }
     ],
     "prompt_number": 23
    },
    {
     "cell_type": "markdown",
     "metadata": {},
     "source": [
      "define a function that builds a graph from a string, i.e. the path graph with the characters as node labels"
     ]
    },
    {
     "cell_type": "code",
     "collapsed": false,
     "input": [
      "import networkx as nx\n",
      "\n",
      "def sequence_to_graph(seq):\n",
      "    '''convert a sequence into a EDeN 'compatible' graph\n",
      "    i.e. a graph with the attribute 'label' for every node and edge'''\n",
      "    G = nx.Graph()\n",
      "    for id,character in enumerate(seq):\n",
      "        G.add_node(id, label = character )\n",
      "        if id > 0:\n",
      "            G.add_edge(id-1, id, label = '-')\n",
      "    return G"
     ],
     "language": "python",
     "metadata": {},
     "outputs": [],
     "prompt_number": 24
    },
    {
     "cell_type": "markdown",
     "metadata": {},
     "source": [
      "make a generator that yields graphs: generators are 'good' as they allow functional composition"
     ]
    },
    {
     "cell_type": "code",
     "collapsed": false,
     "input": [
      "def pre_process(iterable):\n",
      "    for seq in iterable:\n",
      "        yield sequence_to_graph(seq)"
     ],
     "language": "python",
     "metadata": {},
     "outputs": [],
     "prompt_number": 25
    },
    {
     "cell_type": "markdown",
     "metadata": {},
     "source": [
      "initialize the vectorizer object with the desired 'resolution'"
     ]
    },
    {
     "cell_type": "code",
     "collapsed": false,
     "input": [
      "%%time\n",
      "from eden.graph import Vectorizer\n",
      "vectorizer = Vectorizer( r=2, d=4 )"
     ],
     "language": "python",
     "metadata": {},
     "outputs": [
      {
       "output_type": "stream",
       "stream": "stdout",
       "text": [
        "CPU times: user 46 \u00b5s, sys: 1 \u00b5s, total: 47 \u00b5s\n",
        "Wall time: 54.1 \u00b5s\n"
       ]
      }
     ],
     "prompt_number": 26
    },
    {
     "cell_type": "markdown",
     "metadata": {},
     "source": [
      "obtain an iterator over the sequences processed into graphs"
     ]
    },
    {
     "cell_type": "code",
     "collapsed": false,
     "input": [
      "%%time\n",
      "graphs = pre_process( seqs )"
     ],
     "language": "python",
     "metadata": {},
     "outputs": [
      {
       "output_type": "stream",
       "stream": "stdout",
       "text": [
        "CPU times: user 7 \u00b5s, sys: 0 ns, total: 7 \u00b5s\n",
        "Wall time: 12.2 \u00b5s\n"
       ]
      }
     ],
     "prompt_number": 27
    },
    {
     "cell_type": "markdown",
     "metadata": {},
     "source": [
      "compute the vector encoding of each instance in a sparse data matrix"
     ]
    },
    {
     "cell_type": "code",
     "collapsed": false,
     "input": [
      "%%time\n",
      "X = vectorizer.transform( graphs )\n",
      "print 'Instances: %d ; Features: %d with an avg of %d features per instance' % (X.shape[0], X.shape[1],  X.getnnz()/X.shape[0])"
     ],
     "language": "python",
     "metadata": {},
     "outputs": [
      {
       "output_type": "stream",
       "stream": "stdout",
       "text": [
        "Instances: 25 ; Features: 1048577 with an avg of 360 features per instance\n",
        "CPU times: user 198 ms, sys: 38.9 ms, total: 236 ms\n",
        "Wall time: 457 ms\n"
       ]
      }
     ],
     "prompt_number": 28
    },
    {
     "cell_type": "markdown",
     "metadata": {},
     "source": [
      "compute the pairwise similarity as the dot product between the vector representations of each sequence"
     ]
    },
    {
     "cell_type": "code",
     "collapsed": false,
     "input": [
      "from sklearn import metrics\n",
      "\n",
      "K=metrics.pairwise.pairwise_kernels(X, metric='linear')\n",
      "print K"
     ],
     "language": "python",
     "metadata": {},
     "outputs": [
      {
       "output_type": "stream",
       "stream": "stdout",
       "text": [
        "[[ 1.          0.65409821  0.45189967  0.39234465  0.2997793   0.25102027\n",
        "   0.18242417  0.18786862  0.17464994  0.18009439  0.16860032  0.16557001\n",
        "   0.15453116  0.13748154  0.14630894  0.14063261  0.1408645   0.12647188\n",
        "   0.12111902  0.11519016  0.11792197  0.11792197  0.11525531  0.11146177\n",
        "   0.10044357]\n",
        " [ 0.65409821  1.          0.72964603  0.57879616  0.45802155  0.36653856\n",
        "   0.26405689  0.21807564  0.19576606  0.2012105   0.18971643  0.18668613\n",
        "   0.17564728  0.15859765  0.16742505  0.16174872  0.16198061  0.13701534\n",
        "   0.12109838  0.11516952  0.11493764  0.11783619  0.11227097  0.10343259\n",
        "   0.09775626]\n",
        " [ 0.45189967  0.72964603  1.          0.77679646  0.54547691  0.40617094\n",
        "   0.29762866  0.25164741  0.22933783  0.23478227  0.19842306  0.19539276\n",
        "   0.18435391  0.16730428  0.17613168  0.17056647  0.17068724  0.14016641\n",
        "   0.12121915  0.11529029  0.11505841  0.11795696  0.11239174  0.10355336\n",
        "   0.09798814]\n",
        " [ 0.39234465  0.57879616  0.77679646  1.          0.67404638  0.52080301\n",
        "   0.39156464  0.24886963  0.23223638  0.23768082  0.20132161  0.19829131\n",
        "   0.19015101  0.17310138  0.18192879  0.17636357  0.17648434  0.14329685\n",
        "   0.11275538  0.10972508  0.10949319  0.11239174  0.10682653  0.10076833\n",
        "   0.10076833]\n",
        " [ 0.2997793   0.45802155  0.54547691  0.67404638  1.          0.70819547\n",
        "   0.48026986  0.31832475  0.29273234  0.25452775  0.21268525  0.20384686\n",
        "   0.19873687  0.18168724  0.19051464  0.18217165  0.18206054  0.15177434\n",
        "   0.1155538   0.1125235   0.10682653  0.10972508  0.11263461  0.10657642\n",
        "   0.10960672]\n",
        " [ 0.25102027  0.36653856  0.40617094  0.52080301  0.70819547  1.\n",
        "   0.76311523  0.48594618  0.46035377  0.3931101   0.28003513  0.26340188\n",
        "   0.23312391  0.2080451   0.2168725   0.19005942  0.18728165  0.14886338\n",
        "   0.11844269  0.12134124  0.11831094  0.12120949  0.12411902  0.11528305\n",
        "   0.11250527]\n",
        " [ 0.18242417  0.26405689  0.29762866  0.39156464  0.48026986  0.76311523\n",
        "   1.          0.70213486  0.53643583  0.41359251  0.29445694  0.27782369\n",
        "   0.24754572  0.2168725   0.2080451   0.18123202  0.17845424  0.14003598\n",
        "   0.10961528  0.11251383  0.10948353  0.11238208  0.11529161  0.10645564\n",
        "   0.10367786]\n",
        " [ 0.18786862  0.21807564  0.25164741  0.24886963  0.31832475  0.48594618\n",
        "   0.70213486  1.          0.62444296  0.50159964  0.38246407  0.36583082\n",
        "   0.33555285  0.30487963  0.29605223  0.26923915  0.26646137  0.15410513\n",
        "   0.12065413  0.12355268  0.12052238  0.10948353  0.11529161  0.10634212\n",
        "   0.10356434]\n",
        " [ 0.17464994  0.19576606  0.22933783  0.23223638  0.29273234  0.46035377\n",
        "   0.53643583  0.62444296  1.          0.62444296  0.50808517  0.49145191\n",
        "   0.46117395  0.34980406  0.3354211   0.30860802  0.30583024  0.17617185\n",
        "   0.13181376  0.12077491  0.1177446   0.10670575  0.11251383  0.10356434\n",
        "   0.10078656]\n",
        " [ 0.18009439  0.2012105   0.23478227  0.23768082  0.25452775  0.3931101\n",
        "   0.41359251  0.50159964  0.62444296  1.          0.6510679   0.6315361\n",
        "   0.56296064  0.39770717  0.36621509  0.33335239  0.33347316  0.20381477\n",
        "   0.1542259   0.14015675  0.1342279   0.12318905  0.12899713  0.12004763\n",
        "   0.11120925]\n",
        " [ 0.16860032  0.18971643  0.19842306  0.20132161  0.21268525  0.28003513\n",
        "   0.29445694  0.38246407  0.50808517  0.6510679   1.          0.8713486\n",
        "   0.75133289  0.539709    0.43856876  0.36621509  0.36911364  0.22040786\n",
        "   0.17081899  0.15674984  0.1342279   0.12318905  0.12899713  0.12004763\n",
        "   0.11120925]\n",
        " [ 0.16557001  0.18668613  0.19539276  0.19829131  0.20384686  0.26340188\n",
        "   0.27782369  0.36583082  0.49145191  0.6315361   0.8713486   1.\n",
        "   0.77510469  0.54211216  0.44097193  0.36305304  0.36027526  0.21156947\n",
        "   0.16778869  0.15371954  0.13712645  0.1260876   0.12886538  0.11991588\n",
        "   0.1110775 ]\n",
        " [ 0.15453116  0.17564728  0.18435391  0.19015101  0.19873687  0.23312391\n",
        "   0.24754572  0.33555285  0.46117395  0.56296064  0.75133289  0.77510469\n",
        "   1.          0.69910456  0.59493402  0.39431537  0.39153759  0.2367712\n",
        "   0.17916412  0.16219642  0.14257303  0.13443273  0.14024081  0.13129132\n",
        "   0.12245293]\n",
        " [ 0.13748154  0.15859765  0.16730428  0.17310138  0.18168724  0.2080451\n",
        "   0.2168725   0.30487963  0.34980406  0.39770717  0.539709    0.54211216\n",
        "   0.69910456  1.          0.76311523  0.47287747  0.45404375  0.28451012\n",
        "   0.20993534  0.1707898   0.15116641  0.14302611  0.16185984  0.15291034\n",
        "   0.14407196]\n",
        " [ 0.14630894  0.16742505  0.17613168  0.18192879  0.19051464  0.2168725\n",
        "   0.2080451   0.29605223  0.3354211   0.36621509  0.43856876  0.44097193\n",
        "   0.59493402  0.76311523  1.          0.68906615  0.67023242  0.45482376\n",
        "   0.35424019  0.21746914  0.1707898   0.16264951  0.18148323  0.16963518\n",
        "   0.1607968 ]\n",
        " [ 0.14063261  0.16174872  0.17056647  0.17636357  0.18217165  0.19005942\n",
        "   0.18123202  0.26923915  0.30860802  0.33335239  0.36621509  0.36305304\n",
        "   0.39431537  0.47287747  0.68906615  1.          0.73873693  0.52332827\n",
        "   0.38955721  0.25278616  0.20610682  0.19203767  0.25240188  0.24055383\n",
        "   0.23438212]\n",
        " [ 0.1408645   0.16198061  0.17068724  0.17648434  0.18206054  0.18728165\n",
        "   0.17845424  0.26646137  0.30583024  0.33347316  0.36911364  0.36027526\n",
        "   0.39153759  0.45404375  0.67023242  0.73873693  1.          0.67404638\n",
        "   0.46967656  0.33290551  0.26647103  0.19506797  0.19506797  0.18321993\n",
        "   0.17438154]\n",
        " [ 0.12647188  0.13701534  0.14016641  0.14329685  0.15177434  0.14886338\n",
        "   0.14003598  0.15410513  0.17617185  0.20381477  0.22040786  0.21156947\n",
        "   0.2367712   0.28451012  0.45482376  0.52332827  0.67404638  1.\n",
        "   0.63340211  0.4846416   0.32941999  0.23431607  0.22897419  0.20619841\n",
        "   0.18332006]\n",
        " [ 0.12111902  0.12109838  0.12121915  0.11275538  0.1155538   0.11844269\n",
        "   0.10961528  0.12065413  0.13181376  0.1542259   0.17081899  0.16778869\n",
        "   0.17916412  0.20993534  0.35424019  0.38955721  0.46967656  0.63340211\n",
        "   1.          0.76238796  0.4966214   0.32768572  0.32234384  0.29653775\n",
        "   0.25741043]\n",
        " [ 0.11519016  0.11516952  0.11529029  0.10972508  0.1125235   0.12134124\n",
        "   0.11251383  0.12355268  0.12077491  0.14015675  0.15674984  0.15371954\n",
        "   0.16219642  0.1707898   0.21746914  0.25278616  0.33290551  0.4846416\n",
        "   0.76238796  1.          0.69623519  0.50660343  0.50126155  0.47545546\n",
        "   0.41902598]\n",
        " [ 0.11792197  0.11493764  0.11505841  0.10949319  0.10682653  0.11831094\n",
        "   0.10948353  0.12052238  0.1177446   0.1342279   0.1342279   0.13712645\n",
        "   0.14257303  0.15116641  0.1707898   0.20610682  0.26647103  0.32941999\n",
        "   0.4966214   0.69623519  1.          0.80733793  0.61804426  0.56705922\n",
        "   0.45221347]\n",
        " [ 0.11792197  0.11783619  0.11795696  0.11239174  0.10972508  0.12120949\n",
        "   0.11238208  0.10948353  0.10670575  0.12318905  0.12318905  0.1260876\n",
        "   0.13443273  0.14302611  0.16264951  0.19203767  0.19506797  0.23431607\n",
        "   0.32768572  0.50660343  0.80733793  1.          0.72964603  0.67866099\n",
        "   0.46918118]\n",
        " [ 0.11525531  0.11227097  0.11239174  0.10682653  0.11263461  0.12411902\n",
        "   0.11529161  0.11529161  0.11251383  0.12899713  0.12899713  0.12886538\n",
        "   0.14024081  0.16185984  0.18148323  0.25240188  0.19506797  0.22897419\n",
        "   0.32234384  0.50126155  0.61804426  0.72964603  1.          0.76238796\n",
        "   0.55290814]\n",
        " [ 0.11146177  0.10343259  0.10355336  0.10076833  0.10657642  0.11528305\n",
        "   0.10645564  0.10634212  0.10356434  0.12004763  0.12004763  0.11991588\n",
        "   0.13129132  0.15291034  0.16963518  0.24055383  0.18321993  0.20619841\n",
        "   0.29653775  0.47545546  0.56705922  0.67866099  0.76238796  1.\n",
        "   0.67404638]\n",
        " [ 0.10044357  0.09775626  0.09798814  0.10076833  0.10960672  0.11250527\n",
        "   0.10367786  0.10356434  0.10078656  0.11120925  0.11120925  0.1110775\n",
        "   0.12245293  0.14407196  0.1607968   0.23438212  0.17438154  0.18332006\n",
        "   0.25741043  0.41902598  0.45221347  0.46918118  0.55290814  0.67404638\n",
        "   1.        ]]\n"
       ]
      }
     ],
     "prompt_number": 29
    },
    {
     "cell_type": "markdown",
     "metadata": {},
     "source": [
      "visualize it as a picture is worth thousand words..."
     ]
    },
    {
     "cell_type": "code",
     "collapsed": false,
     "input": [
      "import pylab as plt\n",
      "plt.figure( figsize=(8,8) )\n",
      "img = plt.imshow( K, interpolation='none', cmap=plt.get_cmap( 'YlOrRd' ) )\n",
      "plt.show()"
     ],
     "language": "python",
     "metadata": {},
     "outputs": [
      {
       "metadata": {},
       "output_type": "display_data",
       "png": "[encoded data removed]",
       "text": [
        "<matplotlib.figure.Figure at 0x108ae79d0>"
       ]
      }
     ],
     "prompt_number": 30
    },
    {
     "cell_type": "code",
     "collapsed": false,
     "input": [],
     "language": "python",
     "metadata": {},
     "outputs": [],
     "prompt_number": 30
    },
    {
     "cell_type": "code",
     "collapsed": false,
     "input": [],
     "language": "python",
     "metadata": {},
     "outputs": [],
     "prompt_number": 30
    }
   ],
   "metadata": {}
  }
 ]
}