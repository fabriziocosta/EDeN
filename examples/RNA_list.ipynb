{
 "metadata": {
  "name": "",
  "signature": "sha256:0b11b8ad76e9f0e6a79bfb042b1818ebc9e5dca23a606fb6a7b102ad9dc2fd43"
 },
 "nbformat": 3,
 "nbformat_minor": 0,
 "worksheets": [
  {
   "cells": [
    {
     "cell_type": "markdown",
     "metadata": {},
     "source": [
      "#RNA family characterization\n",
      "\n",
      "Application scenario: we want to build a predictive model for a set of ncRNAs using multiple converters, each with a different weight: e.g. sequence information + structure information + condensed information"
     ]
    },
    {
     "cell_type": "markdown",
     "metadata": {},
     "source": [
      "prepare a function that composes all design actions over the original data"
     ]
    },
    {
     "cell_type": "code",
     "collapsed": false,
     "input": [
      "import itertools\n",
      "def join_pre_processes( data, pre_processes, weights):\n",
      "    if hasattr( data, '__iter__' ):\n",
      "        iterable = data\n",
      "    else: #if not then process url or file with fasta_to_fasta\n",
      "        from eden.modifier.fasta import fasta_to_fasta\n",
      "        iterable = fasta_to_fasta( data )\n",
      "    from eden import util\n",
      "    return util.join_pre_processes(iterable, pre_processes=pre_processes, weights=weights)"
     ],
     "language": "python",
     "metadata": {},
     "outputs": [],
     "prompt_number": 1
    },
    {
     "cell_type": "markdown",
     "metadata": {},
     "source": [
      "design pre processing functions"
     ]
    },
    {
     "cell_type": "markdown",
     "metadata": {},
     "source": [
      "1 suboptimal structures with rnashapes\n"
     ]
    },
    {
     "cell_type": "code",
     "collapsed": false,
     "input": [
      "def pre_process_rnashapes( iterable ):\n",
      "    from eden.converter.fasta import fasta_to_sequence\n",
      "    seqs = fasta_to_sequence(iterable)\n",
      "    \n",
      "    from eden.converter.rna.rnashapes import rnashapes_to_eden\n",
      "    graphs = rnashapes_to_eden( seqs, shape_type = 5, energy_range = 35, max_num = 3 )\n",
      "    return graphs"
     ],
     "language": "python",
     "metadata": {},
     "outputs": [],
     "prompt_number": 2
    },
    {
     "cell_type": "markdown",
     "metadata": {},
     "source": [
      "2 sequence information\n"
     ]
    },
    {
     "cell_type": "code",
     "collapsed": false,
     "input": [
      "def pre_process_fasta( iterable ):\n",
      "    from eden.converter.fasta import fasta_to_sequence\n",
      "    seqs = fasta_to_sequence(iterable)\n",
      "    \n",
      "    from eden.converter.fasta import sequence_to_eden\n",
      "    graphs = sequence_to_eden( seqs )\n",
      "    return graphs"
     ],
     "language": "python",
     "metadata": {},
     "outputs": [],
     "prompt_number": 3
    },
    {
     "cell_type": "markdown",
     "metadata": {},
     "source": [
      "3 structure information"
     ]
    },
    {
     "cell_type": "code",
     "collapsed": false,
     "input": [
      "def pre_process_structure( iterable ):\n",
      "    from eden.converter.fasta import fasta_to_sequence\n",
      "    seqs = fasta_to_sequence(iterable)\n",
      "    \n",
      "    from eden.converter.rna.rnashapes_struct import rnashapes_struct_to_eden\n",
      "    graphs = rnashapes_struct_to_eden(seqs, energy=True, shape=True, shape_type=5, energy_range=35, max_num=3)\n",
      "    return graphs"
     ],
     "language": "python",
     "metadata": {},
     "outputs": [],
     "prompt_number": 4
    },
    {
     "cell_type": "markdown",
     "metadata": {},
     "source": [
      "4 condensed information via contraction"
     ]
    },
    {
     "cell_type": "code",
     "collapsed": false,
     "input": [
      "def pre_process_contraction( iterable ):\n",
      "    from eden.converter.fasta import fasta_to_sequence\n",
      "    seqs = fasta_to_sequence(iterable)\n",
      "    \n",
      "    from eden.converter.rna.rnashapes import rnashapes_to_eden\n",
      "    graphs = rnashapes_to_eden( seqs, shape_type=5, energy_range=35, max_num=3 )\n",
      "    \n",
      "    #annotate in node attribute 'type' the incident edges' labels\n",
      "    from eden.modifier.graph import vertex_attributes\n",
      "    graphs = vertex_attributes.incident_edge_label(graphs, level=1, output_attribute='type', separator='.')\n",
      "    \n",
      "    from eden.modifier.graph.structure import contraction, contraction_modifier\n",
      "    label_modifier = contraction_modifier(attribute_in='type', attribute_out='label', reduction='set_categorical')\n",
      "    \n",
      "    #reduce all 'weight' attributes of contracted nodes using a sum to be written in the 'weight' attribute of the resulting graph \n",
      "    weight_modifier = contraction_modifier(attribute_in='weight', attribute_out='weight', reduction='sum')\n",
      "    modifiers = [label_modifier, weight_modifier]\n",
      "    \n",
      "    #contract the graph on the 'type' attribute\n",
      "    graphs = contraction(graphs, contraction_attribute='type', modifiers=modifiers)\n",
      "    \n",
      "    return graphs"
     ],
     "language": "python",
     "metadata": {},
     "outputs": [],
     "prompt_number": 5
    },
    {
     "cell_type": "markdown",
     "metadata": {},
     "source": [
      "combine them in a single converter"
     ]
    },
    {
     "cell_type": "code",
     "collapsed": false,
     "input": [
      "def pre_process( data ):\n",
      "    weights = [0.5, 0.1, 0.1, 0.3]\n",
      "    pre_processes = [pre_process_rnashapes, pre_process_fasta, pre_process_structure, pre_process_contraction]\n",
      "    return join_pre_processes( data, pre_processes, weights)"
     ],
     "language": "python",
     "metadata": {},
     "outputs": [],
     "prompt_number": 6
    },
    {
     "cell_type": "markdown",
     "metadata": {},
     "source": [
      "acquire data from online resource"
     ]
    },
    {
     "cell_type": "code",
     "collapsed": false,
     "input": [
      "def rfam_uri(family_id):\n",
      "    return 'http://rfam.xfam.org/family/%s/alignment?acc=%s&format=fastau&download=0'%(family_id,family_id)\n",
      "def rfam_uri(family_id):\n",
      "    return '%s.fa'%(family_id)"
     ],
     "language": "python",
     "metadata": {},
     "outputs": [],
     "prompt_number": 7
    },
    {
     "cell_type": "code",
     "collapsed": false,
     "input": [
      "rfam_id = 'RF02275' #Hammerhead_HH9\n",
      "rfam_id = 'RF00005' #tRNA\n",
      "rfam_id = 'RF00871' #microRNA mir-689"
     ],
     "language": "python",
     "metadata": {},
     "outputs": [],
     "prompt_number": 8
    },
    {
     "cell_type": "code",
     "collapsed": false,
     "input": [
      "\n",
      "from eden.util import read\n",
      "for line in read(rfam_uri( rfam_id )):\n",
      "    print line\n",
      "    \n",
      "from eden.converter.fasta import fasta_to_sequence \n",
      "seqs = fasta_to_sequence(rfam_uri( rfam_id ))\n",
      "from eden.converter.rna.rnashapes_struct import rnashapes_struct_to_eden\n",
      "graphs = rnashapes_struct_to_eden(seqs, energy=True, shape=True, shape_type=5, energy_range=35, max_num=3)\n",
      "  \n",
      "for seq in seqs: print seq\n"
     ],
     "language": "python",
     "metadata": {},
     "outputs": [
      {
       "output_type": "stream",
       "stream": "stdout",
       "text": [
        ">AACN010819288.1/117-218\n",
        "\n",
        "CUCGGAUAGCCGGUCCCCCGCCGUCCCCGCCGGCGGGCCGCCGCGCGCGCCCCGCGUGGC\n",
        "\n",
        "GCGGCGUGCCCCGCCGCGCGUCGGGACCGGGGUCCGGUGCGG\n",
        "\n",
        ">AADA01177523.1/996-1112\n",
        "\n",
        "CUCGGAUAGCCGGUCCCCCGCCUGUCCCCGCCGGCGGGCCGCCCCCCCCCACCGCGCCCC\n",
        "\n",
        "GCGCGCGGGGAGGAAGGAGCGUGCCCCGCCGCGCGCCGGGACCGGGGUCCGGUGCGG\n",
        "\n",
        ">AAFC03111591.1/15582-15475\n",
        "\n",
        "CUCGGAUAGCCGGUCCCCCGCCGUCCCCGCCGGCGGGCCGUCGCCCGCGUCCCCCGGGGC\n",
        "\n",
        "GCGGCGCGGCGCGCCCCCGCCGCGCGUCGGGACCGGGGUCCGGUGCGG\n",
        "\n",
        ">AAHY01001107.1/19160-19268\n",
        "\n",
        "CCCGGAUAGCCGGGUCCCCGUCCGUCCCCGCUCGGCGGGGUCCCCGCGUCCUCCCCGCAG\n",
        "\n",
        "CGGCGCGGGGUCUCCCCCCGCCGGGCGUCGGGACCGGGAUCCGGUGCGG\n",
        "\n",
        ">AAHY01125806.1/13609-13501\n",
        "\n",
        "CCCGGAUAGCCGGGUCCCCGUCCGUCCCCGCUCGGCGGGGUCCCCGCGUCGUCCCCGCGG\n",
        "\n",
        "CGGCGCGGGGUCUCCCCCCGCCGGGCGUCGGGACCGGGGUCCGGUGCGG\n",
        "\n",
        ">AAPY01395355.1/323-425\n",
        "\n",
        "CUCGGAUAGCCGGUCCCCCCCCGUCCCCGCCGGCGGGCCGUCGGGCGCGCUCCGGCGCGU\n",
        "\n",
        "GCGGCGCGCCCCCGCCGCGCGUCGGGACCGGGGUCCGGUGCGG\n",
        "\n",
        ">AAQQ01713916.1/980-1077\n",
        "\n",
        "CCCGGAUAGCCGGUCUCCCGCCGUCCCCGCCGGCGGGCCGCCUCGCGUCUGCGCGCGGGG\n",
        "\n",
        "CGUGUCCCGCCGCGCGUCGGGACCGGGGUCUGGUGCGG\n",
        "\n",
        ">AAXL01001682.1/144-34\n",
        "\n",
        "CCCGGAUAGCCGGCUCCCCGUCCGUCCCCGUCCGGCGGGUCCCCGCCUCGUCGCCCCCCC\n",
        "\n",
        "GGGUGCGGGGCGGGUCCCCCCGCCGGGCGUCGGGACCGGGGUCCGGUGCGG\n",
        "\n",
        ">AAYZ01378573.1/1169-1278\n",
        "\n",
        "CUCGGAUAGCCGGUCCCCCGCCGUCCCCGCCGGCGGCCGCGCCGCGCGUCCGUCUCCCGG\n",
        "\n",
        "GCGGCGCGCGACGCGCCCCCGCCGCGCGUCGGGACCGGGGUCCGGUGCGG\n",
        "\n",
        ">AB171103.1/675-770\n",
        "\n",
        "CUCGGAUAGCCGGUCCCCCGCCUGUCCCCGCCGGCGGGCCGCCUCGCCCCGCGCGGGGCG\n",
        "\n",
        "UGCCCCGCCGCGCGCCGGGACCGGGGUCCGGUGCGG\n",
        "\n",
        ">ABDC01458638.1/1882-1993\n",
        "\n",
        "CUCGGAUAGCCGGUCCCCCGCCUGUCCCCGCCGGCGGGCCGCGGCGCGCGCGCCCCCGUU\n",
        "\n",
        "GGCGCGUCGCCGGCGGGUCCCCGCCGCGCGUCGGGACCGGGGUCCGGUGCGG\n",
        "\n",
        ">AAGV020832469.1/322-421\n",
        "\n",
        "CUCGGAUAGCCGGUCCCCCGCCGUCCCCGCCGGCGGGCCGUCGCGCGCGCCCGCGCGCGU\n",
        "\n",
        "GGCGCCCCCCGCCGCGCGUCGGGACCGGGGUCCGGUGCGG\n",
        "\n",
        ">AAKN02059111.1/1843-1730\n",
        "\n",
        "CUCGGAUAGCCGGUCCCCCGCUCGUCCCCGCCGGCGCGGGGCCGUCGCUCCCCCGCGCCC\n",
        "\n",
        "CCCGCGCGGGGUCGGCGCGUCCCCGCCGCGCGUCGGGACCGGGGUCCGGUGCGG\n",
        "\n",
        "('>AACN010819288.1/117-218', 'CUCGGAUAGCCGGUCCCCCGCCGUCCCCGCCGGCGGGCCGCCGCGCGCGCCCCGCGUGGCGCGGCGUGCCCCGCCGCGCGUCGGGACCGGGGUCCGGUGCGG')"
       ]
      },
      {
       "output_type": "stream",
       "stream": "stdout",
       "text": [
        "\n",
        "('>AADA01177523.1/996-1112', 'CUCGGAUAGCCGGUCCCCCGCCUGUCCCCGCCGGCGGGCCGCCCCCCCCCACCGCGCCCCGCGCGCGGGGAGGAAGGAGCGUGCCCCGCCGCGCGCCGGGACCGGGGUCCGGUGCGG')\n",
        "('>AAFC03111591.1/15582-15475', 'CUCGGAUAGCCGGUCCCCCGCCGUCCCCGCCGGCGGGCCGUCGCCCGCGUCCCCCGGGGCGCGGCGCGGCGCGCCCCCGCCGCGCGUCGGGACCGGGGUCCGGUGCGG')\n",
        "('>AAHY01001107.1/19160-19268', 'CCCGGAUAGCCGGGUCCCCGUCCGUCCCCGCUCGGCGGGGUCCCCGCGUCCUCCCCGCAGCGGCGCGGGGUCUCCCCCCGCCGGGCGUCGGGACCGGGAUCCGGUGCGG')\n",
        "('>AAHY01125806.1/13609-13501', 'CCCGGAUAGCCGGGUCCCCGUCCGUCCCCGCUCGGCGGGGUCCCCGCGUCGUCCCCGCGGCGGCGCGGGGUCUCCCCCCGCCGGGCGUCGGGACCGGGGUCCGGUGCGG')\n",
        "('>AAPY01395355.1/323-425', 'CUCGGAUAGCCGGUCCCCCCCCGUCCCCGCCGGCGGGCCGUCGGGCGCGCUCCGGCGCGUGCGGCGCGCCCCCGCCGCGCGUCGGGACCGGGGUCCGGUGCGG')\n",
        "('>AAQQ01713916.1/980-1077', 'CCCGGAUAGCCGGUCUCCCGCCGUCCCCGCCGGCGGGCCGCCUCGCGUCUGCGCGCGGGGCGUGUCCCGCCGCGCGUCGGGACCGGGGUCUGGUGCGG')\n",
        "('>AAXL01001682.1/144-34', 'CCCGGAUAGCCGGCUCCCCGUCCGUCCCCGUCCGGCGGGUCCCCGCCUCGUCGCCCCCCCGGGUGCGGGGCGGGUCCCCCCGCCGGGCGUCGGGACCGGGGUCCGGUGCGG')\n",
        "('>AAYZ01378573.1/1169-1278', 'CUCGGAUAGCCGGUCCCCCGCCGUCCCCGCCGGCGGCCGCGCCGCGCGUCCGUCUCCCGGGCGGCGCGCGACGCGCCCCCGCCGCGCGUCGGGACCGGGGUCCGGUGCGG')\n",
        "('>AB171103.1/675-770', 'CUCGGAUAGCCGGUCCCCCGCCUGUCCCCGCCGGCGGGCCGCCUCGCCCCGCGCGGGGCGUGCCCCGCCGCGCGCCGGGACCGGGGUCCGGUGCGG')\n",
        "('>ABDC01458638.1/1882-1993', 'CUCGGAUAGCCGGUCCCCCGCCUGUCCCCGCCGGCGGGCCGCGGCGCGCGCGCCCCCGUUGGCGCGUCGCCGGCGGGUCCCCGCCGCGCGUCGGGACCGGGGUCCGGUGCGG')\n",
        "('>AAGV020832469.1/322-421', 'CUCGGAUAGCCGGUCCCCCGCCGUCCCCGCCGGCGGGCCGUCGCGCGCGCCCGCGCGCGUGGCGCCCCCCGCCGCGCGUCGGGACCGGGGUCCGGUGCGG')\n",
        "('>AAKN02059111.1/1843-1730', 'CUCGGAUAGCCGGUCCCCCGCUCGUCCCCGCCGGCGCGGGGCCGUCGCUCCCCCGCGCCCCCCGCGCGGGGUCGGCGCGUCCCCGCCGCGCGUCGGGACCGGGGUCCGGUGCGG')\n"
       ]
      }
     ],
     "prompt_number": 9
    },
    {
     "cell_type": "code",
     "collapsed": false,
     "input": [
      "graphs_list, weights = pre_process(rfam_uri( rfam_id ))\n",
      "for i,graphs in enumerate(graphs_list):\n",
      "    print i, len(list(graphs))"
     ],
     "language": "python",
     "metadata": {},
     "outputs": [
      {
       "output_type": "stream",
       "stream": "stdout",
       "text": [
        "0 "
       ]
      },
      {
       "output_type": "stream",
       "stream": "stdout",
       "text": [
        "13\n",
        "1 13\n",
        "2 "
       ]
      },
      {
       "output_type": "stream",
       "stream": "stdout",
       "text": [
        "13\n",
        "3 "
       ]
      },
      {
       "output_type": "stream",
       "stream": "stdout",
       "text": [
        "13\n"
       ]
      }
     ],
     "prompt_number": 10
    },
    {
     "cell_type": "markdown",
     "metadata": {},
     "source": [
      "use EDeN vectorizer to transform the graph instances into sparse vectors"
     ]
    },
    {
     "cell_type": "code",
     "collapsed": false,
     "input": [
      "def describe(X):\n",
      "    print 'Instances: %d ; Features: %d with an avg of %d features per instance' % (X.shape[0], X.shape[1],  X.getnnz()/X.shape[0])\n",
      "    \n",
      "def list_model(uri, pre_process):\n",
      "\n",
      "    from eden.graph import ListVectorizer\n",
      "    vectorizer = ListVectorizer( complexity=1 )\n",
      "\n",
      "    graphs_list, weights = pre_process( uri )\n",
      "    X1 = vectorizer.transform( graphs_list, weights=weights )\n",
      "    describe(X1)\n",
      "    \n",
      "    from eden.modifier.fasta import fasta_to_fasta, shuffle_modifier\n",
      "    graphs_list, weights = pre_process( fasta_to_fasta( uri , modifier=shuffle_modifier, times=5, order=2) )\n",
      "    X2 = vectorizer.transform( graphs_list, weights=weights )\n",
      "    describe(X2)\n",
      "    \n",
      "    from eden.util import fit_estimator\n",
      "    estimator = fit_estimator( positive_data_matrix=X1, negative_data_matrix=X2, cv=10 )\n",
      "    \n",
      "    return estimator, vectorizer"
     ],
     "language": "python",
     "metadata": {},
     "outputs": []
    },
    {
     "cell_type": "code",
     "collapsed": false,
     "input": [
      "#%%time\n",
      "estimator_str, vectorizer_str = list_model(rfam_uri( rfam_id ), pre_process)"
     ],
     "language": "python",
     "metadata": {},
     "outputs": [
      {
       "output_type": "stream",
       "stream": "stdout",
       "text": [
        "(13, 1048577)\n",
        "(13, 1048577)\n",
        "(13, 1048577)"
       ]
      },
      {
       "output_type": "stream",
       "stream": "stdout",
       "text": [
        "\n",
        "(13, 1048577)\n",
        "(13, 1048577)"
       ]
      },
      {
       "output_type": "stream",
       "stream": "stdout",
       "text": [
        "\n",
        "(13, 1048577)\n",
        "Instances: 13 ; Features: 1048577 with an avg of 314 features per instance\n",
        "(65, 1048577)"
       ]
      },
      {
       "output_type": "stream",
       "stream": "stdout",
       "text": [
        "\n",
        "(65, 1048577)\n",
        "(65, 1048577)"
       ]
      }
     ]
    },
    {
     "cell_type": "code",
     "collapsed": false,
     "input": [],
     "language": "python",
     "metadata": {},
     "outputs": []
    }
   ],
   "metadata": {}
  }
 ]
}